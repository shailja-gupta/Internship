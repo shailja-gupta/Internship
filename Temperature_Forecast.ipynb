{
 "cells": [
  {
   "cell_type": "code",
   "execution_count": null,
   "id": "abaa5e09",
   "metadata": {},
   "outputs": [],
   "source": [
    "import pandas as pd\n",
    "import numpy as np\n",
    "import seaborn as sns\n",
    "import matplotlib.pyplot as plt\n",
    "%matplotlib inline\n",
    "import warnings\n",
    "warnings.filterwarnings('ignore')"
   ]
  },
  {
   "cell_type": "code",
   "execution_count": null,
   "id": "62705065",
   "metadata": {},
   "outputs": [],
   "source": [
    "temp_dataset=pd.read_csv('https://raw.githubusercontent.com/dsrscientist/Dataset2/main/temperature.csv')\n",
    "temp_dataset"
   ]
  },
  {
   "cell_type": "code",
   "execution_count": null,
   "id": "c5f4dd93",
   "metadata": {},
   "outputs": [],
   "source": [
    "temp_dataset.shape"
   ]
  },
  {
   "cell_type": "code",
   "execution_count": null,
   "id": "98d006a7",
   "metadata": {},
   "outputs": [],
   "source": [
    "temp_dataset.info()"
   ]
  },
  {
   "cell_type": "code",
   "execution_count": null,
   "id": "86256363",
   "metadata": {},
   "outputs": [],
   "source": [
    "temp_dataset.dtypes"
   ]
  },
  {
   "cell_type": "code",
   "execution_count": null,
   "id": "9f92fb9c",
   "metadata": {},
   "outputs": [],
   "source": [
    "temp_dataset.describe()"
   ]
  },
  {
   "cell_type": "code",
   "execution_count": null,
   "id": "d47d23df",
   "metadata": {},
   "outputs": [],
   "source": [
    "temp_dataset.isnull().sum()"
   ]
  },
  {
   "cell_type": "code",
   "execution_count": null,
   "id": "0cc4eddb",
   "metadata": {},
   "outputs": [],
   "source": [
    "temp_dataset.duplicated().sum()"
   ]
  },
  {
   "cell_type": "code",
   "execution_count": null,
   "id": "d95c8943",
   "metadata": {},
   "outputs": [],
   "source": [
    "# check any whitespace, NA and '-' exist in dataset\n",
    "temp_dataset.isin(['','NA','-']).sum().any()"
   ]
  },
  {
   "cell_type": "code",
   "execution_count": null,
   "id": "7ffd739a",
   "metadata": {},
   "outputs": [],
   "source": [
    "# Converting date datatypes and spliting date into date, month, year\n",
    "temp_dataset['Date']=pd.to_datetime(temp_dataset['Date'])\n",
    "temp_dataset['Day']=temp_dataset['Date'].apply(lambda x:x.day)\n",
    "temp_dataset['Month']=temp_dataset['Date'].apply(lambda x:x.month)\n",
    "temp_dataset['Year']=temp_dataset['Date'].apply(lambda x:x.year)\n",
    "temp_dataset.head()"
   ]
  },
  {
   "cell_type": "code",
   "execution_count": null,
   "id": "be3b5b3b",
   "metadata": {},
   "outputs": [],
   "source": [
    "# Plotting histogram for present_Tmax and present_Tmin variables\n",
    "plt.figure(figsize=(12,5))\n",
    "plt.subplot(1,2,1)\n",
    "sns.histplot(temp_dataset['Present_Tmax'],kde=True)\n",
    "plt.subplot(1,2,2)\n",
    "sns.histplot(temp_dataset['Present_Tmin'],kde=True)\n",
    "plt.show()"
   ]
  },
  {
   "cell_type": "code",
   "execution_count": null,
   "id": "4a1e2e64",
   "metadata": {},
   "outputs": [],
   "source": [
    "#Lets find out maximum and minimum Temperature over period\n",
    "print('Present Maximum Temperature Maxima in year 2013-2016 :',temp_dataset.Present_Tmax.max())\n",
    "print('Present Maximum Temperature Minima in year 2013-2016 :',temp_dataset.Present_Tmax.min())\n",
    "print(' Average Present Maximum Temperature in year 2013-2016 :',temp_dataset.Present_Tmax.mean())\n",
    "print('='*100)\n",
    "print('Present Minimum Temperature Maxima in year 2013-2016 :',temp_dataset.Present_Tmin.max())\n",
    "print('Present Minimum Temperature Minima in year 2013-2016 :',temp_dataset.Present_Tmin.min())\n",
    "print('Average Present Minimum Temperature in year 2013-2016 :',temp_dataset.Present_Tmin.mean())"
   ]
  },
  {
   "cell_type": "code",
   "execution_count": null,
   "id": "c5824180",
   "metadata": {},
   "outputs": [],
   "source": [
    "#Checking where actually these minima and maxima occur\n",
    "pd.set_option('display.max_columns', None)\n",
    "temp_dataset.loc[temp_dataset.Present_Tmax==temp_dataset.Present_Tmax.max()]"
   ]
  },
  {
   "cell_type": "code",
   "execution_count": null,
   "id": "72c14634",
   "metadata": {},
   "outputs": [],
   "source": [
    "temp_dataset.loc[temp_dataset.Present_Tmax==temp_dataset.Present_Tmax.min()]"
   ]
  },
  {
   "cell_type": "code",
   "execution_count": null,
   "id": "309cd9ad",
   "metadata": {},
   "outputs": [],
   "source": [
    "temp_dataset.loc[temp_dataset.Present_Tmin==temp_dataset.Present_Tmin.max()]"
   ]
  },
  {
   "cell_type": "code",
   "execution_count": null,
   "id": "ff757a69",
   "metadata": {},
   "outputs": [],
   "source": [
    "temp_dataset.loc[temp_dataset.Present_Tmin==temp_dataset.Present_Tmin.max()]"
   ]
  },
  {
   "cell_type": "code",
   "execution_count": null,
   "id": "c35a3a2b",
   "metadata": {},
   "outputs": [],
   "source": [
    "#Line Plot of Present Temperature Maximum over each Station\n",
    "plt.figure(figsize=(20,10))\n",
    "sns.set_style('whitegrid')\n",
    "sns.pointplot(x='station', y='Present_Tmax', data=temp_dataset, hue='Year',join=False)\n",
    "plt.title('Present Maximum Temperature Per Year for each Station', fontsize=22, fontweight='bold')\n",
    "plt.xlabel('Station ID',{'fontsize':15,'fontweight' :'bold'})\n",
    "plt.ylabel('Present Maximum Temperature',{'fontsize':15,'fontweight' :'bold'})\n",
    "plt.xticks(fontsize=16,fontweight ='bold')\n",
    "plt.yticks(fontsize=16,fontweight ='bold')\n",
    "plt.legend(fontsize=14)"
   ]
  },
  {
   "cell_type": "code",
   "execution_count": null,
   "id": "bb51b2b9",
   "metadata": {},
   "outputs": [],
   "source": [
    "#Line Plot of Present Temperature Minimum over each Station\n",
    "plt.figure(figsize=(20,10))\n",
    "sns.set_style('whitegrid')\n",
    "sns.pointplot(x='station', y='Present_Tmin', data=temp_dataset, hue='Year',join=False)\n",
    "plt.title('Present Minimum Temperature Per Year for each Station', fontsize=22, fontweight='bold')\n",
    "plt.xlabel('Station ID',{'fontsize':15,'fontweight' :'bold'})\n",
    "plt.ylabel('Present Minimum Temperature',{'fontsize':15,'fontweight' :'bold'})\n",
    "plt.xticks(fontsize=16,fontweight ='bold')\n",
    "plt.yticks(fontsize=16,fontweight ='bold')\n",
    "plt.legend(fontsize=14)"
   ]
  },
  {
   "cell_type": "code",
   "execution_count": null,
   "id": "0a9cccbb",
   "metadata": {},
   "outputs": [],
   "source": [
    "sns.barplot(x=temp_dataset['Month'], y=temp_dataset['Solar radiation'])"
   ]
  },
  {
   "cell_type": "code",
   "execution_count": null,
   "id": "4166ff91",
   "metadata": {},
   "outputs": [],
   "source": [
    "sns.violinplot(x=temp_dataset['Next_Tmax'], y=temp_dataset['Solar radiation'])"
   ]
  },
  {
   "cell_type": "markdown",
   "id": "526b2dc4",
   "metadata": {},
   "source": [
    "# Exploration of target variable"
   ]
  },
  {
   "cell_type": "code",
   "execution_count": null,
   "id": "dfb094ae",
   "metadata": {},
   "outputs": [],
   "source": [
    "# Plotting histogram for target variables\n",
    "plt.figure(figsize=(12,5))\n",
    "plt.subplot(1,2,1)\n",
    "sns.histplot(temp_dataset['Next_Tmax'],kde=True,color='b')\n",
    "plt.subplot(1,2,2)\n",
    "sns.histplot(temp_dataset['Next_Tmin'],kde=True,color='r')\n",
    "plt.show()"
   ]
  },
  {
   "cell_type": "code",
   "execution_count": null,
   "id": "01b4ea10",
   "metadata": {},
   "outputs": [],
   "source": [
    "# Visualizing the realtion between station and target variables\n",
    "plt.figure(figsize=(16,12))\n",
    "plt.subplot(2,1,1)\n",
    "sns.boxplot(temp_dataset['station'],temp_dataset['Next_Tmax'],data=temp_dataset,palette=\"bright\")\n",
    "plt.title('Next Maximum Temperature for each Station', fontsize=22, fontweight='bold')\n",
    "plt.subplot(2,1,2)\n",
    "sns.boxplot(temp_dataset['station'],temp_dataset['Next_Tmin'],data=temp_dataset,palette=\"bright\")\n",
    "plt.title('Next Minimum Temperature for each Station', fontsize=22, fontweight='bold')\n",
    "plt.show()"
   ]
  },
  {
   "cell_type": "code",
   "execution_count": null,
   "id": "90ff2cf2",
   "metadata": {},
   "outputs": [],
   "source": [
    "# Comparing Next day maximnum temperature and next day average cloud cover\n",
    "\n",
    "plt.figure(figsize=(18,16))\n",
    "plt.suptitle('Next_Tmax Vs Next-day average cloud cover',fontsize=14, fontweight='bold')\n",
    "\n",
    "plt.subplot(2,2,1)\n",
    "plt.title('Next day max Temperature Vs Next-day 1st 6-hour cloud cover',fontsize=14, fontweight='bold')\n",
    "sns.scatterplot(x='LDAPS_CC1',y='Next_Tmax',data=temp_dataset,color=\"blue\")\n",
    "plt.xticks(fontsize=12,fontweight ='bold')\n",
    "plt.yticks(fontsize=12,fontweight ='bold')\n",
    "\n",
    "plt.subplot(2,2,2)\n",
    "plt.title('Next day max Temperature Vs next-day 2nd 6-hour cloud cover',fontsize=14, fontweight='bold')\n",
    "sns.scatterplot(x='LDAPS_CC2',y='Next_Tmax',data=temp_dataset,color='purple')\n",
    "plt.xticks(fontsize=12,fontweight ='bold')\n",
    "plt.yticks(fontsize=12,fontweight ='bold')\n",
    "\n",
    "plt.subplot(2,2,3)\n",
    "plt.title('Next day max Temperature Vs next-day 3rd 6-hour cloud cover',fontsize=14, fontweight='bold')\n",
    "sns.scatterplot(x='LDAPS_CC3',y='Next_Tmax',data=temp_dataset,color='green')\n",
    "plt.xticks(fontsize=12,fontweight ='bold')\n",
    "plt.yticks(fontsize=12,fontweight ='bold')\n",
    "\n",
    "plt.subplot(2,2,4)\n",
    "plt.title('Next day max Temperature Vs next_day 4th 6-hour cloud cover',fontsize=14, fontweight='bold')\n",
    "sns.scatterplot(x='LDAPS_CC4',y='Next_Tmax',data=temp_dataset,color=\"red\")\n",
    "plt.xticks(fontsize=12,fontweight ='bold')\n",
    "plt.yticks(fontsize=12,fontweight ='bold')\n",
    "plt.show()"
   ]
  },
  {
   "cell_type": "code",
   "execution_count": null,
   "id": "d3f6c2cc",
   "metadata": {},
   "outputs": [],
   "source": [
    "# Comparing Next day minimum temperature and next day average cloud cover\n",
    "\n",
    "plt.figure(figsize=(18,16))\n",
    "plt.suptitle('Next_Tmin Vs Next-day average cloud cover',fontsize=20, fontweight='bold')\n",
    "\n",
    "plt.subplot(2,2,1)\n",
    "plt.title('Next day min Temperature Vs Next-day 1st 6-hour cloud cover',fontsize=14, fontweight='bold')\n",
    "sns.scatterplot(x='LDAPS_CC1',y='Next_Tmin',data=temp_dataset,color=\"g\")\n",
    "plt.xticks(fontsize=12,fontweight ='bold')\n",
    "plt.yticks(fontsize=12,fontweight ='bold')\n",
    "\n",
    "plt.subplot(2,2,2)\n",
    "plt.title('Next day min Temperature Vs next-day 2nd 6-hour cloud cover',fontsize=14, fontweight='bold')\n",
    "sns.scatterplot(x='LDAPS_CC2',y='Next_Tmin',data=temp_dataset,color='b')\n",
    "plt.xticks(fontsize=12,fontweight ='bold')\n",
    "plt.yticks(fontsize=12,fontweight ='bold')\n",
    "\n",
    "plt.subplot(2,2,3)\n",
    "plt.title('Next day min Temperature Vs next-day 3rd 6-hour cloud cover',fontsize=14, fontweight='bold')\n",
    "sns.scatterplot(x='LDAPS_CC3',y='Next_Tmin',data=temp_dataset,color='violet')\n",
    "plt.xticks(fontsize=12,fontweight ='bold')\n",
    "plt.yticks(fontsize=12,fontweight ='bold')\n",
    "\n",
    "plt.subplot(2,2,4)\n",
    "plt.title('Next day min Temperature Vs next_day 4th 6-hour cloud cover',fontsize=14, fontweight='bold')\n",
    "sns.scatterplot(x='LDAPS_CC4',y='Next_Tmin',data=temp_dataset,color=\"r\")\n",
    "plt.xticks(fontsize=12,fontweight ='bold')\n",
    "plt.yticks(fontsize=12,fontweight ='bold')\n",
    "plt.show()"
   ]
  },
  {
   "cell_type": "code",
   "execution_count": null,
   "id": "b14200fd",
   "metadata": {},
   "outputs": [],
   "source": [
    "# Comparing Next day minimum temperature and next day average cloud cover\n",
    "\n",
    "plt.figure(figsize=(18,16))\n",
    "plt.suptitle('Solar Radiation Vs Next-day average cloud cover',fontsize=20, fontweight='bold')\n",
    "\n",
    "plt.subplot(2,2,1)\n",
    "plt.title('Solar radiation Vs Next-day 1st 6-hour cloud cover',fontsize=14, fontweight='bold')\n",
    "sns.scatterplot(x='LDAPS_CC1',y='Solar radiation',data=temp_dataset,color=\"g\")\n",
    "plt.xticks(fontsize=12,fontweight ='bold')\n",
    "plt.yticks(fontsize=12,fontweight ='bold')\n",
    "\n",
    "plt.subplot(2,2,2)\n",
    "plt.title('Solar radiation Vs next-day 2nd 6-hour cloud cover',fontsize=14, fontweight='bold')\n",
    "sns.scatterplot(x='LDAPS_CC2',y='Solar radiation',data=temp_dataset,color='b')\n",
    "plt.xticks(fontsize=12,fontweight ='bold')\n",
    "plt.yticks(fontsize=12,fontweight ='bold')\n",
    "\n",
    "plt.subplot(2,2,3)\n",
    "plt.title('Solar radiation Vs next-day 3rd 6-hour cloud cover',fontsize=14, fontweight='bold')\n",
    "sns.scatterplot(x='LDAPS_CC3',y='Solar radiation',data=temp_dataset,color='violet')\n",
    "plt.xticks(fontsize=12,fontweight ='bold')\n",
    "plt.yticks(fontsize=12,fontweight ='bold')\n",
    "\n",
    "plt.subplot(2,2,4)\n",
    "plt.title('Solar radiation Vs next_day 4th 6-hour cloud cover',fontsize=14, fontweight='bold')\n",
    "sns.scatterplot(x='LDAPS_CC4',y='Solar radiation',data=temp_dataset,color=\"r\")\n",
    "plt.xticks(fontsize=12,fontweight ='bold')\n",
    "plt.yticks(fontsize=12,fontweight ='bold')\n",
    "plt.show()"
   ]
  },
  {
   "cell_type": "code",
   "execution_count": null,
   "id": "58de2aef",
   "metadata": {},
   "outputs": [],
   "source": [
    "# Comparing Next day minimum temperature and next day average cloud cover\n",
    "\n",
    "plt.figure(figsize=(18,16))\n",
    "plt.suptitle('Solar Radiation Vs Next-day Precipitation',fontsize=20, fontweight='bold')\n",
    "\n",
    "plt.subplot(2,2,1)\n",
    "plt.title('Solar radiation Vs Next-day 1st 6-hour Precipitation',fontsize=14, fontweight='bold')\n",
    "sns.scatterplot(y='LDAPS_PPT1',x='Solar radiation',data=temp_dataset,color=\"grey\")\n",
    "plt.xticks(fontsize=12,fontweight ='bold')\n",
    "plt.yticks(fontsize=12,fontweight ='bold')\n",
    "\n",
    "plt.subplot(2,2,2)\n",
    "plt.title('Solar radiation Vs next-day 2nd 6-hour Precipitation',fontsize=14, fontweight='bold')\n",
    "sns.scatterplot(y='LDAPS_PPT2',x='Solar radiation',data=temp_dataset,color='brown')\n",
    "plt.xticks(fontsize=12,fontweight ='bold')\n",
    "plt.yticks(fontsize=12,fontweight ='bold')\n",
    "\n",
    "plt.subplot(2,2,3)\n",
    "plt.title('Solar radiation Vs next-day 3rd 6-hour Precipitation',fontsize=14, fontweight='bold')\n",
    "sns.scatterplot(y='LDAPS_PPT3',x='Solar radiation',data=temp_dataset,color='blue')\n",
    "plt.xticks(fontsize=12,fontweight ='bold')\n",
    "plt.yticks(fontsize=12,fontweight ='bold')\n",
    "\n",
    "plt.subplot(2,2,4)\n",
    "plt.title('Solar radiation Vs next_day 4th 6-hour Precipitation',fontsize=14, fontweight='bold')\n",
    "sns.scatterplot(y='LDAPS_PPT4',x='Solar radiation',data=temp_dataset,color=\"orange\")\n",
    "plt.xticks(fontsize=12,fontweight ='bold')\n",
    "plt.yticks(fontsize=12,fontweight ='bold')\n",
    "plt.show()"
   ]
  },
  {
   "cell_type": "code",
   "execution_count": null,
   "id": "9291c45d",
   "metadata": {},
   "outputs": [],
   "source": [
    "plt.figure(figsize=(15,10))\n",
    "sns.barplot(x=temp_dataset['Month'], y=temp_dataset['LDAPS_PPT1'])"
   ]
  },
  {
   "cell_type": "code",
   "execution_count": null,
   "id": "c6da9282",
   "metadata": {},
   "outputs": [],
   "source": [
    "# Comparing Next day minimum temperature and next day average cloud cover\n",
    "\n",
    "plt.figure(figsize=(18,16))\n",
    "plt.suptitle('Temperature Vs Month',fontsize=20, fontweight='bold')\n",
    "\n",
    "plt.subplot(2,2,1)\n",
    "plt.title('Present_Tmax Vs Month',fontsize=14, fontweight='bold')\n",
    "axes=sns.lineplot(y='Present_Tmax',x='Month',data=temp_dataset)\n",
    "axes.set_ylim([0, 35])\n",
    "plt.xticks(fontsize=12,fontweight ='bold')\n",
    "plt.yticks(fontsize=12,fontweight ='bold')\n",
    "\n",
    "plt.subplot(2,2,2)\n",
    "plt.title('Present_Tmin Vs Month',fontsize=14, fontweight='bold')\n",
    "axes=sns.barplot(y='Present_Tmin',x='Month',data=temp_dataset)\n",
    "axes.set_ylim([0, 35])\n",
    "plt.xticks(fontsize=12,fontweight ='bold')\n",
    "plt.yticks(fontsize=12,fontweight ='bold')\n",
    "\n",
    "plt.subplot(2,2,3)\n",
    "plt.title('Next_Tmax Vs Month',fontsize=14, fontweight='bold')\n",
    "axes=sns.barplot(y='Next_Tmax',x='Month',data=temp_dataset)\n",
    "axes.set_ylim([0, 35])\n",
    "plt.xticks(fontsize=12,fontweight ='bold')\n",
    "plt.yticks(fontsize=12,fontweight ='bold')\n",
    "\n",
    "plt.subplot(2,2,4)\n",
    "plt.title('Next_Tmin Vs Month',fontsize=14, fontweight='bold')\n",
    "axes=sns.barplot(y='Next_Tmin',x='Month',data=temp_dataset)\n",
    "axes.set_ylim([0, 35])\n",
    "plt.xticks(fontsize=12,fontweight ='bold')\n",
    "plt.yticks(fontsize=12,fontweight ='bold')\n",
    "plt.show()"
   ]
  },
  {
   "cell_type": "code",
   "execution_count": null,
   "id": "9179b12c",
   "metadata": {},
   "outputs": [],
   "source": [
    "# Comparing Next day minimum temperature and next day average cloud cover\n",
    "\n",
    "plt.figure(figsize=(16,14))\n",
    "plt.suptitle('Next-day Precipitation Month Wise',fontsize=20, fontweight='bold')\n",
    "\n",
    "plt.subplot(2,2,1)\n",
    "plt.title('Next-day 1st 6-hour Precipitation Monthwise',fontsize=14, fontweight='bold')\n",
    "sns.barplot(x=temp_dataset['Month'], y=temp_dataset['LDAPS_PPT1'],data=temp_dataset,color=\"grey\")\n",
    "plt.xticks(fontsize=12,fontweight ='bold')\n",
    "plt.yticks(fontsize=12,fontweight ='bold')\n",
    "\n",
    "plt.subplot(2,2,2)\n",
    "plt.title('Next-day 2nd 6-hour Precipitation Monthwise',fontsize=14, fontweight='bold')\n",
    "sns.barplot(x=temp_dataset['Month'], y=temp_dataset['LDAPS_PPT2'],data=temp_dataset,color='brown')\n",
    "plt.xticks(fontsize=12,fontweight ='bold')\n",
    "plt.yticks(fontsize=12,fontweight ='bold')\n",
    "\n",
    "plt.subplot(2,2,3)\n",
    "plt.title('Next-day 3rd 6-hour Precipitation Monthwise',fontsize=14, fontweight='bold')\n",
    "sns.barplot(x=temp_dataset['Month'], y=temp_dataset['LDAPS_PPT3'],data=temp_dataset,color='blue')\n",
    "plt.xticks(fontsize=12,fontweight ='bold')\n",
    "plt.yticks(fontsize=12,fontweight ='bold')\n",
    "\n",
    "plt.subplot(2,2,4)\n",
    "plt.title('Next_day 4th 6-hour Precipitation Monthwise',fontsize=14, fontweight='bold')\n",
    "sns.barplot(x=temp_dataset['Month'], y=temp_dataset['LDAPS_PPT4'],data=temp_dataset,color=\"orange\")\n",
    "plt.xticks(fontsize=12,fontweight ='bold')\n",
    "plt.yticks(fontsize=12,fontweight ='bold')\n",
    "plt.show()"
   ]
  },
  {
   "cell_type": "code",
   "execution_count": null,
   "id": "00a44d40",
   "metadata": {},
   "outputs": [],
   "source": [
    "plt.figure(figsize=(8,6))\n",
    "sns.histplot(temp_dataset['Solar radiation'],kde=True,color='y')\n",
    "print('Minimum Solar radiation :',temp_dataset['Solar radiation'].min())\n",
    "print('Maximum Solar radiation :',temp_dataset['Solar radiation'].max())\n",
    "print('Average Solar radiation :',temp_dataset['Solar radiation'].mean())"
   ]
  },
  {
   "cell_type": "code",
   "execution_count": null,
   "id": "dc1529d2",
   "metadata": {},
   "outputs": [],
   "source": [
    "sns.set_palette('husl')\n",
    "plt.figure(figsize=(10,8))\n",
    "sns.barplot(y=temp_dataset['Solar radiation'], x=temp_dataset['Month'])\n",
    "plt.title('Solar radiation VS Month',fontsize=18, fontweight='bold')\n",
    "plt.show()"
   ]
  },
  {
   "cell_type": "code",
   "execution_count": null,
   "id": "2a5b570f",
   "metadata": {},
   "outputs": [],
   "source": [
    "plt.figure(figsize=(8,6))\n",
    "sns.histplot(temp_dataset['LDAPS_WS'],kde=True,color='limegreen')\n",
    "plt.title('Wind Speed Variation')\n",
    "print('Minimum Wind Speed :',temp_dataset['LDAPS_WS'].min(),'m/s')\n",
    "print('Maximum Wind Speed :',temp_dataset['LDAPS_WS'].max(),'m/s')\n",
    "print('Average Wind Speed :',temp_dataset['LDAPS_WS'].mean(),'m/s')"
   ]
  },
  {
   "cell_type": "code",
   "execution_count": null,
   "id": "9c32df9e",
   "metadata": {},
   "outputs": [],
   "source": [
    "plt.figure(figsize=(15,6))\n",
    "plt.subplot(1,2,1)\n",
    "sns.histplot(temp_dataset['LDAPS_RHmax'],kde=True,color='r')\n",
    "plt.title('Maximum relative humidity (%)',fontsize=14, fontweight='bold')\n",
    "plt.subplot(1,2,2)\n",
    "sns.histplot(temp_dataset['LDAPS_RHmin'],kde=True,color='r')\n",
    "plt.title('Minimum relative humidity (%)',fontsize=14, fontweight='bold')\n",
    "print('Minimum RHmax is {} % and Maximum RHmax is {} %'.format(temp_dataset['LDAPS_RHmax'].min(),temp_dataset['LDAPS_RHmax'].max()))\n",
    "print('Minimum RHmin is {} % and Maximum RHmin is {} %'.format(temp_dataset['LDAPS_RHmin'].min(),temp_dataset['LDAPS_RHmin'].max()))"
   ]
  },
  {
   "cell_type": "code",
   "execution_count": null,
   "id": "f82a95ae",
   "metadata": {},
   "outputs": [],
   "source": [
    "plt.figure(figsize=(15,6))\n",
    "plt.subplot(1,2,1)\n",
    "sns.histplot(temp_dataset['LDAPS_Tmax_lapse'],kde=True,color='purple')\n",
    "plt.title('Maximum Tmax applied lapse rate',fontsize=14, fontweight='bold')\n",
    "plt.subplot(1,2,2)\n",
    "sns.histplot(temp_dataset['LDAPS_Tmin_lapse'],kde=True,color='green')\n",
    "plt.title('Minimum Tmin applied lapse rate',fontsize=14, fontweight='bold')\n",
    "print('Minimum Tmax applied lapse rate is {} (Â°C) and Maximum Tmax applied lapse rate is {} (Â°C)'.format(temp_dataset['LDAPS_Tmax_lapse'].min(),temp_dataset['LDAPS_Tmax_lapse'].max()))\n",
    "print('Minimum Tmin is applied lapse rate {} (Â°C) and Maximum Tmin applied lapse rate is {} (Â°C)'.format(temp_dataset['LDAPS_Tmin_lapse'].min(),temp_dataset['LDAPS_Tmin_lapse'].max()))\n"
   ]
  },
  {
   "cell_type": "code",
   "execution_count": null,
   "id": "a253fdb7",
   "metadata": {},
   "outputs": [],
   "source": [
    "plt.figure(figsize=(8,7))\n",
    "sns.histplot(temp_dataset['LDAPS_LH'],kde=True,color='blue')\n",
    "plt.title('Next day average Latent Heat Flux',fontsize=18, fontweight='bold')\n",
    "print('Minimum Latent Heat Flux :',temp_dataset['LDAPS_LH'].min())\n",
    "print('Maximum Latent Heat Flux :',temp_dataset['LDAPS_LH'].max())\n",
    "print('Average Latent Heat Flux :',temp_dataset['LDAPS_LH'].mean())"
   ]
  },
  {
   "cell_type": "code",
   "execution_count": null,
   "id": "58710c02",
   "metadata": {},
   "outputs": [],
   "source": [
    "plt.figure(figsize=(8,7))\n",
    "sns.barplot(y=temp_dataset['LDAPS_LH'], x=temp_dataset['Month'])\n",
    "plt.title('Next day average Latent Heat Flux VS Month',fontsize=18, fontweight='bold')\n",
    "plt.show()"
   ]
  },
  {
   "cell_type": "markdown",
   "id": "51084328",
   "metadata": {},
   "source": [
    "# Encoding catagorical data"
   ]
  },
  {
   "cell_type": "code",
   "execution_count": null,
   "id": "c37b1d38",
   "metadata": {},
   "outputs": [],
   "source": [
    "# Sort columns by datatypes\n",
    "temp_dataset.columns.to_series().groupby(temp_dataset.dtypes).groups"
   ]
  },
  {
   "cell_type": "code",
   "execution_count": null,
   "id": "64f7a974",
   "metadata": {},
   "outputs": [],
   "source": [
    "# Droping unnecessary columns\n",
    "temp_dataset.drop(['Date'], axis=1, inplace=True)"
   ]
  },
  {
   "cell_type": "markdown",
   "id": "46a01bb8",
   "metadata": {},
   "source": [
    "# Outlier detection and removal"
   ]
  },
  {
   "cell_type": "code",
   "execution_count": null,
   "id": "9625bd6f",
   "metadata": {},
   "outputs": [],
   "source": [
    "temp_dataset.shape"
   ]
  },
  {
   "cell_type": "code",
   "execution_count": null,
   "id": "6de3f20b",
   "metadata": {},
   "outputs": [],
   "source": [
    "plt.figure(figsize=(20,45),facecolor='white')\n",
    "plotnumber=1\n",
    "\n",
    "for column in temp_dataset:\n",
    "    if plotnumber<=29:\n",
    "        ax=plt.subplot(10,3,plotnumber)\n",
    "        sns.boxplot(temp_dataset[column],color='g')\n",
    "        plt.xlabel(column,fontsize=20)\n",
    "    plotnumber+=1\n",
    "plt.tight_layout()\n",
    "plt.show()"
   ]
  },
  {
   "cell_type": "code",
   "execution_count": null,
   "id": "b967c913",
   "metadata": {},
   "outputs": [],
   "source": [
    "#Outliers removal using Zscore method\n",
    "from scipy.stats import zscore\n",
    "z = np.abs(zscore(temp_dataset))\n",
    "threshold = 3\n",
    "temp_dataset1 = temp_dataset[(z<3).all(axis = 1)]\n",
    "\n",
    "print (\"Shape of the dataframe before removing outliers: \", temp_dataset.shape)\n",
    "print (\"Shape of the dataframe after removing outliers: \", temp_dataset1.shape)\n",
    "print (\"Percentage of data loss post outlier removal: \", (temp_dataset.shape[0]-temp_dataset1.shape[0])/temp_dataset.shape[0]*100)\n",
    "\n"
   ]
  },
  {
   "cell_type": "code",
   "execution_count": null,
   "id": "1d2210a6",
   "metadata": {},
   "outputs": [],
   "source": [
    "temp_dataset=temp_dataset1.copy()"
   ]
  },
  {
   "cell_type": "code",
   "execution_count": null,
   "id": "23de7c39",
   "metadata": {},
   "outputs": [],
   "source": [
    "#Skewness of features\n",
    "\n",
    "plt.figure(figsize=(20,40))\n",
    "sns.set_palette('rainbow')\n",
    "plotnum=1\n",
    "for col in temp_dataset:\n",
    "    if plotnum<=29:\n",
    "        plt.subplot(10,3,plotnum)\n",
    "        sns.distplot(temp_dataset[col])\n",
    "        plt.xlabel(col,fontsize=20)\n",
    "    plotnum+=1\n",
    "plt.show()\n",
    "\n"
   ]
  },
  {
   "cell_type": "code",
   "execution_count": null,
   "id": "ba597d04",
   "metadata": {},
   "outputs": [],
   "source": [
    "temp_dataset.corr()"
   ]
  },
  {
   "cell_type": "code",
   "execution_count": null,
   "id": "3675815c",
   "metadata": {},
   "outputs": [],
   "source": [
    "plt.figure(figsize=(25,15))\n",
    "sns.heatmap(temp_dataset.corr(), vmin=-1, vmax=1, annot=True, square=True, fmt='0.3f', \n",
    "            annot_kws={'size':10}, cmap=\"gist_stern\")\n",
    "plt.xticks(fontsize=12)\n",
    "plt.yticks(fontsize=12)\n",
    "plt.show()"
   ]
  },
  {
   "cell_type": "code",
   "execution_count": null,
   "id": "79e4700e",
   "metadata": {},
   "outputs": [],
   "source": [
    "plt.figure(figsize = (18,6))\n",
    "df.corr()['Next_Tmax'].drop(['Next_Tmax']).sort_values(ascending=False).plot(kind='bar',color = 'purple')\n",
    "plt.xlabel('Features',fontsize=15,fontweight='bold')\n",
    "plt.ylabel('Next_Tmax',fontsize=15,fontweight='bold')\n",
    "plt.title('Correlation of features with Target Variable Next_Tmax',fontsize = 20,fontweight='bold')\n",
    "plt.show()"
   ]
  },
  {
   "cell_type": "code",
   "execution_count": null,
   "id": "19ec2c74",
   "metadata": {},
   "outputs": [],
   "source": [
    "plt.figure(figsize = (18,6))\n",
    "df.corr()['Next_Tmin'].drop(['Next_Tmin']).sort_values(ascending=False).plot(kind='bar',color = 'purple')\n",
    "plt.xlabel('Features',fontsize=15,fontweight='bold')\n",
    "plt.ylabel('Next_Tmin',fontsize=15,fontweight='bold')\n",
    "plt.title('Correlation of features with Target Variable Next_Tmin',fontsize = 20,fontweight='bold')\n",
    "plt.show()"
   ]
  },
  {
   "cell_type": "code",
   "execution_count": null,
   "id": "3f23eca4",
   "metadata": {},
   "outputs": [],
   "source": [
    "# Splitting data in target and dependent feature\n",
    "X = df.drop(['Next_Tmax'], axis =1)\n",
    "Y = df['Next_Tmax']"
   ]
  },
  {
   "cell_type": "code",
   "execution_count": null,
   "id": "033fa72a",
   "metadata": {},
   "outputs": [],
   "source": [
    "from sklearn.preprocessing import StandardScaler\n",
    "scaler= StandardScaler()\n",
    "X_scale = scaler.fit_transform(X)"
   ]
  },
  {
   "cell_type": "code",
   "execution_count": null,
   "id": "499a0b73",
   "metadata": {},
   "outputs": [],
   "source": [
    "#Checking Multicollinearity between features using variance_inflation_factor\n",
    "from statsmodels.stats.outliers_influence import variance_inflation_factor\n",
    "vif = pd.DataFrame()\n",
    "vif[\"VIF values\"] = [variance_inflation_factor(X_scale,i) for i in range(len(X.columns))]\n",
    "vif[\"Features\"] = X.columns\n",
    "vif"
   ]
  },
  {
   "cell_type": "code",
   "execution_count": null,
   "id": "24053332",
   "metadata": {},
   "outputs": [],
   "source": [
    "from sklearn.decomposition import PCA\n",
    "pca = PCA()\n",
    "#plot the graph to find the principal components\n",
    "x_pca = pca.fit_transform(X_scale)\n",
    "plt.figure(figsize=(10,10))\n",
    "plt.plot(np.cumsum(pca.explained_variance_ratio_), 'ro-')\n",
    "plt.xlabel('Number of Components')\n",
    "plt.ylabel('Variance %')\n",
    "plt.title('Explained variance Ratio')\n",
    "plt.grid()"
   ]
  },
  {
   "cell_type": "code",
   "execution_count": null,
   "id": "5cefdba2",
   "metadata": {},
   "outputs": [],
   "source": [
    "pca_new = PCA(n_components=15)\n",
    "x_new = pca_new.fit_transform(X_scale)"
   ]
  },
  {
   "cell_type": "code",
   "execution_count": null,
   "id": "1cf01653",
   "metadata": {},
   "outputs": [],
   "source": [
    "principle_x=pd.DataFrame(x_new,columns=np.arange(15))"
   ]
  },
  {
   "cell_type": "code",
   "execution_count": null,
   "id": "23073b56",
   "metadata": {},
   "outputs": [],
   "source": [
    "from sklearn.linear_model import LinearRegression\n",
    "from sklearn.linear_model import LogisticRegression\n",
    "from sklearn.ensemble import RandomForestRegressor\n",
    "from sklearn.tree import DecisionTreeRegressor\n",
    "import xgboost as xgb\n",
    "from sklearn.ensemble import ExtraTreesRegressor\n",
    "from sklearn.svm import SVR\n",
    "from sklearn.ensemble import AdaBoostRegressor\n",
    "from sklearn.ensemble import  GradientBoostingRegressor\n",
    "from sklearn.neighbors import KNeighborsRegressor\n",
    "from sklearn.metrics import mean_squared_error, mean_absolute_error\n",
    "from sklearn.metrics import r2_score\n",
    "from sklearn.model_selection import train_test_split\n",
    "from sklearn.linear_model import  Ridge\n",
    "from sklearn.linear_model import  Lasso\n",
    "from xgboost import XGBRegressor"
   ]
  },
  {
   "cell_type": "code",
   "execution_count": null,
   "id": "dc42878e",
   "metadata": {},
   "outputs": [],
   "source": [
    "X_train, X_test, Y_train, Y_test = train_test_split(principle_x, Y, random_state=42, test_size=.33)\n",
    "print('Training feature matrix size:',X_train.shape)\n",
    "print('Training target vector size:',Y_train.shape)\n",
    "print('Test feature matrix size:',X_test.shape)\n",
    "print('Test target vector size:',Y_test.shape)"
   ]
  },
  {
   "cell_type": "code",
   "execution_count": null,
   "id": "a3dcb2ca",
   "metadata": {},
   "outputs": [],
   "source": [
    "from sklearn.linear_model import LinearRegression\n",
    "from sklearn.metrics import r2_score\n",
    "maxR2_score=0\n",
    "maxRS=0\n",
    "for i in range(1,500):\n",
    "    X_train, X_test, Y_train, Y_test = train_test_split(X_scale, Y, random_state=i, test_size=.33)\n",
    "    lin_reg=LinearRegression()\n",
    "    lin_reg.fit(X_train,Y_train)\n",
    "    y_pred=lin_reg.predict(X_test)\n",
    "    R2=r2_score(Y_test,y_pred)\n",
    "    if R2>maxR2_score:\n",
    "        maxR2_score=R2\n",
    "        maxRS=i\n",
    "print('Best R2 Score is', maxR2_score ,'on Random_state', maxRS)"
   ]
  },
  {
   "cell_type": "code",
   "execution_count": null,
   "id": "8de22ae8",
   "metadata": {},
   "outputs": [],
   "source": [
    "#Linear Regression Base Model\n",
    "X_train, X_test, Y_train, Y_test = train_test_split(X_scale, Y, random_state=108, test_size=.33)\n",
    "lin_reg=LinearRegression()\n",
    "lin_reg.fit(X_train,Y_train)\n",
    "lin_reg.score(X_train,Y_train)\n",
    "y_pred=lin_reg.predict(X_test)\n",
    "print('\\033[1m'+'Predicted Wins:'+'\\033[0m\\n',y_pred)\n",
    "print('\\n')\n",
    "print('\\033[1m'+'Actual Wins:'+'\\033[0m\\n',Y_test)"
   ]
  },
  {
   "cell_type": "code",
   "execution_count": null,
   "id": "af947ec5",
   "metadata": {},
   "outputs": [],
   "source": [
    "print('\\033[1m'+' Error :'+'\\033[0m')\n",
    "print('Mean absolute error :', mean_absolute_error(Y_test,y_pred))\n",
    "print('Mean squared error :', mean_squared_error(Y_test,y_pred))\n",
    "print('Root Mean Squared Error:', np.sqrt(mean_squared_error(Y_test,y_pred)))\n",
    "print('\\n')\n",
    "from sklearn.metrics import r2_score\n",
    "print('\\033[1m'+' R2 Score :'+'\\033[0m')\n",
    "print(r2_score(Y_test,y_pred,multioutput='variance_weighted'))"
   ]
  },
  {
   "cell_type": "code",
   "execution_count": null,
   "id": "a8258edd",
   "metadata": {},
   "outputs": [],
   "source": [
    "# Cross Validation\n",
    "from sklearn.model_selection import cross_val_score\n",
    "score = cross_val_score(lin_reg, X_scale, Y, cv =3)\n",
    "print('\\033[1m'+'Cross Validation Score :',lin_reg,\":\"+'\\033[0m\\n')\n",
    "print(\"Mean CV Score :\",score.mean())"
   ]
  },
  {
   "cell_type": "code",
   "execution_count": null,
   "id": "79873bf4",
   "metadata": {},
   "outputs": [],
   "source": [
    "from sklearn.ensemble import BaggingRegressor\n",
    "rf = RandomForestRegressor()\n",
    "dtc = DecisionTreeRegressor()\n",
    "XT = ExtraTreesRegressor()\n",
    "BR = BaggingRegressor()\n",
    "adb=AdaBoostRegressor()\n",
    "gradb=GradientBoostingRegressor()\n",
    "xgb=XGBRegressor()\n",
    "model = [rf,XT,dtc,adb,gradb,xgb]\n",
    "\n",
    "for m in model:\n",
    "    m.fit(X_train,Y_train)\n",
    "    m.score(X_train,Y_train)\n",
    "    y_pred = m.predict(X_test)\n",
    "    print('\\n')                                        \n",
    "    print('\\033[1m'+' Error of ', m, ':' +'\\033[0m')\n",
    "    print('Mean absolute error :', mean_absolute_error(Y_test,y_pred))\n",
    "    print('Mean squared error :', mean_squared_error(Y_test,y_pred))\n",
    "    print('Root Mean Squared Error:', np.sqrt(mean_squared_error(Y_test,y_pred)))\n",
    "    print('\\n')\n",
    "\n",
    "    print('\\033[1m'+' R2 Score :'+'\\033[0m')\n",
    "    print(r2_score(Y_test,y_pred)) "
   ]
  },
  {
   "cell_type": "code",
   "execution_count": null,
   "id": "9990e61d",
   "metadata": {},
   "outputs": [],
   "source": [
    "# Cross Validation\n",
    "model = [rf,XT,dtc,adb,gradb,xgb]\n",
    "\n",
    "for m in model:\n",
    "    score = cross_val_score(m, X_scale, Y, cv =5)\n",
    "    print('\\n')\n",
    "    print('\\033[1m'+'Cross Validation Score :',m,\":\"+'\\033[0m\\n')\n",
    "    print(\"Mean CV Score :\",score.mean())\n",
    "    print('==============================================================================================================')\n"
   ]
  },
  {
   "cell_type": "code",
   "execution_count": null,
   "id": "9d49c0fa",
   "metadata": {},
   "outputs": [],
   "source": []
  }
 ],
 "metadata": {
  "kernelspec": {
   "display_name": "Python 3 (ipykernel)",
   "language": "python",
   "name": "python3"
  },
  "language_info": {
   "codemirror_mode": {
    "name": "ipython",
    "version": 3
   },
   "file_extension": ".py",
   "mimetype": "text/x-python",
   "name": "python",
   "nbconvert_exporter": "python",
   "pygments_lexer": "ipython3",
   "version": "3.9.13"
  }
 },
 "nbformat": 4,
 "nbformat_minor": 5
}
