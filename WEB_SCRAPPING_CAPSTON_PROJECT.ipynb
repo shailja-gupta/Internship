{
 "cells": [
  {
   "cell_type": "code",
   "execution_count": null,
   "id": "5040482b",
   "metadata": {},
   "outputs": [],
   "source": [
    "!pip install selenium"
   ]
  },
  {
   "cell_type": "code",
   "execution_count": null,
   "id": "534a935a",
   "metadata": {},
   "outputs": [],
   "source": [
    "import selenium\n",
    "import pandas as pd\n",
    "from selenium import webdriver\n",
    "import warnings\n",
    "warnings.filterwarnings('ignore')\n",
    "from selenium.webdriver.common.by import By\n",
    "import time\n",
    "import csv"
   ]
  },
  {
   "cell_type": "code",
   "execution_count": 65,
   "id": "0746763e",
   "metadata": {},
   "outputs": [],
   "source": [
    "driver=webdriver.Chrome()"
   ]
  },
  {
   "cell_type": "code",
   "execution_count": 66,
   "id": "13dff2cd",
   "metadata": {},
   "outputs": [],
   "source": [
    "driver.get('http://olx.in')"
   ]
  },
  {
   "cell_type": "code",
   "execution_count": 67,
   "id": "85722b1c",
   "metadata": {},
   "outputs": [],
   "source": [
    "Empty=City=driver.find_element(By.XPATH,\"/html/body/div/div/header/div/div/div[2]/div/div/div[1]/div/div[1]/input\")\n",
    "City.send_keys('Bangalore')\n"
   ]
  },
  {
   "cell_type": "code",
   "execution_count": 68,
   "id": "1f438084",
   "metadata": {},
   "outputs": [],
   "source": [
    "City=driver.find_element(By.XPATH,\"/html/body/div/div/header/div/div/div[2]/div/div/div[1]/div/div[1]/input\")\n",
    "City.send_keys('Bangalore')"
   ]
  },
  {
   "cell_type": "code",
   "execution_count": 69,
   "id": "e844fe88",
   "metadata": {},
   "outputs": [],
   "source": [
    "Location=driver.find_element(By.CLASS_NAME,\"_3_Rdm\")\n",
    "Location.click()"
   ]
  },
  {
   "cell_type": "code",
   "execution_count": 70,
   "id": "817d5f45",
   "metadata": {},
   "outputs": [],
   "source": [
    "Rent_house=driver.find_element(By.XPATH,\"/html/body/div/div/header/div/div/div[2]/div/div/div[2]/div/form/fieldset/div/input\")\n",
    "Rent_house.send_keys('House for rent')"
   ]
  },
  {
   "cell_type": "code",
   "execution_count": 71,
   "id": "31890e7d",
   "metadata": {},
   "outputs": [],
   "source": [
    "Search_button=driver.find_element(By.CLASS_NAME,\"_3jHVg\")\n",
    "Search_button.click()"
   ]
  },
  {
   "cell_type": "code",
   "execution_count": 72,
   "id": "22dd1e88",
   "metadata": {},
   "outputs": [],
   "source": [
    "Load_more=driver.find_element(By.CLASS_NAME,\"_38O09\")\n",
    "Load_more.click()"
   ]
  },
  {
   "cell_type": "code",
   "execution_count": 73,
   "id": "9148d390",
   "metadata": {},
   "outputs": [],
   "source": [
    "Address=[]\n",
    "Price=[]\n",
    "Squre_fit=[]\n",
    "BHK=[]"
   ]
  },
  {
   "cell_type": "code",
   "execution_count": 74,
   "id": "8bc35fab",
   "metadata": {},
   "outputs": [],
   "source": [
    "BHK_apt=driver.find_elements(By.XPATH,'//span[@class=\"_2poNJ\"]')\n",
    "for i in BHK_apt[0:355]:\n",
    "    bhk=i.text\n",
    "    BHK.append(bhk) \n",
    "    \n",
    "House_Price=driver.find_elements(By.XPATH,'//span[@class=\"_2Ks63\"]')\n",
    "for i in House_Price[0:355]:\n",
    "    price=i.text\n",
    "    Price.append(price)\n",
    "    \n",
    "Squre=driver.find_elements(By.XPATH,'//span[@class=\"YBbhy\"]')\n",
    "for i in Squre[0:355]:\n",
    "    squre=i.text\n",
    "    Squre_fit.append(squre)\n",
    "\n",
    "Area_Address=driver.find_elements(By.XPATH,'//span[@class=\"_2VQu4\"]')\n",
    "for i in Area_Address[0:355]:\n",
    "    address=i.text\n",
    "    Address.append(address)\n"
   ]
  },
  {
   "cell_type": "code",
   "execution_count": 75,
   "id": "19f03d93",
   "metadata": {},
   "outputs": [
    {
     "name": "stdout",
     "output_type": "stream",
     "text": [
      "40 40 40 40\n"
     ]
    }
   ],
   "source": [
    "print(len(Address),len(Squre_fit),len(Price), len(BHK))"
   ]
  },
  {
   "cell_type": "code",
   "execution_count": 76,
   "id": "ffc32faf",
   "metadata": {},
   "outputs": [
    {
     "data": {
      "text/html": [
       "<div>\n",
       "<style scoped>\n",
       "    .dataframe tbody tr th:only-of-type {\n",
       "        vertical-align: middle;\n",
       "    }\n",
       "\n",
       "    .dataframe tbody tr th {\n",
       "        vertical-align: top;\n",
       "    }\n",
       "\n",
       "    .dataframe thead th {\n",
       "        text-align: right;\n",
       "    }\n",
       "</style>\n",
       "<table border=\"1\" class=\"dataframe\">\n",
       "  <thead>\n",
       "    <tr style=\"text-align: right;\">\n",
       "      <th></th>\n",
       "      <th>Address</th>\n",
       "      <th>BHK</th>\n",
       "      <th>Price</th>\n",
       "      <th>Squr</th>\n",
       "    </tr>\n",
       "  </thead>\n",
       "  <tbody>\n",
       "    <tr>\n",
       "      <th>0</th>\n",
       "      <td>BANNAPPA COLONY, BENGALURU</td>\n",
       "      <td>House for rent</td>\n",
       "      <td>₹ 30,000</td>\n",
       "      <td>2 Bds - 2 Ba - 9 ft2</td>\n",
       "    </tr>\n",
       "    <tr>\n",
       "      <th>1</th>\n",
       "      <td>TEACHERS COLONY, BENGALURU</td>\n",
       "      <td>1 bhk ground floor house for rent</td>\n",
       "      <td>₹ 13,000</td>\n",
       "      <td>1 Bds - 1 Ba - 800 ft2</td>\n",
       "    </tr>\n",
       "    <tr>\n",
       "      <th>2</th>\n",
       "      <td>HSR LAYOUT, BENGALURU</td>\n",
       "      <td>L2bhk house for rent in hsr layout</td>\n",
       "      <td>₹ 22,000</td>\n",
       "      <td>2 Bds - 2 Ba - 1200 ft2</td>\n",
       "    </tr>\n",
       "    <tr>\n",
       "      <th>3</th>\n",
       "      <td>KASAVANAHALLI, BENGALURU</td>\n",
       "      <td>3 bhk duplex house for rent in kasavanahalli</td>\n",
       "      <td>₹ 50,000</td>\n",
       "      <td>3 Bds - 3 Ba - 1600 ft2</td>\n",
       "    </tr>\n",
       "    <tr>\n",
       "      <th>4</th>\n",
       "      <td>HSR LAYOUT SECTOR 7, BENGALURU</td>\n",
       "      <td>1bhk house for rent in hsr layout</td>\n",
       "      <td>₹ 25,000</td>\n",
       "      <td>1 Bds - 1 Ba - 1200 ft2</td>\n",
       "    </tr>\n",
       "    <tr>\n",
       "      <th>5</th>\n",
       "      <td>ULSOOR, BENGALURU</td>\n",
       "      <td>2BHK house for rent in Ulsoor, bazaar street</td>\n",
       "      <td>₹ 12,000</td>\n",
       "      <td>2 Bds - 1 Ba - 550 ft2</td>\n",
       "    </tr>\n",
       "    <tr>\n",
       "      <th>6</th>\n",
       "      <td>HSR LAYOUT, BENGALURU</td>\n",
       "      <td>5 BHK luxury house for rent</td>\n",
       "      <td>₹ 3,50,000</td>\n",
       "      <td>4+ Bds - 4+ Ba - 1800 ft2</td>\n",
       "    </tr>\n",
       "    <tr>\n",
       "      <th>7</th>\n",
       "      <td>MADIVALA, BENGALURU</td>\n",
       "      <td>2 bedroom house for rent near madiwala</td>\n",
       "      <td>₹ 16,000</td>\n",
       "      <td>2 Bds - 2 Ba - 1000 ft2</td>\n",
       "    </tr>\n",
       "    <tr>\n",
       "      <th>8</th>\n",
       "      <td>EJIPURA, BENGALURU</td>\n",
       "      <td>House for Rent 25k and 1Lakh Advance</td>\n",
       "      <td>₹ 25,000</td>\n",
       "      <td>2 Bds - 2 Ba - 2730 ft2</td>\n",
       "    </tr>\n",
       "    <tr>\n",
       "      <th>9</th>\n",
       "      <td>HSR LAYOUT, BENGALURU</td>\n",
       "      <td>2-BHK residential house for Rent in HSR Sector 3</td>\n",
       "      <td>₹ 27,000</td>\n",
       "      <td>2 Bds - 2 Ba - 1000 ft2</td>\n",
       "    </tr>\n",
       "    <tr>\n",
       "      <th>10</th>\n",
       "      <td>ULSOOR, BENGALURU</td>\n",
       "      <td>1bhk house for rent or lease</td>\n",
       "      <td>₹ 12,000</td>\n",
       "      <td>1 Bds - 1 Ba - 500 ft2</td>\n",
       "    </tr>\n",
       "    <tr>\n",
       "      <th>11</th>\n",
       "      <td>HSR LAYOUT SECTOR 7, BENGALURU</td>\n",
       "      <td>2bhk house for rent 20k in HSR layout sector 7</td>\n",
       "      <td>₹ 20,000</td>\n",
       "      <td>2 Bds - 2 Ba - 1200 ft2</td>\n",
       "    </tr>\n",
       "    <tr>\n",
       "      <th>12</th>\n",
       "      <td>ANNASANDRAPALYA EXTENSION, BENGALURU</td>\n",
       "      <td>1bhk house for rent at Vibhuthipura Annasandra...</td>\n",
       "      <td>₹ 15,000</td>\n",
       "      <td>1 Bds - 1 Ba - 700 ft2</td>\n",
       "    </tr>\n",
       "    <tr>\n",
       "      <th>13</th>\n",
       "      <td>HSR LAYOUT, BENGALURU</td>\n",
       "      <td>2bhk indipendent house for rent 25k in HSR layout</td>\n",
       "      <td>₹ 25,000</td>\n",
       "      <td>2 Bds - 2 Ba - 1300 ft2</td>\n",
       "    </tr>\n",
       "    <tr>\n",
       "      <th>14</th>\n",
       "      <td>ULSOOR, BENGALURU</td>\n",
       "      <td>Duplex 3BHK house for rent in Ulsoor</td>\n",
       "      <td>₹ 35,000</td>\n",
       "      <td>3 Bds - 3 Ba - 1800 ft2</td>\n",
       "    </tr>\n",
       "    <tr>\n",
       "      <th>15</th>\n",
       "      <td>UDAY NAGAR, BENGALURU</td>\n",
       "      <td>House for rent</td>\n",
       "      <td>₹ 22,000</td>\n",
       "      <td>2 Bds - 2 Ba - 900 ft2</td>\n",
       "    </tr>\n",
       "    <tr>\n",
       "      <th>16</th>\n",
       "      <td>EJIPURA VIVEKA NAGAR, BENGALURU</td>\n",
       "      <td>House for rent</td>\n",
       "      <td>₹ 9,000</td>\n",
       "      <td>1 Bds - 1 Ba - 19 ft2</td>\n",
       "    </tr>\n",
       "    <tr>\n",
       "      <th>17</th>\n",
       "      <td>SUDDAGUNTEPALYA, BENGALURU</td>\n",
       "      <td>1 BHK House for rent available</td>\n",
       "      <td>₹ 13,000</td>\n",
       "      <td>1 Bds - 1 Ba - 2600 ft2</td>\n",
       "    </tr>\n",
       "    <tr>\n",
       "      <th>18</th>\n",
       "      <td>MARATHAHALLI, BENGALURU</td>\n",
       "      <td>1bhk house for rent in Maratahahalli near spic...</td>\n",
       "      <td>₹ 20,000</td>\n",
       "      <td>1 Bds - 1 Ba - 600 ft2</td>\n",
       "    </tr>\n",
       "    <tr>\n",
       "      <th>19</th>\n",
       "      <td>NEW THIPPASANDRA, BENGALURU</td>\n",
       "      <td>1RK HOUSE FOR RENT IN NEW THIPPSANDRA</td>\n",
       "      <td>₹ 8,500</td>\n",
       "      <td>1 Bds - 1 Ba - 220 ft2</td>\n",
       "    </tr>\n",
       "    <tr>\n",
       "      <th>20</th>\n",
       "      <td>MANGAMMANAPALYA, BENGALURU</td>\n",
       "      <td>2BHK house for Rent at Mangammanapalya</td>\n",
       "      <td>₹ 15,000</td>\n",
       "      <td>2 Bds - 2 Ba - 750 ft2</td>\n",
       "    </tr>\n",
       "    <tr>\n",
       "      <th>21</th>\n",
       "      <td>HSR LAYOUT, BENGALURU</td>\n",
       "      <td>2 BHK HOUSE FOR RENT 14 K IN HSR LAYOUT SECTOR 7</td>\n",
       "      <td>₹ 14,000</td>\n",
       "      <td>2 Bds - 2 Ba - 700 ft2</td>\n",
       "    </tr>\n",
       "    <tr>\n",
       "      <th>22</th>\n",
       "      <td>A NARAYANAPURA, BENGALURU</td>\n",
       "      <td>House for Rent (2BHK)</td>\n",
       "      <td>₹ 19,000</td>\n",
       "      <td>2 Bds - 2 Ba - 750 ft2</td>\n",
       "    </tr>\n",
       "    <tr>\n",
       "      <th>23</th>\n",
       "      <td>HSR LAYOUT, BENGALURU</td>\n",
       "      <td>1bhk house for rent 12k in Hsr layout</td>\n",
       "      <td>₹ 12,000</td>\n",
       "      <td>1 Bds - 1 Ba - 600 ft2</td>\n",
       "    </tr>\n",
       "    <tr>\n",
       "      <th>24</th>\n",
       "      <td>INDIRA NAGAR, BENGALURU</td>\n",
       "      <td>3 BHK DUPLEX INDEPENDENT HOUSE FOR RENT</td>\n",
       "      <td>₹ 70,000</td>\n",
       "      <td>3 Bds - 3 Ba - 1800 ft2</td>\n",
       "    </tr>\n",
       "    <tr>\n",
       "      <th>25</th>\n",
       "      <td>HSR LAYOUT, BENGALURU</td>\n",
       "      <td>2 BHK HOUSE FOR RENT 15 K IN HSR LAYOUT SECTOR 7</td>\n",
       "      <td>₹ 15,000</td>\n",
       "      <td>2 Bds - 1 Ba - 700 ft2</td>\n",
       "    </tr>\n",
       "    <tr>\n",
       "      <th>26</th>\n",
       "      <td>KORAMANGALA, BENGALURU</td>\n",
       "      <td>Single bedroom house for rent in kormangala</td>\n",
       "      <td>₹ 20,000</td>\n",
       "      <td>1 Bds - 2 Ba - 600 ft2</td>\n",
       "    </tr>\n",
       "    <tr>\n",
       "      <th>27</th>\n",
       "      <td>BELLANDUR, BENGALURU</td>\n",
       "      <td>1BHK 17K HOUSE FOR RENT IN KASAVANAHALLI</td>\n",
       "      <td>₹ 17,000</td>\n",
       "      <td>1 Bds - 1 Ba - 750 ft2</td>\n",
       "    </tr>\n",
       "    <tr>\n",
       "      <th>28</th>\n",
       "      <td>HSR LAYOUT, BENGALURU</td>\n",
       "      <td>2bhk house for rent in Hsr layout 7th sector n...</td>\n",
       "      <td>₹ 19,000</td>\n",
       "      <td>2 Bds - 2 Ba - 900 ft2</td>\n",
       "    </tr>\n",
       "    <tr>\n",
       "      <th>29</th>\n",
       "      <td>HSR LAYOUT, BENGALURU</td>\n",
       "      <td>1bhk house for rent 14k only in Hsr layout 7th...</td>\n",
       "      <td>₹ 14,000</td>\n",
       "      <td>1 Bds - 1 Ba - 600 ft2</td>\n",
       "    </tr>\n",
       "    <tr>\n",
       "      <th>30</th>\n",
       "      <td>HBR LAYOUT, BENGALURU</td>\n",
       "      <td>Lavish 4Bhk Pent House For Rent In HBR Layout ...</td>\n",
       "      <td>₹ 70,000</td>\n",
       "      <td>4 Bds - 4 Ba - 3000 ft2</td>\n",
       "    </tr>\n",
       "    <tr>\n",
       "      <th>31</th>\n",
       "      <td>KANAKA NAGAR, BENGALURU</td>\n",
       "      <td>2BHK House for Rent 3rd floor</td>\n",
       "      <td>₹ 14,000</td>\n",
       "      <td>2 Bds - 2 Ba - 1000 ft2</td>\n",
       "    </tr>\n",
       "    <tr>\n",
       "      <th>32</th>\n",
       "      <td>SHANTHI LAYOUT, BENGALURU</td>\n",
       "      <td>2 BHK House For rent</td>\n",
       "      <td>₹ 18,000</td>\n",
       "      <td>2 Bds - 1 Ba - 900 ft2</td>\n",
       "    </tr>\n",
       "    <tr>\n",
       "      <th>33</th>\n",
       "      <td>NRI LAYOUT, BENGALURU</td>\n",
       "      <td>House for rent Bachelor's or family of maximum...</td>\n",
       "      <td>₹ 8,000</td>\n",
       "      <td>1 Bds - 1 Ba - 150 ft2</td>\n",
       "    </tr>\n",
       "    <tr>\n",
       "      <th>34</th>\n",
       "      <td>AMRITA NAGAR, BENGALURU</td>\n",
       "      <td>1BHK Semi Furniture House for Rent</td>\n",
       "      <td>₹ 10,000</td>\n",
       "      <td>1 Bds - 1 Ba - 600 ft2</td>\n",
       "    </tr>\n",
       "    <tr>\n",
       "      <th>35</th>\n",
       "      <td>HBR LAYOUT, BENGALURU</td>\n",
       "      <td>Independent duplex 3 BHK house for Rent cum Le...</td>\n",
       "      <td>₹ 25,00,000</td>\n",
       "      <td>3 Bds - 3 Ba - 1300 ft2</td>\n",
       "    </tr>\n",
       "    <tr>\n",
       "      <th>36</th>\n",
       "      <td>KALKERE HORAMAVU, BENGALURU</td>\n",
       "      <td>House for rent 2 bhk</td>\n",
       "      <td>₹ 20,000</td>\n",
       "      <td>2 Bds - 2 Ba - 1000 ft2</td>\n",
       "    </tr>\n",
       "    <tr>\n",
       "      <th>37</th>\n",
       "      <td>KANAKA NAGAR, BENGALURU</td>\n",
       "      <td>Spacious 3Bhk House For Lease Cum Rent In Kana...</td>\n",
       "      <td>₹ 15,000</td>\n",
       "      <td>3 Bds - 2 Ba - 1100 ft2</td>\n",
       "    </tr>\n",
       "    <tr>\n",
       "      <th>38</th>\n",
       "      <td>SAI SREE LAYOUT, BENGALURU</td>\n",
       "      <td>1 bhk semifurnished house available for rent</td>\n",
       "      <td>₹ 10,000</td>\n",
       "      <td>1 Bds - 1 Ba - 450 ft2</td>\n",
       "    </tr>\n",
       "    <tr>\n",
       "      <th>39</th>\n",
       "      <td>HBR LAYOUT, BENGALURU</td>\n",
       "      <td>1 bhk house for rent</td>\n",
       "      <td>₹ 12,000</td>\n",
       "      <td>1 Bds - 1 Ba - 550 ft2</td>\n",
       "    </tr>\n",
       "  </tbody>\n",
       "</table>\n",
       "</div>"
      ],
      "text/plain": [
       "                                 Address  \\\n",
       "0             BANNAPPA COLONY, BENGALURU   \n",
       "1             TEACHERS COLONY, BENGALURU   \n",
       "2                  HSR LAYOUT, BENGALURU   \n",
       "3               KASAVANAHALLI, BENGALURU   \n",
       "4         HSR LAYOUT SECTOR 7, BENGALURU   \n",
       "5                      ULSOOR, BENGALURU   \n",
       "6                  HSR LAYOUT, BENGALURU   \n",
       "7                    MADIVALA, BENGALURU   \n",
       "8                     EJIPURA, BENGALURU   \n",
       "9                  HSR LAYOUT, BENGALURU   \n",
       "10                     ULSOOR, BENGALURU   \n",
       "11        HSR LAYOUT SECTOR 7, BENGALURU   \n",
       "12  ANNASANDRAPALYA EXTENSION, BENGALURU   \n",
       "13                 HSR LAYOUT, BENGALURU   \n",
       "14                     ULSOOR, BENGALURU   \n",
       "15                 UDAY NAGAR, BENGALURU   \n",
       "16       EJIPURA VIVEKA NAGAR, BENGALURU   \n",
       "17            SUDDAGUNTEPALYA, BENGALURU   \n",
       "18               MARATHAHALLI, BENGALURU   \n",
       "19           NEW THIPPASANDRA, BENGALURU   \n",
       "20            MANGAMMANAPALYA, BENGALURU   \n",
       "21                 HSR LAYOUT, BENGALURU   \n",
       "22             A NARAYANAPURA, BENGALURU   \n",
       "23                 HSR LAYOUT, BENGALURU   \n",
       "24               INDIRA NAGAR, BENGALURU   \n",
       "25                 HSR LAYOUT, BENGALURU   \n",
       "26                KORAMANGALA, BENGALURU   \n",
       "27                  BELLANDUR, BENGALURU   \n",
       "28                 HSR LAYOUT, BENGALURU   \n",
       "29                 HSR LAYOUT, BENGALURU   \n",
       "30                 HBR LAYOUT, BENGALURU   \n",
       "31               KANAKA NAGAR, BENGALURU   \n",
       "32             SHANTHI LAYOUT, BENGALURU   \n",
       "33                 NRI LAYOUT, BENGALURU   \n",
       "34               AMRITA NAGAR, BENGALURU   \n",
       "35                 HBR LAYOUT, BENGALURU   \n",
       "36           KALKERE HORAMAVU, BENGALURU   \n",
       "37               KANAKA NAGAR, BENGALURU   \n",
       "38            SAI SREE LAYOUT, BENGALURU   \n",
       "39                 HBR LAYOUT, BENGALURU   \n",
       "\n",
       "                                                  BHK        Price  \\\n",
       "0                                      House for rent     ₹ 30,000   \n",
       "1                   1 bhk ground floor house for rent     ₹ 13,000   \n",
       "2                  L2bhk house for rent in hsr layout     ₹ 22,000   \n",
       "3        3 bhk duplex house for rent in kasavanahalli     ₹ 50,000   \n",
       "4                   1bhk house for rent in hsr layout     ₹ 25,000   \n",
       "5        2BHK house for rent in Ulsoor, bazaar street     ₹ 12,000   \n",
       "6                         5 BHK luxury house for rent   ₹ 3,50,000   \n",
       "7              2 bedroom house for rent near madiwala     ₹ 16,000   \n",
       "8                House for Rent 25k and 1Lakh Advance     ₹ 25,000   \n",
       "9    2-BHK residential house for Rent in HSR Sector 3     ₹ 27,000   \n",
       "10                       1bhk house for rent or lease     ₹ 12,000   \n",
       "11     2bhk house for rent 20k in HSR layout sector 7     ₹ 20,000   \n",
       "12  1bhk house for rent at Vibhuthipura Annasandra...     ₹ 15,000   \n",
       "13  2bhk indipendent house for rent 25k in HSR layout     ₹ 25,000   \n",
       "14               Duplex 3BHK house for rent in Ulsoor     ₹ 35,000   \n",
       "15                                     House for rent     ₹ 22,000   \n",
       "16                                     House for rent      ₹ 9,000   \n",
       "17                     1 BHK House for rent available     ₹ 13,000   \n",
       "18  1bhk house for rent in Maratahahalli near spic...     ₹ 20,000   \n",
       "19              1RK HOUSE FOR RENT IN NEW THIPPSANDRA      ₹ 8,500   \n",
       "20             2BHK house for Rent at Mangammanapalya     ₹ 15,000   \n",
       "21   2 BHK HOUSE FOR RENT 14 K IN HSR LAYOUT SECTOR 7     ₹ 14,000   \n",
       "22                              House for Rent (2BHK)     ₹ 19,000   \n",
       "23              1bhk house for rent 12k in Hsr layout     ₹ 12,000   \n",
       "24            3 BHK DUPLEX INDEPENDENT HOUSE FOR RENT     ₹ 70,000   \n",
       "25   2 BHK HOUSE FOR RENT 15 K IN HSR LAYOUT SECTOR 7     ₹ 15,000   \n",
       "26        Single bedroom house for rent in kormangala     ₹ 20,000   \n",
       "27           1BHK 17K HOUSE FOR RENT IN KASAVANAHALLI     ₹ 17,000   \n",
       "28  2bhk house for rent in Hsr layout 7th sector n...     ₹ 19,000   \n",
       "29  1bhk house for rent 14k only in Hsr layout 7th...     ₹ 14,000   \n",
       "30  Lavish 4Bhk Pent House For Rent In HBR Layout ...     ₹ 70,000   \n",
       "31                      2BHK House for Rent 3rd floor     ₹ 14,000   \n",
       "32                               2 BHK House For rent     ₹ 18,000   \n",
       "33  House for rent Bachelor's or family of maximum...      ₹ 8,000   \n",
       "34                 1BHK Semi Furniture House for Rent     ₹ 10,000   \n",
       "35  Independent duplex 3 BHK house for Rent cum Le...  ₹ 25,00,000   \n",
       "36                               House for rent 2 bhk     ₹ 20,000   \n",
       "37  Spacious 3Bhk House For Lease Cum Rent In Kana...     ₹ 15,000   \n",
       "38       1 bhk semifurnished house available for rent     ₹ 10,000   \n",
       "39                               1 bhk house for rent     ₹ 12,000   \n",
       "\n",
       "                         Squr  \n",
       "0        2 Bds - 2 Ba - 9 ft2  \n",
       "1      1 Bds - 1 Ba - 800 ft2  \n",
       "2     2 Bds - 2 Ba - 1200 ft2  \n",
       "3     3 Bds - 3 Ba - 1600 ft2  \n",
       "4     1 Bds - 1 Ba - 1200 ft2  \n",
       "5      2 Bds - 1 Ba - 550 ft2  \n",
       "6   4+ Bds - 4+ Ba - 1800 ft2  \n",
       "7     2 Bds - 2 Ba - 1000 ft2  \n",
       "8     2 Bds - 2 Ba - 2730 ft2  \n",
       "9     2 Bds - 2 Ba - 1000 ft2  \n",
       "10     1 Bds - 1 Ba - 500 ft2  \n",
       "11    2 Bds - 2 Ba - 1200 ft2  \n",
       "12     1 Bds - 1 Ba - 700 ft2  \n",
       "13    2 Bds - 2 Ba - 1300 ft2  \n",
       "14    3 Bds - 3 Ba - 1800 ft2  \n",
       "15     2 Bds - 2 Ba - 900 ft2  \n",
       "16      1 Bds - 1 Ba - 19 ft2  \n",
       "17    1 Bds - 1 Ba - 2600 ft2  \n",
       "18     1 Bds - 1 Ba - 600 ft2  \n",
       "19     1 Bds - 1 Ba - 220 ft2  \n",
       "20     2 Bds - 2 Ba - 750 ft2  \n",
       "21     2 Bds - 2 Ba - 700 ft2  \n",
       "22     2 Bds - 2 Ba - 750 ft2  \n",
       "23     1 Bds - 1 Ba - 600 ft2  \n",
       "24    3 Bds - 3 Ba - 1800 ft2  \n",
       "25     2 Bds - 1 Ba - 700 ft2  \n",
       "26     1 Bds - 2 Ba - 600 ft2  \n",
       "27     1 Bds - 1 Ba - 750 ft2  \n",
       "28     2 Bds - 2 Ba - 900 ft2  \n",
       "29     1 Bds - 1 Ba - 600 ft2  \n",
       "30    4 Bds - 4 Ba - 3000 ft2  \n",
       "31    2 Bds - 2 Ba - 1000 ft2  \n",
       "32     2 Bds - 1 Ba - 900 ft2  \n",
       "33     1 Bds - 1 Ba - 150 ft2  \n",
       "34     1 Bds - 1 Ba - 600 ft2  \n",
       "35    3 Bds - 3 Ba - 1300 ft2  \n",
       "36    2 Bds - 2 Ba - 1000 ft2  \n",
       "37    3 Bds - 2 Ba - 1100 ft2  \n",
       "38     1 Bds - 1 Ba - 450 ft2  \n",
       "39     1 Bds - 1 Ba - 550 ft2  "
      ]
     },
     "execution_count": 76,
     "metadata": {},
     "output_type": "execute_result"
    }
   ],
   "source": [
    "import pandas as pd\n",
    "df=pd.DataFrame({'Address':Address, 'BHK':BHK, 'Price':Price, 'Squr':Squre_fit})\n",
    "df"
   ]
  },
  {
   "cell_type": "code",
   "execution_count": null,
   "id": "b63e1a71",
   "metadata": {},
   "outputs": [],
   "source": []
  },
  {
   "cell_type": "code",
   "execution_count": null,
   "id": "13199191",
   "metadata": {},
   "outputs": [],
   "source": [
    "\n"
   ]
  },
  {
   "cell_type": "code",
   "execution_count": null,
   "id": "3dc0a5ab",
   "metadata": {},
   "outputs": [],
   "source": []
  },
  {
   "cell_type": "code",
   "execution_count": 77,
   "id": "1dc2b048",
   "metadata": {},
   "outputs": [],
   "source": [
    "City=driver.find_element(By.XPATH,\"/html/body/div/div/header/div/div/div[2]/div/div/div[1]/div/div[1]/input\")\n",
    "City.send_keys('Delhi')"
   ]
  },
  {
   "cell_type": "code",
   "execution_count": 78,
   "id": "c3ca08a1",
   "metadata": {},
   "outputs": [],
   "source": [
    "Location=driver.find_element(By.CLASS_NAME,\"_3_Rdm\")\n",
    "Location.click()"
   ]
  },
  {
   "cell_type": "code",
   "execution_count": 79,
   "id": "676c1eef",
   "metadata": {},
   "outputs": [],
   "source": [
    "Rent_house=driver.find_element(By.XPATH,\"/html/body/div/div/header/div/div/div[2]/div/div/div[2]/div/form/fieldset/div/input\")\n",
    "Rent_house.send_keys('House for rent')"
   ]
  },
  {
   "cell_type": "code",
   "execution_count": 80,
   "id": "62db17f6",
   "metadata": {},
   "outputs": [],
   "source": [
    "Search_button=driver.find_element(By.CLASS_NAME,\"_3jHVg\")\n",
    "Search_button.click()"
   ]
  },
  {
   "cell_type": "code",
   "execution_count": 81,
   "id": "9f6bda5f",
   "metadata": {},
   "outputs": [],
   "source": [
    "Address=[]\n",
    "Price=[]\n",
    "Squre_fit=[]\n",
    "BHK=[]"
   ]
  },
  {
   "cell_type": "code",
   "execution_count": 82,
   "id": "6efd3ffc",
   "metadata": {},
   "outputs": [],
   "source": [
    "BHK_apt=driver.find_elements(By.XPATH,'//span[@class=\"_2poNJ\"]')\n",
    "for i in BHK_apt[0:17]:\n",
    "    bhk=i.text\n",
    "    BHK.append(bhk) \n",
    "    \n",
    "House_Price=driver.find_elements(By.XPATH,'//span[@class=\"_2Ks63\"]')\n",
    "for i in House_Price[0:17]:\n",
    "    price=i.text\n",
    "    Price.append(price)\n",
    "    \n",
    "Squre=driver.find_elements(By.XPATH,'//span[@class=\"YBbhy\"]')\n",
    "for i in Squre[0:17]:\n",
    "    squre=i.text\n",
    "    Squre_fit.append(squre)\n",
    "\n",
    "Area_Address=driver.find_elements(By.XPATH,'//span[@class=\"_2VQu4\"]')\n",
    "for i in Area_Address[0:17]:\n",
    "    address=i.text\n",
    "    Address.append(address)"
   ]
  },
  {
   "cell_type": "code",
   "execution_count": 83,
   "id": "cea18fa5",
   "metadata": {},
   "outputs": [
    {
     "name": "stdout",
     "output_type": "stream",
     "text": [
      "17 17 17 17\n"
     ]
    }
   ],
   "source": [
    "print(len(Address),len(Squre_fit),len(Price), len(BHK))"
   ]
  },
  {
   "cell_type": "code",
   "execution_count": 84,
   "id": "413dfac3",
   "metadata": {},
   "outputs": [
    {
     "data": {
      "text/html": [
       "<div>\n",
       "<style scoped>\n",
       "    .dataframe tbody tr th:only-of-type {\n",
       "        vertical-align: middle;\n",
       "    }\n",
       "\n",
       "    .dataframe tbody tr th {\n",
       "        vertical-align: top;\n",
       "    }\n",
       "\n",
       "    .dataframe thead th {\n",
       "        text-align: right;\n",
       "    }\n",
       "</style>\n",
       "<table border=\"1\" class=\"dataframe\">\n",
       "  <thead>\n",
       "    <tr style=\"text-align: right;\">\n",
       "      <th></th>\n",
       "      <th>Address</th>\n",
       "      <th>BHK</th>\n",
       "      <th>Price</th>\n",
       "      <th>Squr</th>\n",
       "    </tr>\n",
       "  </thead>\n",
       "  <tbody>\n",
       "    <tr>\n",
       "      <th>0</th>\n",
       "      <td>NIHAL VIHAR, DELHI</td>\n",
       "      <td>House is ready for rent</td>\n",
       "      <td>₹ 3,000</td>\n",
       "      <td>2 Bds - 1 Ba - 400 ft2</td>\n",
       "    </tr>\n",
       "    <tr>\n",
       "      <th>1</th>\n",
       "      <td>BASAI DARAPUR, DELHI</td>\n",
       "      <td>3 roomset house for rent</td>\n",
       "      <td>₹ 9,000</td>\n",
       "      <td>3 Bds - 1 Ba - 67 ft2</td>\n",
       "    </tr>\n",
       "    <tr>\n",
       "      <th>2</th>\n",
       "      <td>BUDH VIHAR, DELHI</td>\n",
       "      <td>House for rent</td>\n",
       "      <td>₹ 6,800</td>\n",
       "      <td>2 Bds - 1 Ba - 500 ft2</td>\n",
       "    </tr>\n",
       "    <tr>\n",
       "      <th>3</th>\n",
       "      <td>RAJOURI GARDEN, DELHI</td>\n",
       "      <td>11 rooms guest house for rent in Rajouri garde...</td>\n",
       "      <td>₹ 2,50,000</td>\n",
       "      <td>2 Bds - 2 Ba - 600 ft2</td>\n",
       "    </tr>\n",
       "    <tr>\n",
       "      <th>4</th>\n",
       "      <td>VISHNU GARDEN, DELHI</td>\n",
       "      <td>Newly Launched House for rent</td>\n",
       "      <td>₹ 20,000</td>\n",
       "      <td>2 Bds - 2 Ba - 550 ft2</td>\n",
       "    </tr>\n",
       "    <tr>\n",
       "      <th>5</th>\n",
       "      <td>VISHNU GARDEN, DELHI</td>\n",
       "      <td>House property For Rent</td>\n",
       "      <td>₹ 20,000</td>\n",
       "      <td>2 Bds - 1 Ba - 357 ft2</td>\n",
       "    </tr>\n",
       "    <tr>\n",
       "      <th>6</th>\n",
       "      <td>PASCHIM VIHAR, DELHI</td>\n",
       "      <td>House available for rent</td>\n",
       "      <td>₹ 15,000</td>\n",
       "      <td>2 Bds - 1 Ba - 500 ft2</td>\n",
       "    </tr>\n",
       "    <tr>\n",
       "      <th>7</th>\n",
       "      <td>NANGLOI, DELHI</td>\n",
       "      <td>50 Gaj house available for rent</td>\n",
       "      <td>₹ 8,000</td>\n",
       "      <td>3 Bds - 2 Ba - 1000 ft2</td>\n",
       "    </tr>\n",
       "    <tr>\n",
       "      <th>8</th>\n",
       "      <td>UTTAM NAGAR, DELHI</td>\n",
       "      <td>3BHK FULLY FURNISHED INDEPENDENT HOUSE FOR RENT</td>\n",
       "      <td>₹ 30,000</td>\n",
       "      <td>3 Bds - 3 Ba - 972 ft2</td>\n",
       "    </tr>\n",
       "    <tr>\n",
       "      <th>9</th>\n",
       "      <td>BINDAPUR, DELHI</td>\n",
       "      <td>To let 3 floor whole house for rent</td>\n",
       "      <td>₹ 18,000</td>\n",
       "      <td>2 Bds - 2 Ba - 650 ft2</td>\n",
       "    </tr>\n",
       "    <tr>\n",
       "      <th>10</th>\n",
       "      <td>UTTAM NAGAR, DELHI</td>\n",
       "      <td>2Bhk without landlord peacefull Full furnished...</td>\n",
       "      <td>₹ 20,000</td>\n",
       "      <td>2 Bds - 2 Ba - 650 ft2</td>\n",
       "    </tr>\n",
       "    <tr>\n",
       "      <th>11</th>\n",
       "      <td>UTTAM NAGAR, DELHI</td>\n",
       "      <td>2Bhk fully furnished beautiful house for rent ...</td>\n",
       "      <td>₹ 20,000</td>\n",
       "      <td>1 Bds - 1 Ba - 550 ft2</td>\n",
       "    </tr>\n",
       "    <tr>\n",
       "      <th>12</th>\n",
       "      <td>UTTAM NAGAR, DELHI</td>\n",
       "      <td>1Bhk Fully furnished independent house for rent</td>\n",
       "      <td>₹ 15,500</td>\n",
       "      <td>2 Bds - 2 Ba - 750 ft2</td>\n",
       "    </tr>\n",
       "    <tr>\n",
       "      <th>13</th>\n",
       "      <td>UTTAM NAGAR, DELHI</td>\n",
       "      <td>2Bhk brand new fully furnished house for rent</td>\n",
       "      <td>₹ 20,000</td>\n",
       "      <td>2 Bds - 3 Ba - 440 ft2</td>\n",
       "    </tr>\n",
       "    <tr>\n",
       "      <th>14</th>\n",
       "      <td>DWARKA MOR, DELHI</td>\n",
       "      <td>Independent house for rent near Dwarka mode me...</td>\n",
       "      <td>₹ 13,000</td>\n",
       "      <td>3 Bds - 2 Ba - 1160 ft2</td>\n",
       "    </tr>\n",
       "    <tr>\n",
       "      <th>15</th>\n",
       "      <td>DWARKA MOR, DELHI</td>\n",
       "      <td>Independent house for rent commercial &amp; reside...</td>\n",
       "      <td>₹ 30,000</td>\n",
       "      <td>2 Bds - 2 Ba - 670 ft2</td>\n",
       "    </tr>\n",
       "    <tr>\n",
       "      <th>16</th>\n",
       "      <td>VIPIN GARDEN, DELHI</td>\n",
       "      <td>House available for rent</td>\n",
       "      <td>₹ 10,000</td>\n",
       "      <td>2 Bds - 1 Ba - 1000 ft2</td>\n",
       "    </tr>\n",
       "  </tbody>\n",
       "</table>\n",
       "</div>"
      ],
      "text/plain": [
       "                  Address                                                BHK  \\\n",
       "0      NIHAL VIHAR, DELHI                            House is ready for rent   \n",
       "1    BASAI DARAPUR, DELHI                           3 roomset house for rent   \n",
       "2       BUDH VIHAR, DELHI                                     House for rent   \n",
       "3   RAJOURI GARDEN, DELHI  11 rooms guest house for rent in Rajouri garde...   \n",
       "4    VISHNU GARDEN, DELHI                      Newly Launched House for rent   \n",
       "5    VISHNU GARDEN, DELHI                            House property For Rent   \n",
       "6    PASCHIM VIHAR, DELHI                           House available for rent   \n",
       "7          NANGLOI, DELHI                    50 Gaj house available for rent   \n",
       "8      UTTAM NAGAR, DELHI    3BHK FULLY FURNISHED INDEPENDENT HOUSE FOR RENT   \n",
       "9         BINDAPUR, DELHI                To let 3 floor whole house for rent   \n",
       "10     UTTAM NAGAR, DELHI  2Bhk without landlord peacefull Full furnished...   \n",
       "11     UTTAM NAGAR, DELHI  2Bhk fully furnished beautiful house for rent ...   \n",
       "12     UTTAM NAGAR, DELHI    1Bhk Fully furnished independent house for rent   \n",
       "13     UTTAM NAGAR, DELHI      2Bhk brand new fully furnished house for rent   \n",
       "14      DWARKA MOR, DELHI  Independent house for rent near Dwarka mode me...   \n",
       "15      DWARKA MOR, DELHI  Independent house for rent commercial & reside...   \n",
       "16    VIPIN GARDEN, DELHI                           House available for rent   \n",
       "\n",
       "         Price                     Squr  \n",
       "0      ₹ 3,000   2 Bds - 1 Ba - 400 ft2  \n",
       "1      ₹ 9,000    3 Bds - 1 Ba - 67 ft2  \n",
       "2      ₹ 6,800   2 Bds - 1 Ba - 500 ft2  \n",
       "3   ₹ 2,50,000   2 Bds - 2 Ba - 600 ft2  \n",
       "4     ₹ 20,000   2 Bds - 2 Ba - 550 ft2  \n",
       "5     ₹ 20,000   2 Bds - 1 Ba - 357 ft2  \n",
       "6     ₹ 15,000   2 Bds - 1 Ba - 500 ft2  \n",
       "7      ₹ 8,000  3 Bds - 2 Ba - 1000 ft2  \n",
       "8     ₹ 30,000   3 Bds - 3 Ba - 972 ft2  \n",
       "9     ₹ 18,000   2 Bds - 2 Ba - 650 ft2  \n",
       "10    ₹ 20,000   2 Bds - 2 Ba - 650 ft2  \n",
       "11    ₹ 20,000   1 Bds - 1 Ba - 550 ft2  \n",
       "12    ₹ 15,500   2 Bds - 2 Ba - 750 ft2  \n",
       "13    ₹ 20,000   2 Bds - 3 Ba - 440 ft2  \n",
       "14    ₹ 13,000  3 Bds - 2 Ba - 1160 ft2  \n",
       "15    ₹ 30,000   2 Bds - 2 Ba - 670 ft2  \n",
       "16    ₹ 10,000  2 Bds - 1 Ba - 1000 ft2  "
      ]
     },
     "execution_count": 84,
     "metadata": {},
     "output_type": "execute_result"
    }
   ],
   "source": [
    "import pandas as pd\n",
    "df=pd.DataFrame({'Address':Address, 'BHK':BHK, 'Price':Price, 'Squr':Squre_fit})\n",
    "df"
   ]
  },
  {
   "cell_type": "code",
   "execution_count": 85,
   "id": "a1a8f8df",
   "metadata": {},
   "outputs": [],
   "source": [
    "Load_more=driver.find_element(By.CLASS_NAME,\"_38O09\")\n",
    "Load_more.click()"
   ]
  },
  {
   "cell_type": "code",
   "execution_count": 86,
   "id": "13e875d8",
   "metadata": {},
   "outputs": [],
   "source": [
    "Address=[]\n",
    "Price=[]\n",
    "Squre_fit=[]\n",
    "BHK=[]"
   ]
  },
  {
   "cell_type": "code",
   "execution_count": 87,
   "id": "2a717a0a",
   "metadata": {},
   "outputs": [],
   "source": [
    "BHK_apt=driver.find_elements(By.XPATH,'//span[@class=\"_2poNJ\"]')\n",
    "for i in BHK_apt[0:34]:\n",
    "    bhk=i.text\n",
    "    BHK.append(bhk) \n",
    "    \n",
    "House_Price=driver.find_elements(By.XPATH,'//span[@class=\"_2Ks63\"]')\n",
    "for i in House_Price[0:34]:\n",
    "    price=i.text\n",
    "    Price.append(price)\n",
    "    \n",
    "Squre=driver.find_elements(By.XPATH,'//span[@class=\"YBbhy\"]')\n",
    "for i in Squre[0:34]:\n",
    "    squre=i.text\n",
    "    Squre_fit.append(squre)\n",
    "\n",
    "Area_Address=driver.find_elements(By.XPATH,'//span[@class=\"_2VQu4\"]')\n",
    "for i in Area_Address[0:34]:\n",
    "    address=i.text\n",
    "    Address.append(address)"
   ]
  },
  {
   "cell_type": "code",
   "execution_count": 88,
   "id": "52894c3b",
   "metadata": {},
   "outputs": [
    {
     "name": "stdout",
     "output_type": "stream",
     "text": [
      "34 34 34 34\n"
     ]
    }
   ],
   "source": [
    "print(len(Address),len(Squre_fit),len(Price), len(BHK))"
   ]
  },
  {
   "cell_type": "code",
   "execution_count": 89,
   "id": "40369c75",
   "metadata": {},
   "outputs": [
    {
     "data": {
      "text/html": [
       "<div>\n",
       "<style scoped>\n",
       "    .dataframe tbody tr th:only-of-type {\n",
       "        vertical-align: middle;\n",
       "    }\n",
       "\n",
       "    .dataframe tbody tr th {\n",
       "        vertical-align: top;\n",
       "    }\n",
       "\n",
       "    .dataframe thead th {\n",
       "        text-align: right;\n",
       "    }\n",
       "</style>\n",
       "<table border=\"1\" class=\"dataframe\">\n",
       "  <thead>\n",
       "    <tr style=\"text-align: right;\">\n",
       "      <th></th>\n",
       "      <th>Address</th>\n",
       "      <th>BHK</th>\n",
       "      <th>Price</th>\n",
       "      <th>Squr</th>\n",
       "    </tr>\n",
       "  </thead>\n",
       "  <tbody>\n",
       "    <tr>\n",
       "      <th>0</th>\n",
       "      <td>NIHAL VIHAR, DELHI</td>\n",
       "      <td>House is ready for rent</td>\n",
       "      <td>₹ 3,000</td>\n",
       "      <td>2 Bds - 1 Ba - 400 ft2</td>\n",
       "    </tr>\n",
       "    <tr>\n",
       "      <th>1</th>\n",
       "      <td>BASAI DARAPUR, DELHI</td>\n",
       "      <td>3 roomset house for rent</td>\n",
       "      <td>₹ 9,000</td>\n",
       "      <td>3 Bds - 1 Ba - 67 ft2</td>\n",
       "    </tr>\n",
       "    <tr>\n",
       "      <th>2</th>\n",
       "      <td>BUDH VIHAR, DELHI</td>\n",
       "      <td>House for rent</td>\n",
       "      <td>₹ 6,800</td>\n",
       "      <td>2 Bds - 1 Ba - 500 ft2</td>\n",
       "    </tr>\n",
       "    <tr>\n",
       "      <th>3</th>\n",
       "      <td>RAJOURI GARDEN, DELHI</td>\n",
       "      <td>11 rooms guest house for rent in Rajouri garde...</td>\n",
       "      <td>₹ 2,50,000</td>\n",
       "      <td>2 Bds - 2 Ba - 600 ft2</td>\n",
       "    </tr>\n",
       "    <tr>\n",
       "      <th>4</th>\n",
       "      <td>VISHNU GARDEN, DELHI</td>\n",
       "      <td>Newly Launched House for rent</td>\n",
       "      <td>₹ 20,000</td>\n",
       "      <td>2 Bds - 2 Ba - 550 ft2</td>\n",
       "    </tr>\n",
       "    <tr>\n",
       "      <th>5</th>\n",
       "      <td>VISHNU GARDEN, DELHI</td>\n",
       "      <td>House property For Rent</td>\n",
       "      <td>₹ 20,000</td>\n",
       "      <td>2 Bds - 1 Ba - 357 ft2</td>\n",
       "    </tr>\n",
       "    <tr>\n",
       "      <th>6</th>\n",
       "      <td>PASCHIM VIHAR, DELHI</td>\n",
       "      <td>House available for rent</td>\n",
       "      <td>₹ 15,000</td>\n",
       "      <td>2 Bds - 1 Ba - 500 ft2</td>\n",
       "    </tr>\n",
       "    <tr>\n",
       "      <th>7</th>\n",
       "      <td>NANGLOI, DELHI</td>\n",
       "      <td>50 Gaj house available for rent</td>\n",
       "      <td>₹ 8,000</td>\n",
       "      <td>3 Bds - 2 Ba - 1000 ft2</td>\n",
       "    </tr>\n",
       "    <tr>\n",
       "      <th>8</th>\n",
       "      <td>UTTAM NAGAR, DELHI</td>\n",
       "      <td>3BHK FULLY FURNISHED INDEPENDENT HOUSE FOR RENT</td>\n",
       "      <td>₹ 30,000</td>\n",
       "      <td>3 Bds - 3 Ba - 972 ft2</td>\n",
       "    </tr>\n",
       "    <tr>\n",
       "      <th>9</th>\n",
       "      <td>BINDAPUR, DELHI</td>\n",
       "      <td>To let 3 floor whole house for rent</td>\n",
       "      <td>₹ 18,000</td>\n",
       "      <td>2 Bds - 2 Ba - 650 ft2</td>\n",
       "    </tr>\n",
       "    <tr>\n",
       "      <th>10</th>\n",
       "      <td>UTTAM NAGAR, DELHI</td>\n",
       "      <td>2Bhk without landlord peacefull Full furnished...</td>\n",
       "      <td>₹ 20,000</td>\n",
       "      <td>2 Bds - 2 Ba - 650 ft2</td>\n",
       "    </tr>\n",
       "    <tr>\n",
       "      <th>11</th>\n",
       "      <td>UTTAM NAGAR, DELHI</td>\n",
       "      <td>2Bhk fully furnished beautiful house for rent ...</td>\n",
       "      <td>₹ 20,000</td>\n",
       "      <td>1 Bds - 1 Ba - 550 ft2</td>\n",
       "    </tr>\n",
       "    <tr>\n",
       "      <th>12</th>\n",
       "      <td>UTTAM NAGAR, DELHI</td>\n",
       "      <td>1Bhk Fully furnished independent house for rent</td>\n",
       "      <td>₹ 15,500</td>\n",
       "      <td>2 Bds - 2 Ba - 750 ft2</td>\n",
       "    </tr>\n",
       "    <tr>\n",
       "      <th>13</th>\n",
       "      <td>UTTAM NAGAR, DELHI</td>\n",
       "      <td>2Bhk brand new fully furnished house for rent</td>\n",
       "      <td>₹ 20,000</td>\n",
       "      <td>2 Bds - 3 Ba - 440 ft2</td>\n",
       "    </tr>\n",
       "    <tr>\n",
       "      <th>14</th>\n",
       "      <td>DWARKA MOR, DELHI</td>\n",
       "      <td>Independent house for rent near Dwarka mode me...</td>\n",
       "      <td>₹ 13,000</td>\n",
       "      <td>3 Bds - 2 Ba - 1160 ft2</td>\n",
       "    </tr>\n",
       "    <tr>\n",
       "      <th>15</th>\n",
       "      <td>DWARKA MOR, DELHI</td>\n",
       "      <td>Independent house for rent commercial &amp; reside...</td>\n",
       "      <td>₹ 30,000</td>\n",
       "      <td>2 Bds - 2 Ba - 670 ft2</td>\n",
       "    </tr>\n",
       "    <tr>\n",
       "      <th>16</th>\n",
       "      <td>VIPIN GARDEN, DELHI</td>\n",
       "      <td>House available for rent</td>\n",
       "      <td>₹ 10,000</td>\n",
       "      <td>2 Bds - 1 Ba - 1000 ft2</td>\n",
       "    </tr>\n",
       "    <tr>\n",
       "      <th>17</th>\n",
       "      <td>DWARKA, DELHI</td>\n",
       "      <td>Fully furnished 15 rooms guest House for rent ...</td>\n",
       "      <td>₹ 3,00,000</td>\n",
       "      <td>1 Bds - 1 Ba - 1000 ft2</td>\n",
       "    </tr>\n",
       "    <tr>\n",
       "      <th>18</th>\n",
       "      <td>MOTI NAGAR, DELHI</td>\n",
       "      <td>HOUSE AVAILABLE FOR RENT 2BHK</td>\n",
       "      <td>₹ 35,000</td>\n",
       "      <td>3 Bds - 2 Ba - 1060 ft2</td>\n",
       "    </tr>\n",
       "    <tr>\n",
       "      <th>19</th>\n",
       "      <td>DWARKA, DELHI</td>\n",
       "      <td>30 plus fully furnished guest house for rent i...</td>\n",
       "      <td>₹ 5,00,000</td>\n",
       "      <td>1 Bds - 1 Ba - 150 ft2</td>\n",
       "    </tr>\n",
       "    <tr>\n",
       "      <th>20</th>\n",
       "      <td>ROHINI SECTOR 24, DELHI</td>\n",
       "      <td>House for Rent</td>\n",
       "      <td>₹ 14,000</td>\n",
       "      <td>2 Bds - 2 Ba - 900 ft2</td>\n",
       "    </tr>\n",
       "    <tr>\n",
       "      <th>21</th>\n",
       "      <td>DWARKA MOR, DELHI</td>\n",
       "      <td>Independent house for rent near Dwarka mode me...</td>\n",
       "      <td>₹ 13,000</td>\n",
       "      <td>2 Bds - 1 Ba - 1200 ft2</td>\n",
       "    </tr>\n",
       "    <tr>\n",
       "      <th>22</th>\n",
       "      <td>GHEVRA, DELHI</td>\n",
       "      <td>House for rent</td>\n",
       "      <td>₹ 6,000</td>\n",
       "      <td>2 Bds - 1 Ba - 950 ft2</td>\n",
       "    </tr>\n",
       "    <tr>\n",
       "      <th>23</th>\n",
       "      <td>DWARKA MOR, DELHI</td>\n",
       "      <td>Indipendent house available for rent new house</td>\n",
       "      <td>₹ 14,000</td>\n",
       "      <td>2 Bds - 1 Ba - 1200 ft2</td>\n",
       "    </tr>\n",
       "    <tr>\n",
       "      <th>24</th>\n",
       "      <td>ASHOK VIHAR PHASE III EXTENSION, GURGAON</td>\n",
       "      <td>House for Rent</td>\n",
       "      <td>₹ 10,000</td>\n",
       "      <td>1 Bds - 1 Ba - 50 ft2</td>\n",
       "    </tr>\n",
       "    <tr>\n",
       "      <th>25</th>\n",
       "      <td>ASHOK VIHAR PHASE III EXTENSION, GURGAON</td>\n",
       "      <td>2 BHK NEWLY SEMI FURNISHED HOUSE IS AVAILABLE ...</td>\n",
       "      <td>₹ 17,000</td>\n",
       "      <td>2 Bds - 1 Ba - 720 ft2</td>\n",
       "    </tr>\n",
       "    <tr>\n",
       "      <th>26</th>\n",
       "      <td>ASHOK VIHAR PHASE III EXTENSION, GURGAON</td>\n",
       "      <td>2 BHK INDEPENDENT HOUSE IS AVAILABLE FOR RENT ...</td>\n",
       "      <td>₹ 17,000</td>\n",
       "      <td>2 Bds - 1 Ba - 25 ft2</td>\n",
       "    </tr>\n",
       "    <tr>\n",
       "      <th>27</th>\n",
       "      <td>NATHUPURA, DELHI</td>\n",
       "      <td>New House For Rent Very Reasonable Price</td>\n",
       "      <td>₹ 6,000</td>\n",
       "      <td>2 Bds - 2 Ba - 1800 ft2</td>\n",
       "    </tr>\n",
       "    <tr>\n",
       "      <th>28</th>\n",
       "      <td>NARELA, DELHI</td>\n",
       "      <td>Independent House Newly built for rent in Sanj...</td>\n",
       "      <td>₹ 12,000</td>\n",
       "      <td>2 Bds - 1 Ba - 450 ft2</td>\n",
       "    </tr>\n",
       "    <tr>\n",
       "      <th>29</th>\n",
       "      <td>NARELA, DELHI</td>\n",
       "      <td>House for Rent</td>\n",
       "      <td>₹ 4,500</td>\n",
       "      <td>3 Bds - 2 Ba - 900 ft2</td>\n",
       "    </tr>\n",
       "    <tr>\n",
       "      <th>30</th>\n",
       "      <td>CHATTARPUR, DELHI</td>\n",
       "      <td>Ware house available for rent in chattarpur</td>\n",
       "      <td>₹ 1,00,000</td>\n",
       "      <td>3 Bds - 1 Ba - 900 ft2</td>\n",
       "    </tr>\n",
       "    <tr>\n",
       "      <th>31</th>\n",
       "      <td>CHATTARPUR, DELHI</td>\n",
       "      <td>Godown,ware house, office space, commercial fo...</td>\n",
       "      <td>₹ 99,000</td>\n",
       "      <td>3 Bds - 2 Ba - 800 ft2</td>\n",
       "    </tr>\n",
       "    <tr>\n",
       "      <th>32</th>\n",
       "      <td>SECTOR 110, GURGAON</td>\n",
       "      <td>200 yards independent house available for rent...</td>\n",
       "      <td>₹ 12,000</td>\n",
       "      <td>1 Bds - 1 Ba - 350 ft2</td>\n",
       "    </tr>\n",
       "    <tr>\n",
       "      <th>33</th>\n",
       "      <td>SONIA VIHAR, DELHI</td>\n",
       "      <td>HOUSE FOR RENT</td>\n",
       "      <td>₹ 5,000</td>\n",
       "      <td>2 Bds - 2 Ba - 1100 ft2</td>\n",
       "    </tr>\n",
       "  </tbody>\n",
       "</table>\n",
       "</div>"
      ],
      "text/plain": [
       "                                     Address  \\\n",
       "0                         NIHAL VIHAR, DELHI   \n",
       "1                       BASAI DARAPUR, DELHI   \n",
       "2                          BUDH VIHAR, DELHI   \n",
       "3                      RAJOURI GARDEN, DELHI   \n",
       "4                       VISHNU GARDEN, DELHI   \n",
       "5                       VISHNU GARDEN, DELHI   \n",
       "6                       PASCHIM VIHAR, DELHI   \n",
       "7                             NANGLOI, DELHI   \n",
       "8                         UTTAM NAGAR, DELHI   \n",
       "9                            BINDAPUR, DELHI   \n",
       "10                        UTTAM NAGAR, DELHI   \n",
       "11                        UTTAM NAGAR, DELHI   \n",
       "12                        UTTAM NAGAR, DELHI   \n",
       "13                        UTTAM NAGAR, DELHI   \n",
       "14                         DWARKA MOR, DELHI   \n",
       "15                         DWARKA MOR, DELHI   \n",
       "16                       VIPIN GARDEN, DELHI   \n",
       "17                             DWARKA, DELHI   \n",
       "18                         MOTI NAGAR, DELHI   \n",
       "19                             DWARKA, DELHI   \n",
       "20                   ROHINI SECTOR 24, DELHI   \n",
       "21                         DWARKA MOR, DELHI   \n",
       "22                             GHEVRA, DELHI   \n",
       "23                         DWARKA MOR, DELHI   \n",
       "24  ASHOK VIHAR PHASE III EXTENSION, GURGAON   \n",
       "25  ASHOK VIHAR PHASE III EXTENSION, GURGAON   \n",
       "26  ASHOK VIHAR PHASE III EXTENSION, GURGAON   \n",
       "27                          NATHUPURA, DELHI   \n",
       "28                             NARELA, DELHI   \n",
       "29                             NARELA, DELHI   \n",
       "30                         CHATTARPUR, DELHI   \n",
       "31                         CHATTARPUR, DELHI   \n",
       "32                       SECTOR 110, GURGAON   \n",
       "33                        SONIA VIHAR, DELHI   \n",
       "\n",
       "                                                  BHK       Price  \\\n",
       "0                             House is ready for rent     ₹ 3,000   \n",
       "1                            3 roomset house for rent     ₹ 9,000   \n",
       "2                                      House for rent     ₹ 6,800   \n",
       "3   11 rooms guest house for rent in Rajouri garde...  ₹ 2,50,000   \n",
       "4                       Newly Launched House for rent    ₹ 20,000   \n",
       "5                             House property For Rent    ₹ 20,000   \n",
       "6                            House available for rent    ₹ 15,000   \n",
       "7                     50 Gaj house available for rent     ₹ 8,000   \n",
       "8     3BHK FULLY FURNISHED INDEPENDENT HOUSE FOR RENT    ₹ 30,000   \n",
       "9                 To let 3 floor whole house for rent    ₹ 18,000   \n",
       "10  2Bhk without landlord peacefull Full furnished...    ₹ 20,000   \n",
       "11  2Bhk fully furnished beautiful house for rent ...    ₹ 20,000   \n",
       "12    1Bhk Fully furnished independent house for rent    ₹ 15,500   \n",
       "13      2Bhk brand new fully furnished house for rent    ₹ 20,000   \n",
       "14  Independent house for rent near Dwarka mode me...    ₹ 13,000   \n",
       "15  Independent house for rent commercial & reside...    ₹ 30,000   \n",
       "16                           House available for rent    ₹ 10,000   \n",
       "17  Fully furnished 15 rooms guest House for rent ...  ₹ 3,00,000   \n",
       "18                      HOUSE AVAILABLE FOR RENT 2BHK    ₹ 35,000   \n",
       "19  30 plus fully furnished guest house for rent i...  ₹ 5,00,000   \n",
       "20                                     House for Rent    ₹ 14,000   \n",
       "21  Independent house for rent near Dwarka mode me...    ₹ 13,000   \n",
       "22                                     House for rent     ₹ 6,000   \n",
       "23     Indipendent house available for rent new house    ₹ 14,000   \n",
       "24                                     House for Rent    ₹ 10,000   \n",
       "25  2 BHK NEWLY SEMI FURNISHED HOUSE IS AVAILABLE ...    ₹ 17,000   \n",
       "26  2 BHK INDEPENDENT HOUSE IS AVAILABLE FOR RENT ...    ₹ 17,000   \n",
       "27           New House For Rent Very Reasonable Price     ₹ 6,000   \n",
       "28  Independent House Newly built for rent in Sanj...    ₹ 12,000   \n",
       "29                                     House for Rent     ₹ 4,500   \n",
       "30        Ware house available for rent in chattarpur  ₹ 1,00,000   \n",
       "31  Godown,ware house, office space, commercial fo...    ₹ 99,000   \n",
       "32  200 yards independent house available for rent...    ₹ 12,000   \n",
       "33                                     HOUSE FOR RENT     ₹ 5,000   \n",
       "\n",
       "                       Squr  \n",
       "0    2 Bds - 1 Ba - 400 ft2  \n",
       "1     3 Bds - 1 Ba - 67 ft2  \n",
       "2    2 Bds - 1 Ba - 500 ft2  \n",
       "3    2 Bds - 2 Ba - 600 ft2  \n",
       "4    2 Bds - 2 Ba - 550 ft2  \n",
       "5    2 Bds - 1 Ba - 357 ft2  \n",
       "6    2 Bds - 1 Ba - 500 ft2  \n",
       "7   3 Bds - 2 Ba - 1000 ft2  \n",
       "8    3 Bds - 3 Ba - 972 ft2  \n",
       "9    2 Bds - 2 Ba - 650 ft2  \n",
       "10   2 Bds - 2 Ba - 650 ft2  \n",
       "11   1 Bds - 1 Ba - 550 ft2  \n",
       "12   2 Bds - 2 Ba - 750 ft2  \n",
       "13   2 Bds - 3 Ba - 440 ft2  \n",
       "14  3 Bds - 2 Ba - 1160 ft2  \n",
       "15   2 Bds - 2 Ba - 670 ft2  \n",
       "16  2 Bds - 1 Ba - 1000 ft2  \n",
       "17  1 Bds - 1 Ba - 1000 ft2  \n",
       "18  3 Bds - 2 Ba - 1060 ft2  \n",
       "19   1 Bds - 1 Ba - 150 ft2  \n",
       "20   2 Bds - 2 Ba - 900 ft2  \n",
       "21  2 Bds - 1 Ba - 1200 ft2  \n",
       "22   2 Bds - 1 Ba - 950 ft2  \n",
       "23  2 Bds - 1 Ba - 1200 ft2  \n",
       "24    1 Bds - 1 Ba - 50 ft2  \n",
       "25   2 Bds - 1 Ba - 720 ft2  \n",
       "26    2 Bds - 1 Ba - 25 ft2  \n",
       "27  2 Bds - 2 Ba - 1800 ft2  \n",
       "28   2 Bds - 1 Ba - 450 ft2  \n",
       "29   3 Bds - 2 Ba - 900 ft2  \n",
       "30   3 Bds - 1 Ba - 900 ft2  \n",
       "31   3 Bds - 2 Ba - 800 ft2  \n",
       "32   1 Bds - 1 Ba - 350 ft2  \n",
       "33  2 Bds - 2 Ba - 1100 ft2  "
      ]
     },
     "execution_count": 89,
     "metadata": {},
     "output_type": "execute_result"
    }
   ],
   "source": [
    "import pandas as pd\n",
    "df=pd.DataFrame({'Address':Address, 'BHK':BHK, 'Price':Price, 'Squr':Squre_fit})\n",
    "df"
   ]
  },
  {
   "cell_type": "code",
   "execution_count": 90,
   "id": "a2827310",
   "metadata": {},
   "outputs": [],
   "source": [
    "City=driver.find_element(By.XPATH,\"/html/body/div/div/header/div/div/div[2]/div/div/div[1]/div/div[1]/input\")\n",
    "City.send_keys('Mumbai')"
   ]
  },
  {
   "cell_type": "code",
   "execution_count": 91,
   "id": "d8e3a68b",
   "metadata": {},
   "outputs": [
    {
     "ename": "NoSuchElementException",
     "evalue": "Message: no such element: Unable to locate element: {\"method\":\"css selector\",\"selector\":\"._3_Rdm\"}\n  (Session info: chrome=122.0.6261.69); For documentation on this error, please visit: https://www.selenium.dev/documentation/webdriver/troubleshooting/errors#no-such-element-exception\nStacktrace:\n\tGetHandleVerifier [0x00007FF7E2094C82+3505170]\n\t(No symbol) [0x00007FF7E1CC0852]\n\t(No symbol) [0x00007FF7E1B74145]\n\t(No symbol) [0x00007FF7E1BB9ADD]\n\t(No symbol) [0x00007FF7E1BB9C1C]\n\t(No symbol) [0x00007FF7E1BFAB27]\n\t(No symbol) [0x00007FF7E1BDBECF]\n\t(No symbol) [0x00007FF7E1BF83B2]\n\t(No symbol) [0x00007FF7E1BDBC33]\n\t(No symbol) [0x00007FF7E1BAD618]\n\t(No symbol) [0x00007FF7E1BAE6B1]\n\tGetHandleVerifier [0x00007FF7E20C67DD+3708781]\n\tGetHandleVerifier [0x00007FF7E211FC5D+4074477]\n\tGetHandleVerifier [0x00007FF7E2117DDF+4042095]\n\tGetHandleVerifier [0x00007FF7E1DEA136+708806]\n\t(No symbol) [0x00007FF7E1CCCB0F]\n\t(No symbol) [0x00007FF7E1CC7D14]\n\t(No symbol) [0x00007FF7E1CC7E6C]\n\t(No symbol) [0x00007FF7E1CB79A4]\n\tBaseThreadInitThunk [0x00007FFC747B257D+29]\n\tRtlUserThreadStart [0x00007FFC75D2AA58+40]\n",
     "output_type": "error",
     "traceback": [
      "\u001b[1;31m---------------------------------------------------------------------------\u001b[0m",
      "\u001b[1;31mNoSuchElementException\u001b[0m                    Traceback (most recent call last)",
      "\u001b[1;32m~\\AppData\\Local\\Temp\\ipykernel_7720\\1715916790.py\u001b[0m in \u001b[0;36m<module>\u001b[1;34m\u001b[0m\n\u001b[1;32m----> 1\u001b[1;33m \u001b[0mLocation\u001b[0m\u001b[1;33m=\u001b[0m\u001b[0mdriver\u001b[0m\u001b[1;33m.\u001b[0m\u001b[0mfind_element\u001b[0m\u001b[1;33m(\u001b[0m\u001b[0mBy\u001b[0m\u001b[1;33m.\u001b[0m\u001b[0mCLASS_NAME\u001b[0m\u001b[1;33m,\u001b[0m\u001b[1;34m\"_3_Rdm\"\u001b[0m\u001b[1;33m)\u001b[0m\u001b[1;33m\u001b[0m\u001b[1;33m\u001b[0m\u001b[0m\n\u001b[0m\u001b[0;32m      2\u001b[0m \u001b[0mLocation\u001b[0m\u001b[1;33m.\u001b[0m\u001b[0mclick\u001b[0m\u001b[1;33m(\u001b[0m\u001b[1;33m)\u001b[0m\u001b[1;33m\u001b[0m\u001b[1;33m\u001b[0m\u001b[0m\n",
      "\u001b[1;32m~\\anaconda3\\lib\\site-packages\\selenium\\webdriver\\remote\\webdriver.py\u001b[0m in \u001b[0;36mfind_element\u001b[1;34m(self, by, value)\u001b[0m\n\u001b[0;32m    736\u001b[0m             \u001b[0mvalue\u001b[0m \u001b[1;33m=\u001b[0m \u001b[1;34mf'[name=\"{value}\"]'\u001b[0m\u001b[1;33m\u001b[0m\u001b[1;33m\u001b[0m\u001b[0m\n\u001b[0;32m    737\u001b[0m \u001b[1;33m\u001b[0m\u001b[0m\n\u001b[1;32m--> 738\u001b[1;33m         \u001b[1;32mreturn\u001b[0m \u001b[0mself\u001b[0m\u001b[1;33m.\u001b[0m\u001b[0mexecute\u001b[0m\u001b[1;33m(\u001b[0m\u001b[0mCommand\u001b[0m\u001b[1;33m.\u001b[0m\u001b[0mFIND_ELEMENT\u001b[0m\u001b[1;33m,\u001b[0m \u001b[1;33m{\u001b[0m\u001b[1;34m\"using\"\u001b[0m\u001b[1;33m:\u001b[0m \u001b[0mby\u001b[0m\u001b[1;33m,\u001b[0m \u001b[1;34m\"value\"\u001b[0m\u001b[1;33m:\u001b[0m \u001b[0mvalue\u001b[0m\u001b[1;33m}\u001b[0m\u001b[1;33m)\u001b[0m\u001b[1;33m[\u001b[0m\u001b[1;34m\"value\"\u001b[0m\u001b[1;33m]\u001b[0m\u001b[1;33m\u001b[0m\u001b[1;33m\u001b[0m\u001b[0m\n\u001b[0m\u001b[0;32m    739\u001b[0m \u001b[1;33m\u001b[0m\u001b[0m\n\u001b[0;32m    740\u001b[0m     \u001b[1;32mdef\u001b[0m \u001b[0mfind_elements\u001b[0m\u001b[1;33m(\u001b[0m\u001b[0mself\u001b[0m\u001b[1;33m,\u001b[0m \u001b[0mby\u001b[0m\u001b[1;33m=\u001b[0m\u001b[0mBy\u001b[0m\u001b[1;33m.\u001b[0m\u001b[0mID\u001b[0m\u001b[1;33m,\u001b[0m \u001b[0mvalue\u001b[0m\u001b[1;33m:\u001b[0m \u001b[0mOptional\u001b[0m\u001b[1;33m[\u001b[0m\u001b[0mstr\u001b[0m\u001b[1;33m]\u001b[0m \u001b[1;33m=\u001b[0m \u001b[1;32mNone\u001b[0m\u001b[1;33m)\u001b[0m \u001b[1;33m->\u001b[0m \u001b[0mList\u001b[0m\u001b[1;33m[\u001b[0m\u001b[0mWebElement\u001b[0m\u001b[1;33m]\u001b[0m\u001b[1;33m:\u001b[0m\u001b[1;33m\u001b[0m\u001b[1;33m\u001b[0m\u001b[0m\n",
      "\u001b[1;32m~\\anaconda3\\lib\\site-packages\\selenium\\webdriver\\remote\\webdriver.py\u001b[0m in \u001b[0;36mexecute\u001b[1;34m(self, driver_command, params)\u001b[0m\n\u001b[0;32m    342\u001b[0m         \u001b[0mresponse\u001b[0m \u001b[1;33m=\u001b[0m \u001b[0mself\u001b[0m\u001b[1;33m.\u001b[0m\u001b[0mcommand_executor\u001b[0m\u001b[1;33m.\u001b[0m\u001b[0mexecute\u001b[0m\u001b[1;33m(\u001b[0m\u001b[0mdriver_command\u001b[0m\u001b[1;33m,\u001b[0m \u001b[0mparams\u001b[0m\u001b[1;33m)\u001b[0m\u001b[1;33m\u001b[0m\u001b[1;33m\u001b[0m\u001b[0m\n\u001b[0;32m    343\u001b[0m         \u001b[1;32mif\u001b[0m \u001b[0mresponse\u001b[0m\u001b[1;33m:\u001b[0m\u001b[1;33m\u001b[0m\u001b[1;33m\u001b[0m\u001b[0m\n\u001b[1;32m--> 344\u001b[1;33m             \u001b[0mself\u001b[0m\u001b[1;33m.\u001b[0m\u001b[0merror_handler\u001b[0m\u001b[1;33m.\u001b[0m\u001b[0mcheck_response\u001b[0m\u001b[1;33m(\u001b[0m\u001b[0mresponse\u001b[0m\u001b[1;33m)\u001b[0m\u001b[1;33m\u001b[0m\u001b[1;33m\u001b[0m\u001b[0m\n\u001b[0m\u001b[0;32m    345\u001b[0m             \u001b[0mresponse\u001b[0m\u001b[1;33m[\u001b[0m\u001b[1;34m\"value\"\u001b[0m\u001b[1;33m]\u001b[0m \u001b[1;33m=\u001b[0m \u001b[0mself\u001b[0m\u001b[1;33m.\u001b[0m\u001b[0m_unwrap_value\u001b[0m\u001b[1;33m(\u001b[0m\u001b[0mresponse\u001b[0m\u001b[1;33m.\u001b[0m\u001b[0mget\u001b[0m\u001b[1;33m(\u001b[0m\u001b[1;34m\"value\"\u001b[0m\u001b[1;33m,\u001b[0m \u001b[1;32mNone\u001b[0m\u001b[1;33m)\u001b[0m\u001b[1;33m)\u001b[0m\u001b[1;33m\u001b[0m\u001b[1;33m\u001b[0m\u001b[0m\n\u001b[0;32m    346\u001b[0m             \u001b[1;32mreturn\u001b[0m \u001b[0mresponse\u001b[0m\u001b[1;33m\u001b[0m\u001b[1;33m\u001b[0m\u001b[0m\n",
      "\u001b[1;32m~\\anaconda3\\lib\\site-packages\\selenium\\webdriver\\remote\\errorhandler.py\u001b[0m in \u001b[0;36mcheck_response\u001b[1;34m(self, response)\u001b[0m\n\u001b[0;32m    227\u001b[0m                 \u001b[0malert_text\u001b[0m \u001b[1;33m=\u001b[0m \u001b[0mvalue\u001b[0m\u001b[1;33m[\u001b[0m\u001b[1;34m\"alert\"\u001b[0m\u001b[1;33m]\u001b[0m\u001b[1;33m.\u001b[0m\u001b[0mget\u001b[0m\u001b[1;33m(\u001b[0m\u001b[1;34m\"text\"\u001b[0m\u001b[1;33m)\u001b[0m\u001b[1;33m\u001b[0m\u001b[1;33m\u001b[0m\u001b[0m\n\u001b[0;32m    228\u001b[0m             \u001b[1;32mraise\u001b[0m \u001b[0mexception_class\u001b[0m\u001b[1;33m(\u001b[0m\u001b[0mmessage\u001b[0m\u001b[1;33m,\u001b[0m \u001b[0mscreen\u001b[0m\u001b[1;33m,\u001b[0m \u001b[0mstacktrace\u001b[0m\u001b[1;33m,\u001b[0m \u001b[0malert_text\u001b[0m\u001b[1;33m)\u001b[0m  \u001b[1;31m# type: ignore[call-arg]  # mypy is not smart enough here\u001b[0m\u001b[1;33m\u001b[0m\u001b[1;33m\u001b[0m\u001b[0m\n\u001b[1;32m--> 229\u001b[1;33m         \u001b[1;32mraise\u001b[0m \u001b[0mexception_class\u001b[0m\u001b[1;33m(\u001b[0m\u001b[0mmessage\u001b[0m\u001b[1;33m,\u001b[0m \u001b[0mscreen\u001b[0m\u001b[1;33m,\u001b[0m \u001b[0mstacktrace\u001b[0m\u001b[1;33m)\u001b[0m\u001b[1;33m\u001b[0m\u001b[1;33m\u001b[0m\u001b[0m\n\u001b[0m",
      "\u001b[1;31mNoSuchElementException\u001b[0m: Message: no such element: Unable to locate element: {\"method\":\"css selector\",\"selector\":\"._3_Rdm\"}\n  (Session info: chrome=122.0.6261.69); For documentation on this error, please visit: https://www.selenium.dev/documentation/webdriver/troubleshooting/errors#no-such-element-exception\nStacktrace:\n\tGetHandleVerifier [0x00007FF7E2094C82+3505170]\n\t(No symbol) [0x00007FF7E1CC0852]\n\t(No symbol) [0x00007FF7E1B74145]\n\t(No symbol) [0x00007FF7E1BB9ADD]\n\t(No symbol) [0x00007FF7E1BB9C1C]\n\t(No symbol) [0x00007FF7E1BFAB27]\n\t(No symbol) [0x00007FF7E1BDBECF]\n\t(No symbol) [0x00007FF7E1BF83B2]\n\t(No symbol) [0x00007FF7E1BDBC33]\n\t(No symbol) [0x00007FF7E1BAD618]\n\t(No symbol) [0x00007FF7E1BAE6B1]\n\tGetHandleVerifier [0x00007FF7E20C67DD+3708781]\n\tGetHandleVerifier [0x00007FF7E211FC5D+4074477]\n\tGetHandleVerifier [0x00007FF7E2117DDF+4042095]\n\tGetHandleVerifier [0x00007FF7E1DEA136+708806]\n\t(No symbol) [0x00007FF7E1CCCB0F]\n\t(No symbol) [0x00007FF7E1CC7D14]\n\t(No symbol) [0x00007FF7E1CC7E6C]\n\t(No symbol) [0x00007FF7E1CB79A4]\n\tBaseThreadInitThunk [0x00007FFC747B257D+29]\n\tRtlUserThreadStart [0x00007FFC75D2AA58+40]\n"
     ]
    }
   ],
   "source": [
    "Location=driver.find_element(By.CLASS_NAME,\"_3_Rdm\")\n",
    "Location.click()"
   ]
  },
  {
   "cell_type": "code",
   "execution_count": 92,
   "id": "afc9d0a9",
   "metadata": {},
   "outputs": [],
   "source": [
    "Rent_house=driver.find_element(By.XPATH,\"/html/body/div/div/header/div/div/div[2]/div/div/div[2]/div/form/fieldset/div/input\")\n",
    "Rent_house.send_keys('House for rent')"
   ]
  },
  {
   "cell_type": "code",
   "execution_count": 93,
   "id": "d5f278bc",
   "metadata": {},
   "outputs": [],
   "source": [
    "Search_button=driver.find_element(By.CLASS_NAME,\"_3jHVg\")\n",
    "Search_button.click()"
   ]
  },
  {
   "cell_type": "code",
   "execution_count": 94,
   "id": "e91dc938",
   "metadata": {},
   "outputs": [],
   "source": [
    "Load_more=driver.find_element(By.CLASS_NAME,\"_38O09\")\n",
    "Load_more.click()"
   ]
  },
  {
   "cell_type": "code",
   "execution_count": 95,
   "id": "7962f1ef",
   "metadata": {},
   "outputs": [],
   "source": [
    "Address=[]\n",
    "Price=[]\n",
    "Squre_fit=[]\n",
    "BHK=[]"
   ]
  },
  {
   "cell_type": "code",
   "execution_count": 96,
   "id": "1c7bf546",
   "metadata": {},
   "outputs": [],
   "source": [
    "BHK_apt=driver.find_elements(By.XPATH,'//span[@class=\"_2poNJ\"]')\n",
    "for i in BHK_apt[0:25]:\n",
    "    bhk=i.text\n",
    "    BHK.append(bhk) \n",
    "    \n",
    "House_Price=driver.find_elements(By.XPATH,'//span[@class=\"_2Ks63\"]')\n",
    "for i in House_Price[0:25]:\n",
    "    price=i.text\n",
    "    Price.append(price)\n",
    "    \n",
    "Squre=driver.find_elements(By.XPATH,'//span[@class=\"YBbhy\"]')\n",
    "for i in Squre[0:25]:\n",
    "    squre=i.text\n",
    "    Squre_fit.append(squre)\n",
    "\n",
    "Area_Address=driver.find_elements(By.XPATH,'//span[@class=\"_2VQu4\"]')\n",
    "for i in Area_Address[0:25]:\n",
    "    address=i.text\n",
    "    Address.append(address)"
   ]
  },
  {
   "cell_type": "code",
   "execution_count": 97,
   "id": "f602264b",
   "metadata": {},
   "outputs": [
    {
     "name": "stdout",
     "output_type": "stream",
     "text": [
      "25 25 25 25\n"
     ]
    }
   ],
   "source": [
    "print(len(Address),len(Squre_fit),len(Price), len(BHK))"
   ]
  },
  {
   "cell_type": "code",
   "execution_count": 98,
   "id": "1c718153",
   "metadata": {},
   "outputs": [
    {
     "data": {
      "text/html": [
       "<div>\n",
       "<style scoped>\n",
       "    .dataframe tbody tr th:only-of-type {\n",
       "        vertical-align: middle;\n",
       "    }\n",
       "\n",
       "    .dataframe tbody tr th {\n",
       "        vertical-align: top;\n",
       "    }\n",
       "\n",
       "    .dataframe thead th {\n",
       "        text-align: right;\n",
       "    }\n",
       "</style>\n",
       "<table border=\"1\" class=\"dataframe\">\n",
       "  <thead>\n",
       "    <tr style=\"text-align: right;\">\n",
       "      <th></th>\n",
       "      <th>Address</th>\n",
       "      <th>BHK</th>\n",
       "      <th>Price</th>\n",
       "      <th>Squr</th>\n",
       "    </tr>\n",
       "  </thead>\n",
       "  <tbody>\n",
       "    <tr>\n",
       "      <th>0</th>\n",
       "      <td>NIHAL VIHAR, DELHI</td>\n",
       "      <td>House is ready for rent</td>\n",
       "      <td>₹ 3,000</td>\n",
       "      <td>2 Bds - 1 Ba - 400 ft2</td>\n",
       "    </tr>\n",
       "    <tr>\n",
       "      <th>1</th>\n",
       "      <td>BASAI DARAPUR, DELHI</td>\n",
       "      <td>3 roomset house for rent</td>\n",
       "      <td>₹ 9,000</td>\n",
       "      <td>3 Bds - 1 Ba - 67 ft2</td>\n",
       "    </tr>\n",
       "    <tr>\n",
       "      <th>2</th>\n",
       "      <td>BUDH VIHAR, DELHI</td>\n",
       "      <td>House for rent</td>\n",
       "      <td>₹ 6,800</td>\n",
       "      <td>2 Bds - 1 Ba - 500 ft2</td>\n",
       "    </tr>\n",
       "    <tr>\n",
       "      <th>3</th>\n",
       "      <td>RAJOURI GARDEN, DELHI</td>\n",
       "      <td>11 rooms guest house for rent in Rajouri garde...</td>\n",
       "      <td>₹ 2,50,000</td>\n",
       "      <td>2 Bds - 2 Ba - 600 ft2</td>\n",
       "    </tr>\n",
       "    <tr>\n",
       "      <th>4</th>\n",
       "      <td>VISHNU GARDEN, DELHI</td>\n",
       "      <td>Newly Launched House for rent</td>\n",
       "      <td>₹ 20,000</td>\n",
       "      <td>2 Bds - 2 Ba - 550 ft2</td>\n",
       "    </tr>\n",
       "    <tr>\n",
       "      <th>5</th>\n",
       "      <td>VISHNU GARDEN, DELHI</td>\n",
       "      <td>House property For Rent</td>\n",
       "      <td>₹ 20,000</td>\n",
       "      <td>2 Bds - 1 Ba - 357 ft2</td>\n",
       "    </tr>\n",
       "    <tr>\n",
       "      <th>6</th>\n",
       "      <td>PASCHIM VIHAR, DELHI</td>\n",
       "      <td>House available for rent</td>\n",
       "      <td>₹ 15,000</td>\n",
       "      <td>2 Bds - 1 Ba - 500 ft2</td>\n",
       "    </tr>\n",
       "    <tr>\n",
       "      <th>7</th>\n",
       "      <td>NANGLOI, DELHI</td>\n",
       "      <td>50 Gaj house available for rent</td>\n",
       "      <td>₹ 8,000</td>\n",
       "      <td>3 Bds - 2 Ba - 1000 ft2</td>\n",
       "    </tr>\n",
       "    <tr>\n",
       "      <th>8</th>\n",
       "      <td>UTTAM NAGAR, DELHI</td>\n",
       "      <td>3BHK FULLY FURNISHED INDEPENDENT HOUSE FOR RENT</td>\n",
       "      <td>₹ 30,000</td>\n",
       "      <td>3 Bds - 3 Ba - 972 ft2</td>\n",
       "    </tr>\n",
       "    <tr>\n",
       "      <th>9</th>\n",
       "      <td>BINDAPUR, DELHI</td>\n",
       "      <td>To let 3 floor whole house for rent</td>\n",
       "      <td>₹ 18,000</td>\n",
       "      <td>2 Bds - 2 Ba - 650 ft2</td>\n",
       "    </tr>\n",
       "    <tr>\n",
       "      <th>10</th>\n",
       "      <td>UTTAM NAGAR, DELHI</td>\n",
       "      <td>2Bhk without landlord peacefull Full furnished...</td>\n",
       "      <td>₹ 20,000</td>\n",
       "      <td>2 Bds - 2 Ba - 650 ft2</td>\n",
       "    </tr>\n",
       "    <tr>\n",
       "      <th>11</th>\n",
       "      <td>UTTAM NAGAR, DELHI</td>\n",
       "      <td>2Bhk fully furnished beautiful house for rent ...</td>\n",
       "      <td>₹ 20,000</td>\n",
       "      <td>1 Bds - 1 Ba - 550 ft2</td>\n",
       "    </tr>\n",
       "    <tr>\n",
       "      <th>12</th>\n",
       "      <td>UTTAM NAGAR, DELHI</td>\n",
       "      <td>1Bhk Fully furnished independent house for rent</td>\n",
       "      <td>₹ 15,500</td>\n",
       "      <td>2 Bds - 2 Ba - 750 ft2</td>\n",
       "    </tr>\n",
       "    <tr>\n",
       "      <th>13</th>\n",
       "      <td>UTTAM NAGAR, DELHI</td>\n",
       "      <td>2Bhk brand new fully furnished house for rent</td>\n",
       "      <td>₹ 20,000</td>\n",
       "      <td>2 Bds - 3 Ba - 440 ft2</td>\n",
       "    </tr>\n",
       "    <tr>\n",
       "      <th>14</th>\n",
       "      <td>DWARKA MOR, DELHI</td>\n",
       "      <td>Independent house for rent near Dwarka mode me...</td>\n",
       "      <td>₹ 13,000</td>\n",
       "      <td>3 Bds - 2 Ba - 1160 ft2</td>\n",
       "    </tr>\n",
       "    <tr>\n",
       "      <th>15</th>\n",
       "      <td>DWARKA MOR, DELHI</td>\n",
       "      <td>Independent house for rent commercial &amp; reside...</td>\n",
       "      <td>₹ 30,000</td>\n",
       "      <td>2 Bds - 2 Ba - 670 ft2</td>\n",
       "    </tr>\n",
       "    <tr>\n",
       "      <th>16</th>\n",
       "      <td>VIPIN GARDEN, DELHI</td>\n",
       "      <td>House available for rent</td>\n",
       "      <td>₹ 10,000</td>\n",
       "      <td>2 Bds - 1 Ba - 1000 ft2</td>\n",
       "    </tr>\n",
       "    <tr>\n",
       "      <th>17</th>\n",
       "      <td>DWARKA, DELHI</td>\n",
       "      <td>Fully furnished 15 rooms guest House for rent ...</td>\n",
       "      <td>₹ 3,00,000</td>\n",
       "      <td>1 Bds - 1 Ba - 1000 ft2</td>\n",
       "    </tr>\n",
       "    <tr>\n",
       "      <th>18</th>\n",
       "      <td>MOTI NAGAR, DELHI</td>\n",
       "      <td>HOUSE AVAILABLE FOR RENT 2BHK</td>\n",
       "      <td>₹ 35,000</td>\n",
       "      <td>3 Bds - 2 Ba - 1060 ft2</td>\n",
       "    </tr>\n",
       "    <tr>\n",
       "      <th>19</th>\n",
       "      <td>DWARKA, DELHI</td>\n",
       "      <td>30 plus fully furnished guest house for rent i...</td>\n",
       "      <td>₹ 5,00,000</td>\n",
       "      <td>1 Bds - 1 Ba - 150 ft2</td>\n",
       "    </tr>\n",
       "    <tr>\n",
       "      <th>20</th>\n",
       "      <td>ROHINI SECTOR 24, DELHI</td>\n",
       "      <td>House for Rent</td>\n",
       "      <td>₹ 14,000</td>\n",
       "      <td>2 Bds - 2 Ba - 900 ft2</td>\n",
       "    </tr>\n",
       "    <tr>\n",
       "      <th>21</th>\n",
       "      <td>DWARKA MOR, DELHI</td>\n",
       "      <td>Independent house for rent near Dwarka mode me...</td>\n",
       "      <td>₹ 13,000</td>\n",
       "      <td>2 Bds - 1 Ba - 1200 ft2</td>\n",
       "    </tr>\n",
       "    <tr>\n",
       "      <th>22</th>\n",
       "      <td>GHEVRA, DELHI</td>\n",
       "      <td>House for rent</td>\n",
       "      <td>₹ 6,000</td>\n",
       "      <td>2 Bds - 1 Ba - 950 ft2</td>\n",
       "    </tr>\n",
       "    <tr>\n",
       "      <th>23</th>\n",
       "      <td>DWARKA MOR, DELHI</td>\n",
       "      <td>Indipendent house available for rent new house</td>\n",
       "      <td>₹ 14,000</td>\n",
       "      <td>2 Bds - 1 Ba - 1200 ft2</td>\n",
       "    </tr>\n",
       "    <tr>\n",
       "      <th>24</th>\n",
       "      <td>ASHOK VIHAR PHASE III EXTENSION, GURGAON</td>\n",
       "      <td>House for Rent</td>\n",
       "      <td>₹ 10,000</td>\n",
       "      <td>1 Bds - 1 Ba - 50 ft2</td>\n",
       "    </tr>\n",
       "  </tbody>\n",
       "</table>\n",
       "</div>"
      ],
      "text/plain": [
       "                                     Address  \\\n",
       "0                         NIHAL VIHAR, DELHI   \n",
       "1                       BASAI DARAPUR, DELHI   \n",
       "2                          BUDH VIHAR, DELHI   \n",
       "3                      RAJOURI GARDEN, DELHI   \n",
       "4                       VISHNU GARDEN, DELHI   \n",
       "5                       VISHNU GARDEN, DELHI   \n",
       "6                       PASCHIM VIHAR, DELHI   \n",
       "7                             NANGLOI, DELHI   \n",
       "8                         UTTAM NAGAR, DELHI   \n",
       "9                            BINDAPUR, DELHI   \n",
       "10                        UTTAM NAGAR, DELHI   \n",
       "11                        UTTAM NAGAR, DELHI   \n",
       "12                        UTTAM NAGAR, DELHI   \n",
       "13                        UTTAM NAGAR, DELHI   \n",
       "14                         DWARKA MOR, DELHI   \n",
       "15                         DWARKA MOR, DELHI   \n",
       "16                       VIPIN GARDEN, DELHI   \n",
       "17                             DWARKA, DELHI   \n",
       "18                         MOTI NAGAR, DELHI   \n",
       "19                             DWARKA, DELHI   \n",
       "20                   ROHINI SECTOR 24, DELHI   \n",
       "21                         DWARKA MOR, DELHI   \n",
       "22                             GHEVRA, DELHI   \n",
       "23                         DWARKA MOR, DELHI   \n",
       "24  ASHOK VIHAR PHASE III EXTENSION, GURGAON   \n",
       "\n",
       "                                                  BHK       Price  \\\n",
       "0                             House is ready for rent     ₹ 3,000   \n",
       "1                            3 roomset house for rent     ₹ 9,000   \n",
       "2                                      House for rent     ₹ 6,800   \n",
       "3   11 rooms guest house for rent in Rajouri garde...  ₹ 2,50,000   \n",
       "4                       Newly Launched House for rent    ₹ 20,000   \n",
       "5                             House property For Rent    ₹ 20,000   \n",
       "6                            House available for rent    ₹ 15,000   \n",
       "7                     50 Gaj house available for rent     ₹ 8,000   \n",
       "8     3BHK FULLY FURNISHED INDEPENDENT HOUSE FOR RENT    ₹ 30,000   \n",
       "9                 To let 3 floor whole house for rent    ₹ 18,000   \n",
       "10  2Bhk without landlord peacefull Full furnished...    ₹ 20,000   \n",
       "11  2Bhk fully furnished beautiful house for rent ...    ₹ 20,000   \n",
       "12    1Bhk Fully furnished independent house for rent    ₹ 15,500   \n",
       "13      2Bhk brand new fully furnished house for rent    ₹ 20,000   \n",
       "14  Independent house for rent near Dwarka mode me...    ₹ 13,000   \n",
       "15  Independent house for rent commercial & reside...    ₹ 30,000   \n",
       "16                           House available for rent    ₹ 10,000   \n",
       "17  Fully furnished 15 rooms guest House for rent ...  ₹ 3,00,000   \n",
       "18                      HOUSE AVAILABLE FOR RENT 2BHK    ₹ 35,000   \n",
       "19  30 plus fully furnished guest house for rent i...  ₹ 5,00,000   \n",
       "20                                     House for Rent    ₹ 14,000   \n",
       "21  Independent house for rent near Dwarka mode me...    ₹ 13,000   \n",
       "22                                     House for rent     ₹ 6,000   \n",
       "23     Indipendent house available for rent new house    ₹ 14,000   \n",
       "24                                     House for Rent    ₹ 10,000   \n",
       "\n",
       "                       Squr  \n",
       "0    2 Bds - 1 Ba - 400 ft2  \n",
       "1     3 Bds - 1 Ba - 67 ft2  \n",
       "2    2 Bds - 1 Ba - 500 ft2  \n",
       "3    2 Bds - 2 Ba - 600 ft2  \n",
       "4    2 Bds - 2 Ba - 550 ft2  \n",
       "5    2 Bds - 1 Ba - 357 ft2  \n",
       "6    2 Bds - 1 Ba - 500 ft2  \n",
       "7   3 Bds - 2 Ba - 1000 ft2  \n",
       "8    3 Bds - 3 Ba - 972 ft2  \n",
       "9    2 Bds - 2 Ba - 650 ft2  \n",
       "10   2 Bds - 2 Ba - 650 ft2  \n",
       "11   1 Bds - 1 Ba - 550 ft2  \n",
       "12   2 Bds - 2 Ba - 750 ft2  \n",
       "13   2 Bds - 3 Ba - 440 ft2  \n",
       "14  3 Bds - 2 Ba - 1160 ft2  \n",
       "15   2 Bds - 2 Ba - 670 ft2  \n",
       "16  2 Bds - 1 Ba - 1000 ft2  \n",
       "17  1 Bds - 1 Ba - 1000 ft2  \n",
       "18  3 Bds - 2 Ba - 1060 ft2  \n",
       "19   1 Bds - 1 Ba - 150 ft2  \n",
       "20   2 Bds - 2 Ba - 900 ft2  \n",
       "21  2 Bds - 1 Ba - 1200 ft2  \n",
       "22   2 Bds - 1 Ba - 950 ft2  \n",
       "23  2 Bds - 1 Ba - 1200 ft2  \n",
       "24    1 Bds - 1 Ba - 50 ft2  "
      ]
     },
     "execution_count": 98,
     "metadata": {},
     "output_type": "execute_result"
    }
   ],
   "source": [
    "import pandas as pd\n",
    "df=pd.DataFrame({'Address':Address, 'BHK':BHK, 'Price':Price, 'Squr':Squre_fit})\n",
    "df"
   ]
  },
  {
   "cell_type": "markdown",
   "id": "b5884a0c",
   "metadata": {},
   "source": [
    "# 2.Webscraping of Homefinder.com"
   ]
  },
  {
   "cell_type": "code",
   "execution_count": 99,
   "id": "28d1124c",
   "metadata": {},
   "outputs": [],
   "source": [
    "driver=webdriver.Chrome()"
   ]
  },
  {
   "cell_type": "code",
   "execution_count": 100,
   "id": "242d426c",
   "metadata": {},
   "outputs": [],
   "source": [
    "driver.get('https://homefinder.com/')"
   ]
  },
  {
   "cell_type": "code",
   "execution_count": 101,
   "id": "11b389c5",
   "metadata": {},
   "outputs": [],
   "source": [
    "Rental_House=driver.find_element(By.XPATH,\"/html/body/div/div/div/div/section/div/header/div/div/ul/li[2]/button\")\n",
    "Rental_House.click()"
   ]
  },
  {
   "cell_type": "code",
   "execution_count": 102,
   "id": "36654111",
   "metadata": {},
   "outputs": [],
   "source": [
    "Enter_City=driver.find_element(By.XPATH,\"/html/body/div/div/div/div/section/div/header/div/div/div/form/div/div[1]/div/div/input\")\n",
    "Enter_City.send_keys('California')"
   ]
  },
  {
   "cell_type": "code",
   "execution_count": 103,
   "id": "b7574e60",
   "metadata": {},
   "outputs": [],
   "source": [
    "Search_button=driver.find_element(By.XPATH,\"/html/body/div/div/div/div/section/div/header/div/div/div/form/div/div[1]/div/div/div[2]/button/span\")\n",
    "Search_button.click()"
   ]
  },
  {
   "cell_type": "code",
   "execution_count": 104,
   "id": "546aa38e",
   "metadata": {},
   "outputs": [
    {
     "ename": "NoSuchElementException",
     "evalue": "Message: no such element: Unable to locate element: {\"method\":\"xpath\",\"selector\":\"/html/body/div/div/div/div/div/section[2]/ul/li[1]/a\"}\n  (Session info: chrome=122.0.6261.69); For documentation on this error, please visit: https://www.selenium.dev/documentation/webdriver/troubleshooting/errors#no-such-element-exception\nStacktrace:\n\tGetHandleVerifier [0x00007FF7E2094C82+3505170]\n\t(No symbol) [0x00007FF7E1CC0852]\n\t(No symbol) [0x00007FF7E1B74145]\n\t(No symbol) [0x00007FF7E1BB9ADD]\n\t(No symbol) [0x00007FF7E1BB9C1C]\n\t(No symbol) [0x00007FF7E1BFAB27]\n\t(No symbol) [0x00007FF7E1BDBECF]\n\t(No symbol) [0x00007FF7E1BF83B2]\n\t(No symbol) [0x00007FF7E1BDBC33]\n\t(No symbol) [0x00007FF7E1BAD618]\n\t(No symbol) [0x00007FF7E1BAE6B1]\n\tGetHandleVerifier [0x00007FF7E20C67DD+3708781]\n\tGetHandleVerifier [0x00007FF7E211FC5D+4074477]\n\tGetHandleVerifier [0x00007FF7E2117DDF+4042095]\n\tGetHandleVerifier [0x00007FF7E1DEA136+708806]\n\t(No symbol) [0x00007FF7E1CCCB0F]\n\t(No symbol) [0x00007FF7E1CC7D14]\n\t(No symbol) [0x00007FF7E1CC7E6C]\n\t(No symbol) [0x00007FF7E1CB79A4]\n\tBaseThreadInitThunk [0x00007FFC747B257D+29]\n\tRtlUserThreadStart [0x00007FFC75D2AA58+40]\n",
     "output_type": "error",
     "traceback": [
      "\u001b[1;31m---------------------------------------------------------------------------\u001b[0m",
      "\u001b[1;31mNoSuchElementException\u001b[0m                    Traceback (most recent call last)",
      "\u001b[1;32m~\\AppData\\Local\\Temp\\ipykernel_7720\\3648226141.py\u001b[0m in \u001b[0;36m<module>\u001b[1;34m\u001b[0m\n\u001b[1;32m----> 1\u001b[1;33m \u001b[0mCal_City\u001b[0m\u001b[1;33m=\u001b[0m\u001b[0mdriver\u001b[0m\u001b[1;33m.\u001b[0m\u001b[0mfind_element\u001b[0m\u001b[1;33m(\u001b[0m\u001b[0mBy\u001b[0m\u001b[1;33m.\u001b[0m\u001b[0mXPATH\u001b[0m\u001b[1;33m,\u001b[0m\u001b[1;34m\"/html/body/div/div/div/div/div/section[2]/ul/li[1]/a\"\u001b[0m\u001b[1;33m)\u001b[0m\u001b[1;33m\u001b[0m\u001b[1;33m\u001b[0m\u001b[0m\n\u001b[0m\u001b[0;32m      2\u001b[0m \u001b[0mCal_City\u001b[0m\u001b[1;33m.\u001b[0m\u001b[0mclick\u001b[0m\u001b[1;33m(\u001b[0m\u001b[1;33m)\u001b[0m\u001b[1;33m\u001b[0m\u001b[1;33m\u001b[0m\u001b[0m\n",
      "\u001b[1;32m~\\anaconda3\\lib\\site-packages\\selenium\\webdriver\\remote\\webdriver.py\u001b[0m in \u001b[0;36mfind_element\u001b[1;34m(self, by, value)\u001b[0m\n\u001b[0;32m    736\u001b[0m             \u001b[0mvalue\u001b[0m \u001b[1;33m=\u001b[0m \u001b[1;34mf'[name=\"{value}\"]'\u001b[0m\u001b[1;33m\u001b[0m\u001b[1;33m\u001b[0m\u001b[0m\n\u001b[0;32m    737\u001b[0m \u001b[1;33m\u001b[0m\u001b[0m\n\u001b[1;32m--> 738\u001b[1;33m         \u001b[1;32mreturn\u001b[0m \u001b[0mself\u001b[0m\u001b[1;33m.\u001b[0m\u001b[0mexecute\u001b[0m\u001b[1;33m(\u001b[0m\u001b[0mCommand\u001b[0m\u001b[1;33m.\u001b[0m\u001b[0mFIND_ELEMENT\u001b[0m\u001b[1;33m,\u001b[0m \u001b[1;33m{\u001b[0m\u001b[1;34m\"using\"\u001b[0m\u001b[1;33m:\u001b[0m \u001b[0mby\u001b[0m\u001b[1;33m,\u001b[0m \u001b[1;34m\"value\"\u001b[0m\u001b[1;33m:\u001b[0m \u001b[0mvalue\u001b[0m\u001b[1;33m}\u001b[0m\u001b[1;33m)\u001b[0m\u001b[1;33m[\u001b[0m\u001b[1;34m\"value\"\u001b[0m\u001b[1;33m]\u001b[0m\u001b[1;33m\u001b[0m\u001b[1;33m\u001b[0m\u001b[0m\n\u001b[0m\u001b[0;32m    739\u001b[0m \u001b[1;33m\u001b[0m\u001b[0m\n\u001b[0;32m    740\u001b[0m     \u001b[1;32mdef\u001b[0m \u001b[0mfind_elements\u001b[0m\u001b[1;33m(\u001b[0m\u001b[0mself\u001b[0m\u001b[1;33m,\u001b[0m \u001b[0mby\u001b[0m\u001b[1;33m=\u001b[0m\u001b[0mBy\u001b[0m\u001b[1;33m.\u001b[0m\u001b[0mID\u001b[0m\u001b[1;33m,\u001b[0m \u001b[0mvalue\u001b[0m\u001b[1;33m:\u001b[0m \u001b[0mOptional\u001b[0m\u001b[1;33m[\u001b[0m\u001b[0mstr\u001b[0m\u001b[1;33m]\u001b[0m \u001b[1;33m=\u001b[0m \u001b[1;32mNone\u001b[0m\u001b[1;33m)\u001b[0m \u001b[1;33m->\u001b[0m \u001b[0mList\u001b[0m\u001b[1;33m[\u001b[0m\u001b[0mWebElement\u001b[0m\u001b[1;33m]\u001b[0m\u001b[1;33m:\u001b[0m\u001b[1;33m\u001b[0m\u001b[1;33m\u001b[0m\u001b[0m\n",
      "\u001b[1;32m~\\anaconda3\\lib\\site-packages\\selenium\\webdriver\\remote\\webdriver.py\u001b[0m in \u001b[0;36mexecute\u001b[1;34m(self, driver_command, params)\u001b[0m\n\u001b[0;32m    342\u001b[0m         \u001b[0mresponse\u001b[0m \u001b[1;33m=\u001b[0m \u001b[0mself\u001b[0m\u001b[1;33m.\u001b[0m\u001b[0mcommand_executor\u001b[0m\u001b[1;33m.\u001b[0m\u001b[0mexecute\u001b[0m\u001b[1;33m(\u001b[0m\u001b[0mdriver_command\u001b[0m\u001b[1;33m,\u001b[0m \u001b[0mparams\u001b[0m\u001b[1;33m)\u001b[0m\u001b[1;33m\u001b[0m\u001b[1;33m\u001b[0m\u001b[0m\n\u001b[0;32m    343\u001b[0m         \u001b[1;32mif\u001b[0m \u001b[0mresponse\u001b[0m\u001b[1;33m:\u001b[0m\u001b[1;33m\u001b[0m\u001b[1;33m\u001b[0m\u001b[0m\n\u001b[1;32m--> 344\u001b[1;33m             \u001b[0mself\u001b[0m\u001b[1;33m.\u001b[0m\u001b[0merror_handler\u001b[0m\u001b[1;33m.\u001b[0m\u001b[0mcheck_response\u001b[0m\u001b[1;33m(\u001b[0m\u001b[0mresponse\u001b[0m\u001b[1;33m)\u001b[0m\u001b[1;33m\u001b[0m\u001b[1;33m\u001b[0m\u001b[0m\n\u001b[0m\u001b[0;32m    345\u001b[0m             \u001b[0mresponse\u001b[0m\u001b[1;33m[\u001b[0m\u001b[1;34m\"value\"\u001b[0m\u001b[1;33m]\u001b[0m \u001b[1;33m=\u001b[0m \u001b[0mself\u001b[0m\u001b[1;33m.\u001b[0m\u001b[0m_unwrap_value\u001b[0m\u001b[1;33m(\u001b[0m\u001b[0mresponse\u001b[0m\u001b[1;33m.\u001b[0m\u001b[0mget\u001b[0m\u001b[1;33m(\u001b[0m\u001b[1;34m\"value\"\u001b[0m\u001b[1;33m,\u001b[0m \u001b[1;32mNone\u001b[0m\u001b[1;33m)\u001b[0m\u001b[1;33m)\u001b[0m\u001b[1;33m\u001b[0m\u001b[1;33m\u001b[0m\u001b[0m\n\u001b[0;32m    346\u001b[0m             \u001b[1;32mreturn\u001b[0m \u001b[0mresponse\u001b[0m\u001b[1;33m\u001b[0m\u001b[1;33m\u001b[0m\u001b[0m\n",
      "\u001b[1;32m~\\anaconda3\\lib\\site-packages\\selenium\\webdriver\\remote\\errorhandler.py\u001b[0m in \u001b[0;36mcheck_response\u001b[1;34m(self, response)\u001b[0m\n\u001b[0;32m    227\u001b[0m                 \u001b[0malert_text\u001b[0m \u001b[1;33m=\u001b[0m \u001b[0mvalue\u001b[0m\u001b[1;33m[\u001b[0m\u001b[1;34m\"alert\"\u001b[0m\u001b[1;33m]\u001b[0m\u001b[1;33m.\u001b[0m\u001b[0mget\u001b[0m\u001b[1;33m(\u001b[0m\u001b[1;34m\"text\"\u001b[0m\u001b[1;33m)\u001b[0m\u001b[1;33m\u001b[0m\u001b[1;33m\u001b[0m\u001b[0m\n\u001b[0;32m    228\u001b[0m             \u001b[1;32mraise\u001b[0m \u001b[0mexception_class\u001b[0m\u001b[1;33m(\u001b[0m\u001b[0mmessage\u001b[0m\u001b[1;33m,\u001b[0m \u001b[0mscreen\u001b[0m\u001b[1;33m,\u001b[0m \u001b[0mstacktrace\u001b[0m\u001b[1;33m,\u001b[0m \u001b[0malert_text\u001b[0m\u001b[1;33m)\u001b[0m  \u001b[1;31m# type: ignore[call-arg]  # mypy is not smart enough here\u001b[0m\u001b[1;33m\u001b[0m\u001b[1;33m\u001b[0m\u001b[0m\n\u001b[1;32m--> 229\u001b[1;33m         \u001b[1;32mraise\u001b[0m \u001b[0mexception_class\u001b[0m\u001b[1;33m(\u001b[0m\u001b[0mmessage\u001b[0m\u001b[1;33m,\u001b[0m \u001b[0mscreen\u001b[0m\u001b[1;33m,\u001b[0m \u001b[0mstacktrace\u001b[0m\u001b[1;33m)\u001b[0m\u001b[1;33m\u001b[0m\u001b[1;33m\u001b[0m\u001b[0m\n\u001b[0m",
      "\u001b[1;31mNoSuchElementException\u001b[0m: Message: no such element: Unable to locate element: {\"method\":\"xpath\",\"selector\":\"/html/body/div/div/div/div/div/section[2]/ul/li[1]/a\"}\n  (Session info: chrome=122.0.6261.69); For documentation on this error, please visit: https://www.selenium.dev/documentation/webdriver/troubleshooting/errors#no-such-element-exception\nStacktrace:\n\tGetHandleVerifier [0x00007FF7E2094C82+3505170]\n\t(No symbol) [0x00007FF7E1CC0852]\n\t(No symbol) [0x00007FF7E1B74145]\n\t(No symbol) [0x00007FF7E1BB9ADD]\n\t(No symbol) [0x00007FF7E1BB9C1C]\n\t(No symbol) [0x00007FF7E1BFAB27]\n\t(No symbol) [0x00007FF7E1BDBECF]\n\t(No symbol) [0x00007FF7E1BF83B2]\n\t(No symbol) [0x00007FF7E1BDBC33]\n\t(No symbol) [0x00007FF7E1BAD618]\n\t(No symbol) [0x00007FF7E1BAE6B1]\n\tGetHandleVerifier [0x00007FF7E20C67DD+3708781]\n\tGetHandleVerifier [0x00007FF7E211FC5D+4074477]\n\tGetHandleVerifier [0x00007FF7E2117DDF+4042095]\n\tGetHandleVerifier [0x00007FF7E1DEA136+708806]\n\t(No symbol) [0x00007FF7E1CCCB0F]\n\t(No symbol) [0x00007FF7E1CC7D14]\n\t(No symbol) [0x00007FF7E1CC7E6C]\n\t(No symbol) [0x00007FF7E1CB79A4]\n\tBaseThreadInitThunk [0x00007FFC747B257D+29]\n\tRtlUserThreadStart [0x00007FFC75D2AA58+40]\n"
     ]
    }
   ],
   "source": [
    "Cal_City=driver.find_element(By.XPATH,\"/html/body/div/div/div/div/div/section[2]/ul/li[1]/a\")\n",
    "Cal_City.click()"
   ]
  },
  {
   "cell_type": "code",
   "execution_count": null,
   "id": "54cc7cbb",
   "metadata": {},
   "outputs": [],
   "source": [
    "Address=[]\n",
    "Price=[]\n",
    "Squre_fit=[]\n"
   ]
  },
  {
   "cell_type": "code",
   "execution_count": null,
   "id": "36e4e761",
   "metadata": {},
   "outputs": [],
   "source": [
    "\n",
    "Area_Address=driver.find_elements(By.XPATH,'//div[@class=\"addr-component\"]')\n",
    "for i in Area_Address[0:20]:\n",
    "    add=i.text\n",
    "    Address.append(add) \n",
    "    \n",
    "House_Price=driver.find_elements(By.XPATH,'//div[@class=\"h4 text-primary mb-0\"]')\n",
    "for i in House_Price[0:20]:\n",
    "    price=i.text\n",
    "    Price.append(price)\n",
    "    \n",
    "Squre=driver.find_elements(By.XPATH,'//div[@class=\"text-muted\"]')\n",
    "for i in Squre[0:20]:\n",
    "    squre=i.text\n",
    "    Squre_fit.append(squre)\n",
    "    \n",
    "    \n",
    "Next_button=driver.find_element(By.XPATH,\"/html/body/div/div/div/section/div[1]/div[4]/div[1]/div[3]/nav/ul/li[7]/a\")\n",
    "Next_button.click()"
   ]
  },
  {
   "cell_type": "code",
   "execution_count": null,
   "id": "786a1fdb",
   "metadata": {},
   "outputs": [],
   "source": []
  },
  {
   "cell_type": "code",
   "execution_count": null,
   "id": "91d95a34",
   "metadata": {},
   "outputs": [],
   "source": [
    "print(len(Address),len(Squre_fit),len(Price))"
   ]
  },
  {
   "cell_type": "code",
   "execution_count": null,
   "id": "f9013d96",
   "metadata": {},
   "outputs": [],
   "source": [
    "import pandas as pd\n",
    "df=pd.DataFrame({'Address':Address, 'Price':Price, 'Squr':Squre_fit})\n",
    "df"
   ]
  },
  {
   "cell_type": "code",
   "execution_count": null,
   "id": "03a5ce90",
   "metadata": {},
   "outputs": [],
   "source": [
    "\n"
   ]
  },
  {
   "cell_type": "code",
   "execution_count": null,
   "id": "9d3533be",
   "metadata": {},
   "outputs": [],
   "source": []
  },
  {
   "cell_type": "code",
   "execution_count": null,
   "id": "0689d113",
   "metadata": {},
   "outputs": [],
   "source": [
    "Next_button=driver.find_element(By.XPATH,\"/html/body/div/div/div/section/div[1]/div[4]/div[1]/div[3]/nav/ul/li[7]/a\")\n",
    "Next_button.click()"
   ]
  },
  {
   "cell_type": "code",
   "execution_count": null,
   "id": "66fceb00",
   "metadata": {},
   "outputs": [],
   "source": [
    "Address=[]\n",
    "Price=[]\n",
    "Squre_fit=[]\n"
   ]
  },
  {
   "cell_type": "code",
   "execution_count": null,
   "id": "a1fa08ff",
   "metadata": {},
   "outputs": [],
   "source": [
    "Area_Address=driver.find_elements(By.XPATH,'//div[@class=\"addr-component\"]')\n",
    "for i in Area_Address:\n",
    "    add=i.text\n",
    "    Address.append(add) \n",
    "    \n",
    "House_Price=driver.find_elements(By.XPATH,'//div[@class=\"h4 text-primary mb-0\"]')\n",
    "for i in House_Price:\n",
    "    price=i.text\n",
    "    Price.append(price)\n",
    "    \n",
    "Squre=driver.find_elements(By.XPATH,'//div[@class=\"text-muted\"]')\n",
    "for i in Squre:\n",
    "    squre=i.text\n",
    "    Squre_fit.append(squre)"
   ]
  },
  {
   "cell_type": "code",
   "execution_count": null,
   "id": "5076b1c3",
   "metadata": {},
   "outputs": [],
   "source": [
    "print(len(Address),len(Squre_fit),len(Price))"
   ]
  },
  {
   "cell_type": "code",
   "execution_count": null,
   "id": "cdba0ec8",
   "metadata": {},
   "outputs": [],
   "source": [
    "import pandas as pd\n",
    "df=pd.DataFrame({'Address':Address, 'Price':Price, 'Squr':Squre_fit})\n",
    "df"
   ]
  },
  {
   "cell_type": "code",
   "execution_count": null,
   "id": "1d5049a6",
   "metadata": {},
   "outputs": [],
   "source": [
    "Page=[]\n",
    "\n",
    "for i in Page[1:93]:\n",
    "    page=i.text\n",
    "    Page.append(page)"
   ]
  },
  {
   "cell_type": "code",
   "execution_count": null,
   "id": "677857fd",
   "metadata": {},
   "outputs": [],
   "source": [
    "df.to_csv('Tenent.csv')"
   ]
  },
  {
   "cell_type": "code",
   "execution_count": null,
   "id": "0afce686",
   "metadata": {},
   "outputs": [],
   "source": [
    "#page 3\n",
    "Next_button=driver.find_element(By.XPATH,\"/html/body/div/div/div/section/div[1]/div[4]/div[1]/div[3]/nav/ul/li[8]/a\")\n",
    "Next_button.click()\n",
    "\n"
   ]
  },
  {
   "cell_type": "code",
   "execution_count": null,
   "id": "c0ff02fb",
   "metadata": {},
   "outputs": [],
   "source": [
    "Address=[]\n",
    "Price=[]\n",
    "Squre_fit=[]\n"
   ]
  },
  {
   "cell_type": "code",
   "execution_count": null,
   "id": "23b7254f",
   "metadata": {},
   "outputs": [],
   "source": [
    "Area_Address=driver.find_elements(By.XPATH,'//div[@class=\"addr-component\"]')\n",
    "for i in Area_Address:\n",
    "    add=i.text\n",
    "    Address.append(add) \n",
    "    \n",
    "House_Price=driver.find_elements(By.XPATH,'//div[@class=\"h4 text-primary mb-0\"]')\n",
    "for i in House_Price:\n",
    "    price=i.text\n",
    "    Price.append(price)\n",
    "    \n",
    "Squre=driver.find_elements(By.XPATH,'//div[@class=\"text-muted\"]')\n",
    "for i in Squre:\n",
    "    squre=i.text\n",
    "    Squre_fit.append(squre)"
   ]
  },
  {
   "cell_type": "code",
   "execution_count": null,
   "id": "d4747fcf",
   "metadata": {},
   "outputs": [],
   "source": [
    "print(len(Address),len(Squre_fit),len(Price))"
   ]
  },
  {
   "cell_type": "code",
   "execution_count": null,
   "id": "63b88f78",
   "metadata": {},
   "outputs": [],
   "source": [
    "import pandas as pd\n",
    "df=pd.DataFrame({'Address':Address, 'Price':Price, 'Squr':Squre_fit})\n",
    "df"
   ]
  },
  {
   "cell_type": "code",
   "execution_count": null,
   "id": "0237d522",
   "metadata": {},
   "outputs": [],
   "source": [
    "#page 4\n",
    "Next_button=driver.find_element(By.XPATH,\"/html/body/div/div/div/section/div[1]/div[4]/div[1]/div[3]/nav/ul/li[5]/a\")\n",
    "Next_button.click()\n"
   ]
  },
  {
   "cell_type": "code",
   "execution_count": null,
   "id": "552e2837",
   "metadata": {},
   "outputs": [],
   "source": [
    "Address=[]\n",
    "Price=[]\n",
    "Squre_fit=[]"
   ]
  },
  {
   "cell_type": "code",
   "execution_count": null,
   "id": "c13e3a39",
   "metadata": {},
   "outputs": [],
   "source": [
    "Area_Address=driver.find_elements(By.XPATH,'//div[@class=\"addr-component\"]')\n",
    "for i in Area_Address:\n",
    "    add=i.text\n",
    "    Address.append(add) \n",
    "    \n",
    "House_Price=driver.find_elements(By.XPATH,'//div[@class=\"h4 text-primary mb-0\"]')\n",
    "for i in House_Price:\n",
    "    price=i.text\n",
    "    Price.append(price)\n",
    "    \n",
    "Squre=driver.find_elements(By.XPATH,'//div[@class=\"text-muted\"]')\n",
    "for i in Squre:\n",
    "    squre=i.text\n",
    "    Squre_fit.append(squre)"
   ]
  },
  {
   "cell_type": "code",
   "execution_count": null,
   "id": "31096424",
   "metadata": {},
   "outputs": [],
   "source": [
    "print(len(Address),len(Squre_fit),len(Price))"
   ]
  },
  {
   "cell_type": "code",
   "execution_count": null,
   "id": "dc8c5cdf",
   "metadata": {},
   "outputs": [],
   "source": [
    "import pandas as pd\n",
    "df=pd.DataFrame({'Address':Address, 'Price':Price, 'Squr':Squre_fit})\n",
    "df"
   ]
  },
  {
   "cell_type": "code",
   "execution_count": null,
   "id": "542329be",
   "metadata": {},
   "outputs": [],
   "source": [
    "#page 5\n",
    "Next_button=driver.find_element(By.XPATH,\"/html/body/div/div/div/section/div[1]/div[4]/div[1]/div[3]/nav/ul/li[6]/a\")\n",
    "Next_button.click()"
   ]
  },
  {
   "cell_type": "code",
   "execution_count": null,
   "id": "ac3aa3f3",
   "metadata": {},
   "outputs": [],
   "source": [
    "Address=[]\n",
    "Price=[]\n",
    "Squre_fit=[]"
   ]
  },
  {
   "cell_type": "code",
   "execution_count": null,
   "id": "29e5b4e8",
   "metadata": {},
   "outputs": [],
   "source": [
    "Area_Address=driver.find_elements(By.XPATH,'//div[@class=\"addr-component\"]')\n",
    "for i in Area_Address[0:20]:\n",
    "    add=i.text\n",
    "    Address.append(add) \n",
    "    \n",
    "House_Price=driver.find_elements(By.XPATH,'//div[@class=\"h4 text-primary mb-0\"]')\n",
    "for i in House_Price[0:20]:\n",
    "    price=i.text\n",
    "    Price.append(price)\n",
    "    \n",
    "Squre=driver.find_elements(By.XPATH,'//div[@class=\"text-muted\"]')\n",
    "for i in Squre[0:20]:\n",
    "    squre=i.text\n",
    "    Squre_fit.append(squre)"
   ]
  },
  {
   "cell_type": "code",
   "execution_count": null,
   "id": "37c1c8b0",
   "metadata": {},
   "outputs": [],
   "source": [
    "print(len(Address),len(Squre_fit),len(Price))"
   ]
  },
  {
   "cell_type": "code",
   "execution_count": null,
   "id": "5372f840",
   "metadata": {},
   "outputs": [],
   "source": [
    "import pandas as pd\n",
    "df=pd.DataFrame({'Address':Address, 'Price':Price, 'Squr':Squre_fit})\n",
    "df"
   ]
  },
  {
   "cell_type": "code",
   "execution_count": null,
   "id": "6657df3a",
   "metadata": {},
   "outputs": [],
   "source": [
    "#page 6\n",
    "Next_button=driver.find_element(By.XPATH,\"/html/body/div/div/div/section/div[1]/div[4]/div[1]/div[3]/nav/ul/li[7]/a\")\n",
    "Next_button.click()\n"
   ]
  },
  {
   "cell_type": "code",
   "execution_count": null,
   "id": "4278e1ee",
   "metadata": {},
   "outputs": [],
   "source": [
    "Address=[]\n",
    "Price=[]\n",
    "Squre_fit=[]"
   ]
  },
  {
   "cell_type": "code",
   "execution_count": null,
   "id": "ece9a9d5",
   "metadata": {},
   "outputs": [],
   "source": [
    "Area_Address=driver.find_elements(By.XPATH,'//div[@class=\"addr-component\"]')\n",
    "for i in Area_Address[0:20]:\n",
    "    add=i.text\n",
    "    Address.append(add) \n",
    "    \n",
    "House_Price=driver.find_elements(By.XPATH,'//div[@class=\"h4 text-primary mb-0\"]')\n",
    "for i in House_Price[0:20]:\n",
    "    price=i.text\n",
    "    Price.append(price)\n",
    "    \n",
    "Squre=driver.find_elements(By.XPATH,'//div[@class=\"text-muted\"]')\n",
    "for i in Squre[0:20]:\n",
    "    squre=i.text\n",
    "    Squre_fit.append(squre)"
   ]
  },
  {
   "cell_type": "code",
   "execution_count": null,
   "id": "e8420c7b",
   "metadata": {},
   "outputs": [],
   "source": [
    "print(len(Address),len(Squre_fit),len(Price))"
   ]
  },
  {
   "cell_type": "code",
   "execution_count": null,
   "id": "f6adfa64",
   "metadata": {},
   "outputs": [],
   "source": [
    "import pandas as pd\n",
    "df=pd.DataFrame({'Address':Address, 'Price':Price, 'Squr':Squre_fit})\n",
    "df"
   ]
  },
  {
   "cell_type": "code",
   "execution_count": null,
   "id": "7aa1ab11",
   "metadata": {},
   "outputs": [],
   "source": [
    "#page 7\n",
    "Next_button=driver.find_element(By.XPATH,\"/html/body/div/div/div/section/div[1]/div[4]/div[1]/div[3]/nav/ul/li[7]/a\")\n",
    "Next_button.click()\n"
   ]
  },
  {
   "cell_type": "code",
   "execution_count": null,
   "id": "da0b71eb",
   "metadata": {},
   "outputs": [],
   "source": [
    "Address=[]\n",
    "Price=[]\n",
    "Squre_fit=[]"
   ]
  },
  {
   "cell_type": "code",
   "execution_count": null,
   "id": "59c82f1e",
   "metadata": {},
   "outputs": [],
   "source": [
    "Area_Address=driver.find_elements(By.XPATH,'//div[@class=\"addr-component\"]')\n",
    "for i in Area_Address[0:20]:\n",
    "    add=i.text\n",
    "    Address.append(add) \n",
    "    \n",
    "House_Price=driver.find_elements(By.XPATH,'//div[@class=\"h4 text-primary mb-0\"]')\n",
    "for i in House_Price[0:20]:\n",
    "    price=i.text\n",
    "    Price.append(price)\n",
    "    \n",
    "Squre=driver.find_elements(By.XPATH,'//div[@class=\"text-muted\"]')\n",
    "for i in Squre[0:20]:\n",
    "    squre=i.text\n",
    "    Squre_fit.append(squre)"
   ]
  },
  {
   "cell_type": "code",
   "execution_count": null,
   "id": "7d9a913e",
   "metadata": {},
   "outputs": [],
   "source": [
    "print(len(Address),len(Squre_fit),len(Price))"
   ]
  },
  {
   "cell_type": "code",
   "execution_count": null,
   "id": "077c5c68",
   "metadata": {},
   "outputs": [],
   "source": [
    "import pandas as pd\n",
    "df=pd.DataFrame({'Address':Address, 'Price':Price, 'Squr':Squre_fit})\n",
    "df"
   ]
  },
  {
   "cell_type": "code",
   "execution_count": null,
   "id": "6412aa44",
   "metadata": {},
   "outputs": [],
   "source": [
    "#page 8\n",
    "Next_button=driver.find_element(By.XPATH,\"/html/body/div/div/div/section/div[1]/div[4]/div[1]/div[3]/nav/ul/li[7]/a\")\n",
    "Next_button.click()"
   ]
  },
  {
   "cell_type": "code",
   "execution_count": null,
   "id": "bc1222ab",
   "metadata": {},
   "outputs": [],
   "source": [
    "Address=[]\n",
    "Price=[]\n",
    "Squre_fit=[]"
   ]
  },
  {
   "cell_type": "code",
   "execution_count": null,
   "id": "dbf41e1f",
   "metadata": {},
   "outputs": [],
   "source": [
    "Area_Address=driver.find_elements(By.XPATH,'//div[@class=\"addr-component\"]')\n",
    "for i in Area_Address[0:20]:\n",
    "    add=i.text\n",
    "    Address.append(add) \n",
    "    \n",
    "House_Price=driver.find_elements(By.XPATH,'//div[@class=\"h4 text-primary mb-0\"]')\n",
    "for i in House_Price[0:20]:\n",
    "    price=i.text\n",
    "    Price.append(price)\n",
    "    \n",
    "Squre=driver.find_elements(By.XPATH,'//div[@class=\"text-muted\"]')\n",
    "for i in Squre[0:20]:\n",
    "    squre=i.text\n",
    "    Squre_fit.append(squre)"
   ]
  },
  {
   "cell_type": "code",
   "execution_count": null,
   "id": "afffceb5",
   "metadata": {},
   "outputs": [],
   "source": [
    "print(len(Address),len(Squre_fit),len(Price))"
   ]
  },
  {
   "cell_type": "code",
   "execution_count": null,
   "id": "b95a4c72",
   "metadata": {},
   "outputs": [],
   "source": [
    "import pandas as pd\n",
    "df=pd.DataFrame({'Address':Address, 'Price':Price, 'Squr':Squre_fit})\n",
    "df"
   ]
  },
  {
   "cell_type": "code",
   "execution_count": null,
   "id": "322fbba7",
   "metadata": {},
   "outputs": [],
   "source": [
    "#page 9\n",
    "Next_button=driver.find_element(By.XPATH,\"/html/body/div/div/div/section/div[1]/div[4]/div[1]/div[3]/nav/ul/li[7]/a\")\n",
    "Next_button.click()"
   ]
  },
  {
   "cell_type": "code",
   "execution_count": null,
   "id": "1f83502c",
   "metadata": {},
   "outputs": [],
   "source": [
    "Address=[]\n",
    "Price=[]\n",
    "Squre_fit=[]"
   ]
  },
  {
   "cell_type": "code",
   "execution_count": null,
   "id": "5147d07b",
   "metadata": {},
   "outputs": [],
   "source": [
    "Area_Address=driver.find_elements(By.XPATH,'//div[@class=\"addr-component\"]')\n",
    "for i in Area_Address[0:20]:\n",
    "    add=i.text\n",
    "    Address.append(add) \n",
    "    \n",
    "House_Price=driver.find_elements(By.XPATH,'//div[@class=\"h4 text-primary mb-0\"]')\n",
    "for i in House_Price[0:20]:\n",
    "    price=i.text\n",
    "    Price.append(price)\n",
    "    \n",
    "Squre=driver.find_elements(By.XPATH,'//div[@class=\"text-muted\"]')\n",
    "for i in Squre[0:20]:\n",
    "    squre=i.text\n",
    "    Squre_fit.append(squre)"
   ]
  },
  {
   "cell_type": "code",
   "execution_count": null,
   "id": "38dd2a8d",
   "metadata": {},
   "outputs": [],
   "source": [
    "print(len(Address),len(Squre_fit),len(Price))"
   ]
  },
  {
   "cell_type": "code",
   "execution_count": null,
   "id": "5e204835",
   "metadata": {},
   "outputs": [],
   "source": [
    "import pandas as pd\n",
    "df=pd.DataFrame({'Address':Address, 'Price':Price, 'Squr':Squre_fit})\n",
    "df"
   ]
  },
  {
   "cell_type": "code",
   "execution_count": null,
   "id": "3cc60b1a",
   "metadata": {},
   "outputs": [],
   "source": [
    "#page 10\n",
    "Next_button=driver.find_element(By.XPATH,\"/html/body/div/div/div/section/div[1]/div[4]/div[1]/div[3]/nav/ul/li[7]/a\")\n",
    "Next_button.click()"
   ]
  },
  {
   "cell_type": "code",
   "execution_count": null,
   "id": "822cf314",
   "metadata": {},
   "outputs": [],
   "source": [
    "Address=[]\n",
    "Price=[]\n",
    "Squre_fit=[]"
   ]
  },
  {
   "cell_type": "code",
   "execution_count": null,
   "id": "66394d47",
   "metadata": {},
   "outputs": [],
   "source": [
    "Area_Address=driver.find_elements(By.XPATH,'//div[@class=\"addr-component\"]')\n",
    "for i in Area_Address[0:20]:\n",
    "    add=i.text\n",
    "    Address.append(add) \n",
    "    \n",
    "House_Price=driver.find_elements(By.XPATH,'//div[@class=\"h4 text-primary mb-0\"]')\n",
    "for i in House_Price[0:20]:\n",
    "    price=i.text\n",
    "    Price.append(price)\n",
    "    \n",
    "Squre=driver.find_elements(By.XPATH,'//div[@class=\"text-muted\"]')\n",
    "for i in Squre[0:20]:\n",
    "    squre=i.text\n",
    "    Squre_fit.append(squre)"
   ]
  },
  {
   "cell_type": "code",
   "execution_count": null,
   "id": "70243824",
   "metadata": {},
   "outputs": [],
   "source": [
    "print(len(Address),len(Squre_fit),len(Price))"
   ]
  },
  {
   "cell_type": "code",
   "execution_count": null,
   "id": "d60fc90b",
   "metadata": {},
   "outputs": [],
   "source": [
    "import pandas as pd\n",
    "df=pd.DataFrame({'Address':Address, 'Price':Price, 'Squr':Squre_fit})\n",
    "df"
   ]
  },
  {
   "cell_type": "code",
   "execution_count": null,
   "id": "b04a303c",
   "metadata": {},
   "outputs": [],
   "source": [
    "#page 11\n",
    "Next_button=driver.find_element(By.XPATH,\"/html/body/div/div/div/section/div[1]/div[4]/div[1]/div[3]/nav/ul/li[7]/a\")\n",
    "Next_button.click()"
   ]
  },
  {
   "cell_type": "code",
   "execution_count": null,
   "id": "6f2b7d80",
   "metadata": {},
   "outputs": [],
   "source": [
    "Address=[]\n",
    "Price=[]\n",
    "Squre_fit=[]"
   ]
  },
  {
   "cell_type": "code",
   "execution_count": null,
   "id": "ab766a55",
   "metadata": {},
   "outputs": [],
   "source": [
    "Area_Address=driver.find_elements(By.XPATH,'//div[@class=\"addr-component\"]')\n",
    "for i in Area_Address[0:20]:\n",
    "    add=i.text\n",
    "    Address.append(add) \n",
    "    \n",
    "House_Price=driver.find_elements(By.XPATH,'//div[@class=\"h4 text-primary mb-0\"]')\n",
    "for i in House_Price[0:20]:\n",
    "    price=i.text\n",
    "    Price.append(price)\n",
    "    \n",
    "Squre=driver.find_elements(By.XPATH,'//div[@class=\"text-muted\"]')\n",
    "for i in Squre[0:20]:\n",
    "    squre=i.text\n",
    "    Squre_fit.append(squre)"
   ]
  },
  {
   "cell_type": "code",
   "execution_count": null,
   "id": "51218a21",
   "metadata": {},
   "outputs": [],
   "source": [
    "print(len(Address),len(Squre_fit),len(Price))"
   ]
  },
  {
   "cell_type": "code",
   "execution_count": null,
   "id": "c8efb305",
   "metadata": {},
   "outputs": [],
   "source": [
    "import pandas as pd\n",
    "df=pd.DataFrame({'Address':Address, 'Price':Price, 'Squr':Squre_fit})\n",
    "df"
   ]
  },
  {
   "cell_type": "code",
   "execution_count": null,
   "id": "6fd9f5fc",
   "metadata": {},
   "outputs": [],
   "source": [
    "#page 12\n",
    "Next_button=driver.find_element(By.XPATH,\"/html/body/div/div/div/section/div[1]/div[4]/div[1]/div[3]/nav/ul/li[7]/a\")\n",
    "Next_button.click()"
   ]
  },
  {
   "cell_type": "code",
   "execution_count": null,
   "id": "17be2586",
   "metadata": {},
   "outputs": [],
   "source": [
    "Address=[]\n",
    "Price=[]\n",
    "Squre_fit=[]"
   ]
  },
  {
   "cell_type": "code",
   "execution_count": null,
   "id": "b8280d59",
   "metadata": {},
   "outputs": [],
   "source": [
    "Area_Address=driver.find_elements(By.XPATH,'//div[@class=\"addr-component\"]')\n",
    "for i in Area_Address[0:20]:\n",
    "    add=i.text\n",
    "    Address.append(add) \n",
    "    \n",
    "House_Price=driver.find_elements(By.XPATH,'//div[@class=\"h4 text-primary mb-0\"]')\n",
    "for i in House_Price[0:20]:\n",
    "    price=i.text\n",
    "    Price.append(price)\n",
    "    \n",
    "Squre=driver.find_elements(By.XPATH,'//div[@class=\"text-muted\"]')\n",
    "for i in Squre[0:20]:\n",
    "    squre=i.text\n",
    "    Squre_fit.append(squre)"
   ]
  },
  {
   "cell_type": "code",
   "execution_count": null,
   "id": "43d02935",
   "metadata": {},
   "outputs": [],
   "source": [
    "print(len(Address),len(Squre_fit),len(Price))"
   ]
  },
  {
   "cell_type": "code",
   "execution_count": null,
   "id": "0310c85f",
   "metadata": {},
   "outputs": [],
   "source": [
    "import pandas as pd\n",
    "df=pd.DataFrame({'Address':Address, 'Price':Price, 'Squr':Squre_fit})\n",
    "df"
   ]
  },
  {
   "cell_type": "code",
   "execution_count": null,
   "id": "81fde659",
   "metadata": {},
   "outputs": [],
   "source": [
    "#page 13\n",
    "Next_button=driver.find_element(By.XPATH,\"/html/body/div/div/div/section/div[1]/div[4]/div[1]/div[3]/nav/ul/li[7]/a\")\n",
    "Next_button.click()"
   ]
  },
  {
   "cell_type": "code",
   "execution_count": null,
   "id": "e3d2a43a",
   "metadata": {},
   "outputs": [],
   "source": [
    "Address=[]\n",
    "Price=[]\n",
    "Squre_fit=[]"
   ]
  },
  {
   "cell_type": "code",
   "execution_count": null,
   "id": "ec319b51",
   "metadata": {},
   "outputs": [],
   "source": [
    "Area_Address=driver.find_elements(By.XPATH,'//div[@class=\"addr-component\"]')\n",
    "for i in Area_Address[0:20]:\n",
    "    add=i.text\n",
    "    Address.append(add) \n",
    "    \n",
    "House_Price=driver.find_elements(By.XPATH,'//div[@class=\"h4 text-primary mb-0\"]')\n",
    "for i in House_Price[0:20]:\n",
    "    price=i.text\n",
    "    Price.append(price)\n",
    "    \n",
    "Squre=driver.find_elements(By.XPATH,'//div[@class=\"text-muted\"]')\n",
    "for i in Squre[0:20]:\n",
    "    squre=i.text\n",
    "    Squre_fit.append(squre)"
   ]
  },
  {
   "cell_type": "code",
   "execution_count": null,
   "id": "04403409",
   "metadata": {},
   "outputs": [],
   "source": [
    "print(len(Address),len(Squre_fit),len(Price))"
   ]
  },
  {
   "cell_type": "code",
   "execution_count": null,
   "id": "558f9fd9",
   "metadata": {},
   "outputs": [],
   "source": [
    "import pandas as pd\n",
    "df=pd.DataFrame({'Address':Address, 'Price':Price, 'Squr':Squre_fit})\n",
    "df"
   ]
  },
  {
   "cell_type": "code",
   "execution_count": null,
   "id": "2dd7f3de",
   "metadata": {},
   "outputs": [],
   "source": [
    "#page 14\n",
    "Next_button=driver.find_element(By.XPATH,\"/html/body/div/div/div/section/div[1]/div[4]/div[1]/div[3]/nav/ul/li[7]/a\")\n",
    "Next_button.click()"
   ]
  },
  {
   "cell_type": "code",
   "execution_count": null,
   "id": "f1f51b21",
   "metadata": {},
   "outputs": [],
   "source": [
    "Address=[]\n",
    "Price=[]\n",
    "Squre_fit=[]"
   ]
  },
  {
   "cell_type": "code",
   "execution_count": null,
   "id": "32d735ef",
   "metadata": {},
   "outputs": [],
   "source": [
    "Area_Address=driver.find_elements(By.XPATH,'//div[@class=\"addr-component\"]')\n",
    "for i in Area_Address[0:20]:\n",
    "    add=i.text\n",
    "    Address.append(add) \n",
    "    \n",
    "House_Price=driver.find_elements(By.XPATH,'//div[@class=\"h4 text-primary mb-0\"]')\n",
    "for i in House_Price[0:20]:\n",
    "    price=i.text\n",
    "    Price.append(price)\n",
    "    \n",
    "Squre=driver.find_elements(By.XPATH,'//div[@class=\"text-muted\"]')\n",
    "for i in Squre[0:20]:\n",
    "    squre=i.text\n",
    "    Squre_fit.append(squre)"
   ]
  },
  {
   "cell_type": "code",
   "execution_count": null,
   "id": "8f8062fc",
   "metadata": {},
   "outputs": [],
   "source": [
    "print(len(Address),len(Squre_fit),len(Price))"
   ]
  },
  {
   "cell_type": "code",
   "execution_count": null,
   "id": "83b2a9f7",
   "metadata": {},
   "outputs": [],
   "source": [
    "import pandas as pd\n",
    "df=pd.DataFrame({'Address':Address, 'Price':Price, 'Squr':Squre_fit})\n",
    "df"
   ]
  },
  {
   "cell_type": "code",
   "execution_count": null,
   "id": "201e1731",
   "metadata": {},
   "outputs": [],
   "source": [
    "#page 15\n",
    "Next_button=driver.find_element(By.XPATH,\"/html/body/div/div/div/section/div[1]/div[4]/div[1]/div[3]/nav/ul/li[7]/a\")\n",
    "Next_button.click()"
   ]
  },
  {
   "cell_type": "code",
   "execution_count": null,
   "id": "67b5465d",
   "metadata": {},
   "outputs": [],
   "source": [
    "Address=[]\n",
    "Price=[]\n",
    "Squre_fit=[]"
   ]
  },
  {
   "cell_type": "code",
   "execution_count": null,
   "id": "9e4095c9",
   "metadata": {},
   "outputs": [],
   "source": [
    "Area_Address=driver.find_elements(By.XPATH,'//div[@class=\"addr-component\"]')\n",
    "for i in Area_Address[0:20]:\n",
    "    add=i.text\n",
    "    Address.append(add) \n",
    "    \n",
    "House_Price=driver.find_elements(By.XPATH,'//div[@class=\"h4 text-primary mb-0\"]')\n",
    "for i in House_Price[0:20]:\n",
    "    price=i.text\n",
    "    Price.append(price)\n",
    "    \n",
    "Squre=driver.find_elements(By.XPATH,'//div[@class=\"text-muted\"]')\n",
    "for i in Squre[0:20]:\n",
    "    squre=i.text\n",
    "    Squre_fit.append(squre)"
   ]
  },
  {
   "cell_type": "code",
   "execution_count": null,
   "id": "3f3c3195",
   "metadata": {},
   "outputs": [],
   "source": [
    "print(len(Address),len(Squre_fit),len(Price))"
   ]
  },
  {
   "cell_type": "code",
   "execution_count": null,
   "id": "21d9df14",
   "metadata": {},
   "outputs": [],
   "source": [
    "import pandas as pd\n",
    "df=pd.DataFrame({'Address':Address, 'Price':Price, 'Squr':Squre_fit})\n",
    "df"
   ]
  },
  {
   "cell_type": "code",
   "execution_count": null,
   "id": "d43353d8",
   "metadata": {},
   "outputs": [],
   "source": [
    "#page 16\n",
    "Next_button=driver.find_element(By.XPATH,\"/html/body/div/div/div/section/div[1]/div[4]/div[1]/div[3]/nav/ul/li[7]/a\")\n",
    "Next_button.click()"
   ]
  },
  {
   "cell_type": "code",
   "execution_count": null,
   "id": "ce028278",
   "metadata": {},
   "outputs": [],
   "source": [
    "Address=[]\n",
    "Price=[]\n",
    "Squre_fit=[]"
   ]
  },
  {
   "cell_type": "code",
   "execution_count": null,
   "id": "e377dfd1",
   "metadata": {},
   "outputs": [],
   "source": [
    "Area_Address=driver.find_elements(By.XPATH,'//div[@class=\"addr-component\"]')\n",
    "for i in Area_Address[0:20]:\n",
    "    add=i.text\n",
    "    Address.append(add) \n",
    "    \n",
    "House_Price=driver.find_elements(By.XPATH,'//div[@class=\"h4 text-primary mb-0\"]')\n",
    "for i in House_Price[0:20]:\n",
    "    price=i.text\n",
    "    Price.append(price)\n",
    "    \n",
    "Squre=driver.find_elements(By.XPATH,'//div[@class=\"text-muted\"]')\n",
    "for i in Squre[0:20]:\n",
    "    squre=i.text\n",
    "    Squre_fit.append(squre)"
   ]
  },
  {
   "cell_type": "code",
   "execution_count": null,
   "id": "14449e90",
   "metadata": {},
   "outputs": [],
   "source": [
    "print(len(Address),len(Squre_fit),len(Price))"
   ]
  },
  {
   "cell_type": "code",
   "execution_count": null,
   "id": "cd6a298c",
   "metadata": {},
   "outputs": [],
   "source": [
    "import pandas as pd\n",
    "df=pd.DataFrame({'Address':Address, 'Price':Price, 'Squr':Squre_fit})\n",
    "df"
   ]
  },
  {
   "cell_type": "code",
   "execution_count": null,
   "id": "7580122e",
   "metadata": {},
   "outputs": [],
   "source": [
    "#page 17\n",
    "Next_button=driver.find_element(By.XPATH,\"/html/body/div/div/div/section/div[1]/div[4]/div[1]/div[3]/nav/ul/li[7]/a\")\n",
    "Next_button.click()"
   ]
  },
  {
   "cell_type": "code",
   "execution_count": null,
   "id": "1c0d02c3",
   "metadata": {},
   "outputs": [],
   "source": [
    "Address=[]\n",
    "Price=[]\n",
    "Squre_fit=[]"
   ]
  },
  {
   "cell_type": "code",
   "execution_count": null,
   "id": "9b4c61c3",
   "metadata": {},
   "outputs": [],
   "source": [
    "Area_Address=driver.find_elements(By.XPATH,'//div[@class=\"addr-component\"]')\n",
    "for i in Area_Address[0:20]:\n",
    "    add=i.text\n",
    "    Address.append(add) \n",
    "    \n",
    "House_Price=driver.find_elements(By.XPATH,'//div[@class=\"h4 text-primary mb-0\"]')\n",
    "for i in House_Price[0:20]:\n",
    "    price=i.text\n",
    "    Price.append(price)\n",
    "    \n",
    "Squre=driver.find_elements(By.XPATH,'//div[@class=\"text-muted\"]')\n",
    "for i in Squre[0:20]:\n",
    "    squre=i.text\n",
    "    Squre_fit.append(squre)"
   ]
  },
  {
   "cell_type": "code",
   "execution_count": null,
   "id": "2b8882b9",
   "metadata": {},
   "outputs": [],
   "source": [
    "print(len(Address),len(Squre_fit),len(Price))"
   ]
  },
  {
   "cell_type": "code",
   "execution_count": null,
   "id": "a590a9ee",
   "metadata": {},
   "outputs": [],
   "source": [
    "import pandas as pd\n",
    "df=pd.DataFrame({'Address':Address, 'Price':Price, 'Squr':Squre_fit})\n",
    "df"
   ]
  },
  {
   "cell_type": "code",
   "execution_count": null,
   "id": "d18141fb",
   "metadata": {},
   "outputs": [],
   "source": [
    "#page 18\n",
    "Next_button=driver.find_element(By.XPATH,\"/html/body/div/div/div/section/div[1]/div[4]/div[1]/div[3]/nav/ul/li[7]/a\")\n",
    "Next_button.click()"
   ]
  },
  {
   "cell_type": "code",
   "execution_count": null,
   "id": "59f9100b",
   "metadata": {},
   "outputs": [],
   "source": [
    "Address=[]\n",
    "Price=[]\n",
    "Squre_fit=[]"
   ]
  },
  {
   "cell_type": "code",
   "execution_count": null,
   "id": "99f38784",
   "metadata": {},
   "outputs": [],
   "source": [
    "Area_Address=driver.find_elements(By.XPATH,'//div[@class=\"addr-component\"]')\n",
    "for i in Area_Address[0:20]:\n",
    "    add=i.text\n",
    "    Address.append(add) \n",
    "    \n",
    "House_Price=driver.find_elements(By.XPATH,'//div[@class=\"h4 text-primary mb-0\"]')\n",
    "for i in House_Price[0:20]:\n",
    "    price=i.text\n",
    "    Price.append(price)\n",
    "    \n",
    "Squre=driver.find_elements(By.XPATH,'//div[@class=\"text-muted\"]')\n",
    "for i in Squre[0:20]:\n",
    "    squre=i.text\n",
    "    Squre_fit.append(squre)"
   ]
  },
  {
   "cell_type": "code",
   "execution_count": null,
   "id": "845ddcf1",
   "metadata": {},
   "outputs": [],
   "source": [
    "print(len(Address),len(Squre_fit),len(Price))"
   ]
  },
  {
   "cell_type": "code",
   "execution_count": null,
   "id": "253f6bb9",
   "metadata": {},
   "outputs": [],
   "source": [
    "import pandas as pd\n",
    "df=pd.DataFrame({'Address':Address, 'Price':Price, 'Squr':Squre_fit})\n",
    "df"
   ]
  },
  {
   "cell_type": "code",
   "execution_count": null,
   "id": "741bb6e1",
   "metadata": {},
   "outputs": [],
   "source": [
    "#page 19\n",
    "Next_button=driver.find_element(By.XPATH,\"/html/body/div/div/div/section/div[1]/div[4]/div[1]/div[3]/nav/ul/li[7]/a\")\n",
    "Next_button.click()"
   ]
  },
  {
   "cell_type": "code",
   "execution_count": null,
   "id": "576a9fb2",
   "metadata": {},
   "outputs": [],
   "source": [
    "Address=[]\n",
    "Price=[]\n",
    "Squre_fit=[]"
   ]
  },
  {
   "cell_type": "code",
   "execution_count": null,
   "id": "83d541f7",
   "metadata": {},
   "outputs": [],
   "source": [
    "Area_Address=driver.find_elements(By.XPATH,'//div[@class=\"addr-component\"]')\n",
    "for i in Area_Address[0:20]:\n",
    "    add=i.text\n",
    "    Address.append(add) \n",
    "    \n",
    "House_Price=driver.find_elements(By.XPATH,'//div[@class=\"h4 text-primary mb-0\"]')\n",
    "for i in House_Price[0:20]:\n",
    "    price=i.text\n",
    "    Price.append(price)\n",
    "    \n",
    "Squre=driver.find_elements(By.XPATH,'//div[@class=\"text-muted\"]')\n",
    "for i in Squre[0:20]:\n",
    "    squre=i.text\n",
    "    Squre_fit.append(squre)"
   ]
  },
  {
   "cell_type": "code",
   "execution_count": null,
   "id": "7f041a3d",
   "metadata": {},
   "outputs": [],
   "source": [
    "print(len(Address),len(Squre_fit),len(Price))"
   ]
  },
  {
   "cell_type": "code",
   "execution_count": null,
   "id": "f5a7b21a",
   "metadata": {},
   "outputs": [],
   "source": [
    "import pandas as pd\n",
    "df=pd.DataFrame({'Address':Address, 'Price':Price, 'Squr':Squre_fit})\n",
    "df"
   ]
  },
  {
   "cell_type": "code",
   "execution_count": null,
   "id": "0084d7e2",
   "metadata": {},
   "outputs": [],
   "source": [
    "#page 20\n",
    "Next_button=driver.find_element(By.XPATH,\"/html/body/div/div/div/section/div[1]/div[4]/div[1]/div[3]/nav/ul/li[7]/a\")\n",
    "Next_button.click()"
   ]
  },
  {
   "cell_type": "code",
   "execution_count": null,
   "id": "838cd0ba",
   "metadata": {},
   "outputs": [],
   "source": [
    "Address=[]\n",
    "Price=[]\n",
    "Squre_fit=[]"
   ]
  },
  {
   "cell_type": "code",
   "execution_count": null,
   "id": "5a5d3c9f",
   "metadata": {},
   "outputs": [],
   "source": [
    "Area_Address=driver.find_elements(By.XPATH,'//div[@class=\"addr-component\"]')\n",
    "for i in Area_Address[0:20]:\n",
    "    add=i.text\n",
    "    Address.append(add) \n",
    "    \n",
    "House_Price=driver.find_elements(By.XPATH,'//div[@class=\"h4 text-primary mb-0\"]')\n",
    "for i in House_Price[0:20]:\n",
    "    price=i.text\n",
    "    Price.append(price)\n",
    "    \n",
    "Squre=driver.find_elements(By.XPATH,'//div[@class=\"text-muted\"]')\n",
    "for i in Squre[0:20]:\n",
    "    squre=i.text\n",
    "    Squre_fit.append(squre)"
   ]
  },
  {
   "cell_type": "code",
   "execution_count": null,
   "id": "695c5042",
   "metadata": {},
   "outputs": [],
   "source": [
    "print(len(Address),len(Squre_fit),len(Price))"
   ]
  },
  {
   "cell_type": "code",
   "execution_count": null,
   "id": "93a615b7",
   "metadata": {},
   "outputs": [],
   "source": [
    "import pandas as pd\n",
    "df=pd.DataFrame({'Address':Address, 'Price':Price, 'Squr':Squre_fit})\n",
    "df"
   ]
  },
  {
   "cell_type": "code",
   "execution_count": null,
   "id": "531496ff",
   "metadata": {},
   "outputs": [],
   "source": [
    "#page 21\n",
    "Next_button=driver.find_element(By.XPATH,\"/html/body/div/div/div/section/div[1]/div[4]/div[1]/div[3]/nav/ul/li[7]/a\")\n",
    "Next_button.click()"
   ]
  },
  {
   "cell_type": "code",
   "execution_count": null,
   "id": "3fd809eb",
   "metadata": {},
   "outputs": [],
   "source": [
    "Address=[]\n",
    "Price=[]\n",
    "Squre_fit=[]"
   ]
  },
  {
   "cell_type": "code",
   "execution_count": null,
   "id": "a3e448c7",
   "metadata": {},
   "outputs": [],
   "source": [
    "Area_Address=driver.find_elements(By.XPATH,'//div[@class=\"addr-component\"]')\n",
    "for i in Area_Address[0:20]:\n",
    "    add=i.text\n",
    "    Address.append(add) \n",
    "    \n",
    "House_Price=driver.find_elements(By.XPATH,'//div[@class=\"h4 text-primary mb-0\"]')\n",
    "for i in House_Price[0:20]:\n",
    "    price=i.text\n",
    "    Price.append(price)\n",
    "    \n",
    "Squre=driver.find_elements(By.XPATH,'//div[@class=\"text-muted\"]')\n",
    "for i in Squre[0:20]:\n",
    "    squre=i.text\n",
    "    Squre_fit.append(squre)"
   ]
  },
  {
   "cell_type": "code",
   "execution_count": null,
   "id": "790ecbf7",
   "metadata": {},
   "outputs": [],
   "source": [
    "print(len(Address),len(Squre_fit),len(Price))"
   ]
  },
  {
   "cell_type": "code",
   "execution_count": null,
   "id": "1a4547d6",
   "metadata": {},
   "outputs": [],
   "source": [
    "import pandas as pd\n",
    "df=pd.DataFrame({'Address':Address, 'Price':Price, 'Squr':Squre_fit})\n",
    "df"
   ]
  },
  {
   "cell_type": "code",
   "execution_count": null,
   "id": "45c8ec4e",
   "metadata": {},
   "outputs": [],
   "source": [
    "#page 22\n",
    "Next_button=driver.find_element(By.XPATH,\"/html/body/div/div/div/section/div[1]/div[4]/div[1]/div[3]/nav/ul/li[7]/a\")\n",
    "Next_button.click()"
   ]
  },
  {
   "cell_type": "code",
   "execution_count": null,
   "id": "55acca3b",
   "metadata": {},
   "outputs": [],
   "source": [
    "Address=[]\n",
    "Price=[]\n",
    "Squre_fit=[]"
   ]
  },
  {
   "cell_type": "code",
   "execution_count": null,
   "id": "d4aef9b1",
   "metadata": {},
   "outputs": [],
   "source": [
    "Area_Address=driver.find_elements(By.XPATH,'//div[@class=\"addr-component\"]')\n",
    "for i in Area_Address[0:20]:\n",
    "    add=i.text\n",
    "    Address.append(add) \n",
    "    \n",
    "House_Price=driver.find_elements(By.XPATH,'//div[@class=\"h4 text-primary mb-0\"]')\n",
    "for i in House_Price[0:20]:\n",
    "    price=i.text\n",
    "    Price.append(price)\n",
    "    \n",
    "Squre=driver.find_elements(By.XPATH,'//div[@class=\"text-muted\"]')\n",
    "for i in Squre[0:20]:\n",
    "    squre=i.text\n",
    "    Squre_fit.append(squre)"
   ]
  },
  {
   "cell_type": "code",
   "execution_count": null,
   "id": "484004f6",
   "metadata": {},
   "outputs": [],
   "source": [
    "print(len(Address),len(Squre_fit),len(Price))"
   ]
  },
  {
   "cell_type": "code",
   "execution_count": null,
   "id": "cb00fce1",
   "metadata": {},
   "outputs": [],
   "source": [
    "import pandas as pd\n",
    "df=pd.DataFrame({'Address':Address, 'Price':Price, 'Squr':Squre_fit})\n",
    "df"
   ]
  },
  {
   "cell_type": "code",
   "execution_count": null,
   "id": "ecfc1632",
   "metadata": {},
   "outputs": [],
   "source": [
    "#page 23\n",
    "Next_button=driver.find_element(By.XPATH,\"/html/body/div/div/div/section/div[1]/div[4]/div[1]/div[3]/nav/ul/li[7]/a\")\n",
    "Next_button.click()"
   ]
  },
  {
   "cell_type": "code",
   "execution_count": null,
   "id": "599ee7e4",
   "metadata": {},
   "outputs": [],
   "source": [
    "Address=[]\n",
    "Price=[]\n",
    "Squre_fit=[]"
   ]
  },
  {
   "cell_type": "code",
   "execution_count": null,
   "id": "b3536fa1",
   "metadata": {},
   "outputs": [],
   "source": [
    "Area_Address=driver.find_elements(By.XPATH,'//div[@class=\"addr-component\"]')\n",
    "for i in Area_Address[0:20]:\n",
    "    add=i.text\n",
    "    Address.append(add) \n",
    "    \n",
    "House_Price=driver.find_elements(By.XPATH,'//div[@class=\"h4 text-primary mb-0\"]')\n",
    "for i in House_Price[0:20]:\n",
    "    price=i.text\n",
    "    Price.append(price)\n",
    "    \n",
    "Squre=driver.find_elements(By.XPATH,'//div[@class=\"text-muted\"]')\n",
    "for i in Squre[0:20]:\n",
    "    squre=i.text\n",
    "    Squre_fit.append(squre)"
   ]
  },
  {
   "cell_type": "code",
   "execution_count": null,
   "id": "2eda32d5",
   "metadata": {},
   "outputs": [],
   "source": [
    "print(len(Address),len(Squre_fit),len(Price))"
   ]
  },
  {
   "cell_type": "code",
   "execution_count": null,
   "id": "79dba531",
   "metadata": {},
   "outputs": [],
   "source": [
    "import pandas as pd\n",
    "df=pd.DataFrame({'Address':Address, 'Price':Price, 'Squr':Squre_fit})\n",
    "df"
   ]
  },
  {
   "cell_type": "code",
   "execution_count": null,
   "id": "80990761",
   "metadata": {},
   "outputs": [],
   "source": [
    "#page 24\n",
    "Next_button=driver.find_element(By.XPATH,\"/html/body/div/div/div/section/div[1]/div[4]/div[1]/div[3]/nav/ul/li[7]/a\")\n",
    "Next_button.click()"
   ]
  },
  {
   "cell_type": "code",
   "execution_count": null,
   "id": "04a7ebe6",
   "metadata": {},
   "outputs": [],
   "source": [
    "Address=[]\n",
    "Price=[]\n",
    "Squre_fit=[]"
   ]
  },
  {
   "cell_type": "code",
   "execution_count": null,
   "id": "af57601e",
   "metadata": {},
   "outputs": [],
   "source": [
    "Area_Address=driver.find_elements(By.XPATH,'//div[@class=\"addr-component\"]')\n",
    "for i in Area_Address[0:20]:\n",
    "    add=i.text\n",
    "    Address.append(add) \n",
    "    \n",
    "House_Price=driver.find_elements(By.XPATH,'//div[@class=\"h4 text-primary mb-0\"]')\n",
    "for i in House_Price[0:20]:\n",
    "    price=i.text\n",
    "    Price.append(price)\n",
    "    \n",
    "Squre=driver.find_elements(By.XPATH,'//div[@class=\"text-muted\"]')\n",
    "for i in Squre[0:20]:\n",
    "    squre=i.text\n",
    "    Squre_fit.append(squre)"
   ]
  },
  {
   "cell_type": "code",
   "execution_count": null,
   "id": "2cfbf71d",
   "metadata": {},
   "outputs": [],
   "source": [
    "print(len(Address),len(Squre_fit),len(Price))"
   ]
  },
  {
   "cell_type": "code",
   "execution_count": null,
   "id": "e09513f5",
   "metadata": {},
   "outputs": [],
   "source": [
    "import pandas as pd\n",
    "df=pd.DataFrame({'Address':Address, 'Price':Price, 'Squr':Squre_fit})\n",
    "df"
   ]
  },
  {
   "cell_type": "code",
   "execution_count": null,
   "id": "98a394b1",
   "metadata": {},
   "outputs": [],
   "source": [
    "#page 25\n",
    "Next_button=driver.find_element(By.XPATH,\"/html/body/div/div/div/section/div[1]/div[4]/div[1]/div[3]/nav/ul/li[7]/a\")\n",
    "Next_button.click()"
   ]
  },
  {
   "cell_type": "code",
   "execution_count": null,
   "id": "b18768a2",
   "metadata": {},
   "outputs": [],
   "source": [
    "Address=[]\n",
    "Price=[]\n",
    "Squre_fit=[]"
   ]
  },
  {
   "cell_type": "code",
   "execution_count": null,
   "id": "6d8eb6de",
   "metadata": {},
   "outputs": [],
   "source": [
    "Area_Address=driver.find_elements(By.XPATH,'//div[@class=\"addr-component\"]')\n",
    "for i in Area_Address[0:20]:\n",
    "    add=i.text\n",
    "    Address.append(add) \n",
    "    \n",
    "House_Price=driver.find_elements(By.XPATH,'//div[@class=\"h4 text-primary mb-0\"]')\n",
    "for i in House_Price[0:20]:\n",
    "    price=i.text\n",
    "    Price.append(price)\n",
    "    \n",
    "Squre=driver.find_elements(By.XPATH,'//div[@class=\"text-muted\"]')\n",
    "for i in Squre[0:20]:\n",
    "    squre=i.text\n",
    "    Squre_fit.append(squre)"
   ]
  },
  {
   "cell_type": "code",
   "execution_count": null,
   "id": "8f62844c",
   "metadata": {},
   "outputs": [],
   "source": [
    "print(len(Address),len(Squre_fit),len(Price))"
   ]
  },
  {
   "cell_type": "code",
   "execution_count": null,
   "id": "3921a886",
   "metadata": {},
   "outputs": [],
   "source": [
    "import pandas as pd\n",
    "df=pd.DataFrame({'Address':Address, 'Price':Price, 'Squr':Squre_fit})\n",
    "df"
   ]
  },
  {
   "cell_type": "code",
   "execution_count": null,
   "id": "cade508a",
   "metadata": {},
   "outputs": [],
   "source": [
    "#page 26\n",
    "Next_button=driver.find_element(By.XPATH,\"/html/body/div/div/div/section/div[1]/div[4]/div[1]/div[3]/nav/ul/li[7]/a\")\n",
    "Next_button.click()"
   ]
  },
  {
   "cell_type": "code",
   "execution_count": null,
   "id": "de16a359",
   "metadata": {},
   "outputs": [],
   "source": [
    "Address=[]\n",
    "Price=[]\n",
    "Squre_fit=[]"
   ]
  },
  {
   "cell_type": "code",
   "execution_count": null,
   "id": "ff472dbf",
   "metadata": {},
   "outputs": [],
   "source": [
    "Area_Address=driver.find_elements(By.XPATH,'//div[@class=\"addr-component\"]')\n",
    "for i in Area_Address[0:20]:\n",
    "    add=i.text\n",
    "    Address.append(add) \n",
    "    \n",
    "House_Price=driver.find_elements(By.XPATH,'//div[@class=\"h4 text-primary mb-0\"]')\n",
    "for i in House_Price[0:20]:\n",
    "    price=i.text\n",
    "    Price.append(price)\n",
    "    \n",
    "Squre=driver.find_elements(By.XPATH,'//div[@class=\"text-muted\"]')\n",
    "for i in Squre[0:20]:\n",
    "    squre=i.text\n",
    "    Squre_fit.append(squre)"
   ]
  },
  {
   "cell_type": "code",
   "execution_count": null,
   "id": "41dc1fd9",
   "metadata": {},
   "outputs": [],
   "source": [
    "print(len(Address),len(Squre_fit),len(Price))"
   ]
  },
  {
   "cell_type": "code",
   "execution_count": null,
   "id": "41791113",
   "metadata": {},
   "outputs": [],
   "source": [
    "import pandas as pd\n",
    "df=pd.DataFrame({'Address':Address, 'Price':Price, 'Squr':Squre_fit})\n",
    "df"
   ]
  },
  {
   "cell_type": "code",
   "execution_count": null,
   "id": "d6059f05",
   "metadata": {},
   "outputs": [],
   "source": [
    "#page 27\n",
    "Next_button=driver.find_element(By.XPATH,\"/html/body/div/div/div/section/div[1]/div[4]/div[1]/div[3]/nav/ul/li[7]/a\")\n",
    "Next_button.click()"
   ]
  },
  {
   "cell_type": "code",
   "execution_count": null,
   "id": "a909e00d",
   "metadata": {},
   "outputs": [],
   "source": [
    "Address=[]\n",
    "Price=[]\n",
    "Squre_fit=[]"
   ]
  },
  {
   "cell_type": "code",
   "execution_count": null,
   "id": "bb8d3086",
   "metadata": {},
   "outputs": [],
   "source": [
    "Area_Address=driver.find_elements(By.XPATH,'//div[@class=\"addr-component\"]')\n",
    "for i in Area_Address[0:20]:\n",
    "    add=i.text\n",
    "    Address.append(add) \n",
    "    \n",
    "House_Price=driver.find_elements(By.XPATH,'//div[@class=\"h4 text-primary mb-0\"]')\n",
    "for i in House_Price[0:20]:\n",
    "    price=i.text\n",
    "    Price.append(price)\n",
    "    \n",
    "Squre=driver.find_elements(By.XPATH,'//div[@class=\"text-muted\"]')\n",
    "for i in Squre[0:20]:\n",
    "    squre=i.text\n",
    "    Squre_fit.append(squre)"
   ]
  },
  {
   "cell_type": "code",
   "execution_count": null,
   "id": "1e90c579",
   "metadata": {},
   "outputs": [],
   "source": [
    "print(len(Address),len(Squre_fit),len(Price))"
   ]
  },
  {
   "cell_type": "code",
   "execution_count": null,
   "id": "9d42cdd7",
   "metadata": {},
   "outputs": [],
   "source": [
    "import pandas as pd\n",
    "df=pd.DataFrame({'Address':Address, 'Price':Price, 'Squr':Squre_fit})\n",
    "df"
   ]
  },
  {
   "cell_type": "code",
   "execution_count": null,
   "id": "509c9653",
   "metadata": {},
   "outputs": [],
   "source": [
    "#page 28\n",
    "Next_button=driver.find_element(By.XPATH,\"/html/body/div/div/div/section/div[1]/div[4]/div[1]/div[3]/nav/ul/li[7]/a\")\n",
    "Next_button.click()"
   ]
  },
  {
   "cell_type": "code",
   "execution_count": null,
   "id": "8724ca5f",
   "metadata": {},
   "outputs": [],
   "source": [
    "Address=[]\n",
    "Price=[]\n",
    "Squre_fit=[]"
   ]
  },
  {
   "cell_type": "code",
   "execution_count": null,
   "id": "62379968",
   "metadata": {},
   "outputs": [],
   "source": [
    "Area_Address=driver.find_elements(By.XPATH,'//div[@class=\"addr-component\"]')\n",
    "for i in Area_Address[0:20]:\n",
    "    add=i.text\n",
    "    Address.append(add) \n",
    "    \n",
    "House_Price=driver.find_elements(By.XPATH,'//div[@class=\"h4 text-primary mb-0\"]')\n",
    "for i in House_Price[0:20]:\n",
    "    price=i.text\n",
    "    Price.append(price)\n",
    "    \n",
    "Squre=driver.find_elements(By.XPATH,'//div[@class=\"text-muted\"]')\n",
    "for i in Squre[0:20]:\n",
    "    squre=i.text\n",
    "    Squre_fit.append(squre)"
   ]
  },
  {
   "cell_type": "code",
   "execution_count": null,
   "id": "a37c67c5",
   "metadata": {},
   "outputs": [],
   "source": [
    "print(len(Address),len(Squre_fit),len(Price))"
   ]
  },
  {
   "cell_type": "code",
   "execution_count": null,
   "id": "23df07fe",
   "metadata": {},
   "outputs": [],
   "source": [
    "import pandas as pd\n",
    "df=pd.DataFrame({'Address':Address, 'Price':Price, 'Squr':Squre_fit})\n",
    "df"
   ]
  },
  {
   "cell_type": "code",
   "execution_count": null,
   "id": "0cdbbd8c",
   "metadata": {},
   "outputs": [],
   "source": [
    "#page 29\n",
    "Next_button=driver.find_element(By.XPATH,\"/html/body/div/div/div/section/div[1]/div[4]/div[1]/div[3]/nav/ul/li[7]/a\")\n",
    "Next_button.click()"
   ]
  },
  {
   "cell_type": "code",
   "execution_count": null,
   "id": "c0290777",
   "metadata": {},
   "outputs": [],
   "source": [
    "Address=[]\n",
    "Price=[]\n",
    "Squre_fit=[]"
   ]
  },
  {
   "cell_type": "code",
   "execution_count": null,
   "id": "decb5d7c",
   "metadata": {},
   "outputs": [],
   "source": [
    "Area_Address=driver.find_elements(By.XPATH,'//div[@class=\"addr-component\"]')\n",
    "for i in Area_Address[0:20]:\n",
    "    add=i.text\n",
    "    Address.append(add) \n",
    "    \n",
    "House_Price=driver.find_elements(By.XPATH,'//div[@class=\"h4 text-primary mb-0\"]')\n",
    "for i in House_Price[0:20]:\n",
    "    price=i.text\n",
    "    Price.append(price)\n",
    "    \n",
    "Squre=driver.find_elements(By.XPATH,'//div[@class=\"text-muted\"]')\n",
    "for i in Squre[0:20]:\n",
    "    squre=i.text\n",
    "    Squre_fit.append(squre)"
   ]
  },
  {
   "cell_type": "code",
   "execution_count": null,
   "id": "479272e2",
   "metadata": {},
   "outputs": [],
   "source": [
    "print(len(Address),len(Squre_fit),len(Price))"
   ]
  },
  {
   "cell_type": "code",
   "execution_count": null,
   "id": "892556ce",
   "metadata": {},
   "outputs": [],
   "source": [
    "import pandas as pd\n",
    "df=pd.DataFrame({'Address':Address, 'Price':Price, 'Squr':Squre_fit})\n",
    "df"
   ]
  },
  {
   "cell_type": "code",
   "execution_count": null,
   "id": "4ee27031",
   "metadata": {},
   "outputs": [],
   "source": [
    "#page 30\n",
    "Next_button=driver.find_element(By.XPATH,\"/html/body/div/div/div/section/div[1]/div[4]/div[1]/div[3]/nav/ul/li[7]/a\")\n",
    "Next_button.click()"
   ]
  },
  {
   "cell_type": "code",
   "execution_count": null,
   "id": "37041f7d",
   "metadata": {},
   "outputs": [],
   "source": [
    "Address=[]\n",
    "Price=[]\n",
    "Squre_fit=[]"
   ]
  },
  {
   "cell_type": "code",
   "execution_count": null,
   "id": "18de6d89",
   "metadata": {},
   "outputs": [],
   "source": [
    "Area_Address=driver.find_elements(By.XPATH,'//div[@class=\"addr-component\"]')\n",
    "for i in Area_Address[0:20]:\n",
    "    add=i.text\n",
    "    Address.append(add) \n",
    "    \n",
    "House_Price=driver.find_elements(By.XPATH,'//div[@class=\"h4 text-primary mb-0\"]')\n",
    "for i in House_Price[0:20]:\n",
    "    price=i.text\n",
    "    Price.append(price)\n",
    "    \n",
    "Squre=driver.find_elements(By.XPATH,'//div[@class=\"text-muted\"]')\n",
    "for i in Squre[0:20]:\n",
    "    squre=i.text\n",
    "    Squre_fit.append(squre)"
   ]
  },
  {
   "cell_type": "code",
   "execution_count": null,
   "id": "a529c20a",
   "metadata": {},
   "outputs": [],
   "source": [
    "print(len(Address),len(Squre_fit),len(Price))"
   ]
  },
  {
   "cell_type": "code",
   "execution_count": null,
   "id": "61ada0fe",
   "metadata": {},
   "outputs": [],
   "source": [
    "import pandas as pd\n",
    "df=pd.DataFrame({'Address':Address, 'Price':Price, 'Squr':Squre_fit})\n",
    "df"
   ]
  },
  {
   "cell_type": "code",
   "execution_count": null,
   "id": "bdc4f387",
   "metadata": {},
   "outputs": [],
   "source": [
    "#page 31\n",
    "Next_button=driver.find_element(By.XPATH,\"/html/body/div/div/div/section/div[1]/div[4]/div[1]/div[3]/nav/ul/li[7]/a\")\n",
    "Next_button.click()"
   ]
  },
  {
   "cell_type": "code",
   "execution_count": null,
   "id": "789d6f76",
   "metadata": {},
   "outputs": [],
   "source": [
    "Address=[]\n",
    "Price=[]\n",
    "Squre_fit=[]"
   ]
  },
  {
   "cell_type": "code",
   "execution_count": null,
   "id": "54e7e277",
   "metadata": {},
   "outputs": [],
   "source": [
    "Area_Address=driver.find_elements(By.XPATH,'//div[@class=\"addr-component\"]')\n",
    "for i in Area_Address[0:20]:\n",
    "    add=i.text\n",
    "    Address.append(add) \n",
    "    \n",
    "House_Price=driver.find_elements(By.XPATH,'//div[@class=\"h4 text-primary mb-0\"]')\n",
    "for i in House_Price[0:20]:\n",
    "    price=i.text\n",
    "    Price.append(price)\n",
    "    \n",
    "Squre=driver.find_elements(By.XPATH,'//div[@class=\"text-muted\"]')\n",
    "for i in Squre[0:20]:\n",
    "    squre=i.text\n",
    "    Squre_fit.append(squre)"
   ]
  },
  {
   "cell_type": "code",
   "execution_count": null,
   "id": "18d8b3f4",
   "metadata": {},
   "outputs": [],
   "source": [
    "print(len(Address),len(Squre_fit),len(Price))"
   ]
  },
  {
   "cell_type": "code",
   "execution_count": null,
   "id": "a06bdaa7",
   "metadata": {},
   "outputs": [],
   "source": [
    "import pandas as pd\n",
    "df=pd.DataFrame({'Address':Address, 'Price':Price, 'Squr':Squre_fit})\n",
    "df"
   ]
  },
  {
   "cell_type": "code",
   "execution_count": null,
   "id": "d7d11ae6",
   "metadata": {},
   "outputs": [],
   "source": [
    "#page 32\n",
    "Next_button=driver.find_element(By.XPATH,\"/html/body/div/div/div/section/div[1]/div[4]/div[1]/div[3]/nav/ul/li[7]/a\")\n",
    "Next_button.click()"
   ]
  },
  {
   "cell_type": "code",
   "execution_count": null,
   "id": "3a9633ab",
   "metadata": {},
   "outputs": [],
   "source": [
    "Address=[]\n",
    "Price=[]\n",
    "Squre_fit=[]"
   ]
  },
  {
   "cell_type": "code",
   "execution_count": null,
   "id": "9ed73d5b",
   "metadata": {},
   "outputs": [],
   "source": [
    "Area_Address=driver.find_elements(By.XPATH,'//div[@class=\"addr-component\"]')\n",
    "for i in Area_Address[0:20]:\n",
    "    add=i.text\n",
    "    Address.append(add) \n",
    "    \n",
    "House_Price=driver.find_elements(By.XPATH,'//div[@class=\"h4 text-primary mb-0\"]')\n",
    "for i in House_Price[0:20]:\n",
    "    price=i.text\n",
    "    Price.append(price)\n",
    "    \n",
    "Squre=driver.find_elements(By.XPATH,'//div[@class=\"text-muted\"]')\n",
    "for i in Squre[0:20]:\n",
    "    squre=i.text\n",
    "    Squre_fit.append(squre)"
   ]
  },
  {
   "cell_type": "code",
   "execution_count": null,
   "id": "e2972586",
   "metadata": {},
   "outputs": [],
   "source": [
    "print(len(Address),len(Squre_fit),len(Price))"
   ]
  },
  {
   "cell_type": "code",
   "execution_count": null,
   "id": "0cce8a6b",
   "metadata": {},
   "outputs": [],
   "source": [
    "import pandas as pd\n",
    "df=pd.DataFrame({'Address':Address, 'Price':Price, 'Squr':Squre_fit})\n",
    "df"
   ]
  },
  {
   "cell_type": "code",
   "execution_count": null,
   "id": "9a9c6256",
   "metadata": {},
   "outputs": [],
   "source": [
    "#page 33\n",
    "Next_button=driver.find_element(By.XPATH,\"/html/body/div/div/div/section/div[1]/div[4]/div[1]/div[3]/nav/ul/li[7]/a\")\n",
    "Next_button.click()"
   ]
  },
  {
   "cell_type": "code",
   "execution_count": null,
   "id": "82279b70",
   "metadata": {},
   "outputs": [],
   "source": [
    "Address=[]\n",
    "Price=[]\n",
    "Squre_fit=[]"
   ]
  },
  {
   "cell_type": "code",
   "execution_count": null,
   "id": "803c382a",
   "metadata": {},
   "outputs": [],
   "source": [
    "Area_Address=driver.find_elements(By.XPATH,'//div[@class=\"addr-component\"]')\n",
    "for i in Area_Address[0:20]:\n",
    "    add=i.text\n",
    "    Address.append(add) \n",
    "    \n",
    "House_Price=driver.find_elements(By.XPATH,'//div[@class=\"h4 text-primary mb-0\"]')\n",
    "for i in House_Price[0:20]:\n",
    "    price=i.text\n",
    "    Price.append(price)\n",
    "    \n",
    "Squre=driver.find_elements(By.XPATH,'//div[@class=\"text-muted\"]')\n",
    "for i in Squre[0:20]:\n",
    "    squre=i.text\n",
    "    Squre_fit.append(squre)"
   ]
  },
  {
   "cell_type": "code",
   "execution_count": null,
   "id": "c3f6f2a5",
   "metadata": {},
   "outputs": [],
   "source": [
    "print(len(Address),len(Squre_fit),len(Price))"
   ]
  },
  {
   "cell_type": "code",
   "execution_count": null,
   "id": "ad8a1bf8",
   "metadata": {},
   "outputs": [],
   "source": [
    "import pandas as pd\n",
    "df=pd.DataFrame({'Address':Address, 'Price':Price, 'Squr':Squre_fit})\n",
    "df"
   ]
  },
  {
   "cell_type": "code",
   "execution_count": null,
   "id": "17608f3f",
   "metadata": {},
   "outputs": [],
   "source": [
    "#page 34\n",
    "Next_button=driver.find_element(By.XPATH,\"/html/body/div/div/div/section/div[1]/div[4]/div[1]/div[3]/nav/ul/li[7]/a\")\n",
    "Next_button.click()"
   ]
  },
  {
   "cell_type": "code",
   "execution_count": null,
   "id": "c68545be",
   "metadata": {},
   "outputs": [],
   "source": [
    "Address=[]\n",
    "Price=[]\n",
    "Squre_fit=[]"
   ]
  },
  {
   "cell_type": "code",
   "execution_count": null,
   "id": "46bc5082",
   "metadata": {},
   "outputs": [],
   "source": [
    "Area_Address=driver.find_elements(By.XPATH,'//div[@class=\"addr-component\"]')\n",
    "for i in Area_Address[0:20]:\n",
    "    add=i.text\n",
    "    Address.append(add) \n",
    "    \n",
    "House_Price=driver.find_elements(By.XPATH,'//div[@class=\"h4 text-primary mb-0\"]')\n",
    "for i in House_Price[0:20]:\n",
    "    price=i.text\n",
    "    Price.append(price)\n",
    "    \n",
    "Squre=driver.find_elements(By.XPATH,'//div[@class=\"text-muted\"]')\n",
    "for i in Squre[0:20]:\n",
    "    squre=i.text\n",
    "    Squre_fit.append(squre)"
   ]
  },
  {
   "cell_type": "code",
   "execution_count": null,
   "id": "2ae6703b",
   "metadata": {},
   "outputs": [],
   "source": [
    "print(len(Address),len(Squre_fit),len(Price))"
   ]
  },
  {
   "cell_type": "code",
   "execution_count": null,
   "id": "5e1c2221",
   "metadata": {},
   "outputs": [],
   "source": [
    "import pandas as pd\n",
    "df=pd.DataFrame({'Address':Address, 'Price':Price, 'Squr':Squre_fit})\n",
    "df"
   ]
  },
  {
   "cell_type": "code",
   "execution_count": null,
   "id": "fee53ccb",
   "metadata": {},
   "outputs": [],
   "source": [
    "#page 35\n",
    "Next_button=driver.find_element(By.XPATH,\"/html/body/div/div/div/section/div[1]/div[4]/div[1]/div[3]/nav/ul/li[7]/a\")\n",
    "Next_button.click()"
   ]
  },
  {
   "cell_type": "code",
   "execution_count": null,
   "id": "927d7009",
   "metadata": {},
   "outputs": [],
   "source": [
    "Address=[]\n",
    "Price=[]\n",
    "Squre_fit=[]"
   ]
  },
  {
   "cell_type": "code",
   "execution_count": null,
   "id": "9bd4d433",
   "metadata": {},
   "outputs": [],
   "source": [
    "Area_Address=driver.find_elements(By.XPATH,'//div[@class=\"addr-component\"]')\n",
    "for i in Area_Address[0:20]:\n",
    "    add=i.text\n",
    "    Address.append(add) \n",
    "    \n",
    "House_Price=driver.find_elements(By.XPATH,'//div[@class=\"h4 text-primary mb-0\"]')\n",
    "for i in House_Price[0:20]:\n",
    "    price=i.text\n",
    "    Price.append(price)\n",
    "    \n",
    "Squre=driver.find_elements(By.XPATH,'//div[@class=\"text-muted\"]')\n",
    "for i in Squre[0:20]:\n",
    "    squre=i.text\n",
    "    Squre_fit.append(squre)"
   ]
  },
  {
   "cell_type": "code",
   "execution_count": null,
   "id": "2f960d8d",
   "metadata": {},
   "outputs": [],
   "source": [
    "print(len(Address),len(Squre_fit),len(Price))"
   ]
  },
  {
   "cell_type": "code",
   "execution_count": null,
   "id": "0e9cc12a",
   "metadata": {},
   "outputs": [],
   "source": [
    "import pandas as pd\n",
    "df=pd.DataFrame({'Address':Address, 'Price':Price, 'Squr':Squre_fit})\n",
    "df"
   ]
  },
  {
   "cell_type": "code",
   "execution_count": null,
   "id": "02e5a9a7",
   "metadata": {},
   "outputs": [],
   "source": [
    "#page 36\n",
    "Next_button=driver.find_element(By.XPATH,\"/html/body/div/div/div/section/div[1]/div[4]/div[1]/div[3]/nav/ul/li[7]/a\")\n",
    "Next_button.click()"
   ]
  },
  {
   "cell_type": "code",
   "execution_count": null,
   "id": "09f01c76",
   "metadata": {},
   "outputs": [],
   "source": [
    "Address=[]\n",
    "Price=[]\n",
    "Squre_fit=[]"
   ]
  },
  {
   "cell_type": "code",
   "execution_count": null,
   "id": "060e9dc7",
   "metadata": {},
   "outputs": [],
   "source": [
    "Area_Address=driver.find_elements(By.XPATH,'//div[@class=\"addr-component\"]')\n",
    "for i in Area_Address[0:20]:\n",
    "    add=i.text\n",
    "    Address.append(add) \n",
    "    \n",
    "House_Price=driver.find_elements(By.XPATH,'//div[@class=\"h4 text-primary mb-0\"]')\n",
    "for i in House_Price[0:20]:\n",
    "    price=i.text\n",
    "    Price.append(price)\n",
    "    \n",
    "Squre=driver.find_elements(By.XPATH,'//div[@class=\"text-muted\"]')\n",
    "for i in Squre[0:20]:\n",
    "    squre=i.text\n",
    "    Squre_fit.append(squre)"
   ]
  },
  {
   "cell_type": "code",
   "execution_count": null,
   "id": "aff64505",
   "metadata": {},
   "outputs": [],
   "source": [
    "print(len(Address),len(Squre_fit),len(Price))"
   ]
  },
  {
   "cell_type": "code",
   "execution_count": null,
   "id": "eda64aec",
   "metadata": {},
   "outputs": [],
   "source": [
    "import pandas as pd\n",
    "df=pd.DataFrame({'Address':Address, 'Price':Price, 'Squr':Squre_fit})\n",
    "df"
   ]
  },
  {
   "cell_type": "code",
   "execution_count": null,
   "id": "1d26bce3",
   "metadata": {},
   "outputs": [],
   "source": [
    "#page 37\n",
    "Next_button=driver.find_element(By.XPATH,\"/html/body/div/div/div/section/div[1]/div[4]/div[1]/div[3]/nav/ul/li[7]/a\")\n",
    "Next_button.click()"
   ]
  },
  {
   "cell_type": "code",
   "execution_count": null,
   "id": "55ed1be2",
   "metadata": {},
   "outputs": [],
   "source": [
    "Address=[]\n",
    "Price=[]\n",
    "Squre_fit=[]"
   ]
  },
  {
   "cell_type": "code",
   "execution_count": null,
   "id": "a2c99efb",
   "metadata": {},
   "outputs": [],
   "source": [
    "Area_Address=driver.find_elements(By.XPATH,'//div[@class=\"addr-component\"]')\n",
    "for i in Area_Address[0:20]:\n",
    "    add=i.text\n",
    "    Address.append(add) \n",
    "    \n",
    "House_Price=driver.find_elements(By.XPATH,'//div[@class=\"h4 text-primary mb-0\"]')\n",
    "for i in House_Price[0:20]:\n",
    "    price=i.text\n",
    "    Price.append(price)\n",
    "    \n",
    "Squre=driver.find_elements(By.XPATH,'//div[@class=\"text-muted\"]')\n",
    "for i in Squre[0:20]:\n",
    "    squre=i.text\n",
    "    Squre_fit.append(squre)"
   ]
  },
  {
   "cell_type": "code",
   "execution_count": null,
   "id": "1aa7ace1",
   "metadata": {},
   "outputs": [],
   "source": [
    "print(len(Address),len(Squre_fit),len(Price))"
   ]
  },
  {
   "cell_type": "code",
   "execution_count": null,
   "id": "24455b37",
   "metadata": {},
   "outputs": [],
   "source": [
    "import pandas as pd\n",
    "df=pd.DataFrame({'Address':Address, 'Price':Price, 'Squr':Squre_fit})\n",
    "df"
   ]
  },
  {
   "cell_type": "code",
   "execution_count": null,
   "id": "29082450",
   "metadata": {},
   "outputs": [],
   "source": [
    "#page 38\n",
    "Next_button=driver.find_element(By.XPATH,\"/html/body/div/div/div/section/div[1]/div[4]/div[1]/div[3]/nav/ul/li[7]/a\")\n",
    "Next_button.click()"
   ]
  },
  {
   "cell_type": "code",
   "execution_count": null,
   "id": "80e4fe34",
   "metadata": {},
   "outputs": [],
   "source": [
    "Address=[]\n",
    "Price=[]\n",
    "Squre_fit=[]"
   ]
  },
  {
   "cell_type": "code",
   "execution_count": null,
   "id": "1c57af4a",
   "metadata": {},
   "outputs": [],
   "source": [
    "Area_Address=driver.find_elements(By.XPATH,'//div[@class=\"addr-component\"]')\n",
    "for i in Area_Address[0:20]:\n",
    "    add=i.text\n",
    "    Address.append(add) \n",
    "    \n",
    "House_Price=driver.find_elements(By.XPATH,'//div[@class=\"h4 text-primary mb-0\"]')\n",
    "for i in House_Price[0:20]:\n",
    "    price=i.text\n",
    "    Price.append(price)\n",
    "    \n",
    "Squre=driver.find_elements(By.XPATH,'//div[@class=\"text-muted\"]')\n",
    "for i in Squre[0:20]:\n",
    "    squre=i.text\n",
    "    Squre_fit.append(squre)"
   ]
  },
  {
   "cell_type": "code",
   "execution_count": null,
   "id": "3f5fc537",
   "metadata": {},
   "outputs": [],
   "source": [
    "print(len(Address),len(Squre_fit),len(Price))"
   ]
  },
  {
   "cell_type": "code",
   "execution_count": null,
   "id": "b40f43ea",
   "metadata": {},
   "outputs": [],
   "source": [
    "import pandas as pd\n",
    "df=pd.DataFrame({'Address':Address, 'Price':Price, 'Squr':Squre_fit})\n",
    "df"
   ]
  },
  {
   "cell_type": "code",
   "execution_count": null,
   "id": "eeb1ea36",
   "metadata": {},
   "outputs": [],
   "source": [
    "#page 39\n",
    "Next_button=driver.find_element(By.XPATH,\"/html/body/div/div/div/section/div[1]/div[4]/div[1]/div[3]/nav/ul/li[7]/a\")\n",
    "Next_button.click()"
   ]
  },
  {
   "cell_type": "code",
   "execution_count": null,
   "id": "45b63901",
   "metadata": {},
   "outputs": [],
   "source": [
    "Address=[]\n",
    "Price=[]\n",
    "Squre_fit=[]"
   ]
  },
  {
   "cell_type": "code",
   "execution_count": null,
   "id": "4a467d1e",
   "metadata": {},
   "outputs": [],
   "source": [
    "Area_Address=driver.find_elements(By.XPATH,'//div[@class=\"addr-component\"]')\n",
    "for i in Area_Address[0:20]:\n",
    "    add=i.text\n",
    "    Address.append(add) \n",
    "    \n",
    "House_Price=driver.find_elements(By.XPATH,'//div[@class=\"h4 text-primary mb-0\"]')\n",
    "for i in House_Price[0:20]:\n",
    "    price=i.text\n",
    "    Price.append(price)\n",
    "    \n",
    "Squre=driver.find_elements(By.XPATH,'//div[@class=\"text-muted\"]')\n",
    "for i in Squre[0:20]:\n",
    "    squre=i.text\n",
    "    Squre_fit.append(squre)"
   ]
  },
  {
   "cell_type": "code",
   "execution_count": null,
   "id": "603b824f",
   "metadata": {},
   "outputs": [],
   "source": [
    "print(len(Address),len(Squre_fit),len(Price))"
   ]
  },
  {
   "cell_type": "code",
   "execution_count": null,
   "id": "2ff9e1cb",
   "metadata": {},
   "outputs": [],
   "source": [
    "import pandas as pd\n",
    "df=pd.DataFrame({'Address':Address, 'Price':Price, 'Squr':Squre_fit})\n",
    "df"
   ]
  },
  {
   "cell_type": "code",
   "execution_count": null,
   "id": "1b139393",
   "metadata": {},
   "outputs": [],
   "source": [
    "#page 40\n",
    "Next_button=driver.find_element(By.XPATH,\"/html/body/div/div/div/section/div[1]/div[4]/div[1]/div[3]/nav/ul/li[7]/a\")\n",
    "Next_button.click()"
   ]
  },
  {
   "cell_type": "code",
   "execution_count": null,
   "id": "e5148a9b",
   "metadata": {},
   "outputs": [],
   "source": [
    "Address=[]\n",
    "Price=[]\n",
    "Squre_fit=[]"
   ]
  },
  {
   "cell_type": "code",
   "execution_count": null,
   "id": "fa414782",
   "metadata": {},
   "outputs": [],
   "source": [
    "Area_Address=driver.find_elements(By.XPATH,'//div[@class=\"addr-component\"]')\n",
    "for i in Area_Address[0:20]:\n",
    "    add=i.text\n",
    "    Address.append(add) \n",
    "    \n",
    "House_Price=driver.find_elements(By.XPATH,'//div[@class=\"h4 text-primary mb-0\"]')\n",
    "for i in House_Price[0:20]:\n",
    "    price=i.text\n",
    "    Price.append(price)\n",
    "    \n",
    "Squre=driver.find_elements(By.XPATH,'//div[@class=\"text-muted\"]')\n",
    "for i in Squre[0:20]:\n",
    "    squre=i.text\n",
    "    Squre_fit.append(squre)"
   ]
  },
  {
   "cell_type": "code",
   "execution_count": null,
   "id": "7c226a45",
   "metadata": {},
   "outputs": [],
   "source": [
    "print(len(Address),len(Squre_fit),len(Price))"
   ]
  },
  {
   "cell_type": "code",
   "execution_count": null,
   "id": "855e4714",
   "metadata": {},
   "outputs": [],
   "source": [
    "import pandas as pd\n",
    "df=pd.DataFrame({'Address':Address, 'Price':Price, 'Squr':Squre_fit})\n",
    "df"
   ]
  },
  {
   "cell_type": "code",
   "execution_count": null,
   "id": "3faeb7cd",
   "metadata": {},
   "outputs": [],
   "source": [
    "#page 41\n",
    "Next_button=driver.find_element(By.XPATH,\"/html/body/div/div/div/section/div[1]/div[4]/div[1]/div[3]/nav/ul/li[7]/a\")\n",
    "Next_button.click()"
   ]
  },
  {
   "cell_type": "code",
   "execution_count": null,
   "id": "a124b745",
   "metadata": {},
   "outputs": [],
   "source": [
    "Address=[]\n",
    "Price=[]\n",
    "Squre_fit=[]"
   ]
  },
  {
   "cell_type": "code",
   "execution_count": null,
   "id": "6d7e66b2",
   "metadata": {},
   "outputs": [],
   "source": [
    "Area_Address=driver.find_elements(By.XPATH,'//div[@class=\"addr-component\"]')\n",
    "for i in Area_Address[0:20]:\n",
    "    add=i.text\n",
    "    Address.append(add) \n",
    "    \n",
    "House_Price=driver.find_elements(By.XPATH,'//div[@class=\"h4 text-primary mb-0\"]')\n",
    "for i in House_Price[0:20]:\n",
    "    price=i.text\n",
    "    Price.append(price)\n",
    "    \n",
    "Squre=driver.find_elements(By.XPATH,'//div[@class=\"text-muted\"]')\n",
    "for i in Squre[0:20]:\n",
    "    squre=i.text\n",
    "    Squre_fit.append(squre)"
   ]
  },
  {
   "cell_type": "code",
   "execution_count": null,
   "id": "23614d11",
   "metadata": {},
   "outputs": [],
   "source": [
    "print(len(Address),len(Squre_fit),len(Price))"
   ]
  },
  {
   "cell_type": "code",
   "execution_count": null,
   "id": "f809af73",
   "metadata": {},
   "outputs": [],
   "source": [
    "import pandas as pd\n",
    "df=pd.DataFrame({'Address':Address, 'Price':Price, 'Squr':Squre_fit})\n",
    "df"
   ]
  },
  {
   "cell_type": "code",
   "execution_count": null,
   "id": "ff38aacd",
   "metadata": {},
   "outputs": [],
   "source": [
    "#page 42\n",
    "Next_button=driver.find_element(By.XPATH,\"/html/body/div/div/div/section/div[1]/div[4]/div[1]/div[3]/nav/ul/li[7]/a\")\n",
    "Next_button.click()"
   ]
  },
  {
   "cell_type": "code",
   "execution_count": null,
   "id": "b5b92cdb",
   "metadata": {},
   "outputs": [],
   "source": [
    "Address=[]\n",
    "Price=[]\n",
    "Squre_fit=[]"
   ]
  },
  {
   "cell_type": "code",
   "execution_count": null,
   "id": "4847a4a6",
   "metadata": {},
   "outputs": [],
   "source": [
    "Area_Address=driver.find_elements(By.XPATH,'//div[@class=\"addr-component\"]')\n",
    "for i in Area_Address[0:20]:\n",
    "    add=i.text\n",
    "    Address.append(add) \n",
    "    \n",
    "House_Price=driver.find_elements(By.XPATH,'//div[@class=\"h4 text-primary mb-0\"]')\n",
    "for i in House_Price[0:20]:\n",
    "    price=i.text\n",
    "    Price.append(price)\n",
    "    \n",
    "Squre=driver.find_elements(By.XPATH,'//div[@class=\"text-muted\"]')\n",
    "for i in Squre[0:20]:\n",
    "    squre=i.text\n",
    "    Squre_fit.append(squre)"
   ]
  },
  {
   "cell_type": "code",
   "execution_count": null,
   "id": "33624803",
   "metadata": {},
   "outputs": [],
   "source": [
    "print(len(Address),len(Squre_fit),len(Price))"
   ]
  },
  {
   "cell_type": "code",
   "execution_count": null,
   "id": "1aae0d63",
   "metadata": {},
   "outputs": [],
   "source": [
    "import pandas as pd\n",
    "df=pd.DataFrame({'Address':Address, 'Price':Price, 'Squr':Squre_fit})\n",
    "df"
   ]
  },
  {
   "cell_type": "code",
   "execution_count": null,
   "id": "3e4965aa",
   "metadata": {},
   "outputs": [],
   "source": [
    "#page 43\n",
    "Next_button=driver.find_element(By.XPATH,\"/html/body/div/div/div/section/div[1]/div[4]/div[1]/div[3]/nav/ul/li[7]/a\")\n",
    "Next_button.click()"
   ]
  },
  {
   "cell_type": "code",
   "execution_count": null,
   "id": "ad97f364",
   "metadata": {},
   "outputs": [],
   "source": [
    "Address=[]\n",
    "Price=[]\n",
    "Squre_fit=[]"
   ]
  },
  {
   "cell_type": "code",
   "execution_count": null,
   "id": "589a73b0",
   "metadata": {},
   "outputs": [],
   "source": [
    "Area_Address=driver.find_elements(By.XPATH,'//div[@class=\"addr-component\"]')\n",
    "for i in Area_Address[0:20]:\n",
    "    add=i.text\n",
    "    Address.append(add) \n",
    "    \n",
    "House_Price=driver.find_elements(By.XPATH,'//div[@class=\"h4 text-primary mb-0\"]')\n",
    "for i in House_Price[0:20]:\n",
    "    price=i.text\n",
    "    Price.append(price)\n",
    "    \n",
    "Squre=driver.find_elements(By.XPATH,'//div[@class=\"text-muted\"]')\n",
    "for i in Squre[0:20]:\n",
    "    squre=i.text\n",
    "    Squre_fit.append(squre)"
   ]
  },
  {
   "cell_type": "code",
   "execution_count": null,
   "id": "12e1170a",
   "metadata": {},
   "outputs": [],
   "source": [
    "print(len(Address),len(Squre_fit),len(Price))"
   ]
  },
  {
   "cell_type": "code",
   "execution_count": null,
   "id": "c0cc2576",
   "metadata": {},
   "outputs": [],
   "source": [
    "import pandas as pd\n",
    "df=pd.DataFrame({'Address':Address, 'Price':Price, 'Squr':Squre_fit})\n",
    "df"
   ]
  },
  {
   "cell_type": "code",
   "execution_count": null,
   "id": "ad907999",
   "metadata": {},
   "outputs": [],
   "source": [
    "#page 44\n",
    "Next_button=driver.find_element(By.XPATH,\"/html/body/div/div/div/section/div[1]/div[4]/div[1]/div[3]/nav/ul/li[7]/a\")\n",
    "Next_button.click()"
   ]
  },
  {
   "cell_type": "code",
   "execution_count": null,
   "id": "12cf455d",
   "metadata": {},
   "outputs": [],
   "source": [
    "Address=[]\n",
    "Price=[]\n",
    "Squre_fit=[]"
   ]
  },
  {
   "cell_type": "code",
   "execution_count": null,
   "id": "2cc80e55",
   "metadata": {},
   "outputs": [],
   "source": [
    "Area_Address=driver.find_elements(By.XPATH,'//div[@class=\"addr-component\"]')\n",
    "for i in Area_Address[0:20]:\n",
    "    add=i.text\n",
    "    Address.append(add) \n",
    "    \n",
    "House_Price=driver.find_elements(By.XPATH,'//div[@class=\"h4 text-primary mb-0\"]')\n",
    "for i in House_Price[0:20]:\n",
    "    price=i.text\n",
    "    Price.append(price)\n",
    "    \n",
    "Squre=driver.find_elements(By.XPATH,'//div[@class=\"text-muted\"]')\n",
    "for i in Squre[0:20]:\n",
    "    squre=i.text\n",
    "    Squre_fit.append(squre)"
   ]
  },
  {
   "cell_type": "code",
   "execution_count": null,
   "id": "4b020a9f",
   "metadata": {},
   "outputs": [],
   "source": [
    "print(len(Address),len(Squre_fit),len(Price))"
   ]
  },
  {
   "cell_type": "code",
   "execution_count": null,
   "id": "375020d8",
   "metadata": {},
   "outputs": [],
   "source": [
    "import pandas as pd\n",
    "df=pd.DataFrame({'Address':Address, 'Price':Price, 'Squr':Squre_fit})\n",
    "df"
   ]
  },
  {
   "cell_type": "code",
   "execution_count": null,
   "id": "72f3ad11",
   "metadata": {},
   "outputs": [],
   "source": [
    "#page 45\n",
    "Next_button=driver.find_element(By.XPATH,\"/html/body/div/div/div/section/div[1]/div[4]/div[1]/div[3]/nav/ul/li[7]/a\")\n",
    "Next_button.click()"
   ]
  },
  {
   "cell_type": "code",
   "execution_count": null,
   "id": "2b6cdb6b",
   "metadata": {},
   "outputs": [],
   "source": [
    "Address=[]\n",
    "Price=[]\n",
    "Squre_fit=[]"
   ]
  },
  {
   "cell_type": "code",
   "execution_count": null,
   "id": "b18f065d",
   "metadata": {},
   "outputs": [],
   "source": [
    "Area_Address=driver.find_elements(By.XPATH,'//div[@class=\"addr-component\"]')\n",
    "for i in Area_Address[0:20]:\n",
    "    add=i.text\n",
    "    Address.append(add) \n",
    "    \n",
    "House_Price=driver.find_elements(By.XPATH,'//div[@class=\"h4 text-primary mb-0\"]')\n",
    "for i in House_Price[0:20]:\n",
    "    price=i.text\n",
    "    Price.append(price)\n",
    "    \n",
    "Squre=driver.find_elements(By.XPATH,'//div[@class=\"text-muted\"]')\n",
    "for i in Squre[0:20]:\n",
    "    squre=i.text\n",
    "    Squre_fit.append(squre)"
   ]
  },
  {
   "cell_type": "code",
   "execution_count": null,
   "id": "8cc8eda2",
   "metadata": {},
   "outputs": [],
   "source": [
    "print(len(Address),len(Squre_fit),len(Price))"
   ]
  },
  {
   "cell_type": "code",
   "execution_count": null,
   "id": "d7dfdc93",
   "metadata": {},
   "outputs": [],
   "source": [
    "import pandas as pd\n",
    "df=pd.DataFrame({'Address':Address, 'Price':Price, 'Squr':Squre_fit})\n",
    "df"
   ]
  },
  {
   "cell_type": "code",
   "execution_count": null,
   "id": "ce8b4d29",
   "metadata": {},
   "outputs": [],
   "source": [
    "#page 46\n",
    "Next_button=driver.find_element(By.XPATH,\"/html/body/div/div/div/section/div[1]/div[4]/div[1]/div[3]/nav/ul/li[7]/a\")\n",
    "Next_button.click()"
   ]
  },
  {
   "cell_type": "code",
   "execution_count": null,
   "id": "0ed6b9aa",
   "metadata": {},
   "outputs": [],
   "source": [
    "Address=[]\n",
    "Price=[]\n",
    "Squre_fit=[]"
   ]
  },
  {
   "cell_type": "code",
   "execution_count": null,
   "id": "0257a57c",
   "metadata": {},
   "outputs": [],
   "source": [
    "Area_Address=driver.find_elements(By.XPATH,'//div[@class=\"addr-component\"]')\n",
    "for i in Area_Address[0:20]:\n",
    "    add=i.text\n",
    "    Address.append(add) \n",
    "    \n",
    "House_Price=driver.find_elements(By.XPATH,'//div[@class=\"h4 text-primary mb-0\"]')\n",
    "for i in House_Price[0:20]:\n",
    "    price=i.text\n",
    "    Price.append(price)\n",
    "    \n",
    "Squre=driver.find_elements(By.XPATH,'//div[@class=\"text-muted\"]')\n",
    "for i in Squre[0:20]:\n",
    "    squre=i.text\n",
    "    Squre_fit.append(squre)"
   ]
  },
  {
   "cell_type": "code",
   "execution_count": null,
   "id": "33d5dddb",
   "metadata": {},
   "outputs": [],
   "source": [
    "print(len(Address),len(Squre_fit),len(Price))"
   ]
  },
  {
   "cell_type": "code",
   "execution_count": null,
   "id": "d8bef3de",
   "metadata": {},
   "outputs": [],
   "source": [
    "import pandas as pd\n",
    "df=pd.DataFrame({'Address':Address, 'Price':Price, 'Squr':Squre_fit})\n",
    "df"
   ]
  },
  {
   "cell_type": "code",
   "execution_count": null,
   "id": "b3217863",
   "metadata": {},
   "outputs": [],
   "source": [
    "#page 47\n",
    "Next_button=driver.find_element(By.XPATH,\"/html/body/div/div/div/section/div[1]/div[4]/div[1]/div[3]/nav/ul/li[7]/a\")\n",
    "Next_button.click()"
   ]
  },
  {
   "cell_type": "code",
   "execution_count": null,
   "id": "2871620b",
   "metadata": {},
   "outputs": [],
   "source": [
    "Address=[]\n",
    "Price=[]\n",
    "Squre_fit=[]"
   ]
  },
  {
   "cell_type": "code",
   "execution_count": null,
   "id": "22ece2a0",
   "metadata": {},
   "outputs": [],
   "source": [
    "Area_Address=driver.find_elements(By.XPATH,'//div[@class=\"addr-component\"]')\n",
    "for i in Area_Address[0:20]:\n",
    "    add=i.text\n",
    "    Address.append(add) \n",
    "    \n",
    "House_Price=driver.find_elements(By.XPATH,'//div[@class=\"h4 text-primary mb-0\"]')\n",
    "for i in House_Price[0:20]:\n",
    "    price=i.text\n",
    "    Price.append(price)\n",
    "    \n",
    "Squre=driver.find_elements(By.XPATH,'//div[@class=\"text-muted\"]')\n",
    "for i in Squre[0:20]:\n",
    "    squre=i.text\n",
    "    Squre_fit.append(squre)"
   ]
  },
  {
   "cell_type": "code",
   "execution_count": null,
   "id": "750a576d",
   "metadata": {},
   "outputs": [],
   "source": [
    "print(len(Address),len(Squre_fit),len(Price))"
   ]
  },
  {
   "cell_type": "code",
   "execution_count": null,
   "id": "df56ebbd",
   "metadata": {},
   "outputs": [],
   "source": [
    "import pandas as pd\n",
    "df=pd.DataFrame({'Address':Address, 'Price':Price, 'Squr':Squre_fit})\n",
    "df"
   ]
  },
  {
   "cell_type": "code",
   "execution_count": null,
   "id": "f6b28148",
   "metadata": {},
   "outputs": [],
   "source": [
    "#page 48\n",
    "Next_button=driver.find_element(By.XPATH,\"/html/body/div/div/div/section/div[1]/div[4]/div[1]/div[3]/nav/ul/li[7]/a\")\n",
    "Next_button.click()"
   ]
  },
  {
   "cell_type": "code",
   "execution_count": null,
   "id": "10402790",
   "metadata": {},
   "outputs": [],
   "source": [
    "Address=[]\n",
    "Price=[]\n",
    "Squre_fit=[]"
   ]
  },
  {
   "cell_type": "code",
   "execution_count": null,
   "id": "d4728af8",
   "metadata": {},
   "outputs": [],
   "source": [
    "Area_Address=driver.find_elements(By.XPATH,'//div[@class=\"addr-component\"]')\n",
    "for i in Area_Address[0:20]:\n",
    "    add=i.text\n",
    "    Address.append(add) \n",
    "    \n",
    "House_Price=driver.find_elements(By.XPATH,'//div[@class=\"h4 text-primary mb-0\"]')\n",
    "for i in House_Price[0:20]:\n",
    "    price=i.text\n",
    "    Price.append(price)\n",
    "    \n",
    "Squre=driver.find_elements(By.XPATH,'//div[@class=\"text-muted\"]')\n",
    "for i in Squre[0:20]:\n",
    "    squre=i.text\n",
    "    Squre_fit.append(squre)"
   ]
  },
  {
   "cell_type": "code",
   "execution_count": null,
   "id": "efa4e884",
   "metadata": {},
   "outputs": [],
   "source": [
    "print(len(Address),len(Squre_fit),len(Price))"
   ]
  },
  {
   "cell_type": "code",
   "execution_count": null,
   "id": "4920f378",
   "metadata": {},
   "outputs": [],
   "source": [
    "import pandas as pd\n",
    "df=pd.DataFrame({'Address':Address, 'Price':Price, 'Squr':Squre_fit})\n",
    "df"
   ]
  },
  {
   "cell_type": "code",
   "execution_count": null,
   "id": "0438458a",
   "metadata": {},
   "outputs": [],
   "source": [
    "#page 49\n",
    "Next_button=driver.find_element(By.XPATH,\"/html/body/div/div/div/section/div[1]/div[4]/div[1]/div[3]/nav/ul/li[7]/a\")\n",
    "Next_button.click()"
   ]
  },
  {
   "cell_type": "code",
   "execution_count": null,
   "id": "14798a7e",
   "metadata": {},
   "outputs": [],
   "source": [
    "Address=[]\n",
    "Price=[]\n",
    "Squre_fit=[]"
   ]
  },
  {
   "cell_type": "code",
   "execution_count": null,
   "id": "63fd4bb6",
   "metadata": {},
   "outputs": [],
   "source": [
    "Area_Address=driver.find_elements(By.XPATH,'//div[@class=\"addr-component\"]')\n",
    "for i in Area_Address[0:20]:\n",
    "    add=i.text\n",
    "    Address.append(add) \n",
    "    \n",
    "House_Price=driver.find_elements(By.XPATH,'//div[@class=\"h4 text-primary mb-0\"]')\n",
    "for i in House_Price[0:20]:\n",
    "    price=i.text\n",
    "    Price.append(price)\n",
    "    \n",
    "Squre=driver.find_elements(By.XPATH,'//div[@class=\"text-muted\"]')\n",
    "for i in Squre[0:20]:\n",
    "    squre=i.text\n",
    "    Squre_fit.append(squre)"
   ]
  },
  {
   "cell_type": "code",
   "execution_count": null,
   "id": "02ac84f4",
   "metadata": {},
   "outputs": [],
   "source": [
    "print(len(Address),len(Squre_fit),len(Price))"
   ]
  },
  {
   "cell_type": "code",
   "execution_count": null,
   "id": "3ed5982d",
   "metadata": {},
   "outputs": [],
   "source": [
    "import pandas as pd\n",
    "df=pd.DataFrame({'Address':Address, 'Price':Price, 'Squr':Squre_fit})\n",
    "df"
   ]
  },
  {
   "cell_type": "code",
   "execution_count": null,
   "id": "43896712",
   "metadata": {},
   "outputs": [],
   "source": [
    "#page 50\n",
    "Next_button=driver.find_element(By.XPATH,\"/html/body/div/div/div/section/div[1]/div[4]/div[1]/div[3]/nav/ul/li[7]/a\")\n",
    "Next_button.click()"
   ]
  },
  {
   "cell_type": "code",
   "execution_count": null,
   "id": "36acb7c4",
   "metadata": {},
   "outputs": [],
   "source": [
    "Address=[]\n",
    "Price=[]\n",
    "Squre_fit=[]"
   ]
  },
  {
   "cell_type": "code",
   "execution_count": null,
   "id": "7255afd2",
   "metadata": {},
   "outputs": [],
   "source": [
    "Area_Address=driver.find_elements(By.XPATH,'//div[@class=\"addr-component\"]')\n",
    "for i in Area_Address[0:20]:\n",
    "    add=i.text\n",
    "    Address.append(add) \n",
    "    \n",
    "House_Price=driver.find_elements(By.XPATH,'//div[@class=\"h4 text-primary mb-0\"]')\n",
    "for i in House_Price[0:20]:\n",
    "    price=i.text\n",
    "    Price.append(price)\n",
    "    \n",
    "Squre=driver.find_elements(By.XPATH,'//div[@class=\"text-muted\"]')\n",
    "for i in Squre[0:20]:\n",
    "    squre=i.text\n",
    "    Squre_fit.append(squre)"
   ]
  },
  {
   "cell_type": "code",
   "execution_count": null,
   "id": "c8970f3e",
   "metadata": {},
   "outputs": [],
   "source": [
    "print(len(Address),len(Squre_fit),len(Price))"
   ]
  },
  {
   "cell_type": "code",
   "execution_count": null,
   "id": "cc247aac",
   "metadata": {},
   "outputs": [],
   "source": [
    "import pandas as pd\n",
    "df=pd.DataFrame({'Address':Address, 'Price':Price, 'Squr':Squre_fit})\n",
    "df"
   ]
  },
  {
   "cell_type": "code",
   "execution_count": null,
   "id": "0e7749e7",
   "metadata": {},
   "outputs": [],
   "source": [
    "#page 51\n",
    "Next_button=driver.find_element(By.XPATH,\"/html/body/div/div/div/section/div[1]/div[4]/div[1]/div[3]/nav/ul/li[7]/a\")\n",
    "Next_button.click()"
   ]
  },
  {
   "cell_type": "code",
   "execution_count": null,
   "id": "80779a7c",
   "metadata": {},
   "outputs": [],
   "source": [
    "Address=[]\n",
    "Price=[]\n",
    "Squre_fit=[]"
   ]
  },
  {
   "cell_type": "code",
   "execution_count": null,
   "id": "011b2b59",
   "metadata": {},
   "outputs": [],
   "source": [
    "Area_Address=driver.find_elements(By.XPATH,'//div[@class=\"addr-component\"]')\n",
    "for i in Area_Address[0:20]:\n",
    "    add=i.text\n",
    "    Address.append(add) \n",
    "    \n",
    "House_Price=driver.find_elements(By.XPATH,'//div[@class=\"h4 text-primary mb-0\"]')\n",
    "for i in House_Price[0:20]:\n",
    "    price=i.text\n",
    "    Price.append(price)\n",
    "    \n",
    "Squre=driver.find_elements(By.XPATH,'//div[@class=\"text-muted\"]')\n",
    "for i in Squre[0:20]:\n",
    "    squre=i.text\n",
    "    Squre_fit.append(squre)"
   ]
  },
  {
   "cell_type": "code",
   "execution_count": null,
   "id": "ce77360a",
   "metadata": {},
   "outputs": [],
   "source": [
    "print(len(Address),len(Squre_fit),len(Price))"
   ]
  },
  {
   "cell_type": "code",
   "execution_count": null,
   "id": "f9961424",
   "metadata": {},
   "outputs": [],
   "source": [
    "import pandas as pd\n",
    "df=pd.DataFrame({'Address':Address, 'Price':Price, 'Squr':Squre_fit})\n",
    "df"
   ]
  },
  {
   "cell_type": "code",
   "execution_count": null,
   "id": "e8fbd1c8",
   "metadata": {},
   "outputs": [],
   "source": [
    "#page 52\n",
    "Next_button=driver.find_element(By.XPATH,\"/html/body/div/div/div/section/div[1]/div[4]/div[1]/div[3]/nav/ul/li[7]/a\")\n",
    "Next_button.click()"
   ]
  },
  {
   "cell_type": "code",
   "execution_count": null,
   "id": "0052cffa",
   "metadata": {},
   "outputs": [],
   "source": [
    "Address=[]\n",
    "Price=[]\n",
    "Squre_fit=[]"
   ]
  },
  {
   "cell_type": "code",
   "execution_count": null,
   "id": "0d0c5705",
   "metadata": {},
   "outputs": [],
   "source": [
    "Area_Address=driver.find_elements(By.XPATH,'//div[@class=\"addr-component\"]')\n",
    "for i in Area_Address[0:20]:\n",
    "    add=i.text\n",
    "    Address.append(add) \n",
    "    \n",
    "House_Price=driver.find_elements(By.XPATH,'//div[@class=\"h4 text-primary mb-0\"]')\n",
    "for i in House_Price[0:20]:\n",
    "    price=i.text\n",
    "    Price.append(price)\n",
    "    \n",
    "Squre=driver.find_elements(By.XPATH,'//div[@class=\"text-muted\"]')\n",
    "for i in Squre[0:20]:\n",
    "    squre=i.text\n",
    "    Squre_fit.append(squre)"
   ]
  },
  {
   "cell_type": "code",
   "execution_count": null,
   "id": "e606f4ca",
   "metadata": {},
   "outputs": [],
   "source": [
    "print(len(Address),len(Squre_fit),len(Price))"
   ]
  },
  {
   "cell_type": "code",
   "execution_count": null,
   "id": "91b99b4c",
   "metadata": {},
   "outputs": [],
   "source": [
    "import pandas as pd\n",
    "df=pd.DataFrame({'Address':Address, 'Price':Price, 'Squr':Squre_fit})\n",
    "df"
   ]
  },
  {
   "cell_type": "code",
   "execution_count": null,
   "id": "f22f0252",
   "metadata": {},
   "outputs": [],
   "source": [
    "#page 53\n",
    "Next_button=driver.find_element(By.XPATH,\"/html/body/div/div/div/section/div[1]/div[4]/div[1]/div[3]/nav/ul/li[7]/a\")\n",
    "Next_button.click()"
   ]
  },
  {
   "cell_type": "code",
   "execution_count": null,
   "id": "6e94535a",
   "metadata": {},
   "outputs": [],
   "source": [
    "Address=[]\n",
    "Price=[]\n",
    "Squre_fit=[]"
   ]
  },
  {
   "cell_type": "code",
   "execution_count": null,
   "id": "787768dd",
   "metadata": {},
   "outputs": [],
   "source": [
    "Area_Address=driver.find_elements(By.XPATH,'//div[@class=\"addr-component\"]')\n",
    "for i in Area_Address[0:20]:\n",
    "    add=i.text\n",
    "    Address.append(add) \n",
    "    \n",
    "House_Price=driver.find_elements(By.XPATH,'//div[@class=\"h4 text-primary mb-0\"]')\n",
    "for i in House_Price[0:20]:\n",
    "    price=i.text\n",
    "    Price.append(price)\n",
    "    \n",
    "Squre=driver.find_elements(By.XPATH,'//div[@class=\"text-muted\"]')\n",
    "for i in Squre[0:20]:\n",
    "    squre=i.text\n",
    "    Squre_fit.append(squre)"
   ]
  },
  {
   "cell_type": "code",
   "execution_count": null,
   "id": "3a387d52",
   "metadata": {},
   "outputs": [],
   "source": [
    "print(len(Address),len(Squre_fit),len(Price))"
   ]
  },
  {
   "cell_type": "code",
   "execution_count": null,
   "id": "3965ed42",
   "metadata": {},
   "outputs": [],
   "source": [
    "import pandas as pd\n",
    "df=pd.DataFrame({'Address':Address, 'Price':Price, 'Squr':Squre_fit})\n",
    "df"
   ]
  },
  {
   "cell_type": "code",
   "execution_count": null,
   "id": "6293fab0",
   "metadata": {},
   "outputs": [],
   "source": [
    "#page 54\n",
    "Next_button=driver.find_element(By.XPATH,\"/html/body/div/div/div/section/div[1]/div[4]/div[1]/div[3]/nav/ul/li[7]/a\")\n",
    "Next_button.click()"
   ]
  },
  {
   "cell_type": "code",
   "execution_count": null,
   "id": "6d1c095e",
   "metadata": {},
   "outputs": [],
   "source": [
    "Address=[]\n",
    "Price=[]\n",
    "Squre_fit=[]"
   ]
  },
  {
   "cell_type": "code",
   "execution_count": null,
   "id": "94819272",
   "metadata": {},
   "outputs": [],
   "source": [
    "Area_Address=driver.find_elements(By.XPATH,'//div[@class=\"addr-component\"]')\n",
    "for i in Area_Address[0:20]:\n",
    "    add=i.text\n",
    "    Address.append(add) \n",
    "    \n",
    "House_Price=driver.find_elements(By.XPATH,'//div[@class=\"h4 text-primary mb-0\"]')\n",
    "for i in House_Price[0:20]:\n",
    "    price=i.text\n",
    "    Price.append(price)\n",
    "    \n",
    "Squre=driver.find_elements(By.XPATH,'//div[@class=\"text-muted\"]')\n",
    "for i in Squre[0:20]:\n",
    "    squre=i.text\n",
    "    Squre_fit.append(squre)"
   ]
  },
  {
   "cell_type": "code",
   "execution_count": null,
   "id": "3f717d9e",
   "metadata": {},
   "outputs": [],
   "source": [
    "print(len(Address),len(Squre_fit),len(Price))"
   ]
  },
  {
   "cell_type": "code",
   "execution_count": null,
   "id": "faac7dce",
   "metadata": {},
   "outputs": [],
   "source": [
    "import pandas as pd\n",
    "df=pd.DataFrame({'Address':Address, 'Price':Price, 'Squr':Squre_fit})\n",
    "df"
   ]
  },
  {
   "cell_type": "code",
   "execution_count": null,
   "id": "ba4bc970",
   "metadata": {},
   "outputs": [],
   "source": [
    "#page 55\n",
    "Next_button=driver.find_element(By.XPATH,\"/html/body/div/div/div/section/div[1]/div[4]/div[1]/div[3]/nav/ul/li[7]/a\")\n",
    "Next_button.click()"
   ]
  },
  {
   "cell_type": "code",
   "execution_count": null,
   "id": "dd22c105",
   "metadata": {},
   "outputs": [],
   "source": [
    "Address=[]\n",
    "Price=[]\n",
    "Squre_fit=[]"
   ]
  },
  {
   "cell_type": "code",
   "execution_count": null,
   "id": "db41eb4f",
   "metadata": {},
   "outputs": [],
   "source": [
    "Area_Address=driver.find_elements(By.XPATH,'//div[@class=\"addr-component\"]')\n",
    "for i in Area_Address[0:20]:\n",
    "    add=i.text\n",
    "    Address.append(add) \n",
    "    \n",
    "House_Price=driver.find_elements(By.XPATH,'//div[@class=\"h4 text-primary mb-0\"]')\n",
    "for i in House_Price[0:20]:\n",
    "    price=i.text\n",
    "    Price.append(price)\n",
    "    \n",
    "Squre=driver.find_elements(By.XPATH,'//div[@class=\"text-muted\"]')\n",
    "for i in Squre[0:20]:\n",
    "    squre=i.text\n",
    "    Squre_fit.append(squre)"
   ]
  },
  {
   "cell_type": "code",
   "execution_count": null,
   "id": "ee080c92",
   "metadata": {},
   "outputs": [],
   "source": [
    "print(len(Address),len(Squre_fit),len(Price))"
   ]
  },
  {
   "cell_type": "code",
   "execution_count": null,
   "id": "aacbdf6b",
   "metadata": {},
   "outputs": [],
   "source": [
    "import pandas as pd\n",
    "df=pd.DataFrame({'Address':Address, 'Price':Price, 'Squr':Squre_fit})\n",
    "df"
   ]
  },
  {
   "cell_type": "code",
   "execution_count": null,
   "id": "2f8b1a46",
   "metadata": {},
   "outputs": [],
   "source": [
    "#page 56\n",
    "Next_button=driver.find_element(By.XPATH,\"/html/body/div/div/div/section/div[1]/div[4]/div[1]/div[3]/nav/ul/li[7]/a\")\n",
    "Next_button.click()"
   ]
  },
  {
   "cell_type": "code",
   "execution_count": null,
   "id": "8b984f0f",
   "metadata": {},
   "outputs": [],
   "source": [
    "Address=[]\n",
    "Price=[]\n",
    "Squre_fit=[]"
   ]
  },
  {
   "cell_type": "code",
   "execution_count": null,
   "id": "973dd2d3",
   "metadata": {},
   "outputs": [],
   "source": [
    "Area_Address=driver.find_elements(By.XPATH,'//div[@class=\"addr-component\"]')\n",
    "for i in Area_Address[0:20]:\n",
    "    add=i.text\n",
    "    Address.append(add) \n",
    "    \n",
    "House_Price=driver.find_elements(By.XPATH,'//div[@class=\"h4 text-primary mb-0\"]')\n",
    "for i in House_Price[0:20]:\n",
    "    price=i.text\n",
    "    Price.append(price)\n",
    "    \n",
    "Squre=driver.find_elements(By.XPATH,'//div[@class=\"text-muted\"]')\n",
    "for i in Squre[0:20]:\n",
    "    squre=i.text\n",
    "    Squre_fit.append(squre)"
   ]
  },
  {
   "cell_type": "code",
   "execution_count": null,
   "id": "5462b4d1",
   "metadata": {},
   "outputs": [],
   "source": [
    "print(len(Address),len(Squre_fit),len(Price))"
   ]
  },
  {
   "cell_type": "code",
   "execution_count": null,
   "id": "d5e98e9b",
   "metadata": {},
   "outputs": [],
   "source": [
    "import pandas as pd\n",
    "df=pd.DataFrame({'Address':Address, 'Price':Price, 'Squr':Squre_fit})\n",
    "df"
   ]
  },
  {
   "cell_type": "code",
   "execution_count": null,
   "id": "113f905f",
   "metadata": {},
   "outputs": [],
   "source": [
    "#page 57\n",
    "Next_button=driver.find_element(By.XPATH,\"/html/body/div/div/div/section/div[1]/div[4]/div[1]/div[3]/nav/ul/li[7]/a\")\n",
    "Next_button.click()"
   ]
  },
  {
   "cell_type": "code",
   "execution_count": null,
   "id": "29212357",
   "metadata": {},
   "outputs": [],
   "source": [
    "Address=[]\n",
    "Price=[]\n",
    "Squre_fit=[]"
   ]
  },
  {
   "cell_type": "code",
   "execution_count": null,
   "id": "b2e2f8c2",
   "metadata": {},
   "outputs": [],
   "source": [
    "Area_Address=driver.find_elements(By.XPATH,'//div[@class=\"addr-component\"]')\n",
    "for i in Area_Address[0:20]:\n",
    "    add=i.text\n",
    "    Address.append(add) \n",
    "    \n",
    "House_Price=driver.find_elements(By.XPATH,'//div[@class=\"h4 text-primary mb-0\"]')\n",
    "for i in House_Price[0:20]:\n",
    "    price=i.text\n",
    "    Price.append(price)\n",
    "    \n",
    "Squre=driver.find_elements(By.XPATH,'//div[@class=\"text-muted\"]')\n",
    "for i in Squre[0:20]:\n",
    "    squre=i.text\n",
    "    Squre_fit.append(squre)"
   ]
  },
  {
   "cell_type": "code",
   "execution_count": null,
   "id": "08dbfb46",
   "metadata": {},
   "outputs": [],
   "source": [
    "print(len(Address),len(Squre_fit),len(Price))"
   ]
  },
  {
   "cell_type": "code",
   "execution_count": null,
   "id": "c6d46775",
   "metadata": {},
   "outputs": [],
   "source": [
    "import pandas as pd\n",
    "df=pd.DataFrame({'Address':Address, 'Price':Price, 'Squr':Squre_fit})\n",
    "df"
   ]
  },
  {
   "cell_type": "code",
   "execution_count": null,
   "id": "a9d743f9",
   "metadata": {},
   "outputs": [],
   "source": [
    "#page 58\n",
    "Next_button=driver.find_element(By.XPATH,\"/html/body/div/div/div/section/div[1]/div[4]/div[1]/div[3]/nav/ul/li[7]/a\")\n",
    "Next_button.click()"
   ]
  },
  {
   "cell_type": "code",
   "execution_count": null,
   "id": "5cce15a5",
   "metadata": {},
   "outputs": [],
   "source": [
    "Address=[]\n",
    "Price=[]\n",
    "Squre_fit=[]"
   ]
  },
  {
   "cell_type": "code",
   "execution_count": null,
   "id": "43045ced",
   "metadata": {},
   "outputs": [],
   "source": [
    "Area_Address=driver.find_elements(By.XPATH,'//div[@class=\"addr-component\"]')\n",
    "for i in Area_Address[0:20]:\n",
    "    add=i.text\n",
    "    Address.append(add) \n",
    "    \n",
    "House_Price=driver.find_elements(By.XPATH,'//div[@class=\"h4 text-primary mb-0\"]')\n",
    "for i in House_Price[0:20]:\n",
    "    price=i.text\n",
    "    Price.append(price)\n",
    "    \n",
    "Squre=driver.find_elements(By.XPATH,'//div[@class=\"text-muted\"]')\n",
    "for i in Squre[0:20]:\n",
    "    squre=i.text\n",
    "    Squre_fit.append(squre)"
   ]
  },
  {
   "cell_type": "code",
   "execution_count": null,
   "id": "3b21ef39",
   "metadata": {},
   "outputs": [],
   "source": [
    "print(len(Address),len(Squre_fit),len(Price))"
   ]
  },
  {
   "cell_type": "code",
   "execution_count": null,
   "id": "65d40a74",
   "metadata": {},
   "outputs": [],
   "source": [
    "import pandas as pd\n",
    "df=pd.DataFrame({'Address':Address, 'Price':Price, 'Squr':Squre_fit})\n",
    "df"
   ]
  },
  {
   "cell_type": "code",
   "execution_count": null,
   "id": "0e31234e",
   "metadata": {},
   "outputs": [],
   "source": [
    "#page 59\n",
    "Next_button=driver.find_element(By.XPATH,\"/html/body/div/div/div/section/div[1]/div[4]/div[1]/div[3]/nav/ul/li[7]/a\")\n",
    "Next_button.click()"
   ]
  },
  {
   "cell_type": "code",
   "execution_count": null,
   "id": "dd11cd07",
   "metadata": {},
   "outputs": [],
   "source": [
    "Address=[]\n",
    "Price=[]\n",
    "Squre_fit=[]"
   ]
  },
  {
   "cell_type": "code",
   "execution_count": null,
   "id": "2a550032",
   "metadata": {},
   "outputs": [],
   "source": [
    "Area_Address=driver.find_elements(By.XPATH,'//div[@class=\"addr-component\"]')\n",
    "for i in Area_Address[0:20]:\n",
    "    add=i.text\n",
    "    Address.append(add) \n",
    "    \n",
    "House_Price=driver.find_elements(By.XPATH,'//div[@class=\"h4 text-primary mb-0\"]')\n",
    "for i in House_Price[0:20]:\n",
    "    price=i.text\n",
    "    Price.append(price)\n",
    "    \n",
    "Squre=driver.find_elements(By.XPATH,'//div[@class=\"text-muted\"]')\n",
    "for i in Squre[0:20]:\n",
    "    squre=i.text\n",
    "    Squre_fit.append(squre)"
   ]
  },
  {
   "cell_type": "code",
   "execution_count": null,
   "id": "4eec3a4a",
   "metadata": {},
   "outputs": [],
   "source": [
    "print(len(Address),len(Squre_fit),len(Price))"
   ]
  },
  {
   "cell_type": "code",
   "execution_count": null,
   "id": "96600d96",
   "metadata": {},
   "outputs": [],
   "source": [
    "import pandas as pd\n",
    "df=pd.DataFrame({'Address':Address, 'Price':Price, 'Squr':Squre_fit})\n",
    "df"
   ]
  },
  {
   "cell_type": "code",
   "execution_count": null,
   "id": "7ccd73bf",
   "metadata": {},
   "outputs": [],
   "source": [
    "#page 60\n",
    "Next_button=driver.find_element(By.XPATH,\"/html/body/div/div/div/section/div[1]/div[4]/div[1]/div[3]/nav/ul/li[7]/a\")\n",
    "Next_button.click()"
   ]
  },
  {
   "cell_type": "code",
   "execution_count": null,
   "id": "6c01e827",
   "metadata": {},
   "outputs": [],
   "source": [
    "Address=[]\n",
    "Price=[]\n",
    "Squre_fit=[]"
   ]
  },
  {
   "cell_type": "code",
   "execution_count": null,
   "id": "f1ca279c",
   "metadata": {},
   "outputs": [],
   "source": [
    "Area_Address=driver.find_elements(By.XPATH,'//div[@class=\"addr-component\"]')\n",
    "for i in Area_Address[0:20]:\n",
    "    add=i.text\n",
    "    Address.append(add) \n",
    "    \n",
    "House_Price=driver.find_elements(By.XPATH,'//div[@class=\"h4 text-primary mb-0\"]')\n",
    "for i in House_Price[0:20]:\n",
    "    price=i.text\n",
    "    Price.append(price)\n",
    "    \n",
    "Squre=driver.find_elements(By.XPATH,'//div[@class=\"text-muted\"]')\n",
    "for i in Squre[0:20]:\n",
    "    squre=i.text\n",
    "    Squre_fit.append(squre)"
   ]
  },
  {
   "cell_type": "code",
   "execution_count": null,
   "id": "ad5d7492",
   "metadata": {},
   "outputs": [],
   "source": [
    "print(len(Address),len(Squre_fit),len(Price))"
   ]
  },
  {
   "cell_type": "code",
   "execution_count": null,
   "id": "aa2a8375",
   "metadata": {},
   "outputs": [],
   "source": []
  },
  {
   "cell_type": "code",
   "execution_count": null,
   "id": "141423af",
   "metadata": {},
   "outputs": [],
   "source": [
    "import pandas as pd\n",
    "df=pd.DataFrame({'Address':Address, 'Price':Price, 'Squr':Squre_fit})\n",
    "df"
   ]
  },
  {
   "cell_type": "code",
   "execution_count": null,
   "id": "60afbfb2",
   "metadata": {},
   "outputs": [],
   "source": [
    "#page 61\n",
    "Next_button=driver.find_element(By.XPATH,\"/html/body/div/div/div/section/div[1]/div[4]/div[1]/div[3]/nav/ul/li[7]/a\")\n",
    "Next_button.click()"
   ]
  },
  {
   "cell_type": "code",
   "execution_count": null,
   "id": "99eaa379",
   "metadata": {},
   "outputs": [],
   "source": [
    "Address=[]\n",
    "Price=[]\n",
    "Squre_fit=[]"
   ]
  },
  {
   "cell_type": "code",
   "execution_count": null,
   "id": "497e182f",
   "metadata": {},
   "outputs": [],
   "source": [
    "Area_Address=driver.find_elements(By.XPATH,'//div[@class=\"addr-component\"]')\n",
    "for i in Area_Address[0:20]:\n",
    "    add=i.text\n",
    "    Address.append(add) \n",
    "    \n",
    "House_Price=driver.find_elements(By.XPATH,'//div[@class=\"h4 text-primary mb-0\"]')\n",
    "for i in House_Price[0:20]:\n",
    "    price=i.text\n",
    "    Price.append(price)\n",
    "    \n",
    "Squre=driver.find_elements(By.XPATH,'//div[@class=\"text-muted\"]')\n",
    "for i in Squre[0:20]:\n",
    "    squre=i.text\n",
    "    Squre_fit.append(squre)"
   ]
  },
  {
   "cell_type": "code",
   "execution_count": null,
   "id": "4547befb",
   "metadata": {},
   "outputs": [],
   "source": [
    "print(len(Address),len(Squre_fit),len(Price))"
   ]
  },
  {
   "cell_type": "code",
   "execution_count": null,
   "id": "06472051",
   "metadata": {},
   "outputs": [],
   "source": [
    "import pandas as pd\n",
    "df=pd.DataFrame({'Address':Address, 'Price':Price, 'Squr':Squre_fit})\n",
    "df"
   ]
  },
  {
   "cell_type": "code",
   "execution_count": null,
   "id": "1cf64057",
   "metadata": {},
   "outputs": [],
   "source": [
    "#page 62\n",
    "Next_button=driver.find_element(By.XPATH,\"/html/body/div/div/div/section/div[1]/div[4]/div[1]/div[3]/nav/ul/li[7]/a\")\n",
    "Next_button.click()"
   ]
  },
  {
   "cell_type": "code",
   "execution_count": null,
   "id": "87678511",
   "metadata": {},
   "outputs": [],
   "source": [
    "Address=[]\n",
    "Price=[]\n",
    "Squre_fit=[]"
   ]
  },
  {
   "cell_type": "code",
   "execution_count": null,
   "id": "5cc6b055",
   "metadata": {},
   "outputs": [],
   "source": [
    "Area_Address=driver.find_elements(By.XPATH,'//div[@class=\"addr-component\"]')\n",
    "for i in Area_Address[0:20]:\n",
    "    add=i.text\n",
    "    Address.append(add) \n",
    "    \n",
    "House_Price=driver.find_elements(By.XPATH,'//div[@class=\"h4 text-primary mb-0\"]')\n",
    "for i in House_Price[0:20]:\n",
    "    price=i.text\n",
    "    Price.append(price)\n",
    "    \n",
    "Squre=driver.find_elements(By.XPATH,'//div[@class=\"text-muted\"]')\n",
    "for i in Squre[0:20]:\n",
    "    squre=i.text\n",
    "    Squre_fit.append(squre)"
   ]
  },
  {
   "cell_type": "code",
   "execution_count": null,
   "id": "6aa7bbb1",
   "metadata": {},
   "outputs": [],
   "source": [
    "print(len(Address),len(Squre_fit),len(Price))"
   ]
  },
  {
   "cell_type": "code",
   "execution_count": null,
   "id": "06bc8dab",
   "metadata": {},
   "outputs": [],
   "source": [
    "import pandas as pd\n",
    "df=pd.DataFrame({'Address':Address, 'Price':Price, 'Squr':Squre_fit})\n",
    "df"
   ]
  },
  {
   "cell_type": "code",
   "execution_count": null,
   "id": "990f07a2",
   "metadata": {},
   "outputs": [],
   "source": [
    "#page 63\n",
    "Next_button=driver.find_element(By.XPATH,\"/html/body/div/div/div/section/div[1]/div[4]/div[1]/div[3]/nav/ul/li[7]/a\")\n",
    "Next_button.click()"
   ]
  },
  {
   "cell_type": "code",
   "execution_count": null,
   "id": "8e23fd21",
   "metadata": {},
   "outputs": [],
   "source": [
    "Address=[]\n",
    "Price=[]\n",
    "Squre_fit=[]"
   ]
  },
  {
   "cell_type": "code",
   "execution_count": null,
   "id": "e838ebf0",
   "metadata": {},
   "outputs": [],
   "source": [
    "Area_Address=driver.find_elements(By.XPATH,'//div[@class=\"addr-component\"]')\n",
    "for i in Area_Address[0:20]:\n",
    "    add=i.text\n",
    "    Address.append(add) \n",
    "    \n",
    "House_Price=driver.find_elements(By.XPATH,'//div[@class=\"h4 text-primary mb-0\"]')\n",
    "for i in House_Price[0:20]:\n",
    "    price=i.text\n",
    "    Price.append(price)\n",
    "    \n",
    "Squre=driver.find_elements(By.XPATH,'//div[@class=\"text-muted\"]')\n",
    "for i in Squre[0:20]:\n",
    "    squre=i.text\n",
    "    Squre_fit.append(squre)"
   ]
  },
  {
   "cell_type": "code",
   "execution_count": null,
   "id": "613ac1d1",
   "metadata": {},
   "outputs": [],
   "source": [
    "print(len(Address),len(Squre_fit),len(Price))"
   ]
  },
  {
   "cell_type": "code",
   "execution_count": null,
   "id": "bee42768",
   "metadata": {},
   "outputs": [],
   "source": [
    "import pandas as pd\n",
    "df=pd.DataFrame({'Address':Address, 'Price':Price, 'Squr':Squre_fit})\n",
    "df"
   ]
  },
  {
   "cell_type": "code",
   "execution_count": null,
   "id": "8e49aa16",
   "metadata": {},
   "outputs": [],
   "source": [
    "#page 64\n",
    "Next_button=driver.find_element(By.XPATH,\"/html/body/div/div/div/section/div[1]/div[4]/div[1]/div[3]/nav/ul/li[7]/a\")\n",
    "Next_button.click()"
   ]
  },
  {
   "cell_type": "code",
   "execution_count": null,
   "id": "634d8560",
   "metadata": {},
   "outputs": [],
   "source": [
    "Address=[]\n",
    "Price=[]\n",
    "Squre_fit=[]"
   ]
  },
  {
   "cell_type": "code",
   "execution_count": null,
   "id": "bca38343",
   "metadata": {},
   "outputs": [],
   "source": [
    "Area_Address=driver.find_elements(By.XPATH,'//div[@class=\"addr-component\"]')\n",
    "for i in Area_Address[0:20]:\n",
    "    add=i.text\n",
    "    Address.append(add) \n",
    "    \n",
    "House_Price=driver.find_elements(By.XPATH,'//div[@class=\"h4 text-primary mb-0\"]')\n",
    "for i in House_Price[0:20]:\n",
    "    price=i.text\n",
    "    Price.append(price)\n",
    "    \n",
    "Squre=driver.find_elements(By.XPATH,'//div[@class=\"text-muted\"]')\n",
    "for i in Squre[0:20]:\n",
    "    squre=i.text\n",
    "    Squre_fit.append(squre)"
   ]
  },
  {
   "cell_type": "code",
   "execution_count": null,
   "id": "2e65b0ad",
   "metadata": {},
   "outputs": [],
   "source": [
    "print(len(Address),len(Squre_fit),len(Price))"
   ]
  },
  {
   "cell_type": "code",
   "execution_count": null,
   "id": "41ba42f4",
   "metadata": {},
   "outputs": [],
   "source": [
    "import pandas as pd\n",
    "df=pd.DataFrame({'Address':Address, 'Price':Price, 'Squr':Squre_fit})\n",
    "df"
   ]
  },
  {
   "cell_type": "code",
   "execution_count": null,
   "id": "f0a52c7b",
   "metadata": {},
   "outputs": [],
   "source": [
    "#page 65\n",
    "Next_button=driver.find_element(By.XPATH,\"/html/body/div/div/div/section/div[1]/div[4]/div[1]/div[3]/nav/ul/li[7]/a\")\n",
    "Next_button.click()"
   ]
  },
  {
   "cell_type": "code",
   "execution_count": null,
   "id": "0fe9190e",
   "metadata": {},
   "outputs": [],
   "source": [
    "Address=[]\n",
    "Price=[]\n",
    "Squre_fit=[]"
   ]
  },
  {
   "cell_type": "code",
   "execution_count": null,
   "id": "0a605238",
   "metadata": {},
   "outputs": [],
   "source": [
    "Area_Address=driver.find_elements(By.XPATH,'//div[@class=\"addr-component\"]')\n",
    "for i in Area_Address[0:20]:\n",
    "    add=i.text\n",
    "    Address.append(add) \n",
    "    \n",
    "House_Price=driver.find_elements(By.XPATH,'//div[@class=\"h4 text-primary mb-0\"]')\n",
    "for i in House_Price[0:20]:\n",
    "    price=i.text\n",
    "    Price.append(price)\n",
    "    \n",
    "Squre=driver.find_elements(By.XPATH,'//div[@class=\"text-muted\"]')\n",
    "for i in Squre[0:20]:\n",
    "    squre=i.text\n",
    "    Squre_fit.append(squre)"
   ]
  },
  {
   "cell_type": "code",
   "execution_count": null,
   "id": "c19faf79",
   "metadata": {},
   "outputs": [],
   "source": [
    "print(len(Address),len(Squre_fit),len(Price))"
   ]
  },
  {
   "cell_type": "code",
   "execution_count": null,
   "id": "30087471",
   "metadata": {},
   "outputs": [],
   "source": [
    "import pandas as pd\n",
    "df=pd.DataFrame({'Address':Address, 'Price':Price, 'Squr':Squre_fit})\n",
    "df"
   ]
  },
  {
   "cell_type": "code",
   "execution_count": null,
   "id": "cda832b9",
   "metadata": {},
   "outputs": [],
   "source": [
    "#page 66\n",
    "Next_button=driver.find_element(By.XPATH,\"/html/body/div/div/div/section/div[1]/div[4]/div[1]/div[3]/nav/ul/li[7]/a\")\n",
    "Next_button.click()"
   ]
  },
  {
   "cell_type": "code",
   "execution_count": null,
   "id": "8f686ea8",
   "metadata": {},
   "outputs": [],
   "source": [
    "Address=[]\n",
    "Price=[]\n",
    "Squre_fit=[]"
   ]
  },
  {
   "cell_type": "code",
   "execution_count": null,
   "id": "d83b12ac",
   "metadata": {},
   "outputs": [],
   "source": [
    "Area_Address=driver.find_elements(By.XPATH,'//div[@class=\"addr-component\"]')\n",
    "for i in Area_Address[0:20]:\n",
    "    add=i.text\n",
    "    Address.append(add) \n",
    "    \n",
    "House_Price=driver.find_elements(By.XPATH,'//div[@class=\"h4 text-primary mb-0\"]')\n",
    "for i in House_Price[0:20]:\n",
    "    price=i.text\n",
    "    Price.append(price)\n",
    "    \n",
    "Squre=driver.find_elements(By.XPATH,'//div[@class=\"text-muted\"]')\n",
    "for i in Squre[0:20]:\n",
    "    squre=i.text\n",
    "    Squre_fit.append(squre)"
   ]
  },
  {
   "cell_type": "code",
   "execution_count": null,
   "id": "2b2a9720",
   "metadata": {},
   "outputs": [],
   "source": [
    "print(len(Address),len(Squre_fit),len(Price))"
   ]
  },
  {
   "cell_type": "code",
   "execution_count": null,
   "id": "09ef1d21",
   "metadata": {},
   "outputs": [],
   "source": [
    "import pandas as pd\n",
    "df=pd.DataFrame({'Address':Address, 'Price':Price, 'Squr':Squre_fit})\n",
    "df"
   ]
  },
  {
   "cell_type": "code",
   "execution_count": null,
   "id": "d5609637",
   "metadata": {},
   "outputs": [],
   "source": [
    "#page 67\n",
    "Next_button=driver.find_element(By.XPATH,\"/html/body/div/div/div/section/div[1]/div[4]/div[1]/div[3]/nav/ul/li[7]/a\")\n",
    "Next_button.click()"
   ]
  },
  {
   "cell_type": "code",
   "execution_count": null,
   "id": "1ba06217",
   "metadata": {},
   "outputs": [],
   "source": [
    "Address=[]\n",
    "Price=[]\n",
    "Squre_fit=[]"
   ]
  },
  {
   "cell_type": "code",
   "execution_count": null,
   "id": "03798ff7",
   "metadata": {},
   "outputs": [],
   "source": [
    "Area_Address=driver.find_elements(By.XPATH,'//div[@class=\"addr-component\"]')\n",
    "for i in Area_Address[0:20]:\n",
    "    add=i.text\n",
    "    Address.append(add) \n",
    "    \n",
    "House_Price=driver.find_elements(By.XPATH,'//div[@class=\"h4 text-primary mb-0\"]')\n",
    "for i in House_Price[0:20]:\n",
    "    price=i.text\n",
    "    Price.append(price)\n",
    "    \n",
    "Squre=driver.find_elements(By.XPATH,'//div[@class=\"text-muted\"]')\n",
    "for i in Squre[0:20]:\n",
    "    squre=i.text\n",
    "    Squre_fit.append(squre)"
   ]
  },
  {
   "cell_type": "code",
   "execution_count": null,
   "id": "c6609084",
   "metadata": {},
   "outputs": [],
   "source": [
    "print(len(Address),len(Squre_fit),len(Price))"
   ]
  },
  {
   "cell_type": "code",
   "execution_count": null,
   "id": "d2689831",
   "metadata": {},
   "outputs": [],
   "source": [
    "import pandas as pd\n",
    "df=pd.DataFrame({'Address':Address, 'Price':Price, 'Squr':Squre_fit})\n",
    "df"
   ]
  },
  {
   "cell_type": "code",
   "execution_count": null,
   "id": "24df9fdd",
   "metadata": {},
   "outputs": [],
   "source": [
    "#page 68\n",
    "Next_button=driver.find_element(By.XPATH,\"/html/body/div/div/div/section/div[1]/div[4]/div[1]/div[3]/nav/ul/li[7]/a\")\n",
    "Next_button.click()"
   ]
  },
  {
   "cell_type": "code",
   "execution_count": null,
   "id": "6391cd1f",
   "metadata": {},
   "outputs": [],
   "source": [
    "Address=[]\n",
    "Price=[]\n",
    "Squre_fit=[]"
   ]
  },
  {
   "cell_type": "code",
   "execution_count": null,
   "id": "a72f472f",
   "metadata": {},
   "outputs": [],
   "source": [
    "Area_Address=driver.find_elements(By.XPATH,'//div[@class=\"addr-component\"]')\n",
    "for i in Area_Address[0:20]:\n",
    "    add=i.text\n",
    "    Address.append(add) \n",
    "    \n",
    "House_Price=driver.find_elements(By.XPATH,'//div[@class=\"h4 text-primary mb-0\"]')\n",
    "for i in House_Price[0:20]:\n",
    "    price=i.text\n",
    "    Price.append(price)\n",
    "    \n",
    "Squre=driver.find_elements(By.XPATH,'//div[@class=\"text-muted\"]')\n",
    "for i in Squre[0:20]:\n",
    "    squre=i.text\n",
    "    Squre_fit.append(squre)"
   ]
  },
  {
   "cell_type": "code",
   "execution_count": null,
   "id": "685f2364",
   "metadata": {},
   "outputs": [],
   "source": [
    "print(len(Address),len(Squre_fit),len(Price))"
   ]
  },
  {
   "cell_type": "code",
   "execution_count": null,
   "id": "02d84e41",
   "metadata": {},
   "outputs": [],
   "source": [
    "import pandas as pd\n",
    "df=pd.DataFrame({'Address':Address, 'Price':Price, 'Squr':Squre_fit})\n",
    "df"
   ]
  },
  {
   "cell_type": "code",
   "execution_count": null,
   "id": "a4021422",
   "metadata": {},
   "outputs": [],
   "source": [
    "#page 69\n",
    "Next_button=driver.find_element(By.XPATH,\"/html/body/div/div/div/section/div[1]/div[4]/div[1]/div[3]/nav/ul/li[7]/a\")\n",
    "Next_button.click()"
   ]
  },
  {
   "cell_type": "code",
   "execution_count": null,
   "id": "1b8c574f",
   "metadata": {},
   "outputs": [],
   "source": [
    "Address=[]\n",
    "Price=[]\n",
    "Squre_fit=[]"
   ]
  },
  {
   "cell_type": "code",
   "execution_count": null,
   "id": "a1035d79",
   "metadata": {},
   "outputs": [],
   "source": [
    "Area_Address=driver.find_elements(By.XPATH,'//div[@class=\"addr-component\"]')\n",
    "for i in Area_Address[0:20]:\n",
    "    add=i.text\n",
    "    Address.append(add) \n",
    "    \n",
    "House_Price=driver.find_elements(By.XPATH,'//div[@class=\"h4 text-primary mb-0\"]')\n",
    "for i in House_Price[0:20]:\n",
    "    price=i.text\n",
    "    Price.append(price)\n",
    "    \n",
    "Squre=driver.find_elements(By.XPATH,'//div[@class=\"text-muted\"]')\n",
    "for i in Squre[0:20]:\n",
    "    squre=i.text\n",
    "    Squre_fit.append(squre)"
   ]
  },
  {
   "cell_type": "code",
   "execution_count": null,
   "id": "373ca102",
   "metadata": {},
   "outputs": [],
   "source": [
    "print(len(Address),len(Squre_fit),len(Price))"
   ]
  },
  {
   "cell_type": "code",
   "execution_count": null,
   "id": "3aa7048b",
   "metadata": {},
   "outputs": [],
   "source": [
    "import pandas as pd\n",
    "df=pd.DataFrame({'Address':Address, 'Price':Price, 'Squr':Squre_fit})\n",
    "df"
   ]
  },
  {
   "cell_type": "code",
   "execution_count": null,
   "id": "bfb74de9",
   "metadata": {},
   "outputs": [],
   "source": [
    "#page 70\n",
    "Next_button=driver.find_element(By.XPATH,\"/html/body/div/div/div/section/div[1]/div[4]/div[1]/div[3]/nav/ul/li[7]/a\")\n",
    "Next_button.click()"
   ]
  },
  {
   "cell_type": "code",
   "execution_count": 105,
   "id": "ad0b0fbd",
   "metadata": {},
   "outputs": [],
   "source": [
    "Address=[]\n",
    "Price=[]\n",
    "Squre_fit=[]"
   ]
  },
  {
   "cell_type": "code",
   "execution_count": 106,
   "id": "2d988da0",
   "metadata": {},
   "outputs": [],
   "source": [
    "Area_Address=driver.find_elements(By.XPATH,'//div[@class=\"addr-component\"]')\n",
    "for i in Area_Address[0:20]:\n",
    "    add=i.text\n",
    "    Address.append(add) \n",
    "    \n",
    "House_Price=driver.find_elements(By.XPATH,'//div[@class=\"h4 text-primary mb-0\"]')\n",
    "for i in House_Price[0:20]:\n",
    "    price=i.text\n",
    "    Price.append(price)\n",
    "    \n",
    "Squre=driver.find_elements(By.XPATH,'//div[@class=\"text-muted\"]')\n",
    "for i in Squre[0:20]:\n",
    "    squre=i.text\n",
    "    Squre_fit.append(squre)"
   ]
  },
  {
   "cell_type": "code",
   "execution_count": 107,
   "id": "782995a4",
   "metadata": {},
   "outputs": [
    {
     "name": "stdout",
     "output_type": "stream",
     "text": [
      "0 0 0\n"
     ]
    }
   ],
   "source": [
    "print(len(Address),len(Squre_fit),len(Price))"
   ]
  },
  {
   "cell_type": "code",
   "execution_count": 108,
   "id": "a208b5c8",
   "metadata": {},
   "outputs": [
    {
     "data": {
      "text/html": [
       "<div>\n",
       "<style scoped>\n",
       "    .dataframe tbody tr th:only-of-type {\n",
       "        vertical-align: middle;\n",
       "    }\n",
       "\n",
       "    .dataframe tbody tr th {\n",
       "        vertical-align: top;\n",
       "    }\n",
       "\n",
       "    .dataframe thead th {\n",
       "        text-align: right;\n",
       "    }\n",
       "</style>\n",
       "<table border=\"1\" class=\"dataframe\">\n",
       "  <thead>\n",
       "    <tr style=\"text-align: right;\">\n",
       "      <th></th>\n",
       "      <th>Address</th>\n",
       "      <th>Price</th>\n",
       "      <th>Squr</th>\n",
       "    </tr>\n",
       "  </thead>\n",
       "  <tbody>\n",
       "  </tbody>\n",
       "</table>\n",
       "</div>"
      ],
      "text/plain": [
       "Empty DataFrame\n",
       "Columns: [Address, Price, Squr]\n",
       "Index: []"
      ]
     },
     "execution_count": 108,
     "metadata": {},
     "output_type": "execute_result"
    }
   ],
   "source": [
    "import pandas as pd\n",
    "df=pd.DataFrame({'Address':Address, 'Price':Price, 'Squr':Squre_fit})\n",
    "df"
   ]
  },
  {
   "cell_type": "code",
   "execution_count": 109,
   "id": "971eacc3",
   "metadata": {},
   "outputs": [
    {
     "ename": "NoSuchElementException",
     "evalue": "Message: no such element: Unable to locate element: {\"method\":\"xpath\",\"selector\":\"/html/body/div/div/div/section/div[1]/div[4]/div[1]/div[3]/nav/ul/li[7]/a\"}\n  (Session info: chrome=122.0.6261.69); For documentation on this error, please visit: https://www.selenium.dev/documentation/webdriver/troubleshooting/errors#no-such-element-exception\nStacktrace:\n\tGetHandleVerifier [0x00007FF7E2094C82+3505170]\n\t(No symbol) [0x00007FF7E1CC0852]\n\t(No symbol) [0x00007FF7E1B74145]\n\t(No symbol) [0x00007FF7E1BB9ADD]\n\t(No symbol) [0x00007FF7E1BB9C1C]\n\t(No symbol) [0x00007FF7E1BFAB27]\n\t(No symbol) [0x00007FF7E1BDBECF]\n\t(No symbol) [0x00007FF7E1BF83B2]\n\t(No symbol) [0x00007FF7E1BDBC33]\n\t(No symbol) [0x00007FF7E1BAD618]\n\t(No symbol) [0x00007FF7E1BAE6B1]\n\tGetHandleVerifier [0x00007FF7E20C67DD+3708781]\n\tGetHandleVerifier [0x00007FF7E211FC5D+4074477]\n\tGetHandleVerifier [0x00007FF7E2117DDF+4042095]\n\tGetHandleVerifier [0x00007FF7E1DEA136+708806]\n\t(No symbol) [0x00007FF7E1CCCB0F]\n\t(No symbol) [0x00007FF7E1CC7D14]\n\t(No symbol) [0x00007FF7E1CC7E6C]\n\t(No symbol) [0x00007FF7E1CB79A4]\n\tBaseThreadInitThunk [0x00007FFC747B257D+29]\n\tRtlUserThreadStart [0x00007FFC75D2AA58+40]\n",
     "output_type": "error",
     "traceback": [
      "\u001b[1;31m---------------------------------------------------------------------------\u001b[0m",
      "\u001b[1;31mNoSuchElementException\u001b[0m                    Traceback (most recent call last)",
      "\u001b[1;32m~\\AppData\\Local\\Temp\\ipykernel_7720\\997901045.py\u001b[0m in \u001b[0;36m<module>\u001b[1;34m\u001b[0m\n\u001b[0;32m      1\u001b[0m \u001b[1;31m#page 71\u001b[0m\u001b[1;33m\u001b[0m\u001b[1;33m\u001b[0m\u001b[0m\n\u001b[1;32m----> 2\u001b[1;33m \u001b[0mNext_button\u001b[0m\u001b[1;33m=\u001b[0m\u001b[0mdriver\u001b[0m\u001b[1;33m.\u001b[0m\u001b[0mfind_element\u001b[0m\u001b[1;33m(\u001b[0m\u001b[0mBy\u001b[0m\u001b[1;33m.\u001b[0m\u001b[0mXPATH\u001b[0m\u001b[1;33m,\u001b[0m\u001b[1;34m\"/html/body/div/div/div/section/div[1]/div[4]/div[1]/div[3]/nav/ul/li[7]/a\"\u001b[0m\u001b[1;33m)\u001b[0m\u001b[1;33m\u001b[0m\u001b[1;33m\u001b[0m\u001b[0m\n\u001b[0m\u001b[0;32m      3\u001b[0m \u001b[0mNext_button\u001b[0m\u001b[1;33m.\u001b[0m\u001b[0mclick\u001b[0m\u001b[1;33m(\u001b[0m\u001b[1;33m)\u001b[0m\u001b[1;33m\u001b[0m\u001b[1;33m\u001b[0m\u001b[0m\n",
      "\u001b[1;32m~\\anaconda3\\lib\\site-packages\\selenium\\webdriver\\remote\\webdriver.py\u001b[0m in \u001b[0;36mfind_element\u001b[1;34m(self, by, value)\u001b[0m\n\u001b[0;32m    736\u001b[0m             \u001b[0mvalue\u001b[0m \u001b[1;33m=\u001b[0m \u001b[1;34mf'[name=\"{value}\"]'\u001b[0m\u001b[1;33m\u001b[0m\u001b[1;33m\u001b[0m\u001b[0m\n\u001b[0;32m    737\u001b[0m \u001b[1;33m\u001b[0m\u001b[0m\n\u001b[1;32m--> 738\u001b[1;33m         \u001b[1;32mreturn\u001b[0m \u001b[0mself\u001b[0m\u001b[1;33m.\u001b[0m\u001b[0mexecute\u001b[0m\u001b[1;33m(\u001b[0m\u001b[0mCommand\u001b[0m\u001b[1;33m.\u001b[0m\u001b[0mFIND_ELEMENT\u001b[0m\u001b[1;33m,\u001b[0m \u001b[1;33m{\u001b[0m\u001b[1;34m\"using\"\u001b[0m\u001b[1;33m:\u001b[0m \u001b[0mby\u001b[0m\u001b[1;33m,\u001b[0m \u001b[1;34m\"value\"\u001b[0m\u001b[1;33m:\u001b[0m \u001b[0mvalue\u001b[0m\u001b[1;33m}\u001b[0m\u001b[1;33m)\u001b[0m\u001b[1;33m[\u001b[0m\u001b[1;34m\"value\"\u001b[0m\u001b[1;33m]\u001b[0m\u001b[1;33m\u001b[0m\u001b[1;33m\u001b[0m\u001b[0m\n\u001b[0m\u001b[0;32m    739\u001b[0m \u001b[1;33m\u001b[0m\u001b[0m\n\u001b[0;32m    740\u001b[0m     \u001b[1;32mdef\u001b[0m \u001b[0mfind_elements\u001b[0m\u001b[1;33m(\u001b[0m\u001b[0mself\u001b[0m\u001b[1;33m,\u001b[0m \u001b[0mby\u001b[0m\u001b[1;33m=\u001b[0m\u001b[0mBy\u001b[0m\u001b[1;33m.\u001b[0m\u001b[0mID\u001b[0m\u001b[1;33m,\u001b[0m \u001b[0mvalue\u001b[0m\u001b[1;33m:\u001b[0m \u001b[0mOptional\u001b[0m\u001b[1;33m[\u001b[0m\u001b[0mstr\u001b[0m\u001b[1;33m]\u001b[0m \u001b[1;33m=\u001b[0m \u001b[1;32mNone\u001b[0m\u001b[1;33m)\u001b[0m \u001b[1;33m->\u001b[0m \u001b[0mList\u001b[0m\u001b[1;33m[\u001b[0m\u001b[0mWebElement\u001b[0m\u001b[1;33m]\u001b[0m\u001b[1;33m:\u001b[0m\u001b[1;33m\u001b[0m\u001b[1;33m\u001b[0m\u001b[0m\n",
      "\u001b[1;32m~\\anaconda3\\lib\\site-packages\\selenium\\webdriver\\remote\\webdriver.py\u001b[0m in \u001b[0;36mexecute\u001b[1;34m(self, driver_command, params)\u001b[0m\n\u001b[0;32m    342\u001b[0m         \u001b[0mresponse\u001b[0m \u001b[1;33m=\u001b[0m \u001b[0mself\u001b[0m\u001b[1;33m.\u001b[0m\u001b[0mcommand_executor\u001b[0m\u001b[1;33m.\u001b[0m\u001b[0mexecute\u001b[0m\u001b[1;33m(\u001b[0m\u001b[0mdriver_command\u001b[0m\u001b[1;33m,\u001b[0m \u001b[0mparams\u001b[0m\u001b[1;33m)\u001b[0m\u001b[1;33m\u001b[0m\u001b[1;33m\u001b[0m\u001b[0m\n\u001b[0;32m    343\u001b[0m         \u001b[1;32mif\u001b[0m \u001b[0mresponse\u001b[0m\u001b[1;33m:\u001b[0m\u001b[1;33m\u001b[0m\u001b[1;33m\u001b[0m\u001b[0m\n\u001b[1;32m--> 344\u001b[1;33m             \u001b[0mself\u001b[0m\u001b[1;33m.\u001b[0m\u001b[0merror_handler\u001b[0m\u001b[1;33m.\u001b[0m\u001b[0mcheck_response\u001b[0m\u001b[1;33m(\u001b[0m\u001b[0mresponse\u001b[0m\u001b[1;33m)\u001b[0m\u001b[1;33m\u001b[0m\u001b[1;33m\u001b[0m\u001b[0m\n\u001b[0m\u001b[0;32m    345\u001b[0m             \u001b[0mresponse\u001b[0m\u001b[1;33m[\u001b[0m\u001b[1;34m\"value\"\u001b[0m\u001b[1;33m]\u001b[0m \u001b[1;33m=\u001b[0m \u001b[0mself\u001b[0m\u001b[1;33m.\u001b[0m\u001b[0m_unwrap_value\u001b[0m\u001b[1;33m(\u001b[0m\u001b[0mresponse\u001b[0m\u001b[1;33m.\u001b[0m\u001b[0mget\u001b[0m\u001b[1;33m(\u001b[0m\u001b[1;34m\"value\"\u001b[0m\u001b[1;33m,\u001b[0m \u001b[1;32mNone\u001b[0m\u001b[1;33m)\u001b[0m\u001b[1;33m)\u001b[0m\u001b[1;33m\u001b[0m\u001b[1;33m\u001b[0m\u001b[0m\n\u001b[0;32m    346\u001b[0m             \u001b[1;32mreturn\u001b[0m \u001b[0mresponse\u001b[0m\u001b[1;33m\u001b[0m\u001b[1;33m\u001b[0m\u001b[0m\n",
      "\u001b[1;32m~\\anaconda3\\lib\\site-packages\\selenium\\webdriver\\remote\\errorhandler.py\u001b[0m in \u001b[0;36mcheck_response\u001b[1;34m(self, response)\u001b[0m\n\u001b[0;32m    227\u001b[0m                 \u001b[0malert_text\u001b[0m \u001b[1;33m=\u001b[0m \u001b[0mvalue\u001b[0m\u001b[1;33m[\u001b[0m\u001b[1;34m\"alert\"\u001b[0m\u001b[1;33m]\u001b[0m\u001b[1;33m.\u001b[0m\u001b[0mget\u001b[0m\u001b[1;33m(\u001b[0m\u001b[1;34m\"text\"\u001b[0m\u001b[1;33m)\u001b[0m\u001b[1;33m\u001b[0m\u001b[1;33m\u001b[0m\u001b[0m\n\u001b[0;32m    228\u001b[0m             \u001b[1;32mraise\u001b[0m \u001b[0mexception_class\u001b[0m\u001b[1;33m(\u001b[0m\u001b[0mmessage\u001b[0m\u001b[1;33m,\u001b[0m \u001b[0mscreen\u001b[0m\u001b[1;33m,\u001b[0m \u001b[0mstacktrace\u001b[0m\u001b[1;33m,\u001b[0m \u001b[0malert_text\u001b[0m\u001b[1;33m)\u001b[0m  \u001b[1;31m# type: ignore[call-arg]  # mypy is not smart enough here\u001b[0m\u001b[1;33m\u001b[0m\u001b[1;33m\u001b[0m\u001b[0m\n\u001b[1;32m--> 229\u001b[1;33m         \u001b[1;32mraise\u001b[0m \u001b[0mexception_class\u001b[0m\u001b[1;33m(\u001b[0m\u001b[0mmessage\u001b[0m\u001b[1;33m,\u001b[0m \u001b[0mscreen\u001b[0m\u001b[1;33m,\u001b[0m \u001b[0mstacktrace\u001b[0m\u001b[1;33m)\u001b[0m\u001b[1;33m\u001b[0m\u001b[1;33m\u001b[0m\u001b[0m\n\u001b[0m",
      "\u001b[1;31mNoSuchElementException\u001b[0m: Message: no such element: Unable to locate element: {\"method\":\"xpath\",\"selector\":\"/html/body/div/div/div/section/div[1]/div[4]/div[1]/div[3]/nav/ul/li[7]/a\"}\n  (Session info: chrome=122.0.6261.69); For documentation on this error, please visit: https://www.selenium.dev/documentation/webdriver/troubleshooting/errors#no-such-element-exception\nStacktrace:\n\tGetHandleVerifier [0x00007FF7E2094C82+3505170]\n\t(No symbol) [0x00007FF7E1CC0852]\n\t(No symbol) [0x00007FF7E1B74145]\n\t(No symbol) [0x00007FF7E1BB9ADD]\n\t(No symbol) [0x00007FF7E1BB9C1C]\n\t(No symbol) [0x00007FF7E1BFAB27]\n\t(No symbol) [0x00007FF7E1BDBECF]\n\t(No symbol) [0x00007FF7E1BF83B2]\n\t(No symbol) [0x00007FF7E1BDBC33]\n\t(No symbol) [0x00007FF7E1BAD618]\n\t(No symbol) [0x00007FF7E1BAE6B1]\n\tGetHandleVerifier [0x00007FF7E20C67DD+3708781]\n\tGetHandleVerifier [0x00007FF7E211FC5D+4074477]\n\tGetHandleVerifier [0x00007FF7E2117DDF+4042095]\n\tGetHandleVerifier [0x00007FF7E1DEA136+708806]\n\t(No symbol) [0x00007FF7E1CCCB0F]\n\t(No symbol) [0x00007FF7E1CC7D14]\n\t(No symbol) [0x00007FF7E1CC7E6C]\n\t(No symbol) [0x00007FF7E1CB79A4]\n\tBaseThreadInitThunk [0x00007FFC747B257D+29]\n\tRtlUserThreadStart [0x00007FFC75D2AA58+40]\n"
     ]
    }
   ],
   "source": [
    "#page 71\n",
    "Next_button=driver.find_element(By.XPATH,\"/html/body/div/div/div/section/div[1]/div[4]/div[1]/div[3]/nav/ul/li[7]/a\")\n",
    "Next_button.click()"
   ]
  },
  {
   "cell_type": "code",
   "execution_count": null,
   "id": "c673917a",
   "metadata": {},
   "outputs": [],
   "source": [
    "Address=[]\n",
    "Price=[]\n",
    "Squre_fit=[]"
   ]
  },
  {
   "cell_type": "code",
   "execution_count": null,
   "id": "fd2d98d0",
   "metadata": {},
   "outputs": [],
   "source": [
    "Area_Address=driver.find_elements(By.XPATH,'//div[@class=\"addr-component\"]')\n",
    "for i in Area_Address[0:20]:\n",
    "    add=i.text\n",
    "    Address.append(add) \n",
    "    \n",
    "House_Price=driver.find_elements(By.XPATH,'//div[@class=\"h4 text-primary mb-0\"]')\n",
    "for i in House_Price[0:20]:\n",
    "    price=i.text\n",
    "    Price.append(price)\n",
    "    \n",
    "Squre=driver.find_elements(By.XPATH,'//div[@class=\"text-muted\"]')\n",
    "for i in Squre[0:20]:\n",
    "    squre=i.text\n",
    "    Squre_fit.append(squre)"
   ]
  },
  {
   "cell_type": "code",
   "execution_count": null,
   "id": "45757f55",
   "metadata": {},
   "outputs": [],
   "source": [
    "print(len(Address),len(Squre_fit),len(Price))"
   ]
  },
  {
   "cell_type": "code",
   "execution_count": null,
   "id": "14a9a38e",
   "metadata": {},
   "outputs": [],
   "source": [
    "import pandas as pd\n",
    "df=pd.DataFrame({'Address':Address, 'Price':Price, 'Squr':Squre_fit})\n",
    "df"
   ]
  },
  {
   "cell_type": "code",
   "execution_count": null,
   "id": "48b9c9f6",
   "metadata": {},
   "outputs": [],
   "source": [
    "#page 72\n",
    "Next_button=driver.find_element(By.XPATH,\"/html/body/div/div/div/section/div[1]/div[4]/div[1]/div[3]/nav/ul/li[7]/a\")\n",
    "Next_button.click()"
   ]
  },
  {
   "cell_type": "code",
   "execution_count": null,
   "id": "e56291d6",
   "metadata": {},
   "outputs": [],
   "source": [
    "Address=[]\n",
    "Price=[]\n",
    "Squre_fit=[]"
   ]
  },
  {
   "cell_type": "code",
   "execution_count": null,
   "id": "6b5033fd",
   "metadata": {},
   "outputs": [],
   "source": [
    "Area_Address=driver.find_elements(By.XPATH,'//div[@class=\"addr-component\"]')\n",
    "for i in Area_Address[0:20]:\n",
    "    add=i.text\n",
    "    Address.append(add) \n",
    "    \n",
    "House_Price=driver.find_elements(By.XPATH,'//div[@class=\"h4 text-primary mb-0\"]')\n",
    "for i in House_Price[0:20]:\n",
    "    price=i.text\n",
    "    Price.append(price)\n",
    "    \n",
    "Squre=driver.find_elements(By.XPATH,'//div[@class=\"text-muted\"]')\n",
    "for i in Squre[0:20]:\n",
    "    squre=i.text\n",
    "    Squre_fit.append(squre)"
   ]
  },
  {
   "cell_type": "code",
   "execution_count": null,
   "id": "57fe3e68",
   "metadata": {},
   "outputs": [],
   "source": [
    "print(len(Address),len(Squre_fit),len(Price))"
   ]
  },
  {
   "cell_type": "code",
   "execution_count": null,
   "id": "cbf0bf0b",
   "metadata": {},
   "outputs": [],
   "source": [
    "import pandas as pd\n",
    "df=pd.DataFrame({'Address':Address, 'Price':Price, 'Squr':Squre_fit})\n",
    "df"
   ]
  },
  {
   "cell_type": "code",
   "execution_count": null,
   "id": "40efea8f",
   "metadata": {},
   "outputs": [],
   "source": [
    "#page 73\n",
    "Next_button=driver.find_element(By.XPATH,\"/html/body/div/div/div/section/div[1]/div[4]/div[1]/div[3]/nav/ul/li[7]/a\")\n",
    "Next_button.click()"
   ]
  },
  {
   "cell_type": "code",
   "execution_count": null,
   "id": "18d48fc2",
   "metadata": {},
   "outputs": [],
   "source": [
    "Address=[]\n",
    "Price=[]\n",
    "Squre_fit=[]"
   ]
  },
  {
   "cell_type": "code",
   "execution_count": null,
   "id": "aa6da3c2",
   "metadata": {},
   "outputs": [],
   "source": [
    "Area_Address=driver.find_elements(By.XPATH,'//div[@class=\"addr-component\"]')\n",
    "for i in Area_Address[0:20]:\n",
    "    add=i.text\n",
    "    Address.append(add) \n",
    "    \n",
    "House_Price=driver.find_elements(By.XPATH,'//div[@class=\"h4 text-primary mb-0\"]')\n",
    "for i in House_Price[0:20]:\n",
    "    price=i.text\n",
    "    Price.append(price)\n",
    "    \n",
    "Squre=driver.find_elements(By.XPATH,'//div[@class=\"text-muted\"]')\n",
    "for i in Squre[0:20]:\n",
    "    squre=i.text\n",
    "    Squre_fit.append(squre)"
   ]
  },
  {
   "cell_type": "code",
   "execution_count": null,
   "id": "f07a89ae",
   "metadata": {},
   "outputs": [],
   "source": [
    "print(len(Address),len(Squre_fit),len(Price))"
   ]
  },
  {
   "cell_type": "code",
   "execution_count": null,
   "id": "ed59ad08",
   "metadata": {},
   "outputs": [],
   "source": [
    "import pandas as pd\n",
    "df=pd.DataFrame({'Address':Address, 'Price':Price, 'Squr':Squre_fit})\n",
    "df"
   ]
  },
  {
   "cell_type": "code",
   "execution_count": null,
   "id": "30b2721f",
   "metadata": {},
   "outputs": [],
   "source": [
    "#page 74\n",
    "Next_button=driver.find_element(By.XPATH,\"/html/body/div/div/div/section/div[1]/div[4]/div[1]/div[3]/nav/ul/li[7]/a\")\n",
    "Next_button.click()"
   ]
  },
  {
   "cell_type": "code",
   "execution_count": null,
   "id": "66c079f8",
   "metadata": {},
   "outputs": [],
   "source": [
    "Address=[]\n",
    "Price=[]\n",
    "Squre_fit=[]"
   ]
  },
  {
   "cell_type": "code",
   "execution_count": null,
   "id": "aa19f2c3",
   "metadata": {},
   "outputs": [],
   "source": [
    "Area_Address=driver.find_elements(By.XPATH,'//div[@class=\"addr-component\"]')\n",
    "for i in Area_Address[0:20]:\n",
    "    add=i.text\n",
    "    Address.append(add) \n",
    "    \n",
    "House_Price=driver.find_elements(By.XPATH,'//div[@class=\"h4 text-primary mb-0\"]')\n",
    "for i in House_Price[0:20]:\n",
    "    price=i.text\n",
    "    Price.append(price)\n",
    "    \n",
    "Squre=driver.find_elements(By.XPATH,'//div[@class=\"text-muted\"]')\n",
    "for i in Squre[0:20]:\n",
    "    squre=i.text\n",
    "    Squre_fit.append(squre)"
   ]
  },
  {
   "cell_type": "code",
   "execution_count": null,
   "id": "6f6e2900",
   "metadata": {},
   "outputs": [],
   "source": [
    "print(len(Address),len(Squre_fit),len(Price))"
   ]
  },
  {
   "cell_type": "code",
   "execution_count": null,
   "id": "be5c0fdf",
   "metadata": {},
   "outputs": [],
   "source": [
    "import pandas as pd\n",
    "df=pd.DataFrame({'Address':Address, 'Price':Price, 'Squr':Squre_fit})\n",
    "df"
   ]
  },
  {
   "cell_type": "code",
   "execution_count": null,
   "id": "b791f663",
   "metadata": {},
   "outputs": [],
   "source": [
    "#page 75\n",
    "Next_button=driver.find_element(By.XPATH,\"/html/body/div/div/div/section/div[1]/div[4]/div[1]/div[3]/nav/ul/li[7]/a\")\n",
    "Next_button.click()"
   ]
  },
  {
   "cell_type": "code",
   "execution_count": null,
   "id": "1ed54f0b",
   "metadata": {},
   "outputs": [],
   "source": [
    "Address=[]\n",
    "Price=[]\n",
    "Squre_fit=[]"
   ]
  },
  {
   "cell_type": "code",
   "execution_count": 110,
   "id": "fbc43d5b",
   "metadata": {},
   "outputs": [],
   "source": [
    "Area_Address=driver.find_elements(By.XPATH,'//div[@class=\"addr-component\"]')\n",
    "for i in Area_Address[0:20]:\n",
    "    add=i.text\n",
    "    Address.append(add) \n",
    "    \n",
    "House_Price=driver.find_elements(By.XPATH,'//div[@class=\"h4 text-primary mb-0\"]')\n",
    "for i in House_Price[0:20]:\n",
    "    price=i.text\n",
    "    Price.append(price)\n",
    "    \n",
    "Squre=driver.find_elements(By.XPATH,'//div[@class=\"text-muted\"]')\n",
    "for i in Squre[0:20]:\n",
    "    squre=i.text\n",
    "    Squre_fit.append(squre)"
   ]
  },
  {
   "cell_type": "code",
   "execution_count": 111,
   "id": "133fe75f",
   "metadata": {},
   "outputs": [
    {
     "name": "stdout",
     "output_type": "stream",
     "text": [
      "0 0 0\n"
     ]
    }
   ],
   "source": [
    "print(len(Address),len(Squre_fit),len(Price))"
   ]
  },
  {
   "cell_type": "code",
   "execution_count": 112,
   "id": "a6a294ac",
   "metadata": {},
   "outputs": [
    {
     "data": {
      "text/html": [
       "<div>\n",
       "<style scoped>\n",
       "    .dataframe tbody tr th:only-of-type {\n",
       "        vertical-align: middle;\n",
       "    }\n",
       "\n",
       "    .dataframe tbody tr th {\n",
       "        vertical-align: top;\n",
       "    }\n",
       "\n",
       "    .dataframe thead th {\n",
       "        text-align: right;\n",
       "    }\n",
       "</style>\n",
       "<table border=\"1\" class=\"dataframe\">\n",
       "  <thead>\n",
       "    <tr style=\"text-align: right;\">\n",
       "      <th></th>\n",
       "      <th>Address</th>\n",
       "      <th>Price</th>\n",
       "      <th>Squr</th>\n",
       "    </tr>\n",
       "  </thead>\n",
       "  <tbody>\n",
       "  </tbody>\n",
       "</table>\n",
       "</div>"
      ],
      "text/plain": [
       "Empty DataFrame\n",
       "Columns: [Address, Price, Squr]\n",
       "Index: []"
      ]
     },
     "execution_count": 112,
     "metadata": {},
     "output_type": "execute_result"
    }
   ],
   "source": [
    "import pandas as pd\n",
    "df=pd.DataFrame({'Address':Address, 'Price':Price, 'Squr':Squre_fit})\n",
    "df"
   ]
  },
  {
   "cell_type": "code",
   "execution_count": 113,
   "id": "44fa821d",
   "metadata": {},
   "outputs": [
    {
     "ename": "NoSuchElementException",
     "evalue": "Message: no such element: Unable to locate element: {\"method\":\"xpath\",\"selector\":\"/html/body/div/div/div/section/div[1]/div[4]/div[1]/div[3]/nav/ul/li[7]/a\"}\n  (Session info: chrome=122.0.6261.69); For documentation on this error, please visit: https://www.selenium.dev/documentation/webdriver/troubleshooting/errors#no-such-element-exception\nStacktrace:\n\tGetHandleVerifier [0x00007FF7E2094C82+3505170]\n\t(No symbol) [0x00007FF7E1CC0852]\n\t(No symbol) [0x00007FF7E1B74145]\n\t(No symbol) [0x00007FF7E1BB9ADD]\n\t(No symbol) [0x00007FF7E1BB9C1C]\n\t(No symbol) [0x00007FF7E1BFAB27]\n\t(No symbol) [0x00007FF7E1BDBECF]\n\t(No symbol) [0x00007FF7E1BF83B2]\n\t(No symbol) [0x00007FF7E1BDBC33]\n\t(No symbol) [0x00007FF7E1BAD618]\n\t(No symbol) [0x00007FF7E1BAE6B1]\n\tGetHandleVerifier [0x00007FF7E20C67DD+3708781]\n\tGetHandleVerifier [0x00007FF7E211FC5D+4074477]\n\tGetHandleVerifier [0x00007FF7E2117DDF+4042095]\n\tGetHandleVerifier [0x00007FF7E1DEA136+708806]\n\t(No symbol) [0x00007FF7E1CCCB0F]\n\t(No symbol) [0x00007FF7E1CC7D14]\n\t(No symbol) [0x00007FF7E1CC7E6C]\n\t(No symbol) [0x00007FF7E1CB79A4]\n\tBaseThreadInitThunk [0x00007FFC747B257D+29]\n\tRtlUserThreadStart [0x00007FFC75D2AA58+40]\n",
     "output_type": "error",
     "traceback": [
      "\u001b[1;31m---------------------------------------------------------------------------\u001b[0m",
      "\u001b[1;31mNoSuchElementException\u001b[0m                    Traceback (most recent call last)",
      "\u001b[1;32m~\\AppData\\Local\\Temp\\ipykernel_7720\\1056462163.py\u001b[0m in \u001b[0;36m<module>\u001b[1;34m\u001b[0m\n\u001b[0;32m      1\u001b[0m \u001b[1;31m#page 76\u001b[0m\u001b[1;33m\u001b[0m\u001b[1;33m\u001b[0m\u001b[0m\n\u001b[1;32m----> 2\u001b[1;33m \u001b[0mNext_button\u001b[0m\u001b[1;33m=\u001b[0m\u001b[0mdriver\u001b[0m\u001b[1;33m.\u001b[0m\u001b[0mfind_element\u001b[0m\u001b[1;33m(\u001b[0m\u001b[0mBy\u001b[0m\u001b[1;33m.\u001b[0m\u001b[0mXPATH\u001b[0m\u001b[1;33m,\u001b[0m\u001b[1;34m\"/html/body/div/div/div/section/div[1]/div[4]/div[1]/div[3]/nav/ul/li[7]/a\"\u001b[0m\u001b[1;33m)\u001b[0m\u001b[1;33m\u001b[0m\u001b[1;33m\u001b[0m\u001b[0m\n\u001b[0m\u001b[0;32m      3\u001b[0m \u001b[0mNext_button\u001b[0m\u001b[1;33m.\u001b[0m\u001b[0mclick\u001b[0m\u001b[1;33m(\u001b[0m\u001b[1;33m)\u001b[0m\u001b[1;33m\u001b[0m\u001b[1;33m\u001b[0m\u001b[0m\n",
      "\u001b[1;32m~\\anaconda3\\lib\\site-packages\\selenium\\webdriver\\remote\\webdriver.py\u001b[0m in \u001b[0;36mfind_element\u001b[1;34m(self, by, value)\u001b[0m\n\u001b[0;32m    736\u001b[0m             \u001b[0mvalue\u001b[0m \u001b[1;33m=\u001b[0m \u001b[1;34mf'[name=\"{value}\"]'\u001b[0m\u001b[1;33m\u001b[0m\u001b[1;33m\u001b[0m\u001b[0m\n\u001b[0;32m    737\u001b[0m \u001b[1;33m\u001b[0m\u001b[0m\n\u001b[1;32m--> 738\u001b[1;33m         \u001b[1;32mreturn\u001b[0m \u001b[0mself\u001b[0m\u001b[1;33m.\u001b[0m\u001b[0mexecute\u001b[0m\u001b[1;33m(\u001b[0m\u001b[0mCommand\u001b[0m\u001b[1;33m.\u001b[0m\u001b[0mFIND_ELEMENT\u001b[0m\u001b[1;33m,\u001b[0m \u001b[1;33m{\u001b[0m\u001b[1;34m\"using\"\u001b[0m\u001b[1;33m:\u001b[0m \u001b[0mby\u001b[0m\u001b[1;33m,\u001b[0m \u001b[1;34m\"value\"\u001b[0m\u001b[1;33m:\u001b[0m \u001b[0mvalue\u001b[0m\u001b[1;33m}\u001b[0m\u001b[1;33m)\u001b[0m\u001b[1;33m[\u001b[0m\u001b[1;34m\"value\"\u001b[0m\u001b[1;33m]\u001b[0m\u001b[1;33m\u001b[0m\u001b[1;33m\u001b[0m\u001b[0m\n\u001b[0m\u001b[0;32m    739\u001b[0m \u001b[1;33m\u001b[0m\u001b[0m\n\u001b[0;32m    740\u001b[0m     \u001b[1;32mdef\u001b[0m \u001b[0mfind_elements\u001b[0m\u001b[1;33m(\u001b[0m\u001b[0mself\u001b[0m\u001b[1;33m,\u001b[0m \u001b[0mby\u001b[0m\u001b[1;33m=\u001b[0m\u001b[0mBy\u001b[0m\u001b[1;33m.\u001b[0m\u001b[0mID\u001b[0m\u001b[1;33m,\u001b[0m \u001b[0mvalue\u001b[0m\u001b[1;33m:\u001b[0m \u001b[0mOptional\u001b[0m\u001b[1;33m[\u001b[0m\u001b[0mstr\u001b[0m\u001b[1;33m]\u001b[0m \u001b[1;33m=\u001b[0m \u001b[1;32mNone\u001b[0m\u001b[1;33m)\u001b[0m \u001b[1;33m->\u001b[0m \u001b[0mList\u001b[0m\u001b[1;33m[\u001b[0m\u001b[0mWebElement\u001b[0m\u001b[1;33m]\u001b[0m\u001b[1;33m:\u001b[0m\u001b[1;33m\u001b[0m\u001b[1;33m\u001b[0m\u001b[0m\n",
      "\u001b[1;32m~\\anaconda3\\lib\\site-packages\\selenium\\webdriver\\remote\\webdriver.py\u001b[0m in \u001b[0;36mexecute\u001b[1;34m(self, driver_command, params)\u001b[0m\n\u001b[0;32m    342\u001b[0m         \u001b[0mresponse\u001b[0m \u001b[1;33m=\u001b[0m \u001b[0mself\u001b[0m\u001b[1;33m.\u001b[0m\u001b[0mcommand_executor\u001b[0m\u001b[1;33m.\u001b[0m\u001b[0mexecute\u001b[0m\u001b[1;33m(\u001b[0m\u001b[0mdriver_command\u001b[0m\u001b[1;33m,\u001b[0m \u001b[0mparams\u001b[0m\u001b[1;33m)\u001b[0m\u001b[1;33m\u001b[0m\u001b[1;33m\u001b[0m\u001b[0m\n\u001b[0;32m    343\u001b[0m         \u001b[1;32mif\u001b[0m \u001b[0mresponse\u001b[0m\u001b[1;33m:\u001b[0m\u001b[1;33m\u001b[0m\u001b[1;33m\u001b[0m\u001b[0m\n\u001b[1;32m--> 344\u001b[1;33m             \u001b[0mself\u001b[0m\u001b[1;33m.\u001b[0m\u001b[0merror_handler\u001b[0m\u001b[1;33m.\u001b[0m\u001b[0mcheck_response\u001b[0m\u001b[1;33m(\u001b[0m\u001b[0mresponse\u001b[0m\u001b[1;33m)\u001b[0m\u001b[1;33m\u001b[0m\u001b[1;33m\u001b[0m\u001b[0m\n\u001b[0m\u001b[0;32m    345\u001b[0m             \u001b[0mresponse\u001b[0m\u001b[1;33m[\u001b[0m\u001b[1;34m\"value\"\u001b[0m\u001b[1;33m]\u001b[0m \u001b[1;33m=\u001b[0m \u001b[0mself\u001b[0m\u001b[1;33m.\u001b[0m\u001b[0m_unwrap_value\u001b[0m\u001b[1;33m(\u001b[0m\u001b[0mresponse\u001b[0m\u001b[1;33m.\u001b[0m\u001b[0mget\u001b[0m\u001b[1;33m(\u001b[0m\u001b[1;34m\"value\"\u001b[0m\u001b[1;33m,\u001b[0m \u001b[1;32mNone\u001b[0m\u001b[1;33m)\u001b[0m\u001b[1;33m)\u001b[0m\u001b[1;33m\u001b[0m\u001b[1;33m\u001b[0m\u001b[0m\n\u001b[0;32m    346\u001b[0m             \u001b[1;32mreturn\u001b[0m \u001b[0mresponse\u001b[0m\u001b[1;33m\u001b[0m\u001b[1;33m\u001b[0m\u001b[0m\n",
      "\u001b[1;32m~\\anaconda3\\lib\\site-packages\\selenium\\webdriver\\remote\\errorhandler.py\u001b[0m in \u001b[0;36mcheck_response\u001b[1;34m(self, response)\u001b[0m\n\u001b[0;32m    227\u001b[0m                 \u001b[0malert_text\u001b[0m \u001b[1;33m=\u001b[0m \u001b[0mvalue\u001b[0m\u001b[1;33m[\u001b[0m\u001b[1;34m\"alert\"\u001b[0m\u001b[1;33m]\u001b[0m\u001b[1;33m.\u001b[0m\u001b[0mget\u001b[0m\u001b[1;33m(\u001b[0m\u001b[1;34m\"text\"\u001b[0m\u001b[1;33m)\u001b[0m\u001b[1;33m\u001b[0m\u001b[1;33m\u001b[0m\u001b[0m\n\u001b[0;32m    228\u001b[0m             \u001b[1;32mraise\u001b[0m \u001b[0mexception_class\u001b[0m\u001b[1;33m(\u001b[0m\u001b[0mmessage\u001b[0m\u001b[1;33m,\u001b[0m \u001b[0mscreen\u001b[0m\u001b[1;33m,\u001b[0m \u001b[0mstacktrace\u001b[0m\u001b[1;33m,\u001b[0m \u001b[0malert_text\u001b[0m\u001b[1;33m)\u001b[0m  \u001b[1;31m# type: ignore[call-arg]  # mypy is not smart enough here\u001b[0m\u001b[1;33m\u001b[0m\u001b[1;33m\u001b[0m\u001b[0m\n\u001b[1;32m--> 229\u001b[1;33m         \u001b[1;32mraise\u001b[0m \u001b[0mexception_class\u001b[0m\u001b[1;33m(\u001b[0m\u001b[0mmessage\u001b[0m\u001b[1;33m,\u001b[0m \u001b[0mscreen\u001b[0m\u001b[1;33m,\u001b[0m \u001b[0mstacktrace\u001b[0m\u001b[1;33m)\u001b[0m\u001b[1;33m\u001b[0m\u001b[1;33m\u001b[0m\u001b[0m\n\u001b[0m",
      "\u001b[1;31mNoSuchElementException\u001b[0m: Message: no such element: Unable to locate element: {\"method\":\"xpath\",\"selector\":\"/html/body/div/div/div/section/div[1]/div[4]/div[1]/div[3]/nav/ul/li[7]/a\"}\n  (Session info: chrome=122.0.6261.69); For documentation on this error, please visit: https://www.selenium.dev/documentation/webdriver/troubleshooting/errors#no-such-element-exception\nStacktrace:\n\tGetHandleVerifier [0x00007FF7E2094C82+3505170]\n\t(No symbol) [0x00007FF7E1CC0852]\n\t(No symbol) [0x00007FF7E1B74145]\n\t(No symbol) [0x00007FF7E1BB9ADD]\n\t(No symbol) [0x00007FF7E1BB9C1C]\n\t(No symbol) [0x00007FF7E1BFAB27]\n\t(No symbol) [0x00007FF7E1BDBECF]\n\t(No symbol) [0x00007FF7E1BF83B2]\n\t(No symbol) [0x00007FF7E1BDBC33]\n\t(No symbol) [0x00007FF7E1BAD618]\n\t(No symbol) [0x00007FF7E1BAE6B1]\n\tGetHandleVerifier [0x00007FF7E20C67DD+3708781]\n\tGetHandleVerifier [0x00007FF7E211FC5D+4074477]\n\tGetHandleVerifier [0x00007FF7E2117DDF+4042095]\n\tGetHandleVerifier [0x00007FF7E1DEA136+708806]\n\t(No symbol) [0x00007FF7E1CCCB0F]\n\t(No symbol) [0x00007FF7E1CC7D14]\n\t(No symbol) [0x00007FF7E1CC7E6C]\n\t(No symbol) [0x00007FF7E1CB79A4]\n\tBaseThreadInitThunk [0x00007FFC747B257D+29]\n\tRtlUserThreadStart [0x00007FFC75D2AA58+40]\n"
     ]
    }
   ],
   "source": [
    "#page 76\n",
    "Next_button=driver.find_element(By.XPATH,\"/html/body/div/div/div/section/div[1]/div[4]/div[1]/div[3]/nav/ul/li[7]/a\")\n",
    "Next_button.click()"
   ]
  },
  {
   "cell_type": "code",
   "execution_count": null,
   "id": "e4eb0bce",
   "metadata": {},
   "outputs": [],
   "source": [
    "Address=[]\n",
    "Price=[]\n",
    "Squre_fit=[]"
   ]
  },
  {
   "cell_type": "code",
   "execution_count": null,
   "id": "7393b77e",
   "metadata": {},
   "outputs": [],
   "source": [
    "Area_Address=driver.find_elements(By.XPATH,'//div[@class=\"addr-component\"]')\n",
    "for i in Area_Address[0:20]:\n",
    "    add=i.text\n",
    "    Address.append(add) \n",
    "    \n",
    "House_Price=driver.find_elements(By.XPATH,'//div[@class=\"h4 text-primary mb-0\"]')\n",
    "for i in House_Price[0:20]:\n",
    "    price=i.text\n",
    "    Price.append(price)\n",
    "    \n",
    "Squre=driver.find_elements(By.XPATH,'//div[@class=\"text-muted\"]')\n",
    "for i in Squre[0:20]:\n",
    "    squre=i.text\n",
    "    Squre_fit.append(squre)"
   ]
  },
  {
   "cell_type": "code",
   "execution_count": null,
   "id": "1a4ce43d",
   "metadata": {},
   "outputs": [],
   "source": [
    "print(len(Address),len(Squre_fit),len(Price))"
   ]
  },
  {
   "cell_type": "code",
   "execution_count": null,
   "id": "f546820d",
   "metadata": {},
   "outputs": [],
   "source": [
    "import pandas as pd\n",
    "df=pd.DataFrame({'Address':Address, 'Price':Price, 'Squr':Squre_fit})\n",
    "df"
   ]
  },
  {
   "cell_type": "code",
   "execution_count": null,
   "id": "5b12086d",
   "metadata": {},
   "outputs": [],
   "source": []
  },
  {
   "cell_type": "code",
   "execution_count": null,
   "id": "a5c658ab",
   "metadata": {},
   "outputs": [],
   "source": [
    "#page 77\n",
    "Next_button=driver.find_element(By.XPATH,\"/html/body/div/div/div/section/div[1]/div[4]/div[1]/div[3]/nav/ul/li[7]/a\")\n",
    "Next_button.click()"
   ]
  },
  {
   "cell_type": "code",
   "execution_count": null,
   "id": "1578591a",
   "metadata": {},
   "outputs": [],
   "source": [
    "Address=[]\n",
    "Price=[]\n",
    "Squre_fit=[]"
   ]
  },
  {
   "cell_type": "code",
   "execution_count": null,
   "id": "26c3e5ce",
   "metadata": {},
   "outputs": [],
   "source": [
    "Area_Address=driver.find_elements(By.XPATH,'//div[@class=\"addr-component\"]')\n",
    "for i in Area_Address[0:20]:\n",
    "    add=i.text\n",
    "    Address.append(add) \n",
    "    \n",
    "House_Price=driver.find_elements(By.XPATH,'//div[@class=\"h4 text-primary mb-0\"]')\n",
    "for i in House_Price[0:20]:\n",
    "    price=i.text\n",
    "    Price.append(price)\n",
    "    \n",
    "Squre=driver.find_elements(By.XPATH,'//div[@class=\"text-muted\"]')\n",
    "for i in Squre[0:20]:\n",
    "    squre=i.text\n",
    "    Squre_fit.append(squre)"
   ]
  },
  {
   "cell_type": "code",
   "execution_count": null,
   "id": "f8bcfa8a",
   "metadata": {},
   "outputs": [],
   "source": [
    "print(len(Address),len(Squre_fit),len(Price))"
   ]
  },
  {
   "cell_type": "code",
   "execution_count": null,
   "id": "84ceb27c",
   "metadata": {},
   "outputs": [],
   "source": [
    "import pandas as pd\n",
    "df=pd.DataFrame({'Address':Address, 'Price':Price, 'Squr':Squre_fit})\n",
    "df"
   ]
  },
  {
   "cell_type": "code",
   "execution_count": null,
   "id": "83c30f1a",
   "metadata": {},
   "outputs": [],
   "source": [
    "#page 78\n",
    "Next_button=driver.find_element(By.XPATH,\"/html/body/div/div/div/section/div[1]/div[4]/div[1]/div[3]/nav/ul/li[7]/a\")\n",
    "Next_button.click()"
   ]
  },
  {
   "cell_type": "code",
   "execution_count": null,
   "id": "d75e396a",
   "metadata": {},
   "outputs": [],
   "source": [
    "Address=[]\n",
    "Price=[]\n",
    "Squre_fit=[]"
   ]
  },
  {
   "cell_type": "code",
   "execution_count": null,
   "id": "be15351e",
   "metadata": {},
   "outputs": [],
   "source": [
    "Area_Address=driver.find_elements(By.XPATH,'//div[@class=\"addr-component\"]')\n",
    "for i in Area_Address[0:20]:\n",
    "    add=i.text\n",
    "    Address.append(add) \n",
    "    \n",
    "House_Price=driver.find_elements(By.XPATH,'//div[@class=\"h4 text-primary mb-0\"]')\n",
    "for i in House_Price[0:20]:\n",
    "    price=i.text\n",
    "    Price.append(price)\n",
    "    \n",
    "Squre=driver.find_elements(By.XPATH,'//div[@class=\"text-muted\"]')\n",
    "for i in Squre[0:20]:\n",
    "    squre=i.text\n",
    "    Squre_fit.append(squre)"
   ]
  },
  {
   "cell_type": "code",
   "execution_count": 114,
   "id": "420ed0bf",
   "metadata": {},
   "outputs": [
    {
     "name": "stdout",
     "output_type": "stream",
     "text": [
      "0 0 0\n"
     ]
    }
   ],
   "source": [
    "print(len(Address),len(Squre_fit),len(Price))"
   ]
  },
  {
   "cell_type": "code",
   "execution_count": 115,
   "id": "90473610",
   "metadata": {},
   "outputs": [
    {
     "data": {
      "text/html": [
       "<div>\n",
       "<style scoped>\n",
       "    .dataframe tbody tr th:only-of-type {\n",
       "        vertical-align: middle;\n",
       "    }\n",
       "\n",
       "    .dataframe tbody tr th {\n",
       "        vertical-align: top;\n",
       "    }\n",
       "\n",
       "    .dataframe thead th {\n",
       "        text-align: right;\n",
       "    }\n",
       "</style>\n",
       "<table border=\"1\" class=\"dataframe\">\n",
       "  <thead>\n",
       "    <tr style=\"text-align: right;\">\n",
       "      <th></th>\n",
       "      <th>Address</th>\n",
       "      <th>Price</th>\n",
       "      <th>Squr</th>\n",
       "    </tr>\n",
       "  </thead>\n",
       "  <tbody>\n",
       "  </tbody>\n",
       "</table>\n",
       "</div>"
      ],
      "text/plain": [
       "Empty DataFrame\n",
       "Columns: [Address, Price, Squr]\n",
       "Index: []"
      ]
     },
     "execution_count": 115,
     "metadata": {},
     "output_type": "execute_result"
    }
   ],
   "source": [
    "import pandas as pd\n",
    "df=pd.DataFrame({'Address':Address, 'Price':Price, 'Squr':Squre_fit})\n",
    "df"
   ]
  },
  {
   "cell_type": "code",
   "execution_count": 116,
   "id": "650c451a",
   "metadata": {},
   "outputs": [
    {
     "ename": "NoSuchElementException",
     "evalue": "Message: no such element: Unable to locate element: {\"method\":\"xpath\",\"selector\":\"/html/body/div/div/div/section/div[1]/div[4]/div[1]/div[3]/nav/ul/li[7]/a\"}\n  (Session info: chrome=122.0.6261.69); For documentation on this error, please visit: https://www.selenium.dev/documentation/webdriver/troubleshooting/errors#no-such-element-exception\nStacktrace:\n\tGetHandleVerifier [0x00007FF7E2094C82+3505170]\n\t(No symbol) [0x00007FF7E1CC0852]\n\t(No symbol) [0x00007FF7E1B74145]\n\t(No symbol) [0x00007FF7E1BB9ADD]\n\t(No symbol) [0x00007FF7E1BB9C1C]\n\t(No symbol) [0x00007FF7E1BFAB27]\n\t(No symbol) [0x00007FF7E1BDBECF]\n\t(No symbol) [0x00007FF7E1BF83B2]\n\t(No symbol) [0x00007FF7E1BDBC33]\n\t(No symbol) [0x00007FF7E1BAD618]\n\t(No symbol) [0x00007FF7E1BAE6B1]\n\tGetHandleVerifier [0x00007FF7E20C67DD+3708781]\n\tGetHandleVerifier [0x00007FF7E211FC5D+4074477]\n\tGetHandleVerifier [0x00007FF7E2117DDF+4042095]\n\tGetHandleVerifier [0x00007FF7E1DEA136+708806]\n\t(No symbol) [0x00007FF7E1CCCB0F]\n\t(No symbol) [0x00007FF7E1CC7D14]\n\t(No symbol) [0x00007FF7E1CC7E6C]\n\t(No symbol) [0x00007FF7E1CB79A4]\n\tBaseThreadInitThunk [0x00007FFC747B257D+29]\n\tRtlUserThreadStart [0x00007FFC75D2AA58+40]\n",
     "output_type": "error",
     "traceback": [
      "\u001b[1;31m---------------------------------------------------------------------------\u001b[0m",
      "\u001b[1;31mNoSuchElementException\u001b[0m                    Traceback (most recent call last)",
      "\u001b[1;32m~\\AppData\\Local\\Temp\\ipykernel_7720\\2775373798.py\u001b[0m in \u001b[0;36m<module>\u001b[1;34m\u001b[0m\n\u001b[0;32m      1\u001b[0m \u001b[1;31m#page 79\u001b[0m\u001b[1;33m\u001b[0m\u001b[1;33m\u001b[0m\u001b[0m\n\u001b[1;32m----> 2\u001b[1;33m \u001b[0mNext_button\u001b[0m\u001b[1;33m=\u001b[0m\u001b[0mdriver\u001b[0m\u001b[1;33m.\u001b[0m\u001b[0mfind_element\u001b[0m\u001b[1;33m(\u001b[0m\u001b[0mBy\u001b[0m\u001b[1;33m.\u001b[0m\u001b[0mXPATH\u001b[0m\u001b[1;33m,\u001b[0m\u001b[1;34m\"/html/body/div/div/div/section/div[1]/div[4]/div[1]/div[3]/nav/ul/li[7]/a\"\u001b[0m\u001b[1;33m)\u001b[0m\u001b[1;33m\u001b[0m\u001b[1;33m\u001b[0m\u001b[0m\n\u001b[0m\u001b[0;32m      3\u001b[0m \u001b[0mNext_button\u001b[0m\u001b[1;33m.\u001b[0m\u001b[0mclick\u001b[0m\u001b[1;33m(\u001b[0m\u001b[1;33m)\u001b[0m\u001b[1;33m\u001b[0m\u001b[1;33m\u001b[0m\u001b[0m\n",
      "\u001b[1;32m~\\anaconda3\\lib\\site-packages\\selenium\\webdriver\\remote\\webdriver.py\u001b[0m in \u001b[0;36mfind_element\u001b[1;34m(self, by, value)\u001b[0m\n\u001b[0;32m    736\u001b[0m             \u001b[0mvalue\u001b[0m \u001b[1;33m=\u001b[0m \u001b[1;34mf'[name=\"{value}\"]'\u001b[0m\u001b[1;33m\u001b[0m\u001b[1;33m\u001b[0m\u001b[0m\n\u001b[0;32m    737\u001b[0m \u001b[1;33m\u001b[0m\u001b[0m\n\u001b[1;32m--> 738\u001b[1;33m         \u001b[1;32mreturn\u001b[0m \u001b[0mself\u001b[0m\u001b[1;33m.\u001b[0m\u001b[0mexecute\u001b[0m\u001b[1;33m(\u001b[0m\u001b[0mCommand\u001b[0m\u001b[1;33m.\u001b[0m\u001b[0mFIND_ELEMENT\u001b[0m\u001b[1;33m,\u001b[0m \u001b[1;33m{\u001b[0m\u001b[1;34m\"using\"\u001b[0m\u001b[1;33m:\u001b[0m \u001b[0mby\u001b[0m\u001b[1;33m,\u001b[0m \u001b[1;34m\"value\"\u001b[0m\u001b[1;33m:\u001b[0m \u001b[0mvalue\u001b[0m\u001b[1;33m}\u001b[0m\u001b[1;33m)\u001b[0m\u001b[1;33m[\u001b[0m\u001b[1;34m\"value\"\u001b[0m\u001b[1;33m]\u001b[0m\u001b[1;33m\u001b[0m\u001b[1;33m\u001b[0m\u001b[0m\n\u001b[0m\u001b[0;32m    739\u001b[0m \u001b[1;33m\u001b[0m\u001b[0m\n\u001b[0;32m    740\u001b[0m     \u001b[1;32mdef\u001b[0m \u001b[0mfind_elements\u001b[0m\u001b[1;33m(\u001b[0m\u001b[0mself\u001b[0m\u001b[1;33m,\u001b[0m \u001b[0mby\u001b[0m\u001b[1;33m=\u001b[0m\u001b[0mBy\u001b[0m\u001b[1;33m.\u001b[0m\u001b[0mID\u001b[0m\u001b[1;33m,\u001b[0m \u001b[0mvalue\u001b[0m\u001b[1;33m:\u001b[0m \u001b[0mOptional\u001b[0m\u001b[1;33m[\u001b[0m\u001b[0mstr\u001b[0m\u001b[1;33m]\u001b[0m \u001b[1;33m=\u001b[0m \u001b[1;32mNone\u001b[0m\u001b[1;33m)\u001b[0m \u001b[1;33m->\u001b[0m \u001b[0mList\u001b[0m\u001b[1;33m[\u001b[0m\u001b[0mWebElement\u001b[0m\u001b[1;33m]\u001b[0m\u001b[1;33m:\u001b[0m\u001b[1;33m\u001b[0m\u001b[1;33m\u001b[0m\u001b[0m\n",
      "\u001b[1;32m~\\anaconda3\\lib\\site-packages\\selenium\\webdriver\\remote\\webdriver.py\u001b[0m in \u001b[0;36mexecute\u001b[1;34m(self, driver_command, params)\u001b[0m\n\u001b[0;32m    342\u001b[0m         \u001b[0mresponse\u001b[0m \u001b[1;33m=\u001b[0m \u001b[0mself\u001b[0m\u001b[1;33m.\u001b[0m\u001b[0mcommand_executor\u001b[0m\u001b[1;33m.\u001b[0m\u001b[0mexecute\u001b[0m\u001b[1;33m(\u001b[0m\u001b[0mdriver_command\u001b[0m\u001b[1;33m,\u001b[0m \u001b[0mparams\u001b[0m\u001b[1;33m)\u001b[0m\u001b[1;33m\u001b[0m\u001b[1;33m\u001b[0m\u001b[0m\n\u001b[0;32m    343\u001b[0m         \u001b[1;32mif\u001b[0m \u001b[0mresponse\u001b[0m\u001b[1;33m:\u001b[0m\u001b[1;33m\u001b[0m\u001b[1;33m\u001b[0m\u001b[0m\n\u001b[1;32m--> 344\u001b[1;33m             \u001b[0mself\u001b[0m\u001b[1;33m.\u001b[0m\u001b[0merror_handler\u001b[0m\u001b[1;33m.\u001b[0m\u001b[0mcheck_response\u001b[0m\u001b[1;33m(\u001b[0m\u001b[0mresponse\u001b[0m\u001b[1;33m)\u001b[0m\u001b[1;33m\u001b[0m\u001b[1;33m\u001b[0m\u001b[0m\n\u001b[0m\u001b[0;32m    345\u001b[0m             \u001b[0mresponse\u001b[0m\u001b[1;33m[\u001b[0m\u001b[1;34m\"value\"\u001b[0m\u001b[1;33m]\u001b[0m \u001b[1;33m=\u001b[0m \u001b[0mself\u001b[0m\u001b[1;33m.\u001b[0m\u001b[0m_unwrap_value\u001b[0m\u001b[1;33m(\u001b[0m\u001b[0mresponse\u001b[0m\u001b[1;33m.\u001b[0m\u001b[0mget\u001b[0m\u001b[1;33m(\u001b[0m\u001b[1;34m\"value\"\u001b[0m\u001b[1;33m,\u001b[0m \u001b[1;32mNone\u001b[0m\u001b[1;33m)\u001b[0m\u001b[1;33m)\u001b[0m\u001b[1;33m\u001b[0m\u001b[1;33m\u001b[0m\u001b[0m\n\u001b[0;32m    346\u001b[0m             \u001b[1;32mreturn\u001b[0m \u001b[0mresponse\u001b[0m\u001b[1;33m\u001b[0m\u001b[1;33m\u001b[0m\u001b[0m\n",
      "\u001b[1;32m~\\anaconda3\\lib\\site-packages\\selenium\\webdriver\\remote\\errorhandler.py\u001b[0m in \u001b[0;36mcheck_response\u001b[1;34m(self, response)\u001b[0m\n\u001b[0;32m    227\u001b[0m                 \u001b[0malert_text\u001b[0m \u001b[1;33m=\u001b[0m \u001b[0mvalue\u001b[0m\u001b[1;33m[\u001b[0m\u001b[1;34m\"alert\"\u001b[0m\u001b[1;33m]\u001b[0m\u001b[1;33m.\u001b[0m\u001b[0mget\u001b[0m\u001b[1;33m(\u001b[0m\u001b[1;34m\"text\"\u001b[0m\u001b[1;33m)\u001b[0m\u001b[1;33m\u001b[0m\u001b[1;33m\u001b[0m\u001b[0m\n\u001b[0;32m    228\u001b[0m             \u001b[1;32mraise\u001b[0m \u001b[0mexception_class\u001b[0m\u001b[1;33m(\u001b[0m\u001b[0mmessage\u001b[0m\u001b[1;33m,\u001b[0m \u001b[0mscreen\u001b[0m\u001b[1;33m,\u001b[0m \u001b[0mstacktrace\u001b[0m\u001b[1;33m,\u001b[0m \u001b[0malert_text\u001b[0m\u001b[1;33m)\u001b[0m  \u001b[1;31m# type: ignore[call-arg]  # mypy is not smart enough here\u001b[0m\u001b[1;33m\u001b[0m\u001b[1;33m\u001b[0m\u001b[0m\n\u001b[1;32m--> 229\u001b[1;33m         \u001b[1;32mraise\u001b[0m \u001b[0mexception_class\u001b[0m\u001b[1;33m(\u001b[0m\u001b[0mmessage\u001b[0m\u001b[1;33m,\u001b[0m \u001b[0mscreen\u001b[0m\u001b[1;33m,\u001b[0m \u001b[0mstacktrace\u001b[0m\u001b[1;33m)\u001b[0m\u001b[1;33m\u001b[0m\u001b[1;33m\u001b[0m\u001b[0m\n\u001b[0m",
      "\u001b[1;31mNoSuchElementException\u001b[0m: Message: no such element: Unable to locate element: {\"method\":\"xpath\",\"selector\":\"/html/body/div/div/div/section/div[1]/div[4]/div[1]/div[3]/nav/ul/li[7]/a\"}\n  (Session info: chrome=122.0.6261.69); For documentation on this error, please visit: https://www.selenium.dev/documentation/webdriver/troubleshooting/errors#no-such-element-exception\nStacktrace:\n\tGetHandleVerifier [0x00007FF7E2094C82+3505170]\n\t(No symbol) [0x00007FF7E1CC0852]\n\t(No symbol) [0x00007FF7E1B74145]\n\t(No symbol) [0x00007FF7E1BB9ADD]\n\t(No symbol) [0x00007FF7E1BB9C1C]\n\t(No symbol) [0x00007FF7E1BFAB27]\n\t(No symbol) [0x00007FF7E1BDBECF]\n\t(No symbol) [0x00007FF7E1BF83B2]\n\t(No symbol) [0x00007FF7E1BDBC33]\n\t(No symbol) [0x00007FF7E1BAD618]\n\t(No symbol) [0x00007FF7E1BAE6B1]\n\tGetHandleVerifier [0x00007FF7E20C67DD+3708781]\n\tGetHandleVerifier [0x00007FF7E211FC5D+4074477]\n\tGetHandleVerifier [0x00007FF7E2117DDF+4042095]\n\tGetHandleVerifier [0x00007FF7E1DEA136+708806]\n\t(No symbol) [0x00007FF7E1CCCB0F]\n\t(No symbol) [0x00007FF7E1CC7D14]\n\t(No symbol) [0x00007FF7E1CC7E6C]\n\t(No symbol) [0x00007FF7E1CB79A4]\n\tBaseThreadInitThunk [0x00007FFC747B257D+29]\n\tRtlUserThreadStart [0x00007FFC75D2AA58+40]\n"
     ]
    }
   ],
   "source": [
    "#page 79\n",
    "Next_button=driver.find_element(By.XPATH,\"/html/body/div/div/div/section/div[1]/div[4]/div[1]/div[3]/nav/ul/li[7]/a\")\n",
    "Next_button.click()"
   ]
  },
  {
   "cell_type": "code",
   "execution_count": null,
   "id": "8abffbb7",
   "metadata": {},
   "outputs": [],
   "source": [
    "Address=[]\n",
    "Price=[]\n",
    "Squre_fit=[]"
   ]
  },
  {
   "cell_type": "code",
   "execution_count": null,
   "id": "799ec29d",
   "metadata": {},
   "outputs": [],
   "source": [
    "Area_Address=driver.find_elements(By.XPATH,'//div[@class=\"addr-component\"]')\n",
    "for i in Area_Address[0:20]:\n",
    "    add=i.text\n",
    "    Address.append(add) \n",
    "    \n",
    "House_Price=driver.find_elements(By.XPATH,'//div[@class=\"h4 text-primary mb-0\"]')\n",
    "for i in House_Price[0:20]:\n",
    "    price=i.text\n",
    "    Price.append(price)\n",
    "    \n",
    "Squre=driver.find_elements(By.XPATH,'//div[@class=\"text-muted\"]')\n",
    "for i in Squre[0:20]:\n",
    "    squre=i.text\n",
    "    Squre_fit.append(squre)"
   ]
  },
  {
   "cell_type": "code",
   "execution_count": null,
   "id": "91fb245c",
   "metadata": {},
   "outputs": [],
   "source": [
    "print(len(Address),len(Squre_fit),len(Price))"
   ]
  },
  {
   "cell_type": "code",
   "execution_count": null,
   "id": "41622413",
   "metadata": {},
   "outputs": [],
   "source": [
    "import pandas as pd\n",
    "df=pd.DataFrame({'Address':Address, 'Price':Price, 'Squr':Squre_fit})\n",
    "df"
   ]
  },
  {
   "cell_type": "code",
   "execution_count": 117,
   "id": "6d0432bb",
   "metadata": {},
   "outputs": [
    {
     "ename": "NoSuchElementException",
     "evalue": "Message: no such element: Unable to locate element: {\"method\":\"xpath\",\"selector\":\"/html/body/div/div/div/section/div[1]/div[4]/div[1]/div[3]/nav/ul/li[7]/a\"}\n  (Session info: chrome=122.0.6261.69); For documentation on this error, please visit: https://www.selenium.dev/documentation/webdriver/troubleshooting/errors#no-such-element-exception\nStacktrace:\n\tGetHandleVerifier [0x00007FF7E2094C82+3505170]\n\t(No symbol) [0x00007FF7E1CC0852]\n\t(No symbol) [0x00007FF7E1B74145]\n\t(No symbol) [0x00007FF7E1BB9ADD]\n\t(No symbol) [0x00007FF7E1BB9C1C]\n\t(No symbol) [0x00007FF7E1BFAB27]\n\t(No symbol) [0x00007FF7E1BDBECF]\n\t(No symbol) [0x00007FF7E1BF83B2]\n\t(No symbol) [0x00007FF7E1BDBC33]\n\t(No symbol) [0x00007FF7E1BAD618]\n\t(No symbol) [0x00007FF7E1BAE6B1]\n\tGetHandleVerifier [0x00007FF7E20C67DD+3708781]\n\tGetHandleVerifier [0x00007FF7E211FC5D+4074477]\n\tGetHandleVerifier [0x00007FF7E2117DDF+4042095]\n\tGetHandleVerifier [0x00007FF7E1DEA136+708806]\n\t(No symbol) [0x00007FF7E1CCCB0F]\n\t(No symbol) [0x00007FF7E1CC7D14]\n\t(No symbol) [0x00007FF7E1CC7E6C]\n\t(No symbol) [0x00007FF7E1CB79A4]\n\tBaseThreadInitThunk [0x00007FFC747B257D+29]\n\tRtlUserThreadStart [0x00007FFC75D2AA58+40]\n",
     "output_type": "error",
     "traceback": [
      "\u001b[1;31m---------------------------------------------------------------------------\u001b[0m",
      "\u001b[1;31mNoSuchElementException\u001b[0m                    Traceback (most recent call last)",
      "\u001b[1;32m~\\AppData\\Local\\Temp\\ipykernel_7720\\3272037998.py\u001b[0m in \u001b[0;36m<module>\u001b[1;34m\u001b[0m\n\u001b[0;32m      1\u001b[0m \u001b[1;31m#page 80\u001b[0m\u001b[1;33m\u001b[0m\u001b[1;33m\u001b[0m\u001b[0m\n\u001b[1;32m----> 2\u001b[1;33m \u001b[0mNext_button\u001b[0m\u001b[1;33m=\u001b[0m\u001b[0mdriver\u001b[0m\u001b[1;33m.\u001b[0m\u001b[0mfind_element\u001b[0m\u001b[1;33m(\u001b[0m\u001b[0mBy\u001b[0m\u001b[1;33m.\u001b[0m\u001b[0mXPATH\u001b[0m\u001b[1;33m,\u001b[0m\u001b[1;34m\"/html/body/div/div/div/section/div[1]/div[4]/div[1]/div[3]/nav/ul/li[7]/a\"\u001b[0m\u001b[1;33m)\u001b[0m\u001b[1;33m\u001b[0m\u001b[1;33m\u001b[0m\u001b[0m\n\u001b[0m\u001b[0;32m      3\u001b[0m \u001b[0mNext_button\u001b[0m\u001b[1;33m.\u001b[0m\u001b[0mclick\u001b[0m\u001b[1;33m(\u001b[0m\u001b[1;33m)\u001b[0m\u001b[1;33m\u001b[0m\u001b[1;33m\u001b[0m\u001b[0m\n",
      "\u001b[1;32m~\\anaconda3\\lib\\site-packages\\selenium\\webdriver\\remote\\webdriver.py\u001b[0m in \u001b[0;36mfind_element\u001b[1;34m(self, by, value)\u001b[0m\n\u001b[0;32m    736\u001b[0m             \u001b[0mvalue\u001b[0m \u001b[1;33m=\u001b[0m \u001b[1;34mf'[name=\"{value}\"]'\u001b[0m\u001b[1;33m\u001b[0m\u001b[1;33m\u001b[0m\u001b[0m\n\u001b[0;32m    737\u001b[0m \u001b[1;33m\u001b[0m\u001b[0m\n\u001b[1;32m--> 738\u001b[1;33m         \u001b[1;32mreturn\u001b[0m \u001b[0mself\u001b[0m\u001b[1;33m.\u001b[0m\u001b[0mexecute\u001b[0m\u001b[1;33m(\u001b[0m\u001b[0mCommand\u001b[0m\u001b[1;33m.\u001b[0m\u001b[0mFIND_ELEMENT\u001b[0m\u001b[1;33m,\u001b[0m \u001b[1;33m{\u001b[0m\u001b[1;34m\"using\"\u001b[0m\u001b[1;33m:\u001b[0m \u001b[0mby\u001b[0m\u001b[1;33m,\u001b[0m \u001b[1;34m\"value\"\u001b[0m\u001b[1;33m:\u001b[0m \u001b[0mvalue\u001b[0m\u001b[1;33m}\u001b[0m\u001b[1;33m)\u001b[0m\u001b[1;33m[\u001b[0m\u001b[1;34m\"value\"\u001b[0m\u001b[1;33m]\u001b[0m\u001b[1;33m\u001b[0m\u001b[1;33m\u001b[0m\u001b[0m\n\u001b[0m\u001b[0;32m    739\u001b[0m \u001b[1;33m\u001b[0m\u001b[0m\n\u001b[0;32m    740\u001b[0m     \u001b[1;32mdef\u001b[0m \u001b[0mfind_elements\u001b[0m\u001b[1;33m(\u001b[0m\u001b[0mself\u001b[0m\u001b[1;33m,\u001b[0m \u001b[0mby\u001b[0m\u001b[1;33m=\u001b[0m\u001b[0mBy\u001b[0m\u001b[1;33m.\u001b[0m\u001b[0mID\u001b[0m\u001b[1;33m,\u001b[0m \u001b[0mvalue\u001b[0m\u001b[1;33m:\u001b[0m \u001b[0mOptional\u001b[0m\u001b[1;33m[\u001b[0m\u001b[0mstr\u001b[0m\u001b[1;33m]\u001b[0m \u001b[1;33m=\u001b[0m \u001b[1;32mNone\u001b[0m\u001b[1;33m)\u001b[0m \u001b[1;33m->\u001b[0m \u001b[0mList\u001b[0m\u001b[1;33m[\u001b[0m\u001b[0mWebElement\u001b[0m\u001b[1;33m]\u001b[0m\u001b[1;33m:\u001b[0m\u001b[1;33m\u001b[0m\u001b[1;33m\u001b[0m\u001b[0m\n",
      "\u001b[1;32m~\\anaconda3\\lib\\site-packages\\selenium\\webdriver\\remote\\webdriver.py\u001b[0m in \u001b[0;36mexecute\u001b[1;34m(self, driver_command, params)\u001b[0m\n\u001b[0;32m    342\u001b[0m         \u001b[0mresponse\u001b[0m \u001b[1;33m=\u001b[0m \u001b[0mself\u001b[0m\u001b[1;33m.\u001b[0m\u001b[0mcommand_executor\u001b[0m\u001b[1;33m.\u001b[0m\u001b[0mexecute\u001b[0m\u001b[1;33m(\u001b[0m\u001b[0mdriver_command\u001b[0m\u001b[1;33m,\u001b[0m \u001b[0mparams\u001b[0m\u001b[1;33m)\u001b[0m\u001b[1;33m\u001b[0m\u001b[1;33m\u001b[0m\u001b[0m\n\u001b[0;32m    343\u001b[0m         \u001b[1;32mif\u001b[0m \u001b[0mresponse\u001b[0m\u001b[1;33m:\u001b[0m\u001b[1;33m\u001b[0m\u001b[1;33m\u001b[0m\u001b[0m\n\u001b[1;32m--> 344\u001b[1;33m             \u001b[0mself\u001b[0m\u001b[1;33m.\u001b[0m\u001b[0merror_handler\u001b[0m\u001b[1;33m.\u001b[0m\u001b[0mcheck_response\u001b[0m\u001b[1;33m(\u001b[0m\u001b[0mresponse\u001b[0m\u001b[1;33m)\u001b[0m\u001b[1;33m\u001b[0m\u001b[1;33m\u001b[0m\u001b[0m\n\u001b[0m\u001b[0;32m    345\u001b[0m             \u001b[0mresponse\u001b[0m\u001b[1;33m[\u001b[0m\u001b[1;34m\"value\"\u001b[0m\u001b[1;33m]\u001b[0m \u001b[1;33m=\u001b[0m \u001b[0mself\u001b[0m\u001b[1;33m.\u001b[0m\u001b[0m_unwrap_value\u001b[0m\u001b[1;33m(\u001b[0m\u001b[0mresponse\u001b[0m\u001b[1;33m.\u001b[0m\u001b[0mget\u001b[0m\u001b[1;33m(\u001b[0m\u001b[1;34m\"value\"\u001b[0m\u001b[1;33m,\u001b[0m \u001b[1;32mNone\u001b[0m\u001b[1;33m)\u001b[0m\u001b[1;33m)\u001b[0m\u001b[1;33m\u001b[0m\u001b[1;33m\u001b[0m\u001b[0m\n\u001b[0;32m    346\u001b[0m             \u001b[1;32mreturn\u001b[0m \u001b[0mresponse\u001b[0m\u001b[1;33m\u001b[0m\u001b[1;33m\u001b[0m\u001b[0m\n",
      "\u001b[1;32m~\\anaconda3\\lib\\site-packages\\selenium\\webdriver\\remote\\errorhandler.py\u001b[0m in \u001b[0;36mcheck_response\u001b[1;34m(self, response)\u001b[0m\n\u001b[0;32m    227\u001b[0m                 \u001b[0malert_text\u001b[0m \u001b[1;33m=\u001b[0m \u001b[0mvalue\u001b[0m\u001b[1;33m[\u001b[0m\u001b[1;34m\"alert\"\u001b[0m\u001b[1;33m]\u001b[0m\u001b[1;33m.\u001b[0m\u001b[0mget\u001b[0m\u001b[1;33m(\u001b[0m\u001b[1;34m\"text\"\u001b[0m\u001b[1;33m)\u001b[0m\u001b[1;33m\u001b[0m\u001b[1;33m\u001b[0m\u001b[0m\n\u001b[0;32m    228\u001b[0m             \u001b[1;32mraise\u001b[0m \u001b[0mexception_class\u001b[0m\u001b[1;33m(\u001b[0m\u001b[0mmessage\u001b[0m\u001b[1;33m,\u001b[0m \u001b[0mscreen\u001b[0m\u001b[1;33m,\u001b[0m \u001b[0mstacktrace\u001b[0m\u001b[1;33m,\u001b[0m \u001b[0malert_text\u001b[0m\u001b[1;33m)\u001b[0m  \u001b[1;31m# type: ignore[call-arg]  # mypy is not smart enough here\u001b[0m\u001b[1;33m\u001b[0m\u001b[1;33m\u001b[0m\u001b[0m\n\u001b[1;32m--> 229\u001b[1;33m         \u001b[1;32mraise\u001b[0m \u001b[0mexception_class\u001b[0m\u001b[1;33m(\u001b[0m\u001b[0mmessage\u001b[0m\u001b[1;33m,\u001b[0m \u001b[0mscreen\u001b[0m\u001b[1;33m,\u001b[0m \u001b[0mstacktrace\u001b[0m\u001b[1;33m)\u001b[0m\u001b[1;33m\u001b[0m\u001b[1;33m\u001b[0m\u001b[0m\n\u001b[0m",
      "\u001b[1;31mNoSuchElementException\u001b[0m: Message: no such element: Unable to locate element: {\"method\":\"xpath\",\"selector\":\"/html/body/div/div/div/section/div[1]/div[4]/div[1]/div[3]/nav/ul/li[7]/a\"}\n  (Session info: chrome=122.0.6261.69); For documentation on this error, please visit: https://www.selenium.dev/documentation/webdriver/troubleshooting/errors#no-such-element-exception\nStacktrace:\n\tGetHandleVerifier [0x00007FF7E2094C82+3505170]\n\t(No symbol) [0x00007FF7E1CC0852]\n\t(No symbol) [0x00007FF7E1B74145]\n\t(No symbol) [0x00007FF7E1BB9ADD]\n\t(No symbol) [0x00007FF7E1BB9C1C]\n\t(No symbol) [0x00007FF7E1BFAB27]\n\t(No symbol) [0x00007FF7E1BDBECF]\n\t(No symbol) [0x00007FF7E1BF83B2]\n\t(No symbol) [0x00007FF7E1BDBC33]\n\t(No symbol) [0x00007FF7E1BAD618]\n\t(No symbol) [0x00007FF7E1BAE6B1]\n\tGetHandleVerifier [0x00007FF7E20C67DD+3708781]\n\tGetHandleVerifier [0x00007FF7E211FC5D+4074477]\n\tGetHandleVerifier [0x00007FF7E2117DDF+4042095]\n\tGetHandleVerifier [0x00007FF7E1DEA136+708806]\n\t(No symbol) [0x00007FF7E1CCCB0F]\n\t(No symbol) [0x00007FF7E1CC7D14]\n\t(No symbol) [0x00007FF7E1CC7E6C]\n\t(No symbol) [0x00007FF7E1CB79A4]\n\tBaseThreadInitThunk [0x00007FFC747B257D+29]\n\tRtlUserThreadStart [0x00007FFC75D2AA58+40]\n"
     ]
    }
   ],
   "source": [
    "#page 80\n",
    "Next_button=driver.find_element(By.XPATH,\"/html/body/div/div/div/section/div[1]/div[4]/div[1]/div[3]/nav/ul/li[7]/a\")\n",
    "Next_button.click()"
   ]
  },
  {
   "cell_type": "code",
   "execution_count": null,
   "id": "e28c518c",
   "metadata": {},
   "outputs": [],
   "source": [
    "Address=[]\n",
    "Price=[]\n",
    "Squre_fit=[]"
   ]
  },
  {
   "cell_type": "code",
   "execution_count": null,
   "id": "b555ded2",
   "metadata": {},
   "outputs": [],
   "source": [
    "Area_Address=driver.find_elements(By.XPATH,'//div[@class=\"addr-component\"]')\n",
    "for i in Area_Address[0:20]:\n",
    "    add=i.text\n",
    "    Address.append(add) \n",
    "    \n",
    "House_Price=driver.find_elements(By.XPATH,'//div[@class=\"h4 text-primary mb-0\"]')\n",
    "for i in House_Price[0:20]:\n",
    "    price=i.text\n",
    "    Price.append(price)\n",
    "    \n",
    "Squre=driver.find_elements(By.XPATH,'//div[@class=\"text-muted\"]')\n",
    "for i in Squre[0:20]:\n",
    "    squre=i.text\n",
    "    Squre_fit.append(squre)"
   ]
  },
  {
   "cell_type": "code",
   "execution_count": null,
   "id": "5ee448bc",
   "metadata": {},
   "outputs": [],
   "source": [
    "print(len(Address),len(Squre_fit),len(Price))"
   ]
  },
  {
   "cell_type": "code",
   "execution_count": null,
   "id": "52ea9c04",
   "metadata": {},
   "outputs": [],
   "source": [
    "import pandas as pd\n",
    "df=pd.DataFrame({'Address':Address, 'Price':Price, 'Squr':Squre_fit})\n",
    "df"
   ]
  },
  {
   "cell_type": "code",
   "execution_count": 118,
   "id": "31d7ffb6",
   "metadata": {},
   "outputs": [
    {
     "ename": "NoSuchElementException",
     "evalue": "Message: no such element: Unable to locate element: {\"method\":\"xpath\",\"selector\":\"/html/body/div/div/div/section/div[1]/div[4]/div[1]/div[3]/nav/ul/li[7]/a\"}\n  (Session info: chrome=122.0.6261.69); For documentation on this error, please visit: https://www.selenium.dev/documentation/webdriver/troubleshooting/errors#no-such-element-exception\nStacktrace:\n\tGetHandleVerifier [0x00007FF7E2094C82+3505170]\n\t(No symbol) [0x00007FF7E1CC0852]\n\t(No symbol) [0x00007FF7E1B74145]\n\t(No symbol) [0x00007FF7E1BB9ADD]\n\t(No symbol) [0x00007FF7E1BB9C1C]\n\t(No symbol) [0x00007FF7E1BFAB27]\n\t(No symbol) [0x00007FF7E1BDBECF]\n\t(No symbol) [0x00007FF7E1BF83B2]\n\t(No symbol) [0x00007FF7E1BDBC33]\n\t(No symbol) [0x00007FF7E1BAD618]\n\t(No symbol) [0x00007FF7E1BAE6B1]\n\tGetHandleVerifier [0x00007FF7E20C67DD+3708781]\n\tGetHandleVerifier [0x00007FF7E211FC5D+4074477]\n\tGetHandleVerifier [0x00007FF7E2117DDF+4042095]\n\tGetHandleVerifier [0x00007FF7E1DEA136+708806]\n\t(No symbol) [0x00007FF7E1CCCB0F]\n\t(No symbol) [0x00007FF7E1CC7D14]\n\t(No symbol) [0x00007FF7E1CC7E6C]\n\t(No symbol) [0x00007FF7E1CB79A4]\n\tBaseThreadInitThunk [0x00007FFC747B257D+29]\n\tRtlUserThreadStart [0x00007FFC75D2AA58+40]\n",
     "output_type": "error",
     "traceback": [
      "\u001b[1;31m---------------------------------------------------------------------------\u001b[0m",
      "\u001b[1;31mNoSuchElementException\u001b[0m                    Traceback (most recent call last)",
      "\u001b[1;32m~\\AppData\\Local\\Temp\\ipykernel_7720\\1051287033.py\u001b[0m in \u001b[0;36m<module>\u001b[1;34m\u001b[0m\n\u001b[0;32m      1\u001b[0m \u001b[1;31m#page 81\u001b[0m\u001b[1;33m\u001b[0m\u001b[1;33m\u001b[0m\u001b[0m\n\u001b[1;32m----> 2\u001b[1;33m \u001b[0mNext_button\u001b[0m\u001b[1;33m=\u001b[0m\u001b[0mdriver\u001b[0m\u001b[1;33m.\u001b[0m\u001b[0mfind_element\u001b[0m\u001b[1;33m(\u001b[0m\u001b[0mBy\u001b[0m\u001b[1;33m.\u001b[0m\u001b[0mXPATH\u001b[0m\u001b[1;33m,\u001b[0m\u001b[1;34m\"/html/body/div/div/div/section/div[1]/div[4]/div[1]/div[3]/nav/ul/li[7]/a\"\u001b[0m\u001b[1;33m)\u001b[0m\u001b[1;33m\u001b[0m\u001b[1;33m\u001b[0m\u001b[0m\n\u001b[0m\u001b[0;32m      3\u001b[0m \u001b[0mNext_button\u001b[0m\u001b[1;33m.\u001b[0m\u001b[0mclick\u001b[0m\u001b[1;33m(\u001b[0m\u001b[1;33m)\u001b[0m\u001b[1;33m\u001b[0m\u001b[1;33m\u001b[0m\u001b[0m\n",
      "\u001b[1;32m~\\anaconda3\\lib\\site-packages\\selenium\\webdriver\\remote\\webdriver.py\u001b[0m in \u001b[0;36mfind_element\u001b[1;34m(self, by, value)\u001b[0m\n\u001b[0;32m    736\u001b[0m             \u001b[0mvalue\u001b[0m \u001b[1;33m=\u001b[0m \u001b[1;34mf'[name=\"{value}\"]'\u001b[0m\u001b[1;33m\u001b[0m\u001b[1;33m\u001b[0m\u001b[0m\n\u001b[0;32m    737\u001b[0m \u001b[1;33m\u001b[0m\u001b[0m\n\u001b[1;32m--> 738\u001b[1;33m         \u001b[1;32mreturn\u001b[0m \u001b[0mself\u001b[0m\u001b[1;33m.\u001b[0m\u001b[0mexecute\u001b[0m\u001b[1;33m(\u001b[0m\u001b[0mCommand\u001b[0m\u001b[1;33m.\u001b[0m\u001b[0mFIND_ELEMENT\u001b[0m\u001b[1;33m,\u001b[0m \u001b[1;33m{\u001b[0m\u001b[1;34m\"using\"\u001b[0m\u001b[1;33m:\u001b[0m \u001b[0mby\u001b[0m\u001b[1;33m,\u001b[0m \u001b[1;34m\"value\"\u001b[0m\u001b[1;33m:\u001b[0m \u001b[0mvalue\u001b[0m\u001b[1;33m}\u001b[0m\u001b[1;33m)\u001b[0m\u001b[1;33m[\u001b[0m\u001b[1;34m\"value\"\u001b[0m\u001b[1;33m]\u001b[0m\u001b[1;33m\u001b[0m\u001b[1;33m\u001b[0m\u001b[0m\n\u001b[0m\u001b[0;32m    739\u001b[0m \u001b[1;33m\u001b[0m\u001b[0m\n\u001b[0;32m    740\u001b[0m     \u001b[1;32mdef\u001b[0m \u001b[0mfind_elements\u001b[0m\u001b[1;33m(\u001b[0m\u001b[0mself\u001b[0m\u001b[1;33m,\u001b[0m \u001b[0mby\u001b[0m\u001b[1;33m=\u001b[0m\u001b[0mBy\u001b[0m\u001b[1;33m.\u001b[0m\u001b[0mID\u001b[0m\u001b[1;33m,\u001b[0m \u001b[0mvalue\u001b[0m\u001b[1;33m:\u001b[0m \u001b[0mOptional\u001b[0m\u001b[1;33m[\u001b[0m\u001b[0mstr\u001b[0m\u001b[1;33m]\u001b[0m \u001b[1;33m=\u001b[0m \u001b[1;32mNone\u001b[0m\u001b[1;33m)\u001b[0m \u001b[1;33m->\u001b[0m \u001b[0mList\u001b[0m\u001b[1;33m[\u001b[0m\u001b[0mWebElement\u001b[0m\u001b[1;33m]\u001b[0m\u001b[1;33m:\u001b[0m\u001b[1;33m\u001b[0m\u001b[1;33m\u001b[0m\u001b[0m\n",
      "\u001b[1;32m~\\anaconda3\\lib\\site-packages\\selenium\\webdriver\\remote\\webdriver.py\u001b[0m in \u001b[0;36mexecute\u001b[1;34m(self, driver_command, params)\u001b[0m\n\u001b[0;32m    342\u001b[0m         \u001b[0mresponse\u001b[0m \u001b[1;33m=\u001b[0m \u001b[0mself\u001b[0m\u001b[1;33m.\u001b[0m\u001b[0mcommand_executor\u001b[0m\u001b[1;33m.\u001b[0m\u001b[0mexecute\u001b[0m\u001b[1;33m(\u001b[0m\u001b[0mdriver_command\u001b[0m\u001b[1;33m,\u001b[0m \u001b[0mparams\u001b[0m\u001b[1;33m)\u001b[0m\u001b[1;33m\u001b[0m\u001b[1;33m\u001b[0m\u001b[0m\n\u001b[0;32m    343\u001b[0m         \u001b[1;32mif\u001b[0m \u001b[0mresponse\u001b[0m\u001b[1;33m:\u001b[0m\u001b[1;33m\u001b[0m\u001b[1;33m\u001b[0m\u001b[0m\n\u001b[1;32m--> 344\u001b[1;33m             \u001b[0mself\u001b[0m\u001b[1;33m.\u001b[0m\u001b[0merror_handler\u001b[0m\u001b[1;33m.\u001b[0m\u001b[0mcheck_response\u001b[0m\u001b[1;33m(\u001b[0m\u001b[0mresponse\u001b[0m\u001b[1;33m)\u001b[0m\u001b[1;33m\u001b[0m\u001b[1;33m\u001b[0m\u001b[0m\n\u001b[0m\u001b[0;32m    345\u001b[0m             \u001b[0mresponse\u001b[0m\u001b[1;33m[\u001b[0m\u001b[1;34m\"value\"\u001b[0m\u001b[1;33m]\u001b[0m \u001b[1;33m=\u001b[0m \u001b[0mself\u001b[0m\u001b[1;33m.\u001b[0m\u001b[0m_unwrap_value\u001b[0m\u001b[1;33m(\u001b[0m\u001b[0mresponse\u001b[0m\u001b[1;33m.\u001b[0m\u001b[0mget\u001b[0m\u001b[1;33m(\u001b[0m\u001b[1;34m\"value\"\u001b[0m\u001b[1;33m,\u001b[0m \u001b[1;32mNone\u001b[0m\u001b[1;33m)\u001b[0m\u001b[1;33m)\u001b[0m\u001b[1;33m\u001b[0m\u001b[1;33m\u001b[0m\u001b[0m\n\u001b[0;32m    346\u001b[0m             \u001b[1;32mreturn\u001b[0m \u001b[0mresponse\u001b[0m\u001b[1;33m\u001b[0m\u001b[1;33m\u001b[0m\u001b[0m\n",
      "\u001b[1;32m~\\anaconda3\\lib\\site-packages\\selenium\\webdriver\\remote\\errorhandler.py\u001b[0m in \u001b[0;36mcheck_response\u001b[1;34m(self, response)\u001b[0m\n\u001b[0;32m    227\u001b[0m                 \u001b[0malert_text\u001b[0m \u001b[1;33m=\u001b[0m \u001b[0mvalue\u001b[0m\u001b[1;33m[\u001b[0m\u001b[1;34m\"alert\"\u001b[0m\u001b[1;33m]\u001b[0m\u001b[1;33m.\u001b[0m\u001b[0mget\u001b[0m\u001b[1;33m(\u001b[0m\u001b[1;34m\"text\"\u001b[0m\u001b[1;33m)\u001b[0m\u001b[1;33m\u001b[0m\u001b[1;33m\u001b[0m\u001b[0m\n\u001b[0;32m    228\u001b[0m             \u001b[1;32mraise\u001b[0m \u001b[0mexception_class\u001b[0m\u001b[1;33m(\u001b[0m\u001b[0mmessage\u001b[0m\u001b[1;33m,\u001b[0m \u001b[0mscreen\u001b[0m\u001b[1;33m,\u001b[0m \u001b[0mstacktrace\u001b[0m\u001b[1;33m,\u001b[0m \u001b[0malert_text\u001b[0m\u001b[1;33m)\u001b[0m  \u001b[1;31m# type: ignore[call-arg]  # mypy is not smart enough here\u001b[0m\u001b[1;33m\u001b[0m\u001b[1;33m\u001b[0m\u001b[0m\n\u001b[1;32m--> 229\u001b[1;33m         \u001b[1;32mraise\u001b[0m \u001b[0mexception_class\u001b[0m\u001b[1;33m(\u001b[0m\u001b[0mmessage\u001b[0m\u001b[1;33m,\u001b[0m \u001b[0mscreen\u001b[0m\u001b[1;33m,\u001b[0m \u001b[0mstacktrace\u001b[0m\u001b[1;33m)\u001b[0m\u001b[1;33m\u001b[0m\u001b[1;33m\u001b[0m\u001b[0m\n\u001b[0m",
      "\u001b[1;31mNoSuchElementException\u001b[0m: Message: no such element: Unable to locate element: {\"method\":\"xpath\",\"selector\":\"/html/body/div/div/div/section/div[1]/div[4]/div[1]/div[3]/nav/ul/li[7]/a\"}\n  (Session info: chrome=122.0.6261.69); For documentation on this error, please visit: https://www.selenium.dev/documentation/webdriver/troubleshooting/errors#no-such-element-exception\nStacktrace:\n\tGetHandleVerifier [0x00007FF7E2094C82+3505170]\n\t(No symbol) [0x00007FF7E1CC0852]\n\t(No symbol) [0x00007FF7E1B74145]\n\t(No symbol) [0x00007FF7E1BB9ADD]\n\t(No symbol) [0x00007FF7E1BB9C1C]\n\t(No symbol) [0x00007FF7E1BFAB27]\n\t(No symbol) [0x00007FF7E1BDBECF]\n\t(No symbol) [0x00007FF7E1BF83B2]\n\t(No symbol) [0x00007FF7E1BDBC33]\n\t(No symbol) [0x00007FF7E1BAD618]\n\t(No symbol) [0x00007FF7E1BAE6B1]\n\tGetHandleVerifier [0x00007FF7E20C67DD+3708781]\n\tGetHandleVerifier [0x00007FF7E211FC5D+4074477]\n\tGetHandleVerifier [0x00007FF7E2117DDF+4042095]\n\tGetHandleVerifier [0x00007FF7E1DEA136+708806]\n\t(No symbol) [0x00007FF7E1CCCB0F]\n\t(No symbol) [0x00007FF7E1CC7D14]\n\t(No symbol) [0x00007FF7E1CC7E6C]\n\t(No symbol) [0x00007FF7E1CB79A4]\n\tBaseThreadInitThunk [0x00007FFC747B257D+29]\n\tRtlUserThreadStart [0x00007FFC75D2AA58+40]\n"
     ]
    }
   ],
   "source": [
    "#page 81\n",
    "Next_button=driver.find_element(By.XPATH,\"/html/body/div/div/div/section/div[1]/div[4]/div[1]/div[3]/nav/ul/li[7]/a\")\n",
    "Next_button.click()"
   ]
  },
  {
   "cell_type": "code",
   "execution_count": null,
   "id": "b1ef6348",
   "metadata": {},
   "outputs": [],
   "source": [
    "Address=[]\n",
    "Price=[]\n",
    "Squre_fit=[]"
   ]
  },
  {
   "cell_type": "code",
   "execution_count": null,
   "id": "8ef5f720",
   "metadata": {},
   "outputs": [],
   "source": [
    "Area_Address=driver.find_elements(By.XPATH,'//div[@class=\"addr-component\"]')\n",
    "for i in Area_Address[0:20]:\n",
    "    add=i.text\n",
    "    Address.append(add) \n",
    "    \n",
    "House_Price=driver.find_elements(By.XPATH,'//div[@class=\"h4 text-primary mb-0\"]')\n",
    "for i in House_Price[0:20]:\n",
    "    price=i.text\n",
    "    Price.append(price)\n",
    "    \n",
    "Squre=driver.find_elements(By.XPATH,'//div[@class=\"text-muted\"]')\n",
    "for i in Squre[0:20]:\n",
    "    squre=i.text\n",
    "    Squre_fit.append(squre)"
   ]
  },
  {
   "cell_type": "code",
   "execution_count": 119,
   "id": "0d85e921",
   "metadata": {},
   "outputs": [
    {
     "name": "stdout",
     "output_type": "stream",
     "text": [
      "0 0 0\n"
     ]
    }
   ],
   "source": [
    "print(len(Address),len(Squre_fit),len(Price))"
   ]
  },
  {
   "cell_type": "code",
   "execution_count": 120,
   "id": "f9d6502e",
   "metadata": {},
   "outputs": [
    {
     "data": {
      "text/html": [
       "<div>\n",
       "<style scoped>\n",
       "    .dataframe tbody tr th:only-of-type {\n",
       "        vertical-align: middle;\n",
       "    }\n",
       "\n",
       "    .dataframe tbody tr th {\n",
       "        vertical-align: top;\n",
       "    }\n",
       "\n",
       "    .dataframe thead th {\n",
       "        text-align: right;\n",
       "    }\n",
       "</style>\n",
       "<table border=\"1\" class=\"dataframe\">\n",
       "  <thead>\n",
       "    <tr style=\"text-align: right;\">\n",
       "      <th></th>\n",
       "      <th>Address</th>\n",
       "      <th>Price</th>\n",
       "      <th>Squr</th>\n",
       "    </tr>\n",
       "  </thead>\n",
       "  <tbody>\n",
       "  </tbody>\n",
       "</table>\n",
       "</div>"
      ],
      "text/plain": [
       "Empty DataFrame\n",
       "Columns: [Address, Price, Squr]\n",
       "Index: []"
      ]
     },
     "execution_count": 120,
     "metadata": {},
     "output_type": "execute_result"
    }
   ],
   "source": [
    "import pandas as pd\n",
    "df=pd.DataFrame({'Address':Address, 'Price':Price, 'Squr':Squre_fit})\n",
    "df"
   ]
  },
  {
   "cell_type": "code",
   "execution_count": 121,
   "id": "531ba0f5",
   "metadata": {},
   "outputs": [
    {
     "ename": "NoSuchElementException",
     "evalue": "Message: no such element: Unable to locate element: {\"method\":\"xpath\",\"selector\":\"/html/body/div/div/div/section/div[1]/div[4]/div[1]/div[3]/nav/ul/li[7]/a\"}\n  (Session info: chrome=122.0.6261.69); For documentation on this error, please visit: https://www.selenium.dev/documentation/webdriver/troubleshooting/errors#no-such-element-exception\nStacktrace:\n\tGetHandleVerifier [0x00007FF7E2094C82+3505170]\n\t(No symbol) [0x00007FF7E1CC0852]\n\t(No symbol) [0x00007FF7E1B74145]\n\t(No symbol) [0x00007FF7E1BB9ADD]\n\t(No symbol) [0x00007FF7E1BB9C1C]\n\t(No symbol) [0x00007FF7E1BFAB27]\n\t(No symbol) [0x00007FF7E1BDBECF]\n\t(No symbol) [0x00007FF7E1BF83B2]\n\t(No symbol) [0x00007FF7E1BDBC33]\n\t(No symbol) [0x00007FF7E1BAD618]\n\t(No symbol) [0x00007FF7E1BAE6B1]\n\tGetHandleVerifier [0x00007FF7E20C67DD+3708781]\n\tGetHandleVerifier [0x00007FF7E211FC5D+4074477]\n\tGetHandleVerifier [0x00007FF7E2117DDF+4042095]\n\tGetHandleVerifier [0x00007FF7E1DEA136+708806]\n\t(No symbol) [0x00007FF7E1CCCB0F]\n\t(No symbol) [0x00007FF7E1CC7D14]\n\t(No symbol) [0x00007FF7E1CC7E6C]\n\t(No symbol) [0x00007FF7E1CB79A4]\n\tBaseThreadInitThunk [0x00007FFC747B257D+29]\n\tRtlUserThreadStart [0x00007FFC75D2AA58+40]\n",
     "output_type": "error",
     "traceback": [
      "\u001b[1;31m---------------------------------------------------------------------------\u001b[0m",
      "\u001b[1;31mNoSuchElementException\u001b[0m                    Traceback (most recent call last)",
      "\u001b[1;32m~\\AppData\\Local\\Temp\\ipykernel_7720\\1551069269.py\u001b[0m in \u001b[0;36m<module>\u001b[1;34m\u001b[0m\n\u001b[0;32m      1\u001b[0m \u001b[1;31m#page 82\u001b[0m\u001b[1;33m\u001b[0m\u001b[1;33m\u001b[0m\u001b[0m\n\u001b[1;32m----> 2\u001b[1;33m \u001b[0mNext_button\u001b[0m\u001b[1;33m=\u001b[0m\u001b[0mdriver\u001b[0m\u001b[1;33m.\u001b[0m\u001b[0mfind_element\u001b[0m\u001b[1;33m(\u001b[0m\u001b[0mBy\u001b[0m\u001b[1;33m.\u001b[0m\u001b[0mXPATH\u001b[0m\u001b[1;33m,\u001b[0m\u001b[1;34m\"/html/body/div/div/div/section/div[1]/div[4]/div[1]/div[3]/nav/ul/li[7]/a\"\u001b[0m\u001b[1;33m)\u001b[0m\u001b[1;33m\u001b[0m\u001b[1;33m\u001b[0m\u001b[0m\n\u001b[0m\u001b[0;32m      3\u001b[0m \u001b[0mNext_button\u001b[0m\u001b[1;33m.\u001b[0m\u001b[0mclick\u001b[0m\u001b[1;33m(\u001b[0m\u001b[1;33m)\u001b[0m\u001b[1;33m\u001b[0m\u001b[1;33m\u001b[0m\u001b[0m\n",
      "\u001b[1;32m~\\anaconda3\\lib\\site-packages\\selenium\\webdriver\\remote\\webdriver.py\u001b[0m in \u001b[0;36mfind_element\u001b[1;34m(self, by, value)\u001b[0m\n\u001b[0;32m    736\u001b[0m             \u001b[0mvalue\u001b[0m \u001b[1;33m=\u001b[0m \u001b[1;34mf'[name=\"{value}\"]'\u001b[0m\u001b[1;33m\u001b[0m\u001b[1;33m\u001b[0m\u001b[0m\n\u001b[0;32m    737\u001b[0m \u001b[1;33m\u001b[0m\u001b[0m\n\u001b[1;32m--> 738\u001b[1;33m         \u001b[1;32mreturn\u001b[0m \u001b[0mself\u001b[0m\u001b[1;33m.\u001b[0m\u001b[0mexecute\u001b[0m\u001b[1;33m(\u001b[0m\u001b[0mCommand\u001b[0m\u001b[1;33m.\u001b[0m\u001b[0mFIND_ELEMENT\u001b[0m\u001b[1;33m,\u001b[0m \u001b[1;33m{\u001b[0m\u001b[1;34m\"using\"\u001b[0m\u001b[1;33m:\u001b[0m \u001b[0mby\u001b[0m\u001b[1;33m,\u001b[0m \u001b[1;34m\"value\"\u001b[0m\u001b[1;33m:\u001b[0m \u001b[0mvalue\u001b[0m\u001b[1;33m}\u001b[0m\u001b[1;33m)\u001b[0m\u001b[1;33m[\u001b[0m\u001b[1;34m\"value\"\u001b[0m\u001b[1;33m]\u001b[0m\u001b[1;33m\u001b[0m\u001b[1;33m\u001b[0m\u001b[0m\n\u001b[0m\u001b[0;32m    739\u001b[0m \u001b[1;33m\u001b[0m\u001b[0m\n\u001b[0;32m    740\u001b[0m     \u001b[1;32mdef\u001b[0m \u001b[0mfind_elements\u001b[0m\u001b[1;33m(\u001b[0m\u001b[0mself\u001b[0m\u001b[1;33m,\u001b[0m \u001b[0mby\u001b[0m\u001b[1;33m=\u001b[0m\u001b[0mBy\u001b[0m\u001b[1;33m.\u001b[0m\u001b[0mID\u001b[0m\u001b[1;33m,\u001b[0m \u001b[0mvalue\u001b[0m\u001b[1;33m:\u001b[0m \u001b[0mOptional\u001b[0m\u001b[1;33m[\u001b[0m\u001b[0mstr\u001b[0m\u001b[1;33m]\u001b[0m \u001b[1;33m=\u001b[0m \u001b[1;32mNone\u001b[0m\u001b[1;33m)\u001b[0m \u001b[1;33m->\u001b[0m \u001b[0mList\u001b[0m\u001b[1;33m[\u001b[0m\u001b[0mWebElement\u001b[0m\u001b[1;33m]\u001b[0m\u001b[1;33m:\u001b[0m\u001b[1;33m\u001b[0m\u001b[1;33m\u001b[0m\u001b[0m\n",
      "\u001b[1;32m~\\anaconda3\\lib\\site-packages\\selenium\\webdriver\\remote\\webdriver.py\u001b[0m in \u001b[0;36mexecute\u001b[1;34m(self, driver_command, params)\u001b[0m\n\u001b[0;32m    342\u001b[0m         \u001b[0mresponse\u001b[0m \u001b[1;33m=\u001b[0m \u001b[0mself\u001b[0m\u001b[1;33m.\u001b[0m\u001b[0mcommand_executor\u001b[0m\u001b[1;33m.\u001b[0m\u001b[0mexecute\u001b[0m\u001b[1;33m(\u001b[0m\u001b[0mdriver_command\u001b[0m\u001b[1;33m,\u001b[0m \u001b[0mparams\u001b[0m\u001b[1;33m)\u001b[0m\u001b[1;33m\u001b[0m\u001b[1;33m\u001b[0m\u001b[0m\n\u001b[0;32m    343\u001b[0m         \u001b[1;32mif\u001b[0m \u001b[0mresponse\u001b[0m\u001b[1;33m:\u001b[0m\u001b[1;33m\u001b[0m\u001b[1;33m\u001b[0m\u001b[0m\n\u001b[1;32m--> 344\u001b[1;33m             \u001b[0mself\u001b[0m\u001b[1;33m.\u001b[0m\u001b[0merror_handler\u001b[0m\u001b[1;33m.\u001b[0m\u001b[0mcheck_response\u001b[0m\u001b[1;33m(\u001b[0m\u001b[0mresponse\u001b[0m\u001b[1;33m)\u001b[0m\u001b[1;33m\u001b[0m\u001b[1;33m\u001b[0m\u001b[0m\n\u001b[0m\u001b[0;32m    345\u001b[0m             \u001b[0mresponse\u001b[0m\u001b[1;33m[\u001b[0m\u001b[1;34m\"value\"\u001b[0m\u001b[1;33m]\u001b[0m \u001b[1;33m=\u001b[0m \u001b[0mself\u001b[0m\u001b[1;33m.\u001b[0m\u001b[0m_unwrap_value\u001b[0m\u001b[1;33m(\u001b[0m\u001b[0mresponse\u001b[0m\u001b[1;33m.\u001b[0m\u001b[0mget\u001b[0m\u001b[1;33m(\u001b[0m\u001b[1;34m\"value\"\u001b[0m\u001b[1;33m,\u001b[0m \u001b[1;32mNone\u001b[0m\u001b[1;33m)\u001b[0m\u001b[1;33m)\u001b[0m\u001b[1;33m\u001b[0m\u001b[1;33m\u001b[0m\u001b[0m\n\u001b[0;32m    346\u001b[0m             \u001b[1;32mreturn\u001b[0m \u001b[0mresponse\u001b[0m\u001b[1;33m\u001b[0m\u001b[1;33m\u001b[0m\u001b[0m\n",
      "\u001b[1;32m~\\anaconda3\\lib\\site-packages\\selenium\\webdriver\\remote\\errorhandler.py\u001b[0m in \u001b[0;36mcheck_response\u001b[1;34m(self, response)\u001b[0m\n\u001b[0;32m    227\u001b[0m                 \u001b[0malert_text\u001b[0m \u001b[1;33m=\u001b[0m \u001b[0mvalue\u001b[0m\u001b[1;33m[\u001b[0m\u001b[1;34m\"alert\"\u001b[0m\u001b[1;33m]\u001b[0m\u001b[1;33m.\u001b[0m\u001b[0mget\u001b[0m\u001b[1;33m(\u001b[0m\u001b[1;34m\"text\"\u001b[0m\u001b[1;33m)\u001b[0m\u001b[1;33m\u001b[0m\u001b[1;33m\u001b[0m\u001b[0m\n\u001b[0;32m    228\u001b[0m             \u001b[1;32mraise\u001b[0m \u001b[0mexception_class\u001b[0m\u001b[1;33m(\u001b[0m\u001b[0mmessage\u001b[0m\u001b[1;33m,\u001b[0m \u001b[0mscreen\u001b[0m\u001b[1;33m,\u001b[0m \u001b[0mstacktrace\u001b[0m\u001b[1;33m,\u001b[0m \u001b[0malert_text\u001b[0m\u001b[1;33m)\u001b[0m  \u001b[1;31m# type: ignore[call-arg]  # mypy is not smart enough here\u001b[0m\u001b[1;33m\u001b[0m\u001b[1;33m\u001b[0m\u001b[0m\n\u001b[1;32m--> 229\u001b[1;33m         \u001b[1;32mraise\u001b[0m \u001b[0mexception_class\u001b[0m\u001b[1;33m(\u001b[0m\u001b[0mmessage\u001b[0m\u001b[1;33m,\u001b[0m \u001b[0mscreen\u001b[0m\u001b[1;33m,\u001b[0m \u001b[0mstacktrace\u001b[0m\u001b[1;33m)\u001b[0m\u001b[1;33m\u001b[0m\u001b[1;33m\u001b[0m\u001b[0m\n\u001b[0m",
      "\u001b[1;31mNoSuchElementException\u001b[0m: Message: no such element: Unable to locate element: {\"method\":\"xpath\",\"selector\":\"/html/body/div/div/div/section/div[1]/div[4]/div[1]/div[3]/nav/ul/li[7]/a\"}\n  (Session info: chrome=122.0.6261.69); For documentation on this error, please visit: https://www.selenium.dev/documentation/webdriver/troubleshooting/errors#no-such-element-exception\nStacktrace:\n\tGetHandleVerifier [0x00007FF7E2094C82+3505170]\n\t(No symbol) [0x00007FF7E1CC0852]\n\t(No symbol) [0x00007FF7E1B74145]\n\t(No symbol) [0x00007FF7E1BB9ADD]\n\t(No symbol) [0x00007FF7E1BB9C1C]\n\t(No symbol) [0x00007FF7E1BFAB27]\n\t(No symbol) [0x00007FF7E1BDBECF]\n\t(No symbol) [0x00007FF7E1BF83B2]\n\t(No symbol) [0x00007FF7E1BDBC33]\n\t(No symbol) [0x00007FF7E1BAD618]\n\t(No symbol) [0x00007FF7E1BAE6B1]\n\tGetHandleVerifier [0x00007FF7E20C67DD+3708781]\n\tGetHandleVerifier [0x00007FF7E211FC5D+4074477]\n\tGetHandleVerifier [0x00007FF7E2117DDF+4042095]\n\tGetHandleVerifier [0x00007FF7E1DEA136+708806]\n\t(No symbol) [0x00007FF7E1CCCB0F]\n\t(No symbol) [0x00007FF7E1CC7D14]\n\t(No symbol) [0x00007FF7E1CC7E6C]\n\t(No symbol) [0x00007FF7E1CB79A4]\n\tBaseThreadInitThunk [0x00007FFC747B257D+29]\n\tRtlUserThreadStart [0x00007FFC75D2AA58+40]\n"
     ]
    }
   ],
   "source": [
    "#page 82\n",
    "Next_button=driver.find_element(By.XPATH,\"/html/body/div/div/div/section/div[1]/div[4]/div[1]/div[3]/nav/ul/li[7]/a\")\n",
    "Next_button.click()"
   ]
  },
  {
   "cell_type": "code",
   "execution_count": null,
   "id": "673f6ed3",
   "metadata": {},
   "outputs": [],
   "source": [
    "Address=[]\n",
    "Price=[]\n",
    "Squre_fit=[]"
   ]
  },
  {
   "cell_type": "code",
   "execution_count": null,
   "id": "2b23bfcc",
   "metadata": {},
   "outputs": [],
   "source": [
    "Area_Address=driver.find_elements(By.XPATH,'//div[@class=\"addr-component\"]')\n",
    "for i in Area_Address[0:20]:\n",
    "    add=i.text\n",
    "    Address.append(add) \n",
    "    \n",
    "House_Price=driver.find_elements(By.XPATH,'//div[@class=\"h4 text-primary mb-0\"]')\n",
    "for i in House_Price[0:20]:\n",
    "    price=i.text\n",
    "    Price.append(price)\n",
    "    \n",
    "Squre=driver.find_elements(By.XPATH,'//div[@class=\"text-muted\"]')\n",
    "for i in Squre[0:20]:\n",
    "    squre=i.text\n",
    "    Squre_fit.append(squre)"
   ]
  },
  {
   "cell_type": "code",
   "execution_count": null,
   "id": "34d4a0e6",
   "metadata": {},
   "outputs": [],
   "source": [
    "print(len(Address),len(Squre_fit),len(Price))"
   ]
  },
  {
   "cell_type": "code",
   "execution_count": 122,
   "id": "55b8dd76",
   "metadata": {},
   "outputs": [
    {
     "data": {
      "text/html": [
       "<div>\n",
       "<style scoped>\n",
       "    .dataframe tbody tr th:only-of-type {\n",
       "        vertical-align: middle;\n",
       "    }\n",
       "\n",
       "    .dataframe tbody tr th {\n",
       "        vertical-align: top;\n",
       "    }\n",
       "\n",
       "    .dataframe thead th {\n",
       "        text-align: right;\n",
       "    }\n",
       "</style>\n",
       "<table border=\"1\" class=\"dataframe\">\n",
       "  <thead>\n",
       "    <tr style=\"text-align: right;\">\n",
       "      <th></th>\n",
       "      <th>Address</th>\n",
       "      <th>Price</th>\n",
       "      <th>Squr</th>\n",
       "    </tr>\n",
       "  </thead>\n",
       "  <tbody>\n",
       "  </tbody>\n",
       "</table>\n",
       "</div>"
      ],
      "text/plain": [
       "Empty DataFrame\n",
       "Columns: [Address, Price, Squr]\n",
       "Index: []"
      ]
     },
     "execution_count": 122,
     "metadata": {},
     "output_type": "execute_result"
    }
   ],
   "source": [
    "import pandas as pd\n",
    "df=pd.DataFrame({'Address':Address, 'Price':Price, 'Squr':Squre_fit})\n",
    "df"
   ]
  },
  {
   "cell_type": "code",
   "execution_count": null,
   "id": "2af8a29c",
   "metadata": {},
   "outputs": [],
   "source": []
  },
  {
   "cell_type": "code",
   "execution_count": 123,
   "id": "dfc6cf5c",
   "metadata": {},
   "outputs": [
    {
     "ename": "NoSuchElementException",
     "evalue": "Message: no such element: Unable to locate element: {\"method\":\"xpath\",\"selector\":\"/html/body/div/div/div/section/div[1]/div[4]/div[1]/div[3]/nav/ul/li[7]/a\"}\n  (Session info: chrome=122.0.6261.69); For documentation on this error, please visit: https://www.selenium.dev/documentation/webdriver/troubleshooting/errors#no-such-element-exception\nStacktrace:\n\tGetHandleVerifier [0x00007FF7E2094C82+3505170]\n\t(No symbol) [0x00007FF7E1CC0852]\n\t(No symbol) [0x00007FF7E1B74145]\n\t(No symbol) [0x00007FF7E1BB9ADD]\n\t(No symbol) [0x00007FF7E1BB9C1C]\n\t(No symbol) [0x00007FF7E1BFAB27]\n\t(No symbol) [0x00007FF7E1BDBECF]\n\t(No symbol) [0x00007FF7E1BF83B2]\n\t(No symbol) [0x00007FF7E1BDBC33]\n\t(No symbol) [0x00007FF7E1BAD618]\n\t(No symbol) [0x00007FF7E1BAE6B1]\n\tGetHandleVerifier [0x00007FF7E20C67DD+3708781]\n\tGetHandleVerifier [0x00007FF7E211FC5D+4074477]\n\tGetHandleVerifier [0x00007FF7E2117DDF+4042095]\n\tGetHandleVerifier [0x00007FF7E1DEA136+708806]\n\t(No symbol) [0x00007FF7E1CCCB0F]\n\t(No symbol) [0x00007FF7E1CC7D14]\n\t(No symbol) [0x00007FF7E1CC7E6C]\n\t(No symbol) [0x00007FF7E1CB79A4]\n\tBaseThreadInitThunk [0x00007FFC747B257D+29]\n\tRtlUserThreadStart [0x00007FFC75D2AA58+40]\n",
     "output_type": "error",
     "traceback": [
      "\u001b[1;31m---------------------------------------------------------------------------\u001b[0m",
      "\u001b[1;31mNoSuchElementException\u001b[0m                    Traceback (most recent call last)",
      "\u001b[1;32m~\\AppData\\Local\\Temp\\ipykernel_7720\\521328193.py\u001b[0m in \u001b[0;36m<module>\u001b[1;34m\u001b[0m\n\u001b[0;32m      1\u001b[0m \u001b[1;31m#page 83\u001b[0m\u001b[1;33m\u001b[0m\u001b[1;33m\u001b[0m\u001b[0m\n\u001b[1;32m----> 2\u001b[1;33m \u001b[0mNext_button\u001b[0m\u001b[1;33m=\u001b[0m\u001b[0mdriver\u001b[0m\u001b[1;33m.\u001b[0m\u001b[0mfind_element\u001b[0m\u001b[1;33m(\u001b[0m\u001b[0mBy\u001b[0m\u001b[1;33m.\u001b[0m\u001b[0mXPATH\u001b[0m\u001b[1;33m,\u001b[0m\u001b[1;34m\"/html/body/div/div/div/section/div[1]/div[4]/div[1]/div[3]/nav/ul/li[7]/a\"\u001b[0m\u001b[1;33m)\u001b[0m\u001b[1;33m\u001b[0m\u001b[1;33m\u001b[0m\u001b[0m\n\u001b[0m\u001b[0;32m      3\u001b[0m \u001b[0mNext_button\u001b[0m\u001b[1;33m.\u001b[0m\u001b[0mclick\u001b[0m\u001b[1;33m(\u001b[0m\u001b[1;33m)\u001b[0m\u001b[1;33m\u001b[0m\u001b[1;33m\u001b[0m\u001b[0m\n",
      "\u001b[1;32m~\\anaconda3\\lib\\site-packages\\selenium\\webdriver\\remote\\webdriver.py\u001b[0m in \u001b[0;36mfind_element\u001b[1;34m(self, by, value)\u001b[0m\n\u001b[0;32m    736\u001b[0m             \u001b[0mvalue\u001b[0m \u001b[1;33m=\u001b[0m \u001b[1;34mf'[name=\"{value}\"]'\u001b[0m\u001b[1;33m\u001b[0m\u001b[1;33m\u001b[0m\u001b[0m\n\u001b[0;32m    737\u001b[0m \u001b[1;33m\u001b[0m\u001b[0m\n\u001b[1;32m--> 738\u001b[1;33m         \u001b[1;32mreturn\u001b[0m \u001b[0mself\u001b[0m\u001b[1;33m.\u001b[0m\u001b[0mexecute\u001b[0m\u001b[1;33m(\u001b[0m\u001b[0mCommand\u001b[0m\u001b[1;33m.\u001b[0m\u001b[0mFIND_ELEMENT\u001b[0m\u001b[1;33m,\u001b[0m \u001b[1;33m{\u001b[0m\u001b[1;34m\"using\"\u001b[0m\u001b[1;33m:\u001b[0m \u001b[0mby\u001b[0m\u001b[1;33m,\u001b[0m \u001b[1;34m\"value\"\u001b[0m\u001b[1;33m:\u001b[0m \u001b[0mvalue\u001b[0m\u001b[1;33m}\u001b[0m\u001b[1;33m)\u001b[0m\u001b[1;33m[\u001b[0m\u001b[1;34m\"value\"\u001b[0m\u001b[1;33m]\u001b[0m\u001b[1;33m\u001b[0m\u001b[1;33m\u001b[0m\u001b[0m\n\u001b[0m\u001b[0;32m    739\u001b[0m \u001b[1;33m\u001b[0m\u001b[0m\n\u001b[0;32m    740\u001b[0m     \u001b[1;32mdef\u001b[0m \u001b[0mfind_elements\u001b[0m\u001b[1;33m(\u001b[0m\u001b[0mself\u001b[0m\u001b[1;33m,\u001b[0m \u001b[0mby\u001b[0m\u001b[1;33m=\u001b[0m\u001b[0mBy\u001b[0m\u001b[1;33m.\u001b[0m\u001b[0mID\u001b[0m\u001b[1;33m,\u001b[0m \u001b[0mvalue\u001b[0m\u001b[1;33m:\u001b[0m \u001b[0mOptional\u001b[0m\u001b[1;33m[\u001b[0m\u001b[0mstr\u001b[0m\u001b[1;33m]\u001b[0m \u001b[1;33m=\u001b[0m \u001b[1;32mNone\u001b[0m\u001b[1;33m)\u001b[0m \u001b[1;33m->\u001b[0m \u001b[0mList\u001b[0m\u001b[1;33m[\u001b[0m\u001b[0mWebElement\u001b[0m\u001b[1;33m]\u001b[0m\u001b[1;33m:\u001b[0m\u001b[1;33m\u001b[0m\u001b[1;33m\u001b[0m\u001b[0m\n",
      "\u001b[1;32m~\\anaconda3\\lib\\site-packages\\selenium\\webdriver\\remote\\webdriver.py\u001b[0m in \u001b[0;36mexecute\u001b[1;34m(self, driver_command, params)\u001b[0m\n\u001b[0;32m    342\u001b[0m         \u001b[0mresponse\u001b[0m \u001b[1;33m=\u001b[0m \u001b[0mself\u001b[0m\u001b[1;33m.\u001b[0m\u001b[0mcommand_executor\u001b[0m\u001b[1;33m.\u001b[0m\u001b[0mexecute\u001b[0m\u001b[1;33m(\u001b[0m\u001b[0mdriver_command\u001b[0m\u001b[1;33m,\u001b[0m \u001b[0mparams\u001b[0m\u001b[1;33m)\u001b[0m\u001b[1;33m\u001b[0m\u001b[1;33m\u001b[0m\u001b[0m\n\u001b[0;32m    343\u001b[0m         \u001b[1;32mif\u001b[0m \u001b[0mresponse\u001b[0m\u001b[1;33m:\u001b[0m\u001b[1;33m\u001b[0m\u001b[1;33m\u001b[0m\u001b[0m\n\u001b[1;32m--> 344\u001b[1;33m             \u001b[0mself\u001b[0m\u001b[1;33m.\u001b[0m\u001b[0merror_handler\u001b[0m\u001b[1;33m.\u001b[0m\u001b[0mcheck_response\u001b[0m\u001b[1;33m(\u001b[0m\u001b[0mresponse\u001b[0m\u001b[1;33m)\u001b[0m\u001b[1;33m\u001b[0m\u001b[1;33m\u001b[0m\u001b[0m\n\u001b[0m\u001b[0;32m    345\u001b[0m             \u001b[0mresponse\u001b[0m\u001b[1;33m[\u001b[0m\u001b[1;34m\"value\"\u001b[0m\u001b[1;33m]\u001b[0m \u001b[1;33m=\u001b[0m \u001b[0mself\u001b[0m\u001b[1;33m.\u001b[0m\u001b[0m_unwrap_value\u001b[0m\u001b[1;33m(\u001b[0m\u001b[0mresponse\u001b[0m\u001b[1;33m.\u001b[0m\u001b[0mget\u001b[0m\u001b[1;33m(\u001b[0m\u001b[1;34m\"value\"\u001b[0m\u001b[1;33m,\u001b[0m \u001b[1;32mNone\u001b[0m\u001b[1;33m)\u001b[0m\u001b[1;33m)\u001b[0m\u001b[1;33m\u001b[0m\u001b[1;33m\u001b[0m\u001b[0m\n\u001b[0;32m    346\u001b[0m             \u001b[1;32mreturn\u001b[0m \u001b[0mresponse\u001b[0m\u001b[1;33m\u001b[0m\u001b[1;33m\u001b[0m\u001b[0m\n",
      "\u001b[1;32m~\\anaconda3\\lib\\site-packages\\selenium\\webdriver\\remote\\errorhandler.py\u001b[0m in \u001b[0;36mcheck_response\u001b[1;34m(self, response)\u001b[0m\n\u001b[0;32m    227\u001b[0m                 \u001b[0malert_text\u001b[0m \u001b[1;33m=\u001b[0m \u001b[0mvalue\u001b[0m\u001b[1;33m[\u001b[0m\u001b[1;34m\"alert\"\u001b[0m\u001b[1;33m]\u001b[0m\u001b[1;33m.\u001b[0m\u001b[0mget\u001b[0m\u001b[1;33m(\u001b[0m\u001b[1;34m\"text\"\u001b[0m\u001b[1;33m)\u001b[0m\u001b[1;33m\u001b[0m\u001b[1;33m\u001b[0m\u001b[0m\n\u001b[0;32m    228\u001b[0m             \u001b[1;32mraise\u001b[0m \u001b[0mexception_class\u001b[0m\u001b[1;33m(\u001b[0m\u001b[0mmessage\u001b[0m\u001b[1;33m,\u001b[0m \u001b[0mscreen\u001b[0m\u001b[1;33m,\u001b[0m \u001b[0mstacktrace\u001b[0m\u001b[1;33m,\u001b[0m \u001b[0malert_text\u001b[0m\u001b[1;33m)\u001b[0m  \u001b[1;31m# type: ignore[call-arg]  # mypy is not smart enough here\u001b[0m\u001b[1;33m\u001b[0m\u001b[1;33m\u001b[0m\u001b[0m\n\u001b[1;32m--> 229\u001b[1;33m         \u001b[1;32mraise\u001b[0m \u001b[0mexception_class\u001b[0m\u001b[1;33m(\u001b[0m\u001b[0mmessage\u001b[0m\u001b[1;33m,\u001b[0m \u001b[0mscreen\u001b[0m\u001b[1;33m,\u001b[0m \u001b[0mstacktrace\u001b[0m\u001b[1;33m)\u001b[0m\u001b[1;33m\u001b[0m\u001b[1;33m\u001b[0m\u001b[0m\n\u001b[0m",
      "\u001b[1;31mNoSuchElementException\u001b[0m: Message: no such element: Unable to locate element: {\"method\":\"xpath\",\"selector\":\"/html/body/div/div/div/section/div[1]/div[4]/div[1]/div[3]/nav/ul/li[7]/a\"}\n  (Session info: chrome=122.0.6261.69); For documentation on this error, please visit: https://www.selenium.dev/documentation/webdriver/troubleshooting/errors#no-such-element-exception\nStacktrace:\n\tGetHandleVerifier [0x00007FF7E2094C82+3505170]\n\t(No symbol) [0x00007FF7E1CC0852]\n\t(No symbol) [0x00007FF7E1B74145]\n\t(No symbol) [0x00007FF7E1BB9ADD]\n\t(No symbol) [0x00007FF7E1BB9C1C]\n\t(No symbol) [0x00007FF7E1BFAB27]\n\t(No symbol) [0x00007FF7E1BDBECF]\n\t(No symbol) [0x00007FF7E1BF83B2]\n\t(No symbol) [0x00007FF7E1BDBC33]\n\t(No symbol) [0x00007FF7E1BAD618]\n\t(No symbol) [0x00007FF7E1BAE6B1]\n\tGetHandleVerifier [0x00007FF7E20C67DD+3708781]\n\tGetHandleVerifier [0x00007FF7E211FC5D+4074477]\n\tGetHandleVerifier [0x00007FF7E2117DDF+4042095]\n\tGetHandleVerifier [0x00007FF7E1DEA136+708806]\n\t(No symbol) [0x00007FF7E1CCCB0F]\n\t(No symbol) [0x00007FF7E1CC7D14]\n\t(No symbol) [0x00007FF7E1CC7E6C]\n\t(No symbol) [0x00007FF7E1CB79A4]\n\tBaseThreadInitThunk [0x00007FFC747B257D+29]\n\tRtlUserThreadStart [0x00007FFC75D2AA58+40]\n"
     ]
    }
   ],
   "source": [
    "#page 83\n",
    "Next_button=driver.find_element(By.XPATH,\"/html/body/div/div/div/section/div[1]/div[4]/div[1]/div[3]/nav/ul/li[7]/a\")\n",
    "Next_button.click()"
   ]
  },
  {
   "cell_type": "code",
   "execution_count": null,
   "id": "4ce84e0a",
   "metadata": {},
   "outputs": [],
   "source": [
    "Address=[]\n",
    "Price=[]\n",
    "Squre_fit=[]"
   ]
  },
  {
   "cell_type": "code",
   "execution_count": null,
   "id": "61f5323d",
   "metadata": {},
   "outputs": [],
   "source": [
    "Area_Address=driver.find_elements(By.XPATH,'//div[@class=\"addr-component\"]')\n",
    "for i in Area_Address[0:20]:\n",
    "    add=i.text\n",
    "    Address.append(add) \n",
    "    \n",
    "House_Price=driver.find_elements(By.XPATH,'//div[@class=\"h4 text-primary mb-0\"]')\n",
    "for i in House_Price[0:20]:\n",
    "    price=i.text\n",
    "    Price.append(price)\n",
    "    \n",
    "Squre=driver.find_elements(By.XPATH,'//div[@class=\"text-muted\"]')\n",
    "for i in Squre[0:20]:\n",
    "    squre=i.text\n",
    "    Squre_fit.append(squre)"
   ]
  },
  {
   "cell_type": "code",
   "execution_count": null,
   "id": "a8645d48",
   "metadata": {},
   "outputs": [],
   "source": [
    "print(len(Address),len(Squre_fit),len(Price))"
   ]
  },
  {
   "cell_type": "code",
   "execution_count": 124,
   "id": "3213efee",
   "metadata": {},
   "outputs": [
    {
     "data": {
      "text/html": [
       "<div>\n",
       "<style scoped>\n",
       "    .dataframe tbody tr th:only-of-type {\n",
       "        vertical-align: middle;\n",
       "    }\n",
       "\n",
       "    .dataframe tbody tr th {\n",
       "        vertical-align: top;\n",
       "    }\n",
       "\n",
       "    .dataframe thead th {\n",
       "        text-align: right;\n",
       "    }\n",
       "</style>\n",
       "<table border=\"1\" class=\"dataframe\">\n",
       "  <thead>\n",
       "    <tr style=\"text-align: right;\">\n",
       "      <th></th>\n",
       "      <th>Address</th>\n",
       "      <th>Price</th>\n",
       "      <th>Squr</th>\n",
       "    </tr>\n",
       "  </thead>\n",
       "  <tbody>\n",
       "  </tbody>\n",
       "</table>\n",
       "</div>"
      ],
      "text/plain": [
       "Empty DataFrame\n",
       "Columns: [Address, Price, Squr]\n",
       "Index: []"
      ]
     },
     "execution_count": 124,
     "metadata": {},
     "output_type": "execute_result"
    }
   ],
   "source": [
    "import pandas as pd\n",
    "df=pd.DataFrame({'Address':Address, 'Price':Price, 'Squr':Squre_fit})\n",
    "df"
   ]
  },
  {
   "cell_type": "code",
   "execution_count": 125,
   "id": "938bc424",
   "metadata": {},
   "outputs": [
    {
     "ename": "NoSuchElementException",
     "evalue": "Message: no such element: Unable to locate element: {\"method\":\"xpath\",\"selector\":\"/html/body/div/div/div/section/div[1]/div[4]/div[1]/div[3]/nav/ul/li[7]/a\"}\n  (Session info: chrome=122.0.6261.69); For documentation on this error, please visit: https://www.selenium.dev/documentation/webdriver/troubleshooting/errors#no-such-element-exception\nStacktrace:\n\tGetHandleVerifier [0x00007FF7E2094C82+3505170]\n\t(No symbol) [0x00007FF7E1CC0852]\n\t(No symbol) [0x00007FF7E1B74145]\n\t(No symbol) [0x00007FF7E1BB9ADD]\n\t(No symbol) [0x00007FF7E1BB9C1C]\n\t(No symbol) [0x00007FF7E1BFAB27]\n\t(No symbol) [0x00007FF7E1BDBECF]\n\t(No symbol) [0x00007FF7E1BF83B2]\n\t(No symbol) [0x00007FF7E1BDBC33]\n\t(No symbol) [0x00007FF7E1BAD618]\n\t(No symbol) [0x00007FF7E1BAE6B1]\n\tGetHandleVerifier [0x00007FF7E20C67DD+3708781]\n\tGetHandleVerifier [0x00007FF7E211FC5D+4074477]\n\tGetHandleVerifier [0x00007FF7E2117DDF+4042095]\n\tGetHandleVerifier [0x00007FF7E1DEA136+708806]\n\t(No symbol) [0x00007FF7E1CCCB0F]\n\t(No symbol) [0x00007FF7E1CC7D14]\n\t(No symbol) [0x00007FF7E1CC7E6C]\n\t(No symbol) [0x00007FF7E1CB79A4]\n\tBaseThreadInitThunk [0x00007FFC747B257D+29]\n\tRtlUserThreadStart [0x00007FFC75D2AA58+40]\n",
     "output_type": "error",
     "traceback": [
      "\u001b[1;31m---------------------------------------------------------------------------\u001b[0m",
      "\u001b[1;31mNoSuchElementException\u001b[0m                    Traceback (most recent call last)",
      "\u001b[1;32m~\\AppData\\Local\\Temp\\ipykernel_7720\\3009628113.py\u001b[0m in \u001b[0;36m<module>\u001b[1;34m\u001b[0m\n\u001b[0;32m      1\u001b[0m \u001b[1;31m#page 84\u001b[0m\u001b[1;33m\u001b[0m\u001b[1;33m\u001b[0m\u001b[0m\n\u001b[1;32m----> 2\u001b[1;33m \u001b[0mNext_button\u001b[0m\u001b[1;33m=\u001b[0m\u001b[0mdriver\u001b[0m\u001b[1;33m.\u001b[0m\u001b[0mfind_element\u001b[0m\u001b[1;33m(\u001b[0m\u001b[0mBy\u001b[0m\u001b[1;33m.\u001b[0m\u001b[0mXPATH\u001b[0m\u001b[1;33m,\u001b[0m\u001b[1;34m\"/html/body/div/div/div/section/div[1]/div[4]/div[1]/div[3]/nav/ul/li[7]/a\"\u001b[0m\u001b[1;33m)\u001b[0m\u001b[1;33m\u001b[0m\u001b[1;33m\u001b[0m\u001b[0m\n\u001b[0m\u001b[0;32m      3\u001b[0m \u001b[0mNext_button\u001b[0m\u001b[1;33m.\u001b[0m\u001b[0mclick\u001b[0m\u001b[1;33m(\u001b[0m\u001b[1;33m)\u001b[0m\u001b[1;33m\u001b[0m\u001b[1;33m\u001b[0m\u001b[0m\n",
      "\u001b[1;32m~\\anaconda3\\lib\\site-packages\\selenium\\webdriver\\remote\\webdriver.py\u001b[0m in \u001b[0;36mfind_element\u001b[1;34m(self, by, value)\u001b[0m\n\u001b[0;32m    736\u001b[0m             \u001b[0mvalue\u001b[0m \u001b[1;33m=\u001b[0m \u001b[1;34mf'[name=\"{value}\"]'\u001b[0m\u001b[1;33m\u001b[0m\u001b[1;33m\u001b[0m\u001b[0m\n\u001b[0;32m    737\u001b[0m \u001b[1;33m\u001b[0m\u001b[0m\n\u001b[1;32m--> 738\u001b[1;33m         \u001b[1;32mreturn\u001b[0m \u001b[0mself\u001b[0m\u001b[1;33m.\u001b[0m\u001b[0mexecute\u001b[0m\u001b[1;33m(\u001b[0m\u001b[0mCommand\u001b[0m\u001b[1;33m.\u001b[0m\u001b[0mFIND_ELEMENT\u001b[0m\u001b[1;33m,\u001b[0m \u001b[1;33m{\u001b[0m\u001b[1;34m\"using\"\u001b[0m\u001b[1;33m:\u001b[0m \u001b[0mby\u001b[0m\u001b[1;33m,\u001b[0m \u001b[1;34m\"value\"\u001b[0m\u001b[1;33m:\u001b[0m \u001b[0mvalue\u001b[0m\u001b[1;33m}\u001b[0m\u001b[1;33m)\u001b[0m\u001b[1;33m[\u001b[0m\u001b[1;34m\"value\"\u001b[0m\u001b[1;33m]\u001b[0m\u001b[1;33m\u001b[0m\u001b[1;33m\u001b[0m\u001b[0m\n\u001b[0m\u001b[0;32m    739\u001b[0m \u001b[1;33m\u001b[0m\u001b[0m\n\u001b[0;32m    740\u001b[0m     \u001b[1;32mdef\u001b[0m \u001b[0mfind_elements\u001b[0m\u001b[1;33m(\u001b[0m\u001b[0mself\u001b[0m\u001b[1;33m,\u001b[0m \u001b[0mby\u001b[0m\u001b[1;33m=\u001b[0m\u001b[0mBy\u001b[0m\u001b[1;33m.\u001b[0m\u001b[0mID\u001b[0m\u001b[1;33m,\u001b[0m \u001b[0mvalue\u001b[0m\u001b[1;33m:\u001b[0m \u001b[0mOptional\u001b[0m\u001b[1;33m[\u001b[0m\u001b[0mstr\u001b[0m\u001b[1;33m]\u001b[0m \u001b[1;33m=\u001b[0m \u001b[1;32mNone\u001b[0m\u001b[1;33m)\u001b[0m \u001b[1;33m->\u001b[0m \u001b[0mList\u001b[0m\u001b[1;33m[\u001b[0m\u001b[0mWebElement\u001b[0m\u001b[1;33m]\u001b[0m\u001b[1;33m:\u001b[0m\u001b[1;33m\u001b[0m\u001b[1;33m\u001b[0m\u001b[0m\n",
      "\u001b[1;32m~\\anaconda3\\lib\\site-packages\\selenium\\webdriver\\remote\\webdriver.py\u001b[0m in \u001b[0;36mexecute\u001b[1;34m(self, driver_command, params)\u001b[0m\n\u001b[0;32m    342\u001b[0m         \u001b[0mresponse\u001b[0m \u001b[1;33m=\u001b[0m \u001b[0mself\u001b[0m\u001b[1;33m.\u001b[0m\u001b[0mcommand_executor\u001b[0m\u001b[1;33m.\u001b[0m\u001b[0mexecute\u001b[0m\u001b[1;33m(\u001b[0m\u001b[0mdriver_command\u001b[0m\u001b[1;33m,\u001b[0m \u001b[0mparams\u001b[0m\u001b[1;33m)\u001b[0m\u001b[1;33m\u001b[0m\u001b[1;33m\u001b[0m\u001b[0m\n\u001b[0;32m    343\u001b[0m         \u001b[1;32mif\u001b[0m \u001b[0mresponse\u001b[0m\u001b[1;33m:\u001b[0m\u001b[1;33m\u001b[0m\u001b[1;33m\u001b[0m\u001b[0m\n\u001b[1;32m--> 344\u001b[1;33m             \u001b[0mself\u001b[0m\u001b[1;33m.\u001b[0m\u001b[0merror_handler\u001b[0m\u001b[1;33m.\u001b[0m\u001b[0mcheck_response\u001b[0m\u001b[1;33m(\u001b[0m\u001b[0mresponse\u001b[0m\u001b[1;33m)\u001b[0m\u001b[1;33m\u001b[0m\u001b[1;33m\u001b[0m\u001b[0m\n\u001b[0m\u001b[0;32m    345\u001b[0m             \u001b[0mresponse\u001b[0m\u001b[1;33m[\u001b[0m\u001b[1;34m\"value\"\u001b[0m\u001b[1;33m]\u001b[0m \u001b[1;33m=\u001b[0m \u001b[0mself\u001b[0m\u001b[1;33m.\u001b[0m\u001b[0m_unwrap_value\u001b[0m\u001b[1;33m(\u001b[0m\u001b[0mresponse\u001b[0m\u001b[1;33m.\u001b[0m\u001b[0mget\u001b[0m\u001b[1;33m(\u001b[0m\u001b[1;34m\"value\"\u001b[0m\u001b[1;33m,\u001b[0m \u001b[1;32mNone\u001b[0m\u001b[1;33m)\u001b[0m\u001b[1;33m)\u001b[0m\u001b[1;33m\u001b[0m\u001b[1;33m\u001b[0m\u001b[0m\n\u001b[0;32m    346\u001b[0m             \u001b[1;32mreturn\u001b[0m \u001b[0mresponse\u001b[0m\u001b[1;33m\u001b[0m\u001b[1;33m\u001b[0m\u001b[0m\n",
      "\u001b[1;32m~\\anaconda3\\lib\\site-packages\\selenium\\webdriver\\remote\\errorhandler.py\u001b[0m in \u001b[0;36mcheck_response\u001b[1;34m(self, response)\u001b[0m\n\u001b[0;32m    227\u001b[0m                 \u001b[0malert_text\u001b[0m \u001b[1;33m=\u001b[0m \u001b[0mvalue\u001b[0m\u001b[1;33m[\u001b[0m\u001b[1;34m\"alert\"\u001b[0m\u001b[1;33m]\u001b[0m\u001b[1;33m.\u001b[0m\u001b[0mget\u001b[0m\u001b[1;33m(\u001b[0m\u001b[1;34m\"text\"\u001b[0m\u001b[1;33m)\u001b[0m\u001b[1;33m\u001b[0m\u001b[1;33m\u001b[0m\u001b[0m\n\u001b[0;32m    228\u001b[0m             \u001b[1;32mraise\u001b[0m \u001b[0mexception_class\u001b[0m\u001b[1;33m(\u001b[0m\u001b[0mmessage\u001b[0m\u001b[1;33m,\u001b[0m \u001b[0mscreen\u001b[0m\u001b[1;33m,\u001b[0m \u001b[0mstacktrace\u001b[0m\u001b[1;33m,\u001b[0m \u001b[0malert_text\u001b[0m\u001b[1;33m)\u001b[0m  \u001b[1;31m# type: ignore[call-arg]  # mypy is not smart enough here\u001b[0m\u001b[1;33m\u001b[0m\u001b[1;33m\u001b[0m\u001b[0m\n\u001b[1;32m--> 229\u001b[1;33m         \u001b[1;32mraise\u001b[0m \u001b[0mexception_class\u001b[0m\u001b[1;33m(\u001b[0m\u001b[0mmessage\u001b[0m\u001b[1;33m,\u001b[0m \u001b[0mscreen\u001b[0m\u001b[1;33m,\u001b[0m \u001b[0mstacktrace\u001b[0m\u001b[1;33m)\u001b[0m\u001b[1;33m\u001b[0m\u001b[1;33m\u001b[0m\u001b[0m\n\u001b[0m",
      "\u001b[1;31mNoSuchElementException\u001b[0m: Message: no such element: Unable to locate element: {\"method\":\"xpath\",\"selector\":\"/html/body/div/div/div/section/div[1]/div[4]/div[1]/div[3]/nav/ul/li[7]/a\"}\n  (Session info: chrome=122.0.6261.69); For documentation on this error, please visit: https://www.selenium.dev/documentation/webdriver/troubleshooting/errors#no-such-element-exception\nStacktrace:\n\tGetHandleVerifier [0x00007FF7E2094C82+3505170]\n\t(No symbol) [0x00007FF7E1CC0852]\n\t(No symbol) [0x00007FF7E1B74145]\n\t(No symbol) [0x00007FF7E1BB9ADD]\n\t(No symbol) [0x00007FF7E1BB9C1C]\n\t(No symbol) [0x00007FF7E1BFAB27]\n\t(No symbol) [0x00007FF7E1BDBECF]\n\t(No symbol) [0x00007FF7E1BF83B2]\n\t(No symbol) [0x00007FF7E1BDBC33]\n\t(No symbol) [0x00007FF7E1BAD618]\n\t(No symbol) [0x00007FF7E1BAE6B1]\n\tGetHandleVerifier [0x00007FF7E20C67DD+3708781]\n\tGetHandleVerifier [0x00007FF7E211FC5D+4074477]\n\tGetHandleVerifier [0x00007FF7E2117DDF+4042095]\n\tGetHandleVerifier [0x00007FF7E1DEA136+708806]\n\t(No symbol) [0x00007FF7E1CCCB0F]\n\t(No symbol) [0x00007FF7E1CC7D14]\n\t(No symbol) [0x00007FF7E1CC7E6C]\n\t(No symbol) [0x00007FF7E1CB79A4]\n\tBaseThreadInitThunk [0x00007FFC747B257D+29]\n\tRtlUserThreadStart [0x00007FFC75D2AA58+40]\n"
     ]
    }
   ],
   "source": [
    "#page 84\n",
    "Next_button=driver.find_element(By.XPATH,\"/html/body/div/div/div/section/div[1]/div[4]/div[1]/div[3]/nav/ul/li[7]/a\")\n",
    "Next_button.click()"
   ]
  },
  {
   "cell_type": "code",
   "execution_count": null,
   "id": "9a4a252f",
   "metadata": {},
   "outputs": [],
   "source": [
    "Address=[]\n",
    "Price=[]\n",
    "Squre_fit=[]"
   ]
  },
  {
   "cell_type": "code",
   "execution_count": null,
   "id": "d0a0ae3d",
   "metadata": {},
   "outputs": [],
   "source": [
    "Area_Address=driver.find_elements(By.XPATH,'//div[@class=\"addr-component\"]')\n",
    "for i in Area_Address[0:20]:\n",
    "    add=i.text\n",
    "    Address.append(add) \n",
    "    \n",
    "House_Price=driver.find_elements(By.XPATH,'//div[@class=\"h4 text-primary mb-0\"]')\n",
    "for i in House_Price[0:20]:\n",
    "    price=i.text\n",
    "    Price.append(price)\n",
    "    \n",
    "Squre=driver.find_elements(By.XPATH,'//div[@class=\"text-muted\"]')\n",
    "for i in Squre[0:20]:\n",
    "    squre=i.text\n",
    "    Squre_fit.append(squre)"
   ]
  },
  {
   "cell_type": "code",
   "execution_count": null,
   "id": "0fb0c5bd",
   "metadata": {},
   "outputs": [],
   "source": [
    "print(len(Address),len(Squre_fit),len(Price))"
   ]
  },
  {
   "cell_type": "code",
   "execution_count": 126,
   "id": "0a348497",
   "metadata": {},
   "outputs": [
    {
     "data": {
      "text/html": [
       "<div>\n",
       "<style scoped>\n",
       "    .dataframe tbody tr th:only-of-type {\n",
       "        vertical-align: middle;\n",
       "    }\n",
       "\n",
       "    .dataframe tbody tr th {\n",
       "        vertical-align: top;\n",
       "    }\n",
       "\n",
       "    .dataframe thead th {\n",
       "        text-align: right;\n",
       "    }\n",
       "</style>\n",
       "<table border=\"1\" class=\"dataframe\">\n",
       "  <thead>\n",
       "    <tr style=\"text-align: right;\">\n",
       "      <th></th>\n",
       "      <th>Address</th>\n",
       "      <th>Price</th>\n",
       "      <th>Squr</th>\n",
       "    </tr>\n",
       "  </thead>\n",
       "  <tbody>\n",
       "  </tbody>\n",
       "</table>\n",
       "</div>"
      ],
      "text/plain": [
       "Empty DataFrame\n",
       "Columns: [Address, Price, Squr]\n",
       "Index: []"
      ]
     },
     "execution_count": 126,
     "metadata": {},
     "output_type": "execute_result"
    }
   ],
   "source": [
    "import pandas as pd\n",
    "df=pd.DataFrame({'Address':Address, 'Price':Price, 'Squr':Squre_fit})\n",
    "df"
   ]
  },
  {
   "cell_type": "code",
   "execution_count": 127,
   "id": "6e800e3b",
   "metadata": {},
   "outputs": [
    {
     "ename": "NoSuchElementException",
     "evalue": "Message: no such element: Unable to locate element: {\"method\":\"xpath\",\"selector\":\"/html/body/div/div/div/section/div[1]/div[4]/div[1]/div[3]/nav/ul/li[7]/a\"}\n  (Session info: chrome=122.0.6261.69); For documentation on this error, please visit: https://www.selenium.dev/documentation/webdriver/troubleshooting/errors#no-such-element-exception\nStacktrace:\n\tGetHandleVerifier [0x00007FF7E2094C82+3505170]\n\t(No symbol) [0x00007FF7E1CC0852]\n\t(No symbol) [0x00007FF7E1B74145]\n\t(No symbol) [0x00007FF7E1BB9ADD]\n\t(No symbol) [0x00007FF7E1BB9C1C]\n\t(No symbol) [0x00007FF7E1BFAB27]\n\t(No symbol) [0x00007FF7E1BDBECF]\n\t(No symbol) [0x00007FF7E1BF83B2]\n\t(No symbol) [0x00007FF7E1BDBC33]\n\t(No symbol) [0x00007FF7E1BAD618]\n\t(No symbol) [0x00007FF7E1BAE6B1]\n\tGetHandleVerifier [0x00007FF7E20C67DD+3708781]\n\tGetHandleVerifier [0x00007FF7E211FC5D+4074477]\n\tGetHandleVerifier [0x00007FF7E2117DDF+4042095]\n\tGetHandleVerifier [0x00007FF7E1DEA136+708806]\n\t(No symbol) [0x00007FF7E1CCCB0F]\n\t(No symbol) [0x00007FF7E1CC7D14]\n\t(No symbol) [0x00007FF7E1CC7E6C]\n\t(No symbol) [0x00007FF7E1CB79A4]\n\tBaseThreadInitThunk [0x00007FFC747B257D+29]\n\tRtlUserThreadStart [0x00007FFC75D2AA58+40]\n",
     "output_type": "error",
     "traceback": [
      "\u001b[1;31m---------------------------------------------------------------------------\u001b[0m",
      "\u001b[1;31mNoSuchElementException\u001b[0m                    Traceback (most recent call last)",
      "\u001b[1;32m~\\AppData\\Local\\Temp\\ipykernel_7720\\2062911827.py\u001b[0m in \u001b[0;36m<module>\u001b[1;34m\u001b[0m\n\u001b[0;32m      1\u001b[0m \u001b[1;31m#page 85\u001b[0m\u001b[1;33m\u001b[0m\u001b[1;33m\u001b[0m\u001b[0m\n\u001b[1;32m----> 2\u001b[1;33m \u001b[0mNext_button\u001b[0m\u001b[1;33m=\u001b[0m\u001b[0mdriver\u001b[0m\u001b[1;33m.\u001b[0m\u001b[0mfind_element\u001b[0m\u001b[1;33m(\u001b[0m\u001b[0mBy\u001b[0m\u001b[1;33m.\u001b[0m\u001b[0mXPATH\u001b[0m\u001b[1;33m,\u001b[0m\u001b[1;34m\"/html/body/div/div/div/section/div[1]/div[4]/div[1]/div[3]/nav/ul/li[7]/a\"\u001b[0m\u001b[1;33m)\u001b[0m\u001b[1;33m\u001b[0m\u001b[1;33m\u001b[0m\u001b[0m\n\u001b[0m\u001b[0;32m      3\u001b[0m \u001b[0mNext_button\u001b[0m\u001b[1;33m.\u001b[0m\u001b[0mclick\u001b[0m\u001b[1;33m(\u001b[0m\u001b[1;33m)\u001b[0m\u001b[1;33m\u001b[0m\u001b[1;33m\u001b[0m\u001b[0m\n",
      "\u001b[1;32m~\\anaconda3\\lib\\site-packages\\selenium\\webdriver\\remote\\webdriver.py\u001b[0m in \u001b[0;36mfind_element\u001b[1;34m(self, by, value)\u001b[0m\n\u001b[0;32m    736\u001b[0m             \u001b[0mvalue\u001b[0m \u001b[1;33m=\u001b[0m \u001b[1;34mf'[name=\"{value}\"]'\u001b[0m\u001b[1;33m\u001b[0m\u001b[1;33m\u001b[0m\u001b[0m\n\u001b[0;32m    737\u001b[0m \u001b[1;33m\u001b[0m\u001b[0m\n\u001b[1;32m--> 738\u001b[1;33m         \u001b[1;32mreturn\u001b[0m \u001b[0mself\u001b[0m\u001b[1;33m.\u001b[0m\u001b[0mexecute\u001b[0m\u001b[1;33m(\u001b[0m\u001b[0mCommand\u001b[0m\u001b[1;33m.\u001b[0m\u001b[0mFIND_ELEMENT\u001b[0m\u001b[1;33m,\u001b[0m \u001b[1;33m{\u001b[0m\u001b[1;34m\"using\"\u001b[0m\u001b[1;33m:\u001b[0m \u001b[0mby\u001b[0m\u001b[1;33m,\u001b[0m \u001b[1;34m\"value\"\u001b[0m\u001b[1;33m:\u001b[0m \u001b[0mvalue\u001b[0m\u001b[1;33m}\u001b[0m\u001b[1;33m)\u001b[0m\u001b[1;33m[\u001b[0m\u001b[1;34m\"value\"\u001b[0m\u001b[1;33m]\u001b[0m\u001b[1;33m\u001b[0m\u001b[1;33m\u001b[0m\u001b[0m\n\u001b[0m\u001b[0;32m    739\u001b[0m \u001b[1;33m\u001b[0m\u001b[0m\n\u001b[0;32m    740\u001b[0m     \u001b[1;32mdef\u001b[0m \u001b[0mfind_elements\u001b[0m\u001b[1;33m(\u001b[0m\u001b[0mself\u001b[0m\u001b[1;33m,\u001b[0m \u001b[0mby\u001b[0m\u001b[1;33m=\u001b[0m\u001b[0mBy\u001b[0m\u001b[1;33m.\u001b[0m\u001b[0mID\u001b[0m\u001b[1;33m,\u001b[0m \u001b[0mvalue\u001b[0m\u001b[1;33m:\u001b[0m \u001b[0mOptional\u001b[0m\u001b[1;33m[\u001b[0m\u001b[0mstr\u001b[0m\u001b[1;33m]\u001b[0m \u001b[1;33m=\u001b[0m \u001b[1;32mNone\u001b[0m\u001b[1;33m)\u001b[0m \u001b[1;33m->\u001b[0m \u001b[0mList\u001b[0m\u001b[1;33m[\u001b[0m\u001b[0mWebElement\u001b[0m\u001b[1;33m]\u001b[0m\u001b[1;33m:\u001b[0m\u001b[1;33m\u001b[0m\u001b[1;33m\u001b[0m\u001b[0m\n",
      "\u001b[1;32m~\\anaconda3\\lib\\site-packages\\selenium\\webdriver\\remote\\webdriver.py\u001b[0m in \u001b[0;36mexecute\u001b[1;34m(self, driver_command, params)\u001b[0m\n\u001b[0;32m    342\u001b[0m         \u001b[0mresponse\u001b[0m \u001b[1;33m=\u001b[0m \u001b[0mself\u001b[0m\u001b[1;33m.\u001b[0m\u001b[0mcommand_executor\u001b[0m\u001b[1;33m.\u001b[0m\u001b[0mexecute\u001b[0m\u001b[1;33m(\u001b[0m\u001b[0mdriver_command\u001b[0m\u001b[1;33m,\u001b[0m \u001b[0mparams\u001b[0m\u001b[1;33m)\u001b[0m\u001b[1;33m\u001b[0m\u001b[1;33m\u001b[0m\u001b[0m\n\u001b[0;32m    343\u001b[0m         \u001b[1;32mif\u001b[0m \u001b[0mresponse\u001b[0m\u001b[1;33m:\u001b[0m\u001b[1;33m\u001b[0m\u001b[1;33m\u001b[0m\u001b[0m\n\u001b[1;32m--> 344\u001b[1;33m             \u001b[0mself\u001b[0m\u001b[1;33m.\u001b[0m\u001b[0merror_handler\u001b[0m\u001b[1;33m.\u001b[0m\u001b[0mcheck_response\u001b[0m\u001b[1;33m(\u001b[0m\u001b[0mresponse\u001b[0m\u001b[1;33m)\u001b[0m\u001b[1;33m\u001b[0m\u001b[1;33m\u001b[0m\u001b[0m\n\u001b[0m\u001b[0;32m    345\u001b[0m             \u001b[0mresponse\u001b[0m\u001b[1;33m[\u001b[0m\u001b[1;34m\"value\"\u001b[0m\u001b[1;33m]\u001b[0m \u001b[1;33m=\u001b[0m \u001b[0mself\u001b[0m\u001b[1;33m.\u001b[0m\u001b[0m_unwrap_value\u001b[0m\u001b[1;33m(\u001b[0m\u001b[0mresponse\u001b[0m\u001b[1;33m.\u001b[0m\u001b[0mget\u001b[0m\u001b[1;33m(\u001b[0m\u001b[1;34m\"value\"\u001b[0m\u001b[1;33m,\u001b[0m \u001b[1;32mNone\u001b[0m\u001b[1;33m)\u001b[0m\u001b[1;33m)\u001b[0m\u001b[1;33m\u001b[0m\u001b[1;33m\u001b[0m\u001b[0m\n\u001b[0;32m    346\u001b[0m             \u001b[1;32mreturn\u001b[0m \u001b[0mresponse\u001b[0m\u001b[1;33m\u001b[0m\u001b[1;33m\u001b[0m\u001b[0m\n",
      "\u001b[1;32m~\\anaconda3\\lib\\site-packages\\selenium\\webdriver\\remote\\errorhandler.py\u001b[0m in \u001b[0;36mcheck_response\u001b[1;34m(self, response)\u001b[0m\n\u001b[0;32m    227\u001b[0m                 \u001b[0malert_text\u001b[0m \u001b[1;33m=\u001b[0m \u001b[0mvalue\u001b[0m\u001b[1;33m[\u001b[0m\u001b[1;34m\"alert\"\u001b[0m\u001b[1;33m]\u001b[0m\u001b[1;33m.\u001b[0m\u001b[0mget\u001b[0m\u001b[1;33m(\u001b[0m\u001b[1;34m\"text\"\u001b[0m\u001b[1;33m)\u001b[0m\u001b[1;33m\u001b[0m\u001b[1;33m\u001b[0m\u001b[0m\n\u001b[0;32m    228\u001b[0m             \u001b[1;32mraise\u001b[0m \u001b[0mexception_class\u001b[0m\u001b[1;33m(\u001b[0m\u001b[0mmessage\u001b[0m\u001b[1;33m,\u001b[0m \u001b[0mscreen\u001b[0m\u001b[1;33m,\u001b[0m \u001b[0mstacktrace\u001b[0m\u001b[1;33m,\u001b[0m \u001b[0malert_text\u001b[0m\u001b[1;33m)\u001b[0m  \u001b[1;31m# type: ignore[call-arg]  # mypy is not smart enough here\u001b[0m\u001b[1;33m\u001b[0m\u001b[1;33m\u001b[0m\u001b[0m\n\u001b[1;32m--> 229\u001b[1;33m         \u001b[1;32mraise\u001b[0m \u001b[0mexception_class\u001b[0m\u001b[1;33m(\u001b[0m\u001b[0mmessage\u001b[0m\u001b[1;33m,\u001b[0m \u001b[0mscreen\u001b[0m\u001b[1;33m,\u001b[0m \u001b[0mstacktrace\u001b[0m\u001b[1;33m)\u001b[0m\u001b[1;33m\u001b[0m\u001b[1;33m\u001b[0m\u001b[0m\n\u001b[0m",
      "\u001b[1;31mNoSuchElementException\u001b[0m: Message: no such element: Unable to locate element: {\"method\":\"xpath\",\"selector\":\"/html/body/div/div/div/section/div[1]/div[4]/div[1]/div[3]/nav/ul/li[7]/a\"}\n  (Session info: chrome=122.0.6261.69); For documentation on this error, please visit: https://www.selenium.dev/documentation/webdriver/troubleshooting/errors#no-such-element-exception\nStacktrace:\n\tGetHandleVerifier [0x00007FF7E2094C82+3505170]\n\t(No symbol) [0x00007FF7E1CC0852]\n\t(No symbol) [0x00007FF7E1B74145]\n\t(No symbol) [0x00007FF7E1BB9ADD]\n\t(No symbol) [0x00007FF7E1BB9C1C]\n\t(No symbol) [0x00007FF7E1BFAB27]\n\t(No symbol) [0x00007FF7E1BDBECF]\n\t(No symbol) [0x00007FF7E1BF83B2]\n\t(No symbol) [0x00007FF7E1BDBC33]\n\t(No symbol) [0x00007FF7E1BAD618]\n\t(No symbol) [0x00007FF7E1BAE6B1]\n\tGetHandleVerifier [0x00007FF7E20C67DD+3708781]\n\tGetHandleVerifier [0x00007FF7E211FC5D+4074477]\n\tGetHandleVerifier [0x00007FF7E2117DDF+4042095]\n\tGetHandleVerifier [0x00007FF7E1DEA136+708806]\n\t(No symbol) [0x00007FF7E1CCCB0F]\n\t(No symbol) [0x00007FF7E1CC7D14]\n\t(No symbol) [0x00007FF7E1CC7E6C]\n\t(No symbol) [0x00007FF7E1CB79A4]\n\tBaseThreadInitThunk [0x00007FFC747B257D+29]\n\tRtlUserThreadStart [0x00007FFC75D2AA58+40]\n"
     ]
    }
   ],
   "source": [
    "#page 85\n",
    "Next_button=driver.find_element(By.XPATH,\"/html/body/div/div/div/section/div[1]/div[4]/div[1]/div[3]/nav/ul/li[7]/a\")\n",
    "Next_button.click()"
   ]
  },
  {
   "cell_type": "code",
   "execution_count": null,
   "id": "9e742803",
   "metadata": {},
   "outputs": [],
   "source": [
    "Address=[]\n",
    "Price=[]\n",
    "Squre_fit=[]"
   ]
  },
  {
   "cell_type": "code",
   "execution_count": null,
   "id": "13242c0e",
   "metadata": {},
   "outputs": [],
   "source": [
    "Area_Address=driver.find_elements(By.XPATH,'//div[@class=\"addr-component\"]')\n",
    "for i in Area_Address[0:20]:\n",
    "    add=i.text\n",
    "    Address.append(add) \n",
    "    \n",
    "House_Price=driver.find_elements(By.XPATH,'//div[@class=\"h4 text-primary mb-0\"]')\n",
    "for i in House_Price[0:20]:\n",
    "    price=i.text\n",
    "    Price.append(price)\n",
    "    \n",
    "Squre=driver.find_elements(By.XPATH,'//div[@class=\"text-muted\"]')\n",
    "for i in Squre[0:20]:\n",
    "    squre=i.text\n",
    "    Squre_fit.append(squre)"
   ]
  },
  {
   "cell_type": "code",
   "execution_count": null,
   "id": "5846f4d1",
   "metadata": {},
   "outputs": [],
   "source": [
    "print(len(Address),len(Squre_fit),len(Price))"
   ]
  },
  {
   "cell_type": "code",
   "execution_count": null,
   "id": "f78847e3",
   "metadata": {},
   "outputs": [],
   "source": [
    "import pandas as pd\n",
    "df=pd.DataFrame({'Address':Address, 'Price':Price, 'Squr':Squre_fit})\n",
    "df"
   ]
  },
  {
   "cell_type": "code",
   "execution_count": 128,
   "id": "a1fb47b2",
   "metadata": {},
   "outputs": [
    {
     "ename": "NoSuchElementException",
     "evalue": "Message: no such element: Unable to locate element: {\"method\":\"xpath\",\"selector\":\"/html/body/div/div/div/section/div[1]/div[4]/div[1]/div[3]/nav/ul/li[7]/a\"}\n  (Session info: chrome=122.0.6261.69); For documentation on this error, please visit: https://www.selenium.dev/documentation/webdriver/troubleshooting/errors#no-such-element-exception\nStacktrace:\n\tGetHandleVerifier [0x00007FF7E2094C82+3505170]\n\t(No symbol) [0x00007FF7E1CC0852]\n\t(No symbol) [0x00007FF7E1B74145]\n\t(No symbol) [0x00007FF7E1BB9ADD]\n\t(No symbol) [0x00007FF7E1BB9C1C]\n\t(No symbol) [0x00007FF7E1BFAB27]\n\t(No symbol) [0x00007FF7E1BDBECF]\n\t(No symbol) [0x00007FF7E1BF83B2]\n\t(No symbol) [0x00007FF7E1BDBC33]\n\t(No symbol) [0x00007FF7E1BAD618]\n\t(No symbol) [0x00007FF7E1BAE6B1]\n\tGetHandleVerifier [0x00007FF7E20C67DD+3708781]\n\tGetHandleVerifier [0x00007FF7E211FC5D+4074477]\n\tGetHandleVerifier [0x00007FF7E2117DDF+4042095]\n\tGetHandleVerifier [0x00007FF7E1DEA136+708806]\n\t(No symbol) [0x00007FF7E1CCCB0F]\n\t(No symbol) [0x00007FF7E1CC7D14]\n\t(No symbol) [0x00007FF7E1CC7E6C]\n\t(No symbol) [0x00007FF7E1CB79A4]\n\tBaseThreadInitThunk [0x00007FFC747B257D+29]\n\tRtlUserThreadStart [0x00007FFC75D2AA58+40]\n",
     "output_type": "error",
     "traceback": [
      "\u001b[1;31m---------------------------------------------------------------------------\u001b[0m",
      "\u001b[1;31mNoSuchElementException\u001b[0m                    Traceback (most recent call last)",
      "\u001b[1;32m~\\AppData\\Local\\Temp\\ipykernel_7720\\3655589279.py\u001b[0m in \u001b[0;36m<module>\u001b[1;34m\u001b[0m\n\u001b[0;32m      1\u001b[0m \u001b[1;31m#page 86\u001b[0m\u001b[1;33m\u001b[0m\u001b[1;33m\u001b[0m\u001b[0m\n\u001b[1;32m----> 2\u001b[1;33m \u001b[0mNext_button\u001b[0m\u001b[1;33m=\u001b[0m\u001b[0mdriver\u001b[0m\u001b[1;33m.\u001b[0m\u001b[0mfind_element\u001b[0m\u001b[1;33m(\u001b[0m\u001b[0mBy\u001b[0m\u001b[1;33m.\u001b[0m\u001b[0mXPATH\u001b[0m\u001b[1;33m,\u001b[0m\u001b[1;34m\"/html/body/div/div/div/section/div[1]/div[4]/div[1]/div[3]/nav/ul/li[7]/a\"\u001b[0m\u001b[1;33m)\u001b[0m\u001b[1;33m\u001b[0m\u001b[1;33m\u001b[0m\u001b[0m\n\u001b[0m\u001b[0;32m      3\u001b[0m \u001b[0mNext_button\u001b[0m\u001b[1;33m.\u001b[0m\u001b[0mclick\u001b[0m\u001b[1;33m(\u001b[0m\u001b[1;33m)\u001b[0m\u001b[1;33m\u001b[0m\u001b[1;33m\u001b[0m\u001b[0m\n",
      "\u001b[1;32m~\\anaconda3\\lib\\site-packages\\selenium\\webdriver\\remote\\webdriver.py\u001b[0m in \u001b[0;36mfind_element\u001b[1;34m(self, by, value)\u001b[0m\n\u001b[0;32m    736\u001b[0m             \u001b[0mvalue\u001b[0m \u001b[1;33m=\u001b[0m \u001b[1;34mf'[name=\"{value}\"]'\u001b[0m\u001b[1;33m\u001b[0m\u001b[1;33m\u001b[0m\u001b[0m\n\u001b[0;32m    737\u001b[0m \u001b[1;33m\u001b[0m\u001b[0m\n\u001b[1;32m--> 738\u001b[1;33m         \u001b[1;32mreturn\u001b[0m \u001b[0mself\u001b[0m\u001b[1;33m.\u001b[0m\u001b[0mexecute\u001b[0m\u001b[1;33m(\u001b[0m\u001b[0mCommand\u001b[0m\u001b[1;33m.\u001b[0m\u001b[0mFIND_ELEMENT\u001b[0m\u001b[1;33m,\u001b[0m \u001b[1;33m{\u001b[0m\u001b[1;34m\"using\"\u001b[0m\u001b[1;33m:\u001b[0m \u001b[0mby\u001b[0m\u001b[1;33m,\u001b[0m \u001b[1;34m\"value\"\u001b[0m\u001b[1;33m:\u001b[0m \u001b[0mvalue\u001b[0m\u001b[1;33m}\u001b[0m\u001b[1;33m)\u001b[0m\u001b[1;33m[\u001b[0m\u001b[1;34m\"value\"\u001b[0m\u001b[1;33m]\u001b[0m\u001b[1;33m\u001b[0m\u001b[1;33m\u001b[0m\u001b[0m\n\u001b[0m\u001b[0;32m    739\u001b[0m \u001b[1;33m\u001b[0m\u001b[0m\n\u001b[0;32m    740\u001b[0m     \u001b[1;32mdef\u001b[0m \u001b[0mfind_elements\u001b[0m\u001b[1;33m(\u001b[0m\u001b[0mself\u001b[0m\u001b[1;33m,\u001b[0m \u001b[0mby\u001b[0m\u001b[1;33m=\u001b[0m\u001b[0mBy\u001b[0m\u001b[1;33m.\u001b[0m\u001b[0mID\u001b[0m\u001b[1;33m,\u001b[0m \u001b[0mvalue\u001b[0m\u001b[1;33m:\u001b[0m \u001b[0mOptional\u001b[0m\u001b[1;33m[\u001b[0m\u001b[0mstr\u001b[0m\u001b[1;33m]\u001b[0m \u001b[1;33m=\u001b[0m \u001b[1;32mNone\u001b[0m\u001b[1;33m)\u001b[0m \u001b[1;33m->\u001b[0m \u001b[0mList\u001b[0m\u001b[1;33m[\u001b[0m\u001b[0mWebElement\u001b[0m\u001b[1;33m]\u001b[0m\u001b[1;33m:\u001b[0m\u001b[1;33m\u001b[0m\u001b[1;33m\u001b[0m\u001b[0m\n",
      "\u001b[1;32m~\\anaconda3\\lib\\site-packages\\selenium\\webdriver\\remote\\webdriver.py\u001b[0m in \u001b[0;36mexecute\u001b[1;34m(self, driver_command, params)\u001b[0m\n\u001b[0;32m    342\u001b[0m         \u001b[0mresponse\u001b[0m \u001b[1;33m=\u001b[0m \u001b[0mself\u001b[0m\u001b[1;33m.\u001b[0m\u001b[0mcommand_executor\u001b[0m\u001b[1;33m.\u001b[0m\u001b[0mexecute\u001b[0m\u001b[1;33m(\u001b[0m\u001b[0mdriver_command\u001b[0m\u001b[1;33m,\u001b[0m \u001b[0mparams\u001b[0m\u001b[1;33m)\u001b[0m\u001b[1;33m\u001b[0m\u001b[1;33m\u001b[0m\u001b[0m\n\u001b[0;32m    343\u001b[0m         \u001b[1;32mif\u001b[0m \u001b[0mresponse\u001b[0m\u001b[1;33m:\u001b[0m\u001b[1;33m\u001b[0m\u001b[1;33m\u001b[0m\u001b[0m\n\u001b[1;32m--> 344\u001b[1;33m             \u001b[0mself\u001b[0m\u001b[1;33m.\u001b[0m\u001b[0merror_handler\u001b[0m\u001b[1;33m.\u001b[0m\u001b[0mcheck_response\u001b[0m\u001b[1;33m(\u001b[0m\u001b[0mresponse\u001b[0m\u001b[1;33m)\u001b[0m\u001b[1;33m\u001b[0m\u001b[1;33m\u001b[0m\u001b[0m\n\u001b[0m\u001b[0;32m    345\u001b[0m             \u001b[0mresponse\u001b[0m\u001b[1;33m[\u001b[0m\u001b[1;34m\"value\"\u001b[0m\u001b[1;33m]\u001b[0m \u001b[1;33m=\u001b[0m \u001b[0mself\u001b[0m\u001b[1;33m.\u001b[0m\u001b[0m_unwrap_value\u001b[0m\u001b[1;33m(\u001b[0m\u001b[0mresponse\u001b[0m\u001b[1;33m.\u001b[0m\u001b[0mget\u001b[0m\u001b[1;33m(\u001b[0m\u001b[1;34m\"value\"\u001b[0m\u001b[1;33m,\u001b[0m \u001b[1;32mNone\u001b[0m\u001b[1;33m)\u001b[0m\u001b[1;33m)\u001b[0m\u001b[1;33m\u001b[0m\u001b[1;33m\u001b[0m\u001b[0m\n\u001b[0;32m    346\u001b[0m             \u001b[1;32mreturn\u001b[0m \u001b[0mresponse\u001b[0m\u001b[1;33m\u001b[0m\u001b[1;33m\u001b[0m\u001b[0m\n",
      "\u001b[1;32m~\\anaconda3\\lib\\site-packages\\selenium\\webdriver\\remote\\errorhandler.py\u001b[0m in \u001b[0;36mcheck_response\u001b[1;34m(self, response)\u001b[0m\n\u001b[0;32m    227\u001b[0m                 \u001b[0malert_text\u001b[0m \u001b[1;33m=\u001b[0m \u001b[0mvalue\u001b[0m\u001b[1;33m[\u001b[0m\u001b[1;34m\"alert\"\u001b[0m\u001b[1;33m]\u001b[0m\u001b[1;33m.\u001b[0m\u001b[0mget\u001b[0m\u001b[1;33m(\u001b[0m\u001b[1;34m\"text\"\u001b[0m\u001b[1;33m)\u001b[0m\u001b[1;33m\u001b[0m\u001b[1;33m\u001b[0m\u001b[0m\n\u001b[0;32m    228\u001b[0m             \u001b[1;32mraise\u001b[0m \u001b[0mexception_class\u001b[0m\u001b[1;33m(\u001b[0m\u001b[0mmessage\u001b[0m\u001b[1;33m,\u001b[0m \u001b[0mscreen\u001b[0m\u001b[1;33m,\u001b[0m \u001b[0mstacktrace\u001b[0m\u001b[1;33m,\u001b[0m \u001b[0malert_text\u001b[0m\u001b[1;33m)\u001b[0m  \u001b[1;31m# type: ignore[call-arg]  # mypy is not smart enough here\u001b[0m\u001b[1;33m\u001b[0m\u001b[1;33m\u001b[0m\u001b[0m\n\u001b[1;32m--> 229\u001b[1;33m         \u001b[1;32mraise\u001b[0m \u001b[0mexception_class\u001b[0m\u001b[1;33m(\u001b[0m\u001b[0mmessage\u001b[0m\u001b[1;33m,\u001b[0m \u001b[0mscreen\u001b[0m\u001b[1;33m,\u001b[0m \u001b[0mstacktrace\u001b[0m\u001b[1;33m)\u001b[0m\u001b[1;33m\u001b[0m\u001b[1;33m\u001b[0m\u001b[0m\n\u001b[0m",
      "\u001b[1;31mNoSuchElementException\u001b[0m: Message: no such element: Unable to locate element: {\"method\":\"xpath\",\"selector\":\"/html/body/div/div/div/section/div[1]/div[4]/div[1]/div[3]/nav/ul/li[7]/a\"}\n  (Session info: chrome=122.0.6261.69); For documentation on this error, please visit: https://www.selenium.dev/documentation/webdriver/troubleshooting/errors#no-such-element-exception\nStacktrace:\n\tGetHandleVerifier [0x00007FF7E2094C82+3505170]\n\t(No symbol) [0x00007FF7E1CC0852]\n\t(No symbol) [0x00007FF7E1B74145]\n\t(No symbol) [0x00007FF7E1BB9ADD]\n\t(No symbol) [0x00007FF7E1BB9C1C]\n\t(No symbol) [0x00007FF7E1BFAB27]\n\t(No symbol) [0x00007FF7E1BDBECF]\n\t(No symbol) [0x00007FF7E1BF83B2]\n\t(No symbol) [0x00007FF7E1BDBC33]\n\t(No symbol) [0x00007FF7E1BAD618]\n\t(No symbol) [0x00007FF7E1BAE6B1]\n\tGetHandleVerifier [0x00007FF7E20C67DD+3708781]\n\tGetHandleVerifier [0x00007FF7E211FC5D+4074477]\n\tGetHandleVerifier [0x00007FF7E2117DDF+4042095]\n\tGetHandleVerifier [0x00007FF7E1DEA136+708806]\n\t(No symbol) [0x00007FF7E1CCCB0F]\n\t(No symbol) [0x00007FF7E1CC7D14]\n\t(No symbol) [0x00007FF7E1CC7E6C]\n\t(No symbol) [0x00007FF7E1CB79A4]\n\tBaseThreadInitThunk [0x00007FFC747B257D+29]\n\tRtlUserThreadStart [0x00007FFC75D2AA58+40]\n"
     ]
    }
   ],
   "source": [
    "#page 86\n",
    "Next_button=driver.find_element(By.XPATH,\"/html/body/div/div/div/section/div[1]/div[4]/div[1]/div[3]/nav/ul/li[7]/a\")\n",
    "Next_button.click()"
   ]
  },
  {
   "cell_type": "code",
   "execution_count": null,
   "id": "5efbd9aa",
   "metadata": {},
   "outputs": [],
   "source": [
    "Address=[]\n",
    "Price=[]\n",
    "Squre_fit=[]"
   ]
  },
  {
   "cell_type": "code",
   "execution_count": null,
   "id": "1a1bc281",
   "metadata": {},
   "outputs": [],
   "source": [
    "Area_Address=driver.find_elements(By.XPATH,'//div[@class=\"addr-component\"]')\n",
    "for i in Area_Address[0:20]:\n",
    "    add=i.text\n",
    "    Address.append(add) \n",
    "    \n",
    "House_Price=driver.find_elements(By.XPATH,'//div[@class=\"h4 text-primary mb-0\"]')\n",
    "for i in House_Price[0:20]:\n",
    "    price=i.text\n",
    "    Price.append(price)\n",
    "    \n",
    "Squre=driver.find_elements(By.XPATH,'//div[@class=\"text-muted\"]')\n",
    "for i in Squre[0:20]:\n",
    "    squre=i.text\n",
    "    Squre_fit.append(squre)"
   ]
  },
  {
   "cell_type": "code",
   "execution_count": null,
   "id": "bb242b0c",
   "metadata": {},
   "outputs": [],
   "source": [
    "print(len(Address),len(Squre_fit),len(Price))"
   ]
  },
  {
   "cell_type": "code",
   "execution_count": 129,
   "id": "7be052f6",
   "metadata": {},
   "outputs": [
    {
     "data": {
      "text/html": [
       "<div>\n",
       "<style scoped>\n",
       "    .dataframe tbody tr th:only-of-type {\n",
       "        vertical-align: middle;\n",
       "    }\n",
       "\n",
       "    .dataframe tbody tr th {\n",
       "        vertical-align: top;\n",
       "    }\n",
       "\n",
       "    .dataframe thead th {\n",
       "        text-align: right;\n",
       "    }\n",
       "</style>\n",
       "<table border=\"1\" class=\"dataframe\">\n",
       "  <thead>\n",
       "    <tr style=\"text-align: right;\">\n",
       "      <th></th>\n",
       "      <th>Address</th>\n",
       "      <th>Price</th>\n",
       "      <th>Squr</th>\n",
       "    </tr>\n",
       "  </thead>\n",
       "  <tbody>\n",
       "  </tbody>\n",
       "</table>\n",
       "</div>"
      ],
      "text/plain": [
       "Empty DataFrame\n",
       "Columns: [Address, Price, Squr]\n",
       "Index: []"
      ]
     },
     "execution_count": 129,
     "metadata": {},
     "output_type": "execute_result"
    }
   ],
   "source": [
    "import pandas as pd\n",
    "df=pd.DataFrame({'Address':Address, 'Price':Price, 'Squr':Squre_fit})\n",
    "df"
   ]
  },
  {
   "cell_type": "code",
   "execution_count": null,
   "id": "5dcd3f9c",
   "metadata": {},
   "outputs": [],
   "source": []
  },
  {
   "cell_type": "code",
   "execution_count": 130,
   "id": "b23c1003",
   "metadata": {},
   "outputs": [
    {
     "ename": "NoSuchElementException",
     "evalue": "Message: no such element: Unable to locate element: {\"method\":\"xpath\",\"selector\":\"/html/body/div/div/div/section/div[1]/div[4]/div[1]/div[3]/nav/ul/li[7]/a\"}\n  (Session info: chrome=122.0.6261.69); For documentation on this error, please visit: https://www.selenium.dev/documentation/webdriver/troubleshooting/errors#no-such-element-exception\nStacktrace:\n\tGetHandleVerifier [0x00007FF7E2094C82+3505170]\n\t(No symbol) [0x00007FF7E1CC0852]\n\t(No symbol) [0x00007FF7E1B74145]\n\t(No symbol) [0x00007FF7E1BB9ADD]\n\t(No symbol) [0x00007FF7E1BB9C1C]\n\t(No symbol) [0x00007FF7E1BFAB27]\n\t(No symbol) [0x00007FF7E1BDBECF]\n\t(No symbol) [0x00007FF7E1BF83B2]\n\t(No symbol) [0x00007FF7E1BDBC33]\n\t(No symbol) [0x00007FF7E1BAD618]\n\t(No symbol) [0x00007FF7E1BAE6B1]\n\tGetHandleVerifier [0x00007FF7E20C67DD+3708781]\n\tGetHandleVerifier [0x00007FF7E211FC5D+4074477]\n\tGetHandleVerifier [0x00007FF7E2117DDF+4042095]\n\tGetHandleVerifier [0x00007FF7E1DEA136+708806]\n\t(No symbol) [0x00007FF7E1CCCB0F]\n\t(No symbol) [0x00007FF7E1CC7D14]\n\t(No symbol) [0x00007FF7E1CC7E6C]\n\t(No symbol) [0x00007FF7E1CB79A4]\n\tBaseThreadInitThunk [0x00007FFC747B257D+29]\n\tRtlUserThreadStart [0x00007FFC75D2AA58+40]\n",
     "output_type": "error",
     "traceback": [
      "\u001b[1;31m---------------------------------------------------------------------------\u001b[0m",
      "\u001b[1;31mNoSuchElementException\u001b[0m                    Traceback (most recent call last)",
      "\u001b[1;32m~\\AppData\\Local\\Temp\\ipykernel_7720\\3792892705.py\u001b[0m in \u001b[0;36m<module>\u001b[1;34m\u001b[0m\n\u001b[0;32m      1\u001b[0m \u001b[1;31m#page 87\u001b[0m\u001b[1;33m\u001b[0m\u001b[1;33m\u001b[0m\u001b[0m\n\u001b[1;32m----> 2\u001b[1;33m \u001b[0mNext_button\u001b[0m\u001b[1;33m=\u001b[0m\u001b[0mdriver\u001b[0m\u001b[1;33m.\u001b[0m\u001b[0mfind_element\u001b[0m\u001b[1;33m(\u001b[0m\u001b[0mBy\u001b[0m\u001b[1;33m.\u001b[0m\u001b[0mXPATH\u001b[0m\u001b[1;33m,\u001b[0m\u001b[1;34m\"/html/body/div/div/div/section/div[1]/div[4]/div[1]/div[3]/nav/ul/li[7]/a\"\u001b[0m\u001b[1;33m)\u001b[0m\u001b[1;33m\u001b[0m\u001b[1;33m\u001b[0m\u001b[0m\n\u001b[0m\u001b[0;32m      3\u001b[0m \u001b[0mNext_button\u001b[0m\u001b[1;33m.\u001b[0m\u001b[0mclick\u001b[0m\u001b[1;33m(\u001b[0m\u001b[1;33m)\u001b[0m\u001b[1;33m\u001b[0m\u001b[1;33m\u001b[0m\u001b[0m\n",
      "\u001b[1;32m~\\anaconda3\\lib\\site-packages\\selenium\\webdriver\\remote\\webdriver.py\u001b[0m in \u001b[0;36mfind_element\u001b[1;34m(self, by, value)\u001b[0m\n\u001b[0;32m    736\u001b[0m             \u001b[0mvalue\u001b[0m \u001b[1;33m=\u001b[0m \u001b[1;34mf'[name=\"{value}\"]'\u001b[0m\u001b[1;33m\u001b[0m\u001b[1;33m\u001b[0m\u001b[0m\n\u001b[0;32m    737\u001b[0m \u001b[1;33m\u001b[0m\u001b[0m\n\u001b[1;32m--> 738\u001b[1;33m         \u001b[1;32mreturn\u001b[0m \u001b[0mself\u001b[0m\u001b[1;33m.\u001b[0m\u001b[0mexecute\u001b[0m\u001b[1;33m(\u001b[0m\u001b[0mCommand\u001b[0m\u001b[1;33m.\u001b[0m\u001b[0mFIND_ELEMENT\u001b[0m\u001b[1;33m,\u001b[0m \u001b[1;33m{\u001b[0m\u001b[1;34m\"using\"\u001b[0m\u001b[1;33m:\u001b[0m \u001b[0mby\u001b[0m\u001b[1;33m,\u001b[0m \u001b[1;34m\"value\"\u001b[0m\u001b[1;33m:\u001b[0m \u001b[0mvalue\u001b[0m\u001b[1;33m}\u001b[0m\u001b[1;33m)\u001b[0m\u001b[1;33m[\u001b[0m\u001b[1;34m\"value\"\u001b[0m\u001b[1;33m]\u001b[0m\u001b[1;33m\u001b[0m\u001b[1;33m\u001b[0m\u001b[0m\n\u001b[0m\u001b[0;32m    739\u001b[0m \u001b[1;33m\u001b[0m\u001b[0m\n\u001b[0;32m    740\u001b[0m     \u001b[1;32mdef\u001b[0m \u001b[0mfind_elements\u001b[0m\u001b[1;33m(\u001b[0m\u001b[0mself\u001b[0m\u001b[1;33m,\u001b[0m \u001b[0mby\u001b[0m\u001b[1;33m=\u001b[0m\u001b[0mBy\u001b[0m\u001b[1;33m.\u001b[0m\u001b[0mID\u001b[0m\u001b[1;33m,\u001b[0m \u001b[0mvalue\u001b[0m\u001b[1;33m:\u001b[0m \u001b[0mOptional\u001b[0m\u001b[1;33m[\u001b[0m\u001b[0mstr\u001b[0m\u001b[1;33m]\u001b[0m \u001b[1;33m=\u001b[0m \u001b[1;32mNone\u001b[0m\u001b[1;33m)\u001b[0m \u001b[1;33m->\u001b[0m \u001b[0mList\u001b[0m\u001b[1;33m[\u001b[0m\u001b[0mWebElement\u001b[0m\u001b[1;33m]\u001b[0m\u001b[1;33m:\u001b[0m\u001b[1;33m\u001b[0m\u001b[1;33m\u001b[0m\u001b[0m\n",
      "\u001b[1;32m~\\anaconda3\\lib\\site-packages\\selenium\\webdriver\\remote\\webdriver.py\u001b[0m in \u001b[0;36mexecute\u001b[1;34m(self, driver_command, params)\u001b[0m\n\u001b[0;32m    342\u001b[0m         \u001b[0mresponse\u001b[0m \u001b[1;33m=\u001b[0m \u001b[0mself\u001b[0m\u001b[1;33m.\u001b[0m\u001b[0mcommand_executor\u001b[0m\u001b[1;33m.\u001b[0m\u001b[0mexecute\u001b[0m\u001b[1;33m(\u001b[0m\u001b[0mdriver_command\u001b[0m\u001b[1;33m,\u001b[0m \u001b[0mparams\u001b[0m\u001b[1;33m)\u001b[0m\u001b[1;33m\u001b[0m\u001b[1;33m\u001b[0m\u001b[0m\n\u001b[0;32m    343\u001b[0m         \u001b[1;32mif\u001b[0m \u001b[0mresponse\u001b[0m\u001b[1;33m:\u001b[0m\u001b[1;33m\u001b[0m\u001b[1;33m\u001b[0m\u001b[0m\n\u001b[1;32m--> 344\u001b[1;33m             \u001b[0mself\u001b[0m\u001b[1;33m.\u001b[0m\u001b[0merror_handler\u001b[0m\u001b[1;33m.\u001b[0m\u001b[0mcheck_response\u001b[0m\u001b[1;33m(\u001b[0m\u001b[0mresponse\u001b[0m\u001b[1;33m)\u001b[0m\u001b[1;33m\u001b[0m\u001b[1;33m\u001b[0m\u001b[0m\n\u001b[0m\u001b[0;32m    345\u001b[0m             \u001b[0mresponse\u001b[0m\u001b[1;33m[\u001b[0m\u001b[1;34m\"value\"\u001b[0m\u001b[1;33m]\u001b[0m \u001b[1;33m=\u001b[0m \u001b[0mself\u001b[0m\u001b[1;33m.\u001b[0m\u001b[0m_unwrap_value\u001b[0m\u001b[1;33m(\u001b[0m\u001b[0mresponse\u001b[0m\u001b[1;33m.\u001b[0m\u001b[0mget\u001b[0m\u001b[1;33m(\u001b[0m\u001b[1;34m\"value\"\u001b[0m\u001b[1;33m,\u001b[0m \u001b[1;32mNone\u001b[0m\u001b[1;33m)\u001b[0m\u001b[1;33m)\u001b[0m\u001b[1;33m\u001b[0m\u001b[1;33m\u001b[0m\u001b[0m\n\u001b[0;32m    346\u001b[0m             \u001b[1;32mreturn\u001b[0m \u001b[0mresponse\u001b[0m\u001b[1;33m\u001b[0m\u001b[1;33m\u001b[0m\u001b[0m\n",
      "\u001b[1;32m~\\anaconda3\\lib\\site-packages\\selenium\\webdriver\\remote\\errorhandler.py\u001b[0m in \u001b[0;36mcheck_response\u001b[1;34m(self, response)\u001b[0m\n\u001b[0;32m    227\u001b[0m                 \u001b[0malert_text\u001b[0m \u001b[1;33m=\u001b[0m \u001b[0mvalue\u001b[0m\u001b[1;33m[\u001b[0m\u001b[1;34m\"alert\"\u001b[0m\u001b[1;33m]\u001b[0m\u001b[1;33m.\u001b[0m\u001b[0mget\u001b[0m\u001b[1;33m(\u001b[0m\u001b[1;34m\"text\"\u001b[0m\u001b[1;33m)\u001b[0m\u001b[1;33m\u001b[0m\u001b[1;33m\u001b[0m\u001b[0m\n\u001b[0;32m    228\u001b[0m             \u001b[1;32mraise\u001b[0m \u001b[0mexception_class\u001b[0m\u001b[1;33m(\u001b[0m\u001b[0mmessage\u001b[0m\u001b[1;33m,\u001b[0m \u001b[0mscreen\u001b[0m\u001b[1;33m,\u001b[0m \u001b[0mstacktrace\u001b[0m\u001b[1;33m,\u001b[0m \u001b[0malert_text\u001b[0m\u001b[1;33m)\u001b[0m  \u001b[1;31m# type: ignore[call-arg]  # mypy is not smart enough here\u001b[0m\u001b[1;33m\u001b[0m\u001b[1;33m\u001b[0m\u001b[0m\n\u001b[1;32m--> 229\u001b[1;33m         \u001b[1;32mraise\u001b[0m \u001b[0mexception_class\u001b[0m\u001b[1;33m(\u001b[0m\u001b[0mmessage\u001b[0m\u001b[1;33m,\u001b[0m \u001b[0mscreen\u001b[0m\u001b[1;33m,\u001b[0m \u001b[0mstacktrace\u001b[0m\u001b[1;33m)\u001b[0m\u001b[1;33m\u001b[0m\u001b[1;33m\u001b[0m\u001b[0m\n\u001b[0m",
      "\u001b[1;31mNoSuchElementException\u001b[0m: Message: no such element: Unable to locate element: {\"method\":\"xpath\",\"selector\":\"/html/body/div/div/div/section/div[1]/div[4]/div[1]/div[3]/nav/ul/li[7]/a\"}\n  (Session info: chrome=122.0.6261.69); For documentation on this error, please visit: https://www.selenium.dev/documentation/webdriver/troubleshooting/errors#no-such-element-exception\nStacktrace:\n\tGetHandleVerifier [0x00007FF7E2094C82+3505170]\n\t(No symbol) [0x00007FF7E1CC0852]\n\t(No symbol) [0x00007FF7E1B74145]\n\t(No symbol) [0x00007FF7E1BB9ADD]\n\t(No symbol) [0x00007FF7E1BB9C1C]\n\t(No symbol) [0x00007FF7E1BFAB27]\n\t(No symbol) [0x00007FF7E1BDBECF]\n\t(No symbol) [0x00007FF7E1BF83B2]\n\t(No symbol) [0x00007FF7E1BDBC33]\n\t(No symbol) [0x00007FF7E1BAD618]\n\t(No symbol) [0x00007FF7E1BAE6B1]\n\tGetHandleVerifier [0x00007FF7E20C67DD+3708781]\n\tGetHandleVerifier [0x00007FF7E211FC5D+4074477]\n\tGetHandleVerifier [0x00007FF7E2117DDF+4042095]\n\tGetHandleVerifier [0x00007FF7E1DEA136+708806]\n\t(No symbol) [0x00007FF7E1CCCB0F]\n\t(No symbol) [0x00007FF7E1CC7D14]\n\t(No symbol) [0x00007FF7E1CC7E6C]\n\t(No symbol) [0x00007FF7E1CB79A4]\n\tBaseThreadInitThunk [0x00007FFC747B257D+29]\n\tRtlUserThreadStart [0x00007FFC75D2AA58+40]\n"
     ]
    }
   ],
   "source": [
    "#page 87\n",
    "Next_button=driver.find_element(By.XPATH,\"/html/body/div/div/div/section/div[1]/div[4]/div[1]/div[3]/nav/ul/li[7]/a\")\n",
    "Next_button.click()"
   ]
  },
  {
   "cell_type": "code",
   "execution_count": null,
   "id": "ef8081d5",
   "metadata": {},
   "outputs": [],
   "source": [
    "Address=[]\n",
    "Price=[]\n",
    "Squre_fit=[]"
   ]
  },
  {
   "cell_type": "code",
   "execution_count": null,
   "id": "e0fb0e5a",
   "metadata": {},
   "outputs": [],
   "source": [
    "Area_Address=driver.find_elements(By.XPATH,'//div[@class=\"addr-component\"]')\n",
    "for i in Area_Address[0:20]:\n",
    "    add=i.text\n",
    "    Address.append(add) \n",
    "    \n",
    "House_Price=driver.find_elements(By.XPATH,'//div[@class=\"h4 text-primary mb-0\"]')\n",
    "for i in House_Price[0:20]:\n",
    "    price=i.text\n",
    "    Price.append(price)\n",
    "    \n",
    "Squre=driver.find_elements(By.XPATH,'//div[@class=\"text-muted\"]')\n",
    "for i in Squre[0:20]:\n",
    "    squre=i.text\n",
    "    Squre_fit.append(squre)"
   ]
  },
  {
   "cell_type": "code",
   "execution_count": null,
   "id": "768a057c",
   "metadata": {},
   "outputs": [],
   "source": [
    "print(len(Address),len(Squre_fit),len(Price))"
   ]
  },
  {
   "cell_type": "code",
   "execution_count": 131,
   "id": "a4001e9a",
   "metadata": {},
   "outputs": [
    {
     "data": {
      "text/html": [
       "<div>\n",
       "<style scoped>\n",
       "    .dataframe tbody tr th:only-of-type {\n",
       "        vertical-align: middle;\n",
       "    }\n",
       "\n",
       "    .dataframe tbody tr th {\n",
       "        vertical-align: top;\n",
       "    }\n",
       "\n",
       "    .dataframe thead th {\n",
       "        text-align: right;\n",
       "    }\n",
       "</style>\n",
       "<table border=\"1\" class=\"dataframe\">\n",
       "  <thead>\n",
       "    <tr style=\"text-align: right;\">\n",
       "      <th></th>\n",
       "      <th>Address</th>\n",
       "      <th>Price</th>\n",
       "      <th>Squr</th>\n",
       "    </tr>\n",
       "  </thead>\n",
       "  <tbody>\n",
       "  </tbody>\n",
       "</table>\n",
       "</div>"
      ],
      "text/plain": [
       "Empty DataFrame\n",
       "Columns: [Address, Price, Squr]\n",
       "Index: []"
      ]
     },
     "execution_count": 131,
     "metadata": {},
     "output_type": "execute_result"
    }
   ],
   "source": [
    "import pandas as pd\n",
    "df=pd.DataFrame({'Address':Address, 'Price':Price, 'Squr':Squre_fit})\n",
    "df"
   ]
  },
  {
   "cell_type": "code",
   "execution_count": 132,
   "id": "f091f99b",
   "metadata": {},
   "outputs": [
    {
     "ename": "NoSuchElementException",
     "evalue": "Message: no such element: Unable to locate element: {\"method\":\"xpath\",\"selector\":\"/html/body/div/div/div/section/div[1]/div[4]/div[1]/div[3]/nav/ul/li[7]/a\"}\n  (Session info: chrome=122.0.6261.69); For documentation on this error, please visit: https://www.selenium.dev/documentation/webdriver/troubleshooting/errors#no-such-element-exception\nStacktrace:\n\tGetHandleVerifier [0x00007FF7E2094C82+3505170]\n\t(No symbol) [0x00007FF7E1CC0852]\n\t(No symbol) [0x00007FF7E1B74145]\n\t(No symbol) [0x00007FF7E1BB9ADD]\n\t(No symbol) [0x00007FF7E1BB9C1C]\n\t(No symbol) [0x00007FF7E1BFAB27]\n\t(No symbol) [0x00007FF7E1BDBECF]\n\t(No symbol) [0x00007FF7E1BF83B2]\n\t(No symbol) [0x00007FF7E1BDBC33]\n\t(No symbol) [0x00007FF7E1BAD618]\n\t(No symbol) [0x00007FF7E1BAE6B1]\n\tGetHandleVerifier [0x00007FF7E20C67DD+3708781]\n\tGetHandleVerifier [0x00007FF7E211FC5D+4074477]\n\tGetHandleVerifier [0x00007FF7E2117DDF+4042095]\n\tGetHandleVerifier [0x00007FF7E1DEA136+708806]\n\t(No symbol) [0x00007FF7E1CCCB0F]\n\t(No symbol) [0x00007FF7E1CC7D14]\n\t(No symbol) [0x00007FF7E1CC7E6C]\n\t(No symbol) [0x00007FF7E1CB79A4]\n\tBaseThreadInitThunk [0x00007FFC747B257D+29]\n\tRtlUserThreadStart [0x00007FFC75D2AA58+40]\n",
     "output_type": "error",
     "traceback": [
      "\u001b[1;31m---------------------------------------------------------------------------\u001b[0m",
      "\u001b[1;31mNoSuchElementException\u001b[0m                    Traceback (most recent call last)",
      "\u001b[1;32m~\\AppData\\Local\\Temp\\ipykernel_7720\\3932177700.py\u001b[0m in \u001b[0;36m<module>\u001b[1;34m\u001b[0m\n\u001b[0;32m      1\u001b[0m \u001b[1;31m#page 88\u001b[0m\u001b[1;33m\u001b[0m\u001b[1;33m\u001b[0m\u001b[0m\n\u001b[1;32m----> 2\u001b[1;33m \u001b[0mNext_button\u001b[0m\u001b[1;33m=\u001b[0m\u001b[0mdriver\u001b[0m\u001b[1;33m.\u001b[0m\u001b[0mfind_element\u001b[0m\u001b[1;33m(\u001b[0m\u001b[0mBy\u001b[0m\u001b[1;33m.\u001b[0m\u001b[0mXPATH\u001b[0m\u001b[1;33m,\u001b[0m\u001b[1;34m\"/html/body/div/div/div/section/div[1]/div[4]/div[1]/div[3]/nav/ul/li[7]/a\"\u001b[0m\u001b[1;33m)\u001b[0m\u001b[1;33m\u001b[0m\u001b[1;33m\u001b[0m\u001b[0m\n\u001b[0m\u001b[0;32m      3\u001b[0m \u001b[0mNext_button\u001b[0m\u001b[1;33m.\u001b[0m\u001b[0mclick\u001b[0m\u001b[1;33m(\u001b[0m\u001b[1;33m)\u001b[0m\u001b[1;33m\u001b[0m\u001b[1;33m\u001b[0m\u001b[0m\n",
      "\u001b[1;32m~\\anaconda3\\lib\\site-packages\\selenium\\webdriver\\remote\\webdriver.py\u001b[0m in \u001b[0;36mfind_element\u001b[1;34m(self, by, value)\u001b[0m\n\u001b[0;32m    736\u001b[0m             \u001b[0mvalue\u001b[0m \u001b[1;33m=\u001b[0m \u001b[1;34mf'[name=\"{value}\"]'\u001b[0m\u001b[1;33m\u001b[0m\u001b[1;33m\u001b[0m\u001b[0m\n\u001b[0;32m    737\u001b[0m \u001b[1;33m\u001b[0m\u001b[0m\n\u001b[1;32m--> 738\u001b[1;33m         \u001b[1;32mreturn\u001b[0m \u001b[0mself\u001b[0m\u001b[1;33m.\u001b[0m\u001b[0mexecute\u001b[0m\u001b[1;33m(\u001b[0m\u001b[0mCommand\u001b[0m\u001b[1;33m.\u001b[0m\u001b[0mFIND_ELEMENT\u001b[0m\u001b[1;33m,\u001b[0m \u001b[1;33m{\u001b[0m\u001b[1;34m\"using\"\u001b[0m\u001b[1;33m:\u001b[0m \u001b[0mby\u001b[0m\u001b[1;33m,\u001b[0m \u001b[1;34m\"value\"\u001b[0m\u001b[1;33m:\u001b[0m \u001b[0mvalue\u001b[0m\u001b[1;33m}\u001b[0m\u001b[1;33m)\u001b[0m\u001b[1;33m[\u001b[0m\u001b[1;34m\"value\"\u001b[0m\u001b[1;33m]\u001b[0m\u001b[1;33m\u001b[0m\u001b[1;33m\u001b[0m\u001b[0m\n\u001b[0m\u001b[0;32m    739\u001b[0m \u001b[1;33m\u001b[0m\u001b[0m\n\u001b[0;32m    740\u001b[0m     \u001b[1;32mdef\u001b[0m \u001b[0mfind_elements\u001b[0m\u001b[1;33m(\u001b[0m\u001b[0mself\u001b[0m\u001b[1;33m,\u001b[0m \u001b[0mby\u001b[0m\u001b[1;33m=\u001b[0m\u001b[0mBy\u001b[0m\u001b[1;33m.\u001b[0m\u001b[0mID\u001b[0m\u001b[1;33m,\u001b[0m \u001b[0mvalue\u001b[0m\u001b[1;33m:\u001b[0m \u001b[0mOptional\u001b[0m\u001b[1;33m[\u001b[0m\u001b[0mstr\u001b[0m\u001b[1;33m]\u001b[0m \u001b[1;33m=\u001b[0m \u001b[1;32mNone\u001b[0m\u001b[1;33m)\u001b[0m \u001b[1;33m->\u001b[0m \u001b[0mList\u001b[0m\u001b[1;33m[\u001b[0m\u001b[0mWebElement\u001b[0m\u001b[1;33m]\u001b[0m\u001b[1;33m:\u001b[0m\u001b[1;33m\u001b[0m\u001b[1;33m\u001b[0m\u001b[0m\n",
      "\u001b[1;32m~\\anaconda3\\lib\\site-packages\\selenium\\webdriver\\remote\\webdriver.py\u001b[0m in \u001b[0;36mexecute\u001b[1;34m(self, driver_command, params)\u001b[0m\n\u001b[0;32m    342\u001b[0m         \u001b[0mresponse\u001b[0m \u001b[1;33m=\u001b[0m \u001b[0mself\u001b[0m\u001b[1;33m.\u001b[0m\u001b[0mcommand_executor\u001b[0m\u001b[1;33m.\u001b[0m\u001b[0mexecute\u001b[0m\u001b[1;33m(\u001b[0m\u001b[0mdriver_command\u001b[0m\u001b[1;33m,\u001b[0m \u001b[0mparams\u001b[0m\u001b[1;33m)\u001b[0m\u001b[1;33m\u001b[0m\u001b[1;33m\u001b[0m\u001b[0m\n\u001b[0;32m    343\u001b[0m         \u001b[1;32mif\u001b[0m \u001b[0mresponse\u001b[0m\u001b[1;33m:\u001b[0m\u001b[1;33m\u001b[0m\u001b[1;33m\u001b[0m\u001b[0m\n\u001b[1;32m--> 344\u001b[1;33m             \u001b[0mself\u001b[0m\u001b[1;33m.\u001b[0m\u001b[0merror_handler\u001b[0m\u001b[1;33m.\u001b[0m\u001b[0mcheck_response\u001b[0m\u001b[1;33m(\u001b[0m\u001b[0mresponse\u001b[0m\u001b[1;33m)\u001b[0m\u001b[1;33m\u001b[0m\u001b[1;33m\u001b[0m\u001b[0m\n\u001b[0m\u001b[0;32m    345\u001b[0m             \u001b[0mresponse\u001b[0m\u001b[1;33m[\u001b[0m\u001b[1;34m\"value\"\u001b[0m\u001b[1;33m]\u001b[0m \u001b[1;33m=\u001b[0m \u001b[0mself\u001b[0m\u001b[1;33m.\u001b[0m\u001b[0m_unwrap_value\u001b[0m\u001b[1;33m(\u001b[0m\u001b[0mresponse\u001b[0m\u001b[1;33m.\u001b[0m\u001b[0mget\u001b[0m\u001b[1;33m(\u001b[0m\u001b[1;34m\"value\"\u001b[0m\u001b[1;33m,\u001b[0m \u001b[1;32mNone\u001b[0m\u001b[1;33m)\u001b[0m\u001b[1;33m)\u001b[0m\u001b[1;33m\u001b[0m\u001b[1;33m\u001b[0m\u001b[0m\n\u001b[0;32m    346\u001b[0m             \u001b[1;32mreturn\u001b[0m \u001b[0mresponse\u001b[0m\u001b[1;33m\u001b[0m\u001b[1;33m\u001b[0m\u001b[0m\n",
      "\u001b[1;32m~\\anaconda3\\lib\\site-packages\\selenium\\webdriver\\remote\\errorhandler.py\u001b[0m in \u001b[0;36mcheck_response\u001b[1;34m(self, response)\u001b[0m\n\u001b[0;32m    227\u001b[0m                 \u001b[0malert_text\u001b[0m \u001b[1;33m=\u001b[0m \u001b[0mvalue\u001b[0m\u001b[1;33m[\u001b[0m\u001b[1;34m\"alert\"\u001b[0m\u001b[1;33m]\u001b[0m\u001b[1;33m.\u001b[0m\u001b[0mget\u001b[0m\u001b[1;33m(\u001b[0m\u001b[1;34m\"text\"\u001b[0m\u001b[1;33m)\u001b[0m\u001b[1;33m\u001b[0m\u001b[1;33m\u001b[0m\u001b[0m\n\u001b[0;32m    228\u001b[0m             \u001b[1;32mraise\u001b[0m \u001b[0mexception_class\u001b[0m\u001b[1;33m(\u001b[0m\u001b[0mmessage\u001b[0m\u001b[1;33m,\u001b[0m \u001b[0mscreen\u001b[0m\u001b[1;33m,\u001b[0m \u001b[0mstacktrace\u001b[0m\u001b[1;33m,\u001b[0m \u001b[0malert_text\u001b[0m\u001b[1;33m)\u001b[0m  \u001b[1;31m# type: ignore[call-arg]  # mypy is not smart enough here\u001b[0m\u001b[1;33m\u001b[0m\u001b[1;33m\u001b[0m\u001b[0m\n\u001b[1;32m--> 229\u001b[1;33m         \u001b[1;32mraise\u001b[0m \u001b[0mexception_class\u001b[0m\u001b[1;33m(\u001b[0m\u001b[0mmessage\u001b[0m\u001b[1;33m,\u001b[0m \u001b[0mscreen\u001b[0m\u001b[1;33m,\u001b[0m \u001b[0mstacktrace\u001b[0m\u001b[1;33m)\u001b[0m\u001b[1;33m\u001b[0m\u001b[1;33m\u001b[0m\u001b[0m\n\u001b[0m",
      "\u001b[1;31mNoSuchElementException\u001b[0m: Message: no such element: Unable to locate element: {\"method\":\"xpath\",\"selector\":\"/html/body/div/div/div/section/div[1]/div[4]/div[1]/div[3]/nav/ul/li[7]/a\"}\n  (Session info: chrome=122.0.6261.69); For documentation on this error, please visit: https://www.selenium.dev/documentation/webdriver/troubleshooting/errors#no-such-element-exception\nStacktrace:\n\tGetHandleVerifier [0x00007FF7E2094C82+3505170]\n\t(No symbol) [0x00007FF7E1CC0852]\n\t(No symbol) [0x00007FF7E1B74145]\n\t(No symbol) [0x00007FF7E1BB9ADD]\n\t(No symbol) [0x00007FF7E1BB9C1C]\n\t(No symbol) [0x00007FF7E1BFAB27]\n\t(No symbol) [0x00007FF7E1BDBECF]\n\t(No symbol) [0x00007FF7E1BF83B2]\n\t(No symbol) [0x00007FF7E1BDBC33]\n\t(No symbol) [0x00007FF7E1BAD618]\n\t(No symbol) [0x00007FF7E1BAE6B1]\n\tGetHandleVerifier [0x00007FF7E20C67DD+3708781]\n\tGetHandleVerifier [0x00007FF7E211FC5D+4074477]\n\tGetHandleVerifier [0x00007FF7E2117DDF+4042095]\n\tGetHandleVerifier [0x00007FF7E1DEA136+708806]\n\t(No symbol) [0x00007FF7E1CCCB0F]\n\t(No symbol) [0x00007FF7E1CC7D14]\n\t(No symbol) [0x00007FF7E1CC7E6C]\n\t(No symbol) [0x00007FF7E1CB79A4]\n\tBaseThreadInitThunk [0x00007FFC747B257D+29]\n\tRtlUserThreadStart [0x00007FFC75D2AA58+40]\n"
     ]
    }
   ],
   "source": [
    "#page 88\n",
    "Next_button=driver.find_element(By.XPATH,\"/html/body/div/div/div/section/div[1]/div[4]/div[1]/div[3]/nav/ul/li[7]/a\")\n",
    "Next_button.click()"
   ]
  },
  {
   "cell_type": "code",
   "execution_count": null,
   "id": "ce140ce3",
   "metadata": {},
   "outputs": [],
   "source": [
    "Address=[]\n",
    "Price=[]\n",
    "Squre_fit=[]"
   ]
  },
  {
   "cell_type": "code",
   "execution_count": null,
   "id": "25da02e8",
   "metadata": {},
   "outputs": [],
   "source": [
    "Area_Address=driver.find_elements(By.XPATH,'//div[@class=\"addr-component\"]')\n",
    "for i in Area_Address[0:20]:\n",
    "    add=i.text\n",
    "    Address.append(add) \n",
    "    \n",
    "House_Price=driver.find_elements(By.XPATH,'//div[@class=\"h4 text-primary mb-0\"]')\n",
    "for i in House_Price[0:20]:\n",
    "    price=i.text\n",
    "    Price.append(price)\n",
    "    \n",
    "Squre=driver.find_elements(By.XPATH,'//div[@class=\"text-muted\"]')\n",
    "for i in Squre[0:20]:\n",
    "    squre=i.text\n",
    "    Squre_fit.append(squre)"
   ]
  },
  {
   "cell_type": "code",
   "execution_count": null,
   "id": "f8cd18d5",
   "metadata": {},
   "outputs": [],
   "source": [
    "print(len(Address),len(Squre_fit),len(Price))"
   ]
  },
  {
   "cell_type": "code",
   "execution_count": null,
   "id": "e58caf4a",
   "metadata": {},
   "outputs": [],
   "source": [
    "import pandas as pd\n",
    "df=pd.DataFrame({'Address':Address, 'Price':Price, 'Squr':Squre_fit})\n",
    "df"
   ]
  },
  {
   "cell_type": "code",
   "execution_count": 133,
   "id": "407c14fe",
   "metadata": {},
   "outputs": [
    {
     "ename": "NoSuchElementException",
     "evalue": "Message: no such element: Unable to locate element: {\"method\":\"xpath\",\"selector\":\"/html/body/div/div/div/section/div[1]/div[4]/div[1]/div[3]/nav/ul/li[7]/a\"}\n  (Session info: chrome=122.0.6261.69); For documentation on this error, please visit: https://www.selenium.dev/documentation/webdriver/troubleshooting/errors#no-such-element-exception\nStacktrace:\n\tGetHandleVerifier [0x00007FF7E2094C82+3505170]\n\t(No symbol) [0x00007FF7E1CC0852]\n\t(No symbol) [0x00007FF7E1B74145]\n\t(No symbol) [0x00007FF7E1BB9ADD]\n\t(No symbol) [0x00007FF7E1BB9C1C]\n\t(No symbol) [0x00007FF7E1BFAB27]\n\t(No symbol) [0x00007FF7E1BDBECF]\n\t(No symbol) [0x00007FF7E1BF83B2]\n\t(No symbol) [0x00007FF7E1BDBC33]\n\t(No symbol) [0x00007FF7E1BAD618]\n\t(No symbol) [0x00007FF7E1BAE6B1]\n\tGetHandleVerifier [0x00007FF7E20C67DD+3708781]\n\tGetHandleVerifier [0x00007FF7E211FC5D+4074477]\n\tGetHandleVerifier [0x00007FF7E2117DDF+4042095]\n\tGetHandleVerifier [0x00007FF7E1DEA136+708806]\n\t(No symbol) [0x00007FF7E1CCCB0F]\n\t(No symbol) [0x00007FF7E1CC7D14]\n\t(No symbol) [0x00007FF7E1CC7E6C]\n\t(No symbol) [0x00007FF7E1CB79A4]\n\tBaseThreadInitThunk [0x00007FFC747B257D+29]\n\tRtlUserThreadStart [0x00007FFC75D2AA58+40]\n",
     "output_type": "error",
     "traceback": [
      "\u001b[1;31m---------------------------------------------------------------------------\u001b[0m",
      "\u001b[1;31mNoSuchElementException\u001b[0m                    Traceback (most recent call last)",
      "\u001b[1;32m~\\AppData\\Local\\Temp\\ipykernel_7720\\3244120217.py\u001b[0m in \u001b[0;36m<module>\u001b[1;34m\u001b[0m\n\u001b[0;32m      1\u001b[0m \u001b[1;31m#page 89\u001b[0m\u001b[1;33m\u001b[0m\u001b[1;33m\u001b[0m\u001b[0m\n\u001b[1;32m----> 2\u001b[1;33m \u001b[0mNext_button\u001b[0m\u001b[1;33m=\u001b[0m\u001b[0mdriver\u001b[0m\u001b[1;33m.\u001b[0m\u001b[0mfind_element\u001b[0m\u001b[1;33m(\u001b[0m\u001b[0mBy\u001b[0m\u001b[1;33m.\u001b[0m\u001b[0mXPATH\u001b[0m\u001b[1;33m,\u001b[0m\u001b[1;34m\"/html/body/div/div/div/section/div[1]/div[4]/div[1]/div[3]/nav/ul/li[7]/a\"\u001b[0m\u001b[1;33m)\u001b[0m\u001b[1;33m\u001b[0m\u001b[1;33m\u001b[0m\u001b[0m\n\u001b[0m\u001b[0;32m      3\u001b[0m \u001b[0mNext_button\u001b[0m\u001b[1;33m.\u001b[0m\u001b[0mclick\u001b[0m\u001b[1;33m(\u001b[0m\u001b[1;33m)\u001b[0m\u001b[1;33m\u001b[0m\u001b[1;33m\u001b[0m\u001b[0m\n",
      "\u001b[1;32m~\\anaconda3\\lib\\site-packages\\selenium\\webdriver\\remote\\webdriver.py\u001b[0m in \u001b[0;36mfind_element\u001b[1;34m(self, by, value)\u001b[0m\n\u001b[0;32m    736\u001b[0m             \u001b[0mvalue\u001b[0m \u001b[1;33m=\u001b[0m \u001b[1;34mf'[name=\"{value}\"]'\u001b[0m\u001b[1;33m\u001b[0m\u001b[1;33m\u001b[0m\u001b[0m\n\u001b[0;32m    737\u001b[0m \u001b[1;33m\u001b[0m\u001b[0m\n\u001b[1;32m--> 738\u001b[1;33m         \u001b[1;32mreturn\u001b[0m \u001b[0mself\u001b[0m\u001b[1;33m.\u001b[0m\u001b[0mexecute\u001b[0m\u001b[1;33m(\u001b[0m\u001b[0mCommand\u001b[0m\u001b[1;33m.\u001b[0m\u001b[0mFIND_ELEMENT\u001b[0m\u001b[1;33m,\u001b[0m \u001b[1;33m{\u001b[0m\u001b[1;34m\"using\"\u001b[0m\u001b[1;33m:\u001b[0m \u001b[0mby\u001b[0m\u001b[1;33m,\u001b[0m \u001b[1;34m\"value\"\u001b[0m\u001b[1;33m:\u001b[0m \u001b[0mvalue\u001b[0m\u001b[1;33m}\u001b[0m\u001b[1;33m)\u001b[0m\u001b[1;33m[\u001b[0m\u001b[1;34m\"value\"\u001b[0m\u001b[1;33m]\u001b[0m\u001b[1;33m\u001b[0m\u001b[1;33m\u001b[0m\u001b[0m\n\u001b[0m\u001b[0;32m    739\u001b[0m \u001b[1;33m\u001b[0m\u001b[0m\n\u001b[0;32m    740\u001b[0m     \u001b[1;32mdef\u001b[0m \u001b[0mfind_elements\u001b[0m\u001b[1;33m(\u001b[0m\u001b[0mself\u001b[0m\u001b[1;33m,\u001b[0m \u001b[0mby\u001b[0m\u001b[1;33m=\u001b[0m\u001b[0mBy\u001b[0m\u001b[1;33m.\u001b[0m\u001b[0mID\u001b[0m\u001b[1;33m,\u001b[0m \u001b[0mvalue\u001b[0m\u001b[1;33m:\u001b[0m \u001b[0mOptional\u001b[0m\u001b[1;33m[\u001b[0m\u001b[0mstr\u001b[0m\u001b[1;33m]\u001b[0m \u001b[1;33m=\u001b[0m \u001b[1;32mNone\u001b[0m\u001b[1;33m)\u001b[0m \u001b[1;33m->\u001b[0m \u001b[0mList\u001b[0m\u001b[1;33m[\u001b[0m\u001b[0mWebElement\u001b[0m\u001b[1;33m]\u001b[0m\u001b[1;33m:\u001b[0m\u001b[1;33m\u001b[0m\u001b[1;33m\u001b[0m\u001b[0m\n",
      "\u001b[1;32m~\\anaconda3\\lib\\site-packages\\selenium\\webdriver\\remote\\webdriver.py\u001b[0m in \u001b[0;36mexecute\u001b[1;34m(self, driver_command, params)\u001b[0m\n\u001b[0;32m    342\u001b[0m         \u001b[0mresponse\u001b[0m \u001b[1;33m=\u001b[0m \u001b[0mself\u001b[0m\u001b[1;33m.\u001b[0m\u001b[0mcommand_executor\u001b[0m\u001b[1;33m.\u001b[0m\u001b[0mexecute\u001b[0m\u001b[1;33m(\u001b[0m\u001b[0mdriver_command\u001b[0m\u001b[1;33m,\u001b[0m \u001b[0mparams\u001b[0m\u001b[1;33m)\u001b[0m\u001b[1;33m\u001b[0m\u001b[1;33m\u001b[0m\u001b[0m\n\u001b[0;32m    343\u001b[0m         \u001b[1;32mif\u001b[0m \u001b[0mresponse\u001b[0m\u001b[1;33m:\u001b[0m\u001b[1;33m\u001b[0m\u001b[1;33m\u001b[0m\u001b[0m\n\u001b[1;32m--> 344\u001b[1;33m             \u001b[0mself\u001b[0m\u001b[1;33m.\u001b[0m\u001b[0merror_handler\u001b[0m\u001b[1;33m.\u001b[0m\u001b[0mcheck_response\u001b[0m\u001b[1;33m(\u001b[0m\u001b[0mresponse\u001b[0m\u001b[1;33m)\u001b[0m\u001b[1;33m\u001b[0m\u001b[1;33m\u001b[0m\u001b[0m\n\u001b[0m\u001b[0;32m    345\u001b[0m             \u001b[0mresponse\u001b[0m\u001b[1;33m[\u001b[0m\u001b[1;34m\"value\"\u001b[0m\u001b[1;33m]\u001b[0m \u001b[1;33m=\u001b[0m \u001b[0mself\u001b[0m\u001b[1;33m.\u001b[0m\u001b[0m_unwrap_value\u001b[0m\u001b[1;33m(\u001b[0m\u001b[0mresponse\u001b[0m\u001b[1;33m.\u001b[0m\u001b[0mget\u001b[0m\u001b[1;33m(\u001b[0m\u001b[1;34m\"value\"\u001b[0m\u001b[1;33m,\u001b[0m \u001b[1;32mNone\u001b[0m\u001b[1;33m)\u001b[0m\u001b[1;33m)\u001b[0m\u001b[1;33m\u001b[0m\u001b[1;33m\u001b[0m\u001b[0m\n\u001b[0;32m    346\u001b[0m             \u001b[1;32mreturn\u001b[0m \u001b[0mresponse\u001b[0m\u001b[1;33m\u001b[0m\u001b[1;33m\u001b[0m\u001b[0m\n",
      "\u001b[1;32m~\\anaconda3\\lib\\site-packages\\selenium\\webdriver\\remote\\errorhandler.py\u001b[0m in \u001b[0;36mcheck_response\u001b[1;34m(self, response)\u001b[0m\n\u001b[0;32m    227\u001b[0m                 \u001b[0malert_text\u001b[0m \u001b[1;33m=\u001b[0m \u001b[0mvalue\u001b[0m\u001b[1;33m[\u001b[0m\u001b[1;34m\"alert\"\u001b[0m\u001b[1;33m]\u001b[0m\u001b[1;33m.\u001b[0m\u001b[0mget\u001b[0m\u001b[1;33m(\u001b[0m\u001b[1;34m\"text\"\u001b[0m\u001b[1;33m)\u001b[0m\u001b[1;33m\u001b[0m\u001b[1;33m\u001b[0m\u001b[0m\n\u001b[0;32m    228\u001b[0m             \u001b[1;32mraise\u001b[0m \u001b[0mexception_class\u001b[0m\u001b[1;33m(\u001b[0m\u001b[0mmessage\u001b[0m\u001b[1;33m,\u001b[0m \u001b[0mscreen\u001b[0m\u001b[1;33m,\u001b[0m \u001b[0mstacktrace\u001b[0m\u001b[1;33m,\u001b[0m \u001b[0malert_text\u001b[0m\u001b[1;33m)\u001b[0m  \u001b[1;31m# type: ignore[call-arg]  # mypy is not smart enough here\u001b[0m\u001b[1;33m\u001b[0m\u001b[1;33m\u001b[0m\u001b[0m\n\u001b[1;32m--> 229\u001b[1;33m         \u001b[1;32mraise\u001b[0m \u001b[0mexception_class\u001b[0m\u001b[1;33m(\u001b[0m\u001b[0mmessage\u001b[0m\u001b[1;33m,\u001b[0m \u001b[0mscreen\u001b[0m\u001b[1;33m,\u001b[0m \u001b[0mstacktrace\u001b[0m\u001b[1;33m)\u001b[0m\u001b[1;33m\u001b[0m\u001b[1;33m\u001b[0m\u001b[0m\n\u001b[0m",
      "\u001b[1;31mNoSuchElementException\u001b[0m: Message: no such element: Unable to locate element: {\"method\":\"xpath\",\"selector\":\"/html/body/div/div/div/section/div[1]/div[4]/div[1]/div[3]/nav/ul/li[7]/a\"}\n  (Session info: chrome=122.0.6261.69); For documentation on this error, please visit: https://www.selenium.dev/documentation/webdriver/troubleshooting/errors#no-such-element-exception\nStacktrace:\n\tGetHandleVerifier [0x00007FF7E2094C82+3505170]\n\t(No symbol) [0x00007FF7E1CC0852]\n\t(No symbol) [0x00007FF7E1B74145]\n\t(No symbol) [0x00007FF7E1BB9ADD]\n\t(No symbol) [0x00007FF7E1BB9C1C]\n\t(No symbol) [0x00007FF7E1BFAB27]\n\t(No symbol) [0x00007FF7E1BDBECF]\n\t(No symbol) [0x00007FF7E1BF83B2]\n\t(No symbol) [0x00007FF7E1BDBC33]\n\t(No symbol) [0x00007FF7E1BAD618]\n\t(No symbol) [0x00007FF7E1BAE6B1]\n\tGetHandleVerifier [0x00007FF7E20C67DD+3708781]\n\tGetHandleVerifier [0x00007FF7E211FC5D+4074477]\n\tGetHandleVerifier [0x00007FF7E2117DDF+4042095]\n\tGetHandleVerifier [0x00007FF7E1DEA136+708806]\n\t(No symbol) [0x00007FF7E1CCCB0F]\n\t(No symbol) [0x00007FF7E1CC7D14]\n\t(No symbol) [0x00007FF7E1CC7E6C]\n\t(No symbol) [0x00007FF7E1CB79A4]\n\tBaseThreadInitThunk [0x00007FFC747B257D+29]\n\tRtlUserThreadStart [0x00007FFC75D2AA58+40]\n"
     ]
    }
   ],
   "source": [
    "#page 89\n",
    "Next_button=driver.find_element(By.XPATH,\"/html/body/div/div/div/section/div[1]/div[4]/div[1]/div[3]/nav/ul/li[7]/a\")\n",
    "Next_button.click()"
   ]
  },
  {
   "cell_type": "code",
   "execution_count": null,
   "id": "fbc4bad3",
   "metadata": {},
   "outputs": [],
   "source": [
    "Address=[]\n",
    "Price=[]\n",
    "Squre_fit=[]"
   ]
  },
  {
   "cell_type": "code",
   "execution_count": null,
   "id": "13bdbd56",
   "metadata": {},
   "outputs": [],
   "source": [
    "Area_Address=driver.find_elements(By.XPATH,'//div[@class=\"addr-component\"]')\n",
    "for i in Area_Address[0:20]:\n",
    "    add=i.text\n",
    "    Address.append(add) \n",
    "    \n",
    "House_Price=driver.find_elements(By.XPATH,'//div[@class=\"h4 text-primary mb-0\"]')\n",
    "for i in House_Price[0:20]:\n",
    "    price=i.text\n",
    "    Price.append(price)\n",
    "    \n",
    "Squre=driver.find_elements(By.XPATH,'//div[@class=\"text-muted\"]')\n",
    "for i in Squre[0:20]:\n",
    "    squre=i.text\n",
    "    Squre_fit.append(squre)"
   ]
  },
  {
   "cell_type": "code",
   "execution_count": null,
   "id": "662a0a14",
   "metadata": {},
   "outputs": [],
   "source": [
    "print(len(Address),len(Squre_fit),len(Price))"
   ]
  },
  {
   "cell_type": "code",
   "execution_count": 134,
   "id": "e0c49f2f",
   "metadata": {},
   "outputs": [
    {
     "data": {
      "text/html": [
       "<div>\n",
       "<style scoped>\n",
       "    .dataframe tbody tr th:only-of-type {\n",
       "        vertical-align: middle;\n",
       "    }\n",
       "\n",
       "    .dataframe tbody tr th {\n",
       "        vertical-align: top;\n",
       "    }\n",
       "\n",
       "    .dataframe thead th {\n",
       "        text-align: right;\n",
       "    }\n",
       "</style>\n",
       "<table border=\"1\" class=\"dataframe\">\n",
       "  <thead>\n",
       "    <tr style=\"text-align: right;\">\n",
       "      <th></th>\n",
       "      <th>Address</th>\n",
       "      <th>Price</th>\n",
       "      <th>Squr</th>\n",
       "    </tr>\n",
       "  </thead>\n",
       "  <tbody>\n",
       "  </tbody>\n",
       "</table>\n",
       "</div>"
      ],
      "text/plain": [
       "Empty DataFrame\n",
       "Columns: [Address, Price, Squr]\n",
       "Index: []"
      ]
     },
     "execution_count": 134,
     "metadata": {},
     "output_type": "execute_result"
    }
   ],
   "source": [
    "import pandas as pd\n",
    "df=pd.DataFrame({'Address':Address, 'Price':Price, 'Squr':Squre_fit})\n",
    "df"
   ]
  },
  {
   "cell_type": "code",
   "execution_count": 135,
   "id": "61a3db9b",
   "metadata": {},
   "outputs": [
    {
     "ename": "NoSuchElementException",
     "evalue": "Message: no such element: Unable to locate element: {\"method\":\"xpath\",\"selector\":\"/html/body/div/div/div/section/div[1]/div[4]/div[1]/div[3]/nav/ul/li[7]/a\"}\n  (Session info: chrome=122.0.6261.69); For documentation on this error, please visit: https://www.selenium.dev/documentation/webdriver/troubleshooting/errors#no-such-element-exception\nStacktrace:\n\tGetHandleVerifier [0x00007FF7E2094C82+3505170]\n\t(No symbol) [0x00007FF7E1CC0852]\n\t(No symbol) [0x00007FF7E1B74145]\n\t(No symbol) [0x00007FF7E1BB9ADD]\n\t(No symbol) [0x00007FF7E1BB9C1C]\n\t(No symbol) [0x00007FF7E1BFAB27]\n\t(No symbol) [0x00007FF7E1BDBECF]\n\t(No symbol) [0x00007FF7E1BF83B2]\n\t(No symbol) [0x00007FF7E1BDBC33]\n\t(No symbol) [0x00007FF7E1BAD618]\n\t(No symbol) [0x00007FF7E1BAE6B1]\n\tGetHandleVerifier [0x00007FF7E20C67DD+3708781]\n\tGetHandleVerifier [0x00007FF7E211FC5D+4074477]\n\tGetHandleVerifier [0x00007FF7E2117DDF+4042095]\n\tGetHandleVerifier [0x00007FF7E1DEA136+708806]\n\t(No symbol) [0x00007FF7E1CCCB0F]\n\t(No symbol) [0x00007FF7E1CC7D14]\n\t(No symbol) [0x00007FF7E1CC7E6C]\n\t(No symbol) [0x00007FF7E1CB79A4]\n\tBaseThreadInitThunk [0x00007FFC747B257D+29]\n\tRtlUserThreadStart [0x00007FFC75D2AA58+40]\n",
     "output_type": "error",
     "traceback": [
      "\u001b[1;31m---------------------------------------------------------------------------\u001b[0m",
      "\u001b[1;31mNoSuchElementException\u001b[0m                    Traceback (most recent call last)",
      "\u001b[1;32m~\\AppData\\Local\\Temp\\ipykernel_7720\\96968946.py\u001b[0m in \u001b[0;36m<module>\u001b[1;34m\u001b[0m\n\u001b[0;32m      1\u001b[0m \u001b[1;31m#page 90\u001b[0m\u001b[1;33m\u001b[0m\u001b[1;33m\u001b[0m\u001b[0m\n\u001b[1;32m----> 2\u001b[1;33m \u001b[0mNext_button\u001b[0m\u001b[1;33m=\u001b[0m\u001b[0mdriver\u001b[0m\u001b[1;33m.\u001b[0m\u001b[0mfind_element\u001b[0m\u001b[1;33m(\u001b[0m\u001b[0mBy\u001b[0m\u001b[1;33m.\u001b[0m\u001b[0mXPATH\u001b[0m\u001b[1;33m,\u001b[0m\u001b[1;34m\"/html/body/div/div/div/section/div[1]/div[4]/div[1]/div[3]/nav/ul/li[7]/a\"\u001b[0m\u001b[1;33m)\u001b[0m\u001b[1;33m\u001b[0m\u001b[1;33m\u001b[0m\u001b[0m\n\u001b[0m\u001b[0;32m      3\u001b[0m \u001b[0mNext_button\u001b[0m\u001b[1;33m.\u001b[0m\u001b[0mclick\u001b[0m\u001b[1;33m(\u001b[0m\u001b[1;33m)\u001b[0m\u001b[1;33m\u001b[0m\u001b[1;33m\u001b[0m\u001b[0m\n",
      "\u001b[1;32m~\\anaconda3\\lib\\site-packages\\selenium\\webdriver\\remote\\webdriver.py\u001b[0m in \u001b[0;36mfind_element\u001b[1;34m(self, by, value)\u001b[0m\n\u001b[0;32m    736\u001b[0m             \u001b[0mvalue\u001b[0m \u001b[1;33m=\u001b[0m \u001b[1;34mf'[name=\"{value}\"]'\u001b[0m\u001b[1;33m\u001b[0m\u001b[1;33m\u001b[0m\u001b[0m\n\u001b[0;32m    737\u001b[0m \u001b[1;33m\u001b[0m\u001b[0m\n\u001b[1;32m--> 738\u001b[1;33m         \u001b[1;32mreturn\u001b[0m \u001b[0mself\u001b[0m\u001b[1;33m.\u001b[0m\u001b[0mexecute\u001b[0m\u001b[1;33m(\u001b[0m\u001b[0mCommand\u001b[0m\u001b[1;33m.\u001b[0m\u001b[0mFIND_ELEMENT\u001b[0m\u001b[1;33m,\u001b[0m \u001b[1;33m{\u001b[0m\u001b[1;34m\"using\"\u001b[0m\u001b[1;33m:\u001b[0m \u001b[0mby\u001b[0m\u001b[1;33m,\u001b[0m \u001b[1;34m\"value\"\u001b[0m\u001b[1;33m:\u001b[0m \u001b[0mvalue\u001b[0m\u001b[1;33m}\u001b[0m\u001b[1;33m)\u001b[0m\u001b[1;33m[\u001b[0m\u001b[1;34m\"value\"\u001b[0m\u001b[1;33m]\u001b[0m\u001b[1;33m\u001b[0m\u001b[1;33m\u001b[0m\u001b[0m\n\u001b[0m\u001b[0;32m    739\u001b[0m \u001b[1;33m\u001b[0m\u001b[0m\n\u001b[0;32m    740\u001b[0m     \u001b[1;32mdef\u001b[0m \u001b[0mfind_elements\u001b[0m\u001b[1;33m(\u001b[0m\u001b[0mself\u001b[0m\u001b[1;33m,\u001b[0m \u001b[0mby\u001b[0m\u001b[1;33m=\u001b[0m\u001b[0mBy\u001b[0m\u001b[1;33m.\u001b[0m\u001b[0mID\u001b[0m\u001b[1;33m,\u001b[0m \u001b[0mvalue\u001b[0m\u001b[1;33m:\u001b[0m \u001b[0mOptional\u001b[0m\u001b[1;33m[\u001b[0m\u001b[0mstr\u001b[0m\u001b[1;33m]\u001b[0m \u001b[1;33m=\u001b[0m \u001b[1;32mNone\u001b[0m\u001b[1;33m)\u001b[0m \u001b[1;33m->\u001b[0m \u001b[0mList\u001b[0m\u001b[1;33m[\u001b[0m\u001b[0mWebElement\u001b[0m\u001b[1;33m]\u001b[0m\u001b[1;33m:\u001b[0m\u001b[1;33m\u001b[0m\u001b[1;33m\u001b[0m\u001b[0m\n",
      "\u001b[1;32m~\\anaconda3\\lib\\site-packages\\selenium\\webdriver\\remote\\webdriver.py\u001b[0m in \u001b[0;36mexecute\u001b[1;34m(self, driver_command, params)\u001b[0m\n\u001b[0;32m    342\u001b[0m         \u001b[0mresponse\u001b[0m \u001b[1;33m=\u001b[0m \u001b[0mself\u001b[0m\u001b[1;33m.\u001b[0m\u001b[0mcommand_executor\u001b[0m\u001b[1;33m.\u001b[0m\u001b[0mexecute\u001b[0m\u001b[1;33m(\u001b[0m\u001b[0mdriver_command\u001b[0m\u001b[1;33m,\u001b[0m \u001b[0mparams\u001b[0m\u001b[1;33m)\u001b[0m\u001b[1;33m\u001b[0m\u001b[1;33m\u001b[0m\u001b[0m\n\u001b[0;32m    343\u001b[0m         \u001b[1;32mif\u001b[0m \u001b[0mresponse\u001b[0m\u001b[1;33m:\u001b[0m\u001b[1;33m\u001b[0m\u001b[1;33m\u001b[0m\u001b[0m\n\u001b[1;32m--> 344\u001b[1;33m             \u001b[0mself\u001b[0m\u001b[1;33m.\u001b[0m\u001b[0merror_handler\u001b[0m\u001b[1;33m.\u001b[0m\u001b[0mcheck_response\u001b[0m\u001b[1;33m(\u001b[0m\u001b[0mresponse\u001b[0m\u001b[1;33m)\u001b[0m\u001b[1;33m\u001b[0m\u001b[1;33m\u001b[0m\u001b[0m\n\u001b[0m\u001b[0;32m    345\u001b[0m             \u001b[0mresponse\u001b[0m\u001b[1;33m[\u001b[0m\u001b[1;34m\"value\"\u001b[0m\u001b[1;33m]\u001b[0m \u001b[1;33m=\u001b[0m \u001b[0mself\u001b[0m\u001b[1;33m.\u001b[0m\u001b[0m_unwrap_value\u001b[0m\u001b[1;33m(\u001b[0m\u001b[0mresponse\u001b[0m\u001b[1;33m.\u001b[0m\u001b[0mget\u001b[0m\u001b[1;33m(\u001b[0m\u001b[1;34m\"value\"\u001b[0m\u001b[1;33m,\u001b[0m \u001b[1;32mNone\u001b[0m\u001b[1;33m)\u001b[0m\u001b[1;33m)\u001b[0m\u001b[1;33m\u001b[0m\u001b[1;33m\u001b[0m\u001b[0m\n\u001b[0;32m    346\u001b[0m             \u001b[1;32mreturn\u001b[0m \u001b[0mresponse\u001b[0m\u001b[1;33m\u001b[0m\u001b[1;33m\u001b[0m\u001b[0m\n",
      "\u001b[1;32m~\\anaconda3\\lib\\site-packages\\selenium\\webdriver\\remote\\errorhandler.py\u001b[0m in \u001b[0;36mcheck_response\u001b[1;34m(self, response)\u001b[0m\n\u001b[0;32m    227\u001b[0m                 \u001b[0malert_text\u001b[0m \u001b[1;33m=\u001b[0m \u001b[0mvalue\u001b[0m\u001b[1;33m[\u001b[0m\u001b[1;34m\"alert\"\u001b[0m\u001b[1;33m]\u001b[0m\u001b[1;33m.\u001b[0m\u001b[0mget\u001b[0m\u001b[1;33m(\u001b[0m\u001b[1;34m\"text\"\u001b[0m\u001b[1;33m)\u001b[0m\u001b[1;33m\u001b[0m\u001b[1;33m\u001b[0m\u001b[0m\n\u001b[0;32m    228\u001b[0m             \u001b[1;32mraise\u001b[0m \u001b[0mexception_class\u001b[0m\u001b[1;33m(\u001b[0m\u001b[0mmessage\u001b[0m\u001b[1;33m,\u001b[0m \u001b[0mscreen\u001b[0m\u001b[1;33m,\u001b[0m \u001b[0mstacktrace\u001b[0m\u001b[1;33m,\u001b[0m \u001b[0malert_text\u001b[0m\u001b[1;33m)\u001b[0m  \u001b[1;31m# type: ignore[call-arg]  # mypy is not smart enough here\u001b[0m\u001b[1;33m\u001b[0m\u001b[1;33m\u001b[0m\u001b[0m\n\u001b[1;32m--> 229\u001b[1;33m         \u001b[1;32mraise\u001b[0m \u001b[0mexception_class\u001b[0m\u001b[1;33m(\u001b[0m\u001b[0mmessage\u001b[0m\u001b[1;33m,\u001b[0m \u001b[0mscreen\u001b[0m\u001b[1;33m,\u001b[0m \u001b[0mstacktrace\u001b[0m\u001b[1;33m)\u001b[0m\u001b[1;33m\u001b[0m\u001b[1;33m\u001b[0m\u001b[0m\n\u001b[0m",
      "\u001b[1;31mNoSuchElementException\u001b[0m: Message: no such element: Unable to locate element: {\"method\":\"xpath\",\"selector\":\"/html/body/div/div/div/section/div[1]/div[4]/div[1]/div[3]/nav/ul/li[7]/a\"}\n  (Session info: chrome=122.0.6261.69); For documentation on this error, please visit: https://www.selenium.dev/documentation/webdriver/troubleshooting/errors#no-such-element-exception\nStacktrace:\n\tGetHandleVerifier [0x00007FF7E2094C82+3505170]\n\t(No symbol) [0x00007FF7E1CC0852]\n\t(No symbol) [0x00007FF7E1B74145]\n\t(No symbol) [0x00007FF7E1BB9ADD]\n\t(No symbol) [0x00007FF7E1BB9C1C]\n\t(No symbol) [0x00007FF7E1BFAB27]\n\t(No symbol) [0x00007FF7E1BDBECF]\n\t(No symbol) [0x00007FF7E1BF83B2]\n\t(No symbol) [0x00007FF7E1BDBC33]\n\t(No symbol) [0x00007FF7E1BAD618]\n\t(No symbol) [0x00007FF7E1BAE6B1]\n\tGetHandleVerifier [0x00007FF7E20C67DD+3708781]\n\tGetHandleVerifier [0x00007FF7E211FC5D+4074477]\n\tGetHandleVerifier [0x00007FF7E2117DDF+4042095]\n\tGetHandleVerifier [0x00007FF7E1DEA136+708806]\n\t(No symbol) [0x00007FF7E1CCCB0F]\n\t(No symbol) [0x00007FF7E1CC7D14]\n\t(No symbol) [0x00007FF7E1CC7E6C]\n\t(No symbol) [0x00007FF7E1CB79A4]\n\tBaseThreadInitThunk [0x00007FFC747B257D+29]\n\tRtlUserThreadStart [0x00007FFC75D2AA58+40]\n"
     ]
    }
   ],
   "source": [
    "#page 90\n",
    "Next_button=driver.find_element(By.XPATH,\"/html/body/div/div/div/section/div[1]/div[4]/div[1]/div[3]/nav/ul/li[7]/a\")\n",
    "Next_button.click()"
   ]
  },
  {
   "cell_type": "code",
   "execution_count": null,
   "id": "d1add963",
   "metadata": {},
   "outputs": [],
   "source": [
    "Address=[]\n",
    "Price=[]\n",
    "Squre_fit=[]"
   ]
  },
  {
   "cell_type": "code",
   "execution_count": null,
   "id": "01097ab0",
   "metadata": {},
   "outputs": [],
   "source": [
    "Area_Address=driver.find_elements(By.XPATH,'//div[@class=\"addr-component\"]')\n",
    "for i in Area_Address[0:20]:\n",
    "    add=i.text\n",
    "    Address.append(add) \n",
    "    \n",
    "House_Price=driver.find_elements(By.XPATH,'//div[@class=\"h4 text-primary mb-0\"]')\n",
    "for i in House_Price[0:20]:\n",
    "    price=i.text\n",
    "    Price.append(price)\n",
    "    \n",
    "Squre=driver.find_elements(By.XPATH,'//div[@class=\"text-muted\"]')\n",
    "for i in Squre[0:20]:\n",
    "    squre=i.text\n",
    "    Squre_fit.append(squre)"
   ]
  },
  {
   "cell_type": "code",
   "execution_count": 136,
   "id": "af7acb09",
   "metadata": {},
   "outputs": [
    {
     "name": "stdout",
     "output_type": "stream",
     "text": [
      "0 0 0\n"
     ]
    }
   ],
   "source": [
    "print(len(Address),len(Squre_fit),len(Price))"
   ]
  },
  {
   "cell_type": "code",
   "execution_count": 137,
   "id": "bdc28f5e",
   "metadata": {},
   "outputs": [
    {
     "data": {
      "text/html": [
       "<div>\n",
       "<style scoped>\n",
       "    .dataframe tbody tr th:only-of-type {\n",
       "        vertical-align: middle;\n",
       "    }\n",
       "\n",
       "    .dataframe tbody tr th {\n",
       "        vertical-align: top;\n",
       "    }\n",
       "\n",
       "    .dataframe thead th {\n",
       "        text-align: right;\n",
       "    }\n",
       "</style>\n",
       "<table border=\"1\" class=\"dataframe\">\n",
       "  <thead>\n",
       "    <tr style=\"text-align: right;\">\n",
       "      <th></th>\n",
       "      <th>Address</th>\n",
       "      <th>Price</th>\n",
       "      <th>Squr</th>\n",
       "    </tr>\n",
       "  </thead>\n",
       "  <tbody>\n",
       "  </tbody>\n",
       "</table>\n",
       "</div>"
      ],
      "text/plain": [
       "Empty DataFrame\n",
       "Columns: [Address, Price, Squr]\n",
       "Index: []"
      ]
     },
     "execution_count": 137,
     "metadata": {},
     "output_type": "execute_result"
    }
   ],
   "source": [
    "import pandas as pd\n",
    "df=pd.DataFrame({'Address':Address, 'Price':Price, 'Squr':Squre_fit})\n",
    "df"
   ]
  },
  {
   "cell_type": "code",
   "execution_count": 138,
   "id": "bb67f17e",
   "metadata": {},
   "outputs": [
    {
     "ename": "NoSuchElementException",
     "evalue": "Message: no such element: Unable to locate element: {\"method\":\"xpath\",\"selector\":\"/html/body/div/div/div/section/div[1]/div[4]/div[1]/div[3]/nav/ul/li[7]/a\"}\n  (Session info: chrome=122.0.6261.69); For documentation on this error, please visit: https://www.selenium.dev/documentation/webdriver/troubleshooting/errors#no-such-element-exception\nStacktrace:\n\tGetHandleVerifier [0x00007FF7E2094C82+3505170]\n\t(No symbol) [0x00007FF7E1CC0852]\n\t(No symbol) [0x00007FF7E1B74145]\n\t(No symbol) [0x00007FF7E1BB9ADD]\n\t(No symbol) [0x00007FF7E1BB9C1C]\n\t(No symbol) [0x00007FF7E1BFAB27]\n\t(No symbol) [0x00007FF7E1BDBECF]\n\t(No symbol) [0x00007FF7E1BF83B2]\n\t(No symbol) [0x00007FF7E1BDBC33]\n\t(No symbol) [0x00007FF7E1BAD618]\n\t(No symbol) [0x00007FF7E1BAE6B1]\n\tGetHandleVerifier [0x00007FF7E20C67DD+3708781]\n\tGetHandleVerifier [0x00007FF7E211FC5D+4074477]\n\tGetHandleVerifier [0x00007FF7E2117DDF+4042095]\n\tGetHandleVerifier [0x00007FF7E1DEA136+708806]\n\t(No symbol) [0x00007FF7E1CCCB0F]\n\t(No symbol) [0x00007FF7E1CC7D14]\n\t(No symbol) [0x00007FF7E1CC7E6C]\n\t(No symbol) [0x00007FF7E1CB79A4]\n\tBaseThreadInitThunk [0x00007FFC747B257D+29]\n\tRtlUserThreadStart [0x00007FFC75D2AA58+40]\n",
     "output_type": "error",
     "traceback": [
      "\u001b[1;31m---------------------------------------------------------------------------\u001b[0m",
      "\u001b[1;31mNoSuchElementException\u001b[0m                    Traceback (most recent call last)",
      "\u001b[1;32m~\\AppData\\Local\\Temp\\ipykernel_7720\\1248165999.py\u001b[0m in \u001b[0;36m<module>\u001b[1;34m\u001b[0m\n\u001b[0;32m      1\u001b[0m \u001b[1;31m#page 91\u001b[0m\u001b[1;33m\u001b[0m\u001b[1;33m\u001b[0m\u001b[0m\n\u001b[1;32m----> 2\u001b[1;33m \u001b[0mNext_button\u001b[0m\u001b[1;33m=\u001b[0m\u001b[0mdriver\u001b[0m\u001b[1;33m.\u001b[0m\u001b[0mfind_element\u001b[0m\u001b[1;33m(\u001b[0m\u001b[0mBy\u001b[0m\u001b[1;33m.\u001b[0m\u001b[0mXPATH\u001b[0m\u001b[1;33m,\u001b[0m\u001b[1;34m\"/html/body/div/div/div/section/div[1]/div[4]/div[1]/div[3]/nav/ul/li[7]/a\"\u001b[0m\u001b[1;33m)\u001b[0m\u001b[1;33m\u001b[0m\u001b[1;33m\u001b[0m\u001b[0m\n\u001b[0m\u001b[0;32m      3\u001b[0m \u001b[0mNext_button\u001b[0m\u001b[1;33m.\u001b[0m\u001b[0mclick\u001b[0m\u001b[1;33m(\u001b[0m\u001b[1;33m)\u001b[0m\u001b[1;33m\u001b[0m\u001b[1;33m\u001b[0m\u001b[0m\n",
      "\u001b[1;32m~\\anaconda3\\lib\\site-packages\\selenium\\webdriver\\remote\\webdriver.py\u001b[0m in \u001b[0;36mfind_element\u001b[1;34m(self, by, value)\u001b[0m\n\u001b[0;32m    736\u001b[0m             \u001b[0mvalue\u001b[0m \u001b[1;33m=\u001b[0m \u001b[1;34mf'[name=\"{value}\"]'\u001b[0m\u001b[1;33m\u001b[0m\u001b[1;33m\u001b[0m\u001b[0m\n\u001b[0;32m    737\u001b[0m \u001b[1;33m\u001b[0m\u001b[0m\n\u001b[1;32m--> 738\u001b[1;33m         \u001b[1;32mreturn\u001b[0m \u001b[0mself\u001b[0m\u001b[1;33m.\u001b[0m\u001b[0mexecute\u001b[0m\u001b[1;33m(\u001b[0m\u001b[0mCommand\u001b[0m\u001b[1;33m.\u001b[0m\u001b[0mFIND_ELEMENT\u001b[0m\u001b[1;33m,\u001b[0m \u001b[1;33m{\u001b[0m\u001b[1;34m\"using\"\u001b[0m\u001b[1;33m:\u001b[0m \u001b[0mby\u001b[0m\u001b[1;33m,\u001b[0m \u001b[1;34m\"value\"\u001b[0m\u001b[1;33m:\u001b[0m \u001b[0mvalue\u001b[0m\u001b[1;33m}\u001b[0m\u001b[1;33m)\u001b[0m\u001b[1;33m[\u001b[0m\u001b[1;34m\"value\"\u001b[0m\u001b[1;33m]\u001b[0m\u001b[1;33m\u001b[0m\u001b[1;33m\u001b[0m\u001b[0m\n\u001b[0m\u001b[0;32m    739\u001b[0m \u001b[1;33m\u001b[0m\u001b[0m\n\u001b[0;32m    740\u001b[0m     \u001b[1;32mdef\u001b[0m \u001b[0mfind_elements\u001b[0m\u001b[1;33m(\u001b[0m\u001b[0mself\u001b[0m\u001b[1;33m,\u001b[0m \u001b[0mby\u001b[0m\u001b[1;33m=\u001b[0m\u001b[0mBy\u001b[0m\u001b[1;33m.\u001b[0m\u001b[0mID\u001b[0m\u001b[1;33m,\u001b[0m \u001b[0mvalue\u001b[0m\u001b[1;33m:\u001b[0m \u001b[0mOptional\u001b[0m\u001b[1;33m[\u001b[0m\u001b[0mstr\u001b[0m\u001b[1;33m]\u001b[0m \u001b[1;33m=\u001b[0m \u001b[1;32mNone\u001b[0m\u001b[1;33m)\u001b[0m \u001b[1;33m->\u001b[0m \u001b[0mList\u001b[0m\u001b[1;33m[\u001b[0m\u001b[0mWebElement\u001b[0m\u001b[1;33m]\u001b[0m\u001b[1;33m:\u001b[0m\u001b[1;33m\u001b[0m\u001b[1;33m\u001b[0m\u001b[0m\n",
      "\u001b[1;32m~\\anaconda3\\lib\\site-packages\\selenium\\webdriver\\remote\\webdriver.py\u001b[0m in \u001b[0;36mexecute\u001b[1;34m(self, driver_command, params)\u001b[0m\n\u001b[0;32m    342\u001b[0m         \u001b[0mresponse\u001b[0m \u001b[1;33m=\u001b[0m \u001b[0mself\u001b[0m\u001b[1;33m.\u001b[0m\u001b[0mcommand_executor\u001b[0m\u001b[1;33m.\u001b[0m\u001b[0mexecute\u001b[0m\u001b[1;33m(\u001b[0m\u001b[0mdriver_command\u001b[0m\u001b[1;33m,\u001b[0m \u001b[0mparams\u001b[0m\u001b[1;33m)\u001b[0m\u001b[1;33m\u001b[0m\u001b[1;33m\u001b[0m\u001b[0m\n\u001b[0;32m    343\u001b[0m         \u001b[1;32mif\u001b[0m \u001b[0mresponse\u001b[0m\u001b[1;33m:\u001b[0m\u001b[1;33m\u001b[0m\u001b[1;33m\u001b[0m\u001b[0m\n\u001b[1;32m--> 344\u001b[1;33m             \u001b[0mself\u001b[0m\u001b[1;33m.\u001b[0m\u001b[0merror_handler\u001b[0m\u001b[1;33m.\u001b[0m\u001b[0mcheck_response\u001b[0m\u001b[1;33m(\u001b[0m\u001b[0mresponse\u001b[0m\u001b[1;33m)\u001b[0m\u001b[1;33m\u001b[0m\u001b[1;33m\u001b[0m\u001b[0m\n\u001b[0m\u001b[0;32m    345\u001b[0m             \u001b[0mresponse\u001b[0m\u001b[1;33m[\u001b[0m\u001b[1;34m\"value\"\u001b[0m\u001b[1;33m]\u001b[0m \u001b[1;33m=\u001b[0m \u001b[0mself\u001b[0m\u001b[1;33m.\u001b[0m\u001b[0m_unwrap_value\u001b[0m\u001b[1;33m(\u001b[0m\u001b[0mresponse\u001b[0m\u001b[1;33m.\u001b[0m\u001b[0mget\u001b[0m\u001b[1;33m(\u001b[0m\u001b[1;34m\"value\"\u001b[0m\u001b[1;33m,\u001b[0m \u001b[1;32mNone\u001b[0m\u001b[1;33m)\u001b[0m\u001b[1;33m)\u001b[0m\u001b[1;33m\u001b[0m\u001b[1;33m\u001b[0m\u001b[0m\n\u001b[0;32m    346\u001b[0m             \u001b[1;32mreturn\u001b[0m \u001b[0mresponse\u001b[0m\u001b[1;33m\u001b[0m\u001b[1;33m\u001b[0m\u001b[0m\n",
      "\u001b[1;32m~\\anaconda3\\lib\\site-packages\\selenium\\webdriver\\remote\\errorhandler.py\u001b[0m in \u001b[0;36mcheck_response\u001b[1;34m(self, response)\u001b[0m\n\u001b[0;32m    227\u001b[0m                 \u001b[0malert_text\u001b[0m \u001b[1;33m=\u001b[0m \u001b[0mvalue\u001b[0m\u001b[1;33m[\u001b[0m\u001b[1;34m\"alert\"\u001b[0m\u001b[1;33m]\u001b[0m\u001b[1;33m.\u001b[0m\u001b[0mget\u001b[0m\u001b[1;33m(\u001b[0m\u001b[1;34m\"text\"\u001b[0m\u001b[1;33m)\u001b[0m\u001b[1;33m\u001b[0m\u001b[1;33m\u001b[0m\u001b[0m\n\u001b[0;32m    228\u001b[0m             \u001b[1;32mraise\u001b[0m \u001b[0mexception_class\u001b[0m\u001b[1;33m(\u001b[0m\u001b[0mmessage\u001b[0m\u001b[1;33m,\u001b[0m \u001b[0mscreen\u001b[0m\u001b[1;33m,\u001b[0m \u001b[0mstacktrace\u001b[0m\u001b[1;33m,\u001b[0m \u001b[0malert_text\u001b[0m\u001b[1;33m)\u001b[0m  \u001b[1;31m# type: ignore[call-arg]  # mypy is not smart enough here\u001b[0m\u001b[1;33m\u001b[0m\u001b[1;33m\u001b[0m\u001b[0m\n\u001b[1;32m--> 229\u001b[1;33m         \u001b[1;32mraise\u001b[0m \u001b[0mexception_class\u001b[0m\u001b[1;33m(\u001b[0m\u001b[0mmessage\u001b[0m\u001b[1;33m,\u001b[0m \u001b[0mscreen\u001b[0m\u001b[1;33m,\u001b[0m \u001b[0mstacktrace\u001b[0m\u001b[1;33m)\u001b[0m\u001b[1;33m\u001b[0m\u001b[1;33m\u001b[0m\u001b[0m\n\u001b[0m",
      "\u001b[1;31mNoSuchElementException\u001b[0m: Message: no such element: Unable to locate element: {\"method\":\"xpath\",\"selector\":\"/html/body/div/div/div/section/div[1]/div[4]/div[1]/div[3]/nav/ul/li[7]/a\"}\n  (Session info: chrome=122.0.6261.69); For documentation on this error, please visit: https://www.selenium.dev/documentation/webdriver/troubleshooting/errors#no-such-element-exception\nStacktrace:\n\tGetHandleVerifier [0x00007FF7E2094C82+3505170]\n\t(No symbol) [0x00007FF7E1CC0852]\n\t(No symbol) [0x00007FF7E1B74145]\n\t(No symbol) [0x00007FF7E1BB9ADD]\n\t(No symbol) [0x00007FF7E1BB9C1C]\n\t(No symbol) [0x00007FF7E1BFAB27]\n\t(No symbol) [0x00007FF7E1BDBECF]\n\t(No symbol) [0x00007FF7E1BF83B2]\n\t(No symbol) [0x00007FF7E1BDBC33]\n\t(No symbol) [0x00007FF7E1BAD618]\n\t(No symbol) [0x00007FF7E1BAE6B1]\n\tGetHandleVerifier [0x00007FF7E20C67DD+3708781]\n\tGetHandleVerifier [0x00007FF7E211FC5D+4074477]\n\tGetHandleVerifier [0x00007FF7E2117DDF+4042095]\n\tGetHandleVerifier [0x00007FF7E1DEA136+708806]\n\t(No symbol) [0x00007FF7E1CCCB0F]\n\t(No symbol) [0x00007FF7E1CC7D14]\n\t(No symbol) [0x00007FF7E1CC7E6C]\n\t(No symbol) [0x00007FF7E1CB79A4]\n\tBaseThreadInitThunk [0x00007FFC747B257D+29]\n\tRtlUserThreadStart [0x00007FFC75D2AA58+40]\n"
     ]
    }
   ],
   "source": [
    "#page 91\n",
    "Next_button=driver.find_element(By.XPATH,\"/html/body/div/div/div/section/div[1]/div[4]/div[1]/div[3]/nav/ul/li[7]/a\")\n",
    "Next_button.click()"
   ]
  },
  {
   "cell_type": "code",
   "execution_count": null,
   "id": "d209fdc2",
   "metadata": {},
   "outputs": [],
   "source": [
    "Address=[]\n",
    "Price=[]\n",
    "Squre_fit=[]"
   ]
  },
  {
   "cell_type": "code",
   "execution_count": null,
   "id": "55759ca1",
   "metadata": {},
   "outputs": [],
   "source": [
    "Area_Address=driver.find_elements(By.XPATH,'//div[@class=\"addr-component\"]')\n",
    "for i in Area_Address[0:20]:\n",
    "    add=i.text\n",
    "    Address.append(add) \n",
    "    \n",
    "House_Price=driver.find_elements(By.XPATH,'//div[@class=\"h4 text-primary mb-0\"]')\n",
    "for i in House_Price[0:20]:\n",
    "    price=i.text\n",
    "    Price.append(price)\n",
    "    \n",
    "Squre=driver.find_elements(By.XPATH,'//div[@class=\"text-muted\"]')\n",
    "for i in Squre[0:20]:\n",
    "    squre=i.text\n",
    "    Squre_fit.append(squre)"
   ]
  },
  {
   "cell_type": "code",
   "execution_count": null,
   "id": "18ea479d",
   "metadata": {},
   "outputs": [],
   "source": [
    "print(len(Address),len(Squre_fit),len(Price))"
   ]
  },
  {
   "cell_type": "code",
   "execution_count": null,
   "id": "278baabc",
   "metadata": {},
   "outputs": [],
   "source": [
    "import pandas as pd\n",
    "df=pd.DataFrame({'Address':Address, 'Price':Price, 'Squr':Squre_fit})\n",
    "df"
   ]
  },
  {
   "cell_type": "code",
   "execution_count": 139,
   "id": "f9004d80",
   "metadata": {},
   "outputs": [
    {
     "ename": "NoSuchElementException",
     "evalue": "Message: no such element: Unable to locate element: {\"method\":\"xpath\",\"selector\":\"/html/body/div/div/div/section/div[1]/div[4]/div[1]/div[3]/nav/ul/li[7]/a\"}\n  (Session info: chrome=122.0.6261.69); For documentation on this error, please visit: https://www.selenium.dev/documentation/webdriver/troubleshooting/errors#no-such-element-exception\nStacktrace:\n\tGetHandleVerifier [0x00007FF7E2094C82+3505170]\n\t(No symbol) [0x00007FF7E1CC0852]\n\t(No symbol) [0x00007FF7E1B74145]\n\t(No symbol) [0x00007FF7E1BB9ADD]\n\t(No symbol) [0x00007FF7E1BB9C1C]\n\t(No symbol) [0x00007FF7E1BFAB27]\n\t(No symbol) [0x00007FF7E1BDBECF]\n\t(No symbol) [0x00007FF7E1BF83B2]\n\t(No symbol) [0x00007FF7E1BDBC33]\n\t(No symbol) [0x00007FF7E1BAD618]\n\t(No symbol) [0x00007FF7E1BAE6B1]\n\tGetHandleVerifier [0x00007FF7E20C67DD+3708781]\n\tGetHandleVerifier [0x00007FF7E211FC5D+4074477]\n\tGetHandleVerifier [0x00007FF7E2117DDF+4042095]\n\tGetHandleVerifier [0x00007FF7E1DEA136+708806]\n\t(No symbol) [0x00007FF7E1CCCB0F]\n\t(No symbol) [0x00007FF7E1CC7D14]\n\t(No symbol) [0x00007FF7E1CC7E6C]\n\t(No symbol) [0x00007FF7E1CB79A4]\n\tBaseThreadInitThunk [0x00007FFC747B257D+29]\n\tRtlUserThreadStart [0x00007FFC75D2AA58+40]\n",
     "output_type": "error",
     "traceback": [
      "\u001b[1;31m---------------------------------------------------------------------------\u001b[0m",
      "\u001b[1;31mNoSuchElementException\u001b[0m                    Traceback (most recent call last)",
      "\u001b[1;32m~\\AppData\\Local\\Temp\\ipykernel_7720\\3090242435.py\u001b[0m in \u001b[0;36m<module>\u001b[1;34m\u001b[0m\n\u001b[0;32m      1\u001b[0m \u001b[1;31m#page 92\u001b[0m\u001b[1;33m\u001b[0m\u001b[1;33m\u001b[0m\u001b[0m\n\u001b[1;32m----> 2\u001b[1;33m \u001b[0mNext_button\u001b[0m\u001b[1;33m=\u001b[0m\u001b[0mdriver\u001b[0m\u001b[1;33m.\u001b[0m\u001b[0mfind_element\u001b[0m\u001b[1;33m(\u001b[0m\u001b[0mBy\u001b[0m\u001b[1;33m.\u001b[0m\u001b[0mXPATH\u001b[0m\u001b[1;33m,\u001b[0m\u001b[1;34m\"/html/body/div/div/div/section/div[1]/div[4]/div[1]/div[3]/nav/ul/li[7]/a\"\u001b[0m\u001b[1;33m)\u001b[0m\u001b[1;33m\u001b[0m\u001b[1;33m\u001b[0m\u001b[0m\n\u001b[0m\u001b[0;32m      3\u001b[0m \u001b[0mNext_button\u001b[0m\u001b[1;33m.\u001b[0m\u001b[0mclick\u001b[0m\u001b[1;33m(\u001b[0m\u001b[1;33m)\u001b[0m\u001b[1;33m\u001b[0m\u001b[1;33m\u001b[0m\u001b[0m\n",
      "\u001b[1;32m~\\anaconda3\\lib\\site-packages\\selenium\\webdriver\\remote\\webdriver.py\u001b[0m in \u001b[0;36mfind_element\u001b[1;34m(self, by, value)\u001b[0m\n\u001b[0;32m    736\u001b[0m             \u001b[0mvalue\u001b[0m \u001b[1;33m=\u001b[0m \u001b[1;34mf'[name=\"{value}\"]'\u001b[0m\u001b[1;33m\u001b[0m\u001b[1;33m\u001b[0m\u001b[0m\n\u001b[0;32m    737\u001b[0m \u001b[1;33m\u001b[0m\u001b[0m\n\u001b[1;32m--> 738\u001b[1;33m         \u001b[1;32mreturn\u001b[0m \u001b[0mself\u001b[0m\u001b[1;33m.\u001b[0m\u001b[0mexecute\u001b[0m\u001b[1;33m(\u001b[0m\u001b[0mCommand\u001b[0m\u001b[1;33m.\u001b[0m\u001b[0mFIND_ELEMENT\u001b[0m\u001b[1;33m,\u001b[0m \u001b[1;33m{\u001b[0m\u001b[1;34m\"using\"\u001b[0m\u001b[1;33m:\u001b[0m \u001b[0mby\u001b[0m\u001b[1;33m,\u001b[0m \u001b[1;34m\"value\"\u001b[0m\u001b[1;33m:\u001b[0m \u001b[0mvalue\u001b[0m\u001b[1;33m}\u001b[0m\u001b[1;33m)\u001b[0m\u001b[1;33m[\u001b[0m\u001b[1;34m\"value\"\u001b[0m\u001b[1;33m]\u001b[0m\u001b[1;33m\u001b[0m\u001b[1;33m\u001b[0m\u001b[0m\n\u001b[0m\u001b[0;32m    739\u001b[0m \u001b[1;33m\u001b[0m\u001b[0m\n\u001b[0;32m    740\u001b[0m     \u001b[1;32mdef\u001b[0m \u001b[0mfind_elements\u001b[0m\u001b[1;33m(\u001b[0m\u001b[0mself\u001b[0m\u001b[1;33m,\u001b[0m \u001b[0mby\u001b[0m\u001b[1;33m=\u001b[0m\u001b[0mBy\u001b[0m\u001b[1;33m.\u001b[0m\u001b[0mID\u001b[0m\u001b[1;33m,\u001b[0m \u001b[0mvalue\u001b[0m\u001b[1;33m:\u001b[0m \u001b[0mOptional\u001b[0m\u001b[1;33m[\u001b[0m\u001b[0mstr\u001b[0m\u001b[1;33m]\u001b[0m \u001b[1;33m=\u001b[0m \u001b[1;32mNone\u001b[0m\u001b[1;33m)\u001b[0m \u001b[1;33m->\u001b[0m \u001b[0mList\u001b[0m\u001b[1;33m[\u001b[0m\u001b[0mWebElement\u001b[0m\u001b[1;33m]\u001b[0m\u001b[1;33m:\u001b[0m\u001b[1;33m\u001b[0m\u001b[1;33m\u001b[0m\u001b[0m\n",
      "\u001b[1;32m~\\anaconda3\\lib\\site-packages\\selenium\\webdriver\\remote\\webdriver.py\u001b[0m in \u001b[0;36mexecute\u001b[1;34m(self, driver_command, params)\u001b[0m\n\u001b[0;32m    342\u001b[0m         \u001b[0mresponse\u001b[0m \u001b[1;33m=\u001b[0m \u001b[0mself\u001b[0m\u001b[1;33m.\u001b[0m\u001b[0mcommand_executor\u001b[0m\u001b[1;33m.\u001b[0m\u001b[0mexecute\u001b[0m\u001b[1;33m(\u001b[0m\u001b[0mdriver_command\u001b[0m\u001b[1;33m,\u001b[0m \u001b[0mparams\u001b[0m\u001b[1;33m)\u001b[0m\u001b[1;33m\u001b[0m\u001b[1;33m\u001b[0m\u001b[0m\n\u001b[0;32m    343\u001b[0m         \u001b[1;32mif\u001b[0m \u001b[0mresponse\u001b[0m\u001b[1;33m:\u001b[0m\u001b[1;33m\u001b[0m\u001b[1;33m\u001b[0m\u001b[0m\n\u001b[1;32m--> 344\u001b[1;33m             \u001b[0mself\u001b[0m\u001b[1;33m.\u001b[0m\u001b[0merror_handler\u001b[0m\u001b[1;33m.\u001b[0m\u001b[0mcheck_response\u001b[0m\u001b[1;33m(\u001b[0m\u001b[0mresponse\u001b[0m\u001b[1;33m)\u001b[0m\u001b[1;33m\u001b[0m\u001b[1;33m\u001b[0m\u001b[0m\n\u001b[0m\u001b[0;32m    345\u001b[0m             \u001b[0mresponse\u001b[0m\u001b[1;33m[\u001b[0m\u001b[1;34m\"value\"\u001b[0m\u001b[1;33m]\u001b[0m \u001b[1;33m=\u001b[0m \u001b[0mself\u001b[0m\u001b[1;33m.\u001b[0m\u001b[0m_unwrap_value\u001b[0m\u001b[1;33m(\u001b[0m\u001b[0mresponse\u001b[0m\u001b[1;33m.\u001b[0m\u001b[0mget\u001b[0m\u001b[1;33m(\u001b[0m\u001b[1;34m\"value\"\u001b[0m\u001b[1;33m,\u001b[0m \u001b[1;32mNone\u001b[0m\u001b[1;33m)\u001b[0m\u001b[1;33m)\u001b[0m\u001b[1;33m\u001b[0m\u001b[1;33m\u001b[0m\u001b[0m\n\u001b[0;32m    346\u001b[0m             \u001b[1;32mreturn\u001b[0m \u001b[0mresponse\u001b[0m\u001b[1;33m\u001b[0m\u001b[1;33m\u001b[0m\u001b[0m\n",
      "\u001b[1;32m~\\anaconda3\\lib\\site-packages\\selenium\\webdriver\\remote\\errorhandler.py\u001b[0m in \u001b[0;36mcheck_response\u001b[1;34m(self, response)\u001b[0m\n\u001b[0;32m    227\u001b[0m                 \u001b[0malert_text\u001b[0m \u001b[1;33m=\u001b[0m \u001b[0mvalue\u001b[0m\u001b[1;33m[\u001b[0m\u001b[1;34m\"alert\"\u001b[0m\u001b[1;33m]\u001b[0m\u001b[1;33m.\u001b[0m\u001b[0mget\u001b[0m\u001b[1;33m(\u001b[0m\u001b[1;34m\"text\"\u001b[0m\u001b[1;33m)\u001b[0m\u001b[1;33m\u001b[0m\u001b[1;33m\u001b[0m\u001b[0m\n\u001b[0;32m    228\u001b[0m             \u001b[1;32mraise\u001b[0m \u001b[0mexception_class\u001b[0m\u001b[1;33m(\u001b[0m\u001b[0mmessage\u001b[0m\u001b[1;33m,\u001b[0m \u001b[0mscreen\u001b[0m\u001b[1;33m,\u001b[0m \u001b[0mstacktrace\u001b[0m\u001b[1;33m,\u001b[0m \u001b[0malert_text\u001b[0m\u001b[1;33m)\u001b[0m  \u001b[1;31m# type: ignore[call-arg]  # mypy is not smart enough here\u001b[0m\u001b[1;33m\u001b[0m\u001b[1;33m\u001b[0m\u001b[0m\n\u001b[1;32m--> 229\u001b[1;33m         \u001b[1;32mraise\u001b[0m \u001b[0mexception_class\u001b[0m\u001b[1;33m(\u001b[0m\u001b[0mmessage\u001b[0m\u001b[1;33m,\u001b[0m \u001b[0mscreen\u001b[0m\u001b[1;33m,\u001b[0m \u001b[0mstacktrace\u001b[0m\u001b[1;33m)\u001b[0m\u001b[1;33m\u001b[0m\u001b[1;33m\u001b[0m\u001b[0m\n\u001b[0m",
      "\u001b[1;31mNoSuchElementException\u001b[0m: Message: no such element: Unable to locate element: {\"method\":\"xpath\",\"selector\":\"/html/body/div/div/div/section/div[1]/div[4]/div[1]/div[3]/nav/ul/li[7]/a\"}\n  (Session info: chrome=122.0.6261.69); For documentation on this error, please visit: https://www.selenium.dev/documentation/webdriver/troubleshooting/errors#no-such-element-exception\nStacktrace:\n\tGetHandleVerifier [0x00007FF7E2094C82+3505170]\n\t(No symbol) [0x00007FF7E1CC0852]\n\t(No symbol) [0x00007FF7E1B74145]\n\t(No symbol) [0x00007FF7E1BB9ADD]\n\t(No symbol) [0x00007FF7E1BB9C1C]\n\t(No symbol) [0x00007FF7E1BFAB27]\n\t(No symbol) [0x00007FF7E1BDBECF]\n\t(No symbol) [0x00007FF7E1BF83B2]\n\t(No symbol) [0x00007FF7E1BDBC33]\n\t(No symbol) [0x00007FF7E1BAD618]\n\t(No symbol) [0x00007FF7E1BAE6B1]\n\tGetHandleVerifier [0x00007FF7E20C67DD+3708781]\n\tGetHandleVerifier [0x00007FF7E211FC5D+4074477]\n\tGetHandleVerifier [0x00007FF7E2117DDF+4042095]\n\tGetHandleVerifier [0x00007FF7E1DEA136+708806]\n\t(No symbol) [0x00007FF7E1CCCB0F]\n\t(No symbol) [0x00007FF7E1CC7D14]\n\t(No symbol) [0x00007FF7E1CC7E6C]\n\t(No symbol) [0x00007FF7E1CB79A4]\n\tBaseThreadInitThunk [0x00007FFC747B257D+29]\n\tRtlUserThreadStart [0x00007FFC75D2AA58+40]\n"
     ]
    }
   ],
   "source": [
    "#page 92\n",
    "Next_button=driver.find_element(By.XPATH,\"/html/body/div/div/div/section/div[1]/div[4]/div[1]/div[3]/nav/ul/li[7]/a\")\n",
    "Next_button.click()"
   ]
  },
  {
   "cell_type": "code",
   "execution_count": null,
   "id": "f4362ff5",
   "metadata": {},
   "outputs": [],
   "source": [
    "Address=[]\n",
    "Price=[]\n",
    "Squre_fit=[]"
   ]
  },
  {
   "cell_type": "code",
   "execution_count": null,
   "id": "faf07eb4",
   "metadata": {},
   "outputs": [],
   "source": [
    "Area_Address=driver.find_elements(By.XPATH,'//div[@class=\"addr-component\"]')\n",
    "for i in Area_Address[0:20]:\n",
    "    add=i.text\n",
    "    Address.append(add) \n",
    "    \n",
    "House_Price=driver.find_elements(By.XPATH,'//div[@class=\"h4 text-primary mb-0\"]')\n",
    "for i in House_Price[0:20]:\n",
    "    price=i.text\n",
    "    Price.append(price)\n",
    "    \n",
    "Squre=driver.find_elements(By.XPATH,'//div[@class=\"text-muted\"]')\n",
    "for i in Squre[0:20]:\n",
    "    squre=i.text\n",
    "    Squre_fit.append(squre)"
   ]
  },
  {
   "cell_type": "code",
   "execution_count": null,
   "id": "48f58c11",
   "metadata": {},
   "outputs": [],
   "source": [
    "print(len(Address),len(Squre_fit),len(Price))"
   ]
  },
  {
   "cell_type": "code",
   "execution_count": 140,
   "id": "a9b48174",
   "metadata": {},
   "outputs": [
    {
     "data": {
      "text/html": [
       "<div>\n",
       "<style scoped>\n",
       "    .dataframe tbody tr th:only-of-type {\n",
       "        vertical-align: middle;\n",
       "    }\n",
       "\n",
       "    .dataframe tbody tr th {\n",
       "        vertical-align: top;\n",
       "    }\n",
       "\n",
       "    .dataframe thead th {\n",
       "        text-align: right;\n",
       "    }\n",
       "</style>\n",
       "<table border=\"1\" class=\"dataframe\">\n",
       "  <thead>\n",
       "    <tr style=\"text-align: right;\">\n",
       "      <th></th>\n",
       "      <th>Address</th>\n",
       "      <th>Price</th>\n",
       "      <th>Squr</th>\n",
       "    </tr>\n",
       "  </thead>\n",
       "  <tbody>\n",
       "  </tbody>\n",
       "</table>\n",
       "</div>"
      ],
      "text/plain": [
       "Empty DataFrame\n",
       "Columns: [Address, Price, Squr]\n",
       "Index: []"
      ]
     },
     "execution_count": 140,
     "metadata": {},
     "output_type": "execute_result"
    }
   ],
   "source": [
    "import pandas as pd\n",
    "df=pd.DataFrame({'Address':Address, 'Price':Price, 'Squr':Squre_fit})\n",
    "df"
   ]
  },
  {
   "cell_type": "code",
   "execution_count": 141,
   "id": "135ba0ba",
   "metadata": {},
   "outputs": [
    {
     "ename": "NoSuchElementException",
     "evalue": "Message: no such element: Unable to locate element: {\"method\":\"xpath\",\"selector\":\"/html/body/div/div/div/section/div[1]/div[4]/div[1]/div[3]/nav/ul/li[7]/a\"}\n  (Session info: chrome=122.0.6261.69); For documentation on this error, please visit: https://www.selenium.dev/documentation/webdriver/troubleshooting/errors#no-such-element-exception\nStacktrace:\n\tGetHandleVerifier [0x00007FF7E2094C82+3505170]\n\t(No symbol) [0x00007FF7E1CC0852]\n\t(No symbol) [0x00007FF7E1B74145]\n\t(No symbol) [0x00007FF7E1BB9ADD]\n\t(No symbol) [0x00007FF7E1BB9C1C]\n\t(No symbol) [0x00007FF7E1BFAB27]\n\t(No symbol) [0x00007FF7E1BDBECF]\n\t(No symbol) [0x00007FF7E1BF83B2]\n\t(No symbol) [0x00007FF7E1BDBC33]\n\t(No symbol) [0x00007FF7E1BAD618]\n\t(No symbol) [0x00007FF7E1BAE6B1]\n\tGetHandleVerifier [0x00007FF7E20C67DD+3708781]\n\tGetHandleVerifier [0x00007FF7E211FC5D+4074477]\n\tGetHandleVerifier [0x00007FF7E2117DDF+4042095]\n\tGetHandleVerifier [0x00007FF7E1DEA136+708806]\n\t(No symbol) [0x00007FF7E1CCCB0F]\n\t(No symbol) [0x00007FF7E1CC7D14]\n\t(No symbol) [0x00007FF7E1CC7E6C]\n\t(No symbol) [0x00007FF7E1CB79A4]\n\tBaseThreadInitThunk [0x00007FFC747B257D+29]\n\tRtlUserThreadStart [0x00007FFC75D2AA58+40]\n",
     "output_type": "error",
     "traceback": [
      "\u001b[1;31m---------------------------------------------------------------------------\u001b[0m",
      "\u001b[1;31mNoSuchElementException\u001b[0m                    Traceback (most recent call last)",
      "\u001b[1;32m~\\AppData\\Local\\Temp\\ipykernel_7720\\2590379147.py\u001b[0m in \u001b[0;36m<module>\u001b[1;34m\u001b[0m\n\u001b[0;32m      1\u001b[0m \u001b[1;31m#page 93\u001b[0m\u001b[1;33m\u001b[0m\u001b[1;33m\u001b[0m\u001b[0m\n\u001b[1;32m----> 2\u001b[1;33m \u001b[0mNext_button\u001b[0m\u001b[1;33m=\u001b[0m\u001b[0mdriver\u001b[0m\u001b[1;33m.\u001b[0m\u001b[0mfind_element\u001b[0m\u001b[1;33m(\u001b[0m\u001b[0mBy\u001b[0m\u001b[1;33m.\u001b[0m\u001b[0mXPATH\u001b[0m\u001b[1;33m,\u001b[0m\u001b[1;34m\"/html/body/div/div/div/section/div[1]/div[4]/div[1]/div[3]/nav/ul/li[7]/a\"\u001b[0m\u001b[1;33m)\u001b[0m\u001b[1;33m\u001b[0m\u001b[1;33m\u001b[0m\u001b[0m\n\u001b[0m\u001b[0;32m      3\u001b[0m \u001b[0mNext_button\u001b[0m\u001b[1;33m.\u001b[0m\u001b[0mclick\u001b[0m\u001b[1;33m(\u001b[0m\u001b[1;33m)\u001b[0m\u001b[1;33m\u001b[0m\u001b[1;33m\u001b[0m\u001b[0m\n",
      "\u001b[1;32m~\\anaconda3\\lib\\site-packages\\selenium\\webdriver\\remote\\webdriver.py\u001b[0m in \u001b[0;36mfind_element\u001b[1;34m(self, by, value)\u001b[0m\n\u001b[0;32m    736\u001b[0m             \u001b[0mvalue\u001b[0m \u001b[1;33m=\u001b[0m \u001b[1;34mf'[name=\"{value}\"]'\u001b[0m\u001b[1;33m\u001b[0m\u001b[1;33m\u001b[0m\u001b[0m\n\u001b[0;32m    737\u001b[0m \u001b[1;33m\u001b[0m\u001b[0m\n\u001b[1;32m--> 738\u001b[1;33m         \u001b[1;32mreturn\u001b[0m \u001b[0mself\u001b[0m\u001b[1;33m.\u001b[0m\u001b[0mexecute\u001b[0m\u001b[1;33m(\u001b[0m\u001b[0mCommand\u001b[0m\u001b[1;33m.\u001b[0m\u001b[0mFIND_ELEMENT\u001b[0m\u001b[1;33m,\u001b[0m \u001b[1;33m{\u001b[0m\u001b[1;34m\"using\"\u001b[0m\u001b[1;33m:\u001b[0m \u001b[0mby\u001b[0m\u001b[1;33m,\u001b[0m \u001b[1;34m\"value\"\u001b[0m\u001b[1;33m:\u001b[0m \u001b[0mvalue\u001b[0m\u001b[1;33m}\u001b[0m\u001b[1;33m)\u001b[0m\u001b[1;33m[\u001b[0m\u001b[1;34m\"value\"\u001b[0m\u001b[1;33m]\u001b[0m\u001b[1;33m\u001b[0m\u001b[1;33m\u001b[0m\u001b[0m\n\u001b[0m\u001b[0;32m    739\u001b[0m \u001b[1;33m\u001b[0m\u001b[0m\n\u001b[0;32m    740\u001b[0m     \u001b[1;32mdef\u001b[0m \u001b[0mfind_elements\u001b[0m\u001b[1;33m(\u001b[0m\u001b[0mself\u001b[0m\u001b[1;33m,\u001b[0m \u001b[0mby\u001b[0m\u001b[1;33m=\u001b[0m\u001b[0mBy\u001b[0m\u001b[1;33m.\u001b[0m\u001b[0mID\u001b[0m\u001b[1;33m,\u001b[0m \u001b[0mvalue\u001b[0m\u001b[1;33m:\u001b[0m \u001b[0mOptional\u001b[0m\u001b[1;33m[\u001b[0m\u001b[0mstr\u001b[0m\u001b[1;33m]\u001b[0m \u001b[1;33m=\u001b[0m \u001b[1;32mNone\u001b[0m\u001b[1;33m)\u001b[0m \u001b[1;33m->\u001b[0m \u001b[0mList\u001b[0m\u001b[1;33m[\u001b[0m\u001b[0mWebElement\u001b[0m\u001b[1;33m]\u001b[0m\u001b[1;33m:\u001b[0m\u001b[1;33m\u001b[0m\u001b[1;33m\u001b[0m\u001b[0m\n",
      "\u001b[1;32m~\\anaconda3\\lib\\site-packages\\selenium\\webdriver\\remote\\webdriver.py\u001b[0m in \u001b[0;36mexecute\u001b[1;34m(self, driver_command, params)\u001b[0m\n\u001b[0;32m    342\u001b[0m         \u001b[0mresponse\u001b[0m \u001b[1;33m=\u001b[0m \u001b[0mself\u001b[0m\u001b[1;33m.\u001b[0m\u001b[0mcommand_executor\u001b[0m\u001b[1;33m.\u001b[0m\u001b[0mexecute\u001b[0m\u001b[1;33m(\u001b[0m\u001b[0mdriver_command\u001b[0m\u001b[1;33m,\u001b[0m \u001b[0mparams\u001b[0m\u001b[1;33m)\u001b[0m\u001b[1;33m\u001b[0m\u001b[1;33m\u001b[0m\u001b[0m\n\u001b[0;32m    343\u001b[0m         \u001b[1;32mif\u001b[0m \u001b[0mresponse\u001b[0m\u001b[1;33m:\u001b[0m\u001b[1;33m\u001b[0m\u001b[1;33m\u001b[0m\u001b[0m\n\u001b[1;32m--> 344\u001b[1;33m             \u001b[0mself\u001b[0m\u001b[1;33m.\u001b[0m\u001b[0merror_handler\u001b[0m\u001b[1;33m.\u001b[0m\u001b[0mcheck_response\u001b[0m\u001b[1;33m(\u001b[0m\u001b[0mresponse\u001b[0m\u001b[1;33m)\u001b[0m\u001b[1;33m\u001b[0m\u001b[1;33m\u001b[0m\u001b[0m\n\u001b[0m\u001b[0;32m    345\u001b[0m             \u001b[0mresponse\u001b[0m\u001b[1;33m[\u001b[0m\u001b[1;34m\"value\"\u001b[0m\u001b[1;33m]\u001b[0m \u001b[1;33m=\u001b[0m \u001b[0mself\u001b[0m\u001b[1;33m.\u001b[0m\u001b[0m_unwrap_value\u001b[0m\u001b[1;33m(\u001b[0m\u001b[0mresponse\u001b[0m\u001b[1;33m.\u001b[0m\u001b[0mget\u001b[0m\u001b[1;33m(\u001b[0m\u001b[1;34m\"value\"\u001b[0m\u001b[1;33m,\u001b[0m \u001b[1;32mNone\u001b[0m\u001b[1;33m)\u001b[0m\u001b[1;33m)\u001b[0m\u001b[1;33m\u001b[0m\u001b[1;33m\u001b[0m\u001b[0m\n\u001b[0;32m    346\u001b[0m             \u001b[1;32mreturn\u001b[0m \u001b[0mresponse\u001b[0m\u001b[1;33m\u001b[0m\u001b[1;33m\u001b[0m\u001b[0m\n",
      "\u001b[1;32m~\\anaconda3\\lib\\site-packages\\selenium\\webdriver\\remote\\errorhandler.py\u001b[0m in \u001b[0;36mcheck_response\u001b[1;34m(self, response)\u001b[0m\n\u001b[0;32m    227\u001b[0m                 \u001b[0malert_text\u001b[0m \u001b[1;33m=\u001b[0m \u001b[0mvalue\u001b[0m\u001b[1;33m[\u001b[0m\u001b[1;34m\"alert\"\u001b[0m\u001b[1;33m]\u001b[0m\u001b[1;33m.\u001b[0m\u001b[0mget\u001b[0m\u001b[1;33m(\u001b[0m\u001b[1;34m\"text\"\u001b[0m\u001b[1;33m)\u001b[0m\u001b[1;33m\u001b[0m\u001b[1;33m\u001b[0m\u001b[0m\n\u001b[0;32m    228\u001b[0m             \u001b[1;32mraise\u001b[0m \u001b[0mexception_class\u001b[0m\u001b[1;33m(\u001b[0m\u001b[0mmessage\u001b[0m\u001b[1;33m,\u001b[0m \u001b[0mscreen\u001b[0m\u001b[1;33m,\u001b[0m \u001b[0mstacktrace\u001b[0m\u001b[1;33m,\u001b[0m \u001b[0malert_text\u001b[0m\u001b[1;33m)\u001b[0m  \u001b[1;31m# type: ignore[call-arg]  # mypy is not smart enough here\u001b[0m\u001b[1;33m\u001b[0m\u001b[1;33m\u001b[0m\u001b[0m\n\u001b[1;32m--> 229\u001b[1;33m         \u001b[1;32mraise\u001b[0m \u001b[0mexception_class\u001b[0m\u001b[1;33m(\u001b[0m\u001b[0mmessage\u001b[0m\u001b[1;33m,\u001b[0m \u001b[0mscreen\u001b[0m\u001b[1;33m,\u001b[0m \u001b[0mstacktrace\u001b[0m\u001b[1;33m)\u001b[0m\u001b[1;33m\u001b[0m\u001b[1;33m\u001b[0m\u001b[0m\n\u001b[0m",
      "\u001b[1;31mNoSuchElementException\u001b[0m: Message: no such element: Unable to locate element: {\"method\":\"xpath\",\"selector\":\"/html/body/div/div/div/section/div[1]/div[4]/div[1]/div[3]/nav/ul/li[7]/a\"}\n  (Session info: chrome=122.0.6261.69); For documentation on this error, please visit: https://www.selenium.dev/documentation/webdriver/troubleshooting/errors#no-such-element-exception\nStacktrace:\n\tGetHandleVerifier [0x00007FF7E2094C82+3505170]\n\t(No symbol) [0x00007FF7E1CC0852]\n\t(No symbol) [0x00007FF7E1B74145]\n\t(No symbol) [0x00007FF7E1BB9ADD]\n\t(No symbol) [0x00007FF7E1BB9C1C]\n\t(No symbol) [0x00007FF7E1BFAB27]\n\t(No symbol) [0x00007FF7E1BDBECF]\n\t(No symbol) [0x00007FF7E1BF83B2]\n\t(No symbol) [0x00007FF7E1BDBC33]\n\t(No symbol) [0x00007FF7E1BAD618]\n\t(No symbol) [0x00007FF7E1BAE6B1]\n\tGetHandleVerifier [0x00007FF7E20C67DD+3708781]\n\tGetHandleVerifier [0x00007FF7E211FC5D+4074477]\n\tGetHandleVerifier [0x00007FF7E2117DDF+4042095]\n\tGetHandleVerifier [0x00007FF7E1DEA136+708806]\n\t(No symbol) [0x00007FF7E1CCCB0F]\n\t(No symbol) [0x00007FF7E1CC7D14]\n\t(No symbol) [0x00007FF7E1CC7E6C]\n\t(No symbol) [0x00007FF7E1CB79A4]\n\tBaseThreadInitThunk [0x00007FFC747B257D+29]\n\tRtlUserThreadStart [0x00007FFC75D2AA58+40]\n"
     ]
    }
   ],
   "source": [
    "#page 93\n",
    "Next_button=driver.find_element(By.XPATH,\"/html/body/div/div/div/section/div[1]/div[4]/div[1]/div[3]/nav/ul/li[7]/a\")\n",
    "Next_button.click()"
   ]
  },
  {
   "cell_type": "code",
   "execution_count": null,
   "id": "98850286",
   "metadata": {},
   "outputs": [],
   "source": [
    "Address=[]\n",
    "Price=[]\n",
    "Squre_fit=[]"
   ]
  },
  {
   "cell_type": "code",
   "execution_count": null,
   "id": "4be8708b",
   "metadata": {},
   "outputs": [],
   "source": [
    "Area_Address=driver.find_elements(By.XPATH,'//div[@class=\"addr-component\"]')\n",
    "for i in Area_Address[0:20]:\n",
    "    add=i.text\n",
    "    Address.append(add) \n",
    "    \n",
    "House_Price=driver.find_elements(By.XPATH,'//div[@class=\"h4 text-primary mb-0\"]')\n",
    "for i in House_Price[0:20]:\n",
    "    price=i.text\n",
    "    Price.append(price)\n",
    "    \n",
    "Squre=driver.find_elements(By.XPATH,'//div[@class=\"text-muted\"]')\n",
    "for i in Squre[0:20]:\n",
    "    squre=i.text\n",
    "    Squre_fit.append(squre)"
   ]
  },
  {
   "cell_type": "code",
   "execution_count": null,
   "id": "fbb08d9d",
   "metadata": {},
   "outputs": [],
   "source": [
    "print(len(Address),len(Squre_fit),len(Price))"
   ]
  },
  {
   "cell_type": "code",
   "execution_count": 142,
   "id": "5dfd9630",
   "metadata": {},
   "outputs": [
    {
     "data": {
      "text/html": [
       "<div>\n",
       "<style scoped>\n",
       "    .dataframe tbody tr th:only-of-type {\n",
       "        vertical-align: middle;\n",
       "    }\n",
       "\n",
       "    .dataframe tbody tr th {\n",
       "        vertical-align: top;\n",
       "    }\n",
       "\n",
       "    .dataframe thead th {\n",
       "        text-align: right;\n",
       "    }\n",
       "</style>\n",
       "<table border=\"1\" class=\"dataframe\">\n",
       "  <thead>\n",
       "    <tr style=\"text-align: right;\">\n",
       "      <th></th>\n",
       "      <th>Address</th>\n",
       "      <th>Price</th>\n",
       "      <th>Squr</th>\n",
       "    </tr>\n",
       "  </thead>\n",
       "  <tbody>\n",
       "  </tbody>\n",
       "</table>\n",
       "</div>"
      ],
      "text/plain": [
       "Empty DataFrame\n",
       "Columns: [Address, Price, Squr]\n",
       "Index: []"
      ]
     },
     "execution_count": 142,
     "metadata": {},
     "output_type": "execute_result"
    }
   ],
   "source": [
    "import pandas as pd\n",
    "df=pd.DataFrame({'Address':Address, 'Price':Price, 'Squr':Squre_fit})\n",
    "df"
   ]
  },
  {
   "cell_type": "markdown",
   "id": "f0ce6871",
   "metadata": {},
   "source": [
    "# WebScrapping of quikr"
   ]
  },
  {
   "cell_type": "code",
   "execution_count": 143,
   "id": "35fde3d1",
   "metadata": {},
   "outputs": [],
   "source": [
    "driver=webdriver.Chrome()"
   ]
  },
  {
   "cell_type": "code",
   "execution_count": 144,
   "id": "8c04ccbf",
   "metadata": {},
   "outputs": [],
   "source": [
    "driver.get(\"https://www.quikr.com/homes\")"
   ]
  },
  {
   "cell_type": "code",
   "execution_count": 145,
   "id": "b9a922da",
   "metadata": {},
   "outputs": [],
   "source": [
    "select_city=driver.find_element(By.XPATH, \"/html/body/div[8]/div/div/div[2]/div/div[2]/div[1]/div/ul/li[2]/a\")\n",
    "select_city.click()"
   ]
  },
  {
   "cell_type": "code",
   "execution_count": 146,
   "id": "9b71644b",
   "metadata": {},
   "outputs": [],
   "source": [
    "select_rent=driver.find_element(By.XPATH,\"/html/body/div[3]/div/div/form/div[2]/div[1]/div/ul/li[2]/a\")\n",
    "select_rent.click()"
   ]
  },
  {
   "cell_type": "code",
   "execution_count": 147,
   "id": "a7ea5dff",
   "metadata": {},
   "outputs": [],
   "source": [
    "#title=driver.find_element(By.CLASS_NAME,\"tophe\")\n",
    "#title.click()"
   ]
  },
  {
   "cell_type": "code",
   "execution_count": 148,
   "id": "753cff93",
   "metadata": {},
   "outputs": [],
   "source": [
    "Title=[]\n",
    "Address=[]\n",
    "City=[]\n",
    "Build_Up_Area = []\n",
    "Ad_Posted=[]\n",
    "Price=[]"
   ]
  },
  {
   "cell_type": "code",
   "execution_count": 149,
   "id": "18ca58a0",
   "metadata": {},
   "outputs": [],
   "source": [
    "Rent_title=driver.find_elements(By.XPATH,'//a[@class=\"listtitle notclickb\"]')\n",
    "for i in Rent_title:\n",
    "    title=i.text\n",
    "    Title.append(title)\n",
    "\n",
    "\n",
    "\n",
    "Area_Address=driver.find_elements(By.XPATH,'//h3[@class=\"listloc\"]')\n",
    "for i in Area_Address:\n",
    "    address=i.text\n",
    "    Address.append(address)\n",
    "\n",
    "\n",
    "Rent_City=driver.find_elements(By.XPATH,'//a[@class=\"notclickb\"]')\n",
    "for i in Rent_City:\n",
    "    city=i.text\n",
    "    City.append(city)\n",
    "\n",
    "\n",
    "\n",
    "Area_Build=driver.find_elements(By.XPATH,'/html/body/div[4]/section[2]/div/section/div/div/div/div[3]/div[1]/div[6]/div[1]/div[1]/div/div/div[*]/div/div[2]/div[3]/div[1]/ul/li[1]/span')\n",
    "for i in Area_Build:\n",
    "    build=i.text\n",
    "    Build_Up_Area.append(build)\n",
    "\n",
    "   \n",
    "    \n",
    "Post=driver.find_elements(By.XPATH,'/html/body/div[4]/section[2]/div/section/div/div/div/div[3]/div[1]/div[6]/div[1]/div[1]/div/div/div[*]/div/div[2]/div[3]/div[1]/ul/li[3]')\n",
    "for i in Post:\n",
    "    post=i.text\n",
    "    Ad_Posted.append(post)\n",
    "    \n",
    "    \n",
    "   \n",
    "    \n",
    "Rent_price=driver.find_elements(By.XPATH,'//div[@class=\"prsg\"]')\n",
    "for i in Rent_price:\n",
    "    price=i.text\n",
    "    Price.append(price)\n",
    "\n"
   ]
  },
  {
   "cell_type": "code",
   "execution_count": 150,
   "id": "dd3941fd",
   "metadata": {},
   "outputs": [
    {
     "name": "stdout",
     "output_type": "stream",
     "text": [
      "21 21 21 21 21 21\n"
     ]
    }
   ],
   "source": [
    "print(len(Title),len(Address),len(City),len(Build_Up_Area),len(Ad_Posted),len(Price))"
   ]
  },
  {
   "cell_type": "code",
   "execution_count": 151,
   "id": "473fd90e",
   "metadata": {},
   "outputs": [
    {
     "data": {
      "text/html": [
       "<div>\n",
       "<style scoped>\n",
       "    .dataframe tbody tr th:only-of-type {\n",
       "        vertical-align: middle;\n",
       "    }\n",
       "\n",
       "    .dataframe tbody tr th {\n",
       "        vertical-align: top;\n",
       "    }\n",
       "\n",
       "    .dataframe thead th {\n",
       "        text-align: right;\n",
       "    }\n",
       "</style>\n",
       "<table border=\"1\" class=\"dataframe\">\n",
       "  <thead>\n",
       "    <tr style=\"text-align: right;\">\n",
       "      <th></th>\n",
       "      <th>Title</th>\n",
       "      <th>Address</th>\n",
       "      <th>City</th>\n",
       "      <th>Build_Up_Area</th>\n",
       "      <th>Ad_Posted</th>\n",
       "      <th>Price</th>\n",
       "    </tr>\n",
       "  </thead>\n",
       "  <tbody>\n",
       "    <tr>\n",
       "      <th>0</th>\n",
       "      <td>3 BHK rent Villa in Sarjapur, Bangalore</td>\n",
       "      <td>RERA Regd Casagrand Florella, Sarjapur, Bangalore</td>\n",
       "      <td>Sarjapur,</td>\n",
       "      <td>1500 Sq.Ft.\\n(139.35 Sq.M)</td>\n",
       "      <td>POSTED\\n27-Dec-2023</td>\n",
       "      <td>40,000</td>\n",
       "    </tr>\n",
       "    <tr>\n",
       "      <th>1</th>\n",
       "      <td>3 BHK rent Apartment in Koramangala, Bangalore</td>\n",
       "      <td>National Games Village, Koramangala, Bangalore</td>\n",
       "      <td>Koramangala,</td>\n",
       "      <td>1400 Sq.Ft.\\n(130.06 Sq.M)</td>\n",
       "      <td>POSTED\\n29-Jan-2024</td>\n",
       "      <td>49,500</td>\n",
       "    </tr>\n",
       "    <tr>\n",
       "      <th>2</th>\n",
       "      <td>3 BHK rent Apartment in Raghuvanahalli, Bangalore</td>\n",
       "      <td>Shivaganga Silverline, Raghuvanahalli, Bangalore</td>\n",
       "      <td>Raghuvanahalli,</td>\n",
       "      <td>1380 Sq.Ft.\\n(128.21 Sq.M)</td>\n",
       "      <td>POSTED\\n21-Feb-2024</td>\n",
       "      <td>28,000</td>\n",
       "    </tr>\n",
       "    <tr>\n",
       "      <th>3</th>\n",
       "      <td>3 BHK rent Apartment in Sarjapur Road, Bangalore</td>\n",
       "      <td>RERA Regd Sobha Royal Pavilion, Sarjapur Road,...</td>\n",
       "      <td>Sarjapur Road,</td>\n",
       "      <td>1507 Sq.Ft.\\n(140 Sq.M)</td>\n",
       "      <td>POSTED\\n24-Jan-2024</td>\n",
       "      <td>75,000</td>\n",
       "    </tr>\n",
       "    <tr>\n",
       "      <th>4</th>\n",
       "      <td>4+ BHK rent Villa in Whitefield, Bangalore</td>\n",
       "      <td>Adarsh Serenity, Whitefield, Bangalore</td>\n",
       "      <td>Whitefield,</td>\n",
       "      <td>4300 Sq.Ft.\\n(399.48 Sq.M)</td>\n",
       "      <td>POSTED\\n11-Feb-2024</td>\n",
       "      <td>1.50 Lakh</td>\n",
       "    </tr>\n",
       "    <tr>\n",
       "      <th>5</th>\n",
       "      <td>3 BHK rent Apartment in JP Nagar, Bangalore</td>\n",
       "      <td>HM World City, JP Nagar, Bangalore</td>\n",
       "      <td>JP Nagar,</td>\n",
       "      <td>1995 Sq.Ft.\\n(185.34 Sq.M)</td>\n",
       "      <td>POSTED\\n25-Feb-2024</td>\n",
       "      <td>45,000</td>\n",
       "    </tr>\n",
       "    <tr>\n",
       "      <th>6</th>\n",
       "      <td>2 BHK 1000 Sq. ft Apartment for rent in J.P. N...</td>\n",
       "      <td>J.P. Nagar, Bangalore</td>\n",
       "      <td>J.P. Nagar,</td>\n",
       "      <td>1000 Sq.Ft.\\n(92.9 Sq.M)</td>\n",
       "      <td>DEPOSIT PRICE\\n150000</td>\n",
       "      <td>15,000</td>\n",
       "    </tr>\n",
       "    <tr>\n",
       "      <th>7</th>\n",
       "      <td>3 BHK rent Apartment in Thanisandra Main Road,...</td>\n",
       "      <td>Sobha City Casa Serenita, Thanisandra Main Roa...</td>\n",
       "      <td>Thanisandra Main Road,</td>\n",
       "      <td>1801 Sq.Ft.\\n(167.32 Sq.M)</td>\n",
       "      <td>POSTED\\n24-Jan-2024</td>\n",
       "      <td>50,000</td>\n",
       "    </tr>\n",
       "    <tr>\n",
       "      <th>8</th>\n",
       "      <td>2 BHK rent Apartment in Old Madras Road, Banga...</td>\n",
       "      <td>RERA Regd Sattva East Crest, Old Madras Road, ...</td>\n",
       "      <td>Old Madras Road,</td>\n",
       "      <td>1157 Sq.Ft.\\n(107.49 Sq.M)</td>\n",
       "      <td>POSTED\\n13-Feb-2024</td>\n",
       "      <td>30,000</td>\n",
       "    </tr>\n",
       "    <tr>\n",
       "      <th>9</th>\n",
       "      <td>3 BHK rent Apartment in Kanakapura Road, Banga...</td>\n",
       "      <td>Gravity Maanasa Nilayam, Kanakapura Road, Bang...</td>\n",
       "      <td>Kanakapura Road,</td>\n",
       "      <td>2400 Sq.Ft.\\n(222.97 Sq.M)</td>\n",
       "      <td>POSTED\\n15-Jan-2024</td>\n",
       "      <td>40,000</td>\n",
       "    </tr>\n",
       "    <tr>\n",
       "      <th>10</th>\n",
       "      <td>1 BHK rent Apartment in Indiranagar 100 Feet R...</td>\n",
       "      <td>Indiranagar 100 Feet Road, Bangalore</td>\n",
       "      <td>Indiranagar 100 Feet Road,</td>\n",
       "      <td>800 Sq.Ft.\\n(74.32 Sq.M)</td>\n",
       "      <td>POSTED\\n18-Jan-2024</td>\n",
       "      <td>29,000</td>\n",
       "    </tr>\n",
       "    <tr>\n",
       "      <th>11</th>\n",
       "      <td>2 BHK rent Apartment in Hebbal Kempapura, Bang...</td>\n",
       "      <td>North Square Apartment, Hebbal Kempapura, Bang...</td>\n",
       "      <td>Hebbal Kempapura,</td>\n",
       "      <td>950 Sq.Ft.\\n(88.26 Sq.M)</td>\n",
       "      <td>POSTED\\n15-Feb-2024</td>\n",
       "      <td>1,000</td>\n",
       "    </tr>\n",
       "    <tr>\n",
       "      <th>12</th>\n",
       "      <td>2 BHK 950 Sq. ft Apartment for rent in Kengeri...</td>\n",
       "      <td>Royal Elite Residency Plots, Kengeri, Bangalore</td>\n",
       "      <td>Kengeri,</td>\n",
       "      <td>950 Sq.Ft.\\n(88.26 Sq.M)</td>\n",
       "      <td>DEPOSIT PRICE\\n200000</td>\n",
       "      <td>20,000</td>\n",
       "    </tr>\n",
       "    <tr>\n",
       "      <th>13</th>\n",
       "      <td>2 BHK 1180 Sq. ft Apartment for rent in Electr...</td>\n",
       "      <td>Electronic City Phase II, Bangalore</td>\n",
       "      <td>Electronic City Phase II,</td>\n",
       "      <td>1180 Sq.Ft.\\n(109.63 Sq.M)</td>\n",
       "      <td>DEPOSIT PRICE\\n150000</td>\n",
       "      <td>25,000</td>\n",
       "    </tr>\n",
       "    <tr>\n",
       "      <th>14</th>\n",
       "      <td>2 BHK 1150 Sq. ft Apartment for rent in BTM La...</td>\n",
       "      <td>BTM Layout 2nd Stage, Bangalore</td>\n",
       "      <td>BTM Layout 2nd Stage,</td>\n",
       "      <td>1150 Sq.Ft.\\n(106.84 Sq.M)</td>\n",
       "      <td>DEPOSIT PRICE\\n150000</td>\n",
       "      <td>25,000</td>\n",
       "    </tr>\n",
       "    <tr>\n",
       "      <th>15</th>\n",
       "      <td>2 BHK 1100 Sq. ft Apartment for rent in Korama...</td>\n",
       "      <td>Koramangala 5th Block, Bangalore</td>\n",
       "      <td>Koramangala 5th Block,</td>\n",
       "      <td>1100 Sq.Ft.\\n(102.19 Sq.M)</td>\n",
       "      <td>DEPOSIT PRICE\\n250000</td>\n",
       "      <td>40,000</td>\n",
       "    </tr>\n",
       "    <tr>\n",
       "      <th>16</th>\n",
       "      <td>3 BHK Villa for Rent in JP Nagar, Bangalore</td>\n",
       "      <td>JP Nagar, Bangalore</td>\n",
       "      <td>JP Nagar,</td>\n",
       "      <td>1900 Sq.Ft.\\n(176.52 Sq.M)</td>\n",
       "      <td>POSTED\\n29-Dec-2023</td>\n",
       "      <td>55,000</td>\n",
       "    </tr>\n",
       "    <tr>\n",
       "      <th>17</th>\n",
       "      <td>2 BHK 1000 Sq. ft Apartment for rent in Indira...</td>\n",
       "      <td>Indiranagar 100 Feet Road, Bangalore</td>\n",
       "      <td>Indiranagar 100 Feet Road,</td>\n",
       "      <td>1000 Sq.Ft.\\n(92.9 Sq.M)</td>\n",
       "      <td>DEPOSIT PRICE\\n200000</td>\n",
       "      <td>30,000</td>\n",
       "    </tr>\n",
       "    <tr>\n",
       "      <th>18</th>\n",
       "      <td>1 BHK 600 Sq. ft Apartment for rent in Indiran...</td>\n",
       "      <td>Indiranagar 100 Feet Road, Bangalore</td>\n",
       "      <td>Indiranagar 100 Feet Road,</td>\n",
       "      <td>600 Sq.Ft.\\n(55.74 Sq.M)</td>\n",
       "      <td>DEPOSIT PRICE\\n100000</td>\n",
       "      <td>20,000</td>\n",
       "    </tr>\n",
       "    <tr>\n",
       "      <th>19</th>\n",
       "      <td>2 BHK rent Apartment in Doddaballapur Road, Ba...</td>\n",
       "      <td>Provident WelWorth City, Doddaballapur Road, B...</td>\n",
       "      <td>Doddaballapur Road,</td>\n",
       "      <td>900 Sq.Ft.\\n(83.61 Sq.M)</td>\n",
       "      <td>POSTED\\n25-Feb-2024</td>\n",
       "      <td>14,500</td>\n",
       "    </tr>\n",
       "    <tr>\n",
       "      <th>20</th>\n",
       "      <td>1 BHK rent Apartment in Frazer Town, Bangalore</td>\n",
       "      <td>Le Orchid, Frazer Town, Bangalore</td>\n",
       "      <td>Frazer Town,</td>\n",
       "      <td>700 Sq.Ft.\\n(65.03 Sq.M)</td>\n",
       "      <td>POSTED\\n24-Feb-2024</td>\n",
       "      <td>24,000</td>\n",
       "    </tr>\n",
       "  </tbody>\n",
       "</table>\n",
       "</div>"
      ],
      "text/plain": [
       "                                                Title  \\\n",
       "0             3 BHK rent Villa in Sarjapur, Bangalore   \n",
       "1      3 BHK rent Apartment in Koramangala, Bangalore   \n",
       "2   3 BHK rent Apartment in Raghuvanahalli, Bangalore   \n",
       "3    3 BHK rent Apartment in Sarjapur Road, Bangalore   \n",
       "4          4+ BHK rent Villa in Whitefield, Bangalore   \n",
       "5         3 BHK rent Apartment in JP Nagar, Bangalore   \n",
       "6   2 BHK 1000 Sq. ft Apartment for rent in J.P. N...   \n",
       "7   3 BHK rent Apartment in Thanisandra Main Road,...   \n",
       "8   2 BHK rent Apartment in Old Madras Road, Banga...   \n",
       "9   3 BHK rent Apartment in Kanakapura Road, Banga...   \n",
       "10  1 BHK rent Apartment in Indiranagar 100 Feet R...   \n",
       "11  2 BHK rent Apartment in Hebbal Kempapura, Bang...   \n",
       "12  2 BHK 950 Sq. ft Apartment for rent in Kengeri...   \n",
       "13  2 BHK 1180 Sq. ft Apartment for rent in Electr...   \n",
       "14  2 BHK 1150 Sq. ft Apartment for rent in BTM La...   \n",
       "15  2 BHK 1100 Sq. ft Apartment for rent in Korama...   \n",
       "16        3 BHK Villa for Rent in JP Nagar, Bangalore   \n",
       "17  2 BHK 1000 Sq. ft Apartment for rent in Indira...   \n",
       "18  1 BHK 600 Sq. ft Apartment for rent in Indiran...   \n",
       "19  2 BHK rent Apartment in Doddaballapur Road, Ba...   \n",
       "20     1 BHK rent Apartment in Frazer Town, Bangalore   \n",
       "\n",
       "                                              Address  \\\n",
       "0   RERA Regd Casagrand Florella, Sarjapur, Bangalore   \n",
       "1      National Games Village, Koramangala, Bangalore   \n",
       "2    Shivaganga Silverline, Raghuvanahalli, Bangalore   \n",
       "3   RERA Regd Sobha Royal Pavilion, Sarjapur Road,...   \n",
       "4              Adarsh Serenity, Whitefield, Bangalore   \n",
       "5                  HM World City, JP Nagar, Bangalore   \n",
       "6                               J.P. Nagar, Bangalore   \n",
       "7   Sobha City Casa Serenita, Thanisandra Main Roa...   \n",
       "8   RERA Regd Sattva East Crest, Old Madras Road, ...   \n",
       "9   Gravity Maanasa Nilayam, Kanakapura Road, Bang...   \n",
       "10               Indiranagar 100 Feet Road, Bangalore   \n",
       "11  North Square Apartment, Hebbal Kempapura, Bang...   \n",
       "12    Royal Elite Residency Plots, Kengeri, Bangalore   \n",
       "13                Electronic City Phase II, Bangalore   \n",
       "14                    BTM Layout 2nd Stage, Bangalore   \n",
       "15                   Koramangala 5th Block, Bangalore   \n",
       "16                                JP Nagar, Bangalore   \n",
       "17               Indiranagar 100 Feet Road, Bangalore   \n",
       "18               Indiranagar 100 Feet Road, Bangalore   \n",
       "19  Provident WelWorth City, Doddaballapur Road, B...   \n",
       "20                  Le Orchid, Frazer Town, Bangalore   \n",
       "\n",
       "                          City               Build_Up_Area  \\\n",
       "0                    Sarjapur,  1500 Sq.Ft.\\n(139.35 Sq.M)   \n",
       "1                 Koramangala,  1400 Sq.Ft.\\n(130.06 Sq.M)   \n",
       "2              Raghuvanahalli,  1380 Sq.Ft.\\n(128.21 Sq.M)   \n",
       "3               Sarjapur Road,     1507 Sq.Ft.\\n(140 Sq.M)   \n",
       "4                  Whitefield,  4300 Sq.Ft.\\n(399.48 Sq.M)   \n",
       "5                    JP Nagar,  1995 Sq.Ft.\\n(185.34 Sq.M)   \n",
       "6                  J.P. Nagar,    1000 Sq.Ft.\\n(92.9 Sq.M)   \n",
       "7       Thanisandra Main Road,  1801 Sq.Ft.\\n(167.32 Sq.M)   \n",
       "8             Old Madras Road,  1157 Sq.Ft.\\n(107.49 Sq.M)   \n",
       "9             Kanakapura Road,  2400 Sq.Ft.\\n(222.97 Sq.M)   \n",
       "10  Indiranagar 100 Feet Road,    800 Sq.Ft.\\n(74.32 Sq.M)   \n",
       "11           Hebbal Kempapura,    950 Sq.Ft.\\n(88.26 Sq.M)   \n",
       "12                    Kengeri,    950 Sq.Ft.\\n(88.26 Sq.M)   \n",
       "13   Electronic City Phase II,  1180 Sq.Ft.\\n(109.63 Sq.M)   \n",
       "14       BTM Layout 2nd Stage,  1150 Sq.Ft.\\n(106.84 Sq.M)   \n",
       "15      Koramangala 5th Block,  1100 Sq.Ft.\\n(102.19 Sq.M)   \n",
       "16                   JP Nagar,  1900 Sq.Ft.\\n(176.52 Sq.M)   \n",
       "17  Indiranagar 100 Feet Road,    1000 Sq.Ft.\\n(92.9 Sq.M)   \n",
       "18  Indiranagar 100 Feet Road,    600 Sq.Ft.\\n(55.74 Sq.M)   \n",
       "19         Doddaballapur Road,    900 Sq.Ft.\\n(83.61 Sq.M)   \n",
       "20                Frazer Town,    700 Sq.Ft.\\n(65.03 Sq.M)   \n",
       "\n",
       "                Ad_Posted      Price  \n",
       "0     POSTED\\n27-Dec-2023     40,000  \n",
       "1     POSTED\\n29-Jan-2024     49,500  \n",
       "2     POSTED\\n21-Feb-2024     28,000  \n",
       "3     POSTED\\n24-Jan-2024     75,000  \n",
       "4     POSTED\\n11-Feb-2024  1.50 Lakh  \n",
       "5     POSTED\\n25-Feb-2024     45,000  \n",
       "6   DEPOSIT PRICE\\n150000     15,000  \n",
       "7     POSTED\\n24-Jan-2024     50,000  \n",
       "8     POSTED\\n13-Feb-2024     30,000  \n",
       "9     POSTED\\n15-Jan-2024     40,000  \n",
       "10    POSTED\\n18-Jan-2024     29,000  \n",
       "11    POSTED\\n15-Feb-2024      1,000  \n",
       "12  DEPOSIT PRICE\\n200000     20,000  \n",
       "13  DEPOSIT PRICE\\n150000     25,000  \n",
       "14  DEPOSIT PRICE\\n150000     25,000  \n",
       "15  DEPOSIT PRICE\\n250000     40,000  \n",
       "16    POSTED\\n29-Dec-2023     55,000  \n",
       "17  DEPOSIT PRICE\\n200000     30,000  \n",
       "18  DEPOSIT PRICE\\n100000     20,000  \n",
       "19    POSTED\\n25-Feb-2024     14,500  \n",
       "20    POSTED\\n24-Feb-2024     24,000  "
      ]
     },
     "execution_count": 151,
     "metadata": {},
     "output_type": "execute_result"
    }
   ],
   "source": [
    "import pandas as pd\n",
    "df=pd.DataFrame({'Title':Title, 'Address':Address,'City':City,'Build_Up_Area':Build_Up_Area,'Ad_Posted':Ad_Posted, 'Price':Price})\n",
    "df"
   ]
  },
  {
   "cell_type": "code",
   "execution_count": null,
   "id": "7c69fa74",
   "metadata": {},
   "outputs": [],
   "source": []
  },
  {
   "cell_type": "code",
   "execution_count": 152,
   "id": "561d2927",
   "metadata": {},
   "outputs": [],
   "source": [
    "#Page 2\n",
    "Next_button=driver.find_element(By.CLASS_NAME,\"next\")\n",
    "Next_button.click()"
   ]
  },
  {
   "cell_type": "code",
   "execution_count": 153,
   "id": "9efbe4fb",
   "metadata": {},
   "outputs": [],
   "source": [
    "Title=[]\n",
    "Address=[]\n",
    "City=[]\n",
    "Build_Up_Area = []\n",
    "Ad_Posted=[]\n",
    "Price=[]"
   ]
  },
  {
   "cell_type": "code",
   "execution_count": 154,
   "id": "302da8aa",
   "metadata": {},
   "outputs": [
    {
     "ename": "StaleElementReferenceException",
     "evalue": "Message: stale element reference: stale element not found\n  (Session info: chrome=122.0.6261.69); For documentation on this error, please visit: https://www.selenium.dev/documentation/webdriver/troubleshooting/errors#stale-element-reference-exception\nStacktrace:\n\tGetHandleVerifier [0x00007FF7E2094C82+3505170]\n\t(No symbol) [0x00007FF7E1CC0852]\n\t(No symbol) [0x00007FF7E1B74145]\n\t(No symbol) [0x00007FF7E1B790C1]\n\t(No symbol) [0x00007FF7E1B7B54B]\n\t(No symbol) [0x00007FF7E1B7B610]\n\t(No symbol) [0x00007FF7E1BB4F7B]\n\t(No symbol) [0x00007FF7E1BDBE8A]\n\t(No symbol) [0x00007FF7E1BAF27A]\n\t(No symbol) [0x00007FF7E1BDC0A0]\n\t(No symbol) [0x00007FF7E1BF83B2]\n\t(No symbol) [0x00007FF7E1BDBC33]\n\t(No symbol) [0x00007FF7E1BAD618]\n\t(No symbol) [0x00007FF7E1BAE6B1]\n\tGetHandleVerifier [0x00007FF7E20C67DD+3708781]\n\tGetHandleVerifier [0x00007FF7E211FC5D+4074477]\n\tGetHandleVerifier [0x00007FF7E2117DDF+4042095]\n\tGetHandleVerifier [0x00007FF7E1DEA136+708806]\n\t(No symbol) [0x00007FF7E1CCCB0F]\n\t(No symbol) [0x00007FF7E1CC7D14]\n\t(No symbol) [0x00007FF7E1CC7E6C]\n\t(No symbol) [0x00007FF7E1CB79A4]\n\tBaseThreadInitThunk [0x00007FFC747B257D+29]\n\tRtlUserThreadStart [0x00007FFC75D2AA58+40]\n",
     "output_type": "error",
     "traceback": [
      "\u001b[1;31m---------------------------------------------------------------------------\u001b[0m",
      "\u001b[1;31mStaleElementReferenceException\u001b[0m            Traceback (most recent call last)",
      "\u001b[1;32m~\\AppData\\Local\\Temp\\ipykernel_7720\\294674478.py\u001b[0m in \u001b[0;36m<module>\u001b[1;34m\u001b[0m\n\u001b[0;32m      8\u001b[0m \u001b[0mArea_Address\u001b[0m\u001b[1;33m=\u001b[0m\u001b[0mdriver\u001b[0m\u001b[1;33m.\u001b[0m\u001b[0mfind_elements\u001b[0m\u001b[1;33m(\u001b[0m\u001b[0mBy\u001b[0m\u001b[1;33m.\u001b[0m\u001b[0mXPATH\u001b[0m\u001b[1;33m,\u001b[0m\u001b[1;34m'//h3[@class=\"listloc\"]'\u001b[0m\u001b[1;33m)\u001b[0m\u001b[1;33m\u001b[0m\u001b[1;33m\u001b[0m\u001b[0m\n\u001b[0;32m      9\u001b[0m \u001b[1;32mfor\u001b[0m \u001b[0mi\u001b[0m \u001b[1;32min\u001b[0m \u001b[0mArea_Address\u001b[0m\u001b[1;33m[\u001b[0m\u001b[1;36m0\u001b[0m\u001b[1;33m:\u001b[0m\u001b[1;36m20\u001b[0m\u001b[1;33m]\u001b[0m\u001b[1;33m:\u001b[0m\u001b[1;33m\u001b[0m\u001b[1;33m\u001b[0m\u001b[0m\n\u001b[1;32m---> 10\u001b[1;33m     \u001b[0maddress\u001b[0m\u001b[1;33m=\u001b[0m\u001b[0mi\u001b[0m\u001b[1;33m.\u001b[0m\u001b[0mtext\u001b[0m\u001b[1;33m\u001b[0m\u001b[1;33m\u001b[0m\u001b[0m\n\u001b[0m\u001b[0;32m     11\u001b[0m     \u001b[0mAddress\u001b[0m\u001b[1;33m.\u001b[0m\u001b[0mappend\u001b[0m\u001b[1;33m(\u001b[0m\u001b[0maddress\u001b[0m\u001b[1;33m)\u001b[0m\u001b[1;33m\u001b[0m\u001b[1;33m\u001b[0m\u001b[0m\n\u001b[0;32m     12\u001b[0m \u001b[1;33m\u001b[0m\u001b[0m\n",
      "\u001b[1;32m~\\anaconda3\\lib\\site-packages\\selenium\\webdriver\\remote\\webelement.py\u001b[0m in \u001b[0;36mtext\u001b[1;34m(self)\u001b[0m\n\u001b[0;32m     87\u001b[0m     \u001b[1;32mdef\u001b[0m \u001b[0mtext\u001b[0m\u001b[1;33m(\u001b[0m\u001b[0mself\u001b[0m\u001b[1;33m)\u001b[0m \u001b[1;33m->\u001b[0m \u001b[0mstr\u001b[0m\u001b[1;33m:\u001b[0m\u001b[1;33m\u001b[0m\u001b[1;33m\u001b[0m\u001b[0m\n\u001b[0;32m     88\u001b[0m         \u001b[1;34m\"\"\"The text of the element.\"\"\"\u001b[0m\u001b[1;33m\u001b[0m\u001b[1;33m\u001b[0m\u001b[0m\n\u001b[1;32m---> 89\u001b[1;33m         \u001b[1;32mreturn\u001b[0m \u001b[0mself\u001b[0m\u001b[1;33m.\u001b[0m\u001b[0m_execute\u001b[0m\u001b[1;33m(\u001b[0m\u001b[0mCommand\u001b[0m\u001b[1;33m.\u001b[0m\u001b[0mGET_ELEMENT_TEXT\u001b[0m\u001b[1;33m)\u001b[0m\u001b[1;33m[\u001b[0m\u001b[1;34m\"value\"\u001b[0m\u001b[1;33m]\u001b[0m\u001b[1;33m\u001b[0m\u001b[1;33m\u001b[0m\u001b[0m\n\u001b[0m\u001b[0;32m     90\u001b[0m \u001b[1;33m\u001b[0m\u001b[0m\n\u001b[0;32m     91\u001b[0m     \u001b[1;32mdef\u001b[0m \u001b[0mclick\u001b[0m\u001b[1;33m(\u001b[0m\u001b[0mself\u001b[0m\u001b[1;33m)\u001b[0m \u001b[1;33m->\u001b[0m \u001b[1;32mNone\u001b[0m\u001b[1;33m:\u001b[0m\u001b[1;33m\u001b[0m\u001b[1;33m\u001b[0m\u001b[0m\n",
      "\u001b[1;32m~\\anaconda3\\lib\\site-packages\\selenium\\webdriver\\remote\\webelement.py\u001b[0m in \u001b[0;36m_execute\u001b[1;34m(self, command, params)\u001b[0m\n\u001b[0;32m    392\u001b[0m             \u001b[0mparams\u001b[0m \u001b[1;33m=\u001b[0m \u001b[1;33m{\u001b[0m\u001b[1;33m}\u001b[0m\u001b[1;33m\u001b[0m\u001b[1;33m\u001b[0m\u001b[0m\n\u001b[0;32m    393\u001b[0m         \u001b[0mparams\u001b[0m\u001b[1;33m[\u001b[0m\u001b[1;34m\"id\"\u001b[0m\u001b[1;33m]\u001b[0m \u001b[1;33m=\u001b[0m \u001b[0mself\u001b[0m\u001b[1;33m.\u001b[0m\u001b[0m_id\u001b[0m\u001b[1;33m\u001b[0m\u001b[1;33m\u001b[0m\u001b[0m\n\u001b[1;32m--> 394\u001b[1;33m         \u001b[1;32mreturn\u001b[0m \u001b[0mself\u001b[0m\u001b[1;33m.\u001b[0m\u001b[0m_parent\u001b[0m\u001b[1;33m.\u001b[0m\u001b[0mexecute\u001b[0m\u001b[1;33m(\u001b[0m\u001b[0mcommand\u001b[0m\u001b[1;33m,\u001b[0m \u001b[0mparams\u001b[0m\u001b[1;33m)\u001b[0m\u001b[1;33m\u001b[0m\u001b[1;33m\u001b[0m\u001b[0m\n\u001b[0m\u001b[0;32m    395\u001b[0m \u001b[1;33m\u001b[0m\u001b[0m\n\u001b[0;32m    396\u001b[0m     \u001b[1;32mdef\u001b[0m \u001b[0mfind_element\u001b[0m\u001b[1;33m(\u001b[0m\u001b[0mself\u001b[0m\u001b[1;33m,\u001b[0m \u001b[0mby\u001b[0m\u001b[1;33m=\u001b[0m\u001b[0mBy\u001b[0m\u001b[1;33m.\u001b[0m\u001b[0mID\u001b[0m\u001b[1;33m,\u001b[0m \u001b[0mvalue\u001b[0m\u001b[1;33m=\u001b[0m\u001b[1;32mNone\u001b[0m\u001b[1;33m)\u001b[0m \u001b[1;33m->\u001b[0m \u001b[0mWebElement\u001b[0m\u001b[1;33m:\u001b[0m\u001b[1;33m\u001b[0m\u001b[1;33m\u001b[0m\u001b[0m\n",
      "\u001b[1;32m~\\anaconda3\\lib\\site-packages\\selenium\\webdriver\\remote\\webdriver.py\u001b[0m in \u001b[0;36mexecute\u001b[1;34m(self, driver_command, params)\u001b[0m\n\u001b[0;32m    342\u001b[0m         \u001b[0mresponse\u001b[0m \u001b[1;33m=\u001b[0m \u001b[0mself\u001b[0m\u001b[1;33m.\u001b[0m\u001b[0mcommand_executor\u001b[0m\u001b[1;33m.\u001b[0m\u001b[0mexecute\u001b[0m\u001b[1;33m(\u001b[0m\u001b[0mdriver_command\u001b[0m\u001b[1;33m,\u001b[0m \u001b[0mparams\u001b[0m\u001b[1;33m)\u001b[0m\u001b[1;33m\u001b[0m\u001b[1;33m\u001b[0m\u001b[0m\n\u001b[0;32m    343\u001b[0m         \u001b[1;32mif\u001b[0m \u001b[0mresponse\u001b[0m\u001b[1;33m:\u001b[0m\u001b[1;33m\u001b[0m\u001b[1;33m\u001b[0m\u001b[0m\n\u001b[1;32m--> 344\u001b[1;33m             \u001b[0mself\u001b[0m\u001b[1;33m.\u001b[0m\u001b[0merror_handler\u001b[0m\u001b[1;33m.\u001b[0m\u001b[0mcheck_response\u001b[0m\u001b[1;33m(\u001b[0m\u001b[0mresponse\u001b[0m\u001b[1;33m)\u001b[0m\u001b[1;33m\u001b[0m\u001b[1;33m\u001b[0m\u001b[0m\n\u001b[0m\u001b[0;32m    345\u001b[0m             \u001b[0mresponse\u001b[0m\u001b[1;33m[\u001b[0m\u001b[1;34m\"value\"\u001b[0m\u001b[1;33m]\u001b[0m \u001b[1;33m=\u001b[0m \u001b[0mself\u001b[0m\u001b[1;33m.\u001b[0m\u001b[0m_unwrap_value\u001b[0m\u001b[1;33m(\u001b[0m\u001b[0mresponse\u001b[0m\u001b[1;33m.\u001b[0m\u001b[0mget\u001b[0m\u001b[1;33m(\u001b[0m\u001b[1;34m\"value\"\u001b[0m\u001b[1;33m,\u001b[0m \u001b[1;32mNone\u001b[0m\u001b[1;33m)\u001b[0m\u001b[1;33m)\u001b[0m\u001b[1;33m\u001b[0m\u001b[1;33m\u001b[0m\u001b[0m\n\u001b[0;32m    346\u001b[0m             \u001b[1;32mreturn\u001b[0m \u001b[0mresponse\u001b[0m\u001b[1;33m\u001b[0m\u001b[1;33m\u001b[0m\u001b[0m\n",
      "\u001b[1;32m~\\anaconda3\\lib\\site-packages\\selenium\\webdriver\\remote\\errorhandler.py\u001b[0m in \u001b[0;36mcheck_response\u001b[1;34m(self, response)\u001b[0m\n\u001b[0;32m    227\u001b[0m                 \u001b[0malert_text\u001b[0m \u001b[1;33m=\u001b[0m \u001b[0mvalue\u001b[0m\u001b[1;33m[\u001b[0m\u001b[1;34m\"alert\"\u001b[0m\u001b[1;33m]\u001b[0m\u001b[1;33m.\u001b[0m\u001b[0mget\u001b[0m\u001b[1;33m(\u001b[0m\u001b[1;34m\"text\"\u001b[0m\u001b[1;33m)\u001b[0m\u001b[1;33m\u001b[0m\u001b[1;33m\u001b[0m\u001b[0m\n\u001b[0;32m    228\u001b[0m             \u001b[1;32mraise\u001b[0m \u001b[0mexception_class\u001b[0m\u001b[1;33m(\u001b[0m\u001b[0mmessage\u001b[0m\u001b[1;33m,\u001b[0m \u001b[0mscreen\u001b[0m\u001b[1;33m,\u001b[0m \u001b[0mstacktrace\u001b[0m\u001b[1;33m,\u001b[0m \u001b[0malert_text\u001b[0m\u001b[1;33m)\u001b[0m  \u001b[1;31m# type: ignore[call-arg]  # mypy is not smart enough here\u001b[0m\u001b[1;33m\u001b[0m\u001b[1;33m\u001b[0m\u001b[0m\n\u001b[1;32m--> 229\u001b[1;33m         \u001b[1;32mraise\u001b[0m \u001b[0mexception_class\u001b[0m\u001b[1;33m(\u001b[0m\u001b[0mmessage\u001b[0m\u001b[1;33m,\u001b[0m \u001b[0mscreen\u001b[0m\u001b[1;33m,\u001b[0m \u001b[0mstacktrace\u001b[0m\u001b[1;33m)\u001b[0m\u001b[1;33m\u001b[0m\u001b[1;33m\u001b[0m\u001b[0m\n\u001b[0m",
      "\u001b[1;31mStaleElementReferenceException\u001b[0m: Message: stale element reference: stale element not found\n  (Session info: chrome=122.0.6261.69); For documentation on this error, please visit: https://www.selenium.dev/documentation/webdriver/troubleshooting/errors#stale-element-reference-exception\nStacktrace:\n\tGetHandleVerifier [0x00007FF7E2094C82+3505170]\n\t(No symbol) [0x00007FF7E1CC0852]\n\t(No symbol) [0x00007FF7E1B74145]\n\t(No symbol) [0x00007FF7E1B790C1]\n\t(No symbol) [0x00007FF7E1B7B54B]\n\t(No symbol) [0x00007FF7E1B7B610]\n\t(No symbol) [0x00007FF7E1BB4F7B]\n\t(No symbol) [0x00007FF7E1BDBE8A]\n\t(No symbol) [0x00007FF7E1BAF27A]\n\t(No symbol) [0x00007FF7E1BDC0A0]\n\t(No symbol) [0x00007FF7E1BF83B2]\n\t(No symbol) [0x00007FF7E1BDBC33]\n\t(No symbol) [0x00007FF7E1BAD618]\n\t(No symbol) [0x00007FF7E1BAE6B1]\n\tGetHandleVerifier [0x00007FF7E20C67DD+3708781]\n\tGetHandleVerifier [0x00007FF7E211FC5D+4074477]\n\tGetHandleVerifier [0x00007FF7E2117DDF+4042095]\n\tGetHandleVerifier [0x00007FF7E1DEA136+708806]\n\t(No symbol) [0x00007FF7E1CCCB0F]\n\t(No symbol) [0x00007FF7E1CC7D14]\n\t(No symbol) [0x00007FF7E1CC7E6C]\n\t(No symbol) [0x00007FF7E1CB79A4]\n\tBaseThreadInitThunk [0x00007FFC747B257D+29]\n\tRtlUserThreadStart [0x00007FFC75D2AA58+40]\n"
     ]
    }
   ],
   "source": [
    "Rent_title=driver.find_elements(By.XPATH,'//a[@class=\"listtitle notclickb\"]')\n",
    "for i in Rent_title[0:20]:\n",
    "    title=i.text\n",
    "    Title.append(title)\n",
    "\n",
    "\n",
    "\n",
    "Area_Address=driver.find_elements(By.XPATH,'//h3[@class=\"listloc\"]')\n",
    "for i in Area_Address[0:20]:\n",
    "    address=i.text\n",
    "    Address.append(address)\n",
    "\n",
    "\n",
    "Rent_City=driver.find_elements(By.XPATH,'//a[@class=\"notclickb\"]')\n",
    "for i in Rent_City[0:20]:\n",
    "    city=i.text\n",
    "    City.append(city)\n",
    "\n",
    "\n",
    "\n",
    "Area_Build=driver.find_elements(By.XPATH,'/html/body/div[4]/section[2]/div/section/div/div/div/div[3]/div[1]/div[6]/div[1]/div[1]/div/div/div[*]/div/div[2]/div[3]/div[1]/ul/li[1]/span')\n",
    "for i in Area_Build[0:20]:\n",
    "    build=i.text\n",
    "    Build_Up_Area.append(build)\n",
    "\n",
    "   \n",
    "    \n",
    "Post=driver.find_elements(By.XPATH,'/html/body/div[4]/section[2]/div/section/div/div/div/div[3]/div[1]/div[6]/div[1]/div[1]/div/div/div[*]/div/div[2]/div[3]/div[1]/ul/li[3]')\n",
    "for i in Post[0:20]:\n",
    "    post=i.text\n",
    "    Ad_Posted.append(post)\n",
    "    \n",
    "    \n",
    "   \n",
    "    \n",
    "Rent_price=driver.find_elements(By.XPATH,'//div[@class=\"prsg\"]')\n",
    "for i in Rent_price[0:20]:\n",
    "    price=i.text\n",
    "    Price.append(price)"
   ]
  },
  {
   "cell_type": "code",
   "execution_count": null,
   "id": "5ac8cd97",
   "metadata": {},
   "outputs": [],
   "source": [
    "print(len(Title),len(Address),len(City),len(Build_Up_Area),len(Ad_Posted),len(Price))"
   ]
  },
  {
   "cell_type": "code",
   "execution_count": null,
   "id": "f951c462",
   "metadata": {},
   "outputs": [],
   "source": [
    "import pandas as pd\n",
    "df=pd.DataFrame({'Title':Title, 'Address':Address,'City':City,'Build_Up_Area':Build_Up_Area,'Ad_Posted':Ad_Posted,'Price':Price})\n",
    "df"
   ]
  },
  {
   "cell_type": "code",
   "execution_count": null,
   "id": "8d56189a",
   "metadata": {},
   "outputs": [],
   "source": [
    "#Page 3\n",
    "Next_button=driver.find_element(By.CLASS_NAME,\"next\")\n",
    "Next_button.click()"
   ]
  },
  {
   "cell_type": "code",
   "execution_count": null,
   "id": "ccc4efc9",
   "metadata": {},
   "outputs": [],
   "source": [
    "Title=[]\n",
    "Address=[]\n",
    "City=[]\n",
    "Build_Up_Area = []\n",
    "Ad_Posted=[]\n",
    "Price=[]"
   ]
  },
  {
   "cell_type": "code",
   "execution_count": null,
   "id": "8621ed4d",
   "metadata": {},
   "outputs": [],
   "source": [
    "Rent_title=driver.find_elements(By.XPATH,'//a[@class=\"listtitle notclickb\"]')\n",
    "for i in Rent_title:\n",
    "    title=i.text\n",
    "    Title.append(title)\n",
    "\n",
    "\n",
    "\n",
    "Area_Address=driver.find_elements(By.XPATH,'//h3[@class=\"listloc\"]')\n",
    "for i in Area_Address:\n",
    "    address=i.text\n",
    "    Address.append(address)\n",
    "\n",
    "\n",
    "Rent_City=driver.find_elements(By.XPATH,'//a[@class=\"notclickb\"]')\n",
    "for i in Rent_City[0:20]:\n",
    "    city=i.text\n",
    "    City.append(city)\n",
    "\n",
    "\n",
    "\n",
    "Area_Build=driver.find_elements(By.XPATH,'/html/body/div[4]/section[2]/div/section/div/div/div/div[3]/div[1]/div[6]/div[1]/div[1]/div/div/div[*]/div/div[2]/div[3]/div[1]/ul/li[1]/span')\n",
    "for i in Area_Build:\n",
    "    build=i.text\n",
    "    Build_Up_Area.append(build)\n",
    "\n",
    "   \n",
    "    \n",
    "Post=driver.find_elements(By.XPATH,'/html/body/div[4]/section[2]/div/section/div/div/div/div[3]/div[1]/div[6]/div[1]/div[1]/div/div/div[*]/div/div[2]/div[3]/div[1]/ul/li[3]')\n",
    "for i in Post:\n",
    "    post=i.text\n",
    "    Ad_Posted.append(post)\n",
    "    \n",
    "    \n",
    "   \n",
    "    \n",
    "Rent_price=driver.find_elements(By.XPATH,'//div[@class=\"prsg\"]')\n",
    "for i in Rent_price:\n",
    "    price=i.text\n",
    "    Price.append(price)"
   ]
  },
  {
   "cell_type": "code",
   "execution_count": null,
   "id": "a31bb512",
   "metadata": {},
   "outputs": [],
   "source": [
    "print(len(Title),len(Address),len(City),len(Build_Up_Area),len(Ad_Posted),len(Price))"
   ]
  },
  {
   "cell_type": "code",
   "execution_count": null,
   "id": "5b5e5192",
   "metadata": {},
   "outputs": [],
   "source": [
    "import pandas as pd\n",
    "df=pd.DataFrame({'Title':Title, 'Address':Address,'City':City,'Build_Up_Area':Build_Up_Area,'Ad_Posted':Ad_Posted,'Price':Price})\n",
    "df"
   ]
  },
  {
   "cell_type": "code",
   "execution_count": null,
   "id": "076e599f",
   "metadata": {},
   "outputs": [],
   "source": [
    "#Page 4\n",
    "Next_button=driver.find_element(By.CLASS_NAME,\"next\")\n",
    "Next_button.click()"
   ]
  },
  {
   "cell_type": "code",
   "execution_count": null,
   "id": "18ab16c6",
   "metadata": {},
   "outputs": [],
   "source": [
    "Title=[]\n",
    "Address=[]\n",
    "City=[]\n",
    "Build_Up_Area = []\n",
    "Ad_Posted=[]\n",
    "Price=[]"
   ]
  },
  {
   "cell_type": "code",
   "execution_count": null,
   "id": "f4c72fec",
   "metadata": {},
   "outputs": [],
   "source": [
    "Rent_title=driver.find_elements(By.XPATH,'//a[@class=\"listtitle notclickb\"]')\n",
    "for i in Rent_title:\n",
    "    title=i.text\n",
    "    Title.append(title)\n",
    "\n",
    "\n",
    "\n",
    "Area_Address=driver.find_elements(By.XPATH,'//h3[@class=\"listloc\"]')\n",
    "for i in Area_Address:\n",
    "    address=i.text\n",
    "    Address.append(address)\n",
    "\n",
    "\n",
    "Rent_City=driver.find_elements(By.XPATH,'//a[@class=\"notclickb\"]')\n",
    "for i in Rent_City:\n",
    "    city=i.text\n",
    "    City.append(city)\n",
    "\n",
    "\n",
    "\n",
    "Area_Build=driver.find_elements(By.XPATH,'/html/body/div[4]/section[2]/div/section/div/div/div/div[3]/div[1]/div[6]/div[1]/div[1]/div/div/div[*]/div/div[2]/div[3]/div[1]/ul/li[1]/span')\n",
    "for i in Area_Build:\n",
    "    build=i.text\n",
    "    Build_Up_Area.append(build)\n",
    "\n",
    "   \n",
    "    \n",
    "Post=driver.find_elements(By.XPATH,'/html/body/div[4]/section[2]/div/section/div/div/div/div[3]/div[1]/div[6]/div[1]/div[1]/div/div/div[*]/div/div[2]/div[3]/div[1]/ul/li[3]')\n",
    "for i in Post:\n",
    "    post=i.text\n",
    "    Ad_Posted.append(post)\n",
    "    \n",
    "    \n",
    "   \n",
    "    \n",
    "Rent_price=driver.find_elements(By.XPATH,'//div[@class=\"prsg\"]')\n",
    "for i in Rent_price:\n",
    "    price=i.text\n",
    "    Price.append(price)"
   ]
  },
  {
   "cell_type": "code",
   "execution_count": null,
   "id": "b7960ed2",
   "metadata": {},
   "outputs": [],
   "source": [
    "print(len(Title),len(Address),len(City),len(Build_Up_Area),len(Ad_Posted),len(Price))"
   ]
  },
  {
   "cell_type": "code",
   "execution_count": null,
   "id": "8586e86d",
   "metadata": {},
   "outputs": [],
   "source": [
    "import pandas as pd\n",
    "df=pd.DataFrame({'Title':Title, 'Address':Address,'City':City,'Build_Up_Area':Build_Up_Area,'Ad_Posted':Ad_Posted,'Price':Price})\n",
    "df"
   ]
  },
  {
   "cell_type": "code",
   "execution_count": null,
   "id": "1dd57416",
   "metadata": {},
   "outputs": [],
   "source": [
    "#Page 5\n",
    "Next_button=driver.find_element(By.CLASS_NAME,\"next\")\n",
    "Next_button.click()"
   ]
  },
  {
   "cell_type": "code",
   "execution_count": null,
   "id": "b3a69a5a",
   "metadata": {},
   "outputs": [],
   "source": [
    "Title=[]\n",
    "Address=[]\n",
    "City=[]\n",
    "Build_Up_Area = []\n",
    "Ad_Posted=[]\n",
    "Price=[]"
   ]
  },
  {
   "cell_type": "code",
   "execution_count": null,
   "id": "c925ae43",
   "metadata": {},
   "outputs": [],
   "source": [
    "Rent_title=driver.find_elements(By.XPATH,'//a[@class=\"listtitle notclickb\"]')\n",
    "for i in Rent_title:\n",
    "    title=i.text\n",
    "    Title.append(title)\n",
    "\n",
    "\n",
    "\n",
    "Area_Address=driver.find_elements(By.XPATH,'//h3[@class=\"listloc\"]')\n",
    "for i in Area_Address:\n",
    "    address=i.text\n",
    "    Address.append(address)\n",
    "\n",
    "\n",
    "Rent_City=driver.find_elements(By.XPATH,'//a[@class=\"notclickb\"]')\n",
    "for i in Rent_City:\n",
    "    city=i.text\n",
    "    City.append(city)\n",
    "\n",
    "\n",
    "\n",
    "Area_Build=driver.find_elements(By.XPATH,'/html/body/div[4]/section[2]/div/section/div/div/div/div[3]/div[1]/div[6]/div[1]/div[1]/div/div/div[*]/div/div[2]/div[3]/div[1]/ul/li[1]/span')\n",
    "for i in Area_Build:\n",
    "    build=i.text\n",
    "    Build_Up_Area.append(build)\n",
    "\n",
    "   \n",
    "    \n",
    "Post=driver.find_elements(By.XPATH,'/html/body/div[4]/section[2]/div/section/div/div/div/div[3]/div[1]/div[6]/div[1]/div[1]/div/div/div[*]/div/div[2]/div[3]/div[1]/ul/li[3]')\n",
    "for i in Post:\n",
    "    post=i.text\n",
    "    Ad_Posted.append(post)\n",
    "    \n",
    "    \n",
    "   \n",
    "    \n",
    "Rent_price=driver.find_elements(By.XPATH,'//div[@class=\"prsg\"]')\n",
    "for i in Rent_price:\n",
    "    price=i.text\n",
    "    Price.append(price)"
   ]
  },
  {
   "cell_type": "code",
   "execution_count": null,
   "id": "f389e345",
   "metadata": {},
   "outputs": [],
   "source": [
    "print(len(Title),len(Address),len(City),len(Build_Up_Area),len(Ad_Posted),len(Price))"
   ]
  },
  {
   "cell_type": "code",
   "execution_count": null,
   "id": "30501b10",
   "metadata": {},
   "outputs": [],
   "source": [
    "import pandas as pd\n",
    "df=pd.DataFrame({'Title':Title, 'Address':Address,'City':City,'Build_Up_Area':Build_Up_Area,'Ad_Posted':Ad_Posted,'Price':Price})\n",
    "df"
   ]
  },
  {
   "cell_type": "code",
   "execution_count": null,
   "id": "f7878a72",
   "metadata": {},
   "outputs": [],
   "source": [
    "#Page 6\n",
    "Next_button=driver.find_element(By.XPATH,\"/html/body/div[4]/section[2]/div/section/div/div/div/div[3]/div[1]/div[6]/div[1]/div[1]/div/div/div[36]/div[30]/ul/li[6]/a\")\n",
    "Next_button.click()"
   ]
  },
  {
   "cell_type": "code",
   "execution_count": null,
   "id": "88d51d63",
   "metadata": {},
   "outputs": [],
   "source": [
    "Title=[]\n",
    "Address=[]\n",
    "City=[]\n",
    "Build_Up_Area = []\n",
    "Ad_Posted=[]\n",
    "Price=[]"
   ]
  },
  {
   "cell_type": "code",
   "execution_count": null,
   "id": "9e5822cd",
   "metadata": {},
   "outputs": [],
   "source": [
    "Rent_title=driver.find_elements(By.XPATH,'//a[@class=\"listtitle notclickb\"]')\n",
    "for i in Rent_title:\n",
    "    title=i.text\n",
    "    Title.append(title)\n",
    "\n",
    "\n",
    "\n",
    "Area_Address=driver.find_elements(By.XPATH,'//h3[@class=\"listloc\"]')\n",
    "for i in Area_Address:\n",
    "    address=i.text\n",
    "    Address.append(address)\n",
    "\n",
    "\n",
    "Rent_City=driver.find_elements(By.XPATH,'//a[@class=\"notclickb\"]')\n",
    "for i in Rent_City:\n",
    "    city=i.text\n",
    "    City.append(city)\n",
    "\n",
    "\n",
    "\n",
    "Area_Build=driver.find_elements(By.XPATH,'/html/body/div[4]/section[2]/div/section/div/div/div/div[3]/div[1]/div[6]/div[1]/div[1]/div/div/div[*]/div/div[2]/div[3]/div[1]/ul/li[1]/span')\n",
    "for i in Area_Build:\n",
    "    build=i.text\n",
    "    Build_Up_Area.append(build)\n",
    "\n",
    "   \n",
    "    \n",
    "Post=driver.find_elements(By.XPATH,'/html/body/div[4]/section[2]/div/section/div/div/div/div[3]/div[1]/div[6]/div[1]/div[1]/div/div/div[*]/div/div[2]/div[3]/div[1]/ul/li[3]')\n",
    "for i in Post:\n",
    "    post=i.text\n",
    "    Ad_Posted.append(post)\n",
    "    \n",
    "    \n",
    "   \n",
    "    \n",
    "Rent_price=driver.find_elements(By.XPATH,'//div[@class=\"prsg\"]')\n",
    "for i in Rent_price:\n",
    "    price=i.text\n",
    "    Price.append(price)"
   ]
  },
  {
   "cell_type": "code",
   "execution_count": null,
   "id": "636875ae",
   "metadata": {},
   "outputs": [],
   "source": [
    "print(len(Title),len(Address),len(City),len(Build_Up_Area),len(Ad_Posted),len(Price))"
   ]
  },
  {
   "cell_type": "code",
   "execution_count": null,
   "id": "e7670a49",
   "metadata": {},
   "outputs": [],
   "source": [
    "import pandas as pd\n",
    "df=pd.DataFrame({'Title':Title, 'Address':Address,'City':City,'Build_Up_Area':Build_Up_Area,'Ad_Posted':Ad_Posted,'Price':Price})\n",
    "df"
   ]
  },
  {
   "cell_type": "code",
   "execution_count": null,
   "id": "c113809c",
   "metadata": {},
   "outputs": [],
   "source": [
    "#Page 7\n",
    "Next_button=driver.find_element(By.CLASS_NAME,\"next\")\n",
    "Next_button.click()"
   ]
  },
  {
   "cell_type": "code",
   "execution_count": null,
   "id": "8cf8bfbe",
   "metadata": {},
   "outputs": [],
   "source": [
    "Title=[]\n",
    "Address=[]\n",
    "City=[]\n",
    "Build_Up_Area = []\n",
    "Ad_Posted=[]\n",
    "Price=[]"
   ]
  },
  {
   "cell_type": "code",
   "execution_count": null,
   "id": "c2f56191",
   "metadata": {},
   "outputs": [],
   "source": [
    "Rent_title=driver.find_elements(By.XPATH,'//a[@class=\"listtitle notclickb\"]')\n",
    "for i in Rent_title:\n",
    "    title=i.text\n",
    "    Title.append(title)\n",
    "\n",
    "\n",
    "\n",
    "Area_Address=driver.find_elements(By.XPATH,'//h3[@class=\"listloc\"]')\n",
    "for i in Area_Address:\n",
    "    address=i.text\n",
    "    Address.append(address)\n",
    "\n",
    "\n",
    "Rent_City=driver.find_elements(By.XPATH,'//a[@class=\"notclickb\"]')\n",
    "for i in Rent_City:\n",
    "    city=i.text\n",
    "    City.append(city)\n",
    "\n",
    "\n",
    "\n",
    "Area_Build=driver.find_elements(By.XPATH,'/html/body/div[4]/section[2]/div/section/div/div/div/div[3]/div[1]/div[6]/div[1]/div[1]/div/div/div[*]/div/div[2]/div[3]/div[1]/ul/li[1]/span')\n",
    "for i in Area_Build:\n",
    "    build=i.text\n",
    "    Build_Up_Area.append(build)\n",
    "\n",
    "   \n",
    "    \n",
    "Post=driver.find_elements(By.XPATH,'/html/body/div[4]/section[2]/div/section/div/div/div/div[3]/div[1]/div[6]/div[1]/div[1]/div/div/div[*]/div/div[2]/div[3]/div[1]/ul/li[3]')\n",
    "for i in Post:\n",
    "    post=i.text\n",
    "    Ad_Posted.append(post)\n",
    "    \n",
    "    \n",
    "   \n",
    "    \n",
    "Rent_price=driver.find_elements(By.XPATH,'//div[@class=\"prsg\"]')\n",
    "for i in Rent_price:\n",
    "    price=i.text\n",
    "    Price.append(price)"
   ]
  },
  {
   "cell_type": "code",
   "execution_count": null,
   "id": "f202e317",
   "metadata": {},
   "outputs": [],
   "source": [
    "print(len(Title),len(Address),len(City),len(Build_Up_Area),len(Ad_Posted),len(Price))"
   ]
  },
  {
   "cell_type": "code",
   "execution_count": null,
   "id": "ebb3fa07",
   "metadata": {},
   "outputs": [],
   "source": [
    "import pandas as pd\n",
    "df=pd.DataFrame({'Title':Title, 'Address':Address,'City':City,'Build_Up_Area':Build_Up_Area,'Ad_Posted':Ad_Posted,'Price':Price})\n",
    "df"
   ]
  },
  {
   "cell_type": "code",
   "execution_count": null,
   "id": "0a22b66c",
   "metadata": {},
   "outputs": [],
   "source": [
    "#Page 8\n",
    "Next_button=driver.find_element(By.CLASS_NAME,\"next\")\n",
    "Next_button.click()"
   ]
  },
  {
   "cell_type": "code",
   "execution_count": null,
   "id": "8774530d",
   "metadata": {},
   "outputs": [],
   "source": [
    "Title=[]\n",
    "Address=[]\n",
    "City=[]\n",
    "Build_Up_Area = []\n",
    "Ad_Posted=[]\n",
    "Price=[]"
   ]
  },
  {
   "cell_type": "code",
   "execution_count": null,
   "id": "e29a8f7b",
   "metadata": {},
   "outputs": [],
   "source": [
    "Rent_title=driver.find_elements(By.XPATH,'//a[@class=\"listtitle notclickb\"]')\n",
    "for i in Rent_title:\n",
    "    title=i.text\n",
    "    Title.append(title)\n",
    "\n",
    "\n",
    "\n",
    "Area_Address=driver.find_elements(By.XPATH,'//h3[@class=\"listloc\"]')\n",
    "for i in Area_Address:\n",
    "    address=i.text\n",
    "    Address.append(address)\n",
    "\n",
    "\n",
    "Rent_City=driver.find_elements(By.XPATH,'//a[@class=\"notclickb\"]')\n",
    "for i in Rent_City:\n",
    "    city=i.text\n",
    "    City.append(city)\n",
    "\n",
    "\n",
    "\n",
    "Area_Build=driver.find_elements(By.XPATH,'/html/body/div[4]/section[2]/div/section/div/div/div/div[3]/div[1]/div[6]/div[1]/div[1]/div/div/div[*]/div/div[2]/div[3]/div[1]/ul/li[1]/span')\n",
    "for i in Area_Build:\n",
    "    build=i.text\n",
    "    Build_Up_Area.append(build)\n",
    "\n",
    "   \n",
    "    \n",
    "Post=driver.find_elements(By.XPATH,'/html/body/div[4]/section[2]/div/section/div/div/div/div[3]/div[1]/div[6]/div[1]/div[1]/div/div/div[*]/div/div[2]/div[3]/div[1]/ul/li[3]')\n",
    "for i in Post:\n",
    "    post=i.text\n",
    "    Ad_Posted.append(post)\n",
    "    \n",
    "    \n",
    "   \n",
    "    \n",
    "Rent_price=driver.find_elements(By.XPATH,'//div[@class=\"prsg\"]')\n",
    "for i in Rent_price:\n",
    "    price=i.text\n",
    "    Price.append(price)"
   ]
  },
  {
   "cell_type": "code",
   "execution_count": null,
   "id": "0a5ab7e6",
   "metadata": {},
   "outputs": [],
   "source": [
    "print(len(Title),len(Address),len(City),len(Build_Up_Area),len(Ad_Posted),len(Price))"
   ]
  },
  {
   "cell_type": "code",
   "execution_count": null,
   "id": "79b5e1cd",
   "metadata": {},
   "outputs": [],
   "source": [
    "import pandas as pd\n",
    "df=pd.DataFrame({'Title':Title, 'Address':Address,'City':City,'Build_Up_Area':Build_Up_Area,'Ad_Posted':Ad_Posted,'Price':Price})\n",
    "df"
   ]
  },
  {
   "cell_type": "code",
   "execution_count": null,
   "id": "abc2f2e7",
   "metadata": {},
   "outputs": [],
   "source": [
    "#Page 9\n",
    "Next_button=driver.find_element(By.CLASS_NAME,\"next\")\n",
    "Next_button.click()"
   ]
  },
  {
   "cell_type": "code",
   "execution_count": null,
   "id": "cb3a175d",
   "metadata": {},
   "outputs": [],
   "source": [
    "Title=[]\n",
    "Address=[]\n",
    "City=[]\n",
    "Build_Up_Area = []\n",
    "Ad_Posted=[]\n",
    "Price=[]"
   ]
  },
  {
   "cell_type": "code",
   "execution_count": null,
   "id": "a96da8e4",
   "metadata": {},
   "outputs": [],
   "source": [
    "Rent_title=driver.find_elements(By.XPATH,'//a[@class=\"listtitle notclickb\"]')\n",
    "for i in Rent_title[0:20]:\n",
    "    title=i.text\n",
    "    Title.append(title)\n",
    "\n",
    "\n",
    "\n",
    "Area_Address=driver.find_elements(By.XPATH,'//h3[@class=\"listloc\"]')\n",
    "for i in Area_Address[0:20]:\n",
    "    address=i.text\n",
    "    Address.append(address)\n",
    "\n",
    "\n",
    "Rent_City=driver.find_elements(By.XPATH,'//a[@class=\"notclickb\"]')\n",
    "for i in Rent_City[0:20]:\n",
    "    city=i.text\n",
    "    City.append(city)\n",
    "\n",
    "\n",
    "\n",
    "Area_Build=driver.find_elements(By.XPATH,'/html/body/div[4]/section[2]/div/section/div/div/div/div[3]/div[1]/div[6]/div[1]/div[1]/div/div/div[*]/div/div[2]/div[3]/div[1]/ul/li[1]/span')\n",
    "for i in Area_Build[0:20]:\n",
    "    build=i.text\n",
    "    Build_Up_Area.append(build)\n",
    "\n",
    "   \n",
    "    \n",
    "Post=driver.find_elements(By.XPATH,'/html/body/div[4]/section[2]/div/section/div/div/div/div[3]/div[1]/div[6]/div[1]/div[1]/div/div/div[*]/div/div[2]/div[3]/div[1]/ul/li[3]')\n",
    "for i in Post[0:20]:\n",
    "    post=i.text\n",
    "    Ad_Posted.append(post)\n",
    "    \n",
    "    \n",
    "   \n",
    "    \n",
    "Rent_price=driver.find_elements(By.XPATH,'//div[@class=\"prsg\"]')\n",
    "for i in Rent_price[0:20]:\n",
    "    price=i.text\n",
    "    Price.append(price)"
   ]
  },
  {
   "cell_type": "code",
   "execution_count": null,
   "id": "cc0419e0",
   "metadata": {},
   "outputs": [],
   "source": [
    "print(len(Title),len(Address),len(City),len(Build_Up_Area),len(Ad_Posted),len(Price))"
   ]
  },
  {
   "cell_type": "code",
   "execution_count": null,
   "id": "21623d79",
   "metadata": {},
   "outputs": [],
   "source": [
    "import pandas as pd\n",
    "df=pd.DataFrame({'Title':Title, 'Address':Address,'City':City,'Build_Up_Area':Build_Up_Area,'Ad_Posted':Ad_Posted,'Price':Price})\n",
    "df"
   ]
  },
  {
   "cell_type": "code",
   "execution_count": null,
   "id": "e90001b1",
   "metadata": {},
   "outputs": [],
   "source": [
    "#Page 10\n",
    "Next_button=driver.find_element(By.CLASS_NAME,\"next\")\n",
    "Next_button.click()"
   ]
  },
  {
   "cell_type": "code",
   "execution_count": null,
   "id": "6b8c3609",
   "metadata": {},
   "outputs": [],
   "source": [
    "Title=[]\n",
    "Address=[]\n",
    "City=[]\n",
    "Build_Up_Area = []\n",
    "Ad_Posted=[]\n",
    "Price=[]"
   ]
  },
  {
   "cell_type": "code",
   "execution_count": null,
   "id": "9c18cd89",
   "metadata": {},
   "outputs": [],
   "source": [
    "Rent_title=driver.find_elements(By.XPATH,'//a[@class=\"listtitle notclickb\"]')\n",
    "for i in Rent_title:\n",
    "    title=i.text\n",
    "    Title.append(title)\n",
    "\n",
    "\n",
    "\n",
    "Area_Address=driver.find_elements(By.XPATH,'//h3[@class=\"listloc\"]')\n",
    "for i in Area_Address:\n",
    "    address=i.text\n",
    "    Address.append(address)\n",
    "\n",
    "\n",
    "Rent_City=driver.find_elements(By.XPATH,'//a[@class=\"notclickb\"]')\n",
    "for i in Rent_City:\n",
    "    city=i.text\n",
    "    City.append(city)\n",
    "\n",
    "\n",
    "\n",
    "Area_Build=driver.find_elements(By.XPATH,'/html/body/div[4]/section[2]/div/section/div/div/div/div[3]/div[1]/div[6]/div[1]/div[1]/div/div/div[*]/div/div[2]/div[3]/div[1]/ul/li[1]/span')\n",
    "for i in Area_Build:\n",
    "    build=i.text\n",
    "    Build_Up_Area.append(build)\n",
    "\n",
    "   \n",
    "    \n",
    "Post=driver.find_elements(By.XPATH,'/html/body/div[4]/section[2]/div/section/div/div/div/div[3]/div[1]/div[6]/div[1]/div[1]/div/div/div[*]/div/div[2]/div[3]/div[1]/ul/li[3]')\n",
    "for i in Post:\n",
    "    post=i.text\n",
    "    Ad_Posted.append(post)\n",
    "    \n",
    "    \n",
    "   \n",
    "    \n",
    "Rent_price=driver.find_elements(By.XPATH,'//div[@class=\"prsg\"]')\n",
    "for i in Rent_price:\n",
    "    price=i.text\n",
    "    Price.append(price)"
   ]
  },
  {
   "cell_type": "code",
   "execution_count": null,
   "id": "30167fb0",
   "metadata": {},
   "outputs": [],
   "source": [
    "print(len(Title),len(Address),len(City),len(Build_Up_Area),len(Ad_Posted),len(Price))"
   ]
  },
  {
   "cell_type": "code",
   "execution_count": null,
   "id": "a79b73a7",
   "metadata": {},
   "outputs": [],
   "source": [
    "import pandas as pd\n",
    "df=pd.DataFrame({'Title':Title, 'Address':Address,'City':City,'Build_Up_Area':Build_Up_Area,'Ad_Posted':Ad_Posted,'Price':Price})\n",
    "df"
   ]
  },
  {
   "cell_type": "code",
   "execution_count": null,
   "id": "6e12f2b6",
   "metadata": {},
   "outputs": [],
   "source": [
    "#Page 11\n",
    "Next_button=driver.find_element(By.CLASS_NAME,\"next\")\n",
    "Next_button.click()"
   ]
  },
  {
   "cell_type": "code",
   "execution_count": null,
   "id": "0629607d",
   "metadata": {},
   "outputs": [],
   "source": [
    "Title=[]\n",
    "Address=[]\n",
    "City=[]\n",
    "Build_Up_Area = []\n",
    "Ad_Posted=[]\n",
    "Price=[]"
   ]
  },
  {
   "cell_type": "code",
   "execution_count": null,
   "id": "79a57515",
   "metadata": {},
   "outputs": [],
   "source": [
    "Rent_title=driver.find_elements(By.XPATH,'//a[@class=\"listtitle notclickb\"]')\n",
    "for i in Rent_title:\n",
    "    title=i.text\n",
    "    Title.append(title)\n",
    "\n",
    "\n",
    "\n",
    "Area_Address=driver.find_elements(By.XPATH,'//h3[@class=\"listloc\"]')\n",
    "for i in Area_Address:\n",
    "    address=i.text\n",
    "    Address.append(address)\n",
    "\n",
    "\n",
    "Rent_City=driver.find_elements(By.XPATH,'//a[@class=\"notclickb\"]')\n",
    "for i in Rent_City:\n",
    "    city=i.text\n",
    "    City.append(city)\n",
    "\n",
    "\n",
    "\n",
    "Area_Build=driver.find_elements(By.XPATH,'/html/body/div[4]/section[2]/div/section/div/div/div/div[3]/div[1]/div[6]/div[1]/div[1]/div/div/div[*]/div/div[2]/div[3]/div[1]/ul/li[1]/span')\n",
    "for i in Area_Build:\n",
    "    build=i.text\n",
    "    Build_Up_Area.append(build)\n",
    "\n",
    "   \n",
    "    \n",
    "Post=driver.find_elements(By.XPATH,'/html/body/div[4]/section[2]/div/section/div/div/div/div[3]/div[1]/div[6]/div[1]/div[1]/div/div/div[*]/div/div[2]/div[3]/div[1]/ul/li[3]')\n",
    "for i in Post:\n",
    "    post=i.text\n",
    "    Ad_Posted.append(post)\n",
    "    \n",
    "    \n",
    "   \n",
    "    \n",
    "Rent_price=driver.find_elements(By.XPATH,'//div[@class=\"prsg\"]')\n",
    "for i in Rent_price:\n",
    "    price=i.text\n",
    "    Price.append(price)"
   ]
  },
  {
   "cell_type": "code",
   "execution_count": null,
   "id": "18d26dd3",
   "metadata": {},
   "outputs": [],
   "source": [
    "print(len(Title),len(Address),len(City),len(Build_Up_Area),len(Ad_Posted),len(Price))"
   ]
  },
  {
   "cell_type": "code",
   "execution_count": null,
   "id": "4530f768",
   "metadata": {},
   "outputs": [],
   "source": [
    "import pandas as pd\n",
    "df=pd.DataFrame({'Title':Title, 'Address':Address,'City':City,'Build_Up_Area':Build_Up_Area,'Ad_Posted':Ad_Posted,'Price':Price})\n",
    "df"
   ]
  },
  {
   "cell_type": "code",
   "execution_count": null,
   "id": "8d817399",
   "metadata": {},
   "outputs": [],
   "source": []
  },
  {
   "cell_type": "code",
   "execution_count": null,
   "id": "e31d8c8f",
   "metadata": {},
   "outputs": [],
   "source": [
    "#Page 12\n",
    "Next_button=driver.find_element(By.CLASS_NAME,\"next\")\n",
    "Next_button.click()"
   ]
  },
  {
   "cell_type": "code",
   "execution_count": null,
   "id": "c724125f",
   "metadata": {},
   "outputs": [],
   "source": [
    "Title=[]\n",
    "Address=[]\n",
    "City=[]\n",
    "Build_Up_Area = []\n",
    "Ad_Posted=[]\n",
    "Price=[]"
   ]
  },
  {
   "cell_type": "code",
   "execution_count": null,
   "id": "8e20e9ef",
   "metadata": {},
   "outputs": [],
   "source": [
    "Rent_title=driver.find_elements(By.XPATH,'//a[@class=\"listtitle notclickb\"]')\n",
    "for i in Rent_title:\n",
    "    title=i.text\n",
    "    Title.append(title)\n",
    "\n",
    "\n",
    "\n",
    "Area_Address=driver.find_elements(By.XPATH,'//h3[@class=\"listloc\"]')\n",
    "for i in Area_Address:\n",
    "    address=i.text\n",
    "    Address.append(address)\n",
    "\n",
    "\n",
    "Rent_City=driver.find_elements(By.XPATH,'//a[@class=\"notclickb\"]')\n",
    "for i in Rent_City:\n",
    "    city=i.text\n",
    "    City.append(city)\n",
    "\n",
    "\n",
    "\n",
    "Area_Build=driver.find_elements(By.XPATH,'/html/body/div[4]/section[2]/div/section/div/div/div/div[3]/div[1]/div[6]/div[1]/div[1]/div/div/div[*]/div/div[2]/div[3]/div[1]/ul/li[1]/span')\n",
    "for i in Area_Build:\n",
    "    build=i.text\n",
    "    Build_Up_Area.append(build)\n",
    "\n",
    "   \n",
    "    \n",
    "Post=driver.find_elements(By.XPATH,'/html/body/div[4]/section[2]/div/section/div/div/div/div[3]/div[1]/div[6]/div[1]/div[1]/div/div/div[*]/div/div[2]/div[3]/div[1]/ul/li[3]')\n",
    "for i in Post:\n",
    "    post=i.text\n",
    "    Ad_Posted.append(post)\n",
    "    \n",
    "    \n",
    "   \n",
    "    \n",
    "Rent_price=driver.find_elements(By.XPATH,'//div[@class=\"prsg\"]')\n",
    "for i in Rent_price:\n",
    "    price=i.text\n",
    "    Price.append(price)"
   ]
  },
  {
   "cell_type": "code",
   "execution_count": null,
   "id": "4d04cc6c",
   "metadata": {},
   "outputs": [],
   "source": [
    "print(len(Title),len(Address),len(City),len(Build_Up_Area),len(Ad_Posted),len(Price))"
   ]
  },
  {
   "cell_type": "code",
   "execution_count": null,
   "id": "01afc9be",
   "metadata": {},
   "outputs": [],
   "source": [
    "import pandas as pd\n",
    "df=pd.DataFrame({'Title':Title, 'Address':Address,'City':City,'Build_Up_Area':Build_Up_Area,'Ad_Posted':Ad_Posted,'Price':Price})\n",
    "df"
   ]
  },
  {
   "cell_type": "code",
   "execution_count": null,
   "id": "b66e8c3e",
   "metadata": {},
   "outputs": [],
   "source": []
  },
  {
   "cell_type": "code",
   "execution_count": null,
   "id": "daa7487b",
   "metadata": {},
   "outputs": [],
   "source": [
    "#Page 13\n",
    "Next_button=driver.find_element(By.CLASS_NAME,\"next\")\n",
    "Next_button.click()"
   ]
  },
  {
   "cell_type": "code",
   "execution_count": null,
   "id": "04cdb223",
   "metadata": {},
   "outputs": [],
   "source": [
    "Title=[]\n",
    "Address=[]\n",
    "City=[]\n",
    "Build_Up_Area = []\n",
    "Ad_Posted=[]\n",
    "Price=[]"
   ]
  },
  {
   "cell_type": "code",
   "execution_count": null,
   "id": "9aa26c81",
   "metadata": {},
   "outputs": [],
   "source": [
    "Rent_title=driver.find_elements(By.XPATH,'//a[@class=\"listtitle notclickb\"]')\n",
    "for i in Rent_title:\n",
    "    title=i.text\n",
    "    Title.append(title)\n",
    "\n",
    "\n",
    "\n",
    "Area_Address=driver.find_elements(By.XPATH,'//h3[@class=\"listloc\"]')\n",
    "for i in Area_Address:\n",
    "    address=i.text\n",
    "    Address.append(address)\n",
    "\n",
    "\n",
    "Rent_City=driver.find_elements(By.XPATH,'//a[@class=\"notclickb\"]')\n",
    "for i in Rent_City:\n",
    "    city=i.text\n",
    "    City.append(city)\n",
    "\n",
    "\n",
    "\n",
    "Area_Build=driver.find_elements(By.XPATH,'/html/body/div[4]/section[2]/div/section/div/div/div/div[3]/div[1]/div[6]/div[1]/div[1]/div/div/div[*]/div/div[2]/div[3]/div[1]/ul/li[1]/span')\n",
    "for i in Area_Build:\n",
    "    build=i.text\n",
    "    Build_Up_Area.append(build)\n",
    "\n",
    "   \n",
    "    \n",
    "Post=driver.find_elements(By.XPATH,'/html/body/div[4]/section[2]/div/section/div/div/div/div[3]/div[1]/div[6]/div[1]/div[1]/div/div/div[*]/div/div[2]/div[3]/div[1]/ul/li[3]')\n",
    "for i in Post:\n",
    "    post=i.text\n",
    "    Ad_Posted.append(post)\n",
    "    \n",
    "    \n",
    "   \n",
    "    \n",
    "Rent_price=driver.find_elements(By.XPATH,'//div[@class=\"prsg\"]')\n",
    "for i in Rent_price:\n",
    "    price=i.text\n",
    "    Price.append(price)"
   ]
  },
  {
   "cell_type": "code",
   "execution_count": null,
   "id": "5118b150",
   "metadata": {},
   "outputs": [],
   "source": [
    "print(len(Title),len(Address),len(City),len(Build_Up_Area),len(Ad_Posted),len(Price))"
   ]
  },
  {
   "cell_type": "code",
   "execution_count": null,
   "id": "d6ac3200",
   "metadata": {},
   "outputs": [],
   "source": [
    "import pandas as pd\n",
    "df=pd.DataFrame({'Title':Title, 'Address':Address,'City':City,'Build_Up_Area':Build_Up_Area,'Ad_Posted':Ad_Posted,'Price':Price})\n",
    "df"
   ]
  },
  {
   "cell_type": "code",
   "execution_count": null,
   "id": "14bcf8d8",
   "metadata": {},
   "outputs": [],
   "source": [
    "#Page 14\n",
    "Next_button=driver.find_element(By.CLASS_NAME,\"next\")\n",
    "Next_button.click()"
   ]
  },
  {
   "cell_type": "code",
   "execution_count": null,
   "id": "99c53fdf",
   "metadata": {},
   "outputs": [],
   "source": [
    "Title=[]\n",
    "Address=[]\n",
    "City=[]\n",
    "Build_Up_Area = []\n",
    "Ad_Posted=[]\n",
    "Price=[]"
   ]
  },
  {
   "cell_type": "code",
   "execution_count": null,
   "id": "95a13770",
   "metadata": {},
   "outputs": [],
   "source": [
    "Rent_title=driver.find_elements(By.XPATH,'//a[@class=\"listtitle notclickb\"]')\n",
    "for i in Rent_title[0:19]:\n",
    "    title=i.text\n",
    "    Title.append(title)\n",
    "\n",
    "\n",
    "\n",
    "Area_Address=driver.find_elements(By.XPATH,'//h3[@class=\"listloc\"]')\n",
    "for i in Area_Address[0:19]:\n",
    "    address=i.text\n",
    "    Address.append(address)\n",
    "\n",
    "\n",
    "Rent_City=driver.find_elements(By.XPATH,'//a[@class=\"notclickb\"]')\n",
    "for i in Rent_City[0:19]:\n",
    "    city=i.text\n",
    "    City.append(city)\n",
    "\n",
    "\n",
    "\n",
    "Area_Build=driver.find_elements(By.XPATH,'/html/body/div[4]/section[2]/div/section/div/div/div/div[3]/div[1]/div[6]/div[1]/div[1]/div/div/div[*]/div/div[2]/div[3]/div[1]/ul/li[1]/span')\n",
    "for i in Area_Build[0:19]:\n",
    "    build=i.text\n",
    "    Build_Up_Area.append(build)\n",
    "\n",
    "   \n",
    "    \n",
    "Post=driver.find_elements(By.XPATH,'/html/body/div[4]/section[2]/div/section/div/div/div/div[3]/div[1]/div[6]/div[1]/div[1]/div/div/div[*]/div/div[2]/div[3]/div[1]/ul/li[3]')\n",
    "for i in Post[0:19]:\n",
    "    post=i.text\n",
    "    Ad_Posted.append(post)\n",
    "    \n",
    "    \n",
    "   \n",
    "    \n",
    "Rent_price=driver.find_elements(By.XPATH,'//div[@class=\"prsg\"]')\n",
    "for i in Rent_price[0:19]:\n",
    "    price=i.text\n",
    "    Price.append(price)"
   ]
  },
  {
   "cell_type": "code",
   "execution_count": null,
   "id": "34be899d",
   "metadata": {},
   "outputs": [],
   "source": [
    "print(len(Title),len(Address),len(City),len(Build_Up_Area),len(Ad_Posted),len(Price))"
   ]
  },
  {
   "cell_type": "code",
   "execution_count": null,
   "id": "22f13621",
   "metadata": {},
   "outputs": [],
   "source": [
    "import pandas as pd\n",
    "df=pd.DataFrame({'Title':Title, 'Address':Address,'City':City,'Build_Up_Area':Build_Up_Area,'Ad_Posted':Ad_Posted,'Price':Price})\n",
    "df"
   ]
  },
  {
   "cell_type": "code",
   "execution_count": null,
   "id": "2328bed2",
   "metadata": {},
   "outputs": [],
   "source": [
    "#Page 15\n",
    "Next_button=driver.find_element(By.CLASS_NAME,\"next\")\n",
    "Next_button.click()"
   ]
  },
  {
   "cell_type": "code",
   "execution_count": null,
   "id": "0a0b4f55",
   "metadata": {},
   "outputs": [],
   "source": [
    "Title=[]\n",
    "Address=[]\n",
    "City=[]\n",
    "Build_Up_Area = []\n",
    "Ad_Posted=[]\n",
    "Price=[]"
   ]
  },
  {
   "cell_type": "code",
   "execution_count": null,
   "id": "b4ca12d2",
   "metadata": {},
   "outputs": [],
   "source": [
    "Rent_title=driver.find_elements(By.XPATH,'//a[@class=\"listtitle notclickb\"]')\n",
    "for i in Rent_title:\n",
    "    title=i.text\n",
    "    Title.append(title)\n",
    "\n",
    "\n",
    "\n",
    "Area_Address=driver.find_elements(By.XPATH,'//h3[@class=\"listloc\"]')\n",
    "for i in Area_Address:\n",
    "    address=i.text\n",
    "    Address.append(address)\n",
    "\n",
    "\n",
    "Rent_City=driver.find_elements(By.XPATH,'//a[@class=\"notclickb\"]')\n",
    "for i in Rent_City:\n",
    "    city=i.text\n",
    "    City.append(city)\n",
    "\n",
    "\n",
    "\n",
    "Area_Build=driver.find_elements(By.XPATH,'/html/body/div[4]/section[2]/div/section/div/div/div/div[3]/div[1]/div[6]/div[1]/div[1]/div/div/div[*]/div/div[2]/div[3]/div[1]/ul/li[1]/span')\n",
    "for i in Area_Build:\n",
    "    build=i.text\n",
    "    Build_Up_Area.append(build)\n",
    "\n",
    "   \n",
    "    \n",
    "Post=driver.find_elements(By.XPATH,'/html/body/div[4]/section[2]/div/section/div/div/div/div[3]/div[1]/div[6]/div[1]/div[1]/div/div/div[*]/div/div[2]/div[3]/div[1]/ul/li[3]')\n",
    "for i in Post:\n",
    "    post=i.text\n",
    "    Ad_Posted.append(post)\n",
    "    \n",
    "    \n",
    "   \n",
    "    \n",
    "Rent_price=driver.find_elements(By.XPATH,'//div[@class=\"prsg\"]')\n",
    "for i in Rent_price:\n",
    "    price=i.text\n",
    "    Price.append(price)"
   ]
  },
  {
   "cell_type": "code",
   "execution_count": null,
   "id": "d3bc1299",
   "metadata": {},
   "outputs": [],
   "source": [
    "print(len(Title),len(Address),len(City),len(Build_Up_Area),len(Ad_Posted),len(Price))"
   ]
  },
  {
   "cell_type": "code",
   "execution_count": null,
   "id": "29cb6fdd",
   "metadata": {},
   "outputs": [],
   "source": [
    "import pandas as pd\n",
    "df=pd.DataFrame({'Title':Title, 'Address':Address,'City':City,'Build_Up_Area':Build_Up_Area,'Ad_Posted':Ad_Posted,'Price':Price})\n",
    "df"
   ]
  },
  {
   "cell_type": "code",
   "execution_count": null,
   "id": "7e85b5b7",
   "metadata": {},
   "outputs": [],
   "source": []
  },
  {
   "cell_type": "code",
   "execution_count": null,
   "id": "9c6979d6",
   "metadata": {},
   "outputs": [],
   "source": [
    "#Page 16\n",
    "Next_button=driver.find_element(By.XPATH,\"/html/body/div[4]/section[2]/div/section/div/div/div/div[3]/div[1]/div[6]/div[1]/div[1]/div/div/div[31]/ul/li[6]/a\")\n",
    "Next_button.click()"
   ]
  },
  {
   "cell_type": "code",
   "execution_count": null,
   "id": "08acaa92",
   "metadata": {},
   "outputs": [],
   "source": [
    "Title=[]\n",
    "Address=[]\n",
    "City=[]\n",
    "Build_Up_Area = []\n",
    "Ad_Posted=[]\n",
    "Price=[]"
   ]
  },
  {
   "cell_type": "code",
   "execution_count": null,
   "id": "bca3d32d",
   "metadata": {},
   "outputs": [],
   "source": [
    "Rent_title=driver.find_elements(By.XPATH,'//a[@class=\"listtitle notclickb\"]')\n",
    "for i in Rent_title:\n",
    "    title=i.text\n",
    "    Title.append(title)\n",
    "\n",
    "\n",
    "\n",
    "Area_Address=driver.find_elements(By.XPATH,'//h3[@class=\"listloc\"]')\n",
    "for i in Area_Address:\n",
    "    address=i.text\n",
    "    Address.append(address)\n",
    "\n",
    "\n",
    "Rent_City=driver.find_elements(By.XPATH,'//a[@class=\"notclickb\"]')\n",
    "for i in Rent_City:\n",
    "    city=i.text\n",
    "    City.append(city)\n",
    "\n",
    "\n",
    "\n",
    "Area_Build=driver.find_elements(By.XPATH,'/html/body/div[4]/section[2]/div/section/div/div/div/div[3]/div[1]/div[6]/div[1]/div[1]/div/div/div[*]/div/div[2]/div[3]/div[1]/ul/li[1]/span')\n",
    "for i in Area_Build:\n",
    "    build=i.text\n",
    "    Build_Up_Area.append(build)\n",
    "\n",
    "   \n",
    "    \n",
    "Post=driver.find_elements(By.XPATH,'/html/body/div[4]/section[2]/div/section/div/div/div/div[3]/div[1]/div[6]/div[1]/div[1]/div/div/div[*]/div/div[2]/div[3]/div[1]/ul/li[3]')\n",
    "for i in Post:\n",
    "    post=i.text\n",
    "    Ad_Posted.append(post)\n",
    "    \n",
    "    \n",
    "   \n",
    "    \n",
    "Rent_price=driver.find_elements(By.XPATH,'//div[@class=\"prsg\"]')\n",
    "for i in Rent_price:\n",
    "    price=i.text\n",
    "    Price.append(price)"
   ]
  },
  {
   "cell_type": "code",
   "execution_count": null,
   "id": "ff4ca159",
   "metadata": {},
   "outputs": [],
   "source": [
    "print(len(Title),len(Address),len(City),len(Build_Up_Area),len(Ad_Posted),len(Price))"
   ]
  },
  {
   "cell_type": "code",
   "execution_count": null,
   "id": "ac9b7eef",
   "metadata": {},
   "outputs": [],
   "source": [
    "import pandas as pd\n",
    "df=pd.DataFrame({'Title':Title, 'Address':Address,'City':City,'Build_Up_Area':Build_Up_Area,'Ad_Posted':Ad_Posted,'Price':Price})\n",
    "df"
   ]
  },
  {
   "cell_type": "code",
   "execution_count": null,
   "id": "3ad038e3",
   "metadata": {},
   "outputs": [],
   "source": [
    "#Page 17\n",
    "Next_button=driver.find_element(By.CLASS_NAME,\"next\")\n",
    "Next_button.click()"
   ]
  },
  {
   "cell_type": "code",
   "execution_count": null,
   "id": "8fec94e1",
   "metadata": {},
   "outputs": [],
   "source": [
    "Title=[]\n",
    "Address=[]\n",
    "City=[]\n",
    "Build_Up_Area = []\n",
    "Ad_Posted=[]\n",
    "Price=[]"
   ]
  },
  {
   "cell_type": "code",
   "execution_count": null,
   "id": "722695ff",
   "metadata": {},
   "outputs": [],
   "source": [
    "Rent_title=driver.find_elements(By.XPATH,'//a[@class=\"listtitle notclickb\"]')\n",
    "for i in Rent_title:\n",
    "    title=i.text\n",
    "    Title.append(title)\n",
    "\n",
    "\n",
    "\n",
    "Area_Address=driver.find_elements(By.XPATH,'//h3[@class=\"listloc\"]')\n",
    "for i in Area_Address:\n",
    "    address=i.text\n",
    "    Address.append(address)\n",
    "\n",
    "\n",
    "Rent_City=driver.find_elements(By.XPATH,'//a[@class=\"notclickb\"]')\n",
    "for i in Rent_City:\n",
    "    city=i.text\n",
    "    City.append(city)\n",
    "\n",
    "\n",
    "\n",
    "Area_Build=driver.find_elements(By.XPATH,'/html/body/div[4]/section[2]/div/section/div/div/div/div[3]/div[1]/div[6]/div[1]/div[1]/div/div/div[*]/div/div[2]/div[3]/div[1]/ul/li[1]/span')\n",
    "for i in Area_Build:\n",
    "    build=i.text\n",
    "    Build_Up_Area.append(build)\n",
    "\n",
    "   \n",
    "    \n",
    "Post=driver.find_elements(By.XPATH,'/html/body/div[4]/section[2]/div/section/div/div/div/div[3]/div[1]/div[6]/div[1]/div[1]/div/div/div[*]/div/div[2]/div[3]/div[1]/ul/li[3]')\n",
    "for i in Post:\n",
    "    post=i.text\n",
    "    Ad_Posted.append(post)\n",
    "    \n",
    "    \n",
    "   \n",
    "    \n",
    "Rent_price=driver.find_elements(By.XPATH,'//div[@class=\"prsg\"]')\n",
    "for i in Rent_price:\n",
    "    price=i.text\n",
    "    Price.append(price)"
   ]
  },
  {
   "cell_type": "code",
   "execution_count": null,
   "id": "24c6cf46",
   "metadata": {},
   "outputs": [],
   "source": [
    "print(len(Title),len(Address),len(City),len(Build_Up_Area),len(Ad_Posted),len(Price))"
   ]
  },
  {
   "cell_type": "code",
   "execution_count": null,
   "id": "274eb2d9",
   "metadata": {},
   "outputs": [],
   "source": [
    "import pandas as pd\n",
    "df=pd.DataFrame({'Title':Title, 'Address':Address,'City':City,'Build_Up_Area':Build_Up_Area,'Ad_Posted':Ad_Posted,'Price':Price})\n",
    "df"
   ]
  },
  {
   "cell_type": "code",
   "execution_count": null,
   "id": "101cf261",
   "metadata": {},
   "outputs": [],
   "source": [
    "#Page 18\n",
    "Next_button=driver.find_element(By.CLASS_NAME,\"next\")\n",
    "Next_button.click()"
   ]
  },
  {
   "cell_type": "code",
   "execution_count": null,
   "id": "b47582a4",
   "metadata": {},
   "outputs": [],
   "source": [
    "Title=[]\n",
    "Address=[]\n",
    "City=[]\n",
    "Build_Up_Area = []\n",
    "Ad_Posted=[]\n",
    "Price=[]"
   ]
  },
  {
   "cell_type": "code",
   "execution_count": null,
   "id": "b01a8fc0",
   "metadata": {},
   "outputs": [],
   "source": [
    "Rent_title=driver.find_elements(By.XPATH,'//a[@class=\"listtitle notclickb\"]')\n",
    "for i in Rent_title:\n",
    "    title=i.text\n",
    "    Title.append(title)\n",
    "\n",
    "\n",
    "\n",
    "Area_Address=driver.find_elements(By.XPATH,'//h3[@class=\"listloc\"]')\n",
    "for i in Area_Address:\n",
    "    address=i.text\n",
    "    Address.append(address)\n",
    "\n",
    "\n",
    "Rent_City=driver.find_elements(By.XPATH,'//a[@class=\"notclickb\"]')\n",
    "for i in Rent_City:\n",
    "    city=i.text\n",
    "    City.append(city)\n",
    "\n",
    "\n",
    "\n",
    "Area_Build=driver.find_elements(By.XPATH,'/html/body/div[4]/section[2]/div/section/div/div/div/div[3]/div[1]/div[6]/div[1]/div[1]/div/div/div[*]/div/div[2]/div[3]/div[1]/ul/li[1]/span')\n",
    "for i in Area_Build:\n",
    "    build=i.text\n",
    "    Build_Up_Area.append(build)\n",
    "\n",
    "   \n",
    "    \n",
    "Post=driver.find_elements(By.XPATH,'/html/body/div[4]/section[2]/div/section/div/div/div/div[3]/div[1]/div[6]/div[1]/div[1]/div/div/div[*]/div/div[2]/div[3]/div[1]/ul/li[3]')\n",
    "for i in Post:\n",
    "    post=i.text\n",
    "    Ad_Posted.append(post)\n",
    "    \n",
    "    \n",
    "   \n",
    "    \n",
    "Rent_price=driver.find_elements(By.XPATH,'//div[@class=\"prsg\"]')\n",
    "for i in Rent_price:\n",
    "    price=i.text\n",
    "    Price.append(price)"
   ]
  },
  {
   "cell_type": "code",
   "execution_count": null,
   "id": "6aaaacfb",
   "metadata": {},
   "outputs": [],
   "source": [
    "print(len(Title),len(Address),len(City),len(Build_Up_Area),len(Ad_Posted),len(Price))"
   ]
  },
  {
   "cell_type": "code",
   "execution_count": null,
   "id": "6800191a",
   "metadata": {},
   "outputs": [],
   "source": [
    "import pandas as pd\n",
    "df=pd.DataFrame({'Title':Title, 'Address':Address,'City':City,'Build_Up_Area':Build_Up_Area,'Ad_Posted':Ad_Posted,'Price':Price})\n",
    "df"
   ]
  },
  {
   "cell_type": "code",
   "execution_count": null,
   "id": "a62eeb31",
   "metadata": {},
   "outputs": [],
   "source": [
    "#Page 19\n",
    "Next_button=driver.find_element(By.XPATH,\"/html/body/div[4]/section[2]/div/section/div/div/div/div[3]/div[1]/div[6]/div[1]/div[1]/div/div/div[31]/ul/li[6]/a\")\n",
    "Next_button.click()"
   ]
  },
  {
   "cell_type": "code",
   "execution_count": null,
   "id": "3ac7783f",
   "metadata": {},
   "outputs": [],
   "source": [
    "Title=[]\n",
    "Address=[]\n",
    "City=[]\n",
    "Build_Up_Area = []\n",
    "Ad_Posted=[]\n",
    "Price=[]"
   ]
  },
  {
   "cell_type": "code",
   "execution_count": null,
   "id": "d0185e0c",
   "metadata": {},
   "outputs": [],
   "source": [
    "Rent_title=driver.find_elements(By.XPATH,'//a[@class=\"listtitle notclickb\"]')\n",
    "for i in Rent_title:\n",
    "    title=i.text\n",
    "    Title.append(title)\n",
    "\n",
    "\n",
    "\n",
    "Area_Address=driver.find_elements(By.XPATH,'//h3[@class=\"listloc\"]')\n",
    "for i in Area_Address:\n",
    "    address=i.text\n",
    "    Address.append(address)\n",
    "\n",
    "\n",
    "Rent_City=driver.find_elements(By.XPATH,'//a[@class=\"notclickb\"]')\n",
    "for i in Rent_City:\n",
    "    city=i.text\n",
    "    City.append(city)\n",
    "\n",
    "\n",
    "\n",
    "Area_Build=driver.find_elements(By.XPATH,'/html/body/div[4]/section[2]/div/section/div/div/div/div[3]/div[1]/div[6]/div[1]/div[1]/div/div/div[*]/div/div[2]/div[3]/div[1]/ul/li[1]/span')\n",
    "for i in Area_Build:\n",
    "    build=i.text\n",
    "    Build_Up_Area.append(build)\n",
    "\n",
    "   \n",
    "    \n",
    "Post=driver.find_elements(By.XPATH,'/html/body/div[4]/section[2]/div/section/div/div/div/div[3]/div[1]/div[6]/div[1]/div[1]/div/div/div[*]/div/div[2]/div[3]/div[1]/ul/li[3]')\n",
    "for i in Post:\n",
    "    post=i.text\n",
    "    Ad_Posted.append(post)\n",
    "    \n",
    "    \n",
    "   \n",
    "    \n",
    "Rent_price=driver.find_elements(By.XPATH,'//div[@class=\"prsg\"]')\n",
    "for i in Rent_price:\n",
    "    price=i.text\n",
    "    Price.append(price)"
   ]
  },
  {
   "cell_type": "code",
   "execution_count": null,
   "id": "063ddcf7",
   "metadata": {},
   "outputs": [],
   "source": [
    "print(len(Title),len(Address),len(City),len(Build_Up_Area),len(Ad_Posted),len(Price))"
   ]
  },
  {
   "cell_type": "code",
   "execution_count": null,
   "id": "fa658784",
   "metadata": {},
   "outputs": [],
   "source": [
    "import pandas as pd\n",
    "df=pd.DataFrame({'Title':Title, 'Address':Address,'City':City,'Build_Up_Area':Build_Up_Area,'Ad_Posted':Ad_Posted,'Price':Price})\n",
    "df"
   ]
  },
  {
   "cell_type": "code",
   "execution_count": null,
   "id": "d191764d",
   "metadata": {},
   "outputs": [],
   "source": [
    "#Page 20\n",
    "Next_button=driver.find_element(By.CLASS_NAME,\"next\")\n",
    "Next_button.click()"
   ]
  },
  {
   "cell_type": "code",
   "execution_count": null,
   "id": "5de6a481",
   "metadata": {},
   "outputs": [],
   "source": [
    "Title=[]\n",
    "Address=[]\n",
    "City=[]\n",
    "Build_Up_Area = []\n",
    "Ad_Posted=[]\n",
    "Price=[]"
   ]
  },
  {
   "cell_type": "code",
   "execution_count": null,
   "id": "2e9e71b5",
   "metadata": {},
   "outputs": [],
   "source": [
    "Rent_title=driver.find_elements(By.XPATH,'//a[@class=\"listtitle notclickb\"]')\n",
    "for i in Rent_title:\n",
    "    title=i.text\n",
    "    Title.append(title)\n",
    "\n",
    "\n",
    "\n",
    "Area_Address=driver.find_elements(By.XPATH,'//h3[@class=\"listloc\"]')\n",
    "for i in Area_Address:\n",
    "    address=i.text\n",
    "    Address.append(address)\n",
    "\n",
    "\n",
    "Rent_City=driver.find_elements(By.XPATH,'//a[@class=\"notclickb\"]')\n",
    "for i in Rent_City:\n",
    "    city=i.text\n",
    "    City.append(city)\n",
    "\n",
    "\n",
    "\n",
    "Area_Build=driver.find_elements(By.XPATH,'/html/body/div[4]/section[2]/div/section/div/div/div/div[3]/div[1]/div[6]/div[1]/div[1]/div/div/div[*]/div/div[2]/div[3]/div[1]/ul/li[1]/span')\n",
    "for i in Area_Build:\n",
    "    build=i.text\n",
    "    Build_Up_Area.append(build)\n",
    "\n",
    "   \n",
    "    \n",
    "Post=driver.find_elements(By.XPATH,'/html/body/div[4]/section[2]/div/section/div/div/div/div[3]/div[1]/div[6]/div[1]/div[1]/div/div/div[*]/div/div[2]/div[3]/div[1]/ul/li[3]')\n",
    "for i in Post:\n",
    "    post=i.text\n",
    "    Ad_Posted.append(post)\n",
    "    \n",
    "    \n",
    "   \n",
    "    \n",
    "Rent_price=driver.find_elements(By.XPATH,'//div[@class=\"prsg\"]')\n",
    "for i in Rent_price:\n",
    "    price=i.text\n",
    "    Price.append(price)"
   ]
  },
  {
   "cell_type": "code",
   "execution_count": null,
   "id": "609e2f16",
   "metadata": {},
   "outputs": [],
   "source": [
    "print(len(Title),len(Address),len(City),len(Build_Up_Area),len(Ad_Posted),len(Price))"
   ]
  },
  {
   "cell_type": "code",
   "execution_count": null,
   "id": "9232db8c",
   "metadata": {},
   "outputs": [],
   "source": [
    "import pandas as pd\n",
    "df=pd.DataFrame({'Title':Title, 'Address':Address,'City':City,'Build_Up_Area':Build_Up_Area,'Ad_Posted':Ad_Posted,'Price':Price})\n",
    "df"
   ]
  },
  {
   "cell_type": "code",
   "execution_count": null,
   "id": "89b8a48c",
   "metadata": {},
   "outputs": [],
   "source": [
    "#Page 21\n",
    "Next_button=driver.find_element(By.CLASS_NAME,\"next\")\n",
    "Next_button.click()"
   ]
  },
  {
   "cell_type": "code",
   "execution_count": null,
   "id": "e5178d4e",
   "metadata": {},
   "outputs": [],
   "source": [
    "Title=[]\n",
    "Address=[]\n",
    "City=[]\n",
    "Build_Up_Area = []\n",
    "Ad_Posted=[]\n",
    "Price=[]"
   ]
  },
  {
   "cell_type": "code",
   "execution_count": null,
   "id": "82537da1",
   "metadata": {},
   "outputs": [],
   "source": [
    "Rent_title=driver.find_elements(By.XPATH,'//a[@class=\"listtitle notclickb\"]')\n",
    "for i in Rent_title:\n",
    "    title=i.text\n",
    "    Title.append(title)\n",
    "\n",
    "\n",
    "\n",
    "Area_Address=driver.find_elements(By.XPATH,'//h3[@class=\"listloc\"]')\n",
    "for i in Area_Address:\n",
    "    address=i.text\n",
    "    Address.append(address)\n",
    "\n",
    "\n",
    "Rent_City=driver.find_elements(By.XPATH,'//a[@class=\"notclickb\"]')\n",
    "for i in Rent_City:\n",
    "    city=i.text\n",
    "    City.append(city)\n",
    "\n",
    "\n",
    "\n",
    "Area_Build=driver.find_elements(By.XPATH,'/html/body/div[4]/section[2]/div/section/div/div/div/div[3]/div[1]/div[6]/div[1]/div[1]/div/div/div[*]/div/div[2]/div[3]/div[1]/ul/li[1]/span')\n",
    "for i in Area_Build:\n",
    "    build=i.text\n",
    "    Build_Up_Area.append(build)\n",
    "\n",
    "   \n",
    "    \n",
    "Post=driver.find_elements(By.XPATH,'/html/body/div[4]/section[2]/div/section/div/div/div/div[3]/div[1]/div[6]/div[1]/div[1]/div/div/div[*]/div/div[2]/div[3]/div[1]/ul/li[3]')\n",
    "for i in Post:\n",
    "    post=i.text\n",
    "    Ad_Posted.append(post)\n",
    "    \n",
    "    \n",
    "   \n",
    "    \n",
    "Rent_price=driver.find_elements(By.XPATH,'//div[@class=\"prsg\"]')\n",
    "for i in Rent_price:\n",
    "    price=i.text\n",
    "    Price.append(price)"
   ]
  },
  {
   "cell_type": "code",
   "execution_count": null,
   "id": "40a4cf0b",
   "metadata": {},
   "outputs": [],
   "source": [
    "print(len(Title),len(Address),len(City),len(Build_Up_Area),len(Ad_Posted),len(Price))"
   ]
  },
  {
   "cell_type": "code",
   "execution_count": null,
   "id": "4848a879",
   "metadata": {},
   "outputs": [],
   "source": [
    "import pandas as pd\n",
    "df=pd.DataFrame({'Title':Title, 'Address':Address,'City':City,'Build_Up_Area':Build_Up_Area,'Ad_Posted':Ad_Posted,'Price':Price})\n",
    "df"
   ]
  },
  {
   "cell_type": "code",
   "execution_count": null,
   "id": "499a2932",
   "metadata": {},
   "outputs": [],
   "source": [
    "#Page 22\n",
    "Next_button=driver.find_element(By.CLASS_NAME,\"next\")\n",
    "Next_button.click()"
   ]
  },
  {
   "cell_type": "code",
   "execution_count": null,
   "id": "a0fbbcfd",
   "metadata": {},
   "outputs": [],
   "source": [
    "Title=[]\n",
    "Address=[]\n",
    "City=[]\n",
    "Build_Up_Area = []\n",
    "Ad_Posted=[]\n",
    "Price=[]"
   ]
  },
  {
   "cell_type": "code",
   "execution_count": null,
   "id": "777df8eb",
   "metadata": {},
   "outputs": [],
   "source": [
    "Rent_title=driver.find_elements(By.XPATH,'//a[@class=\"listtitle notclickb\"]')\n",
    "for i in Rent_title:\n",
    "    title=i.text\n",
    "    Title.append(title)\n",
    "\n",
    "\n",
    "\n",
    "Area_Address=driver.find_elements(By.XPATH,'//h3[@class=\"listloc\"]')\n",
    "for i in Area_Address:\n",
    "    address=i.text\n",
    "    Address.append(address)\n",
    "\n",
    "\n",
    "Rent_City=driver.find_elements(By.XPATH,'//a[@class=\"notclickb\"]')\n",
    "for i in Rent_City:\n",
    "    city=i.text\n",
    "    City.append(city)\n",
    "\n",
    "\n",
    "\n",
    "Area_Build=driver.find_elements(By.XPATH,'/html/body/div[4]/section[2]/div/section/div/div/div/div[3]/div[1]/div[6]/div[1]/div[1]/div/div/div[*]/div/div[2]/div[3]/div[1]/ul/li[1]/span')\n",
    "for i in Area_Build:\n",
    "    build=i.text\n",
    "    Build_Up_Area.append(build)\n",
    "\n",
    "   \n",
    "    \n",
    "Post=driver.find_elements(By.XPATH,'/html/body/div[4]/section[2]/div/section/div/div/div/div[3]/div[1]/div[6]/div[1]/div[1]/div/div/div[*]/div/div[2]/div[3]/div[1]/ul/li[3]')\n",
    "for i in Post:\n",
    "    post=i.text\n",
    "    Ad_Posted.append(post)\n",
    "    \n",
    "    \n",
    "   \n",
    "    \n",
    "Rent_price=driver.find_elements(By.XPATH,'//div[@class=\"prsg\"]')\n",
    "for i in Rent_price:\n",
    "    price=i.text\n",
    "    Price.append(price)"
   ]
  },
  {
   "cell_type": "code",
   "execution_count": null,
   "id": "24879ba0",
   "metadata": {},
   "outputs": [],
   "source": [
    "print(len(Title),len(Address),len(City),len(Build_Up_Area),len(Ad_Posted),len(Price))"
   ]
  },
  {
   "cell_type": "code",
   "execution_count": null,
   "id": "cf2110c5",
   "metadata": {},
   "outputs": [],
   "source": [
    "import pandas as pd\n",
    "df=pd.DataFrame({'Title':Title, 'Address':Address,'City':City,'Build_Up_Area':Build_Up_Area,'Ad_Posted':Ad_Posted,'Price':Price})\n",
    "df"
   ]
  },
  {
   "cell_type": "code",
   "execution_count": null,
   "id": "52b673b6",
   "metadata": {},
   "outputs": [],
   "source": [
    "#Page 23\n",
    "Next_button=driver.find_element(By.CLASS_NAME,\"next\")\n",
    "Next_button.click()"
   ]
  },
  {
   "cell_type": "code",
   "execution_count": null,
   "id": "9abea72f",
   "metadata": {},
   "outputs": [],
   "source": [
    "Title=[]\n",
    "Address=[]\n",
    "City=[]\n",
    "Build_Up_Area = []\n",
    "Ad_Posted=[]\n",
    "Price=[]"
   ]
  },
  {
   "cell_type": "code",
   "execution_count": null,
   "id": "63ff9802",
   "metadata": {},
   "outputs": [],
   "source": [
    "Rent_title=driver.find_elements(By.XPATH,'//a[@class=\"listtitle notclickb\"]')\n",
    "for i in Rent_title:\n",
    "    title=i.text\n",
    "    Title.append(title)\n",
    "\n",
    "\n",
    "\n",
    "Area_Address=driver.find_elements(By.XPATH,'//h3[@class=\"listloc\"]')\n",
    "for i in Area_Address:\n",
    "    address=i.text\n",
    "    Address.append(address)\n",
    "\n",
    "\n",
    "Rent_City=driver.find_elements(By.XPATH,'//a[@class=\"notclickb\"]')\n",
    "for i in Rent_City:\n",
    "    city=i.text\n",
    "    City.append(city)\n",
    "\n",
    "\n",
    "\n",
    "Area_Build=driver.find_elements(By.XPATH,'/html/body/div[4]/section[2]/div/section/div/div/div/div[3]/div[1]/div[6]/div[1]/div[1]/div/div/div[*]/div/div[2]/div[3]/div[1]/ul/li[1]/span')\n",
    "for i in Area_Build:\n",
    "    build=i.text\n",
    "    Build_Up_Area.append(build)\n",
    "\n",
    "   \n",
    "    \n",
    "Post=driver.find_elements(By.XPATH,'/html/body/div[4]/section[2]/div/section/div/div/div/div[3]/div[1]/div[6]/div[1]/div[1]/div/div/div[*]/div/div[2]/div[3]/div[1]/ul/li[3]')\n",
    "for i in Post:\n",
    "    post=i.text\n",
    "    Ad_Posted.append(post)\n",
    "    \n",
    "    \n",
    "   \n",
    "    \n",
    "Rent_price=driver.find_elements(By.XPATH,'//div[@class=\"prsg\"]')\n",
    "for i in Rent_price:\n",
    "    price=i.text\n",
    "    Price.append(price)"
   ]
  },
  {
   "cell_type": "code",
   "execution_count": null,
   "id": "88fb58f9",
   "metadata": {},
   "outputs": [],
   "source": [
    "print(len(Title),len(Address),len(City),len(Build_Up_Area),len(Ad_Posted),len(Price))"
   ]
  },
  {
   "cell_type": "code",
   "execution_count": null,
   "id": "29d3a041",
   "metadata": {},
   "outputs": [],
   "source": [
    "import pandas as pd\n",
    "df=pd.DataFrame({'Title':Title, 'Address':Address,'City':City,'Build_Up_Area':Build_Up_Area,'Ad_Posted':Ad_Posted,'Price':Price})\n",
    "df"
   ]
  },
  {
   "cell_type": "code",
   "execution_count": null,
   "id": "3ae181f6",
   "metadata": {},
   "outputs": [],
   "source": [
    "#Page 24\n",
    "Next_button=driver.find_element(By.CLASS_NAME,\"next\")\n",
    "Next_button.click()"
   ]
  },
  {
   "cell_type": "code",
   "execution_count": null,
   "id": "a3867fcf",
   "metadata": {},
   "outputs": [],
   "source": [
    "Title=[]\n",
    "Address=[]\n",
    "City=[]\n",
    "Build_Up_Area = []\n",
    "Ad_Posted=[]\n",
    "Price=[]"
   ]
  },
  {
   "cell_type": "code",
   "execution_count": null,
   "id": "2f01de55",
   "metadata": {},
   "outputs": [],
   "source": [
    "Rent_title=driver.find_elements(By.XPATH,'//a[@class=\"listtitle notclickb\"]')\n",
    "for i in Rent_title:\n",
    "    title=i.text\n",
    "    Title.append(title)\n",
    "\n",
    "\n",
    "\n",
    "Area_Address=driver.find_elements(By.XPATH,'//h3[@class=\"listloc\"]')\n",
    "for i in Area_Address:\n",
    "    address=i.text\n",
    "    Address.append(address)\n",
    "\n",
    "\n",
    "Rent_City=driver.find_elements(By.XPATH,'//a[@class=\"notclickb\"]')\n",
    "for i in Rent_City:\n",
    "    city=i.text\n",
    "    City.append(city)\n",
    "\n",
    "\n",
    "\n",
    "Area_Build=driver.find_elements(By.XPATH,'/html/body/div[4]/section[2]/div/section/div/div/div/div[3]/div[1]/div[6]/div[1]/div[1]/div/div/div[*]/div/div[2]/div[3]/div[1]/ul/li[1]/span')\n",
    "for i in Area_Build:\n",
    "    build=i.text\n",
    "    Build_Up_Area.append(build)\n",
    "\n",
    "   \n",
    "    \n",
    "Post=driver.find_elements(By.XPATH,'/html/body/div[4]/section[2]/div/section/div/div/div/div[3]/div[1]/div[6]/div[1]/div[1]/div/div/div[*]/div/div[2]/div[3]/div[1]/ul/li[3]')\n",
    "for i in Post:\n",
    "    post=i.text\n",
    "    Ad_Posted.append(post)\n",
    "    \n",
    "    \n",
    "   \n",
    "    \n",
    "Rent_price=driver.find_elements(By.XPATH,'//div[@class=\"prsg\"]')\n",
    "for i in Rent_price:\n",
    "    price=i.text\n",
    "    Price.append(price)"
   ]
  },
  {
   "cell_type": "code",
   "execution_count": null,
   "id": "abe5717e",
   "metadata": {},
   "outputs": [],
   "source": [
    "print(len(Title),len(Address),len(City),len(Build_Up_Area),len(Ad_Posted),len(Price))"
   ]
  },
  {
   "cell_type": "code",
   "execution_count": null,
   "id": "1655ba5b",
   "metadata": {},
   "outputs": [],
   "source": [
    "import pandas as pd\n",
    "df=pd.DataFrame({'Title':Title, 'Address':Address,'City':City,'Build_Up_Area':Build_Up_Area,'Ad_Posted':Ad_Posted,'Price':Price})\n",
    "df"
   ]
  },
  {
   "cell_type": "code",
   "execution_count": null,
   "id": "39518fec",
   "metadata": {},
   "outputs": [],
   "source": [
    "#Page 25\n",
    "Next_button=driver.find_element(By.CLASS_NAME,\"next\")\n",
    "Next_button.click()"
   ]
  },
  {
   "cell_type": "code",
   "execution_count": null,
   "id": "b15b4fcc",
   "metadata": {},
   "outputs": [],
   "source": [
    "Title=[]\n",
    "Address=[]\n",
    "City=[]\n",
    "Build_Up_Area = []\n",
    "Ad_Posted=[]\n",
    "Price=[]"
   ]
  },
  {
   "cell_type": "code",
   "execution_count": null,
   "id": "8cd86170",
   "metadata": {},
   "outputs": [],
   "source": [
    "Rent_title=driver.find_elements(By.XPATH,'//a[@class=\"listtitle notclickb\"]')\n",
    "for i in Rent_title:\n",
    "    title=i.text\n",
    "    Title.append(title)\n",
    "\n",
    "\n",
    "\n",
    "Area_Address=driver.find_elements(By.XPATH,'//h3[@class=\"listloc\"]')\n",
    "for i in Area_Address:\n",
    "    address=i.text\n",
    "    Address.append(address)\n",
    "\n",
    "\n",
    "Rent_City=driver.find_elements(By.XPATH,'//a[@class=\"notclickb\"]')\n",
    "for i in Rent_City:\n",
    "    city=i.text\n",
    "    City.append(city)\n",
    "\n",
    "\n",
    "\n",
    "Area_Build=driver.find_elements(By.XPATH,'/html/body/div[4]/section[2]/div/section/div/div/div/div[3]/div[1]/div[6]/div[1]/div[1]/div/div/div[*]/div/div[2]/div[3]/div[1]/ul/li[1]/span')\n",
    "for i in Area_Build:\n",
    "    build=i.text\n",
    "    Build_Up_Area.append(build)\n",
    "\n",
    "   \n",
    "    \n",
    "Post=driver.find_elements(By.XPATH,'/html/body/div[4]/section[2]/div/section/div/div/div/div[3]/div[1]/div[6]/div[1]/div[1]/div/div/div[*]/div/div[2]/div[3]/div[1]/ul/li[3]')\n",
    "for i in Post:\n",
    "    post=i.text\n",
    "    Ad_Posted.append(post)\n",
    "    \n",
    "    \n",
    "   \n",
    "    \n",
    "Rent_price=driver.find_elements(By.XPATH,'//div[@class=\"prsg\"]')\n",
    "for i in Rent_price:\n",
    "    price=i.text\n",
    "    Price.append(price)"
   ]
  },
  {
   "cell_type": "code",
   "execution_count": null,
   "id": "234d9268",
   "metadata": {},
   "outputs": [],
   "source": [
    "print(len(Title),len(Address),len(City),len(Build_Up_Area),len(Ad_Posted),len(Price))"
   ]
  },
  {
   "cell_type": "code",
   "execution_count": null,
   "id": "ec381055",
   "metadata": {},
   "outputs": [],
   "source": [
    "import pandas as pd\n",
    "df=pd.DataFrame({'Title':Title, 'Address':Address,'City':City,'Build_Up_Area':Build_Up_Area,'Ad_Posted':Ad_Posted,'Price':Price})\n",
    "df"
   ]
  },
  {
   "cell_type": "code",
   "execution_count": null,
   "id": "0e234b46",
   "metadata": {},
   "outputs": [],
   "source": [
    "#Page 26\n",
    "Next_button=driver.find_element(By.CLASS_NAME,\"next\")\n",
    "Next_button.click()"
   ]
  },
  {
   "cell_type": "code",
   "execution_count": null,
   "id": "bc33c27c",
   "metadata": {},
   "outputs": [],
   "source": [
    "Title=[]\n",
    "Address=[]\n",
    "City=[]\n",
    "Build_Up_Area = []\n",
    "Ad_Posted=[]\n",
    "Price=[]"
   ]
  },
  {
   "cell_type": "code",
   "execution_count": null,
   "id": "1c665ea3",
   "metadata": {},
   "outputs": [],
   "source": [
    "Rent_title=driver.find_elements(By.XPATH,'//a[@class=\"listtitle notclickb\"]')\n",
    "for i in Rent_title:\n",
    "    title=i.text\n",
    "    Title.append(title)\n",
    "\n",
    "\n",
    "\n",
    "Area_Address=driver.find_elements(By.XPATH,'//h3[@class=\"listloc\"]')\n",
    "for i in Area_Address:\n",
    "    address=i.text\n",
    "    Address.append(address)\n",
    "\n",
    "\n",
    "Rent_City=driver.find_elements(By.XPATH,'//a[@class=\"notclickb\"]')\n",
    "for i in Rent_City:\n",
    "    city=i.text\n",
    "    City.append(city)\n",
    "\n",
    "\n",
    "\n",
    "Area_Build=driver.find_elements(By.XPATH,'/html/body/div[4]/section[2]/div/section/div/div/div/div[3]/div[1]/div[6]/div[1]/div[1]/div/div/div[*]/div/div[2]/div[3]/div[1]/ul/li[1]/span')\n",
    "for i in Area_Build:\n",
    "    build=i.text\n",
    "    Build_Up_Area.append(build)\n",
    "\n",
    "   \n",
    "    \n",
    "Post=driver.find_elements(By.XPATH,'/html/body/div[4]/section[2]/div/section/div/div/div/div[3]/div[1]/div[6]/div[1]/div[1]/div/div/div[*]/div/div[2]/div[3]/div[1]/ul/li[3]')\n",
    "for i in Post:\n",
    "    post=i.text\n",
    "    Ad_Posted.append(post)\n",
    "    \n",
    "    \n",
    "   \n",
    "    \n",
    "Rent_price=driver.find_elements(By.XPATH,'//div[@class=\"prsg\"]')\n",
    "for i in Rent_price:\n",
    "    price=i.text\n",
    "    Price.append(price)"
   ]
  },
  {
   "cell_type": "code",
   "execution_count": null,
   "id": "9c7e361a",
   "metadata": {},
   "outputs": [],
   "source": [
    "print(len(Title),len(Address),len(City),len(Build_Up_Area),len(Ad_Posted),len(Price))"
   ]
  },
  {
   "cell_type": "code",
   "execution_count": null,
   "id": "2adfaf36",
   "metadata": {},
   "outputs": [],
   "source": [
    "import pandas as pd\n",
    "df=pd.DataFrame({'Title':Title, 'Address':Address,'City':City,'Build_Up_Area':Build_Up_Area,'Ad_Posted':Ad_Posted,'Price':Price})\n",
    "df"
   ]
  },
  {
   "cell_type": "code",
   "execution_count": null,
   "id": "a2496e64",
   "metadata": {},
   "outputs": [],
   "source": [
    "#Page 27\n",
    "Next_button=driver.find_element(By.CLASS_NAME,\"next\")\n",
    "Next_button.click()"
   ]
  },
  {
   "cell_type": "code",
   "execution_count": null,
   "id": "af0d2890",
   "metadata": {},
   "outputs": [],
   "source": [
    "Title=[]\n",
    "Address=[]\n",
    "City=[]\n",
    "Build_Up_Area = []\n",
    "Ad_Posted=[]\n",
    "Price=[]"
   ]
  },
  {
   "cell_type": "code",
   "execution_count": null,
   "id": "8d524d95",
   "metadata": {},
   "outputs": [],
   "source": [
    "Rent_title=driver.find_elements(By.XPATH,'//a[@class=\"listtitle notclickb\"]')\n",
    "for i in Rent_title:\n",
    "    title=i.text\n",
    "    Title.append(title)\n",
    "\n",
    "\n",
    "\n",
    "Area_Address=driver.find_elements(By.XPATH,'//h3[@class=\"listloc\"]')\n",
    "for i in Area_Address:\n",
    "    address=i.text\n",
    "    Address.append(address)\n",
    "\n",
    "\n",
    "Rent_City=driver.find_elements(By.XPATH,'//a[@class=\"notclickb\"]')\n",
    "for i in Rent_City:\n",
    "    city=i.text\n",
    "    City.append(city)\n",
    "\n",
    "\n",
    "\n",
    "Area_Build=driver.find_elements(By.XPATH,'/html/body/div[4]/section[2]/div/section/div/div/div/div[3]/div[1]/div[6]/div[1]/div[1]/div/div/div[*]/div/div[2]/div[3]/div[1]/ul/li[1]/span')\n",
    "for i in Area_Build:\n",
    "    build=i.text\n",
    "    Build_Up_Area.append(build)\n",
    "\n",
    "   \n",
    "    \n",
    "Post=driver.find_elements(By.XPATH,'/html/body/div[4]/section[2]/div/section/div/div/div/div[3]/div[1]/div[6]/div[1]/div[1]/div/div/div[*]/div/div[2]/div[3]/div[1]/ul/li[3]')\n",
    "for i in Post:\n",
    "    post=i.text\n",
    "    Ad_Posted.append(post)\n",
    "    \n",
    "    \n",
    "   \n",
    "    \n",
    "Rent_price=driver.find_elements(By.XPATH,'//div[@class=\"prsg\"]')\n",
    "for i in Rent_price:\n",
    "    price=i.text\n",
    "    Price.append(price)"
   ]
  },
  {
   "cell_type": "code",
   "execution_count": null,
   "id": "1074ef42",
   "metadata": {},
   "outputs": [],
   "source": [
    "print(len(Title),len(Address),len(City),len(Build_Up_Area),len(Ad_Posted),len(Price))"
   ]
  },
  {
   "cell_type": "code",
   "execution_count": null,
   "id": "398c99e7",
   "metadata": {},
   "outputs": [],
   "source": [
    "import pandas as pd\n",
    "df=pd.DataFrame({'Title':Title, 'Address':Address,'City':City,'Build_Up_Area':Build_Up_Area,'Ad_Posted':Ad_Posted,'Price':Price})\n",
    "df"
   ]
  },
  {
   "cell_type": "code",
   "execution_count": null,
   "id": "7156e3c7",
   "metadata": {},
   "outputs": [],
   "source": [
    "#Page 28\n",
    "Next_button=driver.find_element(By.XPATH,\"/html/body/div[4]/section[2]/div/section/div/div/div/div[3]/div[1]/div[6]/div[1]/div[1]/div/div/div[31]/ul/li[6]/a\")\n",
    "Next_button.click()"
   ]
  },
  {
   "cell_type": "code",
   "execution_count": null,
   "id": "87c3e3de",
   "metadata": {},
   "outputs": [],
   "source": [
    "Title=[]\n",
    "Address=[]\n",
    "City=[]\n",
    "Build_Up_Area = []\n",
    "Ad_Posted=[]\n",
    "Price=[]"
   ]
  },
  {
   "cell_type": "code",
   "execution_count": null,
   "id": "c5b1317c",
   "metadata": {},
   "outputs": [],
   "source": [
    "Rent_title=driver.find_elements(By.XPATH,'//a[@class=\"listtitle notclickb\"]')\n",
    "for i in Rent_title:\n",
    "    title=i.text\n",
    "    Title.append(title)\n",
    "\n",
    "\n",
    "\n",
    "Area_Address=driver.find_elements(By.XPATH,'//h3[@class=\"listloc\"]')\n",
    "for i in Area_Address:\n",
    "    address=i.text\n",
    "    Address.append(address)\n",
    "\n",
    "\n",
    "Rent_City=driver.find_elements(By.XPATH,'//a[@class=\"notclickb\"]')\n",
    "for i in Rent_City:\n",
    "    city=i.text\n",
    "    City.append(city)\n",
    "\n",
    "\n",
    "\n",
    "Area_Build=driver.find_elements(By.XPATH,'/html/body/div[4]/section[2]/div/section/div/div/div/div[3]/div[1]/div[6]/div[1]/div[1]/div/div/div[*]/div/div[2]/div[3]/div[1]/ul/li[1]/span')\n",
    "for i in Area_Build:\n",
    "    build=i.text\n",
    "    Build_Up_Area.append(build)\n",
    "\n",
    "   \n",
    "    \n",
    "Post=driver.find_elements(By.XPATH,'/html/body/div[4]/section[2]/div/section/div/div/div/div[3]/div[1]/div[6]/div[1]/div[1]/div/div/div[*]/div/div[2]/div[3]/div[1]/ul/li[3]')\n",
    "for i in Post:\n",
    "    post=i.text\n",
    "    Ad_Posted.append(post)\n",
    "    \n",
    "    \n",
    "   \n",
    "    \n",
    "Rent_price=driver.find_elements(By.XPATH,'//div[@class=\"prsg\"]')\n",
    "for i in Rent_price:\n",
    "    price=i.text\n",
    "    Price.append(price)"
   ]
  },
  {
   "cell_type": "code",
   "execution_count": null,
   "id": "6559a027",
   "metadata": {},
   "outputs": [],
   "source": [
    "print(len(Title),len(Address),len(City),len(Build_Up_Area),len(Ad_Posted),len(Price))"
   ]
  },
  {
   "cell_type": "code",
   "execution_count": null,
   "id": "385eea39",
   "metadata": {},
   "outputs": [],
   "source": [
    "import pandas as pd\n",
    "df=pd.DataFrame({'Title':Title, 'Address':Address,'City':City,'Build_Up_Area':Build_Up_Area,'Ad_Posted':Ad_Posted,'Price':Price})\n",
    "df"
   ]
  },
  {
   "cell_type": "code",
   "execution_count": null,
   "id": "5b0d430f",
   "metadata": {},
   "outputs": [],
   "source": []
  },
  {
   "cell_type": "code",
   "execution_count": null,
   "id": "a91d3b9d",
   "metadata": {},
   "outputs": [],
   "source": [
    "#Page 29\n",
    "Next_button=driver.find_element(By.CLASS_NAME,\"next\")\n",
    "Next_button.click()"
   ]
  },
  {
   "cell_type": "code",
   "execution_count": null,
   "id": "21931612",
   "metadata": {},
   "outputs": [],
   "source": [
    "Title=[]\n",
    "Address=[]\n",
    "City=[]\n",
    "Build_Up_Area = []\n",
    "Ad_Posted=[]\n",
    "Price=[]"
   ]
  },
  {
   "cell_type": "code",
   "execution_count": null,
   "id": "0f6835c9",
   "metadata": {},
   "outputs": [],
   "source": [
    "Rent_title=driver.find_elements(By.XPATH,'//a[@class=\"listtitle notclickb\"]')\n",
    "for i in Rent_title:\n",
    "    title=i.text\n",
    "    Title.append(title)\n",
    "\n",
    "\n",
    "\n",
    "Area_Address=driver.find_elements(By.XPATH,'//h3[@class=\"listloc\"]')\n",
    "for i in Area_Address:\n",
    "    address=i.text\n",
    "    Address.append(address)\n",
    "\n",
    "\n",
    "Rent_City=driver.find_elements(By.XPATH,'//a[@class=\"notclickb\"]')\n",
    "for i in Rent_City:\n",
    "    city=i.text\n",
    "    City.append(city)\n",
    "\n",
    "\n",
    "\n",
    "Area_Build=driver.find_elements(By.XPATH,'/html/body/div[4]/section[2]/div/section/div/div/div/div[3]/div[1]/div[6]/div[1]/div[1]/div/div/div[*]/div/div[2]/div[3]/div[1]/ul/li[1]/span')\n",
    "for i in Area_Build:\n",
    "    build=i.text\n",
    "    Build_Up_Area.append(build)\n",
    "\n",
    "   \n",
    "    \n",
    "Post=driver.find_elements(By.XPATH,'/html/body/div[4]/section[2]/div/section/div/div/div/div[3]/div[1]/div[6]/div[1]/div[1]/div/div/div[*]/div/div[2]/div[3]/div[1]/ul/li[3]')\n",
    "for i in Post:\n",
    "    post=i.text\n",
    "    Ad_Posted.append(post)\n",
    "    \n",
    "    \n",
    "   \n",
    "    \n",
    "Rent_price=driver.find_elements(By.XPATH,'//div[@class=\"prsg\"]')\n",
    "for i in Rent_price:\n",
    "    price=i.text\n",
    "    Price.append(price)"
   ]
  },
  {
   "cell_type": "code",
   "execution_count": null,
   "id": "2cdbe0a9",
   "metadata": {},
   "outputs": [],
   "source": [
    "print(len(Title),len(Address),len(City),len(Build_Up_Area),len(Ad_Posted),len(Price))"
   ]
  },
  {
   "cell_type": "code",
   "execution_count": null,
   "id": "e431927a",
   "metadata": {},
   "outputs": [],
   "source": [
    "import pandas as pd\n",
    "df=pd.DataFrame({'Title':Title, 'Address':Address,'City':City,'Build_Up_Area':Build_Up_Area,'Ad_Posted':Ad_Posted,'Price':Price})\n",
    "df"
   ]
  },
  {
   "cell_type": "code",
   "execution_count": null,
   "id": "56d3758f",
   "metadata": {},
   "outputs": [],
   "source": [
    "#Page 30\n",
    "Next_button=driver.find_element(By.CLASS_NAME,\"next\")\n",
    "Next_button.click()"
   ]
  },
  {
   "cell_type": "code",
   "execution_count": null,
   "id": "0d8654fe",
   "metadata": {},
   "outputs": [],
   "source": [
    "Title=[]\n",
    "Address=[]\n",
    "City=[]\n",
    "Build_Up_Area = []\n",
    "Ad_Posted=[]\n",
    "Price=[]"
   ]
  },
  {
   "cell_type": "code",
   "execution_count": null,
   "id": "b9134319",
   "metadata": {},
   "outputs": [],
   "source": [
    "Rent_title=driver.find_elements(By.XPATH,'//a[@class=\"listtitle notclickb\"]')\n",
    "for i in Rent_title:\n",
    "    title=i.text\n",
    "    Title.append(title)\n",
    "\n",
    "\n",
    "\n",
    "Area_Address=driver.find_elements(By.XPATH,'//h3[@class=\"listloc\"]')\n",
    "for i in Area_Address:\n",
    "    address=i.text\n",
    "    Address.append(address)\n",
    "\n",
    "\n",
    "Rent_City=driver.find_elements(By.XPATH,'//a[@class=\"notclickb\"]')\n",
    "for i in Rent_City:\n",
    "    city=i.text\n",
    "    City.append(city)\n",
    "\n",
    "\n",
    "\n",
    "Area_Build=driver.find_elements(By.XPATH,'/html/body/div[4]/section[2]/div/section/div/div/div/div[3]/div[1]/div[6]/div[1]/div[1]/div/div/div[*]/div/div[2]/div[3]/div[1]/ul/li[1]/span')\n",
    "for i in Area_Build:\n",
    "    build=i.text\n",
    "    Build_Up_Area.append(build)\n",
    "\n",
    "   \n",
    "    \n",
    "Post=driver.find_elements(By.XPATH,'/html/body/div[4]/section[2]/div/section/div/div/div/div[3]/div[1]/div[6]/div[1]/div[1]/div/div/div[*]/div/div[2]/div[3]/div[1]/ul/li[3]')\n",
    "for i in Post:\n",
    "    post=i.text\n",
    "    Ad_Posted.append(post)\n",
    "    \n",
    "    \n",
    "   \n",
    "    \n",
    "Rent_price=driver.find_elements(By.XPATH,'//div[@class=\"prsg\"]')\n",
    "for i in Rent_price:\n",
    "    price=i.text\n",
    "    Price.append(price)"
   ]
  },
  {
   "cell_type": "code",
   "execution_count": null,
   "id": "af442563",
   "metadata": {},
   "outputs": [],
   "source": [
    "print(len(Title),len(Address),len(City),len(Build_Up_Area),len(Ad_Posted),len(Price))"
   ]
  },
  {
   "cell_type": "code",
   "execution_count": null,
   "id": "006bca61",
   "metadata": {},
   "outputs": [],
   "source": [
    "import pandas as pd\n",
    "df=pd.DataFrame({'Title':Title, 'Address':Address,'City':City,'Build_Up_Area':Build_Up_Area,'Ad_Posted':Ad_Posted,'Price':Price})\n",
    "df"
   ]
  },
  {
   "cell_type": "code",
   "execution_count": null,
   "id": "d94d35b8",
   "metadata": {},
   "outputs": [],
   "source": [
    "#Page 31\n",
    "Next_button=driver.find_element(By.CLASS_NAME,\"next\")\n",
    "Next_button.click()"
   ]
  },
  {
   "cell_type": "code",
   "execution_count": null,
   "id": "11aa1b7d",
   "metadata": {},
   "outputs": [],
   "source": [
    "Title=[]\n",
    "Address=[]\n",
    "City=[]\n",
    "Build_Up_Area = []\n",
    "Ad_Posted=[]\n",
    "Price=[]"
   ]
  },
  {
   "cell_type": "code",
   "execution_count": null,
   "id": "99825424",
   "metadata": {},
   "outputs": [],
   "source": [
    "Rent_title=driver.find_elements(By.XPATH,'//a[@class=\"listtitle notclickb\"]')\n",
    "for i in Rent_title:\n",
    "    title=i.text\n",
    "    Title.append(title)\n",
    "\n",
    "\n",
    "\n",
    "Area_Address=driver.find_elements(By.XPATH,'//h3[@class=\"listloc\"]')\n",
    "for i in Area_Address:\n",
    "    address=i.text\n",
    "    Address.append(address)\n",
    "\n",
    "\n",
    "Rent_City=driver.find_elements(By.XPATH,'//a[@class=\"notclickb\"]')\n",
    "for i in Rent_City:\n",
    "    city=i.text\n",
    "    City.append(city)\n",
    "\n",
    "\n",
    "\n",
    "Area_Build=driver.find_elements(By.XPATH,'/html/body/div[4]/section[2]/div/section/div/div/div/div[3]/div[1]/div[6]/div[1]/div[1]/div/div/div[*]/div/div[2]/div[3]/div[1]/ul/li[1]/span')\n",
    "for i in Area_Build:\n",
    "    build=i.text\n",
    "    Build_Up_Area.append(build)\n",
    "\n",
    "   \n",
    "    \n",
    "Post=driver.find_elements(By.XPATH,'/html/body/div[4]/section[2]/div/section/div/div/div/div[3]/div[1]/div[6]/div[1]/div[1]/div/div/div[*]/div/div[2]/div[3]/div[1]/ul/li[3]')\n",
    "for i in Post:\n",
    "    post=i.text\n",
    "    Ad_Posted.append(post)\n",
    "    \n",
    "    \n",
    "   \n",
    "    \n",
    "Rent_price=driver.find_elements(By.XPATH,'//div[@class=\"prsg\"]')\n",
    "for i in Rent_price:\n",
    "    price=i.text\n",
    "    Price.append(price)"
   ]
  },
  {
   "cell_type": "code",
   "execution_count": null,
   "id": "3bcd2973",
   "metadata": {},
   "outputs": [],
   "source": [
    "print(len(Title),len(Address),len(City),len(Build_Up_Area),len(Ad_Posted),len(Price))"
   ]
  },
  {
   "cell_type": "code",
   "execution_count": null,
   "id": "30efe8ce",
   "metadata": {},
   "outputs": [],
   "source": [
    "import pandas as pd\n",
    "df=pd.DataFrame({'Title':Title, 'Address':Address,'City':City,'Build_Up_Area':Build_Up_Area,'Ad_Posted':Ad_Posted,'Price':Price})\n",
    "df"
   ]
  },
  {
   "cell_type": "code",
   "execution_count": null,
   "id": "6538e478",
   "metadata": {},
   "outputs": [],
   "source": [
    "#Page 32\n",
    "Next_button=driver.find_element(By.XPATH,\"/html/body/div[4]/section[2]/div/section/div/div/div/div[3]/div[1]/div[6]/div[1]/div[1]/div/div/div[31]/ul/li[6]/a\")\n",
    "Next_button.click()"
   ]
  },
  {
   "cell_type": "code",
   "execution_count": null,
   "id": "5a778190",
   "metadata": {},
   "outputs": [],
   "source": [
    "Title=[]\n",
    "Address=[]\n",
    "City=[]\n",
    "Build_Up_Area = []\n",
    "Ad_Posted=[]\n",
    "Price=[]"
   ]
  },
  {
   "cell_type": "code",
   "execution_count": null,
   "id": "27501411",
   "metadata": {},
   "outputs": [],
   "source": [
    "Rent_title=driver.find_elements(By.XPATH,'//a[@class=\"listtitle notclickb\"]')\n",
    "for i in Rent_title:\n",
    "    title=i.text\n",
    "    Title.append(title)\n",
    "\n",
    "\n",
    "\n",
    "Area_Address=driver.find_elements(By.XPATH,'//h3[@class=\"listloc\"]')\n",
    "for i in Area_Address:\n",
    "    address=i.text\n",
    "    Address.append(address)\n",
    "\n",
    "\n",
    "Rent_City=driver.find_elements(By.XPATH,'//a[@class=\"notclickb\"]')\n",
    "for i in Rent_City:\n",
    "    city=i.text\n",
    "    City.append(city)\n",
    "\n",
    "\n",
    "\n",
    "Area_Build=driver.find_elements(By.XPATH,'/html/body/div[4]/section[2]/div/section/div/div/div/div[3]/div[1]/div[6]/div[1]/div[1]/div/div/div[*]/div/div[2]/div[3]/div[1]/ul/li[1]/span')\n",
    "for i in Area_Build:\n",
    "    build=i.text\n",
    "    Build_Up_Area.append(build)\n",
    "\n",
    "   \n",
    "    \n",
    "Post=driver.find_elements(By.XPATH,'/html/body/div[4]/section[2]/div/section/div/div/div/div[3]/div[1]/div[6]/div[1]/div[1]/div/div/div[*]/div/div[2]/div[3]/div[1]/ul/li[3]')\n",
    "for i in Post:\n",
    "    post=i.text\n",
    "    Ad_Posted.append(post)\n",
    "    \n",
    "    \n",
    "   \n",
    "    \n",
    "Rent_price=driver.find_elements(By.XPATH,'//div[@class=\"prsg\"]')\n",
    "for i in Rent_price:\n",
    "    price=i.text\n",
    "    Price.append(price)"
   ]
  },
  {
   "cell_type": "code",
   "execution_count": null,
   "id": "2300cdfc",
   "metadata": {},
   "outputs": [],
   "source": [
    "print(len(Title),len(Address),len(City),len(Build_Up_Area),len(Ad_Posted),len(Price))"
   ]
  },
  {
   "cell_type": "code",
   "execution_count": null,
   "id": "60b99e8c",
   "metadata": {},
   "outputs": [],
   "source": [
    "import pandas as pd\n",
    "df=pd.DataFrame({'Title':Title, 'Address':Address,'City':City,'Build_Up_Area':Build_Up_Area,'Ad_Posted':Ad_Posted,'Price':Price})\n",
    "df"
   ]
  },
  {
   "cell_type": "code",
   "execution_count": null,
   "id": "032cbf4e",
   "metadata": {},
   "outputs": [],
   "source": [
    "#Page 33\n",
    "Next_button=driver.find_element(By.CLASS_NAME,\"next\")\n",
    "Next_button.click()"
   ]
  },
  {
   "cell_type": "code",
   "execution_count": null,
   "id": "a6d4db79",
   "metadata": {},
   "outputs": [],
   "source": [
    "Title=[]\n",
    "Address=[]\n",
    "City=[]\n",
    "Build_Up_Area = []\n",
    "Ad_Posted=[]\n",
    "Price=[]"
   ]
  },
  {
   "cell_type": "code",
   "execution_count": null,
   "id": "d4255172",
   "metadata": {},
   "outputs": [],
   "source": [
    "Rent_title=driver.find_elements(By.XPATH,'//a[@class=\"listtitle notclickb\"]')\n",
    "for i in Rent_title:\n",
    "    title=i.text\n",
    "    Title.append(title)\n",
    "\n",
    "\n",
    "\n",
    "Area_Address=driver.find_elements(By.XPATH,'//h3[@class=\"listloc\"]')\n",
    "for i in Area_Address:\n",
    "    address=i.text\n",
    "    Address.append(address)\n",
    "\n",
    "\n",
    "Rent_City=driver.find_elements(By.XPATH,'//a[@class=\"notclickb\"]')\n",
    "for i in Rent_City:\n",
    "    city=i.text\n",
    "    City.append(city)\n",
    "\n",
    "\n",
    "\n",
    "Area_Build=driver.find_elements(By.XPATH,'/html/body/div[4]/section[2]/div/section/div/div/div/div[3]/div[1]/div[6]/div[1]/div[1]/div/div/div[*]/div/div[2]/div[3]/div[1]/ul/li[1]/span')\n",
    "for i in Area_Build:\n",
    "    build=i.text\n",
    "    Build_Up_Area.append(build)\n",
    "\n",
    "   \n",
    "    \n",
    "Post=driver.find_elements(By.XPATH,'/html/body/div[4]/section[2]/div/section/div/div/div/div[3]/div[1]/div[6]/div[1]/div[1]/div/div/div[*]/div/div[2]/div[3]/div[1]/ul/li[3]')\n",
    "for i in Post:\n",
    "    post=i.text\n",
    "    Ad_Posted.append(post)\n",
    "    \n",
    "    \n",
    "   \n",
    "    \n",
    "Rent_price=driver.find_elements(By.XPATH,'//div[@class=\"prsg\"]')\n",
    "for i in Rent_price:\n",
    "    price=i.text\n",
    "    Price.append(price)"
   ]
  },
  {
   "cell_type": "code",
   "execution_count": null,
   "id": "717f8957",
   "metadata": {},
   "outputs": [],
   "source": [
    "print(len(Title),len(Address),len(City),len(Build_Up_Area),len(Ad_Posted),len(Price))"
   ]
  },
  {
   "cell_type": "code",
   "execution_count": null,
   "id": "d0737a31",
   "metadata": {},
   "outputs": [],
   "source": [
    "import pandas as pd\n",
    "df=pd.DataFrame({'Title':Title, 'Address':Address,'City':City,'Build_Up_Area':Build_Up_Area,'Ad_Posted':Ad_Posted,'Price':Price})\n",
    "df"
   ]
  },
  {
   "cell_type": "code",
   "execution_count": null,
   "id": "d225126a",
   "metadata": {},
   "outputs": [],
   "source": [
    "#Page 34\n",
    "Next_button=driver.find_element(By.CLASS_NAME,\"next\")\n",
    "Next_button.click()"
   ]
  },
  {
   "cell_type": "code",
   "execution_count": null,
   "id": "fc5ed861",
   "metadata": {},
   "outputs": [],
   "source": [
    "Title=[]\n",
    "Address=[]\n",
    "City=[]\n",
    "Build_Up_Area = []\n",
    "Ad_Posted=[]\n",
    "Price=[]"
   ]
  },
  {
   "cell_type": "code",
   "execution_count": null,
   "id": "ed370a97",
   "metadata": {},
   "outputs": [],
   "source": [
    "Rent_title=driver.find_elements(By.XPATH,'//a[@class=\"listtitle notclickb\"]')\n",
    "for i in Rent_title:\n",
    "    title=i.text\n",
    "    Title.append(title)\n",
    "\n",
    "\n",
    "\n",
    "Area_Address=driver.find_elements(By.XPATH,'//h3[@class=\"listloc\"]')\n",
    "for i in Area_Address:\n",
    "    address=i.text\n",
    "    Address.append(address)\n",
    "\n",
    "\n",
    "Rent_City=driver.find_elements(By.XPATH,'//a[@class=\"notclickb\"]')\n",
    "for i in Rent_City:\n",
    "    city=i.text\n",
    "    City.append(city)\n",
    "\n",
    "\n",
    "\n",
    "Area_Build=driver.find_elements(By.XPATH,'/html/body/div[4]/section[2]/div/section/div/div/div/div[3]/div[1]/div[6]/div[1]/div[1]/div/div/div[*]/div/div[2]/div[3]/div[1]/ul/li[1]/span')\n",
    "for i in Area_Build:\n",
    "    build=i.text\n",
    "    Build_Up_Area.append(build)\n",
    "\n",
    "   \n",
    "    \n",
    "Post=driver.find_elements(By.XPATH,'/html/body/div[4]/section[2]/div/section/div/div/div/div[3]/div[1]/div[6]/div[1]/div[1]/div/div/div[*]/div/div[2]/div[3]/div[1]/ul/li[3]')\n",
    "for i in Post:\n",
    "    post=i.text\n",
    "    Ad_Posted.append(post)\n",
    "    \n",
    "    \n",
    "   \n",
    "    \n",
    "Rent_price=driver.find_elements(By.XPATH,'//div[@class=\"prsg\"]')\n",
    "for i in Rent_price:\n",
    "    price=i.text\n",
    "    Price.append(price)"
   ]
  },
  {
   "cell_type": "code",
   "execution_count": null,
   "id": "8b9b5390",
   "metadata": {},
   "outputs": [],
   "source": [
    "print(len(Title),len(Address),len(City),len(Build_Up_Area),len(Ad_Posted),len(Price))"
   ]
  },
  {
   "cell_type": "code",
   "execution_count": null,
   "id": "880b67c5",
   "metadata": {},
   "outputs": [],
   "source": [
    "import pandas as pd\n",
    "df=pd.DataFrame({'Title':Title, 'Address':Address,'City':City,'Build_Up_Area':Build_Up_Area,'Ad_Posted':Ad_Posted,Price':Price})\n",
    "df"
   ]
  },
  {
   "cell_type": "code",
   "execution_count": null,
   "id": "3bddc4c4",
   "metadata": {},
   "outputs": [],
   "source": [
    "#Page 35\n",
    "Next_button=driver.find_element(By.CLASS_NAME,\"next\")\n",
    "Next_button.click()"
   ]
  },
  {
   "cell_type": "code",
   "execution_count": null,
   "id": "7d519126",
   "metadata": {},
   "outputs": [],
   "source": [
    "Title=[]\n",
    "Address=[]\n",
    "City=[]\n",
    "Build_Up_Area = []\n",
    "Ad_Posted=[]\n",
    "Price=[]"
   ]
  },
  {
   "cell_type": "code",
   "execution_count": null,
   "id": "7bcb2337",
   "metadata": {},
   "outputs": [],
   "source": [
    "Rent_title=driver.find_elements(By.XPATH,'//a[@class=\"listtitle notclickb\"]')\n",
    "for i in Rent_title:\n",
    "    title=i.text\n",
    "    Title.append(title)\n",
    "\n",
    "\n",
    "\n",
    "Area_Address=driver.find_elements(By.XPATH,'//h3[@class=\"listloc\"]')\n",
    "for i in Area_Address:\n",
    "    address=i.text\n",
    "    Address.append(address)\n",
    "\n",
    "\n",
    "Rent_City=driver.find_elements(By.XPATH,'//a[@class=\"notclickb\"]')\n",
    "for i in Rent_City:\n",
    "    city=i.text\n",
    "    City.append(city)\n",
    "\n",
    "\n",
    "\n",
    "Area_Build=driver.find_elements(By.XPATH,'/html/body/div[4]/section[2]/div/section/div/div/div/div[3]/div[1]/div[6]/div[1]/div[1]/div/div/div[*]/div/div[2]/div[3]/div[1]/ul/li[1]/span')\n",
    "for i in Area_Build:\n",
    "    build=i.text\n",
    "    Build_Up_Area.append(build)\n",
    "\n",
    "   \n",
    "    \n",
    "Post=driver.find_elements(By.XPATH,'/html/body/div[4]/section[2]/div/section/div/div/div/div[3]/div[1]/div[6]/div[1]/div[1]/div/div/div[*]/div/div[2]/div[3]/div[1]/ul/li[3]')\n",
    "for i in Post:\n",
    "    post=i.text\n",
    "    Ad_Posted.append(post)\n",
    "    \n",
    "    \n",
    "   \n",
    "    \n",
    "Rent_price=driver.find_elements(By.XPATH,'//div[@class=\"prsg\"]')\n",
    "for i in Rent_price:\n",
    "    price=i.text\n",
    "    Price.append(price)"
   ]
  },
  {
   "cell_type": "code",
   "execution_count": null,
   "id": "13b87617",
   "metadata": {},
   "outputs": [],
   "source": [
    "print(len(Title),len(Address),len(City),len(Build_Up_Area),len(Ad_Posted),len(Price))"
   ]
  },
  {
   "cell_type": "code",
   "execution_count": null,
   "id": "c723415b",
   "metadata": {},
   "outputs": [],
   "source": [
    "import pandas as pd\n",
    "df=pd.DataFrame({'Title':Title, 'Address':Address,'City':City,'Build_Up_Area':Build_Up_Area,'Ad_Posted':Ad_Posted,'Price':Price})\n",
    "df"
   ]
  },
  {
   "cell_type": "code",
   "execution_count": null,
   "id": "85a17056",
   "metadata": {},
   "outputs": [],
   "source": [
    "#Page 36\n",
    "Next_button=driver.find_element(By.CLASS_NAME,\"next\")\n",
    "Next_button.click()"
   ]
  },
  {
   "cell_type": "code",
   "execution_count": null,
   "id": "7bd2c85a",
   "metadata": {},
   "outputs": [],
   "source": [
    "Title=[]\n",
    "Address=[]\n",
    "City=[]\n",
    "Build_Up_Area = []\n",
    "Ad_Posted=[]\n",
    "Price=[]"
   ]
  },
  {
   "cell_type": "code",
   "execution_count": null,
   "id": "76104e63",
   "metadata": {},
   "outputs": [],
   "source": [
    "Rent_title=driver.find_elements(By.XPATH,'//a[@class=\"listtitle notclickb\"]')\n",
    "for i in Rent_title:\n",
    "    title=i.text\n",
    "    Title.append(title)\n",
    "\n",
    "\n",
    "\n",
    "Area_Address=driver.find_elements(By.XPATH,'//h3[@class=\"listloc\"]')\n",
    "for i in Area_Address:\n",
    "    address=i.text\n",
    "    Address.append(address)\n",
    "\n",
    "\n",
    "Rent_City=driver.find_elements(By.XPATH,'//a[@class=\"notclickb\"]')\n",
    "for i in Rent_City:\n",
    "    city=i.text\n",
    "    City.append(city)\n",
    "\n",
    "\n",
    "\n",
    "Area_Build=driver.find_elements(By.XPATH,'/html/body/div[4]/section[2]/div/section/div/div/div/div[3]/div[1]/div[6]/div[1]/div[1]/div/div/div[*]/div/div[2]/div[3]/div[1]/ul/li[1]/span')\n",
    "for i in Area_Build:\n",
    "    build=i.text\n",
    "    Build_Up_Area.append(build)\n",
    "\n",
    "   \n",
    "    \n",
    "Post=driver.find_elements(By.XPATH,'/html/body/div[4]/section[2]/div/section/div/div/div/div[3]/div[1]/div[6]/div[1]/div[1]/div/div/div[*]/div/div[2]/div[3]/div[1]/ul/li[3]')\n",
    "for i in Post:\n",
    "    post=i.text\n",
    "    Ad_Posted.append(post)\n",
    "    \n",
    "    \n",
    "   \n",
    "    \n",
    "Rent_price=driver.find_elements(By.XPATH,'//div[@class=\"prsg\"]')\n",
    "for i in Rent_price:\n",
    "    price=i.text\n",
    "    Price.append(price)"
   ]
  },
  {
   "cell_type": "code",
   "execution_count": null,
   "id": "589e0ae4",
   "metadata": {},
   "outputs": [],
   "source": [
    "print(len(Title),len(Address),len(City),len(Build_Up_Area),len(Ad_Posted),len(Price))"
   ]
  },
  {
   "cell_type": "code",
   "execution_count": null,
   "id": "0ec5a9fb",
   "metadata": {},
   "outputs": [],
   "source": [
    "import pandas as pd\n",
    "df=pd.DataFrame({'Title':Title, 'Address':Address,'City':City,'Build_Up_Area':Build_Up_Area,'Ad_Posted':Ad_Posted,'Price':Price})\n",
    "df"
   ]
  },
  {
   "cell_type": "code",
   "execution_count": null,
   "id": "ccd088fb",
   "metadata": {},
   "outputs": [],
   "source": []
  },
  {
   "cell_type": "code",
   "execution_count": null,
   "id": "6f7ff0e3",
   "metadata": {},
   "outputs": [],
   "source": [
    "#Page 37\n",
    "Next_button=driver.find_element(By.CLASS_NAME,\"next\")\n",
    "Next_button.click()"
   ]
  },
  {
   "cell_type": "code",
   "execution_count": null,
   "id": "1f78f7be",
   "metadata": {},
   "outputs": [],
   "source": [
    "Title=[]\n",
    "Address=[]\n",
    "City=[]\n",
    "Build_Up_Area = []\n",
    "Ad_Posted=[]\n",
    "Price=[]"
   ]
  },
  {
   "cell_type": "code",
   "execution_count": null,
   "id": "6e419800",
   "metadata": {},
   "outputs": [],
   "source": [
    "Rent_title=driver.find_elements(By.XPATH,'//a[@class=\"listtitle notclickb\"]')\n",
    "for i in Rent_title:\n",
    "    title=i.text\n",
    "    Title.append(title)\n",
    "\n",
    "\n",
    "\n",
    "Area_Address=driver.find_elements(By.XPATH,'//h3[@class=\"listloc\"]')\n",
    "for i in Area_Address:\n",
    "    address=i.text\n",
    "    Address.append(address)\n",
    "\n",
    "\n",
    "Rent_City=driver.find_elements(By.XPATH,'//a[@class=\"notclickb\"]')\n",
    "for i in Rent_City:\n",
    "    city=i.text\n",
    "    City.append(city)\n",
    "\n",
    "\n",
    "\n",
    "Area_Build=driver.find_elements(By.XPATH,'/html/body/div[4]/section[2]/div/section/div/div/div/div[3]/div[1]/div[6]/div[1]/div[1]/div/div/div[*]/div/div[2]/div[3]/div[1]/ul/li[1]/span')\n",
    "for i in Area_Build:\n",
    "    build=i.text\n",
    "    Build_Up_Area.append(build)\n",
    "\n",
    "   \n",
    "    \n",
    "Post=driver.find_elements(By.XPATH,'/html/body/div[4]/section[2]/div/section/div/div/div/div[3]/div[1]/div[6]/div[1]/div[1]/div/div/div[*]/div/div[2]/div[3]/div[1]/ul/li[3]')\n",
    "for i in Post:\n",
    "    post=i.text\n",
    "    Ad_Posted.append(post)\n",
    "    \n",
    "    \n",
    "   \n",
    "    \n",
    "Rent_price=driver.find_elements(By.XPATH,'//div[@class=\"prsg\"]')\n",
    "for i in Rent_price:\n",
    "    price=i.text\n",
    "    Price.append(price)"
   ]
  },
  {
   "cell_type": "code",
   "execution_count": null,
   "id": "e73a7280",
   "metadata": {},
   "outputs": [],
   "source": [
    "print(len(Title),len(Address),len(City),len(Build_Up_Area),len(Ad_Posted),len(Price))"
   ]
  },
  {
   "cell_type": "code",
   "execution_count": null,
   "id": "4592373a",
   "metadata": {},
   "outputs": [],
   "source": [
    "import pandas as pd\n",
    "df=pd.DataFrame({'Title':Title, 'Address':Address,'City':City,'Build_Up_Area':Build_Up_Area,'Ad_Posted':Ad_Posted,'Price':Price})\n",
    "df"
   ]
  },
  {
   "cell_type": "code",
   "execution_count": null,
   "id": "697a0a3c",
   "metadata": {},
   "outputs": [],
   "source": [
    "#Page 38\n",
    "Next_button=driver.find_element(By.CLASS_NAME,\"next\")\n",
    "Next_button.click()"
   ]
  },
  {
   "cell_type": "code",
   "execution_count": null,
   "id": "5ad0a8b8",
   "metadata": {},
   "outputs": [],
   "source": [
    "Title=[]\n",
    "Address=[]\n",
    "City=[]\n",
    "Build_Up_Area = []\n",
    "Ad_Posted=[]\n",
    "Price=[]"
   ]
  },
  {
   "cell_type": "code",
   "execution_count": null,
   "id": "8048ee15",
   "metadata": {},
   "outputs": [],
   "source": [
    "Rent_title=driver.find_elements(By.XPATH,'//a[@class=\"listtitle notclickb\"]')\n",
    "for i in Rent_title:\n",
    "    title=i.text\n",
    "    Title.append(title)\n",
    "\n",
    "\n",
    "\n",
    "Area_Address=driver.find_elements(By.XPATH,'//h3[@class=\"listloc\"]')\n",
    "for i in Area_Address:\n",
    "    address=i.text\n",
    "    Address.append(address)\n",
    "\n",
    "\n",
    "Rent_City=driver.find_elements(By.XPATH,'//a[@class=\"notclickb\"]')\n",
    "for i in Rent_City:\n",
    "    city=i.text\n",
    "    City.append(city)\n",
    "\n",
    "\n",
    "\n",
    "Area_Build=driver.find_elements(By.XPATH,'/html/body/div[4]/section[2]/div/section/div/div/div/div[3]/div[1]/div[6]/div[1]/div[1]/div/div/div[*]/div/div[2]/div[3]/div[1]/ul/li[1]/span')\n",
    "for i in Area_Build:\n",
    "    build=i.text\n",
    "    Build_Up_Area.append(build)\n",
    "\n",
    "   \n",
    "    \n",
    "Post=driver.find_elements(By.XPATH,'/html/body/div[4]/section[2]/div/section/div/div/div/div[3]/div[1]/div[6]/div[1]/div[1]/div/div/div[*]/div/div[2]/div[3]/div[1]/ul/li[3]')\n",
    "for i in Post:\n",
    "    post=i.text\n",
    "    Ad_Posted.append(post)\n",
    "    \n",
    "    \n",
    "   \n",
    "    \n",
    "Rent_price=driver.find_elements(By.XPATH,'//div[@class=\"prsg\"]')\n",
    "for i in Rent_price:\n",
    "    price=i.text\n",
    "    Price.append(price)"
   ]
  },
  {
   "cell_type": "code",
   "execution_count": null,
   "id": "b2d42031",
   "metadata": {},
   "outputs": [],
   "source": [
    "print(len(Title),len(Address),len(City),len(Build_Up_Area),len(Ad_Posted),len(Price))"
   ]
  },
  {
   "cell_type": "code",
   "execution_count": null,
   "id": "8027882b",
   "metadata": {},
   "outputs": [],
   "source": [
    "import pandas as pd\n",
    "df=pd.DataFrame({'Title':Title, 'Address':Address,'City':City,'Build_Up_Area':Build_Up_Area,'Ad_Posted':Ad_Posted,'Price':Price})\n",
    "df"
   ]
  },
  {
   "cell_type": "code",
   "execution_count": null,
   "id": "a80604c6",
   "metadata": {},
   "outputs": [],
   "source": [
    "#Page 39\n",
    "Next_button=driver.find_element(By.CLASS_NAME,\"next\")\n",
    "Next_button.click()"
   ]
  },
  {
   "cell_type": "code",
   "execution_count": null,
   "id": "6bcad33a",
   "metadata": {},
   "outputs": [],
   "source": [
    "Title=[]\n",
    "Address=[]\n",
    "City=[]\n",
    "Build_Up_Area = []\n",
    "Ad_Posted=[]\n",
    "Price=[]"
   ]
  },
  {
   "cell_type": "code",
   "execution_count": null,
   "id": "c77a1414",
   "metadata": {},
   "outputs": [],
   "source": [
    "Rent_title=driver.find_elements(By.XPATH,'//a[@class=\"listtitle notclickb\"]')\n",
    "for i in Rent_title:\n",
    "    title=i.text\n",
    "    Title.append(title)\n",
    "\n",
    "\n",
    "\n",
    "Area_Address=driver.find_elements(By.XPATH,'//h3[@class=\"listloc\"]')\n",
    "for i in Area_Address:\n",
    "    address=i.text\n",
    "    Address.append(address)\n",
    "\n",
    "\n",
    "Rent_City=driver.find_elements(By.XPATH,'//a[@class=\"notclickb\"]')\n",
    "for i in Rent_City:\n",
    "    city=i.text\n",
    "    City.append(city)\n",
    "\n",
    "\n",
    "\n",
    "Area_Build=driver.find_elements(By.XPATH,'/html/body/div[4]/section[2]/div/section/div/div/div/div[3]/div[1]/div[6]/div[1]/div[1]/div/div/div[*]/div/div[2]/div[3]/div[1]/ul/li[1]/span')\n",
    "for i in Area_Build:\n",
    "    build=i.text\n",
    "    Build_Up_Area.append(build)\n",
    "\n",
    "   \n",
    "    \n",
    "Post=driver.find_elements(By.XPATH,'/html/body/div[4]/section[2]/div/section/div/div/div/div[3]/div[1]/div[6]/div[1]/div[1]/div/div/div[*]/div/div[2]/div[3]/div[1]/ul/li[3]')\n",
    "for i in Post:\n",
    "    post=i.text\n",
    "    Ad_Posted.append(post)\n",
    "    \n",
    "    \n",
    "   \n",
    "    \n",
    "Rent_price=driver.find_elements(By.XPATH,'//div[@class=\"prsg\"]')\n",
    "for i in Rent_price:\n",
    "    price=i.text\n",
    "    Price.append(price)"
   ]
  },
  {
   "cell_type": "code",
   "execution_count": null,
   "id": "d27e0689",
   "metadata": {},
   "outputs": [],
   "source": [
    "print(len(Title),len(Address),len(City),len(Build_Up_Area),len(Ad_Posted),len(Price))"
   ]
  },
  {
   "cell_type": "code",
   "execution_count": null,
   "id": "9980b351",
   "metadata": {},
   "outputs": [],
   "source": [
    "import pandas as pd\n",
    "df=pd.DataFrame({'Title':Title, 'Address':Address,'City':City,'Build_Up_Area':Build_Up_Area,'Ad_Posted':Ad_Posted,'Price':Price})\n",
    "df"
   ]
  },
  {
   "cell_type": "code",
   "execution_count": null,
   "id": "1de79143",
   "metadata": {},
   "outputs": [],
   "source": [
    "#Page 40\n",
    "Next_button=driver.find_element(By.CLASS_NAME,\"next\")\n",
    "Next_button.click()"
   ]
  },
  {
   "cell_type": "code",
   "execution_count": null,
   "id": "2555cee6",
   "metadata": {},
   "outputs": [],
   "source": [
    "Title=[]\n",
    "Address=[]\n",
    "City=[]\n",
    "Build_Up_Area = []\n",
    "Ad_Posted=[]\n",
    "Price=[]"
   ]
  },
  {
   "cell_type": "code",
   "execution_count": null,
   "id": "aa3df80d",
   "metadata": {},
   "outputs": [],
   "source": [
    "Rent_title=driver.find_elements(By.XPATH,'//a[@class=\"listtitle notclickb\"]')\n",
    "for i in Rent_title:\n",
    "    title=i.text\n",
    "    Title.append(title)\n",
    "\n",
    "\n",
    "\n",
    "Area_Address=driver.find_elements(By.XPATH,'//h3[@class=\"listloc\"]')\n",
    "for i in Area_Address:\n",
    "    address=i.text\n",
    "    Address.append(address)\n",
    "\n",
    "\n",
    "Rent_City=driver.find_elements(By.XPATH,'//a[@class=\"notclickb\"]')\n",
    "for i in Rent_City:\n",
    "    city=i.text\n",
    "    City.append(city)\n",
    "\n",
    "\n",
    "\n",
    "Area_Build=driver.find_elements(By.XPATH,'/html/body/div[4]/section[2]/div/section/div/div/div/div[3]/div[1]/div[6]/div[1]/div[1]/div/div/div[*]/div/div[2]/div[3]/div[1]/ul/li[1]/span')\n",
    "for i in Area_Build:\n",
    "    build=i.text\n",
    "    Build_Up_Area.append(build)\n",
    "\n",
    "   \n",
    "    \n",
    "Post=driver.find_elements(By.XPATH,'/html/body/div[4]/section[2]/div/section/div/div/div/div[3]/div[1]/div[6]/div[1]/div[1]/div/div/div[*]/div/div[2]/div[3]/div[1]/ul/li[3]')\n",
    "for i in Post:\n",
    "    post=i.text\n",
    "    Ad_Posted.append(post)\n",
    "    \n",
    "    \n",
    "   \n",
    "    \n",
    "Rent_price=driver.find_elements(By.XPATH,'//div[@class=\"prsg\"]')\n",
    "for i in Rent_price:\n",
    "    price=i.text\n",
    "    Price.append(price)"
   ]
  },
  {
   "cell_type": "code",
   "execution_count": null,
   "id": "03e53d6e",
   "metadata": {},
   "outputs": [],
   "source": [
    "print(len(Title),len(Address),len(City),len(Build_Up_Area),len(Ad_Posted),len(Price))"
   ]
  },
  {
   "cell_type": "code",
   "execution_count": null,
   "id": "a5bf2f19",
   "metadata": {},
   "outputs": [],
   "source": [
    "import pandas as pd\n",
    "df=pd.DataFrame({'Title':Title, 'Address':Address,'City':City,'Build_Up_Area':Build_Up_Area,'Ad_Posted':Ad_Posted,'Price':Price})\n",
    "df"
   ]
  },
  {
   "cell_type": "code",
   "execution_count": null,
   "id": "5839fefc",
   "metadata": {},
   "outputs": [],
   "source": [
    "#Page 41\n",
    "Next_button=driver.find_element(By.CLASS_NAME,\"next\")\n",
    "Next_button.click()"
   ]
  },
  {
   "cell_type": "code",
   "execution_count": null,
   "id": "dfea2a72",
   "metadata": {},
   "outputs": [],
   "source": [
    "Title=[]\n",
    "Address=[]\n",
    "City=[]\n",
    "Build_Up_Area = []\n",
    "Ad_Posted=[]\n",
    "Price=[]"
   ]
  },
  {
   "cell_type": "code",
   "execution_count": null,
   "id": "6330b8b6",
   "metadata": {},
   "outputs": [],
   "source": [
    "Rent_title=driver.find_elements(By.XPATH,'//a[@class=\"listtitle notclickb\"]')\n",
    "for i in Rent_title:\n",
    "    title=i.text\n",
    "    Title.append(title)\n",
    "\n",
    "\n",
    "\n",
    "Area_Address=driver.find_elements(By.XPATH,'//h3[@class=\"listloc\"]')\n",
    "for i in Area_Address:\n",
    "    address=i.text\n",
    "    Address.append(address)\n",
    "\n",
    "\n",
    "Rent_City=driver.find_elements(By.XPATH,'//a[@class=\"notclickb\"]')\n",
    "for i in Rent_City:\n",
    "    city=i.text\n",
    "    City.append(city)\n",
    "\n",
    "\n",
    "\n",
    "Area_Build=driver.find_elements(By.XPATH,'/html/body/div[4]/section[2]/div/section/div/div/div/div[3]/div[1]/div[6]/div[1]/div[1]/div/div/div[*]/div/div[2]/div[3]/div[1]/ul/li[1]/span')\n",
    "for i in Area_Build:\n",
    "    build=i.text\n",
    "    Build_Up_Area.append(build)\n",
    "\n",
    "   \n",
    "    \n",
    "Post=driver.find_elements(By.XPATH,'/html/body/div[4]/section[2]/div/section/div/div/div/div[3]/div[1]/div[6]/div[1]/div[1]/div/div/div[*]/div/div[2]/div[3]/div[1]/ul/li[3]')\n",
    "for i in Post:\n",
    "    post=i.text\n",
    "    Ad_Posted.append(post)\n",
    "    \n",
    "    \n",
    "   \n",
    "    \n",
    "Rent_price=driver.find_elements(By.XPATH,'//div[@class=\"prsg\"]')\n",
    "for i in Rent_price:\n",
    "    price=i.text\n",
    "    Price.append(price)"
   ]
  },
  {
   "cell_type": "code",
   "execution_count": null,
   "id": "568d16ba",
   "metadata": {},
   "outputs": [],
   "source": [
    "print(len(Title),len(Address),len(City),len(Build_Up_Area),len(Ad_Posted),len(Price))"
   ]
  },
  {
   "cell_type": "code",
   "execution_count": null,
   "id": "f6135bbd",
   "metadata": {},
   "outputs": [],
   "source": [
    "import pandas as pd\n",
    "df=pd.DataFrame({'Title':Title, 'Address':Address,'City':City,'Build_Up_Area':Build_Up_Area,'Ad_Posted':Ad_Posted,'Price':Price})\n",
    "df"
   ]
  },
  {
   "cell_type": "code",
   "execution_count": null,
   "id": "2816a14c",
   "metadata": {},
   "outputs": [],
   "source": [
    "#Page 42\n",
    "Next_button=driver.find_element(By.CLASS_NAME,\"next\")\n",
    "Next_button.click()"
   ]
  },
  {
   "cell_type": "code",
   "execution_count": null,
   "id": "e2ae1a3c",
   "metadata": {},
   "outputs": [],
   "source": [
    "Title=[]\n",
    "Address=[]\n",
    "City=[]\n",
    "Build_Up_Area = []\n",
    "Ad_Posted=[]\n",
    "Price=[]"
   ]
  },
  {
   "cell_type": "code",
   "execution_count": null,
   "id": "ac40a063",
   "metadata": {},
   "outputs": [],
   "source": [
    "Rent_title=driver.find_elements(By.XPATH,'//a[@class=\"listtitle notclickb\"]')\n",
    "for i in Rent_title:\n",
    "    title=i.text\n",
    "    Title.append(title)\n",
    "\n",
    "\n",
    "\n",
    "Area_Address=driver.find_elements(By.XPATH,'//h3[@class=\"listloc\"]')\n",
    "for i in Area_Address:\n",
    "    address=i.text\n",
    "    Address.append(address)\n",
    "\n",
    "\n",
    "Rent_City=driver.find_elements(By.XPATH,'//a[@class=\"notclickb\"]')\n",
    "for i in Rent_City:\n",
    "    city=i.text\n",
    "    City.append(city)\n",
    "\n",
    "\n",
    "\n",
    "Area_Build=driver.find_elements(By.XPATH,'/html/body/div[4]/section[2]/div/section/div/div/div/div[3]/div[1]/div[6]/div[1]/div[1]/div/div/div[*]/div/div[2]/div[3]/div[1]/ul/li[1]/span')\n",
    "for i in Area_Build:\n",
    "    build=i.text\n",
    "    Build_Up_Area.append(build)\n",
    "\n",
    "   \n",
    "    \n",
    "Post=driver.find_elements(By.XPATH,'/html/body/div[4]/section[2]/div/section/div/div/div/div[3]/div[1]/div[6]/div[1]/div[1]/div/div/div[*]/div/div[2]/div[3]/div[1]/ul/li[3]')\n",
    "for i in Post:\n",
    "    post=i.text\n",
    "    Ad_Posted.append(post)\n",
    "    \n",
    "    \n",
    "   \n",
    "    \n",
    "Rent_price=driver.find_elements(By.XPATH,'//div[@class=\"prsg\"]')\n",
    "for i in Rent_price:\n",
    "    price=i.text\n",
    "    Price.append(price)"
   ]
  },
  {
   "cell_type": "code",
   "execution_count": null,
   "id": "36ba7b56",
   "metadata": {},
   "outputs": [],
   "source": [
    "print(len(Title),len(Address),len(City),len(Build_Up_Area),len(Ad_Posted),len(Price))"
   ]
  },
  {
   "cell_type": "code",
   "execution_count": null,
   "id": "bfc9ed23",
   "metadata": {},
   "outputs": [],
   "source": [
    "import pandas as pd\n",
    "df=pd.DataFrame({'Title':Title, 'Address':Address,'City':City,'Build_Up_Area':Build_Up_Area,'Ad_Posted':Ad_Posted,'Price':Price})\n",
    "df"
   ]
  },
  {
   "cell_type": "code",
   "execution_count": null,
   "id": "10695f5b",
   "metadata": {},
   "outputs": [],
   "source": [
    "#Page 43\n",
    "Next_button=driver.find_element(By.CLASS_NAME,\"next\")\n",
    "Next_button.click()"
   ]
  },
  {
   "cell_type": "code",
   "execution_count": null,
   "id": "a2d2fe76",
   "metadata": {},
   "outputs": [],
   "source": [
    "Title=[]\n",
    "Address=[]\n",
    "City=[]\n",
    "Build_Up_Area = []\n",
    "Ad_Posted=[]\n",
    "Price=[]"
   ]
  },
  {
   "cell_type": "code",
   "execution_count": null,
   "id": "0b05f29d",
   "metadata": {},
   "outputs": [],
   "source": [
    "Rent_title=driver.find_elements(By.XPATH,'//a[@class=\"listtitle notclickb\"]')\n",
    "for i in Rent_title:\n",
    "    title=i.text\n",
    "    Title.append(title)\n",
    "\n",
    "\n",
    "\n",
    "Area_Address=driver.find_elements(By.XPATH,'//h3[@class=\"listloc\"]')\n",
    "for i in Area_Address:\n",
    "    address=i.text\n",
    "    Address.append(address)\n",
    "\n",
    "\n",
    "Rent_City=driver.find_elements(By.XPATH,'//a[@class=\"notclickb\"]')\n",
    "for i in Rent_City:\n",
    "    city=i.text\n",
    "    City.append(city)\n",
    "\n",
    "\n",
    "\n",
    "Area_Build=driver.find_elements(By.XPATH,'/html/body/div[4]/section[2]/div/section/div/div/div/div[3]/div[1]/div[6]/div[1]/div[1]/div/div/div[*]/div/div[2]/div[3]/div[1]/ul/li[1]/span')\n",
    "for i in Area_Build:\n",
    "    build=i.text\n",
    "    Build_Up_Area.append(build)\n",
    "\n",
    "   \n",
    "    \n",
    "Post=driver.find_elements(By.XPATH,'/html/body/div[4]/section[2]/div/section/div/div/div/div[3]/div[1]/div[6]/div[1]/div[1]/div/div/div[*]/div/div[2]/div[3]/div[1]/ul/li[3]')\n",
    "for i in Post:\n",
    "    post=i.text\n",
    "    Ad_Posted.append(post)\n",
    "    \n",
    "    \n",
    "   \n",
    "    \n",
    "Rent_price=driver.find_elements(By.XPATH,'//div[@class=\"prsg\"]')\n",
    "for i in Rent_price:\n",
    "    price=i.text\n",
    "    Price.append(price)"
   ]
  },
  {
   "cell_type": "code",
   "execution_count": null,
   "id": "a5428692",
   "metadata": {},
   "outputs": [],
   "source": [
    "print(len(Title),len(Address),len(City),len(Build_Up_Area),len(Ad_Posted),len(Price))"
   ]
  },
  {
   "cell_type": "code",
   "execution_count": null,
   "id": "f7ebeb88",
   "metadata": {},
   "outputs": [],
   "source": [
    "import pandas as pd\n",
    "df=pd.DataFrame({'Title':Title, 'Address':Address,'City':City,'Build_Up_Area':Build_Up_Area,'Ad_Posted':Ad_Posted,'Price':Price})\n",
    "df"
   ]
  },
  {
   "cell_type": "code",
   "execution_count": null,
   "id": "fa18d741",
   "metadata": {},
   "outputs": [],
   "source": [
    "#Page 44\n",
    "Next_button=driver.find_element(By.CLASS_NAME,\"next\")\n",
    "Next_button.click()"
   ]
  },
  {
   "cell_type": "code",
   "execution_count": null,
   "id": "779dd8e6",
   "metadata": {},
   "outputs": [],
   "source": [
    "Title=[]\n",
    "Address=[]\n",
    "City=[]\n",
    "Build_Up_Area = []\n",
    "Ad_Posted=[]\n",
    "Price=[]"
   ]
  },
  {
   "cell_type": "code",
   "execution_count": null,
   "id": "02fc7f94",
   "metadata": {},
   "outputs": [],
   "source": [
    "Rent_title=driver.find_elements(By.XPATH,'//a[@class=\"listtitle notclickb\"]')\n",
    "for i in Rent_title:\n",
    "    title=i.text\n",
    "    Title.append(title)\n",
    "\n",
    "\n",
    "\n",
    "Area_Address=driver.find_elements(By.XPATH,'//h3[@class=\"listloc\"]')\n",
    "for i in Area_Address:\n",
    "    address=i.text\n",
    "    Address.append(address)\n",
    "\n",
    "\n",
    "Rent_City=driver.find_elements(By.XPATH,'//a[@class=\"notclickb\"]')\n",
    "for i in Rent_City:\n",
    "    city=i.text\n",
    "    City.append(city)\n",
    "\n",
    "\n",
    "\n",
    "Area_Build=driver.find_elements(By.XPATH,'/html/body/div[4]/section[2]/div/section/div/div/div/div[3]/div[1]/div[6]/div[1]/div[1]/div/div/div[*]/div/div[2]/div[3]/div[1]/ul/li[1]/span')\n",
    "for i in Area_Build:\n",
    "    build=i.text\n",
    "    Build_Up_Area.append(build)\n",
    "\n",
    "   \n",
    "    \n",
    "Post=driver.find_elements(By.XPATH,'/html/body/div[4]/section[2]/div/section/div/div/div/div[3]/div[1]/div[6]/div[1]/div[1]/div/div/div[*]/div/div[2]/div[3]/div[1]/ul/li[3]')\n",
    "for i in Post:\n",
    "    post=i.text\n",
    "    Ad_Posted.append(post)\n",
    "    \n",
    "    \n",
    "   \n",
    "    \n",
    "Rent_price=driver.find_elements(By.XPATH,'//div[@class=\"prsg\"]')\n",
    "for i in Rent_price:\n",
    "    price=i.text\n",
    "    Price.append(price)"
   ]
  },
  {
   "cell_type": "code",
   "execution_count": null,
   "id": "e75a9382",
   "metadata": {},
   "outputs": [],
   "source": [
    "print(len(Title),len(Address),len(City),len(Build_Up_Area),len(Ad_Posted),len(Price))"
   ]
  },
  {
   "cell_type": "code",
   "execution_count": null,
   "id": "857e9b25",
   "metadata": {},
   "outputs": [],
   "source": [
    "import pandas as pd\n",
    "df=pd.DataFrame({'Title':Title, 'Address':Address,'City':City,'Build_Up_Area':Build_Up_Area,'Ad_Posted':Ad_Posted,'Price':Price})\n",
    "df"
   ]
  },
  {
   "cell_type": "code",
   "execution_count": null,
   "id": "ac4ef7f0",
   "metadata": {},
   "outputs": [],
   "source": []
  },
  {
   "cell_type": "code",
   "execution_count": null,
   "id": "419e6f7f",
   "metadata": {},
   "outputs": [],
   "source": [
    "#Page 45\n",
    "Next_button=driver.find_element(By.CLASS_NAME,\"next\")\n",
    "Next_button.click()"
   ]
  },
  {
   "cell_type": "code",
   "execution_count": null,
   "id": "d8cdb320",
   "metadata": {},
   "outputs": [],
   "source": [
    "Title=[]\n",
    "Address=[]\n",
    "City=[]\n",
    "Build_Up_Area = []\n",
    "Ad_Posted=[]\n",
    "Price=[]"
   ]
  },
  {
   "cell_type": "code",
   "execution_count": null,
   "id": "049ea129",
   "metadata": {},
   "outputs": [],
   "source": [
    "Rent_title=driver.find_elements(By.XPATH,'//a[@class=\"listtitle notclickb\"]')\n",
    "for i in Rent_title:\n",
    "    title=i.text\n",
    "    Title.append(title)\n",
    "\n",
    "\n",
    "\n",
    "Area_Address=driver.find_elements(By.XPATH,'//h3[@class=\"listloc\"]')\n",
    "for i in Area_Address:\n",
    "    address=i.text\n",
    "    Address.append(address)\n",
    "\n",
    "\n",
    "Rent_City=driver.find_elements(By.XPATH,'//a[@class=\"notclickb\"]')\n",
    "for i in Rent_City:\n",
    "    city=i.text\n",
    "    City.append(city)\n",
    "\n",
    "\n",
    "\n",
    "Area_Build=driver.find_elements(By.XPATH,'/html/body/div[4]/section[2]/div/section/div/div/div/div[3]/div[1]/div[6]/div[1]/div[1]/div/div/div[*]/div/div[2]/div[3]/div[1]/ul/li[1]/span')\n",
    "for i in Area_Build:\n",
    "    build=i.text\n",
    "    Build_Up_Area.append(build)\n",
    "\n",
    "   \n",
    "    \n",
    "Post=driver.find_elements(By.XPATH,'/html/body/div[4]/section[2]/div/section/div/div/div/div[3]/div[1]/div[6]/div[1]/div[1]/div/div/div[*]/div/div[2]/div[3]/div[1]/ul/li[3]')\n",
    "for i in Post:\n",
    "    post=i.text\n",
    "    Ad_Posted.append(post)\n",
    "    \n",
    "    \n",
    "   \n",
    "    \n",
    "Rent_price=driver.find_elements(By.XPATH,'//div[@class=\"prsg\"]')\n",
    "for i in Rent_price:\n",
    "    price=i.text\n",
    "    Price.append(price)"
   ]
  },
  {
   "cell_type": "code",
   "execution_count": null,
   "id": "bb9d5d41",
   "metadata": {},
   "outputs": [],
   "source": [
    "print(len(Title),len(Address),len(City),len(Build_Up_Area),len(Ad_Posted),len(Price))"
   ]
  },
  {
   "cell_type": "code",
   "execution_count": null,
   "id": "096c29f7",
   "metadata": {},
   "outputs": [],
   "source": [
    "import pandas as pd\n",
    "df=pd.DataFrame({'Title':Title, 'Address':Address,'City':City,'Build_Up_Area':Build_Up_Area,'Ad_Posted':Ad_Posted,'Price':Price})\n",
    "df"
   ]
  },
  {
   "cell_type": "code",
   "execution_count": null,
   "id": "5167dcec",
   "metadata": {},
   "outputs": [],
   "source": [
    "#Page 46\n",
    "Next_button=driver.find_element(By.CLASS_NAME,\"next\")\n",
    "Next_button.click()"
   ]
  },
  {
   "cell_type": "code",
   "execution_count": null,
   "id": "49be789e",
   "metadata": {},
   "outputs": [],
   "source": [
    "Title=[]\n",
    "Address=[]\n",
    "City=[]\n",
    "Build_Up_Area = []\n",
    "Ad_Posted=[]\n",
    "Price=[]"
   ]
  },
  {
   "cell_type": "code",
   "execution_count": null,
   "id": "ed8a0353",
   "metadata": {},
   "outputs": [],
   "source": [
    "Rent_title=driver.find_elements(By.XPATH,'//a[@class=\"listtitle notclickb\"]')\n",
    "for i in Rent_title:\n",
    "    title=i.text\n",
    "    Title.append(title)\n",
    "\n",
    "\n",
    "\n",
    "Area_Address=driver.find_elements(By.XPATH,'//h3[@class=\"listloc\"]')\n",
    "for i in Area_Address:\n",
    "    address=i.text\n",
    "    Address.append(address)\n",
    "\n",
    "\n",
    "Rent_City=driver.find_elements(By.XPATH,'//a[@class=\"notclickb\"]')\n",
    "for i in Rent_City:\n",
    "    city=i.text\n",
    "    City.append(city)\n",
    "\n",
    "\n",
    "\n",
    "Area_Build=driver.find_elements(By.XPATH,'/html/body/div[4]/section[2]/div/section/div/div/div/div[3]/div[1]/div[6]/div[1]/div[1]/div/div/div[*]/div/div[2]/div[3]/div[1]/ul/li[1]/span')\n",
    "for i in Area_Build:\n",
    "    build=i.text\n",
    "    Build_Up_Area.append(build)\n",
    "\n",
    "   \n",
    "    \n",
    "Post=driver.find_elements(By.XPATH,'/html/body/div[4]/section[2]/div/section/div/div/div/div[3]/div[1]/div[6]/div[1]/div[1]/div/div/div[*]/div/div[2]/div[3]/div[1]/ul/li[3]')\n",
    "for i in Post:\n",
    "    post=i.text\n",
    "    Ad_Posted.append(post)\n",
    "    \n",
    "    \n",
    "   \n",
    "    \n",
    "Rent_price=driver.find_elements(By.XPATH,'//div[@class=\"prsg\"]')\n",
    "for i in Rent_price:\n",
    "    price=i.text\n",
    "    Price.append(price)"
   ]
  },
  {
   "cell_type": "code",
   "execution_count": null,
   "id": "d45f95a2",
   "metadata": {},
   "outputs": [],
   "source": [
    "print(len(Title),len(Address),len(City),len(Build_Up_Area),len(Ad_Posted),len(Price))"
   ]
  },
  {
   "cell_type": "code",
   "execution_count": null,
   "id": "7322ded9",
   "metadata": {},
   "outputs": [],
   "source": [
    "import pandas as pd\n",
    "df=pd.DataFrame({'Title':Title, 'Address':Address,'City':City,'Build_Up_Area':Build_Up_Area,'Ad_Posted':Ad_Posted,'Price':Price})\n",
    "df"
   ]
  },
  {
   "cell_type": "code",
   "execution_count": null,
   "id": "b0e1acc0",
   "metadata": {},
   "outputs": [],
   "source": [
    "#Page 47\n",
    "Next_button=driver.find_element(By.CLASS_NAME,\"next\")\n",
    "Next_button.click()"
   ]
  },
  {
   "cell_type": "code",
   "execution_count": null,
   "id": "2d82608d",
   "metadata": {},
   "outputs": [],
   "source": [
    "Title=[]\n",
    "Address=[]\n",
    "City=[]\n",
    "Build_Up_Area = []\n",
    "Ad_Posted=[]\n",
    "Price=[]"
   ]
  },
  {
   "cell_type": "code",
   "execution_count": null,
   "id": "00ef8e61",
   "metadata": {},
   "outputs": [],
   "source": [
    "Rent_title=driver.find_elements(By.XPATH,'//a[@class=\"listtitle notclickb\"]')\n",
    "for i in Rent_title:\n",
    "    title=i.text\n",
    "    Title.append(title)\n",
    "\n",
    "\n",
    "\n",
    "Area_Address=driver.find_elements(By.XPATH,'//h3[@class=\"listloc\"]')\n",
    "for i in Area_Address:\n",
    "    address=i.text\n",
    "    Address.append(address)\n",
    "\n",
    "\n",
    "Rent_City=driver.find_elements(By.XPATH,'//a[@class=\"notclickb\"]')\n",
    "for i in Rent_City:\n",
    "    city=i.text\n",
    "    City.append(city)\n",
    "\n",
    "\n",
    "\n",
    "Area_Build=driver.find_elements(By.XPATH,'/html/body/div[4]/section[2]/div/section/div/div/div/div[3]/div[1]/div[6]/div[1]/div[1]/div/div/div[*]/div/div[2]/div[3]/div[1]/ul/li[1]/span')\n",
    "for i in Area_Build:\n",
    "    build=i.text\n",
    "    Build_Up_Area.append(build)\n",
    "\n",
    "   \n",
    "    \n",
    "Post=driver.find_elements(By.XPATH,'/html/body/div[4]/section[2]/div/section/div/div/div/div[3]/div[1]/div[6]/div[1]/div[1]/div/div/div[*]/div/div[2]/div[3]/div[1]/ul/li[3]')\n",
    "for i in Post:\n",
    "    post=i.text\n",
    "    Ad_Posted.append(post)\n",
    "    \n",
    "    \n",
    "   \n",
    "    \n",
    "Rent_price=driver.find_elements(By.XPATH,'//div[@class=\"prsg\"]')\n",
    "for i in Rent_price:\n",
    "    price=i.text\n",
    "    Price.append(price)"
   ]
  },
  {
   "cell_type": "code",
   "execution_count": null,
   "id": "3c8d7214",
   "metadata": {},
   "outputs": [],
   "source": [
    "print(len(Title),len(Address),len(City),len(Build_Up_Area),len(Ad_Posted),len(Price))"
   ]
  },
  {
   "cell_type": "code",
   "execution_count": null,
   "id": "3c87191e",
   "metadata": {},
   "outputs": [],
   "source": [
    "import pandas as pd\n",
    "df=pd.DataFrame({'Title':Title, 'Address':Address,'City':City,'Build_Up_Area':Build_Up_Area,'Ad_Posted':Ad_Posted,'Price':Price})\n",
    "df"
   ]
  },
  {
   "cell_type": "code",
   "execution_count": null,
   "id": "9470f4a2",
   "metadata": {},
   "outputs": [],
   "source": [
    "#Page 48\n",
    "Next_button=driver.find_element(By.CLASS_NAME,\"next\")\n",
    "Next_button.click()"
   ]
  },
  {
   "cell_type": "code",
   "execution_count": null,
   "id": "14736baa",
   "metadata": {},
   "outputs": [],
   "source": [
    "Title=[]\n",
    "Address=[]\n",
    "City=[]\n",
    "Build_Up_Area = []\n",
    "Ad_Posted=[]\n",
    "Price=[]"
   ]
  },
  {
   "cell_type": "code",
   "execution_count": null,
   "id": "524397af",
   "metadata": {},
   "outputs": [],
   "source": [
    "Rent_title=driver.find_elements(By.XPATH,'//a[@class=\"listtitle notclickb\"]')\n",
    "for i in Rent_title:\n",
    "    title=i.text\n",
    "    Title.append(title)\n",
    "\n",
    "\n",
    "\n",
    "Area_Address=driver.find_elements(By.XPATH,'//h3[@class=\"listloc\"]')\n",
    "for i in Area_Address:\n",
    "    address=i.text\n",
    "    Address.append(address)\n",
    "\n",
    "\n",
    "Rent_City=driver.find_elements(By.XPATH,'//a[@class=\"notclickb\"]')\n",
    "for i in Rent_City:\n",
    "    city=i.text\n",
    "    City.append(city)\n",
    "\n",
    "\n",
    "\n",
    "Area_Build=driver.find_elements(By.XPATH,'/html/body/div[4]/section[2]/div/section/div/div/div/div[3]/div[1]/div[6]/div[1]/div[1]/div/div/div[*]/div/div[2]/div[3]/div[1]/ul/li[1]/span')\n",
    "for i in Area_Build:\n",
    "    build=i.text\n",
    "    Build_Up_Area.append(build)\n",
    "\n",
    "   \n",
    "    \n",
    "Post=driver.find_elements(By.XPATH,'/html/body/div[4]/section[2]/div/section/div/div/div/div[3]/div[1]/div[6]/div[1]/div[1]/div/div/div[*]/div/div[2]/div[3]/div[1]/ul/li[3]')\n",
    "for i in Post:\n",
    "    post=i.text\n",
    "    Ad_Posted.append(post)\n",
    "    \n",
    "    \n",
    "   \n",
    "    \n",
    "Rent_price=driver.find_elements(By.XPATH,'//div[@class=\"prsg\"]')\n",
    "for i in Rent_price:\n",
    "    price=i.text\n",
    "    Price.append(price)"
   ]
  },
  {
   "cell_type": "code",
   "execution_count": null,
   "id": "7d5920d0",
   "metadata": {},
   "outputs": [],
   "source": [
    "print(len(Title),len(Address),len(City),len(Build_Up_Area),len(Ad_Posted),len(Price))"
   ]
  },
  {
   "cell_type": "code",
   "execution_count": null,
   "id": "12c96a6d",
   "metadata": {},
   "outputs": [],
   "source": [
    "import pandas as pd\n",
    "df=pd.DataFrame({'Title':Title, 'Address':Address,'City':City,'Build_Up_Area':Build_Up_Area,'Ad_Posted':Ad_Posted,'Price':Price})\n",
    "df"
   ]
  },
  {
   "cell_type": "code",
   "execution_count": null,
   "id": "b8ee645a",
   "metadata": {},
   "outputs": [],
   "source": [
    "#Page 49\n",
    "Next_button=driver.find_element(By.CLASS_NAME,\"next\")\n",
    "Next_button.click()"
   ]
  },
  {
   "cell_type": "code",
   "execution_count": null,
   "id": "6952e188",
   "metadata": {},
   "outputs": [],
   "source": [
    "Title=[]\n",
    "Address=[]\n",
    "City=[]\n",
    "Build_Up_Area = []\n",
    "Ad_Posted=[]\n",
    "Price=[]"
   ]
  },
  {
   "cell_type": "code",
   "execution_count": null,
   "id": "c0881f72",
   "metadata": {},
   "outputs": [],
   "source": [
    "Rent_title=driver.find_elements(By.XPATH,'//a[@class=\"listtitle notclickb\"]')\n",
    "for i in Rent_title:\n",
    "    title=i.text\n",
    "    Title.append(title)\n",
    "\n",
    "\n",
    "\n",
    "Area_Address=driver.find_elements(By.XPATH,'//h3[@class=\"listloc\"]')\n",
    "for i in Area_Address:\n",
    "    address=i.text\n",
    "    Address.append(address)\n",
    "\n",
    "\n",
    "Rent_City=driver.find_elements(By.XPATH,'//a[@class=\"notclickb\"]')\n",
    "for i in Rent_City:\n",
    "    city=i.text\n",
    "    City.append(city)\n",
    "\n",
    "\n",
    "\n",
    "Area_Build=driver.find_elements(By.XPATH,'/html/body/div[4]/section[2]/div/section/div/div/div/div[3]/div[1]/div[6]/div[1]/div[1]/div/div/div[*]/div/div[2]/div[3]/div[1]/ul/li[1]/span')\n",
    "for i in Area_Build:\n",
    "    build=i.text\n",
    "    Build_Up_Area.append(build)\n",
    "\n",
    "   \n",
    "    \n",
    "Post=driver.find_elements(By.XPATH,'/html/body/div[4]/section[2]/div/section/div/div/div/div[3]/div[1]/div[6]/div[1]/div[1]/div/div/div[*]/div/div[2]/div[3]/div[1]/ul/li[3]')\n",
    "for i in Post:\n",
    "    post=i.text\n",
    "    Ad_Posted.append(post)\n",
    "    \n",
    "    \n",
    "   \n",
    "    \n",
    "Rent_price=driver.find_elements(By.XPATH,'//div[@class=\"prsg\"]')\n",
    "for i in Rent_price:\n",
    "    price=i.text\n",
    "    Price.append(price)"
   ]
  },
  {
   "cell_type": "code",
   "execution_count": null,
   "id": "d7c9fc5d",
   "metadata": {},
   "outputs": [],
   "source": [
    "print(len(Title),len(Address),len(City),len(Build_Up_Area),len(Ad_Posted),len(Price))"
   ]
  },
  {
   "cell_type": "code",
   "execution_count": null,
   "id": "2d98f29f",
   "metadata": {},
   "outputs": [],
   "source": [
    "import pandas as pd\n",
    "df=pd.DataFrame({'Title':Title, 'Address':Address,'City':City,'Build_Up_Area':Build_Up_Area,'Ad_Posted':Ad_Posted,'Price':Price})\n",
    "df"
   ]
  },
  {
   "cell_type": "code",
   "execution_count": null,
   "id": "8d7ccab0",
   "metadata": {},
   "outputs": [],
   "source": [
    "#Page 50\n",
    "Next_button=driver.find_element(By.CLASS_NAME,\"next\")\n",
    "Next_button.click()"
   ]
  },
  {
   "cell_type": "code",
   "execution_count": null,
   "id": "279f203c",
   "metadata": {},
   "outputs": [],
   "source": [
    "Title=[]\n",
    "Address=[]\n",
    "City=[]\n",
    "Build_Up_Area = []\n",
    "Ad_Posted=[]\n",
    "Price=[]"
   ]
  },
  {
   "cell_type": "code",
   "execution_count": null,
   "id": "4a8d20ca",
   "metadata": {},
   "outputs": [],
   "source": [
    "Rent_title=driver.find_elements(By.XPATH,'//a[@class=\"listtitle notclickb\"]')\n",
    "for i in Rent_title:\n",
    "    title=i.text\n",
    "    Title.append(title)\n",
    "\n",
    "\n",
    "\n",
    "Area_Address=driver.find_elements(By.XPATH,'//h3[@class=\"listloc\"]')\n",
    "for i in Area_Address:\n",
    "    address=i.text\n",
    "    Address.append(address)\n",
    "\n",
    "\n",
    "Rent_City=driver.find_elements(By.XPATH,'//a[@class=\"notclickb\"]')\n",
    "for i in Rent_City:\n",
    "    city=i.text\n",
    "    City.append(city)\n",
    "\n",
    "\n",
    "\n",
    "Area_Build=driver.find_elements(By.XPATH,'/html/body/div[4]/section[2]/div/section/div/div/div/div[3]/div[1]/div[6]/div[1]/div[1]/div/div/div[*]/div/div[2]/div[3]/div[1]/ul/li[1]/span')\n",
    "for i in Area_Build:\n",
    "    build=i.text\n",
    "    Build_Up_Area.append(build)\n",
    "\n",
    "   \n",
    "    \n",
    "Post=driver.find_elements(By.XPATH,'/html/body/div[4]/section[2]/div/section/div/div/div/div[3]/div[1]/div[6]/div[1]/div[1]/div/div/div[*]/div/div[2]/div[3]/div[1]/ul/li[3]')\n",
    "for i in Post:\n",
    "    post=i.text\n",
    "    Ad_Posted.append(post)\n",
    "    \n",
    "    \n",
    "   \n",
    "    \n",
    "Rent_price=driver.find_elements(By.XPATH,'//div[@class=\"prsg\"]')\n",
    "for i in Rent_price:\n",
    "    price=i.text\n",
    "    Price.append(price)"
   ]
  },
  {
   "cell_type": "code",
   "execution_count": null,
   "id": "0ef90cda",
   "metadata": {},
   "outputs": [],
   "source": [
    "print(len(Title),len(Address),len(City),len(Build_Up_Area),len(Ad_Posted),len(Price))"
   ]
  },
  {
   "cell_type": "code",
   "execution_count": null,
   "id": "aaee97dc",
   "metadata": {},
   "outputs": [],
   "source": [
    "import pandas as pd\n",
    "df=pd.DataFrame({'Title':Title, 'Address':Address,'City':City,'Build_Up_Area':Build_Up_Area,'Ad_Posted':Ad_Posted,'Price':Price})\n",
    "df"
   ]
  },
  {
   "cell_type": "code",
   "execution_count": null,
   "id": "71304205",
   "metadata": {},
   "outputs": [],
   "source": [
    "#Page 51\n",
    "Next_button=driver.find_element(By.CLASS_NAME,\"next\")\n",
    "Next_button.click()"
   ]
  },
  {
   "cell_type": "code",
   "execution_count": null,
   "id": "ffd5279f",
   "metadata": {},
   "outputs": [],
   "source": [
    "Title=[]\n",
    "Address=[]\n",
    "City=[]\n",
    "Build_Up_Area = []\n",
    "Ad_Posted=[]\n",
    "Price=[]"
   ]
  },
  {
   "cell_type": "code",
   "execution_count": null,
   "id": "c6014b01",
   "metadata": {},
   "outputs": [],
   "source": [
    "Rent_title=driver.find_elements(By.XPATH,'//a[@class=\"listtitle notclickb\"]')\n",
    "for i in Rent_title:\n",
    "    title=i.text\n",
    "    Title.append(title)\n",
    "\n",
    "\n",
    "\n",
    "Area_Address=driver.find_elements(By.XPATH,'//h3[@class=\"listloc\"]')\n",
    "for i in Area_Address:\n",
    "    address=i.text\n",
    "    Address.append(address)\n",
    "\n",
    "\n",
    "Rent_City=driver.find_elements(By.XPATH,'//a[@class=\"notclickb\"]')\n",
    "for i in Rent_City:\n",
    "    city=i.text\n",
    "    City.append(city)\n",
    "\n",
    "\n",
    "\n",
    "Area_Build=driver.find_elements(By.XPATH,'/html/body/div[4]/section[2]/div/section/div/div/div/div[3]/div[1]/div[6]/div[1]/div[1]/div/div/div[*]/div/div[2]/div[3]/div[1]/ul/li[1]/span')\n",
    "for i in Area_Build:\n",
    "    build=i.text\n",
    "    Build_Up_Area.append(build)\n",
    "\n",
    "   \n",
    "    \n",
    "Post=driver.find_elements(By.XPATH,'/html/body/div[4]/section[2]/div/section/div/div/div/div[3]/div[1]/div[6]/div[1]/div[1]/div/div/div[*]/div/div[2]/div[3]/div[1]/ul/li[3]')\n",
    "for i in Post:\n",
    "    post=i.text\n",
    "    Ad_Posted.append(post)\n",
    "    \n",
    "    \n",
    "   \n",
    "    \n",
    "Rent_price=driver.find_elements(By.XPATH,'//div[@class=\"prsg\"]')\n",
    "for i in Rent_price:\n",
    "    price=i.text\n",
    "    Price.append(price)"
   ]
  },
  {
   "cell_type": "code",
   "execution_count": null,
   "id": "ca97e677",
   "metadata": {},
   "outputs": [],
   "source": [
    "print(len(Title),len(Address),len(City),len(Build_Up_Area),len(Ad_Posted),len(Price))"
   ]
  },
  {
   "cell_type": "code",
   "execution_count": null,
   "id": "3cc00468",
   "metadata": {},
   "outputs": [],
   "source": [
    "import pandas as pd\n",
    "df=pd.DataFrame({'Title':Title, 'Address':Address,'City':City,'Build_Up_Area':Build_Up_Area,'Ad_Posted':Ad_Posted,'Price':Price})\n",
    "df"
   ]
  },
  {
   "cell_type": "code",
   "execution_count": null,
   "id": "99ae577c",
   "metadata": {},
   "outputs": [],
   "source": [
    "#Page 52\n",
    "Next_button=driver.find_element(By.CLASS_NAME,\"next\")\n",
    "Next_button.click()"
   ]
  },
  {
   "cell_type": "code",
   "execution_count": null,
   "id": "f5074c7d",
   "metadata": {},
   "outputs": [],
   "source": [
    "Title=[]\n",
    "Address=[]\n",
    "City=[]\n",
    "Build_Up_Area = []\n",
    "Ad_Posted=[]\n",
    "Price=[]"
   ]
  },
  {
   "cell_type": "code",
   "execution_count": null,
   "id": "0792a322",
   "metadata": {},
   "outputs": [],
   "source": [
    "Rent_title=driver.find_elements(By.XPATH,'//a[@class=\"listtitle notclickb\"]')\n",
    "for i in Rent_title:\n",
    "    title=i.text\n",
    "    Title.append(title)\n",
    "\n",
    "\n",
    "\n",
    "Area_Address=driver.find_elements(By.XPATH,'//h3[@class=\"listloc\"]')\n",
    "for i in Area_Address:\n",
    "    address=i.text\n",
    "    Address.append(address)\n",
    "\n",
    "\n",
    "Rent_City=driver.find_elements(By.XPATH,'//a[@class=\"notclickb\"]')\n",
    "for i in Rent_City:\n",
    "    city=i.text\n",
    "    City.append(city)\n",
    "\n",
    "\n",
    "\n",
    "Area_Build=driver.find_elements(By.XPATH,'/html/body/div[4]/section[2]/div/section/div/div/div/div[3]/div[1]/div[6]/div[1]/div[1]/div/div/div[*]/div/div[2]/div[3]/div[1]/ul/li[1]/span')\n",
    "for i in Area_Build:\n",
    "    build=i.text\n",
    "    Build_Up_Area.append(build)\n",
    "\n",
    "   \n",
    "    \n",
    "Post=driver.find_elements(By.XPATH,'/html/body/div[4]/section[2]/div/section/div/div/div/div[3]/div[1]/div[6]/div[1]/div[1]/div/div/div[*]/div/div[2]/div[3]/div[1]/ul/li[3]')\n",
    "for i in Post:\n",
    "    post=i.text\n",
    "    Ad_Posted.append(post)\n",
    "    \n",
    "    \n",
    "   \n",
    "    \n",
    "Rent_price=driver.find_elements(By.XPATH,'//div[@class=\"prsg\"]')\n",
    "for i in Rent_price:\n",
    "    price=i.text\n",
    "    Price.append(price)"
   ]
  },
  {
   "cell_type": "code",
   "execution_count": null,
   "id": "be242cd7",
   "metadata": {},
   "outputs": [],
   "source": [
    "print(len(Title),len(Address),len(City),len(Build_Up_Area),len(Ad_Posted),len(Price))"
   ]
  },
  {
   "cell_type": "code",
   "execution_count": null,
   "id": "ac6f83fa",
   "metadata": {},
   "outputs": [],
   "source": [
    "import pandas as pd\n",
    "df=pd.DataFrame({'Title':Title, 'Address':Address,'City':City,'Build_Up_Area':Build_Up_Area,'Ad_Posted':Ad_Posted,'Price':Price})\n",
    "df"
   ]
  },
  {
   "cell_type": "code",
   "execution_count": null,
   "id": "33b71671",
   "metadata": {},
   "outputs": [],
   "source": [
    "#Page 53\n",
    "Next_button=driver.find_element(By.CLASS_NAME,\"next\")\n",
    "Next_button.click()"
   ]
  },
  {
   "cell_type": "code",
   "execution_count": null,
   "id": "8c5e4755",
   "metadata": {},
   "outputs": [],
   "source": [
    "Title=[]\n",
    "Address=[]\n",
    "City=[]\n",
    "Build_Up_Area = []\n",
    "Ad_Posted=[]\n",
    "Price=[]"
   ]
  },
  {
   "cell_type": "code",
   "execution_count": null,
   "id": "4b685fc9",
   "metadata": {},
   "outputs": [],
   "source": [
    "Rent_title=driver.find_elements(By.XPATH,'//a[@class=\"listtitle notclickb\"]')\n",
    "for i in Rent_title:\n",
    "    title=i.text\n",
    "    Title.append(title)\n",
    "\n",
    "\n",
    "\n",
    "Area_Address=driver.find_elements(By.XPATH,'//h3[@class=\"listloc\"]')\n",
    "for i in Area_Address:\n",
    "    address=i.text\n",
    "    Address.append(address)\n",
    "\n",
    "\n",
    "Rent_City=driver.find_elements(By.XPATH,'//a[@class=\"notclickb\"]')\n",
    "for i in Rent_City:\n",
    "    city=i.text\n",
    "    City.append(city)\n",
    "\n",
    "\n",
    "\n",
    "Area_Build=driver.find_elements(By.XPATH,'/html/body/div[4]/section[2]/div/section/div/div/div/div[3]/div[1]/div[6]/div[1]/div[1]/div/div/div[*]/div/div[2]/div[3]/div[1]/ul/li[1]/span')\n",
    "for i in Area_Build:\n",
    "    build=i.text\n",
    "    Build_Up_Area.append(build)\n",
    "\n",
    "   \n",
    "    \n",
    "Post=driver.find_elements(By.XPATH,'/html/body/div[4]/section[2]/div/section/div/div/div/div[3]/div[1]/div[6]/div[1]/div[1]/div/div/div[*]/div/div[2]/div[3]/div[1]/ul/li[3]')\n",
    "for i in Post:\n",
    "    post=i.text\n",
    "    Ad_Posted.append(post)\n",
    "    \n",
    "    \n",
    "   \n",
    "    \n",
    "Rent_price=driver.find_elements(By.XPATH,'//div[@class=\"prsg\"]')\n",
    "for i in Rent_price:\n",
    "    price=i.text\n",
    "    Price.append(price)"
   ]
  },
  {
   "cell_type": "code",
   "execution_count": null,
   "id": "f17216d1",
   "metadata": {},
   "outputs": [],
   "source": [
    "print(len(Title),len(Address),len(City),len(Build_Up_Area),len(Ad_Posted),len(Price))"
   ]
  },
  {
   "cell_type": "code",
   "execution_count": null,
   "id": "a260d1d1",
   "metadata": {},
   "outputs": [],
   "source": [
    "import pandas as pd\n",
    "df=pd.DataFrame({'Title':Title, 'Address':Address,'City':City,'Build_Up_Area':Build_Up_Area,'Ad_Posted':Ad_Posted,'Price':Price})\n",
    "df"
   ]
  },
  {
   "cell_type": "code",
   "execution_count": null,
   "id": "51dddced",
   "metadata": {},
   "outputs": [],
   "source": [
    "#Page 54\n",
    "Next_button=driver.find_element(By.CLASS_NAME,\"next\")\n",
    "Next_button.click()"
   ]
  },
  {
   "cell_type": "code",
   "execution_count": null,
   "id": "b829c2a1",
   "metadata": {},
   "outputs": [],
   "source": [
    "Title=[]\n",
    "Address=[]\n",
    "City=[]\n",
    "Build_Up_Area = []\n",
    "Ad_Posted=[]\n",
    "Price=[]"
   ]
  },
  {
   "cell_type": "code",
   "execution_count": null,
   "id": "8bf864b5",
   "metadata": {},
   "outputs": [],
   "source": [
    "Rent_title=driver.find_elements(By.XPATH,'//a[@class=\"listtitle notclickb\"]')\n",
    "for i in Rent_title:\n",
    "    title=i.text\n",
    "    Title.append(title)\n",
    "\n",
    "\n",
    "\n",
    "Area_Address=driver.find_elements(By.XPATH,'//h3[@class=\"listloc\"]')\n",
    "for i in Area_Address:\n",
    "    address=i.text\n",
    "    Address.append(address)\n",
    "\n",
    "\n",
    "Rent_City=driver.find_elements(By.XPATH,'//a[@class=\"notclickb\"]')\n",
    "for i in Rent_City:\n",
    "    city=i.text\n",
    "    City.append(city)\n",
    "\n",
    "\n",
    "\n",
    "Area_Build=driver.find_elements(By.XPATH,'/html/body/div[4]/section[2]/div/section/div/div/div/div[3]/div[1]/div[6]/div[1]/div[1]/div/div/div[*]/div/div[2]/div[3]/div[1]/ul/li[1]/span')\n",
    "for i in Area_Build:\n",
    "    build=i.text\n",
    "    Build_Up_Area.append(build)\n",
    "\n",
    "   \n",
    "    \n",
    "Post=driver.find_elements(By.XPATH,'/html/body/div[4]/section[2]/div/section/div/div/div/div[3]/div[1]/div[6]/div[1]/div[1]/div/div/div[*]/div/div[2]/div[3]/div[1]/ul/li[3]')\n",
    "for i in Post:\n",
    "    post=i.text\n",
    "    Ad_Posted.append(post)\n",
    "    \n",
    "    \n",
    "   \n",
    "    \n",
    "Rent_price=driver.find_elements(By.XPATH,'//div[@class=\"prsg\"]')\n",
    "for i in Rent_price:\n",
    "    price=i.text\n",
    "    Price.append(price)"
   ]
  },
  {
   "cell_type": "code",
   "execution_count": null,
   "id": "758b833e",
   "metadata": {},
   "outputs": [],
   "source": [
    "print(len(Title),len(Address),len(City),len(Build_Up_Area),len(Ad_Posted),len(Price))"
   ]
  },
  {
   "cell_type": "code",
   "execution_count": null,
   "id": "71df270d",
   "metadata": {},
   "outputs": [],
   "source": [
    "import pandas as pd\n",
    "df=pd.DataFrame({'Title':Title, 'Address':Address,'City':City,'Build_Up_Area':Build_Up_Area,'Ad_Posted':Ad_Posted,'Price':Price})\n",
    "df"
   ]
  },
  {
   "cell_type": "code",
   "execution_count": null,
   "id": "1f4d868f",
   "metadata": {},
   "outputs": [],
   "source": [
    "#Page 55\n",
    "Next_button=driver.find_element(By.CLASS_NAME,\"next\")\n",
    "Next_button.click()"
   ]
  },
  {
   "cell_type": "code",
   "execution_count": null,
   "id": "617dba99",
   "metadata": {},
   "outputs": [],
   "source": [
    "Title=[]\n",
    "Address=[]\n",
    "City=[]\n",
    "Build_Up_Area = []\n",
    "Ad_Posted=[]\n",
    "Price=[]"
   ]
  },
  {
   "cell_type": "code",
   "execution_count": null,
   "id": "b6825fbf",
   "metadata": {},
   "outputs": [],
   "source": [
    "Rent_title=driver.find_elements(By.XPATH,'//a[@class=\"listtitle notclickb\"]')\n",
    "for i in Rent_title:\n",
    "    title=i.text\n",
    "    Title.append(title)\n",
    "\n",
    "\n",
    "\n",
    "Area_Address=driver.find_elements(By.XPATH,'//h3[@class=\"listloc\"]')\n",
    "for i in Area_Address:\n",
    "    address=i.text\n",
    "    Address.append(address)\n",
    "\n",
    "\n",
    "Rent_City=driver.find_elements(By.XPATH,'//a[@class=\"notclickb\"]')\n",
    "for i in Rent_City:\n",
    "    city=i.text\n",
    "    City.append(city)\n",
    "\n",
    "\n",
    "\n",
    "Area_Build=driver.find_elements(By.XPATH,'/html/body/div[4]/section[2]/div/section/div/div/div/div[3]/div[1]/div[6]/div[1]/div[1]/div/div/div[*]/div/div[2]/div[3]/div[1]/ul/li[1]/span')\n",
    "for i in Area_Build:\n",
    "    build=i.text\n",
    "    Build_Up_Area.append(build)\n",
    "\n",
    "   \n",
    "    \n",
    "Post=driver.find_elements(By.XPATH,'/html/body/div[4]/section[2]/div/section/div/div/div/div[3]/div[1]/div[6]/div[1]/div[1]/div/div/div[*]/div/div[2]/div[3]/div[1]/ul/li[3]')\n",
    "for i in Post:\n",
    "    post=i.text\n",
    "    Ad_Posted.append(post)\n",
    "    \n",
    "    \n",
    "   \n",
    "    \n",
    "Rent_price=driver.find_elements(By.XPATH,'//div[@class=\"prsg\"]')\n",
    "for i in Rent_price:\n",
    "    price=i.text\n",
    "    Price.append(price)"
   ]
  },
  {
   "cell_type": "code",
   "execution_count": null,
   "id": "f84c99be",
   "metadata": {},
   "outputs": [],
   "source": [
    "print(len(Title),len(Address),len(City),len(Build_Up_Area),len(Ad_Posted),len(Price))"
   ]
  },
  {
   "cell_type": "code",
   "execution_count": null,
   "id": "d6a83b7d",
   "metadata": {},
   "outputs": [],
   "source": [
    "import pandas as pd\n",
    "df=pd.DataFrame({'Title':Title, 'Address':Address,'City':City,'Build_Up_Area':Build_Up_Area,'Ad_Posted':Ad_Posted,'Price':Price})\n",
    "df"
   ]
  },
  {
   "cell_type": "code",
   "execution_count": null,
   "id": "2adc6c95",
   "metadata": {},
   "outputs": [],
   "source": [
    "#Page 56\n",
    "Next_button=driver.find_element(By.CLASS_NAME,\"next\")\n",
    "Next_button.click()"
   ]
  },
  {
   "cell_type": "code",
   "execution_count": null,
   "id": "cf3e98f6",
   "metadata": {},
   "outputs": [],
   "source": [
    "Title=[]\n",
    "Address=[]\n",
    "City=[]\n",
    "Build_Up_Area = []\n",
    "Ad_Posted=[]\n",
    "Price=[]"
   ]
  },
  {
   "cell_type": "code",
   "execution_count": null,
   "id": "a1598a21",
   "metadata": {},
   "outputs": [],
   "source": [
    "Rent_title=driver.find_elements(By.XPATH,'//a[@class=\"listtitle notclickb\"]')\n",
    "for i in Rent_title:\n",
    "    title=i.text\n",
    "    Title.append(title)\n",
    "\n",
    "\n",
    "\n",
    "Area_Address=driver.find_elements(By.XPATH,'//h3[@class=\"listloc\"]')\n",
    "for i in Area_Address:\n",
    "    address=i.text\n",
    "    Address.append(address)\n",
    "\n",
    "\n",
    "Rent_City=driver.find_elements(By.XPATH,'//a[@class=\"notclickb\"]')\n",
    "for i in Rent_City:\n",
    "    city=i.text\n",
    "    City.append(city)\n",
    "\n",
    "\n",
    "\n",
    "Area_Build=driver.find_elements(By.XPATH,'/html/body/div[4]/section[2]/div/section/div/div/div/div[3]/div[1]/div[6]/div[1]/div[1]/div/div/div[*]/div/div[2]/div[3]/div[1]/ul/li[1]/span')\n",
    "for i in Area_Build:\n",
    "    build=i.text\n",
    "    Build_Up_Area.append(build)\n",
    "\n",
    "   \n",
    "    \n",
    "Post=driver.find_elements(By.XPATH,'/html/body/div[4]/section[2]/div/section/div/div/div/div[3]/div[1]/div[6]/div[1]/div[1]/div/div/div[*]/div/div[2]/div[3]/div[1]/ul/li[3]')\n",
    "for i in Post:\n",
    "    post=i.text\n",
    "    Ad_Posted.append(post)\n",
    "    \n",
    "    \n",
    "   \n",
    "    \n",
    "Rent_price=driver.find_elements(By.XPATH,'//div[@class=\"prsg\"]')\n",
    "for i in Rent_price:\n",
    "    price=i.text\n",
    "    Price.append(price)"
   ]
  },
  {
   "cell_type": "code",
   "execution_count": null,
   "id": "79285223",
   "metadata": {},
   "outputs": [],
   "source": [
    "print(len(Title),len(Address),len(City),len(Build_Up_Area),len(Ad_Posted),len(Price))"
   ]
  },
  {
   "cell_type": "code",
   "execution_count": null,
   "id": "0286bef9",
   "metadata": {},
   "outputs": [],
   "source": [
    "import pandas as pd\n",
    "df=pd.DataFrame({'Title':Title, 'Address':Address,'City':City,'Build_Up_Area':Build_Up_Area,'Ad_Posted':Ad_Posted,'Price':Price})\n",
    "df"
   ]
  },
  {
   "cell_type": "code",
   "execution_count": null,
   "id": "4dff5dd1",
   "metadata": {},
   "outputs": [],
   "source": [
    "#Page 57\n",
    "Next_button=driver.find_element(By.CLASS_NAME,\"next\")\n",
    "Next_button.click()"
   ]
  },
  {
   "cell_type": "code",
   "execution_count": null,
   "id": "9ebc692d",
   "metadata": {},
   "outputs": [],
   "source": [
    "Title=[]\n",
    "Address=[]\n",
    "City=[]\n",
    "Build_Up_Area = []\n",
    "Ad_Posted=[]\n",
    "Price=[]"
   ]
  },
  {
   "cell_type": "code",
   "execution_count": null,
   "id": "7e3edc18",
   "metadata": {},
   "outputs": [],
   "source": [
    "Rent_title=driver.find_elements(By.XPATH,'//a[@class=\"listtitle notclickb\"]')\n",
    "for i in Rent_title:\n",
    "    title=i.text\n",
    "    Title.append(title)\n",
    "\n",
    "\n",
    "\n",
    "Area_Address=driver.find_elements(By.XPATH,'//h3[@class=\"listloc\"]')\n",
    "for i in Area_Address:\n",
    "    address=i.text\n",
    "    Address.append(address)\n",
    "\n",
    "\n",
    "Rent_City=driver.find_elements(By.XPATH,'//a[@class=\"notclickb\"]')\n",
    "for i in Rent_City:\n",
    "    city=i.text\n",
    "    City.append(city)\n",
    "\n",
    "\n",
    "\n",
    "Area_Build=driver.find_elements(By.XPATH,'/html/body/div[4]/section[2]/div/section/div/div/div/div[3]/div[1]/div[6]/div[1]/div[1]/div/div/div[*]/div/div[2]/div[3]/div[1]/ul/li[1]/span')\n",
    "for i in Area_Build:\n",
    "    build=i.text\n",
    "    Build_Up_Area.append(build)\n",
    "\n",
    "   \n",
    "    \n",
    "Post=driver.find_elements(By.XPATH,'/html/body/div[4]/section[2]/div/section/div/div/div/div[3]/div[1]/div[6]/div[1]/div[1]/div/div/div[*]/div/div[2]/div[3]/div[1]/ul/li[3]')\n",
    "for i in Post:\n",
    "    post=i.text\n",
    "    Ad_Posted.append(post)\n",
    "    \n",
    "    \n",
    "   \n",
    "    \n",
    "Rent_price=driver.find_elements(By.XPATH,'//div[@class=\"prsg\"]')\n",
    "for i in Rent_price:\n",
    "    price=i.text\n",
    "    Price.append(price)"
   ]
  },
  {
   "cell_type": "code",
   "execution_count": null,
   "id": "8b96c8ca",
   "metadata": {},
   "outputs": [],
   "source": [
    "print(len(Title),len(Address),len(City),len(Build_Up_Area),len(Ad_Posted),len(Price))"
   ]
  },
  {
   "cell_type": "code",
   "execution_count": null,
   "id": "a8e2c811",
   "metadata": {},
   "outputs": [],
   "source": [
    "import pandas as pd\n",
    "df=pd.DataFrame({'Title':Title, 'Address':Address,'City':City,'Build_Up_Area':Build_Up_Area,'Ad_Posted':Ad_Posted,'Price':Price})\n",
    "df"
   ]
  },
  {
   "cell_type": "code",
   "execution_count": null,
   "id": "25251b8e",
   "metadata": {},
   "outputs": [],
   "source": [
    "#Page 58\n",
    "Next_button=driver.find_element(By.CLASS_NAME,\"next\")\n",
    "Next_button.click()"
   ]
  },
  {
   "cell_type": "code",
   "execution_count": null,
   "id": "70597467",
   "metadata": {},
   "outputs": [],
   "source": [
    "Title=[]\n",
    "Address=[]\n",
    "City=[]\n",
    "Build_Up_Area = []\n",
    "Ad_Posted=[]\n",
    "Price=[]"
   ]
  },
  {
   "cell_type": "code",
   "execution_count": null,
   "id": "3c5e9690",
   "metadata": {},
   "outputs": [],
   "source": [
    "Rent_title=driver.find_elements(By.XPATH,'//a[@class=\"listtitle notclickb\"]')\n",
    "for i in Rent_title:\n",
    "    title=i.text\n",
    "    Title.append(title)\n",
    "\n",
    "\n",
    "\n",
    "Area_Address=driver.find_elements(By.XPATH,'//h3[@class=\"listloc\"]')\n",
    "for i in Area_Address:\n",
    "    address=i.text\n",
    "    Address.append(address)\n",
    "\n",
    "\n",
    "Rent_City=driver.find_elements(By.XPATH,'//a[@class=\"notclickb\"]')\n",
    "for i in Rent_City:\n",
    "    city=i.text\n",
    "    City.append(city)\n",
    "\n",
    "\n",
    "\n",
    "Area_Build=driver.find_elements(By.XPATH,'/html/body/div[4]/section[2]/div/section/div/div/div/div[3]/div[1]/div[6]/div[1]/div[1]/div/div/div[*]/div/div[2]/div[3]/div[1]/ul/li[1]/span')\n",
    "for i in Area_Build:\n",
    "    build=i.text\n",
    "    Build_Up_Area.append(build)\n",
    "\n",
    "   \n",
    "    \n",
    "Post=driver.find_elements(By.XPATH,'/html/body/div[4]/section[2]/div/section/div/div/div/div[3]/div[1]/div[6]/div[1]/div[1]/div/div/div[*]/div/div[2]/div[3]/div[1]/ul/li[3]')\n",
    "for i in Post:\n",
    "    post=i.text\n",
    "    Ad_Posted.append(post)\n",
    "    \n",
    "    \n",
    "   \n",
    "    \n",
    "Rent_price=driver.find_elements(By.XPATH,'//div[@class=\"prsg\"]')\n",
    "for i in Rent_price:\n",
    "    price=i.text\n",
    "    Price.append(price)"
   ]
  },
  {
   "cell_type": "code",
   "execution_count": null,
   "id": "c12ca93f",
   "metadata": {},
   "outputs": [],
   "source": [
    "print(len(Title),len(Address),len(City),len(Build_Up_Area),len(Ad_Posted),len(Price))"
   ]
  },
  {
   "cell_type": "code",
   "execution_count": null,
   "id": "ff229298",
   "metadata": {},
   "outputs": [],
   "source": [
    "import pandas as pd\n",
    "df=pd.DataFrame({'Title':Title, 'Address':Address,'City':City,'Build_Up_Area':Build_Up_Area,'Ad_Posted':Ad_Posted,'Price':Price})\n",
    "df"
   ]
  },
  {
   "cell_type": "code",
   "execution_count": null,
   "id": "9513e72d",
   "metadata": {},
   "outputs": [],
   "source": [
    "#Page 59\n",
    "Next_button=driver.find_element(By.CLASS_NAME,\"next\")\n",
    "Next_button.click()"
   ]
  },
  {
   "cell_type": "code",
   "execution_count": null,
   "id": "46837380",
   "metadata": {},
   "outputs": [],
   "source": [
    "Title=[]\n",
    "Address=[]\n",
    "City=[]\n",
    "Build_Up_Area = []\n",
    "Ad_Posted=[]\n",
    "Price=[]"
   ]
  },
  {
   "cell_type": "code",
   "execution_count": null,
   "id": "d40f8264",
   "metadata": {},
   "outputs": [],
   "source": [
    "Rent_title=driver.find_elements(By.XPATH,'//a[@class=\"listtitle notclickb\"]')\n",
    "for i in Rent_title:\n",
    "    title=i.text\n",
    "    Title.append(title)\n",
    "\n",
    "\n",
    "\n",
    "Area_Address=driver.find_elements(By.XPATH,'//h3[@class=\"listloc\"]')\n",
    "for i in Area_Address:\n",
    "    address=i.text\n",
    "    Address.append(address)\n",
    "\n",
    "\n",
    "Rent_City=driver.find_elements(By.XPATH,'//a[@class=\"notclickb\"]')\n",
    "for i in Rent_City:\n",
    "    city=i.text\n",
    "    City.append(city)\n",
    "\n",
    "\n",
    "\n",
    "Area_Build=driver.find_elements(By.XPATH,'/html/body/div[4]/section[2]/div/section/div/div/div/div[3]/div[1]/div[6]/div[1]/div[1]/div/div/div[*]/div/div[2]/div[3]/div[1]/ul/li[1]/span')\n",
    "for i in Area_Build:\n",
    "    build=i.text\n",
    "    Build_Up_Area.append(build)\n",
    "\n",
    "   \n",
    "    \n",
    "Post=driver.find_elements(By.XPATH,'/html/body/div[4]/section[2]/div/section/div/div/div/div[3]/div[1]/div[6]/div[1]/div[1]/div/div/div[*]/div/div[2]/div[3]/div[1]/ul/li[3]')\n",
    "for i in Post:\n",
    "    post=i.text\n",
    "    Ad_Posted.append(post)\n",
    "    \n",
    "    \n",
    "   \n",
    "    \n",
    "Rent_price=driver.find_elements(By.XPATH,'//div[@class=\"prsg\"]')\n",
    "for i in Rent_price:\n",
    "    price=i.text\n",
    "    Price.append(price)"
   ]
  },
  {
   "cell_type": "code",
   "execution_count": null,
   "id": "374ebabd",
   "metadata": {},
   "outputs": [],
   "source": [
    "print(len(Title),len(Address),len(City),len(Build_Up_Area),len(Ad_Posted),len(Price))"
   ]
  },
  {
   "cell_type": "code",
   "execution_count": null,
   "id": "b97bb19e",
   "metadata": {},
   "outputs": [],
   "source": [
    "import pandas as pd\n",
    "df=pd.DataFrame({'Title':Title, 'Address':Address,'City':City,'Build_Up_Area':Build_Up_Area,'Ad_Posted':Ad_Posted,'Price':Price})\n",
    "df"
   ]
  },
  {
   "cell_type": "code",
   "execution_count": null,
   "id": "b5295b22",
   "metadata": {},
   "outputs": [],
   "source": [
    "#Page 60\n",
    "Next_button=driver.find_element(By.CLASS_NAME,\"next\")\n",
    "Next_button.click()"
   ]
  },
  {
   "cell_type": "code",
   "execution_count": null,
   "id": "0d062b67",
   "metadata": {},
   "outputs": [],
   "source": [
    "Title=[]\n",
    "Address=[]\n",
    "City=[]\n",
    "Build_Up_Area = []\n",
    "Ad_Posted=[]\n",
    "Price=[]"
   ]
  },
  {
   "cell_type": "code",
   "execution_count": null,
   "id": "cbd4dabb",
   "metadata": {},
   "outputs": [],
   "source": [
    "Rent_title=driver.find_elements(By.XPATH,'//a[@class=\"listtitle notclickb\"]')\n",
    "for i in Rent_title:\n",
    "    title=i.text\n",
    "    Title.append(title)\n",
    "\n",
    "\n",
    "\n",
    "Area_Address=driver.find_elements(By.XPATH,'//h3[@class=\"listloc\"]')\n",
    "for i in Area_Address:\n",
    "    address=i.text\n",
    "    Address.append(address)\n",
    "\n",
    "\n",
    "Rent_City=driver.find_elements(By.XPATH,'//a[@class=\"notclickb\"]')\n",
    "for i in Rent_City:\n",
    "    city=i.text\n",
    "    City.append(city)\n",
    "\n",
    "\n",
    "\n",
    "Area_Build=driver.find_elements(By.XPATH,'/html/body/div[4]/section[2]/div/section/div/div/div/div[3]/div[1]/div[6]/div[1]/div[1]/div/div/div[*]/div/div[2]/div[3]/div[1]/ul/li[1]/span')\n",
    "for i in Area_Build:\n",
    "    build=i.text\n",
    "    Build_Up_Area.append(build)\n",
    "\n",
    "   \n",
    "    \n",
    "Post=driver.find_elements(By.XPATH,'/html/body/div[4]/section[2]/div/section/div/div/div/div[3]/div[1]/div[6]/div[1]/div[1]/div/div/div[*]/div/div[2]/div[3]/div[1]/ul/li[3]')\n",
    "for i in Post:\n",
    "    post=i.text\n",
    "    Ad_Posted.append(post)\n",
    "    \n",
    "    \n",
    "   \n",
    "    \n",
    "Rent_price=driver.find_elements(By.XPATH,'//div[@class=\"prsg\"]')\n",
    "for i in Rent_price:\n",
    "    price=i.text\n",
    "    Price.append(price)"
   ]
  },
  {
   "cell_type": "code",
   "execution_count": null,
   "id": "bef79829",
   "metadata": {},
   "outputs": [],
   "source": [
    "print(len(Title),len(Address),len(City),len(Build_Up_Area),len(Ad_Posted),len(Price))"
   ]
  },
  {
   "cell_type": "code",
   "execution_count": null,
   "id": "eb49d08e",
   "metadata": {},
   "outputs": [],
   "source": [
    "import pandas as pd\n",
    "df=pd.DataFrame({'Title':Title, 'Address':Address,'City':City,'Build_Up_Area':Build_Up_Area,'Ad_Posted':Ad_Posted,'Price':Price})\n",
    "df"
   ]
  },
  {
   "cell_type": "code",
   "execution_count": null,
   "id": "0631fb91",
   "metadata": {},
   "outputs": [],
   "source": [
    "#Page 61\n",
    "Next_button=driver.find_element(By.CLASS_NAME,\"next\")\n",
    "Next_button.click()"
   ]
  },
  {
   "cell_type": "code",
   "execution_count": null,
   "id": "89447da5",
   "metadata": {},
   "outputs": [],
   "source": [
    "Title=[]\n",
    "Address=[]\n",
    "City=[]\n",
    "Build_Up_Area = []\n",
    "Ad_Posted=[]\n",
    "Price=[]"
   ]
  },
  {
   "cell_type": "code",
   "execution_count": null,
   "id": "20b99ba2",
   "metadata": {},
   "outputs": [],
   "source": [
    "Rent_title=driver.find_elements(By.XPATH,'//a[@class=\"listtitle notclickb\"]')\n",
    "for i in Rent_title:\n",
    "    title=i.text\n",
    "    Title.append(title)\n",
    "\n",
    "\n",
    "\n",
    "Area_Address=driver.find_elements(By.XPATH,'//h3[@class=\"listloc\"]')\n",
    "for i in Area_Address:\n",
    "    address=i.text\n",
    "    Address.append(address)\n",
    "\n",
    "\n",
    "Rent_City=driver.find_elements(By.XPATH,'//a[@class=\"notclickb\"]')\n",
    "for i in Rent_City:\n",
    "    city=i.text\n",
    "    City.append(city)\n",
    "\n",
    "\n",
    "\n",
    "Area_Build=driver.find_elements(By.XPATH,'/html/body/div[4]/section[2]/div/section/div/div/div/div[3]/div[1]/div[6]/div[1]/div[1]/div/div/div[*]/div/div[2]/div[3]/div[1]/ul/li[1]/span')\n",
    "for i in Area_Build:\n",
    "    build=i.text\n",
    "    Build_Up_Area.append(build)\n",
    "\n",
    "   \n",
    "    \n",
    "Post=driver.find_elements(By.XPATH,'/html/body/div[4]/section[2]/div/section/div/div/div/div[3]/div[1]/div[6]/div[1]/div[1]/div/div/div[*]/div/div[2]/div[3]/div[1]/ul/li[3]')\n",
    "for i in Post:\n",
    "    post=i.text\n",
    "    Ad_Posted.append(post)\n",
    "    \n",
    "    \n",
    "   \n",
    "    \n",
    "Rent_price=driver.find_elements(By.XPATH,'//div[@class=\"prsg\"]')\n",
    "for i in Rent_price:\n",
    "    price=i.text\n",
    "    Price.append(price)"
   ]
  },
  {
   "cell_type": "code",
   "execution_count": null,
   "id": "477d605c",
   "metadata": {},
   "outputs": [],
   "source": [
    "print(len(Title),len(Address),len(City),len(Build_Up_Area),len(Ad_Posted),len(Price))"
   ]
  },
  {
   "cell_type": "code",
   "execution_count": null,
   "id": "c12fe57b",
   "metadata": {},
   "outputs": [],
   "source": [
    "import pandas as pd\n",
    "df=pd.DataFrame({'Title':Title, 'Address':Address,'City':City,'Build_Up_Area':Build_Up_Area,'Ad_Posted':Ad_Posted,'Price':Price})\n",
    "df"
   ]
  },
  {
   "cell_type": "code",
   "execution_count": null,
   "id": "902a94ac",
   "metadata": {},
   "outputs": [],
   "source": [
    "#Page 62\n",
    "Next_button=driver.find_element(By.CLASS_NAME,\"next\")\n",
    "Next_button.click()"
   ]
  },
  {
   "cell_type": "code",
   "execution_count": null,
   "id": "b0fbb906",
   "metadata": {},
   "outputs": [],
   "source": [
    "Title=[]\n",
    "Address=[]\n",
    "City=[]\n",
    "Build_Up_Area = []\n",
    "Ad_Posted=[]\n",
    "Price=[]"
   ]
  },
  {
   "cell_type": "code",
   "execution_count": null,
   "id": "7ef16656",
   "metadata": {},
   "outputs": [],
   "source": [
    "Rent_title=driver.find_elements(By.XPATH,'//a[@class=\"listtitle notclickb\"]')\n",
    "for i in Rent_title:\n",
    "    title=i.text\n",
    "    Title.append(title)\n",
    "\n",
    "\n",
    "\n",
    "Area_Address=driver.find_elements(By.XPATH,'//h3[@class=\"listloc\"]')\n",
    "for i in Area_Address:\n",
    "    address=i.text\n",
    "    Address.append(address)\n",
    "\n",
    "\n",
    "Rent_City=driver.find_elements(By.XPATH,'//a[@class=\"notclickb\"]')\n",
    "for i in Rent_City:\n",
    "    city=i.text\n",
    "    City.append(city)\n",
    "\n",
    "\n",
    "\n",
    "Area_Build=driver.find_elements(By.XPATH,'/html/body/div[4]/section[2]/div/section/div/div/div/div[3]/div[1]/div[6]/div[1]/div[1]/div/div/div[*]/div/div[2]/div[3]/div[1]/ul/li[1]/span')\n",
    "for i in Area_Build:\n",
    "    build=i.text\n",
    "    Build_Up_Area.append(build)\n",
    "\n",
    "   \n",
    "    \n",
    "Post=driver.find_elements(By.XPATH,'/html/body/div[4]/section[2]/div/section/div/div/div/div[3]/div[1]/div[6]/div[1]/div[1]/div/div/div[*]/div/div[2]/div[3]/div[1]/ul/li[3]')\n",
    "for i in Post:\n",
    "    post=i.text\n",
    "    Ad_Posted.append(post)\n",
    "    \n",
    "    \n",
    "   \n",
    "    \n",
    "Rent_price=driver.find_elements(By.XPATH,'//div[@class=\"prsg\"]')\n",
    "for i in Rent_price:\n",
    "    price=i.text\n",
    "    Price.append(price)"
   ]
  },
  {
   "cell_type": "code",
   "execution_count": null,
   "id": "7a6aebb6",
   "metadata": {},
   "outputs": [],
   "source": [
    "print(len(Title),len(Address),len(City),len(Build_Up_Area),len(Ad_Posted),len(Price))"
   ]
  },
  {
   "cell_type": "code",
   "execution_count": null,
   "id": "24292110",
   "metadata": {},
   "outputs": [],
   "source": [
    "import pandas as pd\n",
    "df=pd.DataFrame({'Title':Title, 'Address':Address,'City':City,'Build_Up_Area':Build_Up_Area,'Ad_Posted':Ad_Posted,'Price':Price})\n",
    "df"
   ]
  },
  {
   "cell_type": "code",
   "execution_count": null,
   "id": "b7c63d38",
   "metadata": {},
   "outputs": [],
   "source": [
    "#Page 63\n",
    "Next_button=driver.find_element(By.CLASS_NAME,\"next\")\n",
    "Next_button.click()"
   ]
  },
  {
   "cell_type": "code",
   "execution_count": null,
   "id": "e5f1bf89",
   "metadata": {},
   "outputs": [],
   "source": [
    "Title=[]\n",
    "Address=[]\n",
    "City=[]\n",
    "Build_Up_Area = []\n",
    "Ad_Posted=[]\n",
    "Price=[]"
   ]
  },
  {
   "cell_type": "code",
   "execution_count": null,
   "id": "c5f16f42",
   "metadata": {},
   "outputs": [],
   "source": [
    "Rent_title=driver.find_elements(By.XPATH,'//a[@class=\"listtitle notclickb\"]')\n",
    "for i in Rent_title:\n",
    "    title=i.text\n",
    "    Title.append(title)\n",
    "\n",
    "\n",
    "\n",
    "Area_Address=driver.find_elements(By.XPATH,'//h3[@class=\"listloc\"]')\n",
    "for i in Area_Address:\n",
    "    address=i.text\n",
    "    Address.append(address)\n",
    "\n",
    "\n",
    "Rent_City=driver.find_elements(By.XPATH,'//a[@class=\"notclickb\"]')\n",
    "for i in Rent_City:\n",
    "    city=i.text\n",
    "    City.append(city)\n",
    "\n",
    "\n",
    "\n",
    "Area_Build=driver.find_elements(By.XPATH,'/html/body/div[4]/section[2]/div/section/div/div/div/div[3]/div[1]/div[6]/div[1]/div[1]/div/div/div[*]/div/div[2]/div[3]/div[1]/ul/li[1]/span')\n",
    "for i in Area_Build:\n",
    "    build=i.text\n",
    "    Build_Up_Area.append(build)\n",
    "\n",
    "   \n",
    "    \n",
    "Post=driver.find_elements(By.XPATH,'/html/body/div[4]/section[2]/div/section/div/div/div/div[3]/div[1]/div[6]/div[1]/div[1]/div/div/div[*]/div/div[2]/div[3]/div[1]/ul/li[3]')\n",
    "for i in Post:\n",
    "    post=i.text\n",
    "    Ad_Posted.append(post)\n",
    "    \n",
    "    \n",
    "   \n",
    "    \n",
    "Rent_price=driver.find_elements(By.XPATH,'//div[@class=\"prsg\"]')\n",
    "for i in Rent_price:\n",
    "    price=i.text\n",
    "    Price.append(price)"
   ]
  },
  {
   "cell_type": "code",
   "execution_count": null,
   "id": "0a03965c",
   "metadata": {},
   "outputs": [],
   "source": [
    "print(len(Title),len(Address),len(City),len(Build_Up_Area),len(Ad_Posted),len(Price))"
   ]
  },
  {
   "cell_type": "code",
   "execution_count": null,
   "id": "a899647d",
   "metadata": {},
   "outputs": [],
   "source": [
    "import pandas as pd\n",
    "df=pd.DataFrame({'Title':Title, 'Address':Address,'City':City,'Build_Up_Area':Build_Up_Area,'Ad_Posted':Ad_Posted,'Price':Price})\n",
    "df"
   ]
  },
  {
   "cell_type": "code",
   "execution_count": null,
   "id": "c2990560",
   "metadata": {},
   "outputs": [],
   "source": [
    "#Page 64\n",
    "Next_button=driver.find_element(By.CLASS_NAME,\"next\")\n",
    "Next_button.click()"
   ]
  },
  {
   "cell_type": "code",
   "execution_count": null,
   "id": "1988a994",
   "metadata": {},
   "outputs": [],
   "source": [
    "Title=[]\n",
    "Address=[]\n",
    "City=[]\n",
    "Build_Up_Area = []\n",
    "Ad_Posted=[]\n",
    "Price=[]"
   ]
  },
  {
   "cell_type": "code",
   "execution_count": null,
   "id": "df7a574e",
   "metadata": {},
   "outputs": [],
   "source": [
    "Rent_title=driver.find_elements(By.XPATH,'//a[@class=\"listtitle notclickb\"]')\n",
    "for i in Rent_title:\n",
    "    title=i.text\n",
    "    Title.append(title)\n",
    "\n",
    "\n",
    "\n",
    "Area_Address=driver.find_elements(By.XPATH,'//h3[@class=\"listloc\"]')\n",
    "for i in Area_Address:\n",
    "    address=i.text\n",
    "    Address.append(address)\n",
    "\n",
    "\n",
    "Rent_City=driver.find_elements(By.XPATH,'//a[@class=\"notclickb\"]')\n",
    "for i in Rent_City:\n",
    "    city=i.text\n",
    "    City.append(city)\n",
    "\n",
    "\n",
    "\n",
    "Area_Build=driver.find_elements(By.XPATH,'/html/body/div[4]/section[2]/div/section/div/div/div/div[3]/div[1]/div[6]/div[1]/div[1]/div/div/div[*]/div/div[2]/div[3]/div[1]/ul/li[1]/span')\n",
    "for i in Area_Build:\n",
    "    build=i.text\n",
    "    Build_Up_Area.append(build)\n",
    "\n",
    "   \n",
    "    \n",
    "Post=driver.find_elements(By.XPATH,'/html/body/div[4]/section[2]/div/section/div/div/div/div[3]/div[1]/div[6]/div[1]/div[1]/div/div/div[*]/div/div[2]/div[3]/div[1]/ul/li[3]')\n",
    "for i in Post:\n",
    "    post=i.text\n",
    "    Ad_Posted.append(post)\n",
    "    \n",
    "    \n",
    "   \n",
    "    \n",
    "Rent_price=driver.find_elements(By.XPATH,'//div[@class=\"prsg\"]')\n",
    "for i in Rent_price:\n",
    "    price=i.text\n",
    "    Price.append(price)"
   ]
  },
  {
   "cell_type": "code",
   "execution_count": null,
   "id": "3f7b84e2",
   "metadata": {},
   "outputs": [],
   "source": [
    "print(len(Title),len(Address),len(City),len(Build_Up_Area),len(Ad_Posted),len(Price))"
   ]
  },
  {
   "cell_type": "code",
   "execution_count": null,
   "id": "9c4eb292",
   "metadata": {},
   "outputs": [],
   "source": [
    "import pandas as pd\n",
    "df=pd.DataFrame({'Title':Title, 'Address':Address,'City':City,'Build_Up_Area':Build_Up_Area,'Ad_Posted':Ad_Posted,'Price':Price})\n",
    "df"
   ]
  },
  {
   "cell_type": "code",
   "execution_count": null,
   "id": "d10e0d48",
   "metadata": {},
   "outputs": [],
   "source": [
    "#Page 65\n",
    "Next_button=driver.find_element(By.CLASS_NAME,\"next\")\n",
    "Next_button.click()"
   ]
  },
  {
   "cell_type": "code",
   "execution_count": null,
   "id": "bb9b330e",
   "metadata": {},
   "outputs": [],
   "source": [
    "Title=[]\n",
    "Address=[]\n",
    "City=[]\n",
    "Build_Up_Area = []\n",
    "Ad_Posted=[]\n",
    "Price=[]"
   ]
  },
  {
   "cell_type": "code",
   "execution_count": null,
   "id": "ff3d31c5",
   "metadata": {},
   "outputs": [],
   "source": [
    "Rent_title=driver.find_elements(By.XPATH,'//a[@class=\"listtitle notclickb\"]')\n",
    "for i in Rent_title:\n",
    "    title=i.text\n",
    "    Title.append(title)\n",
    "\n",
    "\n",
    "\n",
    "Area_Address=driver.find_elements(By.XPATH,'//h3[@class=\"listloc\"]')\n",
    "for i in Area_Address:\n",
    "    address=i.text\n",
    "    Address.append(address)\n",
    "\n",
    "\n",
    "Rent_City=driver.find_elements(By.XPATH,'//a[@class=\"notclickb\"]')\n",
    "for i in Rent_City:\n",
    "    city=i.text\n",
    "    City.append(city)\n",
    "\n",
    "\n",
    "\n",
    "Area_Build=driver.find_elements(By.XPATH,'/html/body/div[4]/section[2]/div/section/div/div/div/div[3]/div[1]/div[6]/div[1]/div[1]/div/div/div[*]/div/div[2]/div[3]/div[1]/ul/li[1]/span')\n",
    "for i in Area_Build:\n",
    "    build=i.text\n",
    "    Build_Up_Area.append(build)\n",
    "\n",
    "   \n",
    "    \n",
    "Post=driver.find_elements(By.XPATH,'/html/body/div[4]/section[2]/div/section/div/div/div/div[3]/div[1]/div[6]/div[1]/div[1]/div/div/div[*]/div/div[2]/div[3]/div[1]/ul/li[3]')\n",
    "for i in Post:\n",
    "    post=i.text\n",
    "    Ad_Posted.append(post)\n",
    "    \n",
    "    \n",
    "   \n",
    "    \n",
    "Rent_price=driver.find_elements(By.XPATH,'//div[@class=\"prsg\"]')\n",
    "for i in Rent_price:\n",
    "    price=i.text\n",
    "    Price.append(price)"
   ]
  },
  {
   "cell_type": "code",
   "execution_count": null,
   "id": "b038ce0e",
   "metadata": {},
   "outputs": [],
   "source": [
    "print(len(Title),len(Address),len(City),len(Build_Up_Area),len(Ad_Posted),len(Price))"
   ]
  },
  {
   "cell_type": "code",
   "execution_count": null,
   "id": "50c4a522",
   "metadata": {},
   "outputs": [],
   "source": [
    "import pandas as pd\n",
    "df=pd.DataFrame({'Title':Title, 'Address':Address,'City':City,'Build_Up_Area':Build_Up_Area,'Ad_Posted':Ad_Posted,'Price':Price})\n",
    "df"
   ]
  },
  {
   "cell_type": "code",
   "execution_count": null,
   "id": "b706e74f",
   "metadata": {},
   "outputs": [],
   "source": [
    "#Page 66\n",
    "Next_button=driver.find_element(By.CLASS_NAME,\"next\")\n",
    "Next_button.click()"
   ]
  },
  {
   "cell_type": "code",
   "execution_count": null,
   "id": "14953f9a",
   "metadata": {},
   "outputs": [],
   "source": [
    "Title=[]\n",
    "Address=[]\n",
    "City=[]\n",
    "Build_Up_Area = []\n",
    "Ad_Posted=[]\n",
    "Price=[]"
   ]
  },
  {
   "cell_type": "code",
   "execution_count": null,
   "id": "794ae42d",
   "metadata": {},
   "outputs": [],
   "source": [
    "Rent_title=driver.find_elements(By.XPATH,'//a[@class=\"listtitle notclickb\"]')\n",
    "for i in Rent_title:\n",
    "    title=i.text\n",
    "    Title.append(title)\n",
    "\n",
    "\n",
    "\n",
    "Area_Address=driver.find_elements(By.XPATH,'//h3[@class=\"listloc\"]')\n",
    "for i in Area_Address:\n",
    "    address=i.text\n",
    "    Address.append(address)\n",
    "\n",
    "\n",
    "Rent_City=driver.find_elements(By.XPATH,'//a[@class=\"notclickb\"]')\n",
    "for i in Rent_City:\n",
    "    city=i.text\n",
    "    City.append(city)\n",
    "\n",
    "\n",
    "\n",
    "Area_Build=driver.find_elements(By.XPATH,'/html/body/div[4]/section[2]/div/section/div/div/div/div[3]/div[1]/div[6]/div[1]/div[1]/div/div/div[*]/div/div[2]/div[3]/div[1]/ul/li[1]/span')\n",
    "for i in Area_Build:\n",
    "    build=i.text\n",
    "    Build_Up_Area.append(build)\n",
    "\n",
    "   \n",
    "    \n",
    "Post=driver.find_elements(By.XPATH,'/html/body/div[4]/section[2]/div/section/div/div/div/div[3]/div[1]/div[6]/div[1]/div[1]/div/div/div[*]/div/div[2]/div[3]/div[1]/ul/li[3]')\n",
    "for i in Post:\n",
    "    post=i.text\n",
    "    Ad_Posted.append(post)\n",
    "    \n",
    "    \n",
    "   \n",
    "    \n",
    "Rent_price=driver.find_elements(By.XPATH,'//div[@class=\"prsg\"]')\n",
    "for i in Rent_price:\n",
    "    price=i.text\n",
    "    Price.append(price)"
   ]
  },
  {
   "cell_type": "code",
   "execution_count": null,
   "id": "8c926331",
   "metadata": {},
   "outputs": [],
   "source": [
    "print(len(Title),len(Address),len(City),len(Build_Up_Area),len(Ad_Posted),len(Price))"
   ]
  },
  {
   "cell_type": "code",
   "execution_count": null,
   "id": "680d1b8b",
   "metadata": {},
   "outputs": [],
   "source": [
    "import pandas as pd\n",
    "df=pd.DataFrame({'Title':Title, 'Address':Address,'City':City,'Build_Up_Area':Build_Up_Area,'Ad_Posted':Ad_Posted,'Price':Price})\n",
    "df"
   ]
  },
  {
   "cell_type": "code",
   "execution_count": null,
   "id": "aa7b4083",
   "metadata": {},
   "outputs": [],
   "source": [
    "#Page 67\n",
    "Next_button=driver.find_element(By.CLASS_NAME,\"next\")\n",
    "Next_button.click()"
   ]
  },
  {
   "cell_type": "code",
   "execution_count": null,
   "id": "bba6356a",
   "metadata": {},
   "outputs": [],
   "source": [
    "Title=[]\n",
    "Address=[]\n",
    "City=[]\n",
    "Build_Up_Area = []\n",
    "Ad_Posted=[]\n",
    "Price=[]"
   ]
  },
  {
   "cell_type": "code",
   "execution_count": null,
   "id": "efbd04eb",
   "metadata": {},
   "outputs": [],
   "source": [
    "Rent_title=driver.find_elements(By.XPATH,'//a[@class=\"listtitle notclickb\"]')\n",
    "for i in Rent_title:\n",
    "    title=i.text\n",
    "    Title.append(title)\n",
    "\n",
    "\n",
    "\n",
    "Area_Address=driver.find_elements(By.XPATH,'//h3[@class=\"listloc\"]')\n",
    "for i in Area_Address:\n",
    "    address=i.text\n",
    "    Address.append(address)\n",
    "\n",
    "\n",
    "Rent_City=driver.find_elements(By.XPATH,'//a[@class=\"notclickb\"]')\n",
    "for i in Rent_City:\n",
    "    city=i.text\n",
    "    City.append(city)\n",
    "\n",
    "\n",
    "\n",
    "Area_Build=driver.find_elements(By.XPATH,'/html/body/div[4]/section[2]/div/section/div/div/div/div[3]/div[1]/div[6]/div[1]/div[1]/div/div/div[*]/div/div[2]/div[3]/div[1]/ul/li[1]/span')\n",
    "for i in Area_Build:\n",
    "    build=i.text\n",
    "    Build_Up_Area.append(build)\n",
    "\n",
    "   \n",
    "    \n",
    "Post=driver.find_elements(By.XPATH,'/html/body/div[4]/section[2]/div/section/div/div/div/div[3]/div[1]/div[6]/div[1]/div[1]/div/div/div[*]/div/div[2]/div[3]/div[1]/ul/li[3]')\n",
    "for i in Post:\n",
    "    post=i.text\n",
    "    Ad_Posted.append(post)\n",
    "    \n",
    "    \n",
    "   \n",
    "    \n",
    "Rent_price=driver.find_elements(By.XPATH,'//div[@class=\"prsg\"]')\n",
    "for i in Rent_price:\n",
    "    price=i.text\n",
    "    Price.append(price)"
   ]
  },
  {
   "cell_type": "code",
   "execution_count": null,
   "id": "ac61cd8f",
   "metadata": {},
   "outputs": [],
   "source": [
    "print(len(Title),len(Address),len(City),len(Build_Up_Area),len(Ad_Posted),len(Price))"
   ]
  },
  {
   "cell_type": "code",
   "execution_count": null,
   "id": "f2cca445",
   "metadata": {},
   "outputs": [],
   "source": [
    "import pandas as pd\n",
    "df=pd.DataFrame({'Title':Title, 'Address':Address,'City':City,'Build_Up_Area':Build_Up_Area,'Ad_Posted':Ad_Posted,'Price':Price})\n",
    "df"
   ]
  },
  {
   "cell_type": "code",
   "execution_count": null,
   "id": "b6df8460",
   "metadata": {},
   "outputs": [],
   "source": [
    "#Page 68\n",
    "Next_button=driver.find_element(By.CLASS_NAME,\"next\")\n",
    "Next_button.click()"
   ]
  },
  {
   "cell_type": "code",
   "execution_count": null,
   "id": "c1880408",
   "metadata": {},
   "outputs": [],
   "source": [
    "Title=[]\n",
    "Address=[]\n",
    "City=[]\n",
    "Build_Up_Area = []\n",
    "Ad_Posted=[]\n",
    "Price=[]"
   ]
  },
  {
   "cell_type": "code",
   "execution_count": null,
   "id": "6c787855",
   "metadata": {},
   "outputs": [],
   "source": [
    "Rent_title=driver.find_elements(By.XPATH,'//a[@class=\"listtitle notclickb\"]')\n",
    "for i in Rent_title:\n",
    "    title=i.text\n",
    "    Title.append(title)\n",
    "\n",
    "\n",
    "\n",
    "Area_Address=driver.find_elements(By.XPATH,'//h3[@class=\"listloc\"]')\n",
    "for i in Area_Address:\n",
    "    address=i.text\n",
    "    Address.append(address)\n",
    "\n",
    "\n",
    "Rent_City=driver.find_elements(By.XPATH,'//a[@class=\"notclickb\"]')\n",
    "for i in Rent_City:\n",
    "    city=i.text\n",
    "    City.append(city)\n",
    "\n",
    "\n",
    "\n",
    "Area_Build=driver.find_elements(By.XPATH,'/html/body/div[4]/section[2]/div/section/div/div/div/div[3]/div[1]/div[6]/div[1]/div[1]/div/div/div[*]/div/div[2]/div[3]/div[1]/ul/li[1]/span')\n",
    "for i in Area_Build:\n",
    "    build=i.text\n",
    "    Build_Up_Area.append(build)\n",
    "\n",
    "   \n",
    "    \n",
    "Post=driver.find_elements(By.XPATH,'/html/body/div[4]/section[2]/div/section/div/div/div/div[3]/div[1]/div[6]/div[1]/div[1]/div/div/div[*]/div/div[2]/div[3]/div[1]/ul/li[3]')\n",
    "for i in Post:\n",
    "    post=i.text\n",
    "    Ad_Posted.append(post)\n",
    "    \n",
    "    \n",
    "   \n",
    "    \n",
    "Rent_price=driver.find_elements(By.XPATH,'//div[@class=\"prsg\"]')\n",
    "for i in Rent_price:\n",
    "    price=i.text\n",
    "    Price.append(price)"
   ]
  },
  {
   "cell_type": "code",
   "execution_count": null,
   "id": "ae90861e",
   "metadata": {},
   "outputs": [],
   "source": [
    "print(len(Title),len(Address),len(City),len(Build_Up_Area),len(Ad_Posted),len(Price))"
   ]
  },
  {
   "cell_type": "code",
   "execution_count": null,
   "id": "b4d548dc",
   "metadata": {},
   "outputs": [],
   "source": [
    "import pandas as pd\n",
    "df=pd.DataFrame({'Title':Title, 'Address':Address,'City':City,'Build_Up_Area':Build_Up_Area,'Ad_Posted':Ad_Posted,'Price':Price})\n",
    "df"
   ]
  },
  {
   "cell_type": "code",
   "execution_count": null,
   "id": "37ce3b52",
   "metadata": {},
   "outputs": [],
   "source": [
    "#Page 69\n",
    "Next_button=driver.find_element(By.CLASS_NAME,\"next\")\n",
    "Next_button.click()"
   ]
  },
  {
   "cell_type": "code",
   "execution_count": null,
   "id": "b6eb0271",
   "metadata": {},
   "outputs": [],
   "source": [
    "Title=[]\n",
    "Address=[]\n",
    "City=[]\n",
    "Build_Up_Area = []\n",
    "Ad_Posted=[]\n",
    "Price=[]"
   ]
  },
  {
   "cell_type": "code",
   "execution_count": null,
   "id": "02e6e38b",
   "metadata": {},
   "outputs": [],
   "source": [
    "Rent_title=driver.find_elements(By.XPATH,'//a[@class=\"listtitle notclickb\"]')\n",
    "for i in Rent_title:\n",
    "    title=i.text\n",
    "    Title.append(title)\n",
    "\n",
    "\n",
    "\n",
    "Area_Address=driver.find_elements(By.XPATH,'//h3[@class=\"listloc\"]')\n",
    "for i in Area_Address:\n",
    "    address=i.text\n",
    "    Address.append(address)\n",
    "\n",
    "\n",
    "Rent_City=driver.find_elements(By.XPATH,'//a[@class=\"notclickb\"]')\n",
    "for i in Rent_City:\n",
    "    city=i.text\n",
    "    City.append(city)\n",
    "\n",
    "\n",
    "\n",
    "Area_Build=driver.find_elements(By.XPATH,'/html/body/div[4]/section[2]/div/section/div/div/div/div[3]/div[1]/div[6]/div[1]/div[1]/div/div/div[*]/div/div[2]/div[3]/div[1]/ul/li[1]/span')\n",
    "for i in Area_Build:\n",
    "    build=i.text\n",
    "    Build_Up_Area.append(build)\n",
    "\n",
    "   \n",
    "    \n",
    "Post=driver.find_elements(By.XPATH,'/html/body/div[4]/section[2]/div/section/div/div/div/div[3]/div[1]/div[6]/div[1]/div[1]/div/div/div[*]/div/div[2]/div[3]/div[1]/ul/li[3]')\n",
    "for i in Post:\n",
    "    post=i.text\n",
    "    Ad_Posted.append(post)\n",
    "    \n",
    "    \n",
    "   \n",
    "    \n",
    "Rent_price=driver.find_elements(By.XPATH,'//div[@class=\"prsg\"]')\n",
    "for i in Rent_price:\n",
    "    price=i.text\n",
    "    Price.append(price)"
   ]
  },
  {
   "cell_type": "code",
   "execution_count": null,
   "id": "8d8f99df",
   "metadata": {},
   "outputs": [],
   "source": [
    "print(len(Title),len(Address),len(City),len(Build_Up_Area),len(Ad_Posted),len(Price))"
   ]
  },
  {
   "cell_type": "code",
   "execution_count": null,
   "id": "fab0759f",
   "metadata": {},
   "outputs": [],
   "source": [
    "import pandas as pd\n",
    "df=pd.DataFrame({'Title':Title, 'Address':Address,'City':City,'Build_Up_Area':Build_Up_Area,'Ad_Posted':Ad_Posted,'Price':Price})\n",
    "df"
   ]
  },
  {
   "cell_type": "code",
   "execution_count": null,
   "id": "cf91fc0e",
   "metadata": {},
   "outputs": [],
   "source": [
    "#Page 70\n",
    "Next_button=driver.find_element(By.CLASS_NAME,\"next\")\n",
    "Next_button.click()"
   ]
  },
  {
   "cell_type": "code",
   "execution_count": null,
   "id": "412ea5dd",
   "metadata": {},
   "outputs": [],
   "source": [
    "Title=[]\n",
    "Address=[]\n",
    "City=[]\n",
    "Build_Up_Area = []\n",
    "Ad_Posted=[]\n",
    "Price=[]"
   ]
  },
  {
   "cell_type": "code",
   "execution_count": null,
   "id": "02f23eab",
   "metadata": {},
   "outputs": [],
   "source": [
    "Rent_title=driver.find_elements(By.XPATH,'//a[@class=\"listtitle notclickb\"]')\n",
    "for i in Rent_title:\n",
    "    title=i.text\n",
    "    Title.append(title)\n",
    "\n",
    "\n",
    "\n",
    "Area_Address=driver.find_elements(By.XPATH,'//h3[@class=\"listloc\"]')\n",
    "for i in Area_Address:\n",
    "    address=i.text\n",
    "    Address.append(address)\n",
    "\n",
    "\n",
    "Rent_City=driver.find_elements(By.XPATH,'//a[@class=\"notclickb\"]')\n",
    "for i in Rent_City:\n",
    "    city=i.text\n",
    "    City.append(city)\n",
    "\n",
    "\n",
    "\n",
    "Area_Build=driver.find_elements(By.XPATH,'/html/body/div[4]/section[2]/div/section/div/div/div/div[3]/div[1]/div[6]/div[1]/div[1]/div/div/div[*]/div/div[2]/div[3]/div[1]/ul/li[1]/span')\n",
    "for i in Area_Build:\n",
    "    build=i.text\n",
    "    Build_Up_Area.append(build)\n",
    "\n",
    "   \n",
    "    \n",
    "Post=driver.find_elements(By.XPATH,'/html/body/div[4]/section[2]/div/section/div/div/div/div[3]/div[1]/div[6]/div[1]/div[1]/div/div/div[*]/div/div[2]/div[3]/div[1]/ul/li[3]')\n",
    "for i in Post:\n",
    "    post=i.text\n",
    "    Ad_Posted.append(post)\n",
    "    \n",
    "    \n",
    "   \n",
    "    \n",
    "Rent_price=driver.find_elements(By.XPATH,'//div[@class=\"prsg\"]')\n",
    "for i in Rent_price:\n",
    "    price=i.text\n",
    "    Price.append(price)"
   ]
  },
  {
   "cell_type": "code",
   "execution_count": null,
   "id": "493eb571",
   "metadata": {},
   "outputs": [],
   "source": [
    "print(len(Title),len(Address),len(City),len(Build_Up_Area),len(Ad_Posted),len(Price))"
   ]
  },
  {
   "cell_type": "code",
   "execution_count": null,
   "id": "79447923",
   "metadata": {},
   "outputs": [],
   "source": [
    "import pandas as pd\n",
    "df=pd.DataFrame({'Title':Title, 'Address':Address,'City':City,'Build_Up_Area':Build_Up_Area,'Ad_Posted':Ad_Posted,'Price':Price})\n",
    "df"
   ]
  },
  {
   "cell_type": "code",
   "execution_count": null,
   "id": "b5fe4151",
   "metadata": {},
   "outputs": [],
   "source": [
    "#Page 71\n",
    "Next_button=driver.find_element(By.CLASS_NAME,\"next\")\n",
    "Next_button.click()"
   ]
  },
  {
   "cell_type": "code",
   "execution_count": null,
   "id": "c08f3bcd",
   "metadata": {},
   "outputs": [],
   "source": [
    "Title=[]\n",
    "Address=[]\n",
    "City=[]\n",
    "Build_Up_Area = []\n",
    "Ad_Posted=[]\n",
    "Price=[]"
   ]
  },
  {
   "cell_type": "code",
   "execution_count": null,
   "id": "052ef0c4",
   "metadata": {},
   "outputs": [],
   "source": [
    "Rent_title=driver.find_elements(By.XPATH,'//a[@class=\"listtitle notclickb\"]')\n",
    "for i in Rent_title:\n",
    "    title=i.text\n",
    "    Title.append(title)\n",
    "\n",
    "\n",
    "\n",
    "Area_Address=driver.find_elements(By.XPATH,'//h3[@class=\"listloc\"]')\n",
    "for i in Area_Address:\n",
    "    address=i.text\n",
    "    Address.append(address)\n",
    "\n",
    "\n",
    "Rent_City=driver.find_elements(By.XPATH,'//a[@class=\"notclickb\"]')\n",
    "for i in Rent_City:\n",
    "    city=i.text\n",
    "    City.append(city)\n",
    "\n",
    "\n",
    "\n",
    "Area_Build=driver.find_elements(By.XPATH,'/html/body/div[4]/section[2]/div/section/div/div/div/div[3]/div[1]/div[6]/div[1]/div[1]/div/div/div[*]/div/div[2]/div[3]/div[1]/ul/li[1]/span')\n",
    "for i in Area_Build:\n",
    "    build=i.text\n",
    "    Build_Up_Area.append(build)\n",
    "\n",
    "   \n",
    "    \n",
    "Post=driver.find_elements(By.XPATH,'/html/body/div[4]/section[2]/div/section/div/div/div/div[3]/div[1]/div[6]/div[1]/div[1]/div/div/div[*]/div/div[2]/div[3]/div[1]/ul/li[3]')\n",
    "for i in Post:\n",
    "    post=i.text\n",
    "    Ad_Posted.append(post)\n",
    "    \n",
    "    \n",
    "   \n",
    "    \n",
    "Rent_price=driver.find_elements(By.XPATH,'//div[@class=\"prsg\"]')\n",
    "for i in Rent_price:\n",
    "    price=i.text\n",
    "    Price.append(price)"
   ]
  },
  {
   "cell_type": "code",
   "execution_count": null,
   "id": "45c3a743",
   "metadata": {},
   "outputs": [],
   "source": [
    "print(len(Title),len(Address),len(City),len(Build_Up_Area),len(Ad_Posted),len(Price))"
   ]
  },
  {
   "cell_type": "code",
   "execution_count": null,
   "id": "c1f1c6cc",
   "metadata": {},
   "outputs": [],
   "source": [
    "import pandas as pd\n",
    "df=pd.DataFrame({'Title':Title, 'Address':Address,'City':City,'Build_Up_Area':Build_Up_Area,'Ad_Posted':Ad_Posted,'Price':Price})\n",
    "df"
   ]
  },
  {
   "cell_type": "code",
   "execution_count": null,
   "id": "1571391e",
   "metadata": {},
   "outputs": [],
   "source": [
    "#Page 72\n",
    "Next_button=driver.find_element(By.CLASS_NAME,\"next\")\n",
    "Next_button.click()"
   ]
  },
  {
   "cell_type": "code",
   "execution_count": null,
   "id": "022ac6dc",
   "metadata": {},
   "outputs": [],
   "source": [
    "Title=[]\n",
    "Address=[]\n",
    "City=[]\n",
    "Build_Up_Area = []\n",
    "Ad_Posted=[]\n",
    "Price=[]"
   ]
  },
  {
   "cell_type": "code",
   "execution_count": null,
   "id": "40c3c2db",
   "metadata": {},
   "outputs": [],
   "source": [
    "Rent_title=driver.find_elements(By.XPATH,'//a[@class=\"listtitle notclickb\"]')\n",
    "for i in Rent_title:\n",
    "    title=i.text\n",
    "    Title.append(title)\n",
    "\n",
    "\n",
    "\n",
    "Area_Address=driver.find_elements(By.XPATH,'//h3[@class=\"listloc\"]')\n",
    "for i in Area_Address:\n",
    "    address=i.text\n",
    "    Address.append(address)\n",
    "\n",
    "\n",
    "Rent_City=driver.find_elements(By.XPATH,'//a[@class=\"notclickb\"]')\n",
    "for i in Rent_City:\n",
    "    city=i.text\n",
    "    City.append(city)\n",
    "\n",
    "\n",
    "\n",
    "Area_Build=driver.find_elements(By.XPATH,'/html/body/div[4]/section[2]/div/section/div/div/div/div[3]/div[1]/div[6]/div[1]/div[1]/div/div/div[*]/div/div[2]/div[3]/div[1]/ul/li[1]/span')\n",
    "for i in Area_Build:\n",
    "    build=i.text\n",
    "    Build_Up_Area.append(build)\n",
    "\n",
    "   \n",
    "    \n",
    "Post=driver.find_elements(By.XPATH,'/html/body/div[4]/section[2]/div/section/div/div/div/div[3]/div[1]/div[6]/div[1]/div[1]/div/div/div[*]/div/div[2]/div[3]/div[1]/ul/li[3]')\n",
    "for i in Post:\n",
    "    post=i.text\n",
    "    Ad_Posted.append(post)\n",
    "    \n",
    "    \n",
    "   \n",
    "    \n",
    "Rent_price=driver.find_elements(By.XPATH,'//div[@class=\"prsg\"]')\n",
    "for i in Rent_price:\n",
    "    price=i.text\n",
    "    Price.append(price)"
   ]
  },
  {
   "cell_type": "code",
   "execution_count": null,
   "id": "7af6a0e2",
   "metadata": {},
   "outputs": [],
   "source": [
    "print(len(Title),len(Address),len(City),len(Build_Up_Area),len(Ad_Posted),len(Price))"
   ]
  },
  {
   "cell_type": "code",
   "execution_count": null,
   "id": "16e4dd22",
   "metadata": {},
   "outputs": [],
   "source": [
    "import pandas as pd\n",
    "df=pd.DataFrame({'Title':Title, 'Address':Address,'City':City,'Build_Up_Area':Build_Up_Area,'Ad_Posted':Ad_Posted,'Price':Price})\n",
    "df"
   ]
  },
  {
   "cell_type": "code",
   "execution_count": null,
   "id": "94e8f81c",
   "metadata": {},
   "outputs": [],
   "source": []
  },
  {
   "cell_type": "code",
   "execution_count": null,
   "id": "03daf60c",
   "metadata": {},
   "outputs": [],
   "source": [
    "#Page 73\n",
    "Next_button=driver.find_element(By.CLASS_NAME,\"next\")\n",
    "Next_button.click()"
   ]
  },
  {
   "cell_type": "code",
   "execution_count": null,
   "id": "99e72668",
   "metadata": {},
   "outputs": [],
   "source": [
    "Title=[]\n",
    "Address=[]\n",
    "City=[]\n",
    "Build_Up_Area = []\n",
    "Ad_Posted=[]\n",
    "Price=[]"
   ]
  },
  {
   "cell_type": "code",
   "execution_count": null,
   "id": "e10957c0",
   "metadata": {},
   "outputs": [],
   "source": [
    "Rent_title=driver.find_elements(By.XPATH,'//a[@class=\"listtitle notclickb\"]')\n",
    "for i in Rent_title:\n",
    "    title=i.text\n",
    "    Title.append(title)\n",
    "\n",
    "\n",
    "\n",
    "Area_Address=driver.find_elements(By.XPATH,'//h3[@class=\"listloc\"]')\n",
    "for i in Area_Address:\n",
    "    address=i.text\n",
    "    Address.append(address)\n",
    "\n",
    "\n",
    "Rent_City=driver.find_elements(By.XPATH,'//a[@class=\"notclickb\"]')\n",
    "for i in Rent_City:\n",
    "    city=i.text\n",
    "    City.append(city)\n",
    "\n",
    "\n",
    "\n",
    "Area_Build=driver.find_elements(By.XPATH,'/html/body/div[4]/section[2]/div/section/div/div/div/div[3]/div[1]/div[6]/div[1]/div[1]/div/div/div[*]/div/div[2]/div[3]/div[1]/ul/li[1]/span')\n",
    "for i in Area_Build:\n",
    "    build=i.text\n",
    "    Build_Up_Area.append(build)\n",
    "\n",
    "   \n",
    "    \n",
    "Post=driver.find_elements(By.XPATH,'/html/body/div[4]/section[2]/div/section/div/div/div/div[3]/div[1]/div[6]/div[1]/div[1]/div/div/div[*]/div/div[2]/div[3]/div[1]/ul/li[3]')\n",
    "for i in Post:\n",
    "    post=i.text\n",
    "    Ad_Posted.append(post)\n",
    "    \n",
    "    \n",
    "   \n",
    "    \n",
    "Rent_price=driver.find_elements(By.XPATH,'//div[@class=\"prsg\"]')\n",
    "for i in Rent_price:\n",
    "    price=i.text\n",
    "    Price.append(price)"
   ]
  },
  {
   "cell_type": "code",
   "execution_count": null,
   "id": "c9705441",
   "metadata": {},
   "outputs": [],
   "source": [
    "print(len(Title),len(Address),len(City),len(Build_Up_Area),len(Ad_Posted),len(Price))"
   ]
  },
  {
   "cell_type": "code",
   "execution_count": null,
   "id": "0d870258",
   "metadata": {},
   "outputs": [],
   "source": [
    "import pandas as pd\n",
    "df=pd.DataFrame({'Title':Title, 'Address':Address,'City':City,'Build_Up_Area':Build_Up_Area,'Ad_Posted':Ad_Posted,'Price':Price})\n",
    "df"
   ]
  },
  {
   "cell_type": "code",
   "execution_count": null,
   "id": "096cdc23",
   "metadata": {},
   "outputs": [],
   "source": []
  },
  {
   "cell_type": "code",
   "execution_count": null,
   "id": "0921c45b",
   "metadata": {},
   "outputs": [],
   "source": [
    "#Page 74\n",
    "Next_button=driver.find_element(By.CLASS_NAME,\"next\")\n",
    "Next_button.click()"
   ]
  },
  {
   "cell_type": "code",
   "execution_count": null,
   "id": "fb3679b5",
   "metadata": {},
   "outputs": [],
   "source": [
    "Title=[]\n",
    "Address=[]\n",
    "City=[]\n",
    "Build_Up_Area = []\n",
    "Ad_Posted=[]\n",
    "Price=[]"
   ]
  },
  {
   "cell_type": "code",
   "execution_count": null,
   "id": "2099a5b2",
   "metadata": {},
   "outputs": [],
   "source": [
    "Rent_title=driver.find_elements(By.XPATH,'//a[@class=\"listtitle notclickb\"]')\n",
    "for i in Rent_title[0:19]:\n",
    "    title=i.text\n",
    "    Title.append(title)\n",
    "\n",
    "\n",
    "\n",
    "Area_Address=driver.find_elements(By.XPATH,'//h3[@class=\"listloc\"]')\n",
    "for i in Area_Address[0:19]:\n",
    "    address=i.text\n",
    "    Address.append(address)\n",
    "\n",
    "\n",
    "Rent_City=driver.find_elements(By.XPATH,'//a[@class=\"notclickb\"]')\n",
    "for i in Rent_City[0:19]:\n",
    "    city=i.text\n",
    "    City.append(city)\n",
    "\n",
    "\n",
    "\n",
    "Area_Build=driver.find_elements(By.XPATH,'/html/body/div[4]/section[2]/div/section/div/div/div/div[3]/div[1]/div[6]/div[1]/div[1]/div/div/div[*]/div/div[2]/div[3]/div[1]/ul/li[1]/span')\n",
    "for i in Area_Build[0:19]:\n",
    "    build=i.text\n",
    "    Build_Up_Area.append(build)\n",
    "\n",
    "   \n",
    "    \n",
    "Post=driver.find_elements(By.XPATH,'/html/body/div[4]/section[2]/div/section/div/div/div/div[3]/div[1]/div[6]/div[1]/div[1]/div/div/div[*]/div/div[2]/div[3]/div[1]/ul/li[3]')\n",
    "for i in Post[0:19]:\n",
    "    post=i.text\n",
    "    Ad_Posted.append(post)\n",
    "    \n",
    "    \n",
    "   \n",
    "    \n",
    "Rent_price=driver.find_elements(By.XPATH,'//div[@class=\"prsg\"]')\n",
    "for i in Rent_price[0:19]:\n",
    "    price=i.text\n",
    "    Price.append(price)"
   ]
  },
  {
   "cell_type": "code",
   "execution_count": null,
   "id": "2e4655db",
   "metadata": {},
   "outputs": [],
   "source": [
    "print(len(Title),len(Address),len(City),len(Build_Up_Area),len(Ad_Posted),len(Price))"
   ]
  },
  {
   "cell_type": "code",
   "execution_count": null,
   "id": "8e3dc2ae",
   "metadata": {},
   "outputs": [],
   "source": [
    "import pandas as pd\n",
    "df=pd.DataFrame({'Title':Title, 'Address':Address,'City':City,'Build_Up_Area':Build_Up_Area,'Ad_Posted':Ad_Posted,'Price':Price})\n",
    "df"
   ]
  },
  {
   "cell_type": "code",
   "execution_count": null,
   "id": "726cd27c",
   "metadata": {},
   "outputs": [],
   "source": []
  },
  {
   "cell_type": "code",
   "execution_count": null,
   "id": "3d216e82",
   "metadata": {},
   "outputs": [],
   "source": [
    "#Page 75\n",
    "Next_button=driver.find_element(By.CLASS_NAME,\"next\")\n",
    "Next_button.click()"
   ]
  },
  {
   "cell_type": "code",
   "execution_count": null,
   "id": "70e18498",
   "metadata": {},
   "outputs": [],
   "source": [
    "Title=[]\n",
    "Address=[]\n",
    "City=[]\n",
    "Build_Up_Area = []\n",
    "Ad_Posted=[]\n",
    "Price=[]"
   ]
  },
  {
   "cell_type": "code",
   "execution_count": null,
   "id": "f77b84fc",
   "metadata": {},
   "outputs": [],
   "source": [
    "Rent_title=driver.find_elements(By.XPATH,'//a[@class=\"listtitle notclickb\"]')\n",
    "for i in Rent_title:\n",
    "    title=i.text\n",
    "    Title.append(title)\n",
    "\n",
    "\n",
    "\n",
    "Area_Address=driver.find_elements(By.XPATH,'//h3[@class=\"listloc\"]')\n",
    "for i in Area_Address:\n",
    "    address=i.text\n",
    "    Address.append(address)\n",
    "\n",
    "\n",
    "Rent_City=driver.find_elements(By.XPATH,'//a[@class=\"notclickb\"]')\n",
    "for i in Rent_City:\n",
    "    city=i.text\n",
    "    City.append(city)\n",
    "\n",
    "\n",
    "\n",
    "Area_Build=driver.find_elements(By.XPATH,'/html/body/div[4]/section[2]/div/section/div/div/div/div[3]/div[1]/div[6]/div[1]/div[1]/div/div/div[*]/div/div[2]/div[3]/div[1]/ul/li[1]/span')\n",
    "for i in Area_Build:\n",
    "    build=i.text\n",
    "    Build_Up_Area.append(build)\n",
    "\n",
    "   \n",
    "    \n",
    "Post=driver.find_elements(By.XPATH,'/html/body/div[4]/section[2]/div/section/div/div/div/div[3]/div[1]/div[6]/div[1]/div[1]/div/div/div[*]/div/div[2]/div[3]/div[1]/ul/li[3]')\n",
    "for i in Post:\n",
    "    post=i.text\n",
    "    Ad_Posted.append(post)\n",
    "    \n",
    "    \n",
    "   \n",
    "    \n",
    "Rent_price=driver.find_elements(By.XPATH,'//div[@class=\"prsg\"]')\n",
    "for i in Rent_price:\n",
    "    price=i.text\n",
    "    Price.append(price)"
   ]
  },
  {
   "cell_type": "code",
   "execution_count": null,
   "id": "72257415",
   "metadata": {},
   "outputs": [],
   "source": [
    "print(len(Title),len(Address),len(City),len(Build_Up_Area),len(Ad_Posted),len(Price))"
   ]
  },
  {
   "cell_type": "code",
   "execution_count": null,
   "id": "02c52e2e",
   "metadata": {},
   "outputs": [],
   "source": [
    "import pandas as pd\n",
    "df=pd.DataFrame({'Title':Title, 'Address':Address,'City':City,'Build_Up_Area':Build_Up_Area,'Ad_Posted':Ad_Posted,'Price':Price})\n",
    "df"
   ]
  },
  {
   "cell_type": "code",
   "execution_count": null,
   "id": "78f9c402",
   "metadata": {},
   "outputs": [],
   "source": [
    "#Page 76\n",
    "Next_button=driver.find_element(By.CLASS_NAME,\"next\")\n",
    "Next_button.click()"
   ]
  },
  {
   "cell_type": "code",
   "execution_count": null,
   "id": "26c675ea",
   "metadata": {},
   "outputs": [],
   "source": [
    "Title=[]\n",
    "Address=[]\n",
    "City=[]\n",
    "Build_Up_Area = []\n",
    "Ad_Posted=[]\n",
    "Price=[]"
   ]
  },
  {
   "cell_type": "code",
   "execution_count": null,
   "id": "b50951fd",
   "metadata": {},
   "outputs": [],
   "source": [
    "Rent_title=driver.find_elements(By.XPATH,'//a[@class=\"listtitle notclickb\"]')\n",
    "for i in Rent_title:\n",
    "    title=i.text\n",
    "    Title.append(title)\n",
    "\n",
    "\n",
    "\n",
    "Area_Address=driver.find_elements(By.XPATH,'//h3[@class=\"listloc\"]')\n",
    "for i in Area_Address:\n",
    "    address=i.text\n",
    "    Address.append(address)\n",
    "\n",
    "\n",
    "Rent_City=driver.find_elements(By.XPATH,'//a[@class=\"notclickb\"]')\n",
    "for i in Rent_City:\n",
    "    city=i.text\n",
    "    City.append(city)\n",
    "\n",
    "\n",
    "\n",
    "Area_Build=driver.find_elements(By.XPATH,'/html/body/div[4]/section[2]/div/section/div/div/div/div[3]/div[1]/div[6]/div[1]/div[1]/div/div/div[*]/div/div[2]/div[3]/div[1]/ul/li[1]/span')\n",
    "for i in Area_Build:\n",
    "    build=i.text\n",
    "    Build_Up_Area.append(build)\n",
    "\n",
    "   \n",
    "    \n",
    "Post=driver.find_elements(By.XPATH,'/html/body/div[4]/section[2]/div/section/div/div/div/div[3]/div[1]/div[6]/div[1]/div[1]/div/div/div[*]/div/div[2]/div[3]/div[1]/ul/li[3]')\n",
    "for i in Post:\n",
    "    post=i.text\n",
    "    Ad_Posted.append(post)\n",
    "    \n",
    "    \n",
    "   \n",
    "    \n",
    "Rent_price=driver.find_elements(By.XPATH,'//div[@class=\"prsg\"]')\n",
    "for i in Rent_price:\n",
    "    price=i.text\n",
    "    Price.append(price)"
   ]
  },
  {
   "cell_type": "code",
   "execution_count": null,
   "id": "b3db334b",
   "metadata": {},
   "outputs": [],
   "source": [
    "print(len(Title),len(Address),len(City),len(Build_Up_Area),len(Ad_Posted),len(Price))"
   ]
  },
  {
   "cell_type": "code",
   "execution_count": null,
   "id": "873c3725",
   "metadata": {},
   "outputs": [],
   "source": [
    "import pandas as pd\n",
    "df=pd.DataFrame({'Title':Title, 'Address':Address,'City':City,'Build_Up_Area':Build_Up_Area,'Ad_Posted':Ad_Posted,'Price':Price})\n",
    "df"
   ]
  },
  {
   "cell_type": "code",
   "execution_count": null,
   "id": "3283e59f",
   "metadata": {},
   "outputs": [],
   "source": [
    "#Page 77\n",
    "Next_button=driver.find_element(By.CLASS_NAME,\"next\")\n",
    "Next_button.click()"
   ]
  },
  {
   "cell_type": "code",
   "execution_count": null,
   "id": "5966a3ce",
   "metadata": {},
   "outputs": [],
   "source": [
    "Title=[]\n",
    "Address=[]\n",
    "City=[]\n",
    "Build_Up_Area = []\n",
    "Ad_Posted=[]\n",
    "Price=[]"
   ]
  },
  {
   "cell_type": "code",
   "execution_count": null,
   "id": "a32d795f",
   "metadata": {},
   "outputs": [],
   "source": [
    "Rent_title=driver.find_elements(By.XPATH,'//a[@class=\"listtitle notclickb\"]')\n",
    "for i in Rent_title:\n",
    "    title=i.text\n",
    "    Title.append(title)\n",
    "\n",
    "\n",
    "\n",
    "Area_Address=driver.find_elements(By.XPATH,'//h3[@class=\"listloc\"]')\n",
    "for i in Area_Address:\n",
    "    address=i.text\n",
    "    Address.append(address)\n",
    "\n",
    "\n",
    "Rent_City=driver.find_elements(By.XPATH,'//a[@class=\"notclickb\"]')\n",
    "for i in Rent_City:\n",
    "    city=i.text\n",
    "    City.append(city)\n",
    "\n",
    "\n",
    "\n",
    "Area_Build=driver.find_elements(By.XPATH,'/html/body/div[4]/section[2]/div/section/div/div/div/div[3]/div[1]/div[6]/div[1]/div[1]/div/div/div[*]/div/div[2]/div[3]/div[1]/ul/li[1]/span')\n",
    "for i in Area_Build:\n",
    "    build=i.text\n",
    "    Build_Up_Area.append(build)\n",
    "\n",
    "   \n",
    "    \n",
    "Post=driver.find_elements(By.XPATH,'/html/body/div[4]/section[2]/div/section/div/div/div/div[3]/div[1]/div[6]/div[1]/div[1]/div/div/div[*]/div/div[2]/div[3]/div[1]/ul/li[3]')\n",
    "for i in Post:\n",
    "    post=i.text\n",
    "    Ad_Posted.append(post)\n",
    "    \n",
    "    \n",
    "   \n",
    "    \n",
    "Rent_price=driver.find_elements(By.XPATH,'//div[@class=\"prsg\"]')\n",
    "for i in Rent_price:\n",
    "    price=i.text\n",
    "    Price.append(price)"
   ]
  },
  {
   "cell_type": "code",
   "execution_count": null,
   "id": "98cef193",
   "metadata": {},
   "outputs": [],
   "source": [
    "print(len(Title),len(Address),len(City),len(Build_Up_Area),len(Ad_Posted),len(Price))"
   ]
  },
  {
   "cell_type": "code",
   "execution_count": null,
   "id": "ac307bc8",
   "metadata": {},
   "outputs": [],
   "source": [
    "import pandas as pd\n",
    "df=pd.DataFrame({'Title':Title, 'Address':Address,'City':City,'Build_Up_Area':Build_Up_Area,'Ad_Posted':Ad_Posted,'Price':Price})\n",
    "df"
   ]
  },
  {
   "cell_type": "code",
   "execution_count": null,
   "id": "1c6a4c6e",
   "metadata": {},
   "outputs": [],
   "source": [
    "#Page 78\n",
    "Next_button=driver.find_element(By.XPATH,\"/html/body/div[4]/section[2]/div/section/div/div/div/div[3]/div[1]/div[6]/div[1]/div[1]/div/div/div[31]/ul/li[6]/a\")\n",
    "Next_button.click()"
   ]
  },
  {
   "cell_type": "code",
   "execution_count": null,
   "id": "72b1c3a1",
   "metadata": {},
   "outputs": [],
   "source": [
    "Title=[]\n",
    "Address=[]\n",
    "City=[]\n",
    "Build_Up_Area = []\n",
    "Ad_Posted=[]\n",
    "Price=[]"
   ]
  },
  {
   "cell_type": "code",
   "execution_count": null,
   "id": "43f53eed",
   "metadata": {},
   "outputs": [],
   "source": [
    "Rent_title=driver.find_elements(By.XPATH,'//a[@class=\"listtitle notclickb\"]')\n",
    "for i in Rent_title:\n",
    "    title=i.text\n",
    "    Title.append(title)\n",
    "\n",
    "\n",
    "\n",
    "Area_Address=driver.find_elements(By.XPATH,'//h3[@class=\"listloc\"]')\n",
    "for i in Area_Address:\n",
    "    address=i.text\n",
    "    Address.append(address)\n",
    "\n",
    "\n",
    "Rent_City=driver.find_elements(By.XPATH,'//a[@class=\"notclickb\"]')\n",
    "for i in Rent_City:\n",
    "    city=i.text\n",
    "    City.append(city)\n",
    "\n",
    "\n",
    "\n",
    "Area_Build=driver.find_elements(By.XPATH,'/html/body/div[4]/section[2]/div/section/div/div/div/div[3]/div[1]/div[6]/div[1]/div[1]/div/div/div[*]/div/div[2]/div[3]/div[1]/ul/li[1]/span')\n",
    "for i in Area_Build:\n",
    "    build=i.text\n",
    "    Build_Up_Area.append(build)\n",
    "\n",
    "   \n",
    "    \n",
    "Post=driver.find_elements(By.XPATH,'/html/body/div[4]/section[2]/div/section/div/div/div/div[3]/div[1]/div[6]/div[1]/div[1]/div/div/div[*]/div/div[2]/div[3]/div[1]/ul/li[3]')\n",
    "for i in Post:\n",
    "    post=i.text\n",
    "    Ad_Posted.append(post)\n",
    "    \n",
    "    \n",
    "   \n",
    "    \n",
    "Rent_price=driver.find_elements(By.XPATH,'//div[@class=\"prsg\"]')\n",
    "for i in Rent_price:\n",
    "    price=i.text\n",
    "    Price.append(price)"
   ]
  },
  {
   "cell_type": "code",
   "execution_count": null,
   "id": "7ac2eea5",
   "metadata": {},
   "outputs": [],
   "source": [
    "print(len(Title),len(Address),len(City),len(Build_Up_Area),len(Ad_Posted),len(Price))"
   ]
  },
  {
   "cell_type": "code",
   "execution_count": null,
   "id": "62a61321",
   "metadata": {},
   "outputs": [],
   "source": [
    "import pandas as pd\n",
    "df=pd.DataFrame({'Title':Title, 'Address':Address,'City':City,'Build_Up_Area':Build_Up_Area,'Ad_Posted':Ad_Posted,'Price':Price})\n",
    "df"
   ]
  },
  {
   "cell_type": "code",
   "execution_count": null,
   "id": "cbbca508",
   "metadata": {},
   "outputs": [],
   "source": [
    "#Page 79\n",
    "Next_button=driver.find_element(By.CLASS_NAME,\"next\")\n",
    "Next_button.click()"
   ]
  },
  {
   "cell_type": "code",
   "execution_count": null,
   "id": "a308d023",
   "metadata": {},
   "outputs": [],
   "source": [
    "Title=[]\n",
    "Address=[]\n",
    "City=[]\n",
    "Build_Up_Area = []\n",
    "Ad_Posted=[]\n",
    "Price=[]"
   ]
  },
  {
   "cell_type": "code",
   "execution_count": null,
   "id": "eea88f1d",
   "metadata": {},
   "outputs": [],
   "source": [
    "Rent_title=driver.find_elements(By.XPATH,'//a[@class=\"listtitle notclickb\"]')\n",
    "for i in Rent_title:\n",
    "    title=i.text\n",
    "    Title.append(title)\n",
    "\n",
    "\n",
    "\n",
    "Area_Address=driver.find_elements(By.XPATH,'//h3[@class=\"listloc\"]')\n",
    "for i in Area_Address:\n",
    "    address=i.text\n",
    "    Address.append(address)\n",
    "\n",
    "\n",
    "Rent_City=driver.find_elements(By.XPATH,'//a[@class=\"notclickb\"]')\n",
    "for i in Rent_City:\n",
    "    city=i.text\n",
    "    City.append(city)\n",
    "\n",
    "\n",
    "\n",
    "Area_Build=driver.find_elements(By.XPATH,'/html/body/div[4]/section[2]/div/section/div/div/div/div[3]/div[1]/div[6]/div[1]/div[1]/div/div/div[*]/div/div[2]/div[3]/div[1]/ul/li[1]/span')\n",
    "for i in Area_Build:\n",
    "    build=i.text\n",
    "    Build_Up_Area.append(build)\n",
    "\n",
    "   \n",
    "    \n",
    "Post=driver.find_elements(By.XPATH,'/html/body/div[4]/section[2]/div/section/div/div/div/div[3]/div[1]/div[6]/div[1]/div[1]/div/div/div[*]/div/div[2]/div[3]/div[1]/ul/li[3]')\n",
    "for i in Post:\n",
    "    post=i.text\n",
    "    Ad_Posted.append(post)\n",
    "    \n",
    "    \n",
    "   \n",
    "    \n",
    "Rent_price=driver.find_elements(By.XPATH,'//div[@class=\"prsg\"]')\n",
    "for i in Rent_price:\n",
    "    price=i.text\n",
    "    Price.append(price)"
   ]
  },
  {
   "cell_type": "code",
   "execution_count": null,
   "id": "e85b0abc",
   "metadata": {},
   "outputs": [],
   "source": [
    "print(len(Title),len(Address),len(City),len(Build_Up_Area),len(Ad_Posted),len(Price))"
   ]
  },
  {
   "cell_type": "code",
   "execution_count": null,
   "id": "d0149ec8",
   "metadata": {},
   "outputs": [],
   "source": [
    "import pandas as pd\n",
    "df=pd.DataFrame({'Title':Title, 'Address':Address,'City':City,'Build_Up_Area':Build_Up_Area,'Ad_Posted':Ad_Posted,'Price':Price})\n",
    "df"
   ]
  },
  {
   "cell_type": "code",
   "execution_count": null,
   "id": "69520aa3",
   "metadata": {},
   "outputs": [],
   "source": [
    "#Page 80\n",
    "Next_button=driver.find_element(By.CLASS_NAME,\"next\")\n",
    "Next_button.click()"
   ]
  },
  {
   "cell_type": "code",
   "execution_count": null,
   "id": "d8a2ae27",
   "metadata": {},
   "outputs": [],
   "source": [
    "Title=[]\n",
    "Address=[]\n",
    "City=[]\n",
    "Build_Up_Area = []\n",
    "Ad_Posted=[]\n",
    "Price=[]"
   ]
  },
  {
   "cell_type": "code",
   "execution_count": null,
   "id": "3dbd0237",
   "metadata": {},
   "outputs": [],
   "source": [
    "Rent_title=driver.find_elements(By.XPATH,'//a[@class=\"listtitle notclickb\"]')\n",
    "for i in Rent_title:\n",
    "    title=i.text\n",
    "    Title.append(title)\n",
    "\n",
    "\n",
    "\n",
    "Area_Address=driver.find_elements(By.XPATH,'//h3[@class=\"listloc\"]')\n",
    "for i in Area_Address:\n",
    "    address=i.text\n",
    "    Address.append(address)\n",
    "\n",
    "\n",
    "Rent_City=driver.find_elements(By.XPATH,'//a[@class=\"notclickb\"]')\n",
    "for i in Rent_City:\n",
    "    city=i.text\n",
    "    City.append(city)\n",
    "\n",
    "\n",
    "\n",
    "Area_Build=driver.find_elements(By.XPATH,'/html/body/div[4]/section[2]/div/section/div/div/div/div[3]/div[1]/div[6]/div[1]/div[1]/div/div/div[*]/div/div[2]/div[3]/div[1]/ul/li[1]/span')\n",
    "for i in Area_Build:\n",
    "    build=i.text\n",
    "    Build_Up_Area.append(build)\n",
    "\n",
    "   \n",
    "    \n",
    "Post=driver.find_elements(By.XPATH,'/html/body/div[4]/section[2]/div/section/div/div/div/div[3]/div[1]/div[6]/div[1]/div[1]/div/div/div[*]/div/div[2]/div[3]/div[1]/ul/li[3]')\n",
    "for i in Post:\n",
    "    post=i.text\n",
    "    Ad_Posted.append(post)\n",
    "    \n",
    "    \n",
    "   \n",
    "    \n",
    "Rent_price=driver.find_elements(By.XPATH,'//div[@class=\"prsg\"]')\n",
    "for i in Rent_price:\n",
    "    price=i.text\n",
    "    Price.append(price)"
   ]
  },
  {
   "cell_type": "code",
   "execution_count": null,
   "id": "aaea264e",
   "metadata": {},
   "outputs": [],
   "source": [
    "print(len(Title),len(Address),len(City),len(Build_Up_Area),len(Ad_Posted),len(Price))"
   ]
  },
  {
   "cell_type": "code",
   "execution_count": null,
   "id": "f5813204",
   "metadata": {},
   "outputs": [],
   "source": [
    "import pandas as pd\n",
    "df=pd.DataFrame({'Title':Title, 'Address':Address,'City':City,'Build_Up_Area':Build_Up_Area,'Ad_Posted':Ad_Posted,'Price':Price})\n",
    "df"
   ]
  },
  {
   "cell_type": "code",
   "execution_count": null,
   "id": "303b337a",
   "metadata": {},
   "outputs": [],
   "source": []
  },
  {
   "cell_type": "code",
   "execution_count": null,
   "id": "7a242fda",
   "metadata": {},
   "outputs": [],
   "source": [
    "#Page 81\n",
    "Next_button=driver.find_element(By.CLASS_NAME,\"next\")\n",
    "Next_button.click()"
   ]
  },
  {
   "cell_type": "code",
   "execution_count": null,
   "id": "aacea092",
   "metadata": {},
   "outputs": [],
   "source": [
    "Title=[]\n",
    "Address=[]\n",
    "City=[]\n",
    "Build_Up_Area = []\n",
    "Ad_Posted=[]\n",
    "Price=[]"
   ]
  },
  {
   "cell_type": "code",
   "execution_count": null,
   "id": "eb6047c9",
   "metadata": {},
   "outputs": [],
   "source": [
    "Rent_title=driver.find_elements(By.XPATH,'//a[@class=\"listtitle notclickb\"]')\n",
    "for i in Rent_title:\n",
    "    title=i.text\n",
    "    Title.append(title)\n",
    "\n",
    "\n",
    "\n",
    "Area_Address=driver.find_elements(By.XPATH,'//h3[@class=\"listloc\"]')\n",
    "for i in Area_Address:\n",
    "    address=i.text\n",
    "    Address.append(address)\n",
    "\n",
    "\n",
    "Rent_City=driver.find_elements(By.XPATH,'//a[@class=\"notclickb\"]')\n",
    "for i in Rent_City:\n",
    "    city=i.text\n",
    "    City.append(city)\n",
    "\n",
    "\n",
    "\n",
    "Area_Build=driver.find_elements(By.XPATH,'/html/body/div[4]/section[2]/div/section/div/div/div/div[3]/div[1]/div[6]/div[1]/div[1]/div/div/div[*]/div/div[2]/div[3]/div[1]/ul/li[1]/span')\n",
    "for i in Area_Build:\n",
    "    build=i.text\n",
    "    Build_Up_Area.append(build)\n",
    "\n",
    "   \n",
    "    \n",
    "Post=driver.find_elements(By.XPATH,'/html/body/div[4]/section[2]/div/section/div/div/div/div[3]/div[1]/div[6]/div[1]/div[1]/div/div/div[*]/div/div[2]/div[3]/div[1]/ul/li[3]')\n",
    "for i in Post:\n",
    "    post=i.text\n",
    "    Ad_Posted.append(post)\n",
    "    \n",
    "    \n",
    "   \n",
    "    \n",
    "Rent_price=driver.find_elements(By.XPATH,'//div[@class=\"prsg\"]')\n",
    "for i in Rent_price:\n",
    "    price=i.text\n",
    "    Price.append(price)"
   ]
  },
  {
   "cell_type": "code",
   "execution_count": null,
   "id": "454bad63",
   "metadata": {},
   "outputs": [],
   "source": [
    "print(len(Title),len(Address),len(City),len(Build_Up_Area),len(Ad_Posted),len(Price))"
   ]
  },
  {
   "cell_type": "code",
   "execution_count": null,
   "id": "8e07cfbd",
   "metadata": {},
   "outputs": [],
   "source": [
    "import pandas as pd\n",
    "df=pd.DataFrame({'Title':Title, 'Address':Address,'City':City,'Build_Up_Area':Build_Up_Area,'Ad_Posted':Ad_Posted,'Price':Price})\n",
    "df"
   ]
  },
  {
   "cell_type": "code",
   "execution_count": null,
   "id": "fc160ded",
   "metadata": {},
   "outputs": [],
   "source": []
  },
  {
   "cell_type": "code",
   "execution_count": null,
   "id": "b76c4667",
   "metadata": {},
   "outputs": [],
   "source": [
    "#Page 82\n",
    "Next_button=driver.find_element(By.CLASS_NAME,\"next\")\n",
    "Next_button.click()"
   ]
  },
  {
   "cell_type": "code",
   "execution_count": null,
   "id": "ebc8f0bc",
   "metadata": {},
   "outputs": [],
   "source": [
    "Title=[]\n",
    "Address=[]\n",
    "City=[]\n",
    "Build_Up_Area = []\n",
    "Ad_Posted=[]\n",
    "Price=[]"
   ]
  },
  {
   "cell_type": "code",
   "execution_count": null,
   "id": "bc2f034f",
   "metadata": {},
   "outputs": [],
   "source": [
    "Rent_title=driver.find_elements(By.XPATH,'//a[@class=\"listtitle notclickb\"]')\n",
    "for i in Rent_title:\n",
    "    title=i.text\n",
    "    Title.append(title)\n",
    "\n",
    "\n",
    "\n",
    "Area_Address=driver.find_elements(By.XPATH,'//h3[@class=\"listloc\"]')\n",
    "for i in Area_Address:\n",
    "    address=i.text\n",
    "    Address.append(address)\n",
    "\n",
    "\n",
    "Rent_City=driver.find_elements(By.XPATH,'//a[@class=\"notclickb\"]')\n",
    "for i in Rent_City:\n",
    "    city=i.text\n",
    "    City.append(city)\n",
    "\n",
    "\n",
    "\n",
    "Area_Build=driver.find_elements(By.XPATH,'/html/body/div[4]/section[2]/div/section/div/div/div/div[3]/div[1]/div[6]/div[1]/div[1]/div/div/div[*]/div/div[2]/div[3]/div[1]/ul/li[1]/span')\n",
    "for i in Area_Build:\n",
    "    build=i.text\n",
    "    Build_Up_Area.append(build)\n",
    "\n",
    "   \n",
    "    \n",
    "Post=driver.find_elements(By.XPATH,'/html/body/div[4]/section[2]/div/section/div/div/div/div[3]/div[1]/div[6]/div[1]/div[1]/div/div/div[*]/div/div[2]/div[3]/div[1]/ul/li[3]')\n",
    "for i in Post:\n",
    "    post=i.text\n",
    "    Ad_Posted.append(post)\n",
    "    \n",
    "    \n",
    "   \n",
    "    \n",
    "Rent_price=driver.find_elements(By.XPATH,'//div[@class=\"prsg\"]')\n",
    "for i in Rent_price:\n",
    "    price=i.text\n",
    "    Price.append(price)"
   ]
  },
  {
   "cell_type": "code",
   "execution_count": null,
   "id": "32e44dd7",
   "metadata": {},
   "outputs": [],
   "source": [
    "print(len(Title),len(Address),len(City),len(Build_Up_Area),len(Ad_Posted),len(Price))"
   ]
  },
  {
   "cell_type": "code",
   "execution_count": null,
   "id": "1607056f",
   "metadata": {},
   "outputs": [],
   "source": [
    "import pandas as pd\n",
    "df=pd.DataFrame({'Title':Title, 'Address':Address,'City':City,'Build_Up_Area':Build_Up_Area,'Ad_Posted':Ad_Posted,'Price':Price})\n",
    "df"
   ]
  },
  {
   "cell_type": "code",
   "execution_count": null,
   "id": "4e056929",
   "metadata": {},
   "outputs": [],
   "source": [
    "#Page 83\n",
    "Next_button=driver.find_element(By.CLASS_NAME,\"next\")\n",
    "Next_button.click()"
   ]
  },
  {
   "cell_type": "code",
   "execution_count": null,
   "id": "725c693b",
   "metadata": {},
   "outputs": [],
   "source": [
    "Title=[]\n",
    "Address=[]\n",
    "City=[]\n",
    "Build_Up_Area = []\n",
    "Ad_Posted=[]\n",
    "Price=[]"
   ]
  },
  {
   "cell_type": "code",
   "execution_count": null,
   "id": "2e6f301c",
   "metadata": {},
   "outputs": [],
   "source": [
    "Rent_title=driver.find_elements(By.XPATH,'//a[@class=\"listtitle notclickb\"]')\n",
    "for i in Rent_title:\n",
    "    title=i.text\n",
    "    Title.append(title)\n",
    "\n",
    "\n",
    "\n",
    "Area_Address=driver.find_elements(By.XPATH,'//h3[@class=\"listloc\"]')\n",
    "for i in Area_Address:\n",
    "    address=i.text\n",
    "    Address.append(address)\n",
    "\n",
    "\n",
    "Rent_City=driver.find_elements(By.XPATH,'//a[@class=\"notclickb\"]')\n",
    "for i in Rent_City:\n",
    "    city=i.text\n",
    "    City.append(city)\n",
    "\n",
    "\n",
    "\n",
    "Area_Build=driver.find_elements(By.XPATH,'/html/body/div[4]/section[2]/div/section/div/div/div/div[3]/div[1]/div[6]/div[1]/div[1]/div/div/div[*]/div/div[2]/div[3]/div[1]/ul/li[1]/span')\n",
    "for i in Area_Build:\n",
    "    build=i.text\n",
    "    Build_Up_Area.append(build)\n",
    "\n",
    "   \n",
    "    \n",
    "Post=driver.find_elements(By.XPATH,'/html/body/div[4]/section[2]/div/section/div/div/div/div[3]/div[1]/div[6]/div[1]/div[1]/div/div/div[*]/div/div[2]/div[3]/div[1]/ul/li[3]')\n",
    "for i in Post:\n",
    "    post=i.text\n",
    "    Ad_Posted.append(post)\n",
    "    \n",
    "    \n",
    "   \n",
    "    \n",
    "Rent_price=driver.find_elements(By.XPATH,'//div[@class=\"prsg\"]')\n",
    "for i in Rent_price:\n",
    "    price=i.text\n",
    "    Price.append(price)"
   ]
  },
  {
   "cell_type": "code",
   "execution_count": null,
   "id": "5e75362c",
   "metadata": {},
   "outputs": [],
   "source": [
    "print(len(Title),len(Address),len(City),len(Build_Up_Area),len(Ad_Posted),len(Price))"
   ]
  },
  {
   "cell_type": "code",
   "execution_count": null,
   "id": "45bef1c5",
   "metadata": {},
   "outputs": [],
   "source": [
    "import pandas as pd\n",
    "df=pd.DataFrame({'Title':Title, 'Address':Address,'City':City,'Build_Up_Area':Build_Up_Area,'Ad_Posted':Ad_Posted,'Price':Price})\n",
    "df"
   ]
  },
  {
   "cell_type": "code",
   "execution_count": null,
   "id": "edbb9301",
   "metadata": {},
   "outputs": [],
   "source": []
  },
  {
   "cell_type": "code",
   "execution_count": null,
   "id": "1d8a7cd7",
   "metadata": {},
   "outputs": [],
   "source": []
  },
  {
   "cell_type": "code",
   "execution_count": null,
   "id": "8aaab82a",
   "metadata": {},
   "outputs": [],
   "source": [
    "#Page 84\n",
    "Next_button=driver.find_element(By.CLASS_NAME,\"next\")\n",
    "Next_button.click()"
   ]
  },
  {
   "cell_type": "code",
   "execution_count": null,
   "id": "7caa99f6",
   "metadata": {},
   "outputs": [],
   "source": [
    "Title=[]\n",
    "Address=[]\n",
    "City=[]\n",
    "Build_Up_Area = []\n",
    "Ad_Posted=[]\n",
    "Price=[]"
   ]
  },
  {
   "cell_type": "code",
   "execution_count": null,
   "id": "b5420a15",
   "metadata": {},
   "outputs": [],
   "source": [
    "Rent_title=driver.find_elements(By.XPATH,'//a[@class=\"listtitle notclickb\"]')\n",
    "for i in Rent_title:\n",
    "    title=i.text\n",
    "    Title.append(title)\n",
    "\n",
    "\n",
    "\n",
    "Area_Address=driver.find_elements(By.XPATH,'//h3[@class=\"listloc\"]')\n",
    "for i in Area_Address:\n",
    "    address=i.text\n",
    "    Address.append(address)\n",
    "\n",
    "\n",
    "Rent_City=driver.find_elements(By.XPATH,'//a[@class=\"notclickb\"]')\n",
    "for i in Rent_City:\n",
    "    city=i.text\n",
    "    City.append(city)\n",
    "\n",
    "\n",
    "\n",
    "Area_Build=driver.find_elements(By.XPATH,'/html/body/div[4]/section[2]/div/section/div/div/div/div[3]/div[1]/div[6]/div[1]/div[1]/div/div/div[*]/div/div[2]/div[3]/div[1]/ul/li[1]/span')\n",
    "for i in Area_Build:\n",
    "    build=i.text\n",
    "    Build_Up_Area.append(build)\n",
    "\n",
    "   \n",
    "    \n",
    "Post=driver.find_elements(By.XPATH,'/html/body/div[4]/section[2]/div/section/div/div/div/div[3]/div[1]/div[6]/div[1]/div[1]/div/div/div[*]/div/div[2]/div[3]/div[1]/ul/li[3]')\n",
    "for i in Post:\n",
    "    post=i.text\n",
    "    Ad_Posted.append(post)\n",
    "    \n",
    "    \n",
    "   \n",
    "    \n",
    "Rent_price=driver.find_elements(By.XPATH,'//div[@class=\"prsg\"]')\n",
    "for i in Rent_price:\n",
    "    price=i.text\n",
    "    Price.append(price)"
   ]
  },
  {
   "cell_type": "code",
   "execution_count": null,
   "id": "1ae88bed",
   "metadata": {},
   "outputs": [],
   "source": [
    "print(len(Title),len(Address),len(City),len(Build_Up_Area),len(Ad_Posted),len(Price))"
   ]
  },
  {
   "cell_type": "code",
   "execution_count": null,
   "id": "96a2d722",
   "metadata": {},
   "outputs": [],
   "source": [
    "import pandas as pd\n",
    "df=pd.DataFrame({'Title':Title, 'Address':Address,'City':City,'Build_Up_Area':Build_Up_Area,'Ad_Posted':Ad_Posted,'Price':Price})\n",
    "df"
   ]
  },
  {
   "cell_type": "code",
   "execution_count": null,
   "id": "7f6680b8",
   "metadata": {},
   "outputs": [],
   "source": [
    "#Page 85\n",
    "Next_button=driver.find_element(By.CLASS_NAME,\"next\")\n",
    "Next_button.click()"
   ]
  },
  {
   "cell_type": "code",
   "execution_count": null,
   "id": "7a225132",
   "metadata": {},
   "outputs": [],
   "source": [
    "Title=[]\n",
    "Address=[]\n",
    "City=[]\n",
    "Build_Up_Area = []\n",
    "Ad_Posted=[]\n",
    "Price=[]"
   ]
  },
  {
   "cell_type": "code",
   "execution_count": null,
   "id": "21262e7a",
   "metadata": {},
   "outputs": [],
   "source": [
    "Rent_title=driver.find_elements(By.XPATH,'//a[@class=\"listtitle notclickb\"]')\n",
    "for i in Rent_title:\n",
    "    title=i.text\n",
    "    Title.append(title)\n",
    "\n",
    "\n",
    "\n",
    "Area_Address=driver.find_elements(By.XPATH,'//h3[@class=\"listloc\"]')\n",
    "for i in Area_Address:\n",
    "    address=i.text\n",
    "    Address.append(address)\n",
    "\n",
    "\n",
    "Rent_City=driver.find_elements(By.XPATH,'//a[@class=\"notclickb\"]')\n",
    "for i in Rent_City:\n",
    "    city=i.text\n",
    "    City.append(city)\n",
    "\n",
    "\n",
    "\n",
    "Area_Build=driver.find_elements(By.XPATH,'/html/body/div[4]/section[2]/div/section/div/div/div/div[3]/div[1]/div[6]/div[1]/div[1]/div/div/div[*]/div/div[2]/div[3]/div[1]/ul/li[1]/span')\n",
    "for i in Area_Build:\n",
    "    build=i.text\n",
    "    Build_Up_Area.append(build)\n",
    "\n",
    "   \n",
    "    \n",
    "Post=driver.find_elements(By.XPATH,'/html/body/div[4]/section[2]/div/section/div/div/div/div[3]/div[1]/div[6]/div[1]/div[1]/div/div/div[*]/div/div[2]/div[3]/div[1]/ul/li[3]')\n",
    "for i in Post:\n",
    "    post=i.text\n",
    "    Ad_Posted.append(post)\n",
    "    \n",
    "    \n",
    "   \n",
    "    \n",
    "Rent_price=driver.find_elements(By.XPATH,'//div[@class=\"prsg\"]')\n",
    "for i in Rent_price:\n",
    "    price=i.text\n",
    "    Price.append(price)"
   ]
  },
  {
   "cell_type": "code",
   "execution_count": null,
   "id": "a021f383",
   "metadata": {},
   "outputs": [],
   "source": [
    "print(len(Title),len(Address),len(City),len(Build_Up_Area),len(Ad_Posted),len(Price))"
   ]
  },
  {
   "cell_type": "code",
   "execution_count": null,
   "id": "e451f0d6",
   "metadata": {},
   "outputs": [],
   "source": [
    "import pandas as pd\n",
    "df=pd.DataFrame({'Title':Title, 'Address':Address,'City':City,'Build_Up_Area':Build_Up_Area,'Ad_Posted':Ad_Posted,'Price':Price})\n",
    "df"
   ]
  },
  {
   "cell_type": "code",
   "execution_count": null,
   "id": "0c98dc0e",
   "metadata": {},
   "outputs": [],
   "source": [
    "#Page 86\n",
    "Next_button=driver.find_element(By.CLASS_NAME,\"next\")\n",
    "Next_button.click()"
   ]
  },
  {
   "cell_type": "code",
   "execution_count": null,
   "id": "c8426f0d",
   "metadata": {},
   "outputs": [],
   "source": [
    "Title=[]\n",
    "Address=[]\n",
    "City=[]\n",
    "Build_Up_Area = []\n",
    "Ad_Posted=[]\n",
    "Price=[]"
   ]
  },
  {
   "cell_type": "code",
   "execution_count": null,
   "id": "e5bafc9f",
   "metadata": {},
   "outputs": [],
   "source": [
    "Rent_title=driver.find_elements(By.XPATH,'//a[@class=\"listtitle notclickb\"]')\n",
    "for i in Rent_title:\n",
    "    title=i.text\n",
    "    Title.append(title)\n",
    "\n",
    "\n",
    "\n",
    "Area_Address=driver.find_elements(By.XPATH,'//h3[@class=\"listloc\"]')\n",
    "for i in Area_Address:\n",
    "    address=i.text\n",
    "    Address.append(address)\n",
    "\n",
    "\n",
    "Rent_City=driver.find_elements(By.XPATH,'//a[@class=\"notclickb\"]')\n",
    "for i in Rent_City:\n",
    "    city=i.text\n",
    "    City.append(city)\n",
    "\n",
    "\n",
    "\n",
    "Area_Build=driver.find_elements(By.XPATH,'/html/body/div[4]/section[2]/div/section/div/div/div/div[3]/div[1]/div[6]/div[1]/div[1]/div/div/div[*]/div/div[2]/div[3]/div[1]/ul/li[1]/span')\n",
    "for i in Area_Build:\n",
    "    build=i.text\n",
    "    Build_Up_Area.append(build)\n",
    "\n",
    "   \n",
    "    \n",
    "Post=driver.find_elements(By.XPATH,'/html/body/div[4]/section[2]/div/section/div/div/div/div[3]/div[1]/div[6]/div[1]/div[1]/div/div/div[*]/div/div[2]/div[3]/div[1]/ul/li[3]')\n",
    "for i in Post:\n",
    "    post=i.text\n",
    "    Ad_Posted.append(post)\n",
    "    \n",
    "    \n",
    "   \n",
    "    \n",
    "Rent_price=driver.find_elements(By.XPATH,'//div[@class=\"prsg\"]')\n",
    "for i in Rent_price:\n",
    "    price=i.text\n",
    "    Price.append(price)"
   ]
  },
  {
   "cell_type": "code",
   "execution_count": null,
   "id": "88a191e1",
   "metadata": {},
   "outputs": [],
   "source": [
    "print(len(Title),len(Address),len(City),len(Build_Up_Area),len(Ad_Posted),len(Price))"
   ]
  },
  {
   "cell_type": "code",
   "execution_count": null,
   "id": "014a8af5",
   "metadata": {},
   "outputs": [],
   "source": [
    "import pandas as pd\n",
    "df=pd.DataFrame({'Title':Title, 'Address':Address,'City':City,'Build_Up_Area':Build_Up_Area,'Ad_Posted':Ad_Posted,'Price':Price})\n",
    "df"
   ]
  },
  {
   "cell_type": "code",
   "execution_count": null,
   "id": "12bbf55e",
   "metadata": {},
   "outputs": [],
   "source": [
    "#Page 87\n",
    "Next_button=driver.find_element(By.CLASS_NAME,\"next\")\n",
    "Next_button.click()"
   ]
  },
  {
   "cell_type": "code",
   "execution_count": null,
   "id": "c2f3f4eb",
   "metadata": {},
   "outputs": [],
   "source": [
    "Title=[]\n",
    "Address=[]\n",
    "City=[]\n",
    "Build_Up_Area = []\n",
    "Ad_Posted=[]\n",
    "Price=[]"
   ]
  },
  {
   "cell_type": "code",
   "execution_count": null,
   "id": "67d1e8d9",
   "metadata": {},
   "outputs": [],
   "source": [
    "Rent_title=driver.find_elements(By.XPATH,'//a[@class=\"listtitle notclickb\"]')\n",
    "for i in Rent_title:\n",
    "    title=i.text\n",
    "    Title.append(title)\n",
    "\n",
    "\n",
    "\n",
    "Area_Address=driver.find_elements(By.XPATH,'//h3[@class=\"listloc\"]')\n",
    "for i in Area_Address:\n",
    "    address=i.text\n",
    "    Address.append(address)\n",
    "\n",
    "\n",
    "Rent_City=driver.find_elements(By.XPATH,'//a[@class=\"notclickb\"]')\n",
    "for i in Rent_City:\n",
    "    city=i.text\n",
    "    City.append(city)\n",
    "\n",
    "\n",
    "\n",
    "Area_Build=driver.find_elements(By.XPATH,'/html/body/div[4]/section[2]/div/section/div/div/div/div[3]/div[1]/div[6]/div[1]/div[1]/div/div/div[*]/div/div[2]/div[3]/div[1]/ul/li[1]/span')\n",
    "for i in Area_Build:\n",
    "    build=i.text\n",
    "    Build_Up_Area.append(build)\n",
    "\n",
    "   \n",
    "    \n",
    "Post=driver.find_elements(By.XPATH,'/html/body/div[4]/section[2]/div/section/div/div/div/div[3]/div[1]/div[6]/div[1]/div[1]/div/div/div[*]/div/div[2]/div[3]/div[1]/ul/li[3]')\n",
    "for i in Post:\n",
    "    post=i.text\n",
    "    Ad_Posted.append(post)\n",
    "    \n",
    "    \n",
    "   \n",
    "    \n",
    "Rent_price=driver.find_elements(By.XPATH,'//div[@class=\"prsg\"]')\n",
    "for i in Rent_price:\n",
    "    price=i.text\n",
    "    Price.append(price)"
   ]
  },
  {
   "cell_type": "code",
   "execution_count": null,
   "id": "89129015",
   "metadata": {},
   "outputs": [],
   "source": [
    "print(len(Title),len(Address),len(City),len(Build_Up_Area),len(Ad_Posted),len(Price))"
   ]
  },
  {
   "cell_type": "code",
   "execution_count": null,
   "id": "82111654",
   "metadata": {},
   "outputs": [],
   "source": [
    "import pandas as pd\n",
    "df=pd.DataFrame({'Title':Title, 'Address':Address,'City':City,'Build_Up_Area':Build_Up_Area,'Ad_Posted':Ad_Posted,'Price':Price})\n",
    "df"
   ]
  },
  {
   "cell_type": "code",
   "execution_count": null,
   "id": "c901a236",
   "metadata": {},
   "outputs": [],
   "source": []
  },
  {
   "cell_type": "code",
   "execution_count": null,
   "id": "a70e53f7",
   "metadata": {},
   "outputs": [],
   "source": [
    "#Page 88\n",
    "Next_button=driver.find_element(By.CLASS_NAME,\"next\")\n",
    "Next_button.click()"
   ]
  },
  {
   "cell_type": "code",
   "execution_count": null,
   "id": "d16301a2",
   "metadata": {},
   "outputs": [],
   "source": [
    "Title=[]\n",
    "Address=[]\n",
    "City=[]\n",
    "Build_Up_Area = []\n",
    "Ad_Posted=[]\n",
    "Price=[]"
   ]
  },
  {
   "cell_type": "code",
   "execution_count": null,
   "id": "c692046e",
   "metadata": {},
   "outputs": [],
   "source": [
    "Rent_title=driver.find_elements(By.XPATH,'//a[@class=\"listtitle notclickb\"]')\n",
    "for i in Rent_title:\n",
    "    title=i.text\n",
    "    Title.append(title)\n",
    "\n",
    "\n",
    "\n",
    "Area_Address=driver.find_elements(By.XPATH,'//h3[@class=\"listloc\"]')\n",
    "for i in Area_Address:\n",
    "    address=i.text\n",
    "    Address.append(address)\n",
    "\n",
    "\n",
    "Rent_City=driver.find_elements(By.XPATH,'//a[@class=\"notclickb\"]')\n",
    "for i in Rent_City:\n",
    "    city=i.text\n",
    "    City.append(city)\n",
    "\n",
    "\n",
    "\n",
    "Area_Build=driver.find_elements(By.XPATH,'/html/body/div[4]/section[2]/div/section/div/div/div/div[3]/div[1]/div[6]/div[1]/div[1]/div/div/div[*]/div/div[2]/div[3]/div[1]/ul/li[1]/span')\n",
    "for i in Area_Build:\n",
    "    build=i.text\n",
    "    Build_Up_Area.append(build)\n",
    "\n",
    "   \n",
    "    \n",
    "Post=driver.find_elements(By.XPATH,'/html/body/div[4]/section[2]/div/section/div/div/div/div[3]/div[1]/div[6]/div[1]/div[1]/div/div/div[*]/div/div[2]/div[3]/div[1]/ul/li[3]')\n",
    "for i in Post:\n",
    "    post=i.text\n",
    "    Ad_Posted.append(post)\n",
    "    \n",
    "    \n",
    "   \n",
    "    \n",
    "Rent_price=driver.find_elements(By.XPATH,'//div[@class=\"prsg\"]')\n",
    "for i in Rent_price:\n",
    "    price=i.text\n",
    "    Price.append(price)"
   ]
  },
  {
   "cell_type": "code",
   "execution_count": null,
   "id": "6c5f5fd5",
   "metadata": {},
   "outputs": [],
   "source": [
    "print(len(Title),len(Address),len(City),len(Build_Up_Area),len(Ad_Posted),len(Price))"
   ]
  },
  {
   "cell_type": "code",
   "execution_count": null,
   "id": "cf91985d",
   "metadata": {},
   "outputs": [],
   "source": [
    "import pandas as pd\n",
    "df=pd.DataFrame({'Title':Title, 'Address':Address,'City':City,'Build_Up_Area':Build_Up_Area,'Ad_Posted':Ad_Posted,'Price':Price})\n",
    "df"
   ]
  },
  {
   "cell_type": "code",
   "execution_count": null,
   "id": "0bf2b66b",
   "metadata": {},
   "outputs": [],
   "source": []
  },
  {
   "cell_type": "code",
   "execution_count": null,
   "id": "83a24594",
   "metadata": {},
   "outputs": [],
   "source": [
    "#Page 89\n",
    "Next_button=driver.find_element(By.CLASS_NAME,\"next\")\n",
    "Next_button.click()"
   ]
  },
  {
   "cell_type": "code",
   "execution_count": null,
   "id": "83a92d4f",
   "metadata": {},
   "outputs": [],
   "source": [
    "Title=[]\n",
    "Address=[]\n",
    "City=[]\n",
    "Build_Up_Area = []\n",
    "Ad_Posted=[]\n",
    "Price=[]"
   ]
  },
  {
   "cell_type": "code",
   "execution_count": null,
   "id": "c1db9898",
   "metadata": {},
   "outputs": [],
   "source": [
    "Rent_title=driver.find_elements(By.XPATH,'//a[@class=\"listtitle notclickb\"]')\n",
    "for i in Rent_title:\n",
    "    title=i.text\n",
    "    Title.append(title)\n",
    "\n",
    "\n",
    "\n",
    "Area_Address=driver.find_elements(By.XPATH,'//h3[@class=\"listloc\"]')\n",
    "for i in Area_Address:\n",
    "    address=i.text\n",
    "    Address.append(address)\n",
    "\n",
    "\n",
    "Rent_City=driver.find_elements(By.XPATH,'//a[@class=\"notclickb\"]')\n",
    "for i in Rent_City:\n",
    "    city=i.text\n",
    "    City.append(city)\n",
    "\n",
    "\n",
    "\n",
    "Area_Build=driver.find_elements(By.XPATH,'/html/body/div[4]/section[2]/div/section/div/div/div/div[3]/div[1]/div[6]/div[1]/div[1]/div/div/div[*]/div/div[2]/div[3]/div[1]/ul/li[1]/span')\n",
    "for i in Area_Build:\n",
    "    build=i.text\n",
    "    Build_Up_Area.append(build)\n",
    "\n",
    "   \n",
    "    \n",
    "Post=driver.find_elements(By.XPATH,'/html/body/div[4]/section[2]/div/section/div/div/div/div[3]/div[1]/div[6]/div[1]/div[1]/div/div/div[*]/div/div[2]/div[3]/div[1]/ul/li[3]')\n",
    "for i in Post:\n",
    "    post=i.text\n",
    "    Ad_Posted.append(post)\n",
    "    \n",
    "    \n",
    "   \n",
    "    \n",
    "Rent_price=driver.find_elements(By.XPATH,'//div[@class=\"prsg\"]')\n",
    "for i in Rent_price:\n",
    "    price=i.text\n",
    "    Price.append(price)"
   ]
  },
  {
   "cell_type": "code",
   "execution_count": null,
   "id": "c09f2b98",
   "metadata": {},
   "outputs": [],
   "source": [
    "print(len(Title),len(Address),len(City),len(Build_Up_Area),len(Ad_Posted),len(Price))"
   ]
  },
  {
   "cell_type": "code",
   "execution_count": null,
   "id": "ca9154f4",
   "metadata": {},
   "outputs": [],
   "source": [
    "import pandas as pd\n",
    "df=pd.DataFrame({'Title':Title, 'Address':Address,'City':City,'Build_Up_Area':Build_Up_Area,'Ad_Posted':Ad_Posted,'Price':Price})\n",
    "df"
   ]
  },
  {
   "cell_type": "code",
   "execution_count": null,
   "id": "13ed6aa7",
   "metadata": {},
   "outputs": [],
   "source": []
  },
  {
   "cell_type": "code",
   "execution_count": null,
   "id": "c4a4d63a",
   "metadata": {},
   "outputs": [],
   "source": [
    "#Page 90\n",
    "Next_button=driver.find_element(By.CLASS_NAME,\"next\")\n",
    "Next_button.click()"
   ]
  },
  {
   "cell_type": "code",
   "execution_count": null,
   "id": "7aecfa7c",
   "metadata": {},
   "outputs": [],
   "source": [
    "Title=[]\n",
    "Address=[]\n",
    "City=[]\n",
    "Build_Up_Area = []\n",
    "Ad_Posted=[]\n",
    "Price=[]"
   ]
  },
  {
   "cell_type": "code",
   "execution_count": null,
   "id": "7739d1f8",
   "metadata": {},
   "outputs": [],
   "source": [
    "Rent_title=driver.find_elements(By.XPATH,'//a[@class=\"listtitle notclickb\"]')\n",
    "for i in Rent_title:\n",
    "    title=i.text\n",
    "    Title.append(title)\n",
    "\n",
    "\n",
    "\n",
    "Area_Address=driver.find_elements(By.XPATH,'//h3[@class=\"listloc\"]')\n",
    "for i in Area_Address:\n",
    "    address=i.text\n",
    "    Address.append(address)\n",
    "\n",
    "\n",
    "Rent_City=driver.find_elements(By.XPATH,'//a[@class=\"notclickb\"]')\n",
    "for i in Rent_City:\n",
    "    city=i.text\n",
    "    City.append(city)\n",
    "\n",
    "\n",
    "\n",
    "Area_Build=driver.find_elements(By.XPATH,'/html/body/div[4]/section[2]/div/section/div/div/div/div[3]/div[1]/div[6]/div[1]/div[1]/div/div/div[*]/div/div[2]/div[3]/div[1]/ul/li[1]/span')\n",
    "for i in Area_Build:\n",
    "    build=i.text\n",
    "    Build_Up_Area.append(build)\n",
    "\n",
    "   \n",
    "    \n",
    "Post=driver.find_elements(By.XPATH,'/html/body/div[4]/section[2]/div/section/div/div/div/div[3]/div[1]/div[6]/div[1]/div[1]/div/div/div[*]/div/div[2]/div[3]/div[1]/ul/li[3]')\n",
    "for i in Post:\n",
    "    post=i.text\n",
    "    Ad_Posted.append(post)\n",
    "    \n",
    "    \n",
    "   \n",
    "    \n",
    "Rent_price=driver.find_elements(By.XPATH,'//div[@class=\"prsg\"]')\n",
    "for i in Rent_price:\n",
    "    price=i.text\n",
    "    Price.append(price)"
   ]
  },
  {
   "cell_type": "code",
   "execution_count": null,
   "id": "5e9d1713",
   "metadata": {},
   "outputs": [],
   "source": [
    "print(len(Title),len(Address),len(City),len(Build_Up_Area),len(Ad_Posted),len(Price))"
   ]
  },
  {
   "cell_type": "code",
   "execution_count": null,
   "id": "5bebb353",
   "metadata": {},
   "outputs": [],
   "source": [
    "import pandas as pd\n",
    "df=pd.DataFrame({'Title':Title, 'Address':Address,'City':City,'Build_Up_Area':Build_Up_Area,'Ad_Posted':Ad_Posted,'Price':Price})\n",
    "df"
   ]
  },
  {
   "cell_type": "code",
   "execution_count": null,
   "id": "87ea1519",
   "metadata": {},
   "outputs": [],
   "source": [
    "#Page 91\n",
    "Next_button=driver.find_element(By.CLASS_NAME,\"next\")\n",
    "Next_button.click()"
   ]
  },
  {
   "cell_type": "code",
   "execution_count": null,
   "id": "67ac5350",
   "metadata": {},
   "outputs": [],
   "source": [
    "Title=[]\n",
    "Address=[]\n",
    "City=[]\n",
    "Build_Up_Area = []\n",
    "Ad_Posted=[]\n",
    "Price=[]"
   ]
  },
  {
   "cell_type": "code",
   "execution_count": null,
   "id": "1ecb223e",
   "metadata": {},
   "outputs": [],
   "source": [
    "Rent_title=driver.find_elements(By.XPATH,'//a[@class=\"listtitle notclickb\"]')\n",
    "for i in Rent_title:\n",
    "    title=i.text\n",
    "    Title.append(title)\n",
    "\n",
    "\n",
    "\n",
    "Area_Address=driver.find_elements(By.XPATH,'//h3[@class=\"listloc\"]')\n",
    "for i in Area_Address:\n",
    "    address=i.text\n",
    "    Address.append(address)\n",
    "\n",
    "\n",
    "Rent_City=driver.find_elements(By.XPATH,'//a[@class=\"notclickb\"]')\n",
    "for i in Rent_City:\n",
    "    city=i.text\n",
    "    City.append(city)\n",
    "\n",
    "\n",
    "\n",
    "Area_Build=driver.find_elements(By.XPATH,'/html/body/div[4]/section[2]/div/section/div/div/div/div[3]/div[1]/div[6]/div[1]/div[1]/div/div/div[*]/div/div[2]/div[3]/div[1]/ul/li[1]/span')\n",
    "for i in Area_Build:\n",
    "    build=i.text\n",
    "    Build_Up_Area.append(build)\n",
    "\n",
    "   \n",
    "    \n",
    "Post=driver.find_elements(By.XPATH,'/html/body/div[4]/section[2]/div/section/div/div/div/div[3]/div[1]/div[6]/div[1]/div[1]/div/div/div[*]/div/div[2]/div[3]/div[1]/ul/li[3]')\n",
    "for i in Post:\n",
    "    post=i.text\n",
    "    Ad_Posted.append(post)\n",
    "    \n",
    "    \n",
    "   \n",
    "    \n",
    "Rent_price=driver.find_elements(By.XPATH,'//div[@class=\"prsg\"]')\n",
    "for i in Rent_price:\n",
    "    price=i.text\n",
    "    Price.append(price)"
   ]
  },
  {
   "cell_type": "code",
   "execution_count": null,
   "id": "3ea37e4e",
   "metadata": {},
   "outputs": [],
   "source": [
    "print(len(Title),len(Address),len(City),len(Build_Up_Area),len(Ad_Posted),len(Price))"
   ]
  },
  {
   "cell_type": "code",
   "execution_count": null,
   "id": "70dcd669",
   "metadata": {},
   "outputs": [],
   "source": [
    "import pandas as pd\n",
    "df=pd.DataFrame({'Title':Title, 'Address':Address,'City':City,'Build_Up_Area':Build_Up_Area,'Ad_Posted':Ad_Posted,'Price':Price})\n",
    "df"
   ]
  },
  {
   "cell_type": "code",
   "execution_count": null,
   "id": "c53c1f6c",
   "metadata": {},
   "outputs": [],
   "source": [
    "#Page 92\n",
    "Next_button=driver.find_element(By.CLASS_NAME,\"next\")\n",
    "Next_button.click()"
   ]
  },
  {
   "cell_type": "code",
   "execution_count": null,
   "id": "4ac85120",
   "metadata": {},
   "outputs": [],
   "source": [
    "Title=[]\n",
    "Address=[]\n",
    "City=[]\n",
    "Build_Up_Area = []\n",
    "Ad_Posted=[]\n",
    "Price=[]"
   ]
  },
  {
   "cell_type": "code",
   "execution_count": null,
   "id": "802fcfff",
   "metadata": {},
   "outputs": [],
   "source": [
    "Rent_title=driver.find_elements(By.XPATH,'//a[@class=\"listtitle notclickb\"]')\n",
    "for i in Rent_title:\n",
    "    title=i.text\n",
    "    Title.append(title)\n",
    "\n",
    "\n",
    "\n",
    "Area_Address=driver.find_elements(By.XPATH,'//h3[@class=\"listloc\"]')\n",
    "for i in Area_Address:\n",
    "    address=i.text\n",
    "    Address.append(address)\n",
    "\n",
    "\n",
    "Rent_City=driver.find_elements(By.XPATH,'//a[@class=\"notclickb\"]')\n",
    "for i in Rent_City:\n",
    "    city=i.text\n",
    "    City.append(city)\n",
    "\n",
    "\n",
    "\n",
    "Area_Build=driver.find_elements(By.XPATH,'/html/body/div[4]/section[2]/div/section/div/div/div/div[3]/div[1]/div[6]/div[1]/div[1]/div/div/div[*]/div/div[2]/div[3]/div[1]/ul/li[1]/span')\n",
    "for i in Area_Build:\n",
    "    build=i.text\n",
    "    Build_Up_Area.append(build)\n",
    "\n",
    "   \n",
    "    \n",
    "Post=driver.find_elements(By.XPATH,'/html/body/div[4]/section[2]/div/section/div/div/div/div[3]/div[1]/div[6]/div[1]/div[1]/div/div/div[*]/div/div[2]/div[3]/div[1]/ul/li[3]')\n",
    "for i in Post:\n",
    "    post=i.text\n",
    "    Ad_Posted.append(post)\n",
    "    \n",
    "    \n",
    "   \n",
    "    \n",
    "Rent_price=driver.find_elements(By.XPATH,'//div[@class=\"prsg\"]')\n",
    "for i in Rent_price:\n",
    "    price=i.text\n",
    "    Price.append(price)"
   ]
  },
  {
   "cell_type": "code",
   "execution_count": null,
   "id": "cfa8b8ab",
   "metadata": {},
   "outputs": [],
   "source": [
    "print(len(Title),len(Address),len(City),len(Build_Up_Area),len(Ad_Posted),len(Price))"
   ]
  },
  {
   "cell_type": "code",
   "execution_count": null,
   "id": "54c1f512",
   "metadata": {},
   "outputs": [],
   "source": [
    "import pandas as pd\n",
    "df=pd.DataFrame({'Title':Title, 'Address':Address,'City':City,'Build_Up_Area':Build_Up_Area,'Ad_Posted':Ad_Posted,'Price':Price})\n",
    "df"
   ]
  },
  {
   "cell_type": "code",
   "execution_count": null,
   "id": "545b799b",
   "metadata": {},
   "outputs": [],
   "source": [
    "#Page 93\n",
    "Next_button=driver.find_element(By.CLASS_NAME,\"next\")\n",
    "Next_button.click()"
   ]
  },
  {
   "cell_type": "code",
   "execution_count": null,
   "id": "1d022252",
   "metadata": {},
   "outputs": [],
   "source": [
    "Title=[]\n",
    "Address=[]\n",
    "City=[]\n",
    "Build_Up_Area = []\n",
    "Ad_Posted=[]\n",
    "Price=[]"
   ]
  },
  {
   "cell_type": "code",
   "execution_count": null,
   "id": "e0abef7e",
   "metadata": {},
   "outputs": [],
   "source": [
    "Rent_title=driver.find_elements(By.XPATH,'//a[@class=\"listtitle notclickb\"]')\n",
    "for i in Rent_title:\n",
    "    title=i.text\n",
    "    Title.append(title)\n",
    "\n",
    "\n",
    "\n",
    "Area_Address=driver.find_elements(By.XPATH,'//h3[@class=\"listloc\"]')\n",
    "for i in Area_Address:\n",
    "    address=i.text\n",
    "    Address.append(address)\n",
    "\n",
    "\n",
    "Rent_City=driver.find_elements(By.XPATH,'//a[@class=\"notclickb\"]')\n",
    "for i in Rent_City:\n",
    "    city=i.text\n",
    "    City.append(city)\n",
    "\n",
    "\n",
    "\n",
    "Area_Build=driver.find_elements(By.XPATH,'/html/body/div[4]/section[2]/div/section/div/div/div/div[3]/div[1]/div[6]/div[1]/div[1]/div/div/div[*]/div/div[2]/div[3]/div[1]/ul/li[1]/span')\n",
    "for i in Area_Build:\n",
    "    build=i.text\n",
    "    Build_Up_Area.append(build)\n",
    "\n",
    "   \n",
    "    \n",
    "Post=driver.find_elements(By.XPATH,'/html/body/div[4]/section[2]/div/section/div/div/div/div[3]/div[1]/div[6]/div[1]/div[1]/div/div/div[*]/div/div[2]/div[3]/div[1]/ul/li[3]')\n",
    "for i in Post:\n",
    "    post=i.text\n",
    "    Ad_Posted.append(post)\n",
    "    \n",
    "    \n",
    "   \n",
    "    \n",
    "Rent_price=driver.find_elements(By.XPATH,'//div[@class=\"prsg\"]')\n",
    "for i in Rent_price:\n",
    "    price=i.text\n",
    "    Price.append(price)"
   ]
  },
  {
   "cell_type": "code",
   "execution_count": null,
   "id": "22ae363c",
   "metadata": {},
   "outputs": [],
   "source": [
    "print(len(Title),len(Address),len(City),len(Build_Up_Area),len(Ad_Posted),len(Price))"
   ]
  },
  {
   "cell_type": "code",
   "execution_count": null,
   "id": "982fab21",
   "metadata": {},
   "outputs": [],
   "source": [
    "import pandas as pd\n",
    "df=pd.DataFrame({'Title':Title, 'Address':Address,'City':City,'Build_Up_Area':Build_Up_Area,'Ad_Posted':Ad_Posted,'Price':Price})\n",
    "df"
   ]
  },
  {
   "cell_type": "code",
   "execution_count": null,
   "id": "a4efae49",
   "metadata": {},
   "outputs": [],
   "source": [
    "#Page 94\n",
    "Next_button=driver.find_element(By.CLASS_NAME,\"next\")\n",
    "Next_button.click()"
   ]
  },
  {
   "cell_type": "code",
   "execution_count": null,
   "id": "1447fb1e",
   "metadata": {},
   "outputs": [],
   "source": [
    "Title=[]\n",
    "Address=[]\n",
    "City=[]\n",
    "Build_Up_Area = []\n",
    "Ad_Posted=[]\n",
    "Price=[]"
   ]
  },
  {
   "cell_type": "code",
   "execution_count": null,
   "id": "2502d3b0",
   "metadata": {},
   "outputs": [],
   "source": [
    "Rent_title=driver.find_elements(By.XPATH,'//a[@class=\"listtitle notclickb\"]')\n",
    "for i in Rent_title:\n",
    "    title=i.text\n",
    "    Title.append(title)\n",
    "\n",
    "\n",
    "\n",
    "Area_Address=driver.find_elements(By.XPATH,'//h3[@class=\"listloc\"]')\n",
    "for i in Area_Address:\n",
    "    address=i.text\n",
    "    Address.append(address)\n",
    "\n",
    "\n",
    "Rent_City=driver.find_elements(By.XPATH,'//a[@class=\"notclickb\"]')\n",
    "for i in Rent_City:\n",
    "    city=i.text\n",
    "    City.append(city)\n",
    "\n",
    "\n",
    "\n",
    "Area_Build=driver.find_elements(By.XPATH,'/html/body/div[4]/section[2]/div/section/div/div/div/div[3]/div[1]/div[6]/div[1]/div[1]/div/div/div[*]/div/div[2]/div[3]/div[1]/ul/li[1]/span')\n",
    "for i in Area_Build:\n",
    "    build=i.text\n",
    "    Build_Up_Area.append(build)\n",
    "\n",
    "   \n",
    "    \n",
    "Post=driver.find_elements(By.XPATH,'/html/body/div[4]/section[2]/div/section/div/div/div/div[3]/div[1]/div[6]/div[1]/div[1]/div/div/div[*]/div/div[2]/div[3]/div[1]/ul/li[3]')\n",
    "for i in Post:\n",
    "    post=i.text\n",
    "    Ad_Posted.append(post)\n",
    "    \n",
    "    \n",
    "   \n",
    "    \n",
    "Rent_price=driver.find_elements(By.XPATH,'//div[@class=\"prsg\"]')\n",
    "for i in Rent_price:\n",
    "    price=i.text\n",
    "    Price.append(price)"
   ]
  },
  {
   "cell_type": "code",
   "execution_count": null,
   "id": "46fe4208",
   "metadata": {},
   "outputs": [],
   "source": [
    "print(len(Title),len(Address),len(City),len(Build_Up_Area),len(Ad_Posted),len(Price))"
   ]
  },
  {
   "cell_type": "code",
   "execution_count": null,
   "id": "6e9b8172",
   "metadata": {},
   "outputs": [],
   "source": [
    "import pandas as pd\n",
    "df=pd.DataFrame({'Title':Title, 'Address':Address,'City':City,'Build_Up_Area':Build_Up_Area,'Ad_Posted':Ad_Posted,'Price':Price})\n",
    "df"
   ]
  },
  {
   "cell_type": "code",
   "execution_count": null,
   "id": "393a3698",
   "metadata": {},
   "outputs": [],
   "source": [
    "#Page 95\n",
    "Next_button=driver.find_element(By.CLASS_NAME,\"next\")\n",
    "Next_button.click()"
   ]
  },
  {
   "cell_type": "code",
   "execution_count": null,
   "id": "47156ffd",
   "metadata": {},
   "outputs": [],
   "source": [
    "Title=[]\n",
    "Address=[]\n",
    "City=[]\n",
    "Build_Up_Area = []\n",
    "Ad_Posted=[]\n",
    "Price=[]"
   ]
  },
  {
   "cell_type": "code",
   "execution_count": null,
   "id": "4586b16b",
   "metadata": {},
   "outputs": [],
   "source": [
    "Rent_title=driver.find_elements(By.XPATH,'//a[@class=\"listtitle notclickb\"]')\n",
    "for i in Rent_title:\n",
    "    title=i.text\n",
    "    Title.append(title)\n",
    "\n",
    "\n",
    "\n",
    "Area_Address=driver.find_elements(By.XPATH,'//h3[@class=\"listloc\"]')\n",
    "for i in Area_Address:\n",
    "    address=i.text\n",
    "    Address.append(address)\n",
    "\n",
    "\n",
    "Rent_City=driver.find_elements(By.XPATH,'//a[@class=\"notclickb\"]')\n",
    "for i in Rent_City:\n",
    "    city=i.text\n",
    "    City.append(city)\n",
    "\n",
    "\n",
    "\n",
    "Area_Build=driver.find_elements(By.XPATH,'/html/body/div[4]/section[2]/div/section/div/div/div/div[3]/div[1]/div[6]/div[1]/div[1]/div/div/div[*]/div/div[2]/div[3]/div[1]/ul/li[1]/span')\n",
    "for i in Area_Build:\n",
    "    build=i.text\n",
    "    Build_Up_Area.append(build)\n",
    "\n",
    "   \n",
    "    \n",
    "Post=driver.find_elements(By.XPATH,'/html/body/div[4]/section[2]/div/section/div/div/div/div[3]/div[1]/div[6]/div[1]/div[1]/div/div/div[*]/div/div[2]/div[3]/div[1]/ul/li[3]')\n",
    "for i in Post:\n",
    "    post=i.text\n",
    "    Ad_Posted.append(post)\n",
    "    \n",
    "    \n",
    "   \n",
    "    \n",
    "Rent_price=driver.find_elements(By.XPATH,'//div[@class=\"prsg\"]')\n",
    "for i in Rent_price:\n",
    "    price=i.text\n",
    "    Price.append(price)"
   ]
  },
  {
   "cell_type": "code",
   "execution_count": null,
   "id": "1d3030b9",
   "metadata": {},
   "outputs": [],
   "source": [
    "print(len(Title),len(Address),len(City),len(Build_Up_Area),len(Ad_Posted),len(Price))"
   ]
  },
  {
   "cell_type": "code",
   "execution_count": null,
   "id": "50fd9987",
   "metadata": {},
   "outputs": [],
   "source": [
    "import pandas as pd\n",
    "df=pd.DataFrame({'Title':Title, 'Address':Address,'City':City,'Build_Up_Area':Build_Up_Area,'Ad_Posted':Ad_Posted,'Price':Price})\n",
    "df"
   ]
  },
  {
   "cell_type": "code",
   "execution_count": null,
   "id": "a0be1bde",
   "metadata": {},
   "outputs": [],
   "source": [
    "#Page 96\n",
    "Next_button=driver.find_element(By.CLASS_NAME,\"next\")\n",
    "Next_button.click()"
   ]
  },
  {
   "cell_type": "code",
   "execution_count": null,
   "id": "609d5ed4",
   "metadata": {},
   "outputs": [],
   "source": [
    "Title=[]\n",
    "Address=[]\n",
    "City=[]\n",
    "Build_Up_Area = []\n",
    "Ad_Posted=[]\n",
    "Price=[]"
   ]
  },
  {
   "cell_type": "code",
   "execution_count": null,
   "id": "0e9f0b43",
   "metadata": {},
   "outputs": [],
   "source": [
    "Rent_title=driver.find_elements(By.XPATH,'//a[@class=\"listtitle notclickb\"]')\n",
    "for i in Rent_title:\n",
    "    title=i.text\n",
    "    Title.append(title)\n",
    "\n",
    "\n",
    "\n",
    "Area_Address=driver.find_elements(By.XPATH,'//h3[@class=\"listloc\"]')\n",
    "for i in Area_Address:\n",
    "    address=i.text\n",
    "    Address.append(address)\n",
    "\n",
    "\n",
    "Rent_City=driver.find_elements(By.XPATH,'//a[@class=\"notclickb\"]')\n",
    "for i in Rent_City:\n",
    "    city=i.text\n",
    "    City.append(city)\n",
    "\n",
    "\n",
    "\n",
    "Area_Build=driver.find_elements(By.XPATH,'/html/body/div[4]/section[2]/div/section/div/div/div/div[3]/div[1]/div[6]/div[1]/div[1]/div/div/div[*]/div/div[2]/div[3]/div[1]/ul/li[1]/span')\n",
    "for i in Area_Build:\n",
    "    build=i.text\n",
    "    Build_Up_Area.append(build)\n",
    "\n",
    "   \n",
    "    \n",
    "Post=driver.find_elements(By.XPATH,'/html/body/div[4]/section[2]/div/section/div/div/div/div[3]/div[1]/div[6]/div[1]/div[1]/div/div/div[*]/div/div[2]/div[3]/div[1]/ul/li[3]')\n",
    "for i in Post:\n",
    "    post=i.text\n",
    "    Ad_Posted.append(post)\n",
    "    \n",
    "    \n",
    "   \n",
    "    \n",
    "Rent_price=driver.find_elements(By.XPATH,'//div[@class=\"prsg\"]')\n",
    "for i in Rent_price:\n",
    "    price=i.text\n",
    "    Price.append(price)"
   ]
  },
  {
   "cell_type": "code",
   "execution_count": null,
   "id": "79914406",
   "metadata": {},
   "outputs": [],
   "source": [
    "print(len(Title),len(Address),len(City),len(Build_Up_Area),len(Ad_Posted),len(Price))"
   ]
  },
  {
   "cell_type": "code",
   "execution_count": null,
   "id": "4a80c4d0",
   "metadata": {},
   "outputs": [],
   "source": [
    "import pandas as pd\n",
    "df=pd.DataFrame({'Title':Title, 'Address':Address,'City':City,'Build_Up_Area':Build_Up_Area,'Ad_Posted':Ad_Posted,'Price':Price})\n",
    "df"
   ]
  },
  {
   "cell_type": "code",
   "execution_count": null,
   "id": "f5a0affa",
   "metadata": {},
   "outputs": [],
   "source": [
    "#Page 97\n",
    "Next_button=driver.find_element(By.CLASS_NAME,\"next\")\n",
    "Next_button.click()"
   ]
  },
  {
   "cell_type": "code",
   "execution_count": null,
   "id": "272a39d1",
   "metadata": {},
   "outputs": [],
   "source": [
    "Title=[]\n",
    "Address=[]\n",
    "City=[]\n",
    "Build_Up_Area = []\n",
    "Ad_Posted=[]\n",
    "Price=[]"
   ]
  },
  {
   "cell_type": "code",
   "execution_count": null,
   "id": "8166d5bc",
   "metadata": {},
   "outputs": [],
   "source": [
    "Rent_title=driver.find_elements(By.XPATH,'//a[@class=\"listtitle notclickb\"]')\n",
    "for i in Rent_title:\n",
    "    title=i.text\n",
    "    Title.append(title)\n",
    "\n",
    "\n",
    "\n",
    "Area_Address=driver.find_elements(By.XPATH,'//h3[@class=\"listloc\"]')\n",
    "for i in Area_Address:\n",
    "    address=i.text\n",
    "    Address.append(address)\n",
    "\n",
    "\n",
    "Rent_City=driver.find_elements(By.XPATH,'//a[@class=\"notclickb\"]')\n",
    "for i in Rent_City:\n",
    "    city=i.text\n",
    "    City.append(city)\n",
    "\n",
    "\n",
    "\n",
    "Area_Build=driver.find_elements(By.XPATH,'/html/body/div[4]/section[2]/div/section/div/div/div/div[3]/div[1]/div[6]/div[1]/div[1]/div/div/div[*]/div/div[2]/div[3]/div[1]/ul/li[1]/span')\n",
    "for i in Area_Build:\n",
    "    build=i.text\n",
    "    Build_Up_Area.append(build)\n",
    "\n",
    "   \n",
    "    \n",
    "Post=driver.find_elements(By.XPATH,'/html/body/div[4]/section[2]/div/section/div/div/div/div[3]/div[1]/div[6]/div[1]/div[1]/div/div/div[*]/div/div[2]/div[3]/div[1]/ul/li[3]')\n",
    "for i in Post:\n",
    "    post=i.text\n",
    "    Ad_Posted.append(post)\n",
    "    \n",
    "    \n",
    "   \n",
    "    \n",
    "Rent_price=driver.find_elements(By.XPATH,'//div[@class=\"prsg\"]')\n",
    "for i in Rent_price:\n",
    "    price=i.text\n",
    "    Price.append(price)"
   ]
  },
  {
   "cell_type": "code",
   "execution_count": null,
   "id": "4af62707",
   "metadata": {},
   "outputs": [],
   "source": [
    "print(len(Title),len(Address),len(City),len(Build_Up_Area),len(Ad_Posted),len(Price))"
   ]
  },
  {
   "cell_type": "code",
   "execution_count": null,
   "id": "b16ae8c1",
   "metadata": {},
   "outputs": [],
   "source": [
    "import pandas as pd\n",
    "df=pd.DataFrame({'Title':Title, 'Address':Address,'City':City,'Build_Up_Area':Build_Up_Area,'Ad_Posted':Ad_Posted,'Price':Price})\n",
    "df"
   ]
  },
  {
   "cell_type": "code",
   "execution_count": null,
   "id": "e126132b",
   "metadata": {},
   "outputs": [],
   "source": [
    "#Page 98\n",
    "Next_button=driver.find_element(By.XPATH,\"/html/body/div[4]/section[2]/div/section/div/div/div/div[3]/div[1]/div[6]/div[1]/div[1]/div/div/div[31]/ul/li[6]/a\")\n",
    "Next_button.click()"
   ]
  },
  {
   "cell_type": "code",
   "execution_count": null,
   "id": "a915c92e",
   "metadata": {},
   "outputs": [],
   "source": [
    "Title=[]\n",
    "Address=[]\n",
    "City=[]\n",
    "Build_Up_Area = []\n",
    "Ad_Posted=[]\n",
    "Price=[]"
   ]
  },
  {
   "cell_type": "code",
   "execution_count": null,
   "id": "d6751801",
   "metadata": {},
   "outputs": [],
   "source": [
    "Rent_title=driver.find_elements(By.XPATH,'//a[@class=\"listtitle notclickb\"]')\n",
    "for i in Rent_title[0:19]:\n",
    "    title=i.text\n",
    "    Title.append(title)\n",
    "\n",
    "\n",
    "\n",
    "Area_Address=driver.find_elements(By.XPATH,'//h3[@class=\"listloc\"]')\n",
    "for i in Area_Address[0:19]:\n",
    "    address=i.text\n",
    "    Address.append(address)\n",
    "\n",
    "\n",
    "Rent_City=driver.find_elements(By.XPATH,'//a[@class=\"notclickb\"]')\n",
    "for i in Rent_City[0:19]:\n",
    "    city=i.text\n",
    "    City.append(city)\n",
    "\n",
    "\n",
    "\n",
    "Area_Build=driver.find_elements(By.XPATH,'/html/body/div[4]/section[2]/div/section/div/div/div/div[3]/div[1]/div[6]/div[1]/div[1]/div/div/div[*]/div/div[2]/div[3]/div[1]/ul/li[1]/span')\n",
    "for i in Area_Build[0:19]:\n",
    "    build=i.text\n",
    "    Build_Up_Area.append(build)\n",
    "\n",
    "   \n",
    "    \n",
    "Post=driver.find_elements(By.XPATH,'/html/body/div[4]/section[2]/div/section/div/div/div/div[3]/div[1]/div[6]/div[1]/div[1]/div/div/div[*]/div/div[2]/div[3]/div[1]/ul/li[3]')\n",
    "for i in Post[0:19]:\n",
    "    post=i.text\n",
    "    Ad_Posted.append(post)\n",
    "    \n",
    "    \n",
    "   \n",
    "    \n",
    "Rent_price=driver.find_elements(By.XPATH,'//div[@class=\"prsg\"]')\n",
    "for i in Rent_price[0:19]:\n",
    "    price=i.text\n",
    "    Price.append(price)"
   ]
  },
  {
   "cell_type": "code",
   "execution_count": null,
   "id": "20f06250",
   "metadata": {},
   "outputs": [],
   "source": [
    "print(len(Title),len(Address),len(City),len(Build_Up_Area),len(Ad_Posted),len(Price))"
   ]
  },
  {
   "cell_type": "code",
   "execution_count": null,
   "id": "fd9dd08b",
   "metadata": {},
   "outputs": [],
   "source": [
    "import pandas as pd\n",
    "df=pd.DataFrame({'Title':Title, 'Address':Address,'City':City,'Build_Up_Area':Build_Up_Area,'Ad_Posted':Ad_Posted,'Price':Price})\n",
    "df"
   ]
  },
  {
   "cell_type": "code",
   "execution_count": null,
   "id": "95eeb547",
   "metadata": {},
   "outputs": [],
   "source": [
    "#Page 99\n",
    "Next_button=driver.find_element(By.CLASS_NAME,\"next\")\n",
    "Next_button.click()"
   ]
  },
  {
   "cell_type": "code",
   "execution_count": null,
   "id": "df6f1f67",
   "metadata": {},
   "outputs": [],
   "source": [
    "Title=[]\n",
    "Address=[]\n",
    "City=[]\n",
    "Build_Up_Area = []\n",
    "Ad_Posted=[]\n",
    "Price=[]"
   ]
  },
  {
   "cell_type": "code",
   "execution_count": null,
   "id": "d25e92a4",
   "metadata": {},
   "outputs": [],
   "source": [
    "Rent_title=driver.find_elements(By.XPATH,'//a[@class=\"listtitle notclickb\"]')\n",
    "for i in Rent_title[0:19]:\n",
    "    title=i.text\n",
    "    Title.append(title)\n",
    "\n",
    "\n",
    "\n",
    "Area_Address=driver.find_elements(By.XPATH,'//h3[@class=\"listloc\"]')\n",
    "for i in Area_Address[0:19]:\n",
    "    address=i.text\n",
    "    Address.append(address)\n",
    "\n",
    "\n",
    "Rent_City=driver.find_elements(By.XPATH,'//a[@class=\"notclickb\"]')\n",
    "for i in Rent_City[0:19]:\n",
    "    city=i.text\n",
    "    City.append(city)\n",
    "\n",
    "\n",
    "\n",
    "Area_Build=driver.find_elements(By.XPATH,'/html/body/div[4]/section[2]/div/section/div/div/div/div[3]/div[1]/div[6]/div[1]/div[1]/div/div/div[*]/div/div[2]/div[3]/div[1]/ul/li[1]/span')\n",
    "for i in Area_Build[0:19]:\n",
    "    build=i.text\n",
    "    Build_Up_Area.append(build)\n",
    "\n",
    "   \n",
    "    \n",
    "Post=driver.find_elements(By.XPATH,'/html/body/div[4]/section[2]/div/section/div/div/div/div[3]/div[1]/div[6]/div[1]/div[1]/div/div/div[*]/div/div[2]/div[3]/div[1]/ul/li[3]')\n",
    "for i in Post[0:19]:\n",
    "    post=i.text\n",
    "    Ad_Posted.append(post)\n",
    "    \n",
    "    \n",
    "   \n",
    "    \n",
    "Rent_price=driver.find_elements(By.XPATH,'//div[@class=\"prsg\"]')\n",
    "for i in Rent_price[0:19]:\n",
    "    price=i.text\n",
    "    Price.append(price)"
   ]
  },
  {
   "cell_type": "code",
   "execution_count": null,
   "id": "b7677930",
   "metadata": {},
   "outputs": [],
   "source": [
    "print(len(Title),len(Address),len(City),len(Build_Up_Area),len(Ad_Posted),len(Price))"
   ]
  },
  {
   "cell_type": "code",
   "execution_count": null,
   "id": "69316714",
   "metadata": {},
   "outputs": [],
   "source": [
    "import pandas as pd\n",
    "df=pd.DataFrame({'Title':Title, 'Address':Address,'City':City,'Build_Up_Area':Build_Up_Area,'Ad_Posted':Ad_Posted,'Price':Price})\n",
    "df"
   ]
  },
  {
   "cell_type": "code",
   "execution_count": null,
   "id": "b1756553",
   "metadata": {},
   "outputs": [],
   "source": [
    "#Page 100\n",
    "Next_button=driver.find_element(By.CLASS_NAME,\"next\")\n",
    "Next_button.click()"
   ]
  },
  {
   "cell_type": "code",
   "execution_count": null,
   "id": "1e4b4078",
   "metadata": {},
   "outputs": [],
   "source": [
    "Title=[]\n",
    "Address=[]\n",
    "City=[]\n",
    "Build_Up_Area = []\n",
    "Ad_Posted=[]\n",
    "Price=[]"
   ]
  },
  {
   "cell_type": "code",
   "execution_count": null,
   "id": "345853ed",
   "metadata": {},
   "outputs": [],
   "source": [
    "Rent_title=driver.find_elements(By.XPATH,'//a[@class=\"listtitle notclickb\"]')\n",
    "for i in Rent_title:\n",
    "    title=i.text\n",
    "    Title.append(title)\n",
    "\n",
    "\n",
    "\n",
    "Area_Address=driver.find_elements(By.XPATH,'//h3[@class=\"listloc\"]')\n",
    "for i in Area_Address:\n",
    "    address=i.text\n",
    "    Address.append(address)\n",
    "\n",
    "\n",
    "Rent_City=driver.find_elements(By.XPATH,'//a[@class=\"notclickb\"]')\n",
    "for i in Rent_City:\n",
    "    city=i.text\n",
    "    City.append(city)\n",
    "\n",
    "\n",
    "\n",
    "Area_Build=driver.find_elements(By.XPATH,'/html/body/div[4]/section[2]/div/section/div/div/div/div[3]/div[1]/div[6]/div[1]/div[1]/div/div/div[*]/div/div[2]/div[3]/div[1]/ul/li[1]/span')\n",
    "for i in Area_Build:\n",
    "    build=i.text\n",
    "    Build_Up_Area.append(build)\n",
    "\n",
    "   \n",
    "    \n",
    "Post=driver.find_elements(By.XPATH,'/html/body/div[4]/section[2]/div/section/div/div/div/div[3]/div[1]/div[6]/div[1]/div[1]/div/div/div[*]/div/div[2]/div[3]/div[1]/ul/li[3]')\n",
    "for i in Post:\n",
    "    post=i.text\n",
    "    Ad_Posted.append(post)\n",
    "    \n",
    "    \n",
    "   \n",
    "    \n",
    "Rent_price=driver.find_elements(By.XPATH,'//div[@class=\"prsg\"]')\n",
    "for i in Rent_price:\n",
    "    price=i.text\n",
    "    Price.append(price)"
   ]
  },
  {
   "cell_type": "code",
   "execution_count": null,
   "id": "0c1ff620",
   "metadata": {},
   "outputs": [],
   "source": [
    "print(len(Title),len(Address),len(City),len(Build_Up_Area),len(Ad_Posted),len(Price))"
   ]
  },
  {
   "cell_type": "code",
   "execution_count": null,
   "id": "fc2ae179",
   "metadata": {},
   "outputs": [],
   "source": [
    "import pandas as pd\n",
    "df=pd.DataFrame({'Title':Title, 'Address':Address,'City':City,'Build_Up_Area':Build_Up_Area,'Ad_Posted':Ad_Posted,'Price':Price})\n",
    "df"
   ]
  },
  {
   "cell_type": "code",
   "execution_count": null,
   "id": "1b3a3ef3",
   "metadata": {},
   "outputs": [],
   "source": []
  },
  {
   "cell_type": "code",
   "execution_count": null,
   "id": "60f82882",
   "metadata": {},
   "outputs": [],
   "source": [
    "import csv\n",
    "file_name='rent.csv'\n",
    "with open(file_name,\"w\", encoding=\"utf-8\") as f:\n",
    "    \n",
    "    f.write=csv.writer(f)\n",
    "    f.write.writerow(['No','Title','Address','City','Build_Up_Area','Availability', 'Ad_Posted','Deposit','Price'])\n",
    "    for i in range(len(price)):\n",
    "        f.write.writerow([i+1,Title[i],Address[i],City[i],Build_Up_Area[i],Ad_Posted[i],Price[i]])"
   ]
  },
  {
   "cell_type": "code",
   "execution_count": null,
   "id": "eb615a99",
   "metadata": {},
   "outputs": [],
   "source": []
  },
  {
   "cell_type": "code",
   "execution_count": null,
   "id": "c5f86503",
   "metadata": {},
   "outputs": [],
   "source": []
  }
 ],
 "metadata": {
  "kernelspec": {
   "display_name": "Python 3 (ipykernel)",
   "language": "python",
   "name": "python3"
  },
  "language_info": {
   "codemirror_mode": {
    "name": "ipython",
    "version": 3
   },
   "file_extension": ".py",
   "mimetype": "text/x-python",
   "name": "python",
   "nbconvert_exporter": "python",
   "pygments_lexer": "ipython3",
   "version": "3.9.13"
  }
 },
 "nbformat": 4,
 "nbformat_minor": 5
}
