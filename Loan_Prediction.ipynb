{
 "cells": [
  {
   "cell_type": "code",
   "execution_count": null,
   "id": "ae482a83",
   "metadata": {},
   "outputs": [],
   "source": [
    "import pandas as pd\n",
    "import numpy as np\n",
    "import seaborn as sns\n",
    "import matplotlib.pyplot as plt\n",
    "%matplotlib inline\n",
    "import warnings\n",
    "warnings.filterwarnings('ignore')"
   ]
  },
  {
   "cell_type": "code",
   "execution_count": null,
   "id": "ee198536",
   "metadata": {},
   "outputs": [],
   "source": [
    "loan_dataset=pd.read_csv('https://raw.githubusercontent.com/dsrscientist/DSData/master/loan_prediction.csv')\n",
    "loan_dataset"
   ]
  },
  {
   "cell_type": "code",
   "execution_count": null,
   "id": "74090bb8",
   "metadata": {},
   "outputs": [],
   "source": [
    "loan_dataset.shape"
   ]
  },
  {
   "cell_type": "code",
   "execution_count": null,
   "id": "a2fc0ff0",
   "metadata": {},
   "outputs": [],
   "source": [
    "loan_dataset.info()"
   ]
  },
  {
   "cell_type": "code",
   "execution_count": null,
   "id": "2826c565",
   "metadata": {},
   "outputs": [],
   "source": [
    "loan_dataset.isnull().sum()"
   ]
  },
  {
   "cell_type": "code",
   "execution_count": null,
   "id": "433579cf",
   "metadata": {},
   "outputs": [],
   "source": [
    "loan_dataset.describe()"
   ]
  },
  {
   "cell_type": "code",
   "execution_count": null,
   "id": "38a73b63",
   "metadata": {},
   "outputs": [],
   "source": [
    "category=['Gender','Married','Dependents','Education','Self_Employed',\n",
    "          'Loan_Amount_Term','Property_Area','Credit_History','Loan_Status']\n",
    "for i in category:\n",
    "    print(i)\n",
    "    print(loan_dataset[i].value_counts())\n",
    "    print('='*100)"
   ]
  },
  {
   "cell_type": "code",
   "execution_count": null,
   "id": "fcf092fa",
   "metadata": {},
   "outputs": [],
   "source": [
    "sns.set_palette('gist_rainbow_r')\n",
    "plt.figure(figsize=(20,20))\n",
    "plotnumber=1\n",
    "category=['Gender','Married','Dependents','Education','Self_Employed',\n",
    "          'Loan_Amount_Term','Property_Area','Credit_History','Loan_Status']\n",
    "for i in category:\n",
    "    if plotnumber<=9:\n",
    "        ax=plt.subplot(3,3,plotnumber)\n",
    "        sns.countplot(loan_dataset[i])\n",
    "        plt.xlabel(i,fontsize=20)\n",
    "    plotnumber+=1\n",
    "plt.tight_layout()\n",
    "plt.show()"
   ]
  },
  {
   "cell_type": "code",
   "execution_count": null,
   "id": "b099b2fe",
   "metadata": {},
   "outputs": [],
   "source": [
    "#Let check outliers for missing values Numerical variable having missing values by plotting boxplot.\n",
    "plt.figure(figsize=(14,6))\n",
    "plt.subplot(1,2,1)\n",
    "sns.boxplot( y='LoanAmount', data=loan_dataset,color='red')\n",
    "plt.ylabel('Loan Amount',fontsize=15)\n",
    "plt.subplot(1,2,2)\n",
    "sns.distplot(loan_dataset['LoanAmount'], color='b')\n",
    "plt.xlabel('Loan Amount',fontsize=15)\n",
    "plt.tight_layout()\n",
    "plt.show()"
   ]
  },
  {
   "cell_type": "code",
   "execution_count": null,
   "id": "c012ffa8",
   "metadata": {},
   "outputs": [],
   "source": [
    "print(\"Mean of Loan Amount:\",loan_dataset['LoanAmount'].mean())\n",
    "print(\"Median of Loan Amount:\",loan_dataset['LoanAmount'].median())"
   ]
  },
  {
   "cell_type": "code",
   "execution_count": null,
   "id": "f537b7ee",
   "metadata": {},
   "outputs": [],
   "source": [
    "# Imputating Missing value with mode for categorical features\n",
    "loan_dataset['Credit_History'].fillna(loan_dataset['Credit_History'].mode()[0],inplace=True)\n",
    "loan_dataset['Self_Employed'].fillna(loan_dataset['Self_Employed'].mode()[0],inplace=True)\n",
    "loan_dataset['Dependents'].fillna(loan_dataset['Dependents'].mode()[0], inplace=True)\n",
    "loan_dataset['Gender'].fillna(loan_dataset['Gender'].mode()[0],inplace=True)\n",
    "loan_dataset['Married'].fillna(loan_dataset['Married'].mode()[0],inplace=True)\n",
    "\n",
    "# Imputation of Numerical features\n",
    "loan_dataset['Loan_Amount_Term'].fillna(loan_dataset['Loan_Amount_Term'].mode()[0],inplace=True)\n",
    "loan_dataset['LoanAmount'].fillna(loan_dataset['LoanAmount'].median(), inplace=True)"
   ]
  },
  {
   "cell_type": "code",
   "execution_count": null,
   "id": "fb7cf44e",
   "metadata": {},
   "outputs": [],
   "source": [
    "#Missing Value Check After Imputation\n",
    "missing_values = loan_dataset.isnull().sum().sort_values(ascending = False)\n",
    "percentage_missing_values =(missing_values/len(loan_dataset))*100\n",
    "print(pd.concat([missing_values, percentage_missing_values], axis =1, keys =['Missing Values', '% Missing data']))"
   ]
  },
  {
   "cell_type": "code",
   "execution_count": null,
   "id": "e2c37382",
   "metadata": {},
   "outputs": [],
   "source": [
    "# Visualizing the statistics of the columns using heatmap.\n",
    "plt.figure(figsize=(12,8))\n",
    "sns.heatmap(loan_dataset.describe(),linewidths = 0.1,fmt='0.1f',annot = True,cmap='PiYG')"
   ]
  },
  {
   "cell_type": "code",
   "execution_count": null,
   "id": "bec1fdde",
   "metadata": {},
   "outputs": [],
   "source": [
    "loan_dataset.describe()"
   ]
  },
  {
   "cell_type": "code",
   "execution_count": null,
   "id": "2724fffe",
   "metadata": {},
   "outputs": [],
   "source": [
    "#Target Variable\n",
    "plt.rcParams[\"figure.autolayout\"] = True\n",
    "sns.set_palette('husl')\n",
    "f,ax=plt.subplots(1,2,figsize=(18,8))\n",
    "loan_dataset['Loan_Status'].value_counts().plot.pie(explode=[0,0.1],autopct='%2.1f%%',\n",
    "                                          textprops ={ 'fontweight': 'bold','fontsize':13}, ax=ax[0],shadow=True)\n",
    "ax[0].set_title('Loan Status', fontsize=20,fontweight ='bold')\n",
    "ax[0].set_ylabel('')\n",
    "sns.countplot('Loan_Status',data=loan_dataset,ax=ax[1])\n",
    "ax[1].set_title('Loan Status',fontsize=20,fontweight ='bold')\n",
    "ax[1].set_xlabel(\"Loan Status\",fontsize=18,fontweight ='bold')\n",
    "plt.show()\n"
   ]
  },
  {
   "cell_type": "code",
   "execution_count": null,
   "id": "151fc6b7",
   "metadata": {},
   "outputs": [],
   "source": [
    "#Gender Vs Loan Status\n",
    "plt.rcParams[\"figure.autolayout\"] = True\n",
    "sns.set_palette('husl')\n",
    "f,ax=plt.subplots(1,2,figsize=(16,8))\n",
    "loan_dataset['Gender'].value_counts().plot.pie(explode=[0,0.1],autopct='%2.1f%%',\n",
    "                                          textprops ={ 'fontweight': 'bold','fontsize':13}, ax=ax[0],shadow=True)\n",
    "ax[0].set_title('Gender', fontsize=20,fontweight ='bold')\n",
    "ax[0].set_ylabel('')\n",
    "sns.countplot('Gender',hue=\"Loan_Status\",data=loan_dataset,ax=ax[1])\n",
    "ax[1].set_title('Gender Vs Loan Status',fontsize=20,fontweight ='bold')\n",
    "ax[1].set_xlabel(\"Loan Status\",fontsize=18,fontweight ='bold')\n",
    "plt.xticks(fontsize=14,fontweight ='bold')\n",
    "plt.tight_layout()\n",
    "plt.show()"
   ]
  },
  {
   "cell_type": "code",
   "execution_count": null,
   "id": "d88af81e",
   "metadata": {},
   "outputs": [],
   "source": [
    "pd.crosstab(loan_dataset['Gender'],loan_dataset[\"Loan_Status\"], margins=True).style.background_gradient(cmap='summer_r')\n"
   ]
  },
  {
   "cell_type": "code",
   "execution_count": null,
   "id": "9df1f81e",
   "metadata": {},
   "outputs": [],
   "source": [
    "#Married Vs Loan Status\n",
    "plt.rcParams[\"figure.autolayout\"] = True\n",
    "sns.set_palette('husl')\n",
    "f,ax=plt.subplots(1,2,figsize=(16,8))\n",
    "loan_dataset['Married'].value_counts().plot.pie(explode=[0,0.1],autopct='%2.1f%%',\n",
    "                                          textprops ={ 'fontweight': 'bold','fontsize':13}, ax=ax[0],shadow=True)\n",
    "ax[0].set_title('Married', fontsize=20,fontweight ='bold')\n",
    "ax[0].set_ylabel('')\n",
    "sns.countplot('Married',hue=\"Loan_Status\",data=loan_dataset,ax=ax[1])\n",
    "ax[1].set_title('Married Vs Loan Status',fontsize=20,fontweight ='bold')\n",
    "ax[1].set_xlabel(\"Married\",fontsize=18,fontweight ='bold')\n",
    "plt.xticks(fontsize=14,fontweight ='bold')\n",
    "plt.tight_layout()\n",
    "plt.show()\n"
   ]
  },
  {
   "cell_type": "code",
   "execution_count": null,
   "id": "666cbbcd",
   "metadata": {},
   "outputs": [],
   "source": [
    "pd.crosstab([loan_dataset['Gender'],loan_dataset['Married']],[loan_dataset.Loan_Status],margins=True).style.background_gradient(cmap='gist_rainbow_r')\n"
   ]
  },
  {
   "cell_type": "code",
   "execution_count": null,
   "id": "277837ba",
   "metadata": {},
   "outputs": [],
   "source": [
    "#Let check how number dependents play here.\n",
    "plt.rcParams[\"figure.autolayout\"] = True\n",
    "sns.set_palette('Set2')\n",
    "f,ax=plt.subplots(1,2,figsize=(16,8))\n",
    "loan_dataset['Dependents'].value_counts().plot.pie(explode=[0,0.1,0.15,0.2],autopct='%2.1f%%',\n",
    "                                          textprops ={ 'fontweight': 'bold','fontsize':13}, ax=ax[0],shadow=True)\n",
    "ax[0].set_title('No. of Dependents', fontsize=20,fontweight ='bold')\n",
    "ax[0].set_ylabel('')\n",
    "sns.countplot('Dependents',hue=\"Loan_Status\",data=loan_dataset,ax=ax[1])\n",
    "ax[1].set_title('No. of Dependents Vs Loan Status',fontsize=20,fontweight ='bold')\n",
    "ax[1].set_xlabel(\"Dependents\",fontsize=18,fontweight ='bold')\n",
    "plt.xticks(fontsize=14,fontweight ='bold')\n",
    "plt.tight_layout()\n",
    "plt.show()"
   ]
  },
  {
   "cell_type": "code",
   "execution_count": null,
   "id": "da708239",
   "metadata": {},
   "outputs": [],
   "source": [
    "pd.crosstab([loan_dataset['Dependents']],[loan_dataset.Loan_Status,loan_dataset['Gender']],margins=True).style.background_gradient(cmap='summer_r')\n"
   ]
  },
  {
   "cell_type": "code",
   "execution_count": null,
   "id": "8eeda411",
   "metadata": {},
   "outputs": [],
   "source": [
    "pd.crosstab([loan_dataset['Dependents'],loan_dataset['Gender']],[loan_dataset.Loan_Status],margins=True).style.background_gradient(cmap='Blues')"
   ]
  },
  {
   "cell_type": "code",
   "execution_count": null,
   "id": "563a6902",
   "metadata": {},
   "outputs": [],
   "source": [
    "#Education Vs Loan status\n",
    "plt.rcParams[\"figure.autolayout\"] = True\n",
    "sns.set_palette('prism')\n",
    "f,ax=plt.subplots(1,2,figsize=(16,8))\n",
    "loan_dataset['Education'].value_counts().plot.pie(explode=[0,0.1],autopct='%2.1f%%',\n",
    "                                          textprops ={ 'fontweight': 'bold','fontsize':13}, ax=ax[0],shadow=True)\n",
    "ax[0].set_title('Education', fontsize=20,fontweight ='bold')\n",
    "ax[0].set_ylabel('')\n",
    "sns.countplot('Education',hue=\"Loan_Status\",data=loan_dataset,ax=ax[1])\n",
    "ax[1].set_title('Education Vs Loan Status',fontsize=20,fontweight ='bold')\n",
    "ax[1].set_xlabel(\"Education\",fontsize=18,fontweight ='bold')\n",
    "plt.xticks(fontsize=14,fontweight ='bold')\n",
    "plt.tight_layout()\n",
    "plt.show()"
   ]
  },
  {
   "cell_type": "code",
   "execution_count": null,
   "id": "7c106f42",
   "metadata": {},
   "outputs": [],
   "source": [
    "pd.crosstab([loan_dataset['Education'],loan_dataset['Gender']],[loan_dataset.Loan_Status],margins=True).style.background_gradient(cmap='Blues')"
   ]
  },
  {
   "cell_type": "code",
   "execution_count": null,
   "id": "a9623bd9",
   "metadata": {},
   "outputs": [],
   "source": [
    "#Encoding categorical data\n",
    "Category=['Gender','Married','Education','Self_Employed','Property_Area','Loan_Status']"
   ]
  },
  {
   "cell_type": "code",
   "execution_count": null,
   "id": "04d03327",
   "metadata": {},
   "outputs": [],
   "source": [
    "# Using Label Encoder on categorical variable\n",
    "from sklearn.preprocessing import LabelEncoder\n",
    "le = LabelEncoder()\n",
    "for i in Category:\n",
    "    loan_dataset[i] = le.fit_transform(loan_dataset[i])\n",
    "loan_dataset.head()\n"
   ]
  },
  {
   "cell_type": "code",
   "execution_count": null,
   "id": "068a4e64",
   "metadata": {},
   "outputs": [],
   "source": [
    "#Outliers Detection and Removal\n",
    "Numerical =['ApplicantIncome','CoapplicantIncome','LoanAmount','Loan_Amount_Term']\n",
    "plt.figure(figsize=(12,8),facecolor='white')\n",
    "plotnumber=1\n",
    "\n",
    "for column in Numerical:\n",
    "    if plotnumber<=4:\n",
    "        ax=plt.subplot(2,2,plotnumber)\n",
    "        sns.boxplot(loan_dataset[column],color='c')\n",
    "        plt.xlabel(column,fontsize=20)\n",
    "    plotnumber+=1\n",
    "plt.tight_layout()\n",
    "plt.show()"
   ]
  },
  {
   "cell_type": "code",
   "execution_count": null,
   "id": "966121bf",
   "metadata": {},
   "outputs": [],
   "source": [
    "# Droping unnecessary columns\n",
    "loan_dataset.drop([\"Loan_ID\"], axis=1, inplace=True)"
   ]
  },
  {
   "cell_type": "code",
   "execution_count": null,
   "id": "081044ae",
   "metadata": {},
   "outputs": [],
   "source": [
    "loan_dataset['Dependents'] = loan_dataset.Dependents.map({'0':0,'1':1,'2':2,'3+':3})"
   ]
  },
  {
   "cell_type": "code",
   "execution_count": null,
   "id": "e6fad01c",
   "metadata": {},
   "outputs": [],
   "source": [
    "loan_dataset['Dependents'] =pd.to_numeric(loan_dataset['Dependents'])"
   ]
  },
  {
   "cell_type": "code",
   "execution_count": null,
   "id": "c0808d97",
   "metadata": {},
   "outputs": [],
   "source": [
    "from scipy.stats import zscore\n",
    "z = np.abs(zscore(loan_dataset))\n",
    "threshold = 3\n",
    "loan_dataset1 = loan_dataset[(z<3).all(axis = 1)]\n",
    "\n",
    "print (\"Shape of the dataframe before removing outliers: \", loan_dataset.shape)\n",
    "print (\"Shape of the dataframe after removing outliers: \", loan_dataset1.shape)\n",
    "print (\"Percentage of data loss post outlier removal: \", (loan_dataset.shape[0]-loan_dataset1.shape[0])/loan_dataset.shape[0]*100)\n",
    "\n",
    "loan_dataset=loan_dataset1.copy() # reassigning the changed dataframe name to our original dataframe name"
   ]
  },
  {
   "cell_type": "code",
   "execution_count": null,
   "id": "77f1ae38",
   "metadata": {},
   "outputs": [],
   "source": [
    "#Data Loss\n",
    "print(\"\\033[1m\"+'Percentage Data Loss :'+\"\\033[0m\",((614-577)/614)*100,'%')"
   ]
  },
  {
   "cell_type": "code",
   "execution_count": null,
   "id": "118cd4a8",
   "metadata": {},
   "outputs": [],
   "source": [
    "#Skewness of features\n",
    "plt.figure(figsize=(22,5),facecolor='white')\n",
    "plotnum=1\n",
    "for col in Numerical:\n",
    "    if plotnum<=4:\n",
    "        plt.subplot(1,4,plotnum)\n",
    "        sns.distplot(loan_dataset[col],color='r')\n",
    "        plt.xlabel(col,fontsize=20)\n",
    "    plotnum+=1\n",
    "plt.show()"
   ]
  },
  {
   "cell_type": "code",
   "execution_count": null,
   "id": "891bb267",
   "metadata": {},
   "outputs": [],
   "source": [
    "loan_dataset.skew()"
   ]
  },
  {
   "cell_type": "code",
   "execution_count": null,
   "id": "8fbb326d",
   "metadata": {},
   "outputs": [],
   "source": [
    "# Removing skewness using yeo-johnson  method to get better prediction\n",
    "skew = ['ApplicantIncome', 'CoapplicantIncome', 'LoanAmount']\n",
    "\n",
    "from sklearn.preprocessing import PowerTransformer\n",
    "scaler = PowerTransformer(method='yeo-johnson')"
   ]
  },
  {
   "cell_type": "code",
   "execution_count": null,
   "id": "da602279",
   "metadata": {},
   "outputs": [],
   "source": [
    "loan_dataset[skew] = scaler.fit_transform(loan_dataset[skew].values)\n",
    "loan_dataset[skew].head()"
   ]
  },
  {
   "cell_type": "code",
   "execution_count": null,
   "id": "fc7f44b4",
   "metadata": {},
   "outputs": [],
   "source": [
    "#Checking skewness after using yeo-johnson ethod\n",
    "loan_dataset.skew()"
   ]
  },
  {
   "cell_type": "code",
   "execution_count": null,
   "id": "3ce459bb",
   "metadata": {},
   "outputs": [],
   "source": [
    "#Corrleation\n",
    "loan_dataset.corr()"
   ]
  },
  {
   "cell_type": "code",
   "execution_count": null,
   "id": "d91b74c9",
   "metadata": {},
   "outputs": [],
   "source": [
    "plt.figure(figsize=(21,13))\n",
    "sns.heatmap(loan_dataset.corr(), vmin=-1, vmax=1, annot=True, square=True, fmt='0.3f', \n",
    "            annot_kws={'size':10}, cmap=\"gist_stern\")\n",
    "plt.xticks(fontsize=12)\n",
    "plt.yticks(fontsize=12)\n",
    "plt.show()"
   ]
  },
  {
   "cell_type": "code",
   "execution_count": null,
   "id": "28986814",
   "metadata": {},
   "outputs": [],
   "source": [
    "plt.figure(figsize = (18,6))\n",
    "loan_dataset.corr()['Loan_Status'].drop(['Loan_Status']).sort_values(ascending=False).plot(kind='bar',color = 'purple')\n",
    "plt.xlabel('Features',fontsize=15)\n",
    "plt.ylabel('Income',fontsize=15)\n",
    "plt.title('Correlation of features with Target Variable Loan_Status',fontsize = 18)\n",
    "plt.show()"
   ]
  },
  {
   "cell_type": "code",
   "execution_count": null,
   "id": "329e9356",
   "metadata": {},
   "outputs": [],
   "source": [
    "#Checking Multicollinearity between features using variance_inflation_factor\n",
    "from statsmodels.stats.outliers_influence import variance_inflation_factor\n",
    "vif= pd.DataFrame()\n",
    "vif['VIF']= [variance_inflation_factor(loan_dataset.values,i) for i in range(loan_dataset.shape[1])]\n",
    "vif['Features']= loan_dataset.columns\n",
    "vif"
   ]
  },
  {
   "cell_type": "code",
   "execution_count": null,
   "id": "7080a311",
   "metadata": {},
   "outputs": [],
   "source": [
    "# Splitting data in target and dependent feature\n",
    "\n",
    "X = loan_dataset.drop(['Loan_Status'], axis =1)\n",
    "Y = loan_dataset['Loan_Status']"
   ]
  },
  {
   "cell_type": "code",
   "execution_count": null,
   "id": "c473e016",
   "metadata": {},
   "outputs": [],
   "source": [
    "#Balanceing Imbalanced target feature\n",
    "loan_dataset.Loan_Status.value_counts()"
   ]
  },
  {
   "cell_type": "code",
   "execution_count": null,
   "id": "c1af8a66",
   "metadata": {},
   "outputs": [],
   "source": [
    "#Standard Scaling\n",
    "from sklearn.preprocessing import StandardScaler\n",
    "scaler= StandardScaler()\n",
    "X_scale = scaler.fit_transform(X)"
   ]
  },
  {
   "cell_type": "code",
   "execution_count": null,
   "id": "8b30113b",
   "metadata": {},
   "outputs": [],
   "source": [
    "#Machine Learning Model Building\n",
    "from sklearn.model_selection import train_test_split\n",
    "from sklearn.linear_model import LogisticRegression\n",
    "from sklearn.naive_bayes import GaussianNB\n",
    "from sklearn.svm import SVC\n",
    "from sklearn.tree import DecisionTreeClassifier\n",
    "from sklearn.neighbors import KNeighborsClassifier\n",
    "from sklearn.ensemble import RandomForestClassifier\n",
    "from sklearn.ensemble import ExtraTreesClassifier\n",
    "from sklearn.neighbors import KNeighborsClassifier\n",
    "from sklearn.metrics import accuracy_score, confusion_matrix,classification_report,f1_score"
   ]
  },
  {
   "cell_type": "code",
   "execution_count": null,
   "id": "013e225f",
   "metadata": {},
   "outputs": [],
   "source": [
    "X_train, X_test, Y_train, Y_test = train_test_split(X_scale, Y, random_state=99, test_size=.3)\n",
    "print('Training feature matrix size:',X_train.shape)\n",
    "print('Training target vector size:',Y_train.shape)\n",
    "print('Test feature matrix size:',X_test.shape)\n",
    "print('Test target vector size:',Y_test.shape)"
   ]
  },
  {
   "cell_type": "code",
   "execution_count": null,
   "id": "e127ee23",
   "metadata": {},
   "outputs": [],
   "source": [
    "#Finding best Random state\n",
    "from sklearn.linear_model import LogisticRegression\n",
    "from sklearn.metrics import accuracy_score, confusion_matrix,classification_report,f1_score\n",
    "maxAccu=0\n",
    "maxRS=0\n",
    "for i in range(1,250):\n",
    "    X_train,X_test,Y_train,Y_test = train_test_split(X_scale,Y,test_size = 0.3, random_state=i)\n",
    "    log_reg=LogisticRegression()\n",
    "    log_reg.fit(X_train,Y_train)\n",
    "    y_pred=log_reg.predict(X_test)\n",
    "    acc=accuracy_score(Y_test,y_pred)\n",
    "    if acc>maxAccu:\n",
    "        maxAccu=acc\n",
    "        maxRS=i\n",
    "print('Best accuracy is', maxAccu ,'on Random_state', maxRS)"
   ]
  },
  {
   "cell_type": "code",
   "execution_count": null,
   "id": "966334ba",
   "metadata": {},
   "outputs": [],
   "source": [
    "#Logistics Regression Model\n",
    "X_train, X_test, Y_train, Y_test = train_test_split(X_scale, Y, random_state=78, test_size=.3)\n",
    "log_reg=LogisticRegression()\n",
    "log_reg.fit(X_train,Y_train)\n",
    "y_pred=log_reg.predict(X_test)\n",
    "print('\\033[1m'+'Logistics Regression Evaluation'+'\\033[0m')\n",
    "print('\\n')\n",
    "print('\\033[1m'+'Accuracy Score of Logistics Regression :'+'\\033[0m', accuracy_score(Y_test, y_pred))\n",
    "print('\\n')\n",
    "print('\\033[1m'+'Confusion matrix of Logistics Regression :'+'\\033[0m \\n',confusion_matrix(Y_test, y_pred))\n",
    "print('\\n')\n",
    "print('\\033[1m'+'classification Report of Logistics Regression'+'\\033[0m \\n',classification_report(Y_test, y_pred))"
   ]
  },
  {
   "cell_type": "code",
   "execution_count": null,
   "id": "f2abfd6d",
   "metadata": {},
   "outputs": [],
   "source": []
  },
  {
   "cell_type": "code",
   "execution_count": null,
   "id": "455bae33",
   "metadata": {},
   "outputs": [],
   "source": []
  }
 ],
 "metadata": {
  "kernelspec": {
   "display_name": "Python 3 (ipykernel)",
   "language": "python",
   "name": "python3"
  },
  "language_info": {
   "codemirror_mode": {
    "name": "ipython",
    "version": 3
   },
   "file_extension": ".py",
   "mimetype": "text/x-python",
   "name": "python",
   "nbconvert_exporter": "python",
   "pygments_lexer": "ipython3",
   "version": "3.9.13"
  }
 },
 "nbformat": 4,
 "nbformat_minor": 5
}
