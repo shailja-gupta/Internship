{
 "cells": [
  {
   "cell_type": "code",
   "execution_count": null,
   "id": "e130d4aa",
   "metadata": {},
   "outputs": [],
   "source": [
    "import pandas as pd\n",
    "import numpy as np\n",
    "import seaborn as sns\n",
    "import matplotlib.pyplot as plt\n",
    "%matplotlib inline\n",
    "import warnings\n",
    "warnings.filterwarnings('ignore')\n"
   ]
  },
  {
   "cell_type": "code",
   "execution_count": null,
   "id": "f182350a",
   "metadata": {},
   "outputs": [],
   "source": [
    "plant_database=pd.read_csv('https://raw.githubusercontent.com/wri/global-power-plant-database/master/source_databases_csv/database_IND.csv')\n",
    "plant_database"
   ]
  },
  {
   "cell_type": "code",
   "execution_count": null,
   "id": "71312dc1",
   "metadata": {},
   "outputs": [],
   "source": []
  },
  {
   "cell_type": "code",
   "execution_count": null,
   "id": "941822b1",
   "metadata": {},
   "outputs": [],
   "source": [
    "plant_database.shape"
   ]
  },
  {
   "cell_type": "code",
   "execution_count": null,
   "id": "5c7cb2c9",
   "metadata": {},
   "outputs": [],
   "source": [
    "plant_database.info()"
   ]
  },
  {
   "cell_type": "code",
   "execution_count": null,
   "id": "ef69f942",
   "metadata": {},
   "outputs": [],
   "source": [
    "#plant_database.drop(columns=['country','country_long','url','gppd_idnr','owner','other_fuel2','other_fuel3','year_of_capacity_data','estimated_generation_gwh','wepp_id','generation_gwh_2013'], axis=1,inplace=True)\n",
    "plant_database.drop(columns=['estimated_generation_gwh','wepp_id','generation_gwh_2013','generation_gwh_2019'],axis=1,inplace=True)"
   ]
  },
  {
   "cell_type": "code",
   "execution_count": null,
   "id": "6f04d58f",
   "metadata": {},
   "outputs": [],
   "source": [
    "plant_database"
   ]
  },
  {
   "cell_type": "code",
   "execution_count": null,
   "id": "00037862",
   "metadata": {},
   "outputs": [],
   "source": [
    "plant_database.dtypes"
   ]
  },
  {
   "cell_type": "code",
   "execution_count": null,
   "id": "a8614e71",
   "metadata": {},
   "outputs": [],
   "source": [
    "plant_database.isnull().sum()"
   ]
  },
  {
   "cell_type": "code",
   "execution_count": null,
   "id": "5515b68f",
   "metadata": {},
   "outputs": [],
   "source": [
    "# check any whitespce,NA and - exist in database\n",
    "plant_database.isin(['','NA','-','?']).sum().any()"
   ]
  },
  {
   "cell_type": "code",
   "execution_count": null,
   "id": "5b111bf9",
   "metadata": {},
   "outputs": [],
   "source": [
    "#Percentage of data is missing from dataset\n",
    "missing_values=plant_database.isnull().sum().sort_values(ascending=False)\n",
    "percentage_missing_values=(missing_values/len(plant_database))*100\n",
    "print(pd.concat([missing_values, percentage_missing_values], axis=1, keys=['Missing Values', '%Missing data']))"
   ]
  },
  {
   "cell_type": "code",
   "execution_count": null,
   "id": "ed29e166",
   "metadata": {},
   "outputs": [],
   "source": [
    "#Missing value impuatation\n",
    "plt.figure(figsize=(15,7))\n",
    "plt.subplot(1,2,1)\n",
    "sns.boxplot(y='longitude', data=plant_database)\n",
    "plt.ylabel('longitude')\n",
    "plt.subplot(1,2,2)\n",
    "sns.distplot(plant_database['longitude'])\n",
    "plt.xlabel('longitude')\n",
    "plt.tight_layout()\n",
    "plt.show()"
   ]
  },
  {
   "cell_type": "code",
   "execution_count": null,
   "id": "8a7e4606",
   "metadata": {},
   "outputs": [],
   "source": [
    "plt.figure(figsize=(15,7))\n",
    "plt.subplot(1,2,1)\n",
    "sns.boxplot(y='latitude', data=plant_database)\n",
    "plt.ylabel('latitude')\n",
    "plt.subplot(1,2,2)\n",
    "sns.distplot(plant_database['latitude'])\n",
    "plt.xlabel('latiitude')\n",
    "plt.tight_layout()\n",
    "plt.show()"
   ]
  },
  {
   "cell_type": "code",
   "execution_count": null,
   "id": "438788a3",
   "metadata": {},
   "outputs": [],
   "source": [
    "#Missing value imputation of geolocation with mode\n",
    "plant_database['geolocation_source']=plant_database['geolocation_source'].fillna(plant_database['geolocation_source'].mode()[0])\n",
    "\n",
    "# Missing value imputation of longitude with median\n",
    "plant_database['longitude']=plant_database['longitude'].fillna(plant_database['longitude'].median())\n",
    "\n",
    "# Missing value imputation of latitude with mean\n",
    "plant_database['latitude']=plant_database['latitude'].fillna(plant_database['latitude'].mean())\n",
    "\n",
    "                                                                                "
   ]
  },
  {
   "cell_type": "code",
   "execution_count": null,
   "id": "052eec08",
   "metadata": {},
   "outputs": [],
   "source": [
    "#Finding what percentage of data is missing from the dataset\n",
    "missing_values = plant_database.isnull().sum().sort_values(ascending = False)\n",
    "percentage_missing_values =(missing_values/len(plant_database))*100\n",
    "print(pd.concat([missing_values, percentage_missing_values], axis =1, keys =['Missing Values', '% Missing data']))"
   ]
  },
  {
   "cell_type": "code",
   "execution_count": null,
   "id": "b0a86664",
   "metadata": {},
   "outputs": [],
   "source": [
    "plant_database.describe()"
   ]
  },
  {
   "cell_type": "code",
   "execution_count": null,
   "id": "46255889",
   "metadata": {},
   "outputs": [],
   "source": [
    "# check the minimum and maximum capacity of powerplant\n",
    "print('Maximum capacity of powerplant: ', plant_database.capacity_mw.max())\n",
    "print('Manimum capacity of powerplant: ', plant_database.capacity_mw.min())"
   ]
  },
  {
   "cell_type": "code",
   "execution_count": null,
   "id": "a8d136c1",
   "metadata": {},
   "outputs": [],
   "source": [
    "plant_database.loc[plant_database.capacity_mw==4760]"
   ]
  },
  {
   "cell_type": "code",
   "execution_count": null,
   "id": "9b60ed20",
   "metadata": {},
   "outputs": [],
   "source": [
    "plant_database.loc[plant_database.capacity_mw==0]"
   ]
  },
  {
   "cell_type": "code",
   "execution_count": null,
   "id": "9b9a2672",
   "metadata": {},
   "outputs": [],
   "source": [
    "plt.figure(figsize=(10,6))\n",
    "sns.violinplot(plant_database.capacity_mw)\n",
    "plt.show()"
   ]
  },
  {
   "cell_type": "code",
   "execution_count": null,
   "id": "d2d58a39",
   "metadata": {},
   "outputs": [],
   "source": [
    "plant_database.loc[plant_database.capacity_mw > 1500].shape"
   ]
  },
  {
   "cell_type": "code",
   "execution_count": null,
   "id": "59ae3759",
   "metadata": {},
   "outputs": [],
   "source": [
    "pd.crosstab(plant_database['capacity_mw'],plant_database['primary_fuel'],margins=True)"
   ]
  },
  {
   "cell_type": "code",
   "execution_count": null,
   "id": "9c573852",
   "metadata": {},
   "outputs": [],
   "source": [
    "plt.rcParams[\"figure.autolayout\"] = True\n",
    "sns.set_palette('husl')\n",
    "f,ax=plt.subplots(1,2,figsize=(18,8))\n",
    "plant_database['primary_fuel'].value_counts().plot.pie(autopct='%2.1f%%',\n",
    "                                          textprops ={ 'fontweight': 'bold','fontsize':13}, ax=ax[0],shadow=True)\n",
    "ax[0].set_title('primary_fuel', fontsize=20,fontweight ='bold')\n",
    "ax[0].set_ylabel('')\n",
    "sns.countplot('primary_fuel',data=plant_database,ax=ax[1])\n",
    "ax[1].set_title('primary_fuel',fontsize=20,fontweight ='bold')\n",
    "ax[1].set_xlabel(\"primary_fuel\",fontsize=18,fontweight ='bold')\n",
    "plt.show()"
   ]
  },
  {
   "cell_type": "code",
   "execution_count": null,
   "id": "11268267",
   "metadata": {},
   "outputs": [],
   "source": [
    "plant_database.primary_fuel.value_counts()"
   ]
  },
  {
   "cell_type": "code",
   "execution_count": null,
   "id": "dfe452bd",
   "metadata": {},
   "outputs": [],
   "source": [
    "print('Total power generation capacity of all power plants: ',plant_database['capacity_mw'].sum(),'MW')"
   ]
  },
  {
   "cell_type": "code",
   "execution_count": null,
   "id": "56d5a5cf",
   "metadata": {},
   "outputs": [],
   "source": [
    "# sector wise capacity\n",
    "plant_database['capacity_mw'].groupby(plant_database['primary_fuel']).agg([sum])"
   ]
  },
  {
   "cell_type": "code",
   "execution_count": null,
   "id": "fe588432",
   "metadata": {},
   "outputs": [],
   "source": [
    "# Comparision between primary fuel and average capacity_mw\n",
    "\n",
    "#Lets check the relation between primary_fuel and  Average capacity_mw\n",
    "plt.figure(figsize = (10,8))\n",
    "y = plant_database[\"capacity_mw\"]\n",
    "p = sns.barplot(x = \"primary_fuel\", y = \"capacity_mw\", data = plant_database)\n",
    "plt.title('Comparision between Primary fuel Type and Mean Capacity in mw', fontsize=22, fontweight='bold')\n",
    "p.set_xlabel('Primary fuel Type',fontsize=18,fontweight ='bold')\n",
    "p.set_ylabel('Mean Capacity in mw',fontsize=18,fontweight ='bold')\n",
    "plt.xticks(fontsize=16,fontweight ='bold',rotation=30)\n",
    "plt.yticks(fontsize=16,fontweight ='bold')\n",
    "plt.show()\n"
   ]
  },
  {
   "cell_type": "code",
   "execution_count": null,
   "id": "84307a45",
   "metadata": {},
   "outputs": [],
   "source": [
    "fig,axes=plt.subplots(2,2,figsize=(15,12))\n",
    "\n",
    "# Generation growth in 2017\n",
    "sns.barplot(x='primary_fuel',y='generation_gwh_2017',ax=axes[0,0],data=plant_database)\n",
    "\n",
    "# Generation growth in 2014\n",
    "sns.barplot(x='primary_fuel',y='generation_gwh_2014',ax=axes[0,1],data=plant_database)\n",
    "\n",
    "# Generation growth in 2015\n",
    "sns.barplot(x='primary_fuel',y='generation_gwh_2015',ax=axes[1,0],data=plant_database, palette='Set2')\n",
    "\n",
    "# Generation growth in 2016\n",
    "sns.barplot(x='primary_fuel',y='generation_gwh_2016',ax=axes[1,1],data=plant_database, palette='ch:.25')\n",
    "plt.show()\n",
    "\n"
   ]
  },
  {
   "cell_type": "code",
   "execution_count": null,
   "id": "8c14e429",
   "metadata": {},
   "outputs": [],
   "source": [
    "# check how the primary fuel is reated to longitude of the power plant\n",
    "plt.figure(figsize=[10,6])\n",
    "plt.style.use('ggplot')\n",
    "plt.title('Comparision between longitude and primary_fuel')\n",
    "a = sns.boxplot(plant_database['primary_fuel'],plant_database[\"longitude\"])\n",
    "a.set_xlabel('Primary fuel Type')\n",
    "a.set_ylabel('longitude')\n",
    "plt.show()"
   ]
  },
  {
   "cell_type": "code",
   "execution_count": null,
   "id": "17adff5a",
   "metadata": {},
   "outputs": [],
   "source": [
    "# check how the primary fuel is reated to latitude of the power plant\n",
    "plt.figure(figsize=[10,6])\n",
    "plt.style.use('ggplot')\n",
    "plt.title('Comparision between latitude and primary_fuel')\n",
    "a = sns.boxplot(plant_database['primary_fuel'],plant_database[\"latitude\"])\n",
    "a.set_xlabel('Primary fuel Type')\n",
    "a.set_ylabel('latitude')\n",
    "plt.show()"
   ]
  },
  {
   "cell_type": "code",
   "execution_count": null,
   "id": "e7f02993",
   "metadata": {},
   "outputs": [],
   "source": [
    "# check how the capacity is reated to latitude of the power plant\n",
    "plt.figure(figsize=[10,6])\n",
    "plt.style.use('ggplot')\n",
    "plt.title('Comparision between latitude and capacity')\n",
    "a = sns.scatterplot(plant_database['latitude'],plant_database[\"capacity_mw\"])\n",
    "a.set_xlabel('capacity')\n",
    "a.set_ylabel('latitude')\n",
    "plt.show()"
   ]
  },
  {
   "cell_type": "code",
   "execution_count": null,
   "id": "b217e7d8",
   "metadata": {},
   "outputs": [],
   "source": [
    "# check how the capacity is reated to longitude of the power plant\n",
    "plt.figure(figsize=[10,6])\n",
    "plt.style.use('ggplot')\n",
    "plt.title('Comparision between longitude and capacity')\n",
    "a = sns.regplot(plant_database['longitude'],plant_database[\"capacity_mw\"])\n",
    "a.set_xlabel('capacity')\n",
    "a.set_ylabel('longitude')\n",
    "plt.show()"
   ]
  },
  {
   "cell_type": "code",
   "execution_count": null,
   "id": "2a8f689e",
   "metadata": {},
   "outputs": [],
   "source": [
    "# extract power plant age from commissioning year by subtracting it from the year 2018\n",
    "plant_database['Power_plant_age']=2018-plant_database['commissioning_year']\n",
    "plant_database.drop(columns=['commissioning_year'],inplace=True)"
   ]
  },
  {
   "cell_type": "code",
   "execution_count": null,
   "id": "923ac0ca",
   "metadata": {},
   "outputs": [],
   "source": [
    "print('The oldest powerplant age: ', plant_database.Power_plant_age.max())\n",
    "print('The youngest powerplant age: ', plant_database.Power_plant_age.min())"
   ]
  },
  {
   "cell_type": "code",
   "execution_count": null,
   "id": "403a2ee9",
   "metadata": {},
   "outputs": [],
   "source": [
    "plant_database.loc[plant_database.Power_plant_age==91]"
   ]
  },
  {
   "cell_type": "code",
   "execution_count": null,
   "id": "015f2ab1",
   "metadata": {},
   "outputs": [],
   "source": [
    "#Lets check how the power plant age affects Fuel Type\n",
    "plt.figure(figsize = (10,6))\n",
    "plt.title(\"Comparision between primary_fuel and Power plant age\")\n",
    "a= sns.barplot(x = \"primary_fuel\", y = \"Power_plant_age\", data = plant_database,palette=\"Set2\")\n",
    "a.set_xlabel('Primary fuel Type')\n",
    "a.set_ylabel('Power_plant_age')\n",
    "plt.show()"
   ]
  },
  {
   "cell_type": "code",
   "execution_count": null,
   "id": "ac49d4b7",
   "metadata": {},
   "outputs": [],
   "source": [
    "# Let's check how the Power_plant_age affects the capacity of the power plant\n",
    "plt.figure(figsize=[10,6])\n",
    "plt.title('Comparision between Power_plant_age and capacity_mw')\n",
    "sns.regplot(plant_database['Power_plant_age'],plant_database['capacity_mw'])"
   ]
  },
  {
   "cell_type": "code",
   "execution_count": null,
   "id": "e15417af",
   "metadata": {},
   "outputs": [],
   "source": [
    "#Lets check the relation between source and capacity_mw\n",
    "plt.figure(figsize = (10,6))\n",
    "sns.barplot(x = \"geolocation_source\", y = \"capacity_mw\", data = plant_database)\n",
    "plt.show()"
   ]
  },
  {
   "cell_type": "code",
   "execution_count": null,
   "id": "79cf4e2f",
   "metadata": {},
   "outputs": [],
   "source": [
    "labels='WRI','Industry About','National Renewable Energy Laboratory'\n",
    "fig, ax = plt.subplots(figsize=(6,5))\n",
    "ax.pie(plant_database['geolocation_source'].value_counts(), labels=labels, autopct='%1.2f%%', shadow=True)\n",
    "plt.show()\n"
   ]
  },
  {
   "cell_type": "code",
   "execution_count": null,
   "id": "1eaff4e7",
   "metadata": {},
   "outputs": [],
   "source": [
    "#Distribution of features\n",
    "Numerical=['capacity_mw', 'latitude', 'longitude', 'generation_gwh_2014', 'generation_gwh_2015',\n",
    "           'generation_gwh_2016', 'generation_gwh_2017', 'Power_plant_age']"
   ]
  },
  {
   "cell_type": "code",
   "execution_count": null,
   "id": "5a67a74d",
   "metadata": {},
   "outputs": [],
   "source": [
    "# Checking how the data has been distributed in each column\n",
    "\n",
    "plt.figure(figsize=(20,15))\n",
    "plotnumber=1\n",
    "for col in Numerical:\n",
    "    if plotnumber<=9:\n",
    "        ax=plt.subplot(3,3,plotnumber)\n",
    "        sns.distplot(plant_database[col])\n",
    "        plt.xlabel(col,fontsize=20)\n",
    "    plotnumber+=1\n",
    "plt.tight_layout()"
   ]
  },
  {
   "cell_type": "code",
   "execution_count": null,
   "id": "9133b86f",
   "metadata": {},
   "outputs": [],
   "source": [
    "fig,axes=plt.subplots(2,2,figsize=(15,12))\n",
    "\n",
    "# Checking generation growth in 2014\n",
    "sns.scatterplot(x='generation_gwh_2014',y='capacity_mw',ax=axes[0,0],data=plant_database)\n",
    "\n",
    "# Checking generation growth in 2015\n",
    "sns.scatterplot(x='generation_gwh_2015',y='capacity_mw',ax=axes[0,1],data=plant_database)\n",
    "\n",
    "# Checking generation growth in 2016\n",
    "sns.scatterplot(x='generation_gwh_2016',y='capacity_mw',ax=axes[1,0],data=plant_database)\n",
    "\n",
    "# Checking generation growth in 2017\n",
    "sns.scatterplot(x='generation_gwh_2017',y='capacity_mw',ax=axes[1,1],data=plant_database)\n",
    "plt.show()"
   ]
  },
  {
   "cell_type": "code",
   "execution_count": null,
   "id": "71f6eeac",
   "metadata": {},
   "outputs": [],
   "source": [
    "#Checking the pairwise relation between the features and label capacity in megawatt.\n",
    "sns.pairplot(plant_database)"
   ]
  },
  {
   "cell_type": "code",
   "execution_count": null,
   "id": "62f1690a",
   "metadata": {},
   "outputs": [],
   "source": [
    "#Encoding categorical data\n",
    "#plant_database.drop(columns=['name'],axis=1,inplace=True)\n",
    "#plant_database.drop(columns=['generation_data_source'],axis=1,inplace=True)\n",
    "#Category=['primary_fuel', 'other_fuel1', 'source', 'geolocation_source']\n"
   ]
  },
  {
   "cell_type": "code",
   "execution_count": null,
   "id": "da22d8d4",
   "metadata": {},
   "outputs": [],
   "source": [
    "# Using Label Encoder on categorical variable\n",
    "from sklearn.preprocessing import LabelEncoder\n",
    "le = LabelEncoder()\n",
    "for i in Category:\n",
    "    plant_database[i] = le.fit_transform(plant_database[i])\n",
    "plant_database.head()"
   ]
  },
  {
   "cell_type": "code",
   "execution_count": null,
   "id": "73ca7a4d",
   "metadata": {},
   "outputs": [],
   "source": [
    "# Identifying the outliers present in numerical columns using boxplot\n",
    "\n",
    "plt.figure(figsize=(20,25))\n",
    "plotnumber=1\n",
    "for col in Numerical:\n",
    "    if plotnumber<=9:\n",
    "        ax=plt.subplot(3,3,plotnumber)\n",
    "        sns.boxplot(plant_database[col],color='cyan')\n",
    "        plt.xlabel(col,fontsize=12)\n",
    "    plotnumber+=1\n",
    "plt.tight_layout()"
   ]
  },
  {
   "cell_type": "code",
   "execution_count": null,
   "id": "c36d7e36",
   "metadata": {},
   "outputs": [],
   "source": [
    "# Removal of unnessary columns\n",
    "plant_database.drop(columns=['source','geolocation_source'],axis=1,inplace=True)"
   ]
  },
  {
   "cell_type": "code",
   "execution_count": null,
   "id": "a2a6dc58",
   "metadata": {},
   "outputs": [],
   "source": [
    "plant_database_2=plant_database.copy"
   ]
  },
  {
   "cell_type": "code",
   "execution_count": null,
   "id": "b60d2f71",
   "metadata": {},
   "outputs": [],
   "source": [
    "plant_database_3=plant_database.copy()\n",
    "Q1 = plant_database_3.quantile(0)\n",
    "Q3= plant_database_3.quantile(0.85)\n",
    "IQR = Q3 - Q1\n",
    "print(IQR)"
   ]
  },
  {
   "cell_type": "code",
   "execution_count": null,
   "id": "d04fd221",
   "metadata": {},
   "outputs": [],
   "source": [
    "data = plant_database_3[~((plant_database_3 < (Q1 - 1.5 * IQR)) |(plant_database_3 > (Q3 + 1.5 * IQR))).any(axis=1)]\n",
    "print(data.shape)"
   ]
  },
  {
   "cell_type": "code",
   "execution_count": null,
   "id": "8439c61d",
   "metadata": {},
   "outputs": [],
   "source": [
    "#data loss\n",
    "print(\"\\033[1m\"+'Percentage Data Loss :'+\"\\033[0m\",((908-876)/876)*100,'%')"
   ]
  },
  {
   "cell_type": "code",
   "execution_count": null,
   "id": "a513d863",
   "metadata": {},
   "outputs": [],
   "source": [
    "#Correlation matrix\n",
    "plt.figure(figsize=(21,13))\n",
    "sns.heatmap(data.corr(), vmin=-1, vmax=1, annot=True, square=True, fmt='0.3f', annot_kws={'size':10}, cmap=\"cool\")\n",
    "plt.xticks(fontsize=12)\n",
    "plt.yticks(fontsize=12)\n",
    "plt.show()"
   ]
  },
  {
   "cell_type": "code",
   "execution_count": null,
   "id": "b1e35d5d",
   "metadata": {},
   "outputs": [],
   "source": []
  },
  {
   "cell_type": "code",
   "execution_count": null,
   "id": "03739501",
   "metadata": {},
   "outputs": [],
   "source": [
    "plt.figure(figsize=(14,7))\n",
    "data.corr()['capacity_mw'].sort_values(ascending=False).drop(['capacity_mw']).plot(kind='bar',color='c')\n",
    "plt.xlabel('Features',fontsize=10)\n",
    "plt.ylabel('Capacity',fontsize=10)\n",
    "plt.title('Correlation between capacity and features using bar plot',fontsize=20)\n",
    "plt.show()"
   ]
  },
  {
   "cell_type": "code",
   "execution_count": null,
   "id": "49e93b3b",
   "metadata": {},
   "outputs": [],
   "source": [
    "plt.figure(figsize=(14,7))\n",
    "data.corr()['primary_fuel'].sort_values(ascending=False).drop(['capacity_mw']).plot(kind='bar',color='c')\n",
    "plt.xlabel('Features',fontsize=10)\n",
    "plt.ylabel('primary_fuel',fontsize=10)\n",
    "plt.title('Correlation between primary_fuel and features using bar plot',fontsize=20)\n",
    "plt.show()"
   ]
  },
  {
   "cell_type": "code",
   "execution_count": null,
   "id": "25974a17",
   "metadata": {},
   "outputs": [],
   "source": [
    "#Skewness\n",
    "data.skew()"
   ]
  },
  {
   "cell_type": "code",
   "execution_count": null,
   "id": "ec014d29",
   "metadata": {},
   "outputs": [],
   "source": [
    "skew = ['longitude','other_fuel1','generation_gwh_2014','generation_gwh_2015','generation_gwh_2016','generation_gwh_2017','Power_plant_age']\n",
    "from sklearn.preprocessing import PowerTransformer\n",
    "scaler = PowerTransformer(method = 'yeo-johnson')"
   ]
  },
  {
   "cell_type": "code",
   "execution_count": null,
   "id": "c600bdff",
   "metadata": {},
   "outputs": [],
   "source": [
    "data[skew] = scaler.fit_transform(data[skew].values)\n",
    "data[skew].head()"
   ]
  },
  {
   "cell_type": "code",
   "execution_count": null,
   "id": "3dcdcb1d",
   "metadata": {},
   "outputs": [],
   "source": [
    "# checking skewness after using yeo-johnson\n",
    "data.skew()"
   ]
  },
  {
   "cell_type": "code",
   "execution_count": null,
   "id": "a524c71b",
   "metadata": {},
   "outputs": [],
   "source": [
    "# We will drop other fuel as result of poor correlation and lot of missing values\n",
    "data.drop(\"other_fuel1\",axis=1,inplace=True)"
   ]
  },
  {
   "cell_type": "code",
   "execution_count": null,
   "id": "9338d17a",
   "metadata": {},
   "outputs": [],
   "source": [
    "# Missing Value Imputation of latitude with mean\n",
    "data['Power_plant_age'] = data['Power_plant_age'].fillna(data['Power_plant_age'].mean())"
   ]
  },
  {
   "cell_type": "code",
   "execution_count": null,
   "id": "241c2763",
   "metadata": {},
   "outputs": [],
   "source": [
    "data.drop(\"generation_gwh_2014\",axis=1,inplace=True)\n",
    "data.drop(\"generation_gwh_2015\",axis=1,inplace=True)\n",
    "data.drop(\"generation_gwh_2016\",axis=1,inplace=True)\n",
    "data.drop(\"generation_gwh_2017\",axis=1,inplace=True)"
   ]
  },
  {
   "cell_type": "code",
   "execution_count": null,
   "id": "2263d6b6",
   "metadata": {},
   "outputs": [],
   "source": [
    "from sklearn.model_selection import train_test_split\n",
    "from sklearn.linear_model import LogisticRegression\n",
    "from sklearn.naive_bayes import MultinomialNB\n",
    "from sklearn.svm import SVC\n",
    "from sklearn.tree import DecisionTreeClassifier\n",
    "from sklearn.neighbors import KNeighborsClassifier\n",
    "from sklearn.ensemble import RandomForestClassifier\n",
    "from sklearn.ensemble import ExtraTreesClassifier\n",
    "from sklearn.neighbors import KNeighborsClassifier\n",
    "from sklearn.metrics import accuracy_score, confusion_matrix,classification_report,f1_score"
   ]
  },
  {
   "cell_type": "code",
   "execution_count": null,
   "id": "c136b551",
   "metadata": {},
   "outputs": [],
   "source": [
    "# Splitting data in target and dependent feature\n",
    "X = data.drop(['primary_fuel'], axis =1)\n",
    "Y = data['primary_fuel']"
   ]
  },
  {
   "cell_type": "code",
   "execution_count": null,
   "id": "7571e595",
   "metadata": {},
   "outputs": [],
   "source": [
    "#Balanceing Imbalanced target feature\n",
    "data.primary_fuel.value_counts()"
   ]
  },
  {
   "cell_type": "code",
   "execution_count": null,
   "id": "3f2e2849",
   "metadata": {},
   "outputs": [],
   "source": [
    "#rom sklearn.preprocessing import StandardScaler\n",
    "#caler= StandardScaler()\n",
    "#_scale = scaler.fit_transform(X)"
   ]
  },
  {
   "cell_type": "code",
   "execution_count": null,
   "id": "7340105d",
   "metadata": {},
   "outputs": [],
   "source": [
    "X_train, X_test, Y_train, Y_test = train_test_split(X, Y, random_state=99, test_size=.3)\n",
    "print('Training feature matrix size:',X_train.shape)\n",
    "print('Training target vector size:',Y_train.shape)\n",
    "print('Test feature matrix size:',X_test.shape)\n",
    "print('Test target vector size:',Y_test.shape)"
   ]
  },
  {
   "cell_type": "code",
   "execution_count": null,
   "id": "d9b5dce9",
   "metadata": {},
   "outputs": [],
   "source": [
    "#Finding best Random state\n",
    "from sklearn.linear_model import LogisticRegression\n",
    "from sklearn.metrics import accuracy_score, confusion_matrix,classification_report,f1_score\n",
    "maxAccu=0\n",
    "maxRS=0\n",
    "for i in range(1,1000):\n",
    "    X_train,X_test,Y_train,Y_test = train_test_split(X,Y,test_size = 0.3, random_state=i)\n",
    "    log_reg=LogisticRegression()\n",
    "    log_reg.fit(X_train,Y_train)\n",
    "    y_pred=log_reg.predict(X_test)\n",
    "    acc=accuracy_score(Y_test,y_pred)\n",
    "    if acc>maxAccu:\n",
    "        maxAccu=acc\n",
    "        maxRS=i\n",
    "print('Best accuracy is', maxAccu ,'on Random_state', maxRS)"
   ]
  },
  {
   "cell_type": "code",
   "execution_count": null,
   "id": "197ae1ff",
   "metadata": {},
   "outputs": [],
   "source": [
    "#Logistics Regression Model\n",
    "X_train, X_test, Y_train, Y_test = train_test_split(X, Y, random_state=737, test_size=.3)\n",
    "log_reg=LogisticRegression()\n",
    "log_reg.fit(X_train,Y_train)\n",
    "y_pred=log_reg.predict(X_test)\n",
    "print('\\033[1m'+'Logistics Regression Evaluation'+'\\033[0m')\n",
    "print('\\n')\n",
    "print('\\033[1m'+'Accuracy Score of Logistics Regression :'+'\\033[0m', accuracy_score(Y_test, y_pred))\n",
    "print('\\n')\n",
    "print('\\033[1m'+'Confusion matrix of Logistics Regression :'+'\\033[0m \\n',confusion_matrix(Y_test, y_pred))\n",
    "print('\\n')\n",
    "print('\\033[1m'+'classification Report of Logistics Regression'+'\\033[0m \\n',classification_report(Y_test, y_pred))"
   ]
  },
  {
   "cell_type": "code",
   "execution_count": null,
   "id": "a1669101",
   "metadata": {},
   "outputs": [],
   "source": [
    "#Decision Tree Classifier\n",
    "X_train, X_test, Y_train, Y_test = train_test_split(X, Y, random_state=737, test_size=.3)\n",
    "dtc=DecisionTreeClassifier()\n",
    "dtc.fit(X_train,Y_train)\n",
    "y_pred=dtc.predict(X_test)\n",
    "print('\\033[1m'+'DecisionTreeClassifier Evaluation'+'\\033[0m')\n",
    "print('\\n')\n",
    "print('\\033[1m'+'Accuracy Score of DecisionTreeClassifier :'+'\\033[0m', accuracy_score(Y_test, y_pred))\n",
    "print('\\n')\n",
    "print('\\033[1m'+'Confusion matrix of DecisionTreeClassifier :'+'\\033[0m \\n',confusion_matrix(Y_test, y_pred))\n",
    "print('\\n')\n",
    "print('\\033[1m'+'classification Report of DecisionTreeClassifier'+'\\033[0m \\n',classification_report(Y_test, y_pred))"
   ]
  },
  {
   "cell_type": "code",
   "execution_count": null,
   "id": "4f67425d",
   "metadata": {},
   "outputs": [],
   "source": [
    "#Random Forest Classifier\n",
    "X_train, X_test, Y_train, Y_test = train_test_split(X, Y, random_state=737, test_size=.3)\n",
    "rfc=RandomForestClassifier()\n",
    "rfc.fit(X_train,Y_train)\n",
    "y_pred=rfc.predict(X_test)\n",
    "print('\\033[1m'+'RandomForestClassifier Evaluation'+'\\033[0m')\n",
    "print('\\n')\n",
    "print('\\033[1m'+'Accuracy Score of RandomForestClassifier :'+'\\033[0m', accuracy_score(Y_test, y_pred))\n",
    "print('\\n')\n",
    "print('\\033[1m'+'Confusion matrix of RandomForestClassifier :'+'\\033[0m \\n',confusion_matrix(Y_test, y_pred))\n",
    "print('\\n')\n",
    "print('\\033[1m'+'classification Report of RandomForestClassifier'+'\\033[0m \\n',classification_report(Y_test, y_pred))"
   ]
  },
  {
   "cell_type": "code",
   "execution_count": null,
   "id": "4e48c455",
   "metadata": {},
   "outputs": [],
   "source": [
    "#Crossvalidation\n",
    "from sklearn.model_selection import cross_val_score\n",
    "model=[LogisticRegression(),\n",
    "       DecisionTreeClassifier(),\n",
    "        RandomForestClassifier(),\n",
    "        ExtraTreesClassifier()]\n",
    "\n",
    "for m in model:\n",
    "    score = cross_val_score(m, X_scale, Y, cv =5)\n",
    "    print('\\n')\n",
    "    print('\\033[1m'+'Cross Validation Score', m, ':'+'\\033[0m\\n')\n",
    "    print(\"Score :\" ,score)\n",
    "    print(\"Mean Score :\",score.mean())\n",
    "    print(\"Std deviation :\",score.std())\n",
    "    print('\\n')\n",
    "    print('============================================================================================================')"
   ]
  },
  {
   "cell_type": "code",
   "execution_count": null,
   "id": "2df9c4a7",
   "metadata": {},
   "outputs": [],
   "source": []
  }
 ],
 "metadata": {
  "kernelspec": {
   "display_name": "Python 3 (ipykernel)",
   "language": "python",
   "name": "python3"
  },
  "language_info": {
   "codemirror_mode": {
    "name": "ipython",
    "version": 3
   },
   "file_extension": ".py",
   "mimetype": "text/x-python",
   "name": "python",
   "nbconvert_exporter": "python",
   "pygments_lexer": "ipython3",
   "version": "3.9.13"
  }
 },
 "nbformat": 4,
 "nbformat_minor": 5
}
